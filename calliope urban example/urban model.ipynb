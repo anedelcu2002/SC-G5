{
 "cells": [
  {
   "cell_type": "markdown",
   "id": "0f8d8a87",
   "metadata": {},
   "source": [
    "# Running the urban scale example model\n",
    "This notebook will show you how to load, build, solve, and examine the results of the urban scale example model."
   ]
  },
  {
   "cell_type": "code",
   "execution_count": 1,
   "id": "975c137d",
   "metadata": {},
   "outputs": [],
   "source": [
    "import pandas as pd\n",
    "import plotly.express as px\n",
    "\n",
    "import calliope\n",
    "\n",
    "# We increase logging verbosity\n",
    "calliope.set_log_verbosity(\"INFO\", include_solver_output=False)"
   ]
  },
  {
   "cell_type": "markdown",
   "id": "7c348fb0",
   "metadata": {},
   "source": [
    "## Load model and examine inputs"
   ]
  },
  {
   "cell_type": "code",
   "execution_count": 2,
   "id": "b29dce5f",
   "metadata": {},
   "outputs": [
    {
     "name": "stdout",
     "output_type": "stream",
     "text": [
      "[2025-10-09 13:04:17] INFO     Math init | loading pre-defined math.\n",
      "[2025-10-09 13:04:17] INFO     Math init | loading math files {'base', 'storage_inter_cluster', 'milp', 'additional_math', 'spores', 'operate'}.\n",
      "[2025-10-09 13:04:18] INFO     Model: preprocessing data\n",
      "[2025-10-09 13:04:18] INFO     Math build | building applied math with ['base', 'additional_math'].\n",
      "[2025-10-09 13:04:19] INFO     input data `color` not defined in model math; it will not be available in the optimisation problem.\n",
      "[2025-10-09 13:04:19] INFO     input data `name` not defined in model math; it will not be available in the optimisation problem.\n",
      "[2025-10-09 13:04:20] INFO     input data `color` not defined in model math; it will not be available in the optimisation problem.\n",
      "[2025-10-09 13:04:20] INFO     input data `name` not defined in model math; it will not be available in the optimisation problem.\n",
      "[2025-10-09 13:04:20] INFO     Model: initialisation complete\n"
     ]
    }
   ],
   "source": [
    "model = calliope.read_yaml(\"model.yaml\")"
   ]
  },
  {
   "cell_type": "markdown",
   "id": "7ceb1cb0",
   "metadata": {},
   "source": [
    "Model inputs can be viewed at `model.inputs`.\n",
    "Variables are indexed over any combination of `techs`, `nodes`, `carriers`, `costs` and `timesteps`."
   ]
  },
  {
   "cell_type": "code",
   "execution_count": 3,
   "id": "18048b28",
   "metadata": {},
   "outputs": [
    {
     "data": {
      "text/html": [
       "<div><svg style=\"position: absolute; width: 0; height: 0; overflow: hidden\">\n",
       "<defs>\n",
       "<symbol id=\"icon-database\" viewBox=\"0 0 32 32\">\n",
       "<path d=\"M16 0c-8.837 0-16 2.239-16 5v4c0 2.761 7.163 5 16 5s16-2.239 16-5v-4c0-2.761-7.163-5-16-5z\"></path>\n",
       "<path d=\"M16 17c-8.837 0-16-2.239-16-5v6c0 2.761 7.163 5 16 5s16-2.239 16-5v-6c0 2.761-7.163 5-16 5z\"></path>\n",
       "<path d=\"M16 26c-8.837 0-16-2.239-16-5v6c0 2.761 7.163 5 16 5s16-2.239 16-5v-6c0 2.761-7.163 5-16 5z\"></path>\n",
       "</symbol>\n",
       "<symbol id=\"icon-file-text2\" viewBox=\"0 0 32 32\">\n",
       "<path d=\"M28.681 7.159c-0.694-0.947-1.662-2.053-2.724-3.116s-2.169-2.030-3.116-2.724c-1.612-1.182-2.393-1.319-2.841-1.319h-15.5c-1.378 0-2.5 1.121-2.5 2.5v27c0 1.378 1.122 2.5 2.5 2.5h23c1.378 0 2.5-1.122 2.5-2.5v-19.5c0-0.448-0.137-1.23-1.319-2.841zM24.543 5.457c0.959 0.959 1.712 1.825 2.268 2.543h-4.811v-4.811c0.718 0.556 1.584 1.309 2.543 2.268zM28 29.5c0 0.271-0.229 0.5-0.5 0.5h-23c-0.271 0-0.5-0.229-0.5-0.5v-27c0-0.271 0.229-0.5 0.5-0.5 0 0 15.499-0 15.5 0v7c0 0.552 0.448 1 1 1h7v19.5z\"></path>\n",
       "<path d=\"M23 26h-14c-0.552 0-1-0.448-1-1s0.448-1 1-1h14c0.552 0 1 0.448 1 1s-0.448 1-1 1z\"></path>\n",
       "<path d=\"M23 22h-14c-0.552 0-1-0.448-1-1s0.448-1 1-1h14c0.552 0 1 0.448 1 1s-0.448 1-1 1z\"></path>\n",
       "<path d=\"M23 18h-14c-0.552 0-1-0.448-1-1s0.448-1 1-1h14c0.552 0 1 0.448 1 1s-0.448 1-1 1z\"></path>\n",
       "</symbol>\n",
       "</defs>\n",
       "</svg>\n",
       "<style>/* CSS stylesheet for displaying xarray objects in jupyterlab.\n",
       " *\n",
       " */\n",
       "\n",
       ":root {\n",
       "  --xr-font-color0: var(--jp-content-font-color0, rgba(0, 0, 0, 1));\n",
       "  --xr-font-color2: var(--jp-content-font-color2, rgba(0, 0, 0, 0.54));\n",
       "  --xr-font-color3: var(--jp-content-font-color3, rgba(0, 0, 0, 0.38));\n",
       "  --xr-border-color: var(--jp-border-color2, #e0e0e0);\n",
       "  --xr-disabled-color: var(--jp-layout-color3, #bdbdbd);\n",
       "  --xr-background-color: var(--jp-layout-color0, white);\n",
       "  --xr-background-color-row-even: var(--jp-layout-color1, white);\n",
       "  --xr-background-color-row-odd: var(--jp-layout-color2, #eeeeee);\n",
       "}\n",
       "\n",
       "html[theme=dark],\n",
       "body[data-theme=dark],\n",
       "body.vscode-dark {\n",
       "  --xr-font-color0: rgba(255, 255, 255, 1);\n",
       "  --xr-font-color2: rgba(255, 255, 255, 0.54);\n",
       "  --xr-font-color3: rgba(255, 255, 255, 0.38);\n",
       "  --xr-border-color: #1F1F1F;\n",
       "  --xr-disabled-color: #515151;\n",
       "  --xr-background-color: #111111;\n",
       "  --xr-background-color-row-even: #111111;\n",
       "  --xr-background-color-row-odd: #313131;\n",
       "}\n",
       "\n",
       ".xr-wrap {\n",
       "  display: block !important;\n",
       "  min-width: 300px;\n",
       "  max-width: 700px;\n",
       "}\n",
       "\n",
       ".xr-text-repr-fallback {\n",
       "  /* fallback to plain text repr when CSS is not injected (untrusted notebook) */\n",
       "  display: none;\n",
       "}\n",
       "\n",
       ".xr-header {\n",
       "  padding-top: 6px;\n",
       "  padding-bottom: 6px;\n",
       "  margin-bottom: 4px;\n",
       "  border-bottom: solid 1px var(--xr-border-color);\n",
       "}\n",
       "\n",
       ".xr-header > div,\n",
       ".xr-header > ul {\n",
       "  display: inline;\n",
       "  margin-top: 0;\n",
       "  margin-bottom: 0;\n",
       "}\n",
       "\n",
       ".xr-obj-type,\n",
       ".xr-array-name {\n",
       "  margin-left: 2px;\n",
       "  margin-right: 10px;\n",
       "}\n",
       "\n",
       ".xr-obj-type {\n",
       "  color: var(--xr-font-color2);\n",
       "}\n",
       "\n",
       ".xr-sections {\n",
       "  padding-left: 0 !important;\n",
       "  display: grid;\n",
       "  grid-template-columns: 150px auto auto 1fr 20px 20px;\n",
       "}\n",
       "\n",
       ".xr-section-item {\n",
       "  display: contents;\n",
       "}\n",
       "\n",
       ".xr-section-item input {\n",
       "  display: none;\n",
       "}\n",
       "\n",
       ".xr-section-item input + label {\n",
       "  color: var(--xr-disabled-color);\n",
       "}\n",
       "\n",
       ".xr-section-item input:enabled + label {\n",
       "  cursor: pointer;\n",
       "  color: var(--xr-font-color2);\n",
       "}\n",
       "\n",
       ".xr-section-item input:enabled + label:hover {\n",
       "  color: var(--xr-font-color0);\n",
       "}\n",
       "\n",
       ".xr-section-summary {\n",
       "  grid-column: 1;\n",
       "  color: var(--xr-font-color2);\n",
       "  font-weight: 500;\n",
       "}\n",
       "\n",
       ".xr-section-summary > span {\n",
       "  display: inline-block;\n",
       "  padding-left: 0.5em;\n",
       "}\n",
       "\n",
       ".xr-section-summary-in:disabled + label {\n",
       "  color: var(--xr-font-color2);\n",
       "}\n",
       "\n",
       ".xr-section-summary-in + label:before {\n",
       "  display: inline-block;\n",
       "  content: '►';\n",
       "  font-size: 11px;\n",
       "  width: 15px;\n",
       "  text-align: center;\n",
       "}\n",
       "\n",
       ".xr-section-summary-in:disabled + label:before {\n",
       "  color: var(--xr-disabled-color);\n",
       "}\n",
       "\n",
       ".xr-section-summary-in:checked + label:before {\n",
       "  content: '▼';\n",
       "}\n",
       "\n",
       ".xr-section-summary-in:checked + label > span {\n",
       "  display: none;\n",
       "}\n",
       "\n",
       ".xr-section-summary,\n",
       ".xr-section-inline-details {\n",
       "  padding-top: 4px;\n",
       "  padding-bottom: 4px;\n",
       "}\n",
       "\n",
       ".xr-section-inline-details {\n",
       "  grid-column: 2 / -1;\n",
       "}\n",
       "\n",
       ".xr-section-details {\n",
       "  display: none;\n",
       "  grid-column: 1 / -1;\n",
       "  margin-bottom: 5px;\n",
       "}\n",
       "\n",
       ".xr-section-summary-in:checked ~ .xr-section-details {\n",
       "  display: contents;\n",
       "}\n",
       "\n",
       ".xr-array-wrap {\n",
       "  grid-column: 1 / -1;\n",
       "  display: grid;\n",
       "  grid-template-columns: 20px auto;\n",
       "}\n",
       "\n",
       ".xr-array-wrap > label {\n",
       "  grid-column: 1;\n",
       "  vertical-align: top;\n",
       "}\n",
       "\n",
       ".xr-preview {\n",
       "  color: var(--xr-font-color3);\n",
       "}\n",
       "\n",
       ".xr-array-preview,\n",
       ".xr-array-data {\n",
       "  padding: 0 5px !important;\n",
       "  grid-column: 2;\n",
       "}\n",
       "\n",
       ".xr-array-data,\n",
       ".xr-array-in:checked ~ .xr-array-preview {\n",
       "  display: none;\n",
       "}\n",
       "\n",
       ".xr-array-in:checked ~ .xr-array-data,\n",
       ".xr-array-preview {\n",
       "  display: inline-block;\n",
       "}\n",
       "\n",
       ".xr-dim-list {\n",
       "  display: inline-block !important;\n",
       "  list-style: none;\n",
       "  padding: 0 !important;\n",
       "  margin: 0;\n",
       "}\n",
       "\n",
       ".xr-dim-list li {\n",
       "  display: inline-block;\n",
       "  padding: 0;\n",
       "  margin: 0;\n",
       "}\n",
       "\n",
       ".xr-dim-list:before {\n",
       "  content: '(';\n",
       "}\n",
       "\n",
       ".xr-dim-list:after {\n",
       "  content: ')';\n",
       "}\n",
       "\n",
       ".xr-dim-list li:not(:last-child):after {\n",
       "  content: ',';\n",
       "  padding-right: 5px;\n",
       "}\n",
       "\n",
       ".xr-has-index {\n",
       "  font-weight: bold;\n",
       "}\n",
       "\n",
       ".xr-var-list,\n",
       ".xr-var-item {\n",
       "  display: contents;\n",
       "}\n",
       "\n",
       ".xr-var-item > div,\n",
       ".xr-var-item label,\n",
       ".xr-var-item > .xr-var-name span {\n",
       "  background-color: var(--xr-background-color-row-even);\n",
       "  margin-bottom: 0;\n",
       "}\n",
       "\n",
       ".xr-var-item > .xr-var-name:hover span {\n",
       "  padding-right: 5px;\n",
       "}\n",
       "\n",
       ".xr-var-list > li:nth-child(odd) > div,\n",
       ".xr-var-list > li:nth-child(odd) > label,\n",
       ".xr-var-list > li:nth-child(odd) > .xr-var-name span {\n",
       "  background-color: var(--xr-background-color-row-odd);\n",
       "}\n",
       "\n",
       ".xr-var-name {\n",
       "  grid-column: 1;\n",
       "}\n",
       "\n",
       ".xr-var-dims {\n",
       "  grid-column: 2;\n",
       "}\n",
       "\n",
       ".xr-var-dtype {\n",
       "  grid-column: 3;\n",
       "  text-align: right;\n",
       "  color: var(--xr-font-color2);\n",
       "}\n",
       "\n",
       ".xr-var-preview {\n",
       "  grid-column: 4;\n",
       "}\n",
       "\n",
       ".xr-index-preview {\n",
       "  grid-column: 2 / 5;\n",
       "  color: var(--xr-font-color2);\n",
       "}\n",
       "\n",
       ".xr-var-name,\n",
       ".xr-var-dims,\n",
       ".xr-var-dtype,\n",
       ".xr-preview,\n",
       ".xr-attrs dt {\n",
       "  white-space: nowrap;\n",
       "  overflow: hidden;\n",
       "  text-overflow: ellipsis;\n",
       "  padding-right: 10px;\n",
       "}\n",
       "\n",
       ".xr-var-name:hover,\n",
       ".xr-var-dims:hover,\n",
       ".xr-var-dtype:hover,\n",
       ".xr-attrs dt:hover {\n",
       "  overflow: visible;\n",
       "  width: auto;\n",
       "  z-index: 1;\n",
       "}\n",
       "\n",
       ".xr-var-attrs,\n",
       ".xr-var-data,\n",
       ".xr-index-data {\n",
       "  display: none;\n",
       "  background-color: var(--xr-background-color) !important;\n",
       "  padding-bottom: 5px !important;\n",
       "}\n",
       "\n",
       ".xr-var-attrs-in:checked ~ .xr-var-attrs,\n",
       ".xr-var-data-in:checked ~ .xr-var-data,\n",
       ".xr-index-data-in:checked ~ .xr-index-data {\n",
       "  display: block;\n",
       "}\n",
       "\n",
       ".xr-var-data > table {\n",
       "  float: right;\n",
       "}\n",
       "\n",
       ".xr-var-name span,\n",
       ".xr-var-data,\n",
       ".xr-index-name div,\n",
       ".xr-index-data,\n",
       ".xr-attrs {\n",
       "  padding-left: 25px !important;\n",
       "}\n",
       "\n",
       ".xr-attrs,\n",
       ".xr-var-attrs,\n",
       ".xr-var-data,\n",
       ".xr-index-data {\n",
       "  grid-column: 1 / -1;\n",
       "}\n",
       "\n",
       "dl.xr-attrs {\n",
       "  padding: 0;\n",
       "  margin: 0;\n",
       "  display: grid;\n",
       "  grid-template-columns: 125px auto;\n",
       "}\n",
       "\n",
       ".xr-attrs dt,\n",
       ".xr-attrs dd {\n",
       "  padding: 0;\n",
       "  margin: 0;\n",
       "  float: left;\n",
       "  padding-right: 10px;\n",
       "  width: auto;\n",
       "}\n",
       "\n",
       ".xr-attrs dt {\n",
       "  font-weight: normal;\n",
       "  grid-column: 1;\n",
       "}\n",
       "\n",
       ".xr-attrs dt:hover span {\n",
       "  display: inline-block;\n",
       "  background: var(--xr-background-color);\n",
       "  padding-right: 10px;\n",
       "}\n",
       "\n",
       ".xr-attrs dd {\n",
       "  grid-column: 2;\n",
       "  white-space: pre-wrap;\n",
       "  word-break: break-all;\n",
       "}\n",
       "\n",
       ".xr-icon-database,\n",
       ".xr-icon-file-text2,\n",
       ".xr-no-icon {\n",
       "  display: inline-block;\n",
       "  vertical-align: middle;\n",
       "  width: 1em;\n",
       "  height: 1.5em !important;\n",
       "  stroke-width: 0;\n",
       "  stroke: currentColor;\n",
       "  fill: currentColor;\n",
       "}\n",
       "</style><pre class='xr-text-repr-fallback'>&lt;xarray.Dataset&gt; Size: 86kB\n",
       "Dimensions:                     (costs: 1, techs: 12, carriers: 3, nodes: 4,\n",
       "                                 timesteps: 48)\n",
       "Coordinates:\n",
       "  * costs                       (costs) object 8B &#x27;monetary&#x27;\n",
       "  * techs                       (techs) object 96B &#x27;N1_to_X2&#x27; ... &#x27;supply_gri...\n",
       "  * carriers                    (carriers) object 24B &#x27;electricity&#x27; &#x27;gas&#x27; &#x27;heat&#x27;\n",
       "  * nodes                       (nodes) object 32B &#x27;N1&#x27; &#x27;X1&#x27; &#x27;X2&#x27; &#x27;X3&#x27;\n",
       "  * timesteps                   (timesteps) datetime64[ns] 384B 2005-07-01 .....\n",
       "Data variables: (12/34)\n",
       "    cost_interest_rate          (costs) float64 8B 0.1\n",
       "    bigM                        float64 8B 1e+06\n",
       "    objective_cost_weights      (costs) float64 8B 1.0\n",
       "    base_tech                   (techs) object 96B &#x27;transmission&#x27; ... &#x27;supply&#x27;\n",
       "    carrier_export              (techs, carriers) bool 36B False False ... False\n",
       "    carrier_in                  (nodes, techs, carriers) bool 144B False ... ...\n",
       "    ...                          ...\n",
       "    longitude                   (nodes) float64 32B -0.1247 -0.1613 ... -0.1311\n",
       "    source_use_equals           (techs, timesteps) float64 5kB nan nan ... nan\n",
       "    sink_use_equals             (timesteps, techs, nodes) float64 18kB nan .....\n",
       "    definition_matrix           (nodes, techs, carriers) bool 144B False ... ...\n",
       "    timestep_resolution         (timesteps) float64 384B 1.0 1.0 1.0 ... 1.0 1.0\n",
       "    timestep_weights            (timesteps) float64 384B 1.0 1.0 1.0 ... 1.0 1.0</pre><div class='xr-wrap' style='display:none'><div class='xr-header'><div class='xr-obj-type'>xarray.Dataset</div></div><ul class='xr-sections'><li class='xr-section-item'><input id='section-007c5e26-17ed-4a38-90bd-74c0552b6cd0' class='xr-section-summary-in' type='checkbox' disabled ><label for='section-007c5e26-17ed-4a38-90bd-74c0552b6cd0' class='xr-section-summary'  title='Expand/collapse section'>Dimensions:</label><div class='xr-section-inline-details'><ul class='xr-dim-list'><li><span class='xr-has-index'>costs</span>: 1</li><li><span class='xr-has-index'>techs</span>: 12</li><li><span class='xr-has-index'>carriers</span>: 3</li><li><span class='xr-has-index'>nodes</span>: 4</li><li><span class='xr-has-index'>timesteps</span>: 48</li></ul></div><div class='xr-section-details'></div></li><li class='xr-section-item'><input id='section-35d00a38-a348-4bba-941f-95e4189e2577' class='xr-section-summary-in' type='checkbox'  checked><label for='section-35d00a38-a348-4bba-941f-95e4189e2577' class='xr-section-summary' >Coordinates: <span>(5)</span></label><div class='xr-section-inline-details'></div><div class='xr-section-details'><ul class='xr-var-list'><li class='xr-var-item'><div class='xr-var-name'><span class='xr-has-index'>costs</span></div><div class='xr-var-dims'>(costs)</div><div class='xr-var-dtype'>object</div><div class='xr-var-preview xr-preview'>&#x27;monetary&#x27;</div><input id='attrs-7c4acea7-d1c4-404a-a324-7481649f767b' class='xr-var-attrs-in' type='checkbox' disabled><label for='attrs-7c4acea7-d1c4-404a-a324-7481649f767b' title='Show/Hide attributes'><svg class='icon xr-icon-file-text2'><use xlink:href='#icon-file-text2'></use></svg></label><input id='data-812d9777-3f05-4697-9639-c633f150147e' class='xr-var-data-in' type='checkbox'><label for='data-812d9777-3f05-4697-9639-c633f150147e' title='Show/Hide data repr'><svg class='icon xr-icon-database'><use xlink:href='#icon-database'></use></svg></label><div class='xr-var-attrs'><dl class='xr-attrs'></dl></div><div class='xr-var-data'><pre>array([&#x27;monetary&#x27;], dtype=object)</pre></div></li><li class='xr-var-item'><div class='xr-var-name'><span class='xr-has-index'>techs</span></div><div class='xr-var-dims'>(techs)</div><div class='xr-var-dtype'>object</div><div class='xr-var-preview xr-preview'>&#x27;N1_to_X2&#x27; ... &#x27;supply_grid_power&#x27;</div><input id='attrs-5e84c7f8-3511-43cf-8946-dfeea30554b3' class='xr-var-attrs-in' type='checkbox' disabled><label for='attrs-5e84c7f8-3511-43cf-8946-dfeea30554b3' title='Show/Hide attributes'><svg class='icon xr-icon-file-text2'><use xlink:href='#icon-file-text2'></use></svg></label><input id='data-d0583c5e-2492-4fb6-ba71-6262faa17e1c' class='xr-var-data-in' type='checkbox'><label for='data-d0583c5e-2492-4fb6-ba71-6262faa17e1c' title='Show/Hide data repr'><svg class='icon xr-icon-database'><use xlink:href='#icon-database'></use></svg></label><div class='xr-var-attrs'><dl class='xr-attrs'></dl></div><div class='xr-var-data'><pre>array([&#x27;N1_to_X2&#x27;, &#x27;N1_to_X3&#x27;, &#x27;X1_to_N1&#x27;, &#x27;X1_to_X2&#x27;, &#x27;X1_to_X3&#x27;, &#x27;boiler&#x27;,\n",
       "       &#x27;chp&#x27;, &#x27;demand_electricity&#x27;, &#x27;demand_heat&#x27;, &#x27;pv&#x27;, &#x27;supply_gas&#x27;,\n",
       "       &#x27;supply_grid_power&#x27;], dtype=object)</pre></div></li><li class='xr-var-item'><div class='xr-var-name'><span class='xr-has-index'>carriers</span></div><div class='xr-var-dims'>(carriers)</div><div class='xr-var-dtype'>object</div><div class='xr-var-preview xr-preview'>&#x27;electricity&#x27; &#x27;gas&#x27; &#x27;heat&#x27;</div><input id='attrs-cb319b7a-665e-4cdf-b28b-0d31d9e24548' class='xr-var-attrs-in' type='checkbox' disabled><label for='attrs-cb319b7a-665e-4cdf-b28b-0d31d9e24548' title='Show/Hide attributes'><svg class='icon xr-icon-file-text2'><use xlink:href='#icon-file-text2'></use></svg></label><input id='data-bdd01c9f-9dc3-4b5e-899f-59c8ac97e81d' class='xr-var-data-in' type='checkbox'><label for='data-bdd01c9f-9dc3-4b5e-899f-59c8ac97e81d' title='Show/Hide data repr'><svg class='icon xr-icon-database'><use xlink:href='#icon-database'></use></svg></label><div class='xr-var-attrs'><dl class='xr-attrs'></dl></div><div class='xr-var-data'><pre>array([&#x27;electricity&#x27;, &#x27;gas&#x27;, &#x27;heat&#x27;], dtype=object)</pre></div></li><li class='xr-var-item'><div class='xr-var-name'><span class='xr-has-index'>nodes</span></div><div class='xr-var-dims'>(nodes)</div><div class='xr-var-dtype'>object</div><div class='xr-var-preview xr-preview'>&#x27;N1&#x27; &#x27;X1&#x27; &#x27;X2&#x27; &#x27;X3&#x27;</div><input id='attrs-14fa72b3-c711-40ef-be95-b3659e16838d' class='xr-var-attrs-in' type='checkbox' disabled><label for='attrs-14fa72b3-c711-40ef-be95-b3659e16838d' title='Show/Hide attributes'><svg class='icon xr-icon-file-text2'><use xlink:href='#icon-file-text2'></use></svg></label><input id='data-f6f7fb88-5ca2-411e-a901-8f03f3d53e60' class='xr-var-data-in' type='checkbox'><label for='data-f6f7fb88-5ca2-411e-a901-8f03f3d53e60' title='Show/Hide data repr'><svg class='icon xr-icon-database'><use xlink:href='#icon-database'></use></svg></label><div class='xr-var-attrs'><dl class='xr-attrs'></dl></div><div class='xr-var-data'><pre>array([&#x27;N1&#x27;, &#x27;X1&#x27;, &#x27;X2&#x27;, &#x27;X3&#x27;], dtype=object)</pre></div></li><li class='xr-var-item'><div class='xr-var-name'><span class='xr-has-index'>timesteps</span></div><div class='xr-var-dims'>(timesteps)</div><div class='xr-var-dtype'>datetime64[ns]</div><div class='xr-var-preview xr-preview'>2005-07-01 ... 2005-07-02T23:00:00</div><input id='attrs-29e9ccb6-9e9e-4c91-a417-133f9d6a27ee' class='xr-var-attrs-in' type='checkbox' disabled><label for='attrs-29e9ccb6-9e9e-4c91-a417-133f9d6a27ee' title='Show/Hide attributes'><svg class='icon xr-icon-file-text2'><use xlink:href='#icon-file-text2'></use></svg></label><input id='data-ebdef6e1-637e-4db1-b4a7-88284ded201d' class='xr-var-data-in' type='checkbox'><label for='data-ebdef6e1-637e-4db1-b4a7-88284ded201d' title='Show/Hide data repr'><svg class='icon xr-icon-database'><use xlink:href='#icon-database'></use></svg></label><div class='xr-var-attrs'><dl class='xr-attrs'></dl></div><div class='xr-var-data'><pre>array([&#x27;2005-07-01T00:00:00.000000000&#x27;, &#x27;2005-07-01T01:00:00.000000000&#x27;,\n",
       "       &#x27;2005-07-01T02:00:00.000000000&#x27;, &#x27;2005-07-01T03:00:00.000000000&#x27;,\n",
       "       &#x27;2005-07-01T04:00:00.000000000&#x27;, &#x27;2005-07-01T05:00:00.000000000&#x27;,\n",
       "       &#x27;2005-07-01T06:00:00.000000000&#x27;, &#x27;2005-07-01T07:00:00.000000000&#x27;,\n",
       "       &#x27;2005-07-01T08:00:00.000000000&#x27;, &#x27;2005-07-01T09:00:00.000000000&#x27;,\n",
       "       &#x27;2005-07-01T10:00:00.000000000&#x27;, &#x27;2005-07-01T11:00:00.000000000&#x27;,\n",
       "       &#x27;2005-07-01T12:00:00.000000000&#x27;, &#x27;2005-07-01T13:00:00.000000000&#x27;,\n",
       "       &#x27;2005-07-01T14:00:00.000000000&#x27;, &#x27;2005-07-01T15:00:00.000000000&#x27;,\n",
       "       &#x27;2005-07-01T16:00:00.000000000&#x27;, &#x27;2005-07-01T17:00:00.000000000&#x27;,\n",
       "       &#x27;2005-07-01T18:00:00.000000000&#x27;, &#x27;2005-07-01T19:00:00.000000000&#x27;,\n",
       "       &#x27;2005-07-01T20:00:00.000000000&#x27;, &#x27;2005-07-01T21:00:00.000000000&#x27;,\n",
       "       &#x27;2005-07-01T22:00:00.000000000&#x27;, &#x27;2005-07-01T23:00:00.000000000&#x27;,\n",
       "       &#x27;2005-07-02T00:00:00.000000000&#x27;, &#x27;2005-07-02T01:00:00.000000000&#x27;,\n",
       "       &#x27;2005-07-02T02:00:00.000000000&#x27;, &#x27;2005-07-02T03:00:00.000000000&#x27;,\n",
       "       &#x27;2005-07-02T04:00:00.000000000&#x27;, &#x27;2005-07-02T05:00:00.000000000&#x27;,\n",
       "       &#x27;2005-07-02T06:00:00.000000000&#x27;, &#x27;2005-07-02T07:00:00.000000000&#x27;,\n",
       "       &#x27;2005-07-02T08:00:00.000000000&#x27;, &#x27;2005-07-02T09:00:00.000000000&#x27;,\n",
       "       &#x27;2005-07-02T10:00:00.000000000&#x27;, &#x27;2005-07-02T11:00:00.000000000&#x27;,\n",
       "       &#x27;2005-07-02T12:00:00.000000000&#x27;, &#x27;2005-07-02T13:00:00.000000000&#x27;,\n",
       "       &#x27;2005-07-02T14:00:00.000000000&#x27;, &#x27;2005-07-02T15:00:00.000000000&#x27;,\n",
       "       &#x27;2005-07-02T16:00:00.000000000&#x27;, &#x27;2005-07-02T17:00:00.000000000&#x27;,\n",
       "       &#x27;2005-07-02T18:00:00.000000000&#x27;, &#x27;2005-07-02T19:00:00.000000000&#x27;,\n",
       "       &#x27;2005-07-02T20:00:00.000000000&#x27;, &#x27;2005-07-02T21:00:00.000000000&#x27;,\n",
       "       &#x27;2005-07-02T22:00:00.000000000&#x27;, &#x27;2005-07-02T23:00:00.000000000&#x27;],\n",
       "      dtype=&#x27;datetime64[ns]&#x27;)</pre></div></li></ul></div></li><li class='xr-section-item'><input id='section-49c4f8a9-fa20-4c99-83d6-8f7a66642e75' class='xr-section-summary-in' type='checkbox'  ><label for='section-49c4f8a9-fa20-4c99-83d6-8f7a66642e75' class='xr-section-summary' >Data variables: <span>(34)</span></label><div class='xr-section-inline-details'></div><div class='xr-section-details'><ul class='xr-var-list'><li class='xr-var-item'><div class='xr-var-name'><span>cost_interest_rate</span></div><div class='xr-var-dims'>(costs)</div><div class='xr-var-dtype'>float64</div><div class='xr-var-preview xr-preview'>0.1</div><input id='attrs-afefb019-30a8-4274-a900-ac95980365e1' class='xr-var-attrs-in' type='checkbox' ><label for='attrs-afefb019-30a8-4274-a900-ac95980365e1' title='Show/Hide attributes'><svg class='icon xr-icon-file-text2'><use xlink:href='#icon-file-text2'></use></svg></label><input id='data-3ece0744-7da2-4a8d-88ad-40b2a5860e76' class='xr-var-data-in' type='checkbox'><label for='data-3ece0744-7da2-4a8d-88ad-40b2a5860e76' title='Show/Hide data repr'><svg class='icon xr-icon-database'><use xlink:href='#icon-database'></use></svg></label><div class='xr-var-attrs'><dl class='xr-attrs'><dt><span>title :</span></dt><dd>Interest rate.</dd><dt><span>description :</span></dt><dd>Used when computing levelized costs and technology depreciation_rate (relative to lifetime).</dd><dt><span>default :</span></dt><dd>0</dd><dt><span>resample_method :</span></dt><dd>first</dd><dt><span>unit :</span></dt><dd>unitless</dd></dl></div><div class='xr-var-data'><pre>array([0.1])</pre></div></li><li class='xr-var-item'><div class='xr-var-name'><span>bigM</span></div><div class='xr-var-dims'>()</div><div class='xr-var-dtype'>float64</div><div class='xr-var-preview xr-preview'>1e+06</div><input id='attrs-5d655145-bab2-4ffc-9add-44720416e877' class='xr-var-attrs-in' type='checkbox' ><label for='attrs-5d655145-bab2-4ffc-9add-44720416e877' title='Show/Hide attributes'><svg class='icon xr-icon-file-text2'><use xlink:href='#icon-file-text2'></use></svg></label><input id='data-e71d69b4-e146-45fc-af74-aa8abc1f8b86' class='xr-var-data-in' type='checkbox'><label for='data-e71d69b4-e146-45fc-af74-aa8abc1f8b86' title='Show/Hide data repr'><svg class='icon xr-icon-database'><use xlink:href='#icon-database'></use></svg></label><div class='xr-var-attrs'><dl class='xr-attrs'><dt><span>title :</span></dt><dd>Big M</dd><dt><span>description :</span></dt><dd>BigM is a large value used to define certain optimisation problems. See https://en.wikipedia.org/wiki/Big_M_method for more information. This value should be larger than the largest values that any decision variables can take, but should not be **too** large (i.e., do not set it greater than 3 orders of magnitude above the numeric range of the model). If too large, numerical problems may arise in the optimisation.</dd><dt><span>default :</span></dt><dd>1000000.0</dd><dt><span>resample_method :</span></dt><dd>first</dd><dt><span>unit :</span></dt><dd>unitless</dd></dl></div><div class='xr-var-data'><pre>array(1000000.)</pre></div></li><li class='xr-var-item'><div class='xr-var-name'><span>objective_cost_weights</span></div><div class='xr-var-dims'>(costs)</div><div class='xr-var-dtype'>float64</div><div class='xr-var-preview xr-preview'>1.0</div><input id='attrs-d92381ad-7c77-4a31-a277-f931365de23e' class='xr-var-attrs-in' type='checkbox' ><label for='attrs-d92381ad-7c77-4a31-a277-f931365de23e' title='Show/Hide attributes'><svg class='icon xr-icon-file-text2'><use xlink:href='#icon-file-text2'></use></svg></label><input id='data-17c095b7-3081-41de-99c8-97adb229076d' class='xr-var-data-in' type='checkbox'><label for='data-17c095b7-3081-41de-99c8-97adb229076d' title='Show/Hide data repr'><svg class='icon xr-icon-database'><use xlink:href='#icon-database'></use></svg></label><div class='xr-var-attrs'><dl class='xr-attrs'><dt><span>title :</span></dt><dd>Objective cost class weights.</dd><dt><span>description :</span></dt><dd>Weightings for cost classes to apply in the objective function.</dd><dt><span>default :</span></dt><dd>1</dd><dt><span>resample_method :</span></dt><dd>first</dd><dt><span>unit :</span></dt><dd>unitless</dd></dl></div><div class='xr-var-data'><pre>array([1.])</pre></div></li><li class='xr-var-item'><div class='xr-var-name'><span>base_tech</span></div><div class='xr-var-dims'>(techs)</div><div class='xr-var-dtype'>object</div><div class='xr-var-preview xr-preview'>&#x27;transmission&#x27; ... &#x27;supply&#x27;</div><input id='attrs-20e5ee0e-c8df-4598-8b87-827ad6ed5f7c' class='xr-var-attrs-in' type='checkbox' ><label for='attrs-20e5ee0e-c8df-4598-8b87-827ad6ed5f7c' title='Show/Hide attributes'><svg class='icon xr-icon-file-text2'><use xlink:href='#icon-file-text2'></use></svg></label><input id='data-99bba521-235b-40fa-96ac-85634f0f0135' class='xr-var-data-in' type='checkbox'><label for='data-99bba521-235b-40fa-96ac-85634f0f0135' title='Show/Hide data repr'><svg class='icon xr-icon-database'><use xlink:href='#icon-database'></use></svg></label><div class='xr-var-attrs'><dl class='xr-attrs'><dt><span>title :</span></dt><dd>Abstract base technology name.</dd><dt><span>description :</span></dt><dd>Should be the name of one of the abstract base classes, from which some initial parameter defaults will be derived and with which certain base math will be triggered.</dd><dt><span>default :</span></dt><dd>nan</dd><dt><span>dtype :</span></dt><dd>string</dd><dt><span>resample_method :</span></dt><dd>first</dd><dt><span>one_of :</span></dt><dd>[&#x27;demand&#x27;, &#x27;supply&#x27;, &#x27;conversion&#x27;, &#x27;storage&#x27;, &#x27;transmission&#x27;]</dd><dt><span>pivot_values_to_dim :</span></dt><dd>None</dd></dl></div><div class='xr-var-data'><pre>array([&#x27;transmission&#x27;, &#x27;transmission&#x27;, &#x27;transmission&#x27;, &#x27;transmission&#x27;,\n",
       "       &#x27;transmission&#x27;, &#x27;conversion&#x27;, &#x27;conversion&#x27;, &#x27;demand&#x27;, &#x27;demand&#x27;,\n",
       "       &#x27;supply&#x27;, &#x27;supply&#x27;, &#x27;supply&#x27;], dtype=object)</pre></div></li><li class='xr-var-item'><div class='xr-var-name'><span>carrier_export</span></div><div class='xr-var-dims'>(techs, carriers)</div><div class='xr-var-dtype'>bool</div><div class='xr-var-preview xr-preview'>False False False ... False False</div><input id='attrs-19bceb66-dcb6-49ca-8673-ea94873a27f8' class='xr-var-attrs-in' type='checkbox' ><label for='attrs-19bceb66-dcb6-49ca-8673-ea94873a27f8' title='Show/Hide attributes'><svg class='icon xr-icon-file-text2'><use xlink:href='#icon-file-text2'></use></svg></label><input id='data-63e05048-5b98-48cb-b248-533dae808be4' class='xr-var-data-in' type='checkbox'><label for='data-63e05048-5b98-48cb-b248-533dae808be4' title='Show/Hide data repr'><svg class='icon xr-icon-database'><use xlink:href='#icon-database'></use></svg></label><div class='xr-var-attrs'><dl class='xr-attrs'><dt><span>title :</span></dt><dd></dd><dt><span>description :</span></dt><dd>Carrier(s) produced by this technology that can be exported out of the system boundaries without having to go to a pre-defined `sink` (i.e., via a `demand` technology). Must be a subset of `carrier_out`.</dd><dt><span>default :</span></dt><dd>False</dd><dt><span>dtype :</span></dt><dd>bool</dd><dt><span>resample_method :</span></dt><dd>first</dd><dt><span>one_of :</span></dt><dd>None</dd><dt><span>pivot_values_to_dim :</span></dt><dd>carriers</dd></dl></div><div class='xr-var-data'><pre>array([[False, False, False],\n",
       "       [False, False, False],\n",
       "       [False, False, False],\n",
       "       [False, False, False],\n",
       "       [False, False, False],\n",
       "       [False, False, False],\n",
       "       [ True, False, False],\n",
       "       [False, False, False],\n",
       "       [False, False, False],\n",
       "       [ True, False, False],\n",
       "       [False, False, False],\n",
       "       [False, False, False]])</pre></div></li><li class='xr-var-item'><div class='xr-var-name'><span>carrier_in</span></div><div class='xr-var-dims'>(nodes, techs, carriers)</div><div class='xr-var-dtype'>bool</div><div class='xr-var-preview xr-preview'>False False True ... False False</div><input id='attrs-449ea744-075a-41a3-b6a4-b98cc853b036' class='xr-var-attrs-in' type='checkbox' ><label for='attrs-449ea744-075a-41a3-b6a4-b98cc853b036' title='Show/Hide attributes'><svg class='icon xr-icon-file-text2'><use xlink:href='#icon-file-text2'></use></svg></label><input id='data-8039be25-98f5-4732-9099-9a4acdace8ef' class='xr-var-data-in' type='checkbox'><label for='data-8039be25-98f5-4732-9099-9a4acdace8ef' title='Show/Hide data repr'><svg class='icon xr-icon-database'><use xlink:href='#icon-database'></use></svg></label><div class='xr-var-attrs'><dl class='xr-attrs'><dt><span>title :</span></dt><dd></dd><dt><span>description :</span></dt><dd>Carrier(s) consumed by this technology. Only `transmission`, `conversion`, `storage`, and `demand` technologies can define this parameter</dd><dt><span>default :</span></dt><dd>False</dd><dt><span>dtype :</span></dt><dd>bool</dd><dt><span>resample_method :</span></dt><dd>first</dd><dt><span>one_of :</span></dt><dd>None</dd><dt><span>pivot_values_to_dim :</span></dt><dd>carriers</dd></dl></div><div class='xr-var-data'><pre>array([[[False, False,  True],\n",
       "        [False, False,  True],\n",
       "        [False, False,  True],\n",
       "        [False, False, False],\n",
       "        [False, False, False],\n",
       "        [False, False, False],\n",
       "        [False, False, False],\n",
       "        [False, False, False],\n",
       "        [False, False, False],\n",
       "        [False, False, False],\n",
       "        [False, False, False],\n",
       "        [False, False, False]],\n",
       "\n",
       "       [[False, False, False],\n",
       "        [False, False, False],\n",
       "        [False, False,  True],\n",
       "        [ True, False, False],\n",
       "        [ True, False, False],\n",
       "        [False, False, False],\n",
       "        [False,  True, False],\n",
       "...\n",
       "        [False,  True, False],\n",
       "        [False, False, False],\n",
       "        [ True, False, False],\n",
       "        [False, False,  True],\n",
       "        [False, False, False],\n",
       "        [False, False, False],\n",
       "        [False, False, False]],\n",
       "\n",
       "       [[False, False, False],\n",
       "        [False, False,  True],\n",
       "        [False, False, False],\n",
       "        [False, False, False],\n",
       "        [ True, False, False],\n",
       "        [False,  True, False],\n",
       "        [False, False, False],\n",
       "        [ True, False, False],\n",
       "        [False, False,  True],\n",
       "        [False, False, False],\n",
       "        [False, False, False],\n",
       "        [False, False, False]]])</pre></div></li><li class='xr-var-item'><div class='xr-var-name'><span>carrier_out</span></div><div class='xr-var-dims'>(nodes, techs, carriers)</div><div class='xr-var-dtype'>bool</div><div class='xr-var-preview xr-preview'>False False True ... False False</div><input id='attrs-00e2d1d1-1457-433b-9b94-42d800ac80ac' class='xr-var-attrs-in' type='checkbox' ><label for='attrs-00e2d1d1-1457-433b-9b94-42d800ac80ac' title='Show/Hide attributes'><svg class='icon xr-icon-file-text2'><use xlink:href='#icon-file-text2'></use></svg></label><input id='data-88d78e92-4a36-44e7-b56d-907b918c294c' class='xr-var-data-in' type='checkbox'><label for='data-88d78e92-4a36-44e7-b56d-907b918c294c' title='Show/Hide data repr'><svg class='icon xr-icon-database'><use xlink:href='#icon-database'></use></svg></label><div class='xr-var-attrs'><dl class='xr-attrs'><dt><span>title :</span></dt><dd></dd><dt><span>description :</span></dt><dd>Carrier(s) produced by this technology. Only `transmission`, `conversion`, `storage`, and `supply` technologies can define this parameter</dd><dt><span>default :</span></dt><dd>False</dd><dt><span>dtype :</span></dt><dd>bool</dd><dt><span>resample_method :</span></dt><dd>first</dd><dt><span>one_of :</span></dt><dd>None</dd><dt><span>pivot_values_to_dim :</span></dt><dd>carriers</dd></dl></div><div class='xr-var-data'><pre>array([[[False, False,  True],\n",
       "        [False, False,  True],\n",
       "        [False, False,  True],\n",
       "        [False, False, False],\n",
       "        [False, False, False],\n",
       "        [False, False, False],\n",
       "        [False, False, False],\n",
       "        [False, False, False],\n",
       "        [False, False, False],\n",
       "        [False, False, False],\n",
       "        [False, False, False],\n",
       "        [False, False, False]],\n",
       "\n",
       "       [[False, False, False],\n",
       "        [False, False, False],\n",
       "        [False, False,  True],\n",
       "        [ True, False, False],\n",
       "        [ True, False, False],\n",
       "        [False, False, False],\n",
       "        [ True, False,  True],\n",
       "...\n",
       "        [False, False,  True],\n",
       "        [False, False, False],\n",
       "        [False, False, False],\n",
       "        [False, False, False],\n",
       "        [ True, False, False],\n",
       "        [False,  True, False],\n",
       "        [False, False, False]],\n",
       "\n",
       "       [[False, False, False],\n",
       "        [False, False,  True],\n",
       "        [False, False, False],\n",
       "        [False, False, False],\n",
       "        [ True, False, False],\n",
       "        [False, False,  True],\n",
       "        [False, False, False],\n",
       "        [False, False, False],\n",
       "        [False, False, False],\n",
       "        [ True, False, False],\n",
       "        [False,  True, False],\n",
       "        [False, False, False]]])</pre></div></li><li class='xr-var-item'><div class='xr-var-name'><span>color</span></div><div class='xr-var-dims'>(techs)</div><div class='xr-var-dtype'>object</div><div class='xr-var-preview xr-preview'>&#x27;#823739&#x27; &#x27;#823739&#x27; ... &#x27;#C5ABE3&#x27;</div><input id='attrs-32d5a81c-18c3-4278-a11b-eed0ea9faf99' class='xr-var-attrs-in' type='checkbox' disabled><label for='attrs-32d5a81c-18c3-4278-a11b-eed0ea9faf99' title='Show/Hide attributes'><svg class='icon xr-icon-file-text2'><use xlink:href='#icon-file-text2'></use></svg></label><input id='data-dc423a33-b362-42f7-b8a3-229ed38adf16' class='xr-var-data-in' type='checkbox'><label for='data-dc423a33-b362-42f7-b8a3-229ed38adf16' title='Show/Hide data repr'><svg class='icon xr-icon-database'><use xlink:href='#icon-database'></use></svg></label><div class='xr-var-attrs'><dl class='xr-attrs'></dl></div><div class='xr-var-data'><pre>array([&#x27;#823739&#x27;, &#x27;#823739&#x27;, &#x27;#823739&#x27;, &#x27;#6783E3&#x27;, &#x27;#6783E3&#x27;, &#x27;#8E2999&#x27;,\n",
       "       &#x27;#E4AB97&#x27;, &#x27;#072486&#x27;, &#x27;#660507&#x27;, &#x27;#F9D956&#x27;, &#x27;#C98AAD&#x27;, &#x27;#C5ABE3&#x27;],\n",
       "      dtype=object)</pre></div></li><li class='xr-var-item'><div class='xr-var-name'><span>cost_flow_cap</span></div><div class='xr-var-dims'>(nodes, techs, costs, carriers)</div><div class='xr-var-dtype'>float64</div><div class='xr-var-preview xr-preview'>nan nan nan nan ... nan nan nan nan</div><input id='attrs-b513acf5-3b9b-40d8-9935-4fe55e80fcb2' class='xr-var-attrs-in' type='checkbox' ><label for='attrs-b513acf5-3b9b-40d8-9935-4fe55e80fcb2' title='Show/Hide attributes'><svg class='icon xr-icon-file-text2'><use xlink:href='#icon-file-text2'></use></svg></label><input id='data-445dbca1-eadb-4a69-a739-3ee0bbd756d5' class='xr-var-data-in' type='checkbox'><label for='data-445dbca1-eadb-4a69-a739-3ee0bbd756d5' title='Show/Hide data repr'><svg class='icon xr-icon-database'><use xlink:href='#icon-database'></use></svg></label><div class='xr-var-attrs'><dl class='xr-attrs'><dt><span>title :</span></dt><dd>Cost of flow capacity.</dd><dt><span>description :</span></dt><dd>Cost per unit of the decision variable `flow_cap`.</dd><dt><span>default :</span></dt><dd>0</dd><dt><span>resample_method :</span></dt><dd>first</dd><dt><span>unit :</span></dt><dd>$\\frac{\\{cost}}{\\text{power}}$</dd></dl></div><div class='xr-var-data'><pre>array([[[[     nan,      nan,      nan]],\n",
       "\n",
       "        [[     nan,      nan,      nan]],\n",
       "\n",
       "        [[     nan,      nan,      nan]],\n",
       "\n",
       "        [[     nan,      nan,      nan]],\n",
       "\n",
       "        [[     nan,      nan,      nan]],\n",
       "\n",
       "        [[     nan,      nan,      nan]],\n",
       "\n",
       "        [[     nan,      nan,      nan]],\n",
       "\n",
       "        [[     nan,      nan,      nan]],\n",
       "\n",
       "        [[     nan,      nan,      nan]],\n",
       "\n",
       "        [[     nan,      nan,      nan]],\n",
       "\n",
       "...\n",
       "\n",
       "        [[     nan,      nan,      nan]],\n",
       "\n",
       "        [[     nan,      nan,      nan]],\n",
       "\n",
       "        [[     nan,      nan,      nan]],\n",
       "\n",
       "        [[     nan,      nan, 7.80e+01]],\n",
       "\n",
       "        [[     nan,      nan,      nan]],\n",
       "\n",
       "        [[     nan,      nan,      nan]],\n",
       "\n",
       "        [[     nan,      nan,      nan]],\n",
       "\n",
       "        [[1.35e+03,      nan,      nan]],\n",
       "\n",
       "        [[     nan, 1.00e+00,      nan]],\n",
       "\n",
       "        [[     nan,      nan,      nan]]]])</pre></div></li><li class='xr-var-item'><div class='xr-var-name'><span>cost_flow_out</span></div><div class='xr-var-dims'>(techs, costs, carriers, nodes)</div><div class='xr-var-dtype'>float64</div><div class='xr-var-preview xr-preview'>nan nan nan nan ... nan nan nan nan</div><input id='attrs-3b81e90f-d639-4073-8b7e-b8129af36878' class='xr-var-attrs-in' type='checkbox' ><label for='attrs-3b81e90f-d639-4073-8b7e-b8129af36878' title='Show/Hide attributes'><svg class='icon xr-icon-file-text2'><use xlink:href='#icon-file-text2'></use></svg></label><input id='data-1fd14b9c-8954-488d-b1bc-2b3183223bb2' class='xr-var-data-in' type='checkbox'><label for='data-1fd14b9c-8954-488d-b1bc-2b3183223bb2' title='Show/Hide data repr'><svg class='icon xr-icon-database'><use xlink:href='#icon-database'></use></svg></label><div class='xr-var-attrs'><dl class='xr-attrs'><dt><span>title :</span></dt><dd>Carrier outflow cost</dd><dt><span>description :</span></dt><dd>Cost per unit of `flow_out` in each timestep.</dd><dt><span>default :</span></dt><dd>0</dd><dt><span>resample_method :</span></dt><dd>mean</dd><dt><span>unit :</span></dt><dd>$\\frac{\\{cost}}{\\text{energy}}$</dd></dl></div><div class='xr-var-data'><pre>array([[[[    nan,     nan,     nan,     nan],\n",
       "         [    nan,     nan,     nan,     nan],\n",
       "         [    nan,     nan,     nan,     nan]]],\n",
       "\n",
       "\n",
       "       [[[    nan,     nan,     nan,     nan],\n",
       "         [    nan,     nan,     nan,     nan],\n",
       "         [    nan,     nan,     nan,     nan]]],\n",
       "\n",
       "\n",
       "       [[[    nan,     nan,     nan,     nan],\n",
       "         [    nan,     nan,     nan,     nan],\n",
       "         [    nan,     nan,     nan,     nan]]],\n",
       "\n",
       "\n",
       "       [[[    nan,     nan,     nan,     nan],\n",
       "         [    nan,     nan,     nan,     nan],\n",
       "         [    nan,     nan,     nan,     nan]]],\n",
       "\n",
       "\n",
       "...\n",
       "\n",
       "\n",
       "       [[[    nan,     nan,     nan,     nan],\n",
       "         [    nan,     nan,     nan,     nan],\n",
       "         [    nan,     nan,     nan,     nan]]],\n",
       "\n",
       "\n",
       "       [[[    nan,     nan, -0.0203,     nan],\n",
       "         [    nan,     nan,     nan,     nan],\n",
       "         [    nan,     nan,     nan,     nan]]],\n",
       "\n",
       "\n",
       "       [[[    nan,     nan,     nan,     nan],\n",
       "         [    nan,     nan,     nan,     nan],\n",
       "         [    nan,     nan,     nan,     nan]]],\n",
       "\n",
       "\n",
       "       [[[    nan,     nan,     nan,     nan],\n",
       "         [    nan,     nan,     nan,     nan],\n",
       "         [    nan,     nan,     nan,     nan]]]])</pre></div></li><li class='xr-var-item'><div class='xr-var-name'><span>flow_cap_max</span></div><div class='xr-var-dims'>(techs, carriers, nodes)</div><div class='xr-var-dtype'>float64</div><div class='xr-var-preview xr-preview'>nan nan nan nan ... nan nan nan nan</div><input id='attrs-cbbe73b8-11b3-4075-8a30-9cc3e366e762' class='xr-var-attrs-in' type='checkbox' ><label for='attrs-cbbe73b8-11b3-4075-8a30-9cc3e366e762' title='Show/Hide attributes'><svg class='icon xr-icon-file-text2'><use xlink:href='#icon-file-text2'></use></svg></label><input id='data-8b9b0e17-8b10-461c-b68b-9111f5fab2af' class='xr-var-data-in' type='checkbox'><label for='data-8b9b0e17-8b10-461c-b68b-9111f5fab2af' title='Show/Hide data repr'><svg class='icon xr-icon-database'><use xlink:href='#icon-database'></use></svg></label><div class='xr-var-attrs'><dl class='xr-attrs'><dt><span>title :</span></dt><dd>Maximum rated flow capacity.</dd><dt><span>description :</span></dt><dd>Limits `flow_cap` to a maximum.</dd><dt><span>default :</span></dt><dd>inf</dd><dt><span>resample_method :</span></dt><dd>first</dd><dt><span>unit :</span></dt><dd>power.</dd></dl></div><div class='xr-var-data'><pre>array([[[  nan,   nan,   nan,   nan],\n",
       "        [  nan,   nan,   nan,   nan],\n",
       "        [2000.,   nan, 2000.,   nan]],\n",
       "\n",
       "       [[  nan,   nan,   nan,   nan],\n",
       "        [  nan,   nan,   nan,   nan],\n",
       "        [2000.,   nan,   nan, 2000.]],\n",
       "\n",
       "       [[  nan,   nan,   nan,   nan],\n",
       "        [  nan,   nan,   nan,   nan],\n",
       "        [2000., 2000.,   nan,   nan]],\n",
       "\n",
       "       [[  nan, 2000., 2000.,   nan],\n",
       "        [  nan,   nan,   nan,   nan],\n",
       "        [  nan,   nan,   nan,   nan]],\n",
       "\n",
       "       [[  nan, 2000.,   nan, 2000.],\n",
       "        [  nan,   nan,   nan,   nan],\n",
       "        [  nan,   nan,   nan,   nan]],\n",
       "\n",
       "...\n",
       "\n",
       "       [[  nan,   nan,   nan,   nan],\n",
       "        [  nan,   nan,   nan,   nan],\n",
       "        [  nan,   nan,   nan,   nan]],\n",
       "\n",
       "       [[  nan,   nan,   nan,   nan],\n",
       "        [  nan,   nan,   nan,   nan],\n",
       "        [  nan,   nan,   nan,   nan]],\n",
       "\n",
       "       [[  nan,  250.,  250.,   50.],\n",
       "        [  nan,   nan,   nan,   nan],\n",
       "        [  nan,   nan,   nan,   nan]],\n",
       "\n",
       "       [[  nan,   nan,   nan,   nan],\n",
       "        [  nan, 2000., 2000., 2000.],\n",
       "        [  nan,   nan,   nan,   nan]],\n",
       "\n",
       "       [[  nan, 2000.,   nan,   nan],\n",
       "        [  nan,   nan,   nan,   nan],\n",
       "        [  nan,   nan,   nan,   nan]]])</pre></div></li><li class='xr-var-item'><div class='xr-var-name'><span>flow_out_eff</span></div><div class='xr-var-dims'>(techs, carriers)</div><div class='xr-var-dtype'>float64</div><div class='xr-var-preview xr-preview'>nan nan nan nan ... nan nan nan nan</div><input id='attrs-3cc1b81b-d9a5-4785-80f0-479655a89648' class='xr-var-attrs-in' type='checkbox' ><label for='attrs-3cc1b81b-d9a5-4785-80f0-479655a89648' title='Show/Hide attributes'><svg class='icon xr-icon-file-text2'><use xlink:href='#icon-file-text2'></use></svg></label><input id='data-72a2172b-744d-4eec-95db-47250937b3df' class='xr-var-data-in' type='checkbox'><label for='data-72a2172b-744d-4eec-95db-47250937b3df' title='Show/Hide data repr'><svg class='icon xr-icon-database'><use xlink:href='#icon-database'></use></svg></label><div class='xr-var-attrs'><dl class='xr-attrs'><dt><span>title :</span></dt><dd>Outflow efficiency</dd><dt><span>description :</span></dt><dd>Conversion efficiency from the technology to `sink`/`flow_out` (tech dependent). Set as value between 1 (no loss) and 0 (all lost).</dd><dt><span>default :</span></dt><dd>1.0</dd><dt><span>resample_method :</span></dt><dd>mean</dd><dt><span>unit :</span></dt><dd>unitless.</dd></dl></div><div class='xr-var-data'><pre>array([[  nan,   nan,   nan],\n",
       "       [  nan,   nan,   nan],\n",
       "       [  nan,   nan,   nan],\n",
       "       [0.98 ,   nan,   nan],\n",
       "       [0.98 ,   nan,   nan],\n",
       "       [  nan, 0.85 , 0.85 ],\n",
       "       [0.405,   nan,   nan],\n",
       "       [  nan,   nan,   nan],\n",
       "       [  nan,   nan,   nan],\n",
       "       [  nan,   nan,   nan],\n",
       "       [  nan,   nan,   nan],\n",
       "       [  nan,   nan,   nan]])</pre></div></li><li class='xr-var-item'><div class='xr-var-name'><span>heat_to_power_ratio</span></div><div class='xr-var-dims'>(techs)</div><div class='xr-var-dtype'>float64</div><div class='xr-var-preview xr-preview'>nan nan nan nan ... nan nan nan nan</div><input id='attrs-db98d771-c34b-47f5-8d63-5a0e094267f3' class='xr-var-attrs-in' type='checkbox' ><label for='attrs-db98d771-c34b-47f5-8d63-5a0e094267f3' title='Show/Hide attributes'><svg class='icon xr-icon-file-text2'><use xlink:href='#icon-file-text2'></use></svg></label><input id='data-a48c0487-1753-42a3-8ec5-de845643c699' class='xr-var-data-in' type='checkbox'><label for='data-a48c0487-1753-42a3-8ec5-de845643c699' title='Show/Hide data repr'><svg class='icon xr-icon-database'><use xlink:href='#icon-database'></use></svg></label><div class='xr-var-attrs'><dl class='xr-attrs'><dt><span>title :</span></dt><dd>Heat to power ratio for CHP</dd><dt><span>description :</span></dt><dd>Ratio of heat output to electricity output for combined heat and power (CHP) technology.</dd><dt><span>default :</span></dt><dd>1</dd><dt><span>resample_method :</span></dt><dd>first</dd><dt><span>unit :</span></dt><dd></dd></dl></div><div class='xr-var-data'><pre>array([nan, nan, nan, nan, nan, nan, 0.8, nan, nan, nan, nan, nan])</pre></div></li><li class='xr-var-item'><div class='xr-var-name'><span>lifetime</span></div><div class='xr-var-dims'>(techs)</div><div class='xr-var-dtype'>float64</div><div class='xr-var-preview xr-preview'>25.0 25.0 25.0 ... 25.0 25.0 25.0</div><input id='attrs-e5067da4-df19-4681-b3ae-b3395a6606b3' class='xr-var-attrs-in' type='checkbox' ><label for='attrs-e5067da4-df19-4681-b3ae-b3395a6606b3' title='Show/Hide attributes'><svg class='icon xr-icon-file-text2'><use xlink:href='#icon-file-text2'></use></svg></label><input id='data-f49571d1-48f9-4139-b8f1-c39a32479c11' class='xr-var-data-in' type='checkbox'><label for='data-f49571d1-48f9-4139-b8f1-c39a32479c11' title='Show/Hide data repr'><svg class='icon xr-icon-database'><use xlink:href='#icon-database'></use></svg></label><div class='xr-var-attrs'><dl class='xr-attrs'><dt><span>title :</span></dt><dd>Technology lifetime</dd><dt><span>description :</span></dt><dd>Must be defined if fixed capital costs are defined. A reasonable value for many technologies is around 20-25 years.</dd><dt><span>default :</span></dt><dd>inf</dd><dt><span>resample_method :</span></dt><dd>mean</dd><dt><span>unit :</span></dt><dd>years.</dd></dl></div><div class='xr-var-data'><pre>array([25., 25., 25., 25., 25., 25., 25., nan, nan, 25., 25., 25.])</pre></div></li><li class='xr-var-item'><div class='xr-var-name'><span>name</span></div><div class='xr-var-dims'>(techs)</div><div class='xr-var-dtype'>object</div><div class='xr-var-preview xr-preview'>&#x27;District heat distribution&#x27; ......</div><input id='attrs-a9e14137-b376-4f28-961e-70417d05f7fe' class='xr-var-attrs-in' type='checkbox' disabled><label for='attrs-a9e14137-b376-4f28-961e-70417d05f7fe' title='Show/Hide attributes'><svg class='icon xr-icon-file-text2'><use xlink:href='#icon-file-text2'></use></svg></label><input id='data-c9259962-1689-4c7a-ac6b-09c3e081f3b5' class='xr-var-data-in' type='checkbox'><label for='data-c9259962-1689-4c7a-ac6b-09c3e081f3b5' title='Show/Hide data repr'><svg class='icon xr-icon-database'><use xlink:href='#icon-database'></use></svg></label><div class='xr-var-attrs'><dl class='xr-attrs'></dl></div><div class='xr-var-data'><pre>array([&#x27;District heat distribution&#x27;, &#x27;District heat distribution&#x27;,\n",
       "       &#x27;District heat distribution&#x27;, &#x27;Electrical power distribution&#x27;,\n",
       "       &#x27;Electrical power distribution&#x27;, &#x27;Natural gas boiler&#x27;,\n",
       "       &#x27;Combined heat and power&#x27;, &#x27;Electrical demand&#x27;, &#x27;Heat demand&#x27;,\n",
       "       &#x27;Solar photovoltaic power&#x27;, &#x27;Natural gas import&#x27;,\n",
       "       &#x27;National grid import&#x27;], dtype=object)</pre></div></li><li class='xr-var-item'><div class='xr-var-name'><span>area_use_max</span></div><div class='xr-var-dims'>(techs)</div><div class='xr-var-dtype'>float64</div><div class='xr-var-preview xr-preview'>nan nan nan nan ... 1.5e+03 nan nan</div><input id='attrs-907e742d-efb4-4230-a048-b3616baad84d' class='xr-var-attrs-in' type='checkbox' ><label for='attrs-907e742d-efb4-4230-a048-b3616baad84d' title='Show/Hide attributes'><svg class='icon xr-icon-file-text2'><use xlink:href='#icon-file-text2'></use></svg></label><input id='data-ea08d89b-c5f7-43ca-98bd-79ce13a5e73b' class='xr-var-data-in' type='checkbox'><label for='data-ea08d89b-c5f7-43ca-98bd-79ce13a5e73b' title='Show/Hide data repr'><svg class='icon xr-icon-database'><use xlink:href='#icon-database'></use></svg></label><div class='xr-var-attrs'><dl class='xr-attrs'><dt><span>title :</span></dt><dd>Maximum usable area.</dd><dt><span>description :</span></dt><dd>If set to a finite value, limits the upper bound of the `area_use` decision variable to this value.</dd><dt><span>default :</span></dt><dd>inf</dd><dt><span>resample_method :</span></dt><dd>first</dd><dt><span>unit :</span></dt><dd>$\\text{area}$</dd></dl></div><div class='xr-var-data'><pre>array([  nan,   nan,   nan,   nan,   nan,   nan,   nan,   nan,   nan,\n",
       "       1500.,   nan,   nan])</pre></div></li><li class='xr-var-item'><div class='xr-var-name'><span>area_use_per_flow_cap</span></div><div class='xr-var-dims'>(techs)</div><div class='xr-var-dtype'>float64</div><div class='xr-var-preview xr-preview'>nan nan nan nan ... nan 7.0 nan nan</div><input id='attrs-3af08d16-2e3f-4c85-8303-cea2bb092f7a' class='xr-var-attrs-in' type='checkbox' ><label for='attrs-3af08d16-2e3f-4c85-8303-cea2bb092f7a' title='Show/Hide attributes'><svg class='icon xr-icon-file-text2'><use xlink:href='#icon-file-text2'></use></svg></label><input id='data-92d23775-aeb3-4dd9-8f4c-7c62bed10270' class='xr-var-data-in' type='checkbox'><label for='data-92d23775-aeb3-4dd9-8f4c-7c62bed10270' title='Show/Hide data repr'><svg class='icon xr-icon-database'><use xlink:href='#icon-database'></use></svg></label><div class='xr-var-attrs'><dl class='xr-attrs'><dt><span>title :</span></dt><dd>Area use per flow capacity</dd><dt><span>description :</span></dt><dd>If set, forces `area_use` to follow `flow_cap` with the given numerical ratio (e.g. setting to 1.5 means that `area_use == 1.5 * flow_cap`).</dd><dt><span>default :</span></dt><dd>nan</dd><dt><span>resample_method :</span></dt><dd>first</dd><dt><span>unit :</span></dt><dd>$\\frac{\\text{area}}{\\text{power}}$</dd></dl></div><div class='xr-var-data'><pre>array([nan, nan, nan, nan, nan, nan, nan, nan, nan,  7., nan, nan])</pre></div></li><li class='xr-var-item'><div class='xr-var-name'><span>flow_out_parasitic_eff</span></div><div class='xr-var-dims'>(techs)</div><div class='xr-var-dtype'>float64</div><div class='xr-var-preview xr-preview'>nan nan nan nan ... 0.85 nan nan</div><input id='attrs-e0c966be-4292-4790-9570-b28afdbac652' class='xr-var-attrs-in' type='checkbox' ><label for='attrs-e0c966be-4292-4790-9570-b28afdbac652' title='Show/Hide attributes'><svg class='icon xr-icon-file-text2'><use xlink:href='#icon-file-text2'></use></svg></label><input id='data-44af5d64-1b6e-48ff-a047-7ec213408c57' class='xr-var-data-in' type='checkbox'><label for='data-44af5d64-1b6e-48ff-a047-7ec213408c57' title='Show/Hide data repr'><svg class='icon xr-icon-database'><use xlink:href='#icon-database'></use></svg></label><div class='xr-var-attrs'><dl class='xr-attrs'><dt><span>title :</span></dt><dd>Plant parasitic efficiency</dd><dt><span>description :</span></dt><dd>Additional losses as flow gets transferred from the plant to the carrier, e.g. due to plant parasitic consumption. Set as value between 1 (no loss) and 0 (all lost).</dd><dt><span>default :</span></dt><dd>1.0</dd><dt><span>resample_method :</span></dt><dd>mean</dd><dt><span>unit :</span></dt><dd>unitless.</dd></dl></div><div class='xr-var-data'><pre>array([ nan,  nan,  nan,  nan,  nan,  nan,  nan,  nan,  nan, 0.85,  nan,\n",
       "        nan])</pre></div></li><li class='xr-var-item'><div class='xr-var-name'><span>source_unit</span></div><div class='xr-var-dims'>(techs)</div><div class='xr-var-dtype'>object</div><div class='xr-var-preview xr-preview'>nan nan nan ... &#x27;per_area&#x27; nan nan</div><input id='attrs-8e831681-83e8-4f63-90c1-a97ecfacc87d' class='xr-var-attrs-in' type='checkbox' ><label for='attrs-8e831681-83e8-4f63-90c1-a97ecfacc87d' title='Show/Hide attributes'><svg class='icon xr-icon-file-text2'><use xlink:href='#icon-file-text2'></use></svg></label><input id='data-8b794a82-fc6a-4596-b2de-287cb712babe' class='xr-var-data-in' type='checkbox'><label for='data-8b794a82-fc6a-4596-b2de-287cb712babe' title='Show/Hide data repr'><svg class='icon xr-icon-database'><use xlink:href='#icon-database'></use></svg></label><div class='xr-var-attrs'><dl class='xr-attrs'><dt><span>title :</span></dt><dd>Source unit</dd><dt><span>description :</span></dt><dd>Sets the unit of `Source` to either `absolute` (unit: `energy`), `per_area` (unit: `energy/area`), or `per_cap` (unit: `energy/power`). `per_area` uses the `area_use` decision variable to scale the source while `per_cap` uses the `flow_cap` decision variable.</dd><dt><span>default :</span></dt><dd>absolute</dd><dt><span>dtype :</span></dt><dd>string</dd><dt><span>resample_method :</span></dt><dd>first</dd><dt><span>one_of :</span></dt><dd>[&#x27;absolute&#x27;, &#x27;per_area&#x27;, &#x27;per_cap&#x27;]</dd><dt><span>pivot_values_to_dim :</span></dt><dd>None</dd></dl></div><div class='xr-var-data'><pre>array([nan, nan, nan, nan, nan, nan, nan, nan, nan, &#x27;per_area&#x27;, nan, nan],\n",
       "      dtype=object)</pre></div></li><li class='xr-var-item'><div class='xr-var-name'><span>cost_flow_in</span></div><div class='xr-var-dims'>(techs, costs)</div><div class='xr-var-dtype'>float64</div><div class='xr-var-preview xr-preview'>nan nan nan nan ... nan 0.025 0.1</div><input id='attrs-813103c4-f976-44fd-9e3c-54e66a6428a4' class='xr-var-attrs-in' type='checkbox' ><label for='attrs-813103c4-f976-44fd-9e3c-54e66a6428a4' title='Show/Hide attributes'><svg class='icon xr-icon-file-text2'><use xlink:href='#icon-file-text2'></use></svg></label><input id='data-6bff00dd-da0b-4713-a941-8bd42c7f66c4' class='xr-var-data-in' type='checkbox'><label for='data-6bff00dd-da0b-4713-a941-8bd42c7f66c4' title='Show/Hide data repr'><svg class='icon xr-icon-database'><use xlink:href='#icon-database'></use></svg></label><div class='xr-var-attrs'><dl class='xr-attrs'><dt><span>title :</span></dt><dd>Carrier inflow cost.</dd><dt><span>description :</span></dt><dd>Cost per unit of `flow_in` in each timestep. Also used as the cost per unit of `source_use` in `supply` technologies.</dd><dt><span>default :</span></dt><dd>0</dd><dt><span>resample_method :</span></dt><dd>mean</dd><dt><span>unit :</span></dt><dd>$\\frac{\\{cost}}{\\text{energy}}$</dd></dl></div><div class='xr-var-data'><pre>array([[  nan],\n",
       "       [  nan],\n",
       "       [  nan],\n",
       "       [  nan],\n",
       "       [  nan],\n",
       "       [0.004],\n",
       "       [  nan],\n",
       "       [  nan],\n",
       "       [  nan],\n",
       "       [  nan],\n",
       "       [0.025],\n",
       "       [0.1  ]])</pre></div></li><li class='xr-var-item'><div class='xr-var-name'><span>source_use_max</span></div><div class='xr-var-dims'>(techs)</div><div class='xr-var-dtype'>float64</div><div class='xr-var-preview xr-preview'>nan nan nan nan ... nan nan inf inf</div><input id='attrs-faef91a9-36a3-456c-8bbf-456a66bb82cc' class='xr-var-attrs-in' type='checkbox' ><label for='attrs-faef91a9-36a3-456c-8bbf-456a66bb82cc' title='Show/Hide attributes'><svg class='icon xr-icon-file-text2'><use xlink:href='#icon-file-text2'></use></svg></label><input id='data-e06c97e4-32a6-4a1d-adc3-a79d5098fc67' class='xr-var-data-in' type='checkbox'><label for='data-e06c97e4-32a6-4a1d-adc3-a79d5098fc67' title='Show/Hide data repr'><svg class='icon xr-icon-database'><use xlink:href='#icon-database'></use></svg></label><div class='xr-var-attrs'><dl class='xr-attrs'><dt><span>title :</span></dt><dd>Maximum bound on sink.</dd><dt><span>description :</span></dt><dd>Maximum sink use to remove a carrier from the system (e.g., biofuel, coal, rainfall, wind flow). Unit dictated by `source_unit`.</dd><dt><span>default :</span></dt><dd>inf</dd><dt><span>resample_method :</span></dt><dd>sum</dd><dt><span>unit :</span></dt><dd>energy | $\\frac{\\text{energy}}{\\text{power}}$ | $\\frac{\\text{energy}}{\\text{area}}$</dd></dl></div><div class='xr-var-data'><pre>array([nan, nan, nan, nan, nan, nan, nan, nan, nan, nan, inf, inf])</pre></div></li><li class='xr-var-item'><div class='xr-var-name'><span>cost_flow_cap_per_distance</span></div><div class='xr-var-dims'>(techs, costs)</div><div class='xr-var-dtype'>float64</div><div class='xr-var-preview xr-preview'>0.3 0.3 0.3 0.01 ... nan nan nan</div><input id='attrs-912111cb-358e-4a00-ba99-abc3dce413dd' class='xr-var-attrs-in' type='checkbox' ><label for='attrs-912111cb-358e-4a00-ba99-abc3dce413dd' title='Show/Hide attributes'><svg class='icon xr-icon-file-text2'><use xlink:href='#icon-file-text2'></use></svg></label><input id='data-38cffcb6-204e-473b-a4be-3bff35ddb725' class='xr-var-data-in' type='checkbox'><label for='data-38cffcb6-204e-473b-a4be-3bff35ddb725' title='Show/Hide data repr'><svg class='icon xr-icon-database'><use xlink:href='#icon-database'></use></svg></label><div class='xr-var-attrs'><dl class='xr-attrs'><dt><span>title :</span></dt><dd>Cost of flow capacity, per unit distance</dd><dt><span>description :</span></dt><dd>Cost per unit of the decision variable `flow_cap` and per unit distance of a transmission link. Applied to transmission links only.</dd><dt><span>default :</span></dt><dd>0</dd><dt><span>resample_method :</span></dt><dd>first</dd><dt><span>unit :</span></dt><dd>$\\frac{\\{cost}}{\\text{power}\\times\\text{distance}}$</dd></dl></div><div class='xr-var-data'><pre>array([[0.3 ],\n",
       "       [0.3 ],\n",
       "       [0.3 ],\n",
       "       [0.01],\n",
       "       [0.01],\n",
       "       [ nan],\n",
       "       [ nan],\n",
       "       [ nan],\n",
       "       [ nan],\n",
       "       [ nan],\n",
       "       [ nan],\n",
       "       [ nan]])</pre></div></li><li class='xr-var-item'><div class='xr-var-name'><span>distance</span></div><div class='xr-var-dims'>(techs)</div><div class='xr-var-dtype'>float64</div><div class='xr-var-preview xr-preview'>3.0 4.0 3.0 10.0 ... nan nan nan</div><input id='attrs-730081ef-346e-47af-8baa-ce4b6bceec09' class='xr-var-attrs-in' type='checkbox' ><label for='attrs-730081ef-346e-47af-8baa-ce4b6bceec09' title='Show/Hide attributes'><svg class='icon xr-icon-file-text2'><use xlink:href='#icon-file-text2'></use></svg></label><input id='data-fa69f802-febc-4f6f-abce-f404751145f3' class='xr-var-data-in' type='checkbox'><label for='data-fa69f802-febc-4f6f-abce-f404751145f3' title='Show/Hide data repr'><svg class='icon xr-icon-database'><use xlink:href='#icon-database'></use></svg></label><div class='xr-var-attrs'><dl class='xr-attrs'><dt><span>title :</span></dt><dd>Distance spanned by link.</dd><dt><span>description :</span></dt><dd>Used for `..._per_distance` constraints. If not defined, it will be automatically derived from latitude/longitude of nodes in a link.</dd><dt><span>default :</span></dt><dd>1.0</dd><dt><span>resample_method :</span></dt><dd>mean</dd><dt><span>unit :</span></dt><dd>distance.</dd></dl></div><div class='xr-var-data'><pre>array([ 3.,  4.,  3., 10.,  5., nan, nan, nan, nan, nan, nan, nan])</pre></div></li><li class='xr-var-item'><div class='xr-var-name'><span>flow_out_eff_per_distance</span></div><div class='xr-var-dims'>(techs)</div><div class='xr-var-dtype'>float64</div><div class='xr-var-preview xr-preview'>0.975 0.975 0.975 ... nan nan nan</div><input id='attrs-ffc02c90-afbc-4968-a194-01315b7c5c7a' class='xr-var-attrs-in' type='checkbox' ><label for='attrs-ffc02c90-afbc-4968-a194-01315b7c5c7a' title='Show/Hide attributes'><svg class='icon xr-icon-file-text2'><use xlink:href='#icon-file-text2'></use></svg></label><input id='data-75a35d59-93bc-4c05-ba6a-443a78b0aee5' class='xr-var-data-in' type='checkbox'><label for='data-75a35d59-93bc-4c05-ba6a-443a78b0aee5' title='Show/Hide data repr'><svg class='icon xr-icon-database'><use xlink:href='#icon-database'></use></svg></label><div class='xr-var-attrs'><dl class='xr-attrs'><dt><span>title :</span></dt><dd>Outflow (i.e., import from node) efficiency per distance of transmission links.</dd><dt><span>description :</span></dt><dd>Total link efficiency will be calculated as $\\text{flow\\_out\\_eff}\\times{}\\text{flow\\_out\\_eff\\_per\\_distance}^\\text{distance}$. Set as value between 1 (no loss) and 0 (all lost).</dd><dt><span>default :</span></dt><dd>1.0</dd><dt><span>resample_method :</span></dt><dd>mean</dd><dt><span>unit :</span></dt><dd>$\\frac{\\text{1}}{\\text{distance}}$</dd></dl></div><div class='xr-var-data'><pre>array([0.975, 0.975, 0.975,   nan,   nan,   nan,   nan,   nan,   nan,\n",
       "         nan,   nan,   nan])</pre></div></li><li class='xr-var-item'><div class='xr-var-name'><span>cost_export</span></div><div class='xr-var-dims'>(nodes, techs, costs, carriers, timesteps)</div><div class='xr-var-dtype'>float64</div><div class='xr-var-preview xr-preview'>nan nan nan nan ... nan nan nan nan</div><input id='attrs-9c759ea2-649b-4b1f-bb71-e7b8e267ea58' class='xr-var-attrs-in' type='checkbox' ><label for='attrs-9c759ea2-649b-4b1f-bb71-e7b8e267ea58' title='Show/Hide attributes'><svg class='icon xr-icon-file-text2'><use xlink:href='#icon-file-text2'></use></svg></label><input id='data-910c4782-72d9-4930-ab39-c931744f8beb' class='xr-var-data-in' type='checkbox'><label for='data-910c4782-72d9-4930-ab39-c931744f8beb' title='Show/Hide data repr'><svg class='icon xr-icon-database'><use xlink:href='#icon-database'></use></svg></label><div class='xr-var-attrs'><dl class='xr-attrs'><dt><span>title :</span></dt><dd>Carrier export cost.</dd><dt><span>description :</span></dt><dd>Cost per unit of `flow_export` in each timestep. Usually used in the negative sense, as a subsidy.</dd><dt><span>default :</span></dt><dd>0</dd><dt><span>resample_method :</span></dt><dd>mean</dd><dt><span>unit :</span></dt><dd>$\\frac{\\{cost}}{\\text{energy}}$</dd></dl></div><div class='xr-var-data'><pre>array([[[[[    nan,     nan,     nan, ...,     nan,     nan,     nan],\n",
       "          [    nan,     nan,     nan, ...,     nan,     nan,     nan],\n",
       "          [    nan,     nan,     nan, ...,     nan,     nan,     nan]]],\n",
       "\n",
       "\n",
       "        [[[    nan,     nan,     nan, ...,     nan,     nan,     nan],\n",
       "          [    nan,     nan,     nan, ...,     nan,     nan,     nan],\n",
       "          [    nan,     nan,     nan, ...,     nan,     nan,     nan]]],\n",
       "\n",
       "\n",
       "        [[[    nan,     nan,     nan, ...,     nan,     nan,     nan],\n",
       "          [    nan,     nan,     nan, ...,     nan,     nan,     nan],\n",
       "          [    nan,     nan,     nan, ...,     nan,     nan,     nan]]],\n",
       "\n",
       "\n",
       "        ...,\n",
       "\n",
       "\n",
       "        [[[    nan,     nan,     nan, ...,     nan,     nan,     nan],\n",
       "          [    nan,     nan,     nan, ...,     nan,     nan,     nan],\n",
       "...\n",
       "          [    nan,     nan,     nan, ...,     nan,     nan,     nan],\n",
       "          [    nan,     nan,     nan, ...,     nan,     nan,     nan]]],\n",
       "\n",
       "\n",
       "        ...,\n",
       "\n",
       "\n",
       "        [[[    nan,     nan,     nan, ...,     nan,     nan,     nan],\n",
       "          [    nan,     nan,     nan, ...,     nan,     nan,     nan],\n",
       "          [    nan,     nan,     nan, ...,     nan,     nan,     nan]]],\n",
       "\n",
       "\n",
       "        [[[    nan,     nan,     nan, ...,     nan,     nan,     nan],\n",
       "          [    nan,     nan,     nan, ...,     nan,     nan,     nan],\n",
       "          [    nan,     nan,     nan, ...,     nan,     nan,     nan]]],\n",
       "\n",
       "\n",
       "        [[[    nan,     nan,     nan, ...,     nan,     nan,     nan],\n",
       "          [    nan,     nan,     nan, ...,     nan,     nan,     nan],\n",
       "          [    nan,     nan,     nan, ...,     nan,     nan,     nan]]]]])</pre></div></li><li class='xr-var-item'><div class='xr-var-name'><span>cost_om_annual</span></div><div class='xr-var-dims'>(nodes, techs, costs)</div><div class='xr-var-dtype'>float64</div><div class='xr-var-preview xr-preview'>nan nan nan nan ... -80.5 nan nan</div><input id='attrs-635bc47f-6e13-4ce4-bfb8-a55d2a719621' class='xr-var-attrs-in' type='checkbox' ><label for='attrs-635bc47f-6e13-4ce4-bfb8-a55d2a719621' title='Show/Hide attributes'><svg class='icon xr-icon-file-text2'><use xlink:href='#icon-file-text2'></use></svg></label><input id='data-50d92986-6e57-4a80-b7a1-574df412e18c' class='xr-var-data-in' type='checkbox'><label for='data-50d92986-6e57-4a80-b7a1-574df412e18c' title='Show/Hide data repr'><svg class='icon xr-icon-database'><use xlink:href='#icon-database'></use></svg></label><div class='xr-var-attrs'><dl class='xr-attrs'><dt><span>title :</span></dt><dd>Annual O&amp;M costs</dd><dt><span>description :</span></dt><dd>Annual costs applied per unit `flow_cap`. These costs are not subject to being recalculated relative to technology lifetime, only scaled to reflect the fraction of one year that the model represents (e.g., 7 days ~= 0.02 of a year).</dd><dt><span>default :</span></dt><dd>0</dd><dt><span>resample_method :</span></dt><dd>first</dd><dt><span>unit :</span></dt><dd>$\\frac{\\{cost}}{\\text{power}}$</dd></dl></div><div class='xr-var-data'><pre>array([[[  nan],\n",
       "        [  nan],\n",
       "        [  nan],\n",
       "        [  nan],\n",
       "        [  nan],\n",
       "        [  nan],\n",
       "        [  nan],\n",
       "        [  nan],\n",
       "        [  nan],\n",
       "        [  nan],\n",
       "        [  nan],\n",
       "        [  nan]],\n",
       "\n",
       "       [[  nan],\n",
       "        [  nan],\n",
       "        [  nan],\n",
       "        [  nan],\n",
       "        [  nan],\n",
       "        [  nan],\n",
       "        [  nan],\n",
       "...\n",
       "        [  nan],\n",
       "        [  nan],\n",
       "        [  nan],\n",
       "        [  nan],\n",
       "        [  nan],\n",
       "        [  nan],\n",
       "        [  nan]],\n",
       "\n",
       "       [[  nan],\n",
       "        [  nan],\n",
       "        [  nan],\n",
       "        [  nan],\n",
       "        [  nan],\n",
       "        [  nan],\n",
       "        [  nan],\n",
       "        [  nan],\n",
       "        [  nan],\n",
       "        [-80.5],\n",
       "        [  nan],\n",
       "        [  nan]]])</pre></div></li><li class='xr-var-item'><div class='xr-var-name'><span>available_area</span></div><div class='xr-var-dims'>(nodes)</div><div class='xr-var-dtype'>float64</div><div class='xr-var-preview xr-preview'>nan 500.0 1.3e+03 900.0</div><input id='attrs-0794d34c-c290-4051-a3dd-04a8724ece7d' class='xr-var-attrs-in' type='checkbox' ><label for='attrs-0794d34c-c290-4051-a3dd-04a8724ece7d' title='Show/Hide attributes'><svg class='icon xr-icon-file-text2'><use xlink:href='#icon-file-text2'></use></svg></label><input id='data-446b9887-dc28-4145-bad2-95ceef4f3174' class='xr-var-data-in' type='checkbox'><label for='data-446b9887-dc28-4145-bad2-95ceef4f3174' title='Show/Hide data repr'><svg class='icon xr-icon-database'><use xlink:href='#icon-database'></use></svg></label><div class='xr-var-attrs'><dl class='xr-attrs'><dt><span>title :</span></dt><dd>Available area</dd><dt><span>description :</span></dt><dd>Available area for resource area use by all technologies at a node.</dd><dt><span>default :</span></dt><dd>inf</dd><dt><span>resample_method :</span></dt><dd>mean</dd><dt><span>unit :</span></dt><dd>area.</dd></dl></div><div class='xr-var-data'><pre>array([  nan,  500., 1300.,  900.])</pre></div></li><li class='xr-var-item'><div class='xr-var-name'><span>latitude</span></div><div class='xr-var-dims'>(nodes)</div><div class='xr-var-dtype'>float64</div><div class='xr-var-preview xr-preview'>51.45 51.46 51.47 51.43</div><input id='attrs-c586bba3-aacc-4a61-8d08-c57034d23c4c' class='xr-var-attrs-in' type='checkbox' ><label for='attrs-c586bba3-aacc-4a61-8d08-c57034d23c4c' title='Show/Hide attributes'><svg class='icon xr-icon-file-text2'><use xlink:href='#icon-file-text2'></use></svg></label><input id='data-13d6edd1-e2c8-4adf-9d00-396a6cc8b01a' class='xr-var-data-in' type='checkbox'><label for='data-13d6edd1-e2c8-4adf-9d00-396a6cc8b01a' title='Show/Hide data repr'><svg class='icon xr-icon-database'><use xlink:href='#icon-database'></use></svg></label><div class='xr-var-attrs'><dl class='xr-attrs'><dt><span>title :</span></dt><dd>Latitude (WGS84 / EPSG4326).</dd><dt><span>description :</span></dt><dd></dd><dt><span>default :</span></dt><dd>nan</dd><dt><span>dtype :</span></dt><dd>float</dd><dt><span>resample_method :</span></dt><dd>mean</dd><dt><span>one_of :</span></dt><dd>None</dd><dt><span>pivot_values_to_dim :</span></dt><dd>None</dd></dl></div><div class='xr-var-data'><pre>array([51.4450766, 51.4596158, 51.4652373, 51.4287016])</pre></div></li><li class='xr-var-item'><div class='xr-var-name'><span>longitude</span></div><div class='xr-var-dims'>(nodes)</div><div class='xr-var-dtype'>float64</div><div class='xr-var-preview xr-preview'>-0.1247 -0.1613 -0.1142 -0.1311</div><input id='attrs-67eacd3b-996c-46d0-9860-701b136b584d' class='xr-var-attrs-in' type='checkbox' ><label for='attrs-67eacd3b-996c-46d0-9860-701b136b584d' title='Show/Hide attributes'><svg class='icon xr-icon-file-text2'><use xlink:href='#icon-file-text2'></use></svg></label><input id='data-83985a37-86f1-4f37-b193-14a5cbb3498b' class='xr-var-data-in' type='checkbox'><label for='data-83985a37-86f1-4f37-b193-14a5cbb3498b' title='Show/Hide data repr'><svg class='icon xr-icon-database'><use xlink:href='#icon-database'></use></svg></label><div class='xr-var-attrs'><dl class='xr-attrs'><dt><span>title :</span></dt><dd>Longitude (WGS84 / EPSG4326).</dd><dt><span>description :</span></dt><dd></dd><dt><span>default :</span></dt><dd>nan</dd><dt><span>dtype :</span></dt><dd>float</dd><dt><span>resample_method :</span></dt><dd>mean</dd><dt><span>one_of :</span></dt><dd>None</dd><dt><span>pivot_values_to_dim :</span></dt><dd>None</dd></dl></div><div class='xr-var-data'><pre>array([-0.1247183, -0.1613446, -0.1141548, -0.1310635])</pre></div></li><li class='xr-var-item'><div class='xr-var-name'><span>source_use_equals</span></div><div class='xr-var-dims'>(techs, timesteps)</div><div class='xr-var-dtype'>float64</div><div class='xr-var-preview xr-preview'>nan nan nan nan ... nan nan nan nan</div><input id='attrs-38f9e86a-63fd-4098-9dd8-73ad45df9775' class='xr-var-attrs-in' type='checkbox' ><label for='attrs-38f9e86a-63fd-4098-9dd8-73ad45df9775' title='Show/Hide attributes'><svg class='icon xr-icon-file-text2'><use xlink:href='#icon-file-text2'></use></svg></label><input id='data-6402c460-2b4c-482c-9c1f-a4adb14bf4a2' class='xr-var-data-in' type='checkbox'><label for='data-6402c460-2b4c-482c-9c1f-a4adb14bf4a2' title='Show/Hide data repr'><svg class='icon xr-icon-database'><use xlink:href='#icon-database'></use></svg></label><div class='xr-var-attrs'><dl class='xr-attrs'><dt><span>title :</span></dt><dd>Required sink use.</dd><dt><span>description :</span></dt><dd>Required amount of carrier removal from the system (e.g., biofuel, coal, rainfall, wind flow). Unit dictated by `source_unit`.</dd><dt><span>default :</span></dt><dd>nan</dd><dt><span>resample_method :</span></dt><dd>sum</dd><dt><span>unit :</span></dt><dd>energy | $\\frac{\\text{energy}}{\\text{power}}$ | $\\frac{\\text{energy}}{\\text{area}}$</dd></dl></div><div class='xr-var-data'><pre>array([[       nan,        nan,        nan,        nan,        nan,\n",
       "               nan,        nan,        nan,        nan,        nan,\n",
       "               nan,        nan,        nan,        nan,        nan,\n",
       "               nan,        nan,        nan,        nan,        nan,\n",
       "               nan,        nan,        nan,        nan,        nan,\n",
       "               nan,        nan,        nan,        nan,        nan,\n",
       "               nan,        nan,        nan,        nan,        nan,\n",
       "               nan,        nan,        nan,        nan,        nan,\n",
       "               nan,        nan,        nan,        nan,        nan,\n",
       "               nan,        nan,        nan],\n",
       "       [       nan,        nan,        nan,        nan,        nan,\n",
       "               nan,        nan,        nan,        nan,        nan,\n",
       "               nan,        nan,        nan,        nan,        nan,\n",
       "               nan,        nan,        nan,        nan,        nan,\n",
       "               nan,        nan,        nan,        nan,        nan,\n",
       "               nan,        nan,        nan,        nan,        nan,\n",
       "               nan,        nan,        nan,        nan,        nan,\n",
       "               nan,        nan,        nan,        nan,        nan,\n",
       "               nan,        nan,        nan,        nan,        nan,\n",
       "               nan,        nan,        nan],\n",
       "...\n",
       "       [       nan,        nan,        nan,        nan,        nan,\n",
       "               nan,        nan,        nan,        nan,        nan,\n",
       "               nan,        nan,        nan,        nan,        nan,\n",
       "               nan,        nan,        nan,        nan,        nan,\n",
       "               nan,        nan,        nan,        nan,        nan,\n",
       "               nan,        nan,        nan,        nan,        nan,\n",
       "               nan,        nan,        nan,        nan,        nan,\n",
       "               nan,        nan,        nan,        nan,        nan,\n",
       "               nan,        nan,        nan,        nan,        nan,\n",
       "               nan,        nan,        nan],\n",
       "       [       nan,        nan,        nan,        nan,        nan,\n",
       "               nan,        nan,        nan,        nan,        nan,\n",
       "               nan,        nan,        nan,        nan,        nan,\n",
       "               nan,        nan,        nan,        nan,        nan,\n",
       "               nan,        nan,        nan,        nan,        nan,\n",
       "               nan,        nan,        nan,        nan,        nan,\n",
       "               nan,        nan,        nan,        nan,        nan,\n",
       "               nan,        nan,        nan,        nan,        nan,\n",
       "               nan,        nan,        nan,        nan,        nan,\n",
       "               nan,        nan,        nan]])</pre></div></li><li class='xr-var-item'><div class='xr-var-name'><span>sink_use_equals</span></div><div class='xr-var-dims'>(timesteps, techs, nodes)</div><div class='xr-var-dtype'>float64</div><div class='xr-var-preview xr-preview'>nan nan nan nan ... nan nan nan nan</div><input id='attrs-dc514b8a-d700-4b37-acfd-52bd907df429' class='xr-var-attrs-in' type='checkbox' ><label for='attrs-dc514b8a-d700-4b37-acfd-52bd907df429' title='Show/Hide attributes'><svg class='icon xr-icon-file-text2'><use xlink:href='#icon-file-text2'></use></svg></label><input id='data-0c7bce91-1323-44cf-b82d-26aecd1ecf5b' class='xr-var-data-in' type='checkbox'><label for='data-0c7bce91-1323-44cf-b82d-26aecd1ecf5b' title='Show/Hide data repr'><svg class='icon xr-icon-database'><use xlink:href='#icon-database'></use></svg></label><div class='xr-var-attrs'><dl class='xr-attrs'><dt><span>title :</span></dt><dd>Required sink use.</dd><dt><span>description :</span></dt><dd>Required amount of carrier removal from the system (e.g., electricity demand, transport distance). Unit dictated by `source_unit`.</dd><dt><span>default :</span></dt><dd>nan</dd><dt><span>resample_method :</span></dt><dd>sum</dd><dt><span>unit :</span></dt><dd>energy | $\\frac{\\text{energy}}{\\text{power}}$ | $\\frac{\\text{energy}}{\\text{area}}$</dd></dl></div><div class='xr-var-data'><pre>array([[[nan, nan, nan, nan],\n",
       "        [nan, nan, nan, nan],\n",
       "        [nan, nan, nan, nan],\n",
       "        ...,\n",
       "        [nan, nan, nan, nan],\n",
       "        [nan, nan, nan, nan],\n",
       "        [nan, nan, nan, nan]],\n",
       "\n",
       "       [[nan, nan, nan, nan],\n",
       "        [nan, nan, nan, nan],\n",
       "        [nan, nan, nan, nan],\n",
       "        ...,\n",
       "        [nan, nan, nan, nan],\n",
       "        [nan, nan, nan, nan],\n",
       "        [nan, nan, nan, nan]],\n",
       "\n",
       "       [[nan, nan, nan, nan],\n",
       "        [nan, nan, nan, nan],\n",
       "        [nan, nan, nan, nan],\n",
       "        ...,\n",
       "...\n",
       "        ...,\n",
       "        [nan, nan, nan, nan],\n",
       "        [nan, nan, nan, nan],\n",
       "        [nan, nan, nan, nan]],\n",
       "\n",
       "       [[nan, nan, nan, nan],\n",
       "        [nan, nan, nan, nan],\n",
       "        [nan, nan, nan, nan],\n",
       "        ...,\n",
       "        [nan, nan, nan, nan],\n",
       "        [nan, nan, nan, nan],\n",
       "        [nan, nan, nan, nan]],\n",
       "\n",
       "       [[nan, nan, nan, nan],\n",
       "        [nan, nan, nan, nan],\n",
       "        [nan, nan, nan, nan],\n",
       "        ...,\n",
       "        [nan, nan, nan, nan],\n",
       "        [nan, nan, nan, nan],\n",
       "        [nan, nan, nan, nan]]])</pre></div></li><li class='xr-var-item'><div class='xr-var-name'><span>definition_matrix</span></div><div class='xr-var-dims'>(nodes, techs, carriers)</div><div class='xr-var-dtype'>bool</div><div class='xr-var-preview xr-preview'>False False True ... False False</div><input id='attrs-55ab8f80-bc4a-487f-ab73-2a9f406a4708' class='xr-var-attrs-in' type='checkbox' ><label for='attrs-55ab8f80-bc4a-487f-ab73-2a9f406a4708' title='Show/Hide attributes'><svg class='icon xr-icon-file-text2'><use xlink:href='#icon-file-text2'></use></svg></label><input id='data-c4a5360b-8869-44ce-b2bc-3976bce0ca7b' class='xr-var-data-in' type='checkbox'><label for='data-c4a5360b-8869-44ce-b2bc-3976bce0ca7b' title='Show/Hide data repr'><svg class='icon xr-icon-database'><use xlink:href='#icon-database'></use></svg></label><div class='xr-var-attrs'><dl class='xr-attrs'><dt><span>title :</span></dt><dd></dd><dt><span>description :</span></dt><dd>Whether a technology is defined with particular carriers and at a particular node.</dd><dt><span>default :</span></dt><dd>False</dd><dt><span>dtype :</span></dt><dd>bool</dd><dt><span>resample_method :</span></dt><dd>first</dd><dt><span>one_of :</span></dt><dd>None</dd><dt><span>pivot_values_to_dim :</span></dt><dd>None</dd></dl></div><div class='xr-var-data'><pre>array([[[False, False,  True],\n",
       "        [False, False,  True],\n",
       "        [False, False,  True],\n",
       "        [False, False, False],\n",
       "        [False, False, False],\n",
       "        [False, False, False],\n",
       "        [False, False, False],\n",
       "        [False, False, False],\n",
       "        [False, False, False],\n",
       "        [False, False, False],\n",
       "        [False, False, False],\n",
       "        [False, False, False]],\n",
       "\n",
       "       [[False, False, False],\n",
       "        [False, False, False],\n",
       "        [False, False,  True],\n",
       "        [ True, False, False],\n",
       "        [ True, False, False],\n",
       "        [False, False, False],\n",
       "        [ True,  True,  True],\n",
       "...\n",
       "        [False,  True,  True],\n",
       "        [False, False, False],\n",
       "        [ True, False, False],\n",
       "        [False, False,  True],\n",
       "        [ True, False, False],\n",
       "        [False,  True, False],\n",
       "        [False, False, False]],\n",
       "\n",
       "       [[False, False, False],\n",
       "        [False, False,  True],\n",
       "        [False, False, False],\n",
       "        [False, False, False],\n",
       "        [ True, False, False],\n",
       "        [False,  True,  True],\n",
       "        [False, False, False],\n",
       "        [ True, False, False],\n",
       "        [False, False,  True],\n",
       "        [ True, False, False],\n",
       "        [False,  True, False],\n",
       "        [False, False, False]]])</pre></div></li><li class='xr-var-item'><div class='xr-var-name'><span>timestep_resolution</span></div><div class='xr-var-dims'>(timesteps)</div><div class='xr-var-dtype'>float64</div><div class='xr-var-preview xr-preview'>1.0 1.0 1.0 1.0 ... 1.0 1.0 1.0 1.0</div><input id='attrs-353c0074-4cde-4d5c-98bb-54231320f35e' class='xr-var-attrs-in' type='checkbox' ><label for='attrs-353c0074-4cde-4d5c-98bb-54231320f35e' title='Show/Hide attributes'><svg class='icon xr-icon-file-text2'><use xlink:href='#icon-file-text2'></use></svg></label><input id='data-0406664b-e4bd-4d7f-97a4-dbabe2e0efd8' class='xr-var-data-in' type='checkbox'><label for='data-0406664b-e4bd-4d7f-97a4-dbabe2e0efd8' title='Show/Hide data repr'><svg class='icon xr-icon-database'><use xlink:href='#icon-database'></use></svg></label><div class='xr-var-attrs'><dl class='xr-attrs'><dt><span>title :</span></dt><dd>Resolution per timestep.</dd><dt><span>description :</span></dt><dd></dd><dt><span>default :</span></dt><dd>1</dd><dt><span>resample_method :</span></dt><dd>sum</dd><dt><span>unit :</span></dt><dd>hours.</dd></dl></div><div class='xr-var-data'><pre>array([1., 1., 1., 1., 1., 1., 1., 1., 1., 1., 1., 1., 1., 1., 1., 1., 1.,\n",
       "       1., 1., 1., 1., 1., 1., 1., 1., 1., 1., 1., 1., 1., 1., 1., 1., 1.,\n",
       "       1., 1., 1., 1., 1., 1., 1., 1., 1., 1., 1., 1., 1., 1.])</pre></div></li><li class='xr-var-item'><div class='xr-var-name'><span>timestep_weights</span></div><div class='xr-var-dims'>(timesteps)</div><div class='xr-var-dtype'>float64</div><div class='xr-var-preview xr-preview'>1.0 1.0 1.0 1.0 ... 1.0 1.0 1.0 1.0</div><input id='attrs-95524087-2764-4942-b232-710aab016888' class='xr-var-attrs-in' type='checkbox' ><label for='attrs-95524087-2764-4942-b232-710aab016888' title='Show/Hide attributes'><svg class='icon xr-icon-file-text2'><use xlink:href='#icon-file-text2'></use></svg></label><input id='data-d605b640-dbca-4272-a900-fb677d7dd07e' class='xr-var-data-in' type='checkbox'><label for='data-d605b640-dbca-4272-a900-fb677d7dd07e' title='Show/Hide data repr'><svg class='icon xr-icon-database'><use xlink:href='#icon-database'></use></svg></label><div class='xr-var-attrs'><dl class='xr-attrs'><dt><span>title :</span></dt><dd>Weight per timestep.</dd><dt><span>description :</span></dt><dd></dd><dt><span>default :</span></dt><dd>1</dd><dt><span>resample_method :</span></dt><dd>mean</dd><dt><span>unit :</span></dt><dd>unitless.</dd></dl></div><div class='xr-var-data'><pre>array([1., 1., 1., 1., 1., 1., 1., 1., 1., 1., 1., 1., 1., 1., 1., 1., 1.,\n",
       "       1., 1., 1., 1., 1., 1., 1., 1., 1., 1., 1., 1., 1., 1., 1., 1., 1.,\n",
       "       1., 1., 1., 1., 1., 1., 1., 1., 1., 1., 1., 1., 1., 1.])</pre></div></li></ul></div></li><li class='xr-section-item'><input id='section-223767af-c017-48c1-b402-8263dbbb58b6' class='xr-section-summary-in' type='checkbox'  ><label for='section-223767af-c017-48c1-b402-8263dbbb58b6' class='xr-section-summary' >Indexes: <span>(5)</span></label><div class='xr-section-inline-details'></div><div class='xr-section-details'><ul class='xr-var-list'><li class='xr-var-item'><div class='xr-index-name'><div>costs</div></div><div class='xr-index-preview'>PandasIndex</div><div></div><input id='index-6d53e3fc-7e0c-4491-9aab-78d2902e2e8c' class='xr-index-data-in' type='checkbox'/><label for='index-6d53e3fc-7e0c-4491-9aab-78d2902e2e8c' title='Show/Hide index repr'><svg class='icon xr-icon-database'><use xlink:href='#icon-database'></use></svg></label><div class='xr-index-data'><pre>PandasIndex(Index([&#x27;monetary&#x27;], dtype=&#x27;object&#x27;, name=&#x27;costs&#x27;))</pre></div></li><li class='xr-var-item'><div class='xr-index-name'><div>techs</div></div><div class='xr-index-preview'>PandasIndex</div><div></div><input id='index-4a7a1626-52f7-4afe-b695-d175a33b2229' class='xr-index-data-in' type='checkbox'/><label for='index-4a7a1626-52f7-4afe-b695-d175a33b2229' title='Show/Hide index repr'><svg class='icon xr-icon-database'><use xlink:href='#icon-database'></use></svg></label><div class='xr-index-data'><pre>PandasIndex(Index([&#x27;N1_to_X2&#x27;, &#x27;N1_to_X3&#x27;, &#x27;X1_to_N1&#x27;, &#x27;X1_to_X2&#x27;, &#x27;X1_to_X3&#x27;, &#x27;boiler&#x27;,\n",
       "       &#x27;chp&#x27;, &#x27;demand_electricity&#x27;, &#x27;demand_heat&#x27;, &#x27;pv&#x27;, &#x27;supply_gas&#x27;,\n",
       "       &#x27;supply_grid_power&#x27;],\n",
       "      dtype=&#x27;object&#x27;, name=&#x27;techs&#x27;))</pre></div></li><li class='xr-var-item'><div class='xr-index-name'><div>carriers</div></div><div class='xr-index-preview'>PandasIndex</div><div></div><input id='index-6e0ad5ee-283e-4d35-b759-9572d952e3cb' class='xr-index-data-in' type='checkbox'/><label for='index-6e0ad5ee-283e-4d35-b759-9572d952e3cb' title='Show/Hide index repr'><svg class='icon xr-icon-database'><use xlink:href='#icon-database'></use></svg></label><div class='xr-index-data'><pre>PandasIndex(Index([&#x27;electricity&#x27;, &#x27;gas&#x27;, &#x27;heat&#x27;], dtype=&#x27;object&#x27;, name=&#x27;carriers&#x27;))</pre></div></li><li class='xr-var-item'><div class='xr-index-name'><div>nodes</div></div><div class='xr-index-preview'>PandasIndex</div><div></div><input id='index-510b1bdb-2159-4f1b-beb9-4f4bd5d89bb3' class='xr-index-data-in' type='checkbox'/><label for='index-510b1bdb-2159-4f1b-beb9-4f4bd5d89bb3' title='Show/Hide index repr'><svg class='icon xr-icon-database'><use xlink:href='#icon-database'></use></svg></label><div class='xr-index-data'><pre>PandasIndex(Index([&#x27;N1&#x27;, &#x27;X1&#x27;, &#x27;X2&#x27;, &#x27;X3&#x27;], dtype=&#x27;object&#x27;, name=&#x27;nodes&#x27;))</pre></div></li><li class='xr-var-item'><div class='xr-index-name'><div>timesteps</div></div><div class='xr-index-preview'>PandasIndex</div><div></div><input id='index-0b1468ab-be8a-4d5a-a17b-b39cdeab6099' class='xr-index-data-in' type='checkbox'/><label for='index-0b1468ab-be8a-4d5a-a17b-b39cdeab6099' title='Show/Hide index repr'><svg class='icon xr-icon-database'><use xlink:href='#icon-database'></use></svg></label><div class='xr-index-data'><pre>PandasIndex(DatetimeIndex([&#x27;2005-07-01 00:00:00&#x27;, &#x27;2005-07-01 01:00:00&#x27;,\n",
       "               &#x27;2005-07-01 02:00:00&#x27;, &#x27;2005-07-01 03:00:00&#x27;,\n",
       "               &#x27;2005-07-01 04:00:00&#x27;, &#x27;2005-07-01 05:00:00&#x27;,\n",
       "               &#x27;2005-07-01 06:00:00&#x27;, &#x27;2005-07-01 07:00:00&#x27;,\n",
       "               &#x27;2005-07-01 08:00:00&#x27;, &#x27;2005-07-01 09:00:00&#x27;,\n",
       "               &#x27;2005-07-01 10:00:00&#x27;, &#x27;2005-07-01 11:00:00&#x27;,\n",
       "               &#x27;2005-07-01 12:00:00&#x27;, &#x27;2005-07-01 13:00:00&#x27;,\n",
       "               &#x27;2005-07-01 14:00:00&#x27;, &#x27;2005-07-01 15:00:00&#x27;,\n",
       "               &#x27;2005-07-01 16:00:00&#x27;, &#x27;2005-07-01 17:00:00&#x27;,\n",
       "               &#x27;2005-07-01 18:00:00&#x27;, &#x27;2005-07-01 19:00:00&#x27;,\n",
       "               &#x27;2005-07-01 20:00:00&#x27;, &#x27;2005-07-01 21:00:00&#x27;,\n",
       "               &#x27;2005-07-01 22:00:00&#x27;, &#x27;2005-07-01 23:00:00&#x27;,\n",
       "               &#x27;2005-07-02 00:00:00&#x27;, &#x27;2005-07-02 01:00:00&#x27;,\n",
       "               &#x27;2005-07-02 02:00:00&#x27;, &#x27;2005-07-02 03:00:00&#x27;,\n",
       "               &#x27;2005-07-02 04:00:00&#x27;, &#x27;2005-07-02 05:00:00&#x27;,\n",
       "               &#x27;2005-07-02 06:00:00&#x27;, &#x27;2005-07-02 07:00:00&#x27;,\n",
       "               &#x27;2005-07-02 08:00:00&#x27;, &#x27;2005-07-02 09:00:00&#x27;,\n",
       "               &#x27;2005-07-02 10:00:00&#x27;, &#x27;2005-07-02 11:00:00&#x27;,\n",
       "               &#x27;2005-07-02 12:00:00&#x27;, &#x27;2005-07-02 13:00:00&#x27;,\n",
       "               &#x27;2005-07-02 14:00:00&#x27;, &#x27;2005-07-02 15:00:00&#x27;,\n",
       "               &#x27;2005-07-02 16:00:00&#x27;, &#x27;2005-07-02 17:00:00&#x27;,\n",
       "               &#x27;2005-07-02 18:00:00&#x27;, &#x27;2005-07-02 19:00:00&#x27;,\n",
       "               &#x27;2005-07-02 20:00:00&#x27;, &#x27;2005-07-02 21:00:00&#x27;,\n",
       "               &#x27;2005-07-02 22:00:00&#x27;, &#x27;2005-07-02 23:00:00&#x27;],\n",
       "              dtype=&#x27;datetime64[ns]&#x27;, name=&#x27;timesteps&#x27;, freq=None))</pre></div></li></ul></div></li><li class='xr-section-item'><input id='section-a25ff86d-e1dc-423a-9c7c-f420556f51fc' class='xr-section-summary-in' type='checkbox' disabled ><label for='section-a25ff86d-e1dc-423a-9c7c-f420556f51fc' class='xr-section-summary'  title='Expand/collapse section'>Attributes: <span>(0)</span></label><div class='xr-section-inline-details'></div><div class='xr-section-details'><dl class='xr-attrs'></dl></div></li></ul></div></div>"
      ],
      "text/plain": [
       "<xarray.Dataset> Size: 86kB\n",
       "Dimensions:                     (costs: 1, techs: 12, carriers: 3, nodes: 4,\n",
       "                                 timesteps: 48)\n",
       "Coordinates:\n",
       "  * costs                       (costs) object 8B 'monetary'\n",
       "  * techs                       (techs) object 96B 'N1_to_X2' ... 'supply_gri...\n",
       "  * carriers                    (carriers) object 24B 'electricity' 'gas' 'heat'\n",
       "  * nodes                       (nodes) object 32B 'N1' 'X1' 'X2' 'X3'\n",
       "  * timesteps                   (timesteps) datetime64[ns] 384B 2005-07-01 .....\n",
       "Data variables: (12/34)\n",
       "    cost_interest_rate          (costs) float64 8B 0.1\n",
       "    bigM                        float64 8B 1e+06\n",
       "    objective_cost_weights      (costs) float64 8B 1.0\n",
       "    base_tech                   (techs) object 96B 'transmission' ... 'supply'\n",
       "    carrier_export              (techs, carriers) bool 36B False False ... False\n",
       "    carrier_in                  (nodes, techs, carriers) bool 144B False ... ...\n",
       "    ...                          ...\n",
       "    longitude                   (nodes) float64 32B -0.1247 -0.1613 ... -0.1311\n",
       "    source_use_equals           (techs, timesteps) float64 5kB nan nan ... nan\n",
       "    sink_use_equals             (timesteps, techs, nodes) float64 18kB nan .....\n",
       "    definition_matrix           (nodes, techs, carriers) bool 144B False ... ...\n",
       "    timestep_resolution         (timesteps) float64 384B 1.0 1.0 1.0 ... 1.0 1.0\n",
       "    timestep_weights            (timesteps) float64 384B 1.0 1.0 1.0 ... 1.0 1.0"
      ]
     },
     "execution_count": 3,
     "metadata": {},
     "output_type": "execute_result"
    }
   ],
   "source": [
    "model.inputs"
   ]
  },
  {
   "cell_type": "markdown",
   "id": "ab4e52e2",
   "metadata": {},
   "source": [
    "Individual data variables can be accessed easily, `to_series().dropna()` allows us to view the data in a nice tabular format."
   ]
  },
  {
   "cell_type": "code",
   "execution_count": 4,
   "id": "d83c6d94",
   "metadata": {},
   "outputs": [
    {
     "data": {
      "text/plain": [
       "techs              carriers     nodes\n",
       "N1_to_X2           heat         N1       2000.0\n",
       "                                X2       2000.0\n",
       "N1_to_X3           heat         N1       2000.0\n",
       "                                X3       2000.0\n",
       "X1_to_N1           heat         N1       2000.0\n",
       "                                X1       2000.0\n",
       "X1_to_X2           electricity  X1       2000.0\n",
       "                                X2       2000.0\n",
       "X1_to_X3           electricity  X1       2000.0\n",
       "                                X3       2000.0\n",
       "boiler             heat         X2        600.0\n",
       "                                X3        600.0\n",
       "chp                electricity  X1       1500.0\n",
       "pv                 electricity  X1        250.0\n",
       "                                X2        250.0\n",
       "                                X3         50.0\n",
       "supply_gas         gas          X1       2000.0\n",
       "                                X2       2000.0\n",
       "                                X3       2000.0\n",
       "supply_grid_power  electricity  X1       2000.0\n",
       "Name: flow_cap_max, dtype: float64"
      ]
     },
     "execution_count": 4,
     "metadata": {},
     "output_type": "execute_result"
    }
   ],
   "source": [
    "model.inputs.flow_cap_max.to_series().dropna()"
   ]
  },
  {
   "cell_type": "markdown",
   "id": "1768d075",
   "metadata": {},
   "source": [
    "You can apply node/tech/carrier/timesteps only operations, like summing information over timesteps"
   ]
  },
  {
   "cell_type": "code",
   "execution_count": 5,
   "id": "acb00693",
   "metadata": {},
   "outputs": [
    {
     "data": {
      "text/plain": [
       "techs               nodes\n",
       "demand_electricity  X1         35.271156\n",
       "                    X2       8796.878622\n",
       "                    X3       1244.604116\n",
       "demand_heat         X1         33.999992\n",
       "                    X2       7147.808356\n",
       "                    X3         50.567751\n",
       "Name: sink_use_equals, dtype: float64"
      ]
     },
     "execution_count": 5,
     "metadata": {},
     "output_type": "execute_result"
    }
   ],
   "source": [
    "model.inputs.sink_use_equals.sum(\n",
    "    \"timesteps\", min_count=1, skipna=True\n",
    ").to_series().dropna()"
   ]
  },
  {
   "cell_type": "markdown",
   "id": "7d469456",
   "metadata": {},
   "source": [
    "## Build and solve the optimisation problem.\n",
    "\n",
    "Results are loaded into `model.results`.\n",
    "By setting the log verbosity at the start of this tutorial to \"INFO\", we can see the timing of parts of the run, as well as the solver's log."
   ]
  },
  {
   "cell_type": "code",
   "execution_count": 6,
   "id": "ff587361",
   "metadata": {},
   "outputs": [
    {
     "name": "stdout",
     "output_type": "stream",
     "text": [
      "[2025-10-09 13:04:20] INFO     Model: backend build starting\n",
      "[2025-10-09 13:04:21] INFO     Optimisation Model | parameters/lookups | Generated.\n",
      "[2025-10-09 13:04:22] INFO     Optimisation Model | variables | Generated.\n",
      "[2025-10-09 13:04:25] INFO     Optimisation Model | global_expressions | Generated.\n",
      "[2025-10-09 13:04:29] INFO     Optimisation Model | constraints | Generated.\n",
      "[2025-10-09 13:04:29] INFO     Optimisation Model | piecewise_constraints | Generated.\n",
      "[2025-10-09 13:04:29] INFO     Optimisation Model | objectives | Generated.\n",
      "[2025-10-09 13:04:29] INFO     Model: backend build complete\n",
      "[2025-10-09 13:04:29] INFO     Optimisation model | starting model in base mode.\n",
      "[2025-10-09 13:04:31] INFO     Backend: solver finished running. Time since start of solving optimisation problem: 0:00:01.920978\n",
      "[2025-10-09 13:04:31] INFO     Postprocessing: applied zero threshold 1e-10 to model results.\n",
      "[2025-10-09 13:04:31] INFO     Postprocessing: ended. Time since start of solving optimisation problem: 0:00:02.142982\n",
      "[2025-10-09 13:04:31] INFO     Backend: model solve completed. Time since start of solving optimisation problem: 0:00:02.144981\n"
     ]
    }
   ],
   "source": [
    "model.build()\n",
    "model.solve()"
   ]
  },
  {
   "cell_type": "markdown",
   "id": "cd2d148a",
   "metadata": {},
   "source": [
    "Model results are held in the same structure as model inputs.\n",
    "The results consist of the optimal values for all decision variables, including capacities and carrier flow.\n",
    "There are also results, like system capacity factor and levelised costs, which are calculated in postprocessing before being added to the results Dataset"
   ]
  },
  {
   "cell_type": "markdown",
   "id": "51b40ca8",
   "metadata": {},
   "source": [
    "## Examine results"
   ]
  },
  {
   "cell_type": "code",
   "execution_count": 7,
   "id": "dd33bb44",
   "metadata": {},
   "outputs": [
    {
     "data": {
      "text/html": [
       "<div><svg style=\"position: absolute; width: 0; height: 0; overflow: hidden\">\n",
       "<defs>\n",
       "<symbol id=\"icon-database\" viewBox=\"0 0 32 32\">\n",
       "<path d=\"M16 0c-8.837 0-16 2.239-16 5v4c0 2.761 7.163 5 16 5s16-2.239 16-5v-4c0-2.761-7.163-5-16-5z\"></path>\n",
       "<path d=\"M16 17c-8.837 0-16-2.239-16-5v6c0 2.761 7.163 5 16 5s16-2.239 16-5v-6c0 2.761-7.163 5-16 5z\"></path>\n",
       "<path d=\"M16 26c-8.837 0-16-2.239-16-5v6c0 2.761 7.163 5 16 5s16-2.239 16-5v-6c0 2.761-7.163 5-16 5z\"></path>\n",
       "</symbol>\n",
       "<symbol id=\"icon-file-text2\" viewBox=\"0 0 32 32\">\n",
       "<path d=\"M28.681 7.159c-0.694-0.947-1.662-2.053-2.724-3.116s-2.169-2.030-3.116-2.724c-1.612-1.182-2.393-1.319-2.841-1.319h-15.5c-1.378 0-2.5 1.121-2.5 2.5v27c0 1.378 1.122 2.5 2.5 2.5h23c1.378 0 2.5-1.122 2.5-2.5v-19.5c0-0.448-0.137-1.23-1.319-2.841zM24.543 5.457c0.959 0.959 1.712 1.825 2.268 2.543h-4.811v-4.811c0.718 0.556 1.584 1.309 2.543 2.268zM28 29.5c0 0.271-0.229 0.5-0.5 0.5h-23c-0.271 0-0.5-0.229-0.5-0.5v-27c0-0.271 0.229-0.5 0.5-0.5 0 0 15.499-0 15.5 0v7c0 0.552 0.448 1 1 1h7v19.5z\"></path>\n",
       "<path d=\"M23 26h-14c-0.552 0-1-0.448-1-1s0.448-1 1-1h14c0.552 0 1 0.448 1 1s-0.448 1-1 1z\"></path>\n",
       "<path d=\"M23 22h-14c-0.552 0-1-0.448-1-1s0.448-1 1-1h14c0.552 0 1 0.448 1 1s-0.448 1-1 1z\"></path>\n",
       "<path d=\"M23 18h-14c-0.552 0-1-0.448-1-1s0.448-1 1-1h14c0.552 0 1 0.448 1 1s-0.448 1-1 1z\"></path>\n",
       "</symbol>\n",
       "</defs>\n",
       "</svg>\n",
       "<style>/* CSS stylesheet for displaying xarray objects in jupyterlab.\n",
       " *\n",
       " */\n",
       "\n",
       ":root {\n",
       "  --xr-font-color0: var(--jp-content-font-color0, rgba(0, 0, 0, 1));\n",
       "  --xr-font-color2: var(--jp-content-font-color2, rgba(0, 0, 0, 0.54));\n",
       "  --xr-font-color3: var(--jp-content-font-color3, rgba(0, 0, 0, 0.38));\n",
       "  --xr-border-color: var(--jp-border-color2, #e0e0e0);\n",
       "  --xr-disabled-color: var(--jp-layout-color3, #bdbdbd);\n",
       "  --xr-background-color: var(--jp-layout-color0, white);\n",
       "  --xr-background-color-row-even: var(--jp-layout-color1, white);\n",
       "  --xr-background-color-row-odd: var(--jp-layout-color2, #eeeeee);\n",
       "}\n",
       "\n",
       "html[theme=dark],\n",
       "body[data-theme=dark],\n",
       "body.vscode-dark {\n",
       "  --xr-font-color0: rgba(255, 255, 255, 1);\n",
       "  --xr-font-color2: rgba(255, 255, 255, 0.54);\n",
       "  --xr-font-color3: rgba(255, 255, 255, 0.38);\n",
       "  --xr-border-color: #1F1F1F;\n",
       "  --xr-disabled-color: #515151;\n",
       "  --xr-background-color: #111111;\n",
       "  --xr-background-color-row-even: #111111;\n",
       "  --xr-background-color-row-odd: #313131;\n",
       "}\n",
       "\n",
       ".xr-wrap {\n",
       "  display: block !important;\n",
       "  min-width: 300px;\n",
       "  max-width: 700px;\n",
       "}\n",
       "\n",
       ".xr-text-repr-fallback {\n",
       "  /* fallback to plain text repr when CSS is not injected (untrusted notebook) */\n",
       "  display: none;\n",
       "}\n",
       "\n",
       ".xr-header {\n",
       "  padding-top: 6px;\n",
       "  padding-bottom: 6px;\n",
       "  margin-bottom: 4px;\n",
       "  border-bottom: solid 1px var(--xr-border-color);\n",
       "}\n",
       "\n",
       ".xr-header > div,\n",
       ".xr-header > ul {\n",
       "  display: inline;\n",
       "  margin-top: 0;\n",
       "  margin-bottom: 0;\n",
       "}\n",
       "\n",
       ".xr-obj-type,\n",
       ".xr-array-name {\n",
       "  margin-left: 2px;\n",
       "  margin-right: 10px;\n",
       "}\n",
       "\n",
       ".xr-obj-type {\n",
       "  color: var(--xr-font-color2);\n",
       "}\n",
       "\n",
       ".xr-sections {\n",
       "  padding-left: 0 !important;\n",
       "  display: grid;\n",
       "  grid-template-columns: 150px auto auto 1fr 20px 20px;\n",
       "}\n",
       "\n",
       ".xr-section-item {\n",
       "  display: contents;\n",
       "}\n",
       "\n",
       ".xr-section-item input {\n",
       "  display: none;\n",
       "}\n",
       "\n",
       ".xr-section-item input + label {\n",
       "  color: var(--xr-disabled-color);\n",
       "}\n",
       "\n",
       ".xr-section-item input:enabled + label {\n",
       "  cursor: pointer;\n",
       "  color: var(--xr-font-color2);\n",
       "}\n",
       "\n",
       ".xr-section-item input:enabled + label:hover {\n",
       "  color: var(--xr-font-color0);\n",
       "}\n",
       "\n",
       ".xr-section-summary {\n",
       "  grid-column: 1;\n",
       "  color: var(--xr-font-color2);\n",
       "  font-weight: 500;\n",
       "}\n",
       "\n",
       ".xr-section-summary > span {\n",
       "  display: inline-block;\n",
       "  padding-left: 0.5em;\n",
       "}\n",
       "\n",
       ".xr-section-summary-in:disabled + label {\n",
       "  color: var(--xr-font-color2);\n",
       "}\n",
       "\n",
       ".xr-section-summary-in + label:before {\n",
       "  display: inline-block;\n",
       "  content: '►';\n",
       "  font-size: 11px;\n",
       "  width: 15px;\n",
       "  text-align: center;\n",
       "}\n",
       "\n",
       ".xr-section-summary-in:disabled + label:before {\n",
       "  color: var(--xr-disabled-color);\n",
       "}\n",
       "\n",
       ".xr-section-summary-in:checked + label:before {\n",
       "  content: '▼';\n",
       "}\n",
       "\n",
       ".xr-section-summary-in:checked + label > span {\n",
       "  display: none;\n",
       "}\n",
       "\n",
       ".xr-section-summary,\n",
       ".xr-section-inline-details {\n",
       "  padding-top: 4px;\n",
       "  padding-bottom: 4px;\n",
       "}\n",
       "\n",
       ".xr-section-inline-details {\n",
       "  grid-column: 2 / -1;\n",
       "}\n",
       "\n",
       ".xr-section-details {\n",
       "  display: none;\n",
       "  grid-column: 1 / -1;\n",
       "  margin-bottom: 5px;\n",
       "}\n",
       "\n",
       ".xr-section-summary-in:checked ~ .xr-section-details {\n",
       "  display: contents;\n",
       "}\n",
       "\n",
       ".xr-array-wrap {\n",
       "  grid-column: 1 / -1;\n",
       "  display: grid;\n",
       "  grid-template-columns: 20px auto;\n",
       "}\n",
       "\n",
       ".xr-array-wrap > label {\n",
       "  grid-column: 1;\n",
       "  vertical-align: top;\n",
       "}\n",
       "\n",
       ".xr-preview {\n",
       "  color: var(--xr-font-color3);\n",
       "}\n",
       "\n",
       ".xr-array-preview,\n",
       ".xr-array-data {\n",
       "  padding: 0 5px !important;\n",
       "  grid-column: 2;\n",
       "}\n",
       "\n",
       ".xr-array-data,\n",
       ".xr-array-in:checked ~ .xr-array-preview {\n",
       "  display: none;\n",
       "}\n",
       "\n",
       ".xr-array-in:checked ~ .xr-array-data,\n",
       ".xr-array-preview {\n",
       "  display: inline-block;\n",
       "}\n",
       "\n",
       ".xr-dim-list {\n",
       "  display: inline-block !important;\n",
       "  list-style: none;\n",
       "  padding: 0 !important;\n",
       "  margin: 0;\n",
       "}\n",
       "\n",
       ".xr-dim-list li {\n",
       "  display: inline-block;\n",
       "  padding: 0;\n",
       "  margin: 0;\n",
       "}\n",
       "\n",
       ".xr-dim-list:before {\n",
       "  content: '(';\n",
       "}\n",
       "\n",
       ".xr-dim-list:after {\n",
       "  content: ')';\n",
       "}\n",
       "\n",
       ".xr-dim-list li:not(:last-child):after {\n",
       "  content: ',';\n",
       "  padding-right: 5px;\n",
       "}\n",
       "\n",
       ".xr-has-index {\n",
       "  font-weight: bold;\n",
       "}\n",
       "\n",
       ".xr-var-list,\n",
       ".xr-var-item {\n",
       "  display: contents;\n",
       "}\n",
       "\n",
       ".xr-var-item > div,\n",
       ".xr-var-item label,\n",
       ".xr-var-item > .xr-var-name span {\n",
       "  background-color: var(--xr-background-color-row-even);\n",
       "  margin-bottom: 0;\n",
       "}\n",
       "\n",
       ".xr-var-item > .xr-var-name:hover span {\n",
       "  padding-right: 5px;\n",
       "}\n",
       "\n",
       ".xr-var-list > li:nth-child(odd) > div,\n",
       ".xr-var-list > li:nth-child(odd) > label,\n",
       ".xr-var-list > li:nth-child(odd) > .xr-var-name span {\n",
       "  background-color: var(--xr-background-color-row-odd);\n",
       "}\n",
       "\n",
       ".xr-var-name {\n",
       "  grid-column: 1;\n",
       "}\n",
       "\n",
       ".xr-var-dims {\n",
       "  grid-column: 2;\n",
       "}\n",
       "\n",
       ".xr-var-dtype {\n",
       "  grid-column: 3;\n",
       "  text-align: right;\n",
       "  color: var(--xr-font-color2);\n",
       "}\n",
       "\n",
       ".xr-var-preview {\n",
       "  grid-column: 4;\n",
       "}\n",
       "\n",
       ".xr-index-preview {\n",
       "  grid-column: 2 / 5;\n",
       "  color: var(--xr-font-color2);\n",
       "}\n",
       "\n",
       ".xr-var-name,\n",
       ".xr-var-dims,\n",
       ".xr-var-dtype,\n",
       ".xr-preview,\n",
       ".xr-attrs dt {\n",
       "  white-space: nowrap;\n",
       "  overflow: hidden;\n",
       "  text-overflow: ellipsis;\n",
       "  padding-right: 10px;\n",
       "}\n",
       "\n",
       ".xr-var-name:hover,\n",
       ".xr-var-dims:hover,\n",
       ".xr-var-dtype:hover,\n",
       ".xr-attrs dt:hover {\n",
       "  overflow: visible;\n",
       "  width: auto;\n",
       "  z-index: 1;\n",
       "}\n",
       "\n",
       ".xr-var-attrs,\n",
       ".xr-var-data,\n",
       ".xr-index-data {\n",
       "  display: none;\n",
       "  background-color: var(--xr-background-color) !important;\n",
       "  padding-bottom: 5px !important;\n",
       "}\n",
       "\n",
       ".xr-var-attrs-in:checked ~ .xr-var-attrs,\n",
       ".xr-var-data-in:checked ~ .xr-var-data,\n",
       ".xr-index-data-in:checked ~ .xr-index-data {\n",
       "  display: block;\n",
       "}\n",
       "\n",
       ".xr-var-data > table {\n",
       "  float: right;\n",
       "}\n",
       "\n",
       ".xr-var-name span,\n",
       ".xr-var-data,\n",
       ".xr-index-name div,\n",
       ".xr-index-data,\n",
       ".xr-attrs {\n",
       "  padding-left: 25px !important;\n",
       "}\n",
       "\n",
       ".xr-attrs,\n",
       ".xr-var-attrs,\n",
       ".xr-var-data,\n",
       ".xr-index-data {\n",
       "  grid-column: 1 / -1;\n",
       "}\n",
       "\n",
       "dl.xr-attrs {\n",
       "  padding: 0;\n",
       "  margin: 0;\n",
       "  display: grid;\n",
       "  grid-template-columns: 125px auto;\n",
       "}\n",
       "\n",
       ".xr-attrs dt,\n",
       ".xr-attrs dd {\n",
       "  padding: 0;\n",
       "  margin: 0;\n",
       "  float: left;\n",
       "  padding-right: 10px;\n",
       "  width: auto;\n",
       "}\n",
       "\n",
       ".xr-attrs dt {\n",
       "  font-weight: normal;\n",
       "  grid-column: 1;\n",
       "}\n",
       "\n",
       ".xr-attrs dt:hover span {\n",
       "  display: inline-block;\n",
       "  background: var(--xr-background-color);\n",
       "  padding-right: 10px;\n",
       "}\n",
       "\n",
       ".xr-attrs dd {\n",
       "  grid-column: 2;\n",
       "  white-space: pre-wrap;\n",
       "  word-break: break-all;\n",
       "}\n",
       "\n",
       ".xr-icon-database,\n",
       ".xr-icon-file-text2,\n",
       ".xr-no-icon {\n",
       "  display: inline-block;\n",
       "  vertical-align: middle;\n",
       "  width: 1em;\n",
       "  height: 1.5em !important;\n",
       "  stroke-width: 0;\n",
       "  stroke: currentColor;\n",
       "  fill: currentColor;\n",
       "}\n",
       "</style><pre class='xr-text-repr-fallback'>&lt;xarray.Dataset&gt; Size: 388kB\n",
       "Dimensions:                     (nodes: 4, techs: 12, carriers: 3,\n",
       "                                 timesteps: 48, costs: 1)\n",
       "Coordinates:\n",
       "  * techs                       (techs) object 96B &#x27;N1_to_X2&#x27; ... &#x27;supply_gri...\n",
       "  * nodes                       (nodes) object 32B &#x27;N1&#x27; &#x27;X1&#x27; &#x27;X2&#x27; &#x27;X3&#x27;\n",
       "  * carriers                    (carriers) object 24B &#x27;electricity&#x27; &#x27;gas&#x27; &#x27;heat&#x27;\n",
       "  * timesteps                   (timesteps) datetime64[ns] 384B 2005-07-01 .....\n",
       "  * costs                       (costs) object 8B &#x27;monetary&#x27;\n",
       "Data variables: (12/24)\n",
       "    flow_cap                    (nodes, techs, carriers) float64 1kB nan ... nan\n",
       "    link_flow_cap               (techs) float64 96B 190.2 10.38 ... nan nan\n",
       "    flow_out                    (nodes, techs, carriers, timesteps) float64 55kB ...\n",
       "    flow_in                     (nodes, techs, carriers, timesteps) float64 55kB ...\n",
       "    flow_export                 (nodes, techs, carriers, timesteps) float64 55kB ...\n",
       "    area_use                    (nodes, techs) float64 384B nan nan ... nan nan\n",
       "    ...                          ...\n",
       "    min_cost_optimisation       float64 8B 842.3\n",
       "    capacity_factor             (nodes, techs, carriers, timesteps) float64 55kB ...\n",
       "    systemwide_capacity_factor  (techs, carriers) float64 288B 0.0 0.0 ... 0.0\n",
       "    systemwide_levelised_cost   (techs, costs, carriers) float64 288B nan ......\n",
       "    total_levelised_cost        (costs, carriers) float64 24B 0.07937 ... 0.0...\n",
       "    unmet_sum                   (nodes, carriers, timesteps) float64 5kB nan ...</pre><div class='xr-wrap' style='display:none'><div class='xr-header'><div class='xr-obj-type'>xarray.Dataset</div></div><ul class='xr-sections'><li class='xr-section-item'><input id='section-1385e8e4-690f-457e-9316-06db0890e2ff' class='xr-section-summary-in' type='checkbox' disabled ><label for='section-1385e8e4-690f-457e-9316-06db0890e2ff' class='xr-section-summary'  title='Expand/collapse section'>Dimensions:</label><div class='xr-section-inline-details'><ul class='xr-dim-list'><li><span class='xr-has-index'>nodes</span>: 4</li><li><span class='xr-has-index'>techs</span>: 12</li><li><span class='xr-has-index'>carriers</span>: 3</li><li><span class='xr-has-index'>timesteps</span>: 48</li><li><span class='xr-has-index'>costs</span>: 1</li></ul></div><div class='xr-section-details'></div></li><li class='xr-section-item'><input id='section-4267c9a9-507e-4571-baba-658b6dbf18a8' class='xr-section-summary-in' type='checkbox'  checked><label for='section-4267c9a9-507e-4571-baba-658b6dbf18a8' class='xr-section-summary' >Coordinates: <span>(5)</span></label><div class='xr-section-inline-details'></div><div class='xr-section-details'><ul class='xr-var-list'><li class='xr-var-item'><div class='xr-var-name'><span class='xr-has-index'>techs</span></div><div class='xr-var-dims'>(techs)</div><div class='xr-var-dtype'>object</div><div class='xr-var-preview xr-preview'>&#x27;N1_to_X2&#x27; ... &#x27;supply_grid_power&#x27;</div><input id='attrs-db34c421-ca48-4d07-8966-0b51eba2c276' class='xr-var-attrs-in' type='checkbox' disabled><label for='attrs-db34c421-ca48-4d07-8966-0b51eba2c276' title='Show/Hide attributes'><svg class='icon xr-icon-file-text2'><use xlink:href='#icon-file-text2'></use></svg></label><input id='data-b56ea671-1a3d-4ff2-b405-4134bed6ac86' class='xr-var-data-in' type='checkbox'><label for='data-b56ea671-1a3d-4ff2-b405-4134bed6ac86' title='Show/Hide data repr'><svg class='icon xr-icon-database'><use xlink:href='#icon-database'></use></svg></label><div class='xr-var-attrs'><dl class='xr-attrs'></dl></div><div class='xr-var-data'><pre>array([&#x27;N1_to_X2&#x27;, &#x27;N1_to_X3&#x27;, &#x27;X1_to_N1&#x27;, &#x27;X1_to_X2&#x27;, &#x27;X1_to_X3&#x27;, &#x27;boiler&#x27;,\n",
       "       &#x27;chp&#x27;, &#x27;demand_electricity&#x27;, &#x27;demand_heat&#x27;, &#x27;pv&#x27;, &#x27;supply_gas&#x27;,\n",
       "       &#x27;supply_grid_power&#x27;], dtype=object)</pre></div></li><li class='xr-var-item'><div class='xr-var-name'><span class='xr-has-index'>nodes</span></div><div class='xr-var-dims'>(nodes)</div><div class='xr-var-dtype'>object</div><div class='xr-var-preview xr-preview'>&#x27;N1&#x27; &#x27;X1&#x27; &#x27;X2&#x27; &#x27;X3&#x27;</div><input id='attrs-7f49ebee-2e69-4767-803e-633f36ffb949' class='xr-var-attrs-in' type='checkbox' disabled><label for='attrs-7f49ebee-2e69-4767-803e-633f36ffb949' title='Show/Hide attributes'><svg class='icon xr-icon-file-text2'><use xlink:href='#icon-file-text2'></use></svg></label><input id='data-ec864228-5ae4-4f46-b701-70fadc2245c8' class='xr-var-data-in' type='checkbox'><label for='data-ec864228-5ae4-4f46-b701-70fadc2245c8' title='Show/Hide data repr'><svg class='icon xr-icon-database'><use xlink:href='#icon-database'></use></svg></label><div class='xr-var-attrs'><dl class='xr-attrs'></dl></div><div class='xr-var-data'><pre>array([&#x27;N1&#x27;, &#x27;X1&#x27;, &#x27;X2&#x27;, &#x27;X3&#x27;], dtype=object)</pre></div></li><li class='xr-var-item'><div class='xr-var-name'><span class='xr-has-index'>carriers</span></div><div class='xr-var-dims'>(carriers)</div><div class='xr-var-dtype'>object</div><div class='xr-var-preview xr-preview'>&#x27;electricity&#x27; &#x27;gas&#x27; &#x27;heat&#x27;</div><input id='attrs-4a4bc270-4247-424e-a6c6-31cfd7d2d1e5' class='xr-var-attrs-in' type='checkbox' disabled><label for='attrs-4a4bc270-4247-424e-a6c6-31cfd7d2d1e5' title='Show/Hide attributes'><svg class='icon xr-icon-file-text2'><use xlink:href='#icon-file-text2'></use></svg></label><input id='data-89f009b7-0028-4ca6-9845-28d8237d2a96' class='xr-var-data-in' type='checkbox'><label for='data-89f009b7-0028-4ca6-9845-28d8237d2a96' title='Show/Hide data repr'><svg class='icon xr-icon-database'><use xlink:href='#icon-database'></use></svg></label><div class='xr-var-attrs'><dl class='xr-attrs'></dl></div><div class='xr-var-data'><pre>array([&#x27;electricity&#x27;, &#x27;gas&#x27;, &#x27;heat&#x27;], dtype=object)</pre></div></li><li class='xr-var-item'><div class='xr-var-name'><span class='xr-has-index'>timesteps</span></div><div class='xr-var-dims'>(timesteps)</div><div class='xr-var-dtype'>datetime64[ns]</div><div class='xr-var-preview xr-preview'>2005-07-01 ... 2005-07-02T23:00:00</div><input id='attrs-951f9d7b-442c-40df-afc7-d23e6c97702d' class='xr-var-attrs-in' type='checkbox' disabled><label for='attrs-951f9d7b-442c-40df-afc7-d23e6c97702d' title='Show/Hide attributes'><svg class='icon xr-icon-file-text2'><use xlink:href='#icon-file-text2'></use></svg></label><input id='data-14355946-7e15-43cc-900e-a95a980db8fa' class='xr-var-data-in' type='checkbox'><label for='data-14355946-7e15-43cc-900e-a95a980db8fa' title='Show/Hide data repr'><svg class='icon xr-icon-database'><use xlink:href='#icon-database'></use></svg></label><div class='xr-var-attrs'><dl class='xr-attrs'></dl></div><div class='xr-var-data'><pre>array([&#x27;2005-07-01T00:00:00.000000000&#x27;, &#x27;2005-07-01T01:00:00.000000000&#x27;,\n",
       "       &#x27;2005-07-01T02:00:00.000000000&#x27;, &#x27;2005-07-01T03:00:00.000000000&#x27;,\n",
       "       &#x27;2005-07-01T04:00:00.000000000&#x27;, &#x27;2005-07-01T05:00:00.000000000&#x27;,\n",
       "       &#x27;2005-07-01T06:00:00.000000000&#x27;, &#x27;2005-07-01T07:00:00.000000000&#x27;,\n",
       "       &#x27;2005-07-01T08:00:00.000000000&#x27;, &#x27;2005-07-01T09:00:00.000000000&#x27;,\n",
       "       &#x27;2005-07-01T10:00:00.000000000&#x27;, &#x27;2005-07-01T11:00:00.000000000&#x27;,\n",
       "       &#x27;2005-07-01T12:00:00.000000000&#x27;, &#x27;2005-07-01T13:00:00.000000000&#x27;,\n",
       "       &#x27;2005-07-01T14:00:00.000000000&#x27;, &#x27;2005-07-01T15:00:00.000000000&#x27;,\n",
       "       &#x27;2005-07-01T16:00:00.000000000&#x27;, &#x27;2005-07-01T17:00:00.000000000&#x27;,\n",
       "       &#x27;2005-07-01T18:00:00.000000000&#x27;, &#x27;2005-07-01T19:00:00.000000000&#x27;,\n",
       "       &#x27;2005-07-01T20:00:00.000000000&#x27;, &#x27;2005-07-01T21:00:00.000000000&#x27;,\n",
       "       &#x27;2005-07-01T22:00:00.000000000&#x27;, &#x27;2005-07-01T23:00:00.000000000&#x27;,\n",
       "       &#x27;2005-07-02T00:00:00.000000000&#x27;, &#x27;2005-07-02T01:00:00.000000000&#x27;,\n",
       "       &#x27;2005-07-02T02:00:00.000000000&#x27;, &#x27;2005-07-02T03:00:00.000000000&#x27;,\n",
       "       &#x27;2005-07-02T04:00:00.000000000&#x27;, &#x27;2005-07-02T05:00:00.000000000&#x27;,\n",
       "       &#x27;2005-07-02T06:00:00.000000000&#x27;, &#x27;2005-07-02T07:00:00.000000000&#x27;,\n",
       "       &#x27;2005-07-02T08:00:00.000000000&#x27;, &#x27;2005-07-02T09:00:00.000000000&#x27;,\n",
       "       &#x27;2005-07-02T10:00:00.000000000&#x27;, &#x27;2005-07-02T11:00:00.000000000&#x27;,\n",
       "       &#x27;2005-07-02T12:00:00.000000000&#x27;, &#x27;2005-07-02T13:00:00.000000000&#x27;,\n",
       "       &#x27;2005-07-02T14:00:00.000000000&#x27;, &#x27;2005-07-02T15:00:00.000000000&#x27;,\n",
       "       &#x27;2005-07-02T16:00:00.000000000&#x27;, &#x27;2005-07-02T17:00:00.000000000&#x27;,\n",
       "       &#x27;2005-07-02T18:00:00.000000000&#x27;, &#x27;2005-07-02T19:00:00.000000000&#x27;,\n",
       "       &#x27;2005-07-02T20:00:00.000000000&#x27;, &#x27;2005-07-02T21:00:00.000000000&#x27;,\n",
       "       &#x27;2005-07-02T22:00:00.000000000&#x27;, &#x27;2005-07-02T23:00:00.000000000&#x27;],\n",
       "      dtype=&#x27;datetime64[ns]&#x27;)</pre></div></li><li class='xr-var-item'><div class='xr-var-name'><span class='xr-has-index'>costs</span></div><div class='xr-var-dims'>(costs)</div><div class='xr-var-dtype'>object</div><div class='xr-var-preview xr-preview'>&#x27;monetary&#x27;</div><input id='attrs-7f510d02-47d9-427e-82e2-8b207f5c70f6' class='xr-var-attrs-in' type='checkbox' disabled><label for='attrs-7f510d02-47d9-427e-82e2-8b207f5c70f6' title='Show/Hide attributes'><svg class='icon xr-icon-file-text2'><use xlink:href='#icon-file-text2'></use></svg></label><input id='data-0266f08f-415a-480b-b90f-865163bf4a9a' class='xr-var-data-in' type='checkbox'><label for='data-0266f08f-415a-480b-b90f-865163bf4a9a' title='Show/Hide data repr'><svg class='icon xr-icon-database'><use xlink:href='#icon-database'></use></svg></label><div class='xr-var-attrs'><dl class='xr-attrs'></dl></div><div class='xr-var-data'><pre>array([&#x27;monetary&#x27;], dtype=object)</pre></div></li></ul></div></li><li class='xr-section-item'><input id='section-562fa1a4-b312-4502-93e8-c1dad46a22d2' class='xr-section-summary-in' type='checkbox'  ><label for='section-562fa1a4-b312-4502-93e8-c1dad46a22d2' class='xr-section-summary' >Data variables: <span>(24)</span></label><div class='xr-section-inline-details'></div><div class='xr-section-details'><ul class='xr-var-list'><li class='xr-var-item'><div class='xr-var-name'><span>flow_cap</span></div><div class='xr-var-dims'>(nodes, techs, carriers)</div><div class='xr-var-dtype'>float64</div><div class='xr-var-preview xr-preview'>nan nan 190.2 nan ... nan nan nan</div><input id='attrs-b7bbd3bc-7eb5-4a86-b63a-c58845f64727' class='xr-var-attrs-in' type='checkbox' disabled><label for='attrs-b7bbd3bc-7eb5-4a86-b63a-c58845f64727' title='Show/Hide attributes'><svg class='icon xr-icon-file-text2'><use xlink:href='#icon-file-text2'></use></svg></label><input id='data-d7ca896a-6806-436f-9934-f8018efe3e9b' class='xr-var-data-in' type='checkbox'><label for='data-d7ca896a-6806-436f-9934-f8018efe3e9b' title='Show/Hide data repr'><svg class='icon xr-icon-database'><use xlink:href='#icon-database'></use></svg></label><div class='xr-var-attrs'><dl class='xr-attrs'></dl></div><div class='xr-var-data'><pre>array([[[           nan,            nan, 1.90242625e+02],\n",
       "        [           nan,            nan, 1.03825991e+01],\n",
       "        [           nan,            nan, 5.69125932e+02],\n",
       "        [           nan,            nan,            nan],\n",
       "        [           nan,            nan,            nan],\n",
       "        [           nan,            nan,            nan],\n",
       "        [           nan,            nan,            nan],\n",
       "        [           nan,            nan,            nan],\n",
       "        [           nan,            nan,            nan],\n",
       "        [           nan,            nan,            nan],\n",
       "        [           nan,            nan,            nan],\n",
       "        [           nan,            nan,            nan]],\n",
       "\n",
       "       [[           nan,            nan,            nan],\n",
       "        [           nan,            nan,            nan],\n",
       "        [           nan,            nan, 5.69125932e+02],\n",
       "        [2.74511702e+02,            nan,            nan],\n",
       "        [4.57783360e+01,            nan,            nan],\n",
       "        [           nan,            nan,            nan],\n",
       "        [2.60946698e+02, 6.44312835e+02, 2.08757358e+02],\n",
       "...\n",
       "        [           nan, 2.26859378e+02, 1.92830471e+02],\n",
       "        [           nan,            nan,            nan],\n",
       "        [2.69344347e+02,            nan,            nan],\n",
       "        [           nan,            nan, 3.65137675e+02],\n",
       "        [6.33095088e+01,            nan,            nan],\n",
       "        [           nan, 2.26859378e+02,            nan],\n",
       "        [           nan,            nan,            nan]],\n",
       "\n",
       "       [[           nan,            nan,            nan],\n",
       "        [           nan,            nan, 1.03825991e+01],\n",
       "        [           nan,            nan,            nan],\n",
       "        [           nan,            nan,            nan],\n",
       "        [4.57783360e+01,            nan,            nan],\n",
       "        [           nan, 1.83529412e-02, 1.56000000e-02],\n",
       "        [           nan,            nan,            nan],\n",
       "        [6.49273573e+01,            nan,            nan],\n",
       "        [           nan,            nan, 9.39822908e+00],\n",
       "        [5.00000000e+01,            nan,            nan],\n",
       "        [           nan, 1.83529412e-02,            nan],\n",
       "        [           nan,            nan,            nan]]])</pre></div></li><li class='xr-var-item'><div class='xr-var-name'><span>link_flow_cap</span></div><div class='xr-var-dims'>(techs)</div><div class='xr-var-dtype'>float64</div><div class='xr-var-preview xr-preview'>190.2 10.38 569.1 ... nan nan nan</div><input id='attrs-d511d043-2c5a-43ae-8166-5ab96a50d158' class='xr-var-attrs-in' type='checkbox' disabled><label for='attrs-d511d043-2c5a-43ae-8166-5ab96a50d158' title='Show/Hide attributes'><svg class='icon xr-icon-file-text2'><use xlink:href='#icon-file-text2'></use></svg></label><input id='data-626d6cac-5cb4-40a8-a7dd-4ee2b13d993e' class='xr-var-data-in' type='checkbox'><label for='data-626d6cac-5cb4-40a8-a7dd-4ee2b13d993e' title='Show/Hide data repr'><svg class='icon xr-icon-database'><use xlink:href='#icon-database'></use></svg></label><div class='xr-var-attrs'><dl class='xr-attrs'></dl></div><div class='xr-var-data'><pre>array([190.24262474,  10.3825991 , 569.12593186, 274.51170209,\n",
       "        45.77833599,          nan,          nan,          nan,\n",
       "                nan,          nan,          nan,          nan])</pre></div></li><li class='xr-var-item'><div class='xr-var-name'><span>flow_out</span></div><div class='xr-var-dims'>(nodes, techs, carriers, timesteps)</div><div class='xr-var-dtype'>float64</div><div class='xr-var-preview xr-preview'>nan nan nan nan ... nan nan nan nan</div><input id='attrs-810e9f35-188a-49ce-b5bb-853c86a1880c' class='xr-var-attrs-in' type='checkbox' disabled><label for='attrs-810e9f35-188a-49ce-b5bb-853c86a1880c' title='Show/Hide attributes'><svg class='icon xr-icon-file-text2'><use xlink:href='#icon-file-text2'></use></svg></label><input id='data-91ec17c7-3642-404b-85e4-de4a71065fca' class='xr-var-data-in' type='checkbox'><label for='data-91ec17c7-3642-404b-85e4-de4a71065fca' title='Show/Hide data repr'><svg class='icon xr-icon-database'><use xlink:href='#icon-database'></use></svg></label><div class='xr-var-attrs'><dl class='xr-attrs'></dl></div><div class='xr-var-data'><pre>array([[[[           nan,            nan,            nan, ...,\n",
       "                     nan,            nan,            nan],\n",
       "         [           nan,            nan,            nan, ...,\n",
       "                     nan,            nan,            nan],\n",
       "         [0.00000000e+00, 0.00000000e+00, 0.00000000e+00, ...,\n",
       "          0.00000000e+00, 0.00000000e+00, 0.00000000e+00]],\n",
       "\n",
       "        [[           nan,            nan,            nan, ...,\n",
       "                     nan,            nan,            nan],\n",
       "         [           nan,            nan,            nan, ...,\n",
       "                     nan,            nan,            nan],\n",
       "         [0.00000000e+00, 0.00000000e+00, 0.00000000e+00, ...,\n",
       "          0.00000000e+00, 0.00000000e+00, 0.00000000e+00]],\n",
       "\n",
       "        [[           nan,            nan,            nan, ...,\n",
       "                     nan,            nan,            nan],\n",
       "         [           nan,            nan,            nan, ...,\n",
       "                     nan,            nan,            nan],\n",
       "         [1.63272893e+02, 7.25410744e+01, 7.29155642e+01, ...,\n",
       "          1.63036210e+02, 1.16800078e+02, 9.28520365e+01]],\n",
       "...\n",
       "        [[0.00000000e+00, 0.00000000e+00, 0.00000000e+00, ...,\n",
       "          0.00000000e+00, 0.00000000e+00, 0.00000000e+00],\n",
       "         [           nan,            nan,            nan, ...,\n",
       "                     nan,            nan,            nan],\n",
       "         [           nan,            nan,            nan, ...,\n",
       "                     nan,            nan,            nan]],\n",
       "\n",
       "        [[           nan,            nan,            nan, ...,\n",
       "                     nan,            nan,            nan],\n",
       "         [0.00000000e+00, 1.83529412e-02, 1.83529412e-02, ...,\n",
       "          1.83529412e-02, 1.83529412e-02, 1.83529412e-02],\n",
       "         [           nan,            nan,            nan, ...,\n",
       "                     nan,            nan,            nan]],\n",
       "\n",
       "        [[           nan,            nan,            nan, ...,\n",
       "                     nan,            nan,            nan],\n",
       "         [           nan,            nan,            nan, ...,\n",
       "                     nan,            nan,            nan],\n",
       "         [           nan,            nan,            nan, ...,\n",
       "                     nan,            nan,            nan]]]])</pre></div></li><li class='xr-var-item'><div class='xr-var-name'><span>flow_in</span></div><div class='xr-var-dims'>(nodes, techs, carriers, timesteps)</div><div class='xr-var-dtype'>float64</div><div class='xr-var-preview xr-preview'>nan nan nan nan ... nan nan nan nan</div><input id='attrs-6af6b361-5d1f-4d30-9e89-561ac10303b1' class='xr-var-attrs-in' type='checkbox' disabled><label for='attrs-6af6b361-5d1f-4d30-9e89-561ac10303b1' title='Show/Hide attributes'><svg class='icon xr-icon-file-text2'><use xlink:href='#icon-file-text2'></use></svg></label><input id='data-f332c0fb-cb50-494f-818b-72c78013ca58' class='xr-var-data-in' type='checkbox'><label for='data-f332c0fb-cb50-494f-818b-72c78013ca58' title='Show/Hide data repr'><svg class='icon xr-icon-database'><use xlink:href='#icon-database'></use></svg></label><div class='xr-var-attrs'><dl class='xr-attrs'></dl></div><div class='xr-var-data'><pre>array([[[[           nan,            nan,            nan, ...,\n",
       "                     nan,            nan,            nan],\n",
       "         [           nan,            nan,            nan, ...,\n",
       "                     nan,            nan,            nan],\n",
       "         [7.97444779e+01, 7.16063247e+01, 7.29155642e+01, ...,\n",
       "          1.62101485e+02, 1.16800078e+02, 9.19173224e+01]],\n",
       "\n",
       "        [[           nan,            nan,            nan, ...,\n",
       "                     nan,            nan,            nan],\n",
       "         [           nan,            nan,            nan, ...,\n",
       "                     nan,            nan,            nan],\n",
       "         [1.72625971e-02, 9.34749747e-01, 0.00000000e+00, ...,\n",
       "          9.34725555e-01, 0.00000000e+00, 9.34714147e-01]],\n",
       "\n",
       "        [[           nan,            nan,            nan, ...,\n",
       "                     nan,            nan,            nan],\n",
       "         [           nan,            nan,            nan, ...,\n",
       "                     nan,            nan,            nan],\n",
       "         [8.35111523e+01, 0.00000000e+00, 0.00000000e+00, ...,\n",
       "          0.00000000e+00, 0.00000000e+00, 0.00000000e+00]],\n",
       "...\n",
       "        [[           nan,            nan,            nan, ...,\n",
       "                     nan,            nan,            nan],\n",
       "         [           nan,            nan,            nan, ...,\n",
       "                     nan,            nan,            nan],\n",
       "         [           nan,            nan,            nan, ...,\n",
       "                     nan,            nan,            nan]],\n",
       "\n",
       "        [[           nan,            nan,            nan, ...,\n",
       "                     nan,            nan,            nan],\n",
       "         [           nan,            nan,            nan, ...,\n",
       "                     nan,            nan,            nan],\n",
       "         [           nan,            nan,            nan, ...,\n",
       "                     nan,            nan,            nan]],\n",
       "\n",
       "        [[           nan,            nan,            nan, ...,\n",
       "                     nan,            nan,            nan],\n",
       "         [           nan,            nan,            nan, ...,\n",
       "                     nan,            nan,            nan],\n",
       "         [           nan,            nan,            nan, ...,\n",
       "                     nan,            nan,            nan]]]])</pre></div></li><li class='xr-var-item'><div class='xr-var-name'><span>flow_export</span></div><div class='xr-var-dims'>(nodes, techs, carriers, timesteps)</div><div class='xr-var-dtype'>float64</div><div class='xr-var-preview xr-preview'>nan nan nan nan ... nan nan nan nan</div><input id='attrs-619a5c38-f532-4760-a40a-0fae3ea8f921' class='xr-var-attrs-in' type='checkbox' disabled><label for='attrs-619a5c38-f532-4760-a40a-0fae3ea8f921' title='Show/Hide attributes'><svg class='icon xr-icon-file-text2'><use xlink:href='#icon-file-text2'></use></svg></label><input id='data-eda9f917-12a8-4383-864f-cb41de0b819c' class='xr-var-data-in' type='checkbox'><label for='data-eda9f917-12a8-4383-864f-cb41de0b819c' title='Show/Hide data repr'><svg class='icon xr-icon-database'><use xlink:href='#icon-database'></use></svg></label><div class='xr-var-attrs'><dl class='xr-attrs'></dl></div><div class='xr-var-data'><pre>array([[[[nan, nan, nan, ..., nan, nan, nan],\n",
       "         [nan, nan, nan, ..., nan, nan, nan],\n",
       "         [nan, nan, nan, ..., nan, nan, nan]],\n",
       "\n",
       "        [[nan, nan, nan, ..., nan, nan, nan],\n",
       "         [nan, nan, nan, ..., nan, nan, nan],\n",
       "         [nan, nan, nan, ..., nan, nan, nan]],\n",
       "\n",
       "        [[nan, nan, nan, ..., nan, nan, nan],\n",
       "         [nan, nan, nan, ..., nan, nan, nan],\n",
       "         [nan, nan, nan, ..., nan, nan, nan]],\n",
       "\n",
       "        ...,\n",
       "\n",
       "        [[nan, nan, nan, ..., nan, nan, nan],\n",
       "         [nan, nan, nan, ..., nan, nan, nan],\n",
       "         [nan, nan, nan, ..., nan, nan, nan]],\n",
       "\n",
       "        [[nan, nan, nan, ..., nan, nan, nan],\n",
       "         [nan, nan, nan, ..., nan, nan, nan],\n",
       "...\n",
       "         [nan, nan, nan, ..., nan, nan, nan],\n",
       "         [nan, nan, nan, ..., nan, nan, nan]],\n",
       "\n",
       "        [[nan, nan, nan, ..., nan, nan, nan],\n",
       "         [nan, nan, nan, ..., nan, nan, nan],\n",
       "         [nan, nan, nan, ..., nan, nan, nan]],\n",
       "\n",
       "        ...,\n",
       "\n",
       "        [[ 0.,  0.,  0., ...,  0.,  0.,  0.],\n",
       "         [nan, nan, nan, ..., nan, nan, nan],\n",
       "         [nan, nan, nan, ..., nan, nan, nan]],\n",
       "\n",
       "        [[nan, nan, nan, ..., nan, nan, nan],\n",
       "         [nan, nan, nan, ..., nan, nan, nan],\n",
       "         [nan, nan, nan, ..., nan, nan, nan]],\n",
       "\n",
       "        [[nan, nan, nan, ..., nan, nan, nan],\n",
       "         [nan, nan, nan, ..., nan, nan, nan],\n",
       "         [nan, nan, nan, ..., nan, nan, nan]]]])</pre></div></li><li class='xr-var-item'><div class='xr-var-name'><span>area_use</span></div><div class='xr-var-dims'>(nodes, techs)</div><div class='xr-var-dtype'>float64</div><div class='xr-var-preview xr-preview'>nan nan nan nan ... 350.0 nan nan</div><input id='attrs-5836d4d6-30b9-41ac-9c53-9ba662af21ec' class='xr-var-attrs-in' type='checkbox' disabled><label for='attrs-5836d4d6-30b9-41ac-9c53-9ba662af21ec' title='Show/Hide attributes'><svg class='icon xr-icon-file-text2'><use xlink:href='#icon-file-text2'></use></svg></label><input id='data-f68dfa9b-b071-44e3-bd37-1de4ce8a1895' class='xr-var-data-in' type='checkbox'><label for='data-f68dfa9b-b071-44e3-bd37-1de4ce8a1895' title='Show/Hide data repr'><svg class='icon xr-icon-database'><use xlink:href='#icon-database'></use></svg></label><div class='xr-var-attrs'><dl class='xr-attrs'></dl></div><div class='xr-var-data'><pre>array([[         nan,          nan,          nan,          nan,\n",
       "                 nan,          nan,          nan,          nan,\n",
       "                 nan,          nan,          nan,          nan],\n",
       "       [         nan,          nan,          nan,          nan,\n",
       "                 nan,          nan,          nan,          nan,\n",
       "                 nan,   0.        ,          nan,          nan],\n",
       "       [         nan,          nan,          nan,          nan,\n",
       "                 nan,          nan,          nan,          nan,\n",
       "                 nan, 443.16656148,          nan,          nan],\n",
       "       [         nan,          nan,          nan,          nan,\n",
       "                 nan,          nan,          nan,          nan,\n",
       "                 nan, 350.        ,          nan,          nan]])</pre></div></li><li class='xr-var-item'><div class='xr-var-name'><span>source_use</span></div><div class='xr-var-dims'>(nodes, techs, timesteps)</div><div class='xr-var-dtype'>float64</div><div class='xr-var-preview xr-preview'>nan nan nan nan ... nan nan nan nan</div><input id='attrs-a35406ca-c769-49ff-9d58-58312c210239' class='xr-var-attrs-in' type='checkbox' disabled><label for='attrs-a35406ca-c769-49ff-9d58-58312c210239' title='Show/Hide attributes'><svg class='icon xr-icon-file-text2'><use xlink:href='#icon-file-text2'></use></svg></label><input id='data-89f071d9-7fee-4529-b527-aaac2f4a27ec' class='xr-var-data-in' type='checkbox'><label for='data-89f071d9-7fee-4529-b527-aaac2f4a27ec' title='Show/Hide data repr'><svg class='icon xr-icon-database'><use xlink:href='#icon-database'></use></svg></label><div class='xr-var-attrs'><dl class='xr-attrs'></dl></div><div class='xr-var-data'><pre>array([[[           nan,            nan,            nan, ...,\n",
       "                    nan,            nan,            nan],\n",
       "        [           nan,            nan,            nan, ...,\n",
       "                    nan,            nan,            nan],\n",
       "        [           nan,            nan,            nan, ...,\n",
       "                    nan,            nan,            nan],\n",
       "        ...,\n",
       "        [           nan,            nan,            nan, ...,\n",
       "                    nan,            nan,            nan],\n",
       "        [           nan,            nan,            nan, ...,\n",
       "                    nan,            nan,            nan],\n",
       "        [           nan,            nan,            nan, ...,\n",
       "                    nan,            nan,            nan]],\n",
       "\n",
       "       [[           nan,            nan,            nan, ...,\n",
       "                    nan,            nan,            nan],\n",
       "        [           nan,            nan,            nan, ...,\n",
       "                    nan,            nan,            nan],\n",
       "        [           nan,            nan,            nan, ...,\n",
       "                    nan,            nan,            nan],\n",
       "...\n",
       "        [0.00000000e+00, 0.00000000e+00, 0.00000000e+00, ...,\n",
       "         0.00000000e+00, 0.00000000e+00, 0.00000000e+00],\n",
       "        [0.00000000e+00, 4.80523046e+00, 1.13064725e+01, ...,\n",
       "         1.05634767e+02, 4.15520155e+01, 1.04421455e+00],\n",
       "        [           nan,            nan,            nan, ...,\n",
       "                    nan,            nan,            nan]],\n",
       "\n",
       "       [[           nan,            nan,            nan, ...,\n",
       "                    nan,            nan,            nan],\n",
       "        [           nan,            nan,            nan, ...,\n",
       "                    nan,            nan,            nan],\n",
       "        [           nan,            nan,            nan, ...,\n",
       "                    nan,            nan,            nan],\n",
       "        ...,\n",
       "        [0.00000000e+00, 0.00000000e+00, 0.00000000e+00, ...,\n",
       "         0.00000000e+00, 0.00000000e+00, 0.00000000e+00],\n",
       "        [0.00000000e+00, 1.83529412e-02, 1.83529412e-02, ...,\n",
       "         1.83529412e-02, 1.83529412e-02, 1.83529412e-02],\n",
       "        [           nan,            nan,            nan, ...,\n",
       "                    nan,            nan,            nan]]])</pre></div></li><li class='xr-var-item'><div class='xr-var-name'><span>source_cap</span></div><div class='xr-var-dims'>(nodes, techs)</div><div class='xr-var-dtype'>float64</div><div class='xr-var-preview xr-preview'>nan nan nan ... 38.95 0.01835 nan</div><input id='attrs-13495cd4-b9af-482b-9d5c-b908a2185315' class='xr-var-attrs-in' type='checkbox' disabled><label for='attrs-13495cd4-b9af-482b-9d5c-b908a2185315' title='Show/Hide attributes'><svg class='icon xr-icon-file-text2'><use xlink:href='#icon-file-text2'></use></svg></label><input id='data-cab6e9a9-feb8-4cd7-b5a3-512f664ac6ce' class='xr-var-data-in' type='checkbox'><label for='data-cab6e9a9-feb8-4cd7-b5a3-512f664ac6ce' title='Show/Hide data repr'><svg class='icon xr-icon-database'><use xlink:href='#icon-database'></use></svg></label><div class='xr-var-attrs'><dl class='xr-attrs'></dl></div><div class='xr-var-data'><pre>array([[           nan,            nan,            nan,            nan,\n",
       "                   nan,            nan,            nan,            nan,\n",
       "                   nan,            nan,            nan,            nan],\n",
       "       [           nan,            nan,            nan,            nan,\n",
       "                   nan,            nan,            nan,            nan,\n",
       "                   nan, 0.00000000e+00, 6.44312835e+02, 3.36201473e+01],\n",
       "       [           nan,            nan,            nan,            nan,\n",
       "                   nan,            nan,            nan,            nan,\n",
       "                   nan, 4.93181072e+01, 2.26859378e+02,            nan],\n",
       "       [           nan,            nan,            nan,            nan,\n",
       "                   nan,            nan,            nan,            nan,\n",
       "                   nan, 3.89499999e+01, 1.83529412e-02,            nan]])</pre></div></li><li class='xr-var-item'><div class='xr-var-name'><span>unmet_demand</span></div><div class='xr-var-dims'>(nodes, carriers, timesteps)</div><div class='xr-var-dtype'>float64</div><div class='xr-var-preview xr-preview'>nan nan nan nan ... 0.0 0.0 0.0 0.0</div><input id='attrs-2aec0174-e92e-4f6e-9772-aad51a866122' class='xr-var-attrs-in' type='checkbox' disabled><label for='attrs-2aec0174-e92e-4f6e-9772-aad51a866122' title='Show/Hide attributes'><svg class='icon xr-icon-file-text2'><use xlink:href='#icon-file-text2'></use></svg></label><input id='data-a7d42078-d732-4bd3-a667-8216573f04d5' class='xr-var-data-in' type='checkbox'><label for='data-a7d42078-d732-4bd3-a667-8216573f04d5' title='Show/Hide data repr'><svg class='icon xr-icon-database'><use xlink:href='#icon-database'></use></svg></label><div class='xr-var-attrs'><dl class='xr-attrs'></dl></div><div class='xr-var-data'><pre>array([[[nan, nan, nan, nan, nan, nan, nan, nan, nan, nan, nan, nan,\n",
       "         nan, nan, nan, nan, nan, nan, nan, nan, nan, nan, nan, nan,\n",
       "         nan, nan, nan, nan, nan, nan, nan, nan, nan, nan, nan, nan,\n",
       "         nan, nan, nan, nan, nan, nan, nan, nan, nan, nan, nan, nan],\n",
       "        [nan, nan, nan, nan, nan, nan, nan, nan, nan, nan, nan, nan,\n",
       "         nan, nan, nan, nan, nan, nan, nan, nan, nan, nan, nan, nan,\n",
       "         nan, nan, nan, nan, nan, nan, nan, nan, nan, nan, nan, nan,\n",
       "         nan, nan, nan, nan, nan, nan, nan, nan, nan, nan, nan, nan],\n",
       "        [ 0.,  0.,  0.,  0.,  0.,  0.,  0.,  0.,  0.,  0.,  0.,  0.,\n",
       "          0.,  0.,  0.,  0.,  0.,  0.,  0.,  0.,  0.,  0.,  0.,  0.,\n",
       "          0.,  0.,  0.,  0.,  0.,  0.,  0.,  0.,  0.,  0.,  0.,  0.,\n",
       "          0.,  0.,  0.,  0.,  0.,  0.,  0.,  0.,  0.,  0.,  0.,  0.]],\n",
       "\n",
       "       [[ 0.,  0.,  0.,  0.,  0.,  0.,  0.,  0.,  0.,  0.,  0.,  0.,\n",
       "          0.,  0.,  0.,  0.,  0.,  0.,  0.,  0.,  0.,  0.,  0.,  0.,\n",
       "          0.,  0.,  0.,  0.,  0.,  0.,  0.,  0.,  0.,  0.,  0.,  0.,\n",
       "          0.,  0.,  0.,  0.,  0.,  0.,  0.,  0.,  0.,  0.,  0.,  0.],\n",
       "        [ 0.,  0.,  0.,  0.,  0.,  0.,  0.,  0.,  0.,  0.,  0.,  0.,\n",
       "          0.,  0.,  0.,  0.,  0.,  0.,  0.,  0.,  0.,  0.,  0.,  0.,\n",
       "          0.,  0.,  0.,  0.,  0.,  0.,  0.,  0.,  0.,  0.,  0.,  0.,\n",
       "...\n",
       "          0.,  0.,  0.,  0.,  0.,  0.,  0.,  0.,  0.,  0.,  0.,  0.,\n",
       "          0.,  0.,  0.,  0.,  0.,  0.,  0.,  0.,  0.,  0.,  0.,  0.,\n",
       "          0.,  0.,  0.,  0.,  0.,  0.,  0.,  0.,  0.,  0.,  0.,  0.],\n",
       "        [ 0.,  0.,  0.,  0.,  0.,  0.,  0.,  0.,  0.,  0.,  0.,  0.,\n",
       "          0.,  0.,  0.,  0.,  0.,  0.,  0.,  0.,  0.,  0.,  0.,  0.,\n",
       "          0.,  0.,  0.,  0.,  0.,  0.,  0.,  0.,  0.,  0.,  0.,  0.,\n",
       "          0.,  0.,  0.,  0.,  0.,  0.,  0.,  0.,  0.,  0.,  0.,  0.]],\n",
       "\n",
       "       [[ 0.,  0.,  0.,  0.,  0.,  0.,  0.,  0.,  0.,  0.,  0.,  0.,\n",
       "          0.,  0.,  0.,  0.,  0.,  0.,  0.,  0.,  0.,  0.,  0.,  0.,\n",
       "          0.,  0.,  0.,  0.,  0.,  0.,  0.,  0.,  0.,  0.,  0.,  0.,\n",
       "          0.,  0.,  0.,  0.,  0.,  0.,  0.,  0.,  0.,  0.,  0.,  0.],\n",
       "        [ 0.,  0.,  0.,  0.,  0.,  0.,  0.,  0.,  0.,  0.,  0.,  0.,\n",
       "          0.,  0.,  0.,  0.,  0.,  0.,  0.,  0.,  0.,  0.,  0.,  0.,\n",
       "          0.,  0.,  0.,  0.,  0.,  0.,  0.,  0.,  0.,  0.,  0.,  0.,\n",
       "          0.,  0.,  0.,  0.,  0.,  0.,  0.,  0.,  0.,  0.,  0.,  0.],\n",
       "        [ 0.,  0.,  0.,  0.,  0.,  0.,  0.,  0.,  0.,  0.,  0.,  0.,\n",
       "          0.,  0.,  0.,  0.,  0.,  0.,  0.,  0.,  0.,  0.,  0.,  0.,\n",
       "          0.,  0.,  0.,  0.,  0.,  0.,  0.,  0.,  0.,  0.,  0.,  0.,\n",
       "          0.,  0.,  0.,  0.,  0.,  0.,  0.,  0.,  0.,  0.,  0.,  0.]]])</pre></div></li><li class='xr-var-item'><div class='xr-var-name'><span>unused_supply</span></div><div class='xr-var-dims'>(nodes, carriers, timesteps)</div><div class='xr-var-dtype'>float64</div><div class='xr-var-preview xr-preview'>nan nan nan nan ... 0.0 0.0 0.0 0.0</div><input id='attrs-d4a8e560-24ad-4eb0-b0c1-bca383d2a3fd' class='xr-var-attrs-in' type='checkbox' disabled><label for='attrs-d4a8e560-24ad-4eb0-b0c1-bca383d2a3fd' title='Show/Hide attributes'><svg class='icon xr-icon-file-text2'><use xlink:href='#icon-file-text2'></use></svg></label><input id='data-6f544983-590b-490e-8dea-ba93be8ba91a' class='xr-var-data-in' type='checkbox'><label for='data-6f544983-590b-490e-8dea-ba93be8ba91a' title='Show/Hide data repr'><svg class='icon xr-icon-database'><use xlink:href='#icon-database'></use></svg></label><div class='xr-var-attrs'><dl class='xr-attrs'></dl></div><div class='xr-var-data'><pre>array([[[nan, nan, nan, nan, nan, nan, nan, nan, nan, nan, nan, nan,\n",
       "         nan, nan, nan, nan, nan, nan, nan, nan, nan, nan, nan, nan,\n",
       "         nan, nan, nan, nan, nan, nan, nan, nan, nan, nan, nan, nan,\n",
       "         nan, nan, nan, nan, nan, nan, nan, nan, nan, nan, nan, nan],\n",
       "        [nan, nan, nan, nan, nan, nan, nan, nan, nan, nan, nan, nan,\n",
       "         nan, nan, nan, nan, nan, nan, nan, nan, nan, nan, nan, nan,\n",
       "         nan, nan, nan, nan, nan, nan, nan, nan, nan, nan, nan, nan,\n",
       "         nan, nan, nan, nan, nan, nan, nan, nan, nan, nan, nan, nan],\n",
       "        [ 0.,  0.,  0.,  0.,  0.,  0.,  0.,  0.,  0.,  0.,  0.,  0.,\n",
       "          0.,  0.,  0.,  0.,  0.,  0.,  0.,  0.,  0.,  0.,  0.,  0.,\n",
       "          0.,  0.,  0.,  0.,  0.,  0.,  0.,  0.,  0.,  0.,  0.,  0.,\n",
       "          0.,  0.,  0.,  0.,  0.,  0.,  0.,  0.,  0.,  0.,  0.,  0.]],\n",
       "\n",
       "       [[ 0.,  0.,  0.,  0.,  0.,  0.,  0.,  0.,  0.,  0.,  0.,  0.,\n",
       "          0.,  0.,  0.,  0.,  0.,  0.,  0.,  0.,  0.,  0.,  0.,  0.,\n",
       "          0.,  0.,  0.,  0.,  0.,  0.,  0.,  0.,  0.,  0.,  0.,  0.,\n",
       "          0.,  0.,  0.,  0.,  0.,  0.,  0.,  0.,  0.,  0.,  0.,  0.],\n",
       "        [ 0.,  0.,  0.,  0.,  0.,  0.,  0.,  0.,  0.,  0.,  0.,  0.,\n",
       "          0.,  0.,  0.,  0.,  0.,  0.,  0.,  0.,  0.,  0.,  0.,  0.,\n",
       "          0.,  0.,  0.,  0.,  0.,  0.,  0.,  0.,  0.,  0.,  0.,  0.,\n",
       "...\n",
       "          0.,  0.,  0.,  0.,  0.,  0.,  0.,  0.,  0.,  0.,  0.,  0.,\n",
       "          0.,  0.,  0.,  0.,  0.,  0.,  0.,  0.,  0.,  0.,  0.,  0.,\n",
       "          0.,  0.,  0.,  0.,  0.,  0.,  0.,  0.,  0.,  0.,  0.,  0.],\n",
       "        [ 0.,  0.,  0.,  0.,  0.,  0.,  0.,  0.,  0.,  0.,  0.,  0.,\n",
       "          0.,  0.,  0.,  0.,  0.,  0.,  0.,  0.,  0.,  0.,  0.,  0.,\n",
       "          0.,  0.,  0.,  0.,  0.,  0.,  0.,  0.,  0.,  0.,  0.,  0.,\n",
       "          0.,  0.,  0.,  0.,  0.,  0.,  0.,  0.,  0.,  0.,  0.,  0.]],\n",
       "\n",
       "       [[ 0.,  0.,  0.,  0.,  0.,  0.,  0.,  0.,  0.,  0.,  0.,  0.,\n",
       "          0.,  0.,  0.,  0.,  0.,  0.,  0.,  0.,  0.,  0.,  0.,  0.,\n",
       "          0.,  0.,  0.,  0.,  0.,  0.,  0.,  0.,  0.,  0.,  0.,  0.,\n",
       "          0.,  0.,  0.,  0.,  0.,  0.,  0.,  0.,  0.,  0.,  0.,  0.],\n",
       "        [ 0.,  0.,  0.,  0.,  0.,  0.,  0.,  0.,  0.,  0.,  0.,  0.,\n",
       "          0.,  0.,  0.,  0.,  0.,  0.,  0.,  0.,  0.,  0.,  0.,  0.,\n",
       "          0.,  0.,  0.,  0.,  0.,  0.,  0.,  0.,  0.,  0.,  0.,  0.,\n",
       "          0.,  0.,  0.,  0.,  0.,  0.,  0.,  0.,  0.,  0.,  0.,  0.],\n",
       "        [ 0.,  0.,  0.,  0.,  0.,  0.,  0.,  0.,  0.,  0.,  0.,  0.,\n",
       "          0.,  0.,  0.,  0.,  0.,  0.,  0.,  0.,  0.,  0.,  0.,  0.,\n",
       "          0.,  0.,  0.,  0.,  0.,  0.,  0.,  0.,  0.,  0.,  0.,  0.,\n",
       "          0.,  0.,  0.,  0.,  0.,  0.,  0.,  0.,  0.,  0.,  0.,  0.]]])</pre></div></li><li class='xr-var-item'><div class='xr-var-name'><span>flow_out_inc_eff</span></div><div class='xr-var-dims'>(nodes, techs, carriers, timesteps)</div><div class='xr-var-dtype'>float64</div><div class='xr-var-preview xr-preview'>nan nan nan nan ... nan nan nan nan</div><input id='attrs-3a7ab196-84c5-416b-ab06-892c2f2b2820' class='xr-var-attrs-in' type='checkbox' disabled><label for='attrs-3a7ab196-84c5-416b-ab06-892c2f2b2820' title='Show/Hide attributes'><svg class='icon xr-icon-file-text2'><use xlink:href='#icon-file-text2'></use></svg></label><input id='data-fbc1241c-40f0-43c4-9e9e-0da6dfad34d8' class='xr-var-data-in' type='checkbox'><label for='data-fbc1241c-40f0-43c4-9e9e-0da6dfad34d8' title='Show/Hide data repr'><svg class='icon xr-icon-database'><use xlink:href='#icon-database'></use></svg></label><div class='xr-var-attrs'><dl class='xr-attrs'></dl></div><div class='xr-var-data'><pre>array([[[[           nan,            nan,            nan, ...,\n",
       "                     nan,            nan,            nan],\n",
       "         [           nan,            nan,            nan, ...,\n",
       "                     nan,            nan,            nan],\n",
       "         [0.00000000e+00, 0.00000000e+00, 0.00000000e+00, ...,\n",
       "          0.00000000e+00, 0.00000000e+00, 0.00000000e+00]],\n",
       "\n",
       "        [[           nan,            nan,            nan, ...,\n",
       "                     nan,            nan,            nan],\n",
       "         [           nan,            nan,            nan, ...,\n",
       "                     nan,            nan,            nan],\n",
       "         [0.00000000e+00, 0.00000000e+00, 0.00000000e+00, ...,\n",
       "          0.00000000e+00, 0.00000000e+00, 0.00000000e+00]],\n",
       "\n",
       "        [[           nan,            nan,            nan, ...,\n",
       "                     nan,            nan,            nan],\n",
       "         [           nan,            nan,            nan, ...,\n",
       "                     nan,            nan,            nan],\n",
       "         [1.76157136e+02, 7.82654590e+01, 7.86695006e+01, ...,\n",
       "          1.75901776e+02, 1.26017043e+02, 1.00179206e+02]],\n",
       "...\n",
       "        [[0.00000000e+00, 0.00000000e+00, 0.00000000e+00, ...,\n",
       "          0.00000000e+00, 0.00000000e+00, 0.00000000e+00],\n",
       "         [           nan,            nan,            nan, ...,\n",
       "                     nan,            nan,            nan],\n",
       "         [           nan,            nan,            nan, ...,\n",
       "                     nan,            nan,            nan]],\n",
       "\n",
       "        [[           nan,            nan,            nan, ...,\n",
       "                     nan,            nan,            nan],\n",
       "         [0.00000000e+00, 1.83529412e-02, 1.83529412e-02, ...,\n",
       "          1.83529412e-02, 1.83529412e-02, 1.83529412e-02],\n",
       "         [           nan,            nan,            nan, ...,\n",
       "                     nan,            nan,            nan]],\n",
       "\n",
       "        [[           nan,            nan,            nan, ...,\n",
       "                     nan,            nan,            nan],\n",
       "         [           nan,            nan,            nan, ...,\n",
       "                     nan,            nan,            nan],\n",
       "         [           nan,            nan,            nan, ...,\n",
       "                     nan,            nan,            nan]]]])</pre></div></li><li class='xr-var-item'><div class='xr-var-name'><span>flow_in_inc_eff</span></div><div class='xr-var-dims'>(nodes, techs, carriers, timesteps)</div><div class='xr-var-dtype'>float64</div><div class='xr-var-preview xr-preview'>nan nan nan nan ... nan nan nan nan</div><input id='attrs-28cb2d41-b456-4a5d-b153-eadd3af79f4e' class='xr-var-attrs-in' type='checkbox' disabled><label for='attrs-28cb2d41-b456-4a5d-b153-eadd3af79f4e' title='Show/Hide attributes'><svg class='icon xr-icon-file-text2'><use xlink:href='#icon-file-text2'></use></svg></label><input id='data-9c3c04a2-7628-4286-aada-cf2390eca4f6' class='xr-var-data-in' type='checkbox'><label for='data-9c3c04a2-7628-4286-aada-cf2390eca4f6' title='Show/Hide data repr'><svg class='icon xr-icon-database'><use xlink:href='#icon-database'></use></svg></label><div class='xr-var-attrs'><dl class='xr-attrs'></dl></div><div class='xr-var-data'><pre>array([[[[           nan,            nan,            nan, ...,\n",
       "                     nan,            nan,            nan],\n",
       "         [           nan,            nan,            nan, ...,\n",
       "                     nan,            nan,            nan],\n",
       "         [7.97444779e+01, 7.16063247e+01, 7.29155642e+01, ...,\n",
       "          1.62101485e+02, 1.16800078e+02, 9.19173224e+01]],\n",
       "\n",
       "        [[           nan,            nan,            nan, ...,\n",
       "                     nan,            nan,            nan],\n",
       "         [           nan,            nan,            nan, ...,\n",
       "                     nan,            nan,            nan],\n",
       "         [1.72625971e-02, 9.34749747e-01, 0.00000000e+00, ...,\n",
       "          9.34725555e-01, 0.00000000e+00, 9.34714147e-01]],\n",
       "\n",
       "        [[           nan,            nan,            nan, ...,\n",
       "                     nan,            nan,            nan],\n",
       "         [           nan,            nan,            nan, ...,\n",
       "                     nan,            nan,            nan],\n",
       "         [8.35111523e+01, 0.00000000e+00, 0.00000000e+00, ...,\n",
       "          0.00000000e+00, 0.00000000e+00, 0.00000000e+00]],\n",
       "...\n",
       "        [[           nan,            nan,            nan, ...,\n",
       "                     nan,            nan,            nan],\n",
       "         [           nan,            nan,            nan, ...,\n",
       "                     nan,            nan,            nan],\n",
       "         [           nan,            nan,            nan, ...,\n",
       "                     nan,            nan,            nan]],\n",
       "\n",
       "        [[           nan,            nan,            nan, ...,\n",
       "                     nan,            nan,            nan],\n",
       "         [           nan,            nan,            nan, ...,\n",
       "                     nan,            nan,            nan],\n",
       "         [           nan,            nan,            nan, ...,\n",
       "                     nan,            nan,            nan]],\n",
       "\n",
       "        [[           nan,            nan,            nan, ...,\n",
       "                     nan,            nan,            nan],\n",
       "         [           nan,            nan,            nan, ...,\n",
       "                     nan,            nan,            nan],\n",
       "         [           nan,            nan,            nan, ...,\n",
       "                     nan,            nan,            nan]]]])</pre></div></li><li class='xr-var-item'><div class='xr-var-name'><span>cost_operation_variable</span></div><div class='xr-var-dims'>(nodes, techs, costs, timesteps)</div><div class='xr-var-dtype'>float64</div><div class='xr-var-preview xr-preview'>nan nan nan nan ... nan nan nan nan</div><input id='attrs-0c9a1b78-8f62-4747-89c4-e14f97b259be' class='xr-var-attrs-in' type='checkbox' disabled><label for='attrs-0c9a1b78-8f62-4747-89c4-e14f97b259be' title='Show/Hide attributes'><svg class='icon xr-icon-file-text2'><use xlink:href='#icon-file-text2'></use></svg></label><input id='data-a004df59-f1c3-4dcd-b597-398a38addc51' class='xr-var-data-in' type='checkbox'><label for='data-a004df59-f1c3-4dcd-b597-398a38addc51' title='Show/Hide data repr'><svg class='icon xr-icon-database'><use xlink:href='#icon-database'></use></svg></label><div class='xr-var-attrs'><dl class='xr-attrs'></dl></div><div class='xr-var-data'><pre>array([[[[           nan,            nan,            nan, ...,\n",
       "                     nan,            nan,            nan]],\n",
       "\n",
       "        [[           nan,            nan,            nan, ...,\n",
       "                     nan,            nan,            nan]],\n",
       "\n",
       "        [[           nan,            nan,            nan, ...,\n",
       "                     nan,            nan,            nan]],\n",
       "\n",
       "        ...,\n",
       "\n",
       "        [[           nan,            nan,            nan, ...,\n",
       "                     nan,            nan,            nan]],\n",
       "\n",
       "        [[           nan,            nan,            nan, ...,\n",
       "                     nan,            nan,            nan]],\n",
       "\n",
       "        [[           nan,            nan,            nan, ...,\n",
       "                     nan,            nan,            nan]]],\n",
       "\n",
       "...\n",
       "\n",
       "       [[[           nan,            nan,            nan, ...,\n",
       "                     nan,            nan,            nan]],\n",
       "\n",
       "        [[           nan,            nan,            nan, ...,\n",
       "                     nan,            nan,            nan]],\n",
       "\n",
       "        [[           nan,            nan,            nan, ...,\n",
       "                     nan,            nan,            nan]],\n",
       "\n",
       "        ...,\n",
       "\n",
       "        [[           nan,            nan,            nan, ...,\n",
       "                     nan,            nan,            nan]],\n",
       "\n",
       "        [[0.00000000e+00, 4.58823529e-04, 4.58823529e-04, ...,\n",
       "          4.58823529e-04, 4.58823529e-04, 4.58823529e-04]],\n",
       "\n",
       "        [[           nan,            nan,            nan, ...,\n",
       "                     nan,            nan,            nan]]]])</pre></div></li><li class='xr-var-item'><div class='xr-var-name'><span>cost_investment_flow_cap</span></div><div class='xr-var-dims'>(nodes, techs, carriers, costs)</div><div class='xr-var-dtype'>float64</div><div class='xr-var-preview xr-preview'>nan nan 85.61 nan ... nan nan nan</div><input id='attrs-e5c8a4db-d884-4d39-99fd-7467faa818a4' class='xr-var-attrs-in' type='checkbox' disabled><label for='attrs-e5c8a4db-d884-4d39-99fd-7467faa818a4' title='Show/Hide attributes'><svg class='icon xr-icon-file-text2'><use xlink:href='#icon-file-text2'></use></svg></label><input id='data-ba7c0ac8-b582-42a3-918d-98e98807e045' class='xr-var-data-in' type='checkbox'><label for='data-ba7c0ac8-b582-42a3-918d-98e98807e045' title='Show/Hide data repr'><svg class='icon xr-icon-database'><use xlink:href='#icon-database'></use></svg></label><div class='xr-var-attrs'><dl class='xr-attrs'></dl></div><div class='xr-var-data'><pre>array([[[[           nan],\n",
       "         [           nan],\n",
       "         [8.56091811e+01]],\n",
       "\n",
       "        [[           nan],\n",
       "         [           nan],\n",
       "         [6.22955946e+00]],\n",
       "\n",
       "        [[           nan],\n",
       "         [           nan],\n",
       "         [2.56106669e+02]],\n",
       "\n",
       "        [[           nan],\n",
       "         [           nan],\n",
       "         [           nan]],\n",
       "\n",
       "        [[           nan],\n",
       "         [           nan],\n",
       "         [           nan]],\n",
       "\n",
       "...\n",
       "\n",
       "        [[           nan],\n",
       "         [           nan],\n",
       "         [           nan]],\n",
       "\n",
       "        [[           nan],\n",
       "         [           nan],\n",
       "         [           nan]],\n",
       "\n",
       "        [[6.75000000e+04],\n",
       "         [           nan],\n",
       "         [           nan]],\n",
       "\n",
       "        [[           nan],\n",
       "         [1.83529412e-02],\n",
       "         [           nan]],\n",
       "\n",
       "        [[           nan],\n",
       "         [           nan],\n",
       "         [           nan]]]])</pre></div></li><li class='xr-var-item'><div class='xr-var-name'><span>cost_investment</span></div><div class='xr-var-dims'>(nodes, techs, costs)</div><div class='xr-var-dtype'>float64</div><div class='xr-var-preview xr-preview'>85.61 6.23 256.1 ... 0.01835 nan</div><input id='attrs-7c3fcc14-9e01-4c65-b14a-d750288f0e7f' class='xr-var-attrs-in' type='checkbox' disabled><label for='attrs-7c3fcc14-9e01-4c65-b14a-d750288f0e7f' title='Show/Hide attributes'><svg class='icon xr-icon-file-text2'><use xlink:href='#icon-file-text2'></use></svg></label><input id='data-1bbc3220-9a4f-480b-ad6c-c6244c5d975f' class='xr-var-data-in' type='checkbox'><label for='data-1bbc3220-9a4f-480b-ad6c-c6244c5d975f' title='Show/Hide data repr'><svg class='icon xr-icon-database'><use xlink:href='#icon-database'></use></svg></label><div class='xr-var-attrs'><dl class='xr-attrs'></dl></div><div class='xr-var-data'><pre>array([[[8.56091811e+01],\n",
       "        [6.22955946e+00],\n",
       "        [2.56106669e+02],\n",
       "        [           nan],\n",
       "        [           nan],\n",
       "        [           nan],\n",
       "        [           nan],\n",
       "        [           nan],\n",
       "        [           nan],\n",
       "        [           nan],\n",
       "        [           nan],\n",
       "        [           nan]],\n",
       "\n",
       "       [[           nan],\n",
       "        [           nan],\n",
       "        [2.56106669e+02],\n",
       "        [1.37255851e+01],\n",
       "        [1.14445840e+00],\n",
       "        [           nan],\n",
       "        [1.95710024e+05],\n",
       "...\n",
       "        [8.31099330e+03],\n",
       "        [           nan],\n",
       "        [           nan],\n",
       "        [           nan],\n",
       "        [8.54678369e+04],\n",
       "        [2.26859378e+02],\n",
       "        [           nan]],\n",
       "\n",
       "       [[           nan],\n",
       "        [6.22955946e+00],\n",
       "        [           nan],\n",
       "        [           nan],\n",
       "        [1.14445840e+00],\n",
       "        [1.21680000e+00],\n",
       "        [           nan],\n",
       "        [           nan],\n",
       "        [           nan],\n",
       "        [6.75000000e+04],\n",
       "        [1.83529412e-02],\n",
       "        [           nan]]])</pre></div></li><li class='xr-var-item'><div class='xr-var-name'><span>cost_investment_annualised</span></div><div class='xr-var-dims'>(nodes, techs, costs)</div><div class='xr-var-dtype'>float64</div><div class='xr-var-preview xr-preview'>0.05168 0.003761 ... 1.108e-05 nan</div><input id='attrs-d472f4f4-1051-4d3d-a037-af419459d211' class='xr-var-attrs-in' type='checkbox' disabled><label for='attrs-d472f4f4-1051-4d3d-a037-af419459d211' title='Show/Hide attributes'><svg class='icon xr-icon-file-text2'><use xlink:href='#icon-file-text2'></use></svg></label><input id='data-49549530-9a5f-4ee7-8159-89f80865bd80' class='xr-var-data-in' type='checkbox'><label for='data-49549530-9a5f-4ee7-8159-89f80865bd80' title='Show/Hide data repr'><svg class='icon xr-icon-database'><use xlink:href='#icon-database'></use></svg></label><div class='xr-var-attrs'><dl class='xr-attrs'></dl></div><div class='xr-var-data'><pre>array([[[5.16788956e-02],\n",
       "        [3.76054004e-03],\n",
       "        [1.54601523e-01],\n",
       "        [           nan],\n",
       "        [           nan],\n",
       "        [           nan],\n",
       "        [           nan],\n",
       "        [           nan],\n",
       "        [           nan],\n",
       "        [           nan],\n",
       "        [           nan],\n",
       "        [           nan]],\n",
       "\n",
       "       [[           nan],\n",
       "        [           nan],\n",
       "        [1.54601523e-01],\n",
       "        [8.28559589e-03],\n",
       "        [6.90864524e-04],\n",
       "        [           nan],\n",
       "        [1.18142444e+02],\n",
       "...\n",
       "        [5.01701978e+00],\n",
       "        [           nan],\n",
       "        [           nan],\n",
       "        [           nan],\n",
       "        [5.15935716e+01],\n",
       "        [1.36946084e-01],\n",
       "        [           nan]],\n",
       "\n",
       "       [[           nan],\n",
       "        [3.76054004e-03],\n",
       "        [           nan],\n",
       "        [           nan],\n",
       "        [6.90864524e-04],\n",
       "        [7.34534303e-04],\n",
       "        [           nan],\n",
       "        [           nan],\n",
       "        [           nan],\n",
       "        [4.07470952e+01],\n",
       "        [1.10789488e-05],\n",
       "        [           nan]]])</pre></div></li><li class='xr-var-item'><div class='xr-var-name'><span>cost_operation_fixed</span></div><div class='xr-var-dims'>(nodes, techs, costs)</div><div class='xr-var-dtype'>float64</div><div class='xr-var-preview xr-preview'>nan nan nan nan ... -22.05 nan nan</div><input id='attrs-f1ac3db5-f892-48c8-8cdb-eaa1e501efbb' class='xr-var-attrs-in' type='checkbox' disabled><label for='attrs-f1ac3db5-f892-48c8-8cdb-eaa1e501efbb' title='Show/Hide attributes'><svg class='icon xr-icon-file-text2'><use xlink:href='#icon-file-text2'></use></svg></label><input id='data-8e2967ce-87fb-40c9-b17f-c7b093fa4e4e' class='xr-var-data-in' type='checkbox'><label for='data-8e2967ce-87fb-40c9-b17f-c7b093fa4e4e' title='Show/Hide data repr'><svg class='icon xr-icon-database'><use xlink:href='#icon-database'></use></svg></label><div class='xr-var-attrs'><dl class='xr-attrs'></dl></div><div class='xr-var-data'><pre>array([[[         nan],\n",
       "        [         nan],\n",
       "        [         nan],\n",
       "        [         nan],\n",
       "        [         nan],\n",
       "        [         nan],\n",
       "        [         nan],\n",
       "        [         nan],\n",
       "        [         nan],\n",
       "        [         nan],\n",
       "        [         nan],\n",
       "        [         nan]],\n",
       "\n",
       "       [[         nan],\n",
       "        [         nan],\n",
       "        [         nan],\n",
       "        [         nan],\n",
       "        [         nan],\n",
       "        [         nan],\n",
       "        [         nan],\n",
       "...\n",
       "        [         nan],\n",
       "        [         nan],\n",
       "        [         nan],\n",
       "        [         nan],\n",
       "        [         nan],\n",
       "        [         nan],\n",
       "        [         nan]],\n",
       "\n",
       "       [[         nan],\n",
       "        [         nan],\n",
       "        [         nan],\n",
       "        [         nan],\n",
       "        [         nan],\n",
       "        [         nan],\n",
       "        [         nan],\n",
       "        [         nan],\n",
       "        [         nan],\n",
       "        [-22.05479452],\n",
       "        [         nan],\n",
       "        [         nan]]])</pre></div></li><li class='xr-var-item'><div class='xr-var-name'><span>cost</span></div><div class='xr-var-dims'>(nodes, techs, costs)</div><div class='xr-var-dtype'>float64</div><div class='xr-var-preview xr-preview'>0.05168 0.003761 ... 0.01102 nan</div><input id='attrs-2ab7a2fb-ce2d-4360-9fb4-d5de4b912ce4' class='xr-var-attrs-in' type='checkbox' disabled><label for='attrs-2ab7a2fb-ce2d-4360-9fb4-d5de4b912ce4' title='Show/Hide attributes'><svg class='icon xr-icon-file-text2'><use xlink:href='#icon-file-text2'></use></svg></label><input id='data-c9e74c30-5205-49ea-b305-07e44f2167b2' class='xr-var-data-in' type='checkbox'><label for='data-c9e74c30-5205-49ea-b305-07e44f2167b2' title='Show/Hide data repr'><svg class='icon xr-icon-database'><use xlink:href='#icon-database'></use></svg></label><div class='xr-var-attrs'><dl class='xr-attrs'></dl></div><div class='xr-var-data'><pre>array([[[5.16788956e-02],\n",
       "        [3.76054004e-03],\n",
       "        [1.54601523e-01],\n",
       "        [           nan],\n",
       "        [           nan],\n",
       "        [           nan],\n",
       "        [           nan],\n",
       "        [           nan],\n",
       "        [           nan],\n",
       "        [           nan],\n",
       "        [           nan],\n",
       "        [           nan]],\n",
       "\n",
       "       [[           nan],\n",
       "        [           nan],\n",
       "        [1.54601523e-01],\n",
       "        [8.28559589e-03],\n",
       "        [6.90864524e-04],\n",
       "        [           nan],\n",
       "        [1.54998801e+02],\n",
       "...\n",
       "        [1.17131167e+01],\n",
       "        [           nan],\n",
       "        [           nan],\n",
       "        [           nan],\n",
       "        [3.05980982e+01],\n",
       "        [4.19875518e+01],\n",
       "        [           nan]],\n",
       "\n",
       "       [[           nan],\n",
       "        [3.76054004e-03],\n",
       "        [           nan],\n",
       "        [           nan],\n",
       "        [6.90864524e-04],\n",
       "        [2.49641666e-03],\n",
       "        [           nan],\n",
       "        [           nan],\n",
       "        [           nan],\n",
       "        [1.86923007e+01],\n",
       "        [1.10228437e-02],\n",
       "        [           nan]]])</pre></div></li><li class='xr-var-item'><div class='xr-var-name'><span>min_cost_optimisation</span></div><div class='xr-var-dims'>()</div><div class='xr-var-dtype'>float64</div><div class='xr-var-preview xr-preview'>842.3</div><input id='attrs-6c2205ff-3b43-4193-9186-cf97f657dc7c' class='xr-var-attrs-in' type='checkbox' disabled><label for='attrs-6c2205ff-3b43-4193-9186-cf97f657dc7c' title='Show/Hide attributes'><svg class='icon xr-icon-file-text2'><use xlink:href='#icon-file-text2'></use></svg></label><input id='data-bbfa430e-eed0-437e-b64d-9c88933f1f70' class='xr-var-data-in' type='checkbox'><label for='data-bbfa430e-eed0-437e-b64d-9c88933f1f70' title='Show/Hide data repr'><svg class='icon xr-icon-database'><use xlink:href='#icon-database'></use></svg></label><div class='xr-var-attrs'><dl class='xr-attrs'></dl></div><div class='xr-var-data'><pre>array(842.33719671)</pre></div></li><li class='xr-var-item'><div class='xr-var-name'><span>capacity_factor</span></div><div class='xr-var-dims'>(nodes, techs, carriers, timesteps)</div><div class='xr-var-dtype'>float64</div><div class='xr-var-preview xr-preview'>nan nan nan nan ... nan nan nan nan</div><input id='attrs-984e51fd-b6ca-463c-964b-dd91aa9a6c35' class='xr-var-attrs-in' type='checkbox' disabled><label for='attrs-984e51fd-b6ca-463c-964b-dd91aa9a6c35' title='Show/Hide attributes'><svg class='icon xr-icon-file-text2'><use xlink:href='#icon-file-text2'></use></svg></label><input id='data-e5fca9c1-3fab-47ae-b755-c62b9c895ce3' class='xr-var-data-in' type='checkbox'><label for='data-e5fca9c1-3fab-47ae-b755-c62b9c895ce3' title='Show/Hide data repr'><svg class='icon xr-icon-database'><use xlink:href='#icon-database'></use></svg></label><div class='xr-var-attrs'><dl class='xr-attrs'></dl></div><div class='xr-var-data'><pre>array([[[[       nan,        nan,        nan, ...,        nan,\n",
       "                 nan,        nan],\n",
       "         [       nan,        nan,        nan, ...,        nan,\n",
       "                 nan,        nan],\n",
       "         [0.        , 0.        , 0.        , ..., 0.        ,\n",
       "          0.        , 0.        ]],\n",
       "\n",
       "        [[       nan,        nan,        nan, ...,        nan,\n",
       "                 nan,        nan],\n",
       "         [       nan,        nan,        nan, ...,        nan,\n",
       "                 nan,        nan],\n",
       "         [0.        , 0.        , 0.        , ..., 0.        ,\n",
       "          0.        , 0.        ]],\n",
       "\n",
       "        [[       nan,        nan,        nan, ...,        nan,\n",
       "                 nan,        nan],\n",
       "         [       nan,        nan,        nan, ...,        nan,\n",
       "                 nan,        nan],\n",
       "         [0.28688359, 0.1274605 , 0.12811851, ..., 0.28646772,\n",
       "          0.20522712, 0.16314849]],\n",
       "...\n",
       "        [[0.        , 0.        , 0.        , ..., 0.        ,\n",
       "          0.        , 0.        ],\n",
       "         [       nan,        nan,        nan, ...,        nan,\n",
       "                 nan,        nan],\n",
       "         [       nan,        nan,        nan, ...,        nan,\n",
       "                 nan,        nan]],\n",
       "\n",
       "        [[       nan,        nan,        nan, ...,        nan,\n",
       "                 nan,        nan],\n",
       "         [0.        , 1.        , 1.        , ..., 1.        ,\n",
       "          1.        , 1.        ],\n",
       "         [       nan,        nan,        nan, ...,        nan,\n",
       "                 nan,        nan]],\n",
       "\n",
       "        [[       nan,        nan,        nan, ...,        nan,\n",
       "                 nan,        nan],\n",
       "         [       nan,        nan,        nan, ...,        nan,\n",
       "                 nan,        nan],\n",
       "         [       nan,        nan,        nan, ...,        nan,\n",
       "                 nan,        nan]]]])</pre></div></li><li class='xr-var-item'><div class='xr-var-name'><span>systemwide_capacity_factor</span></div><div class='xr-var-dims'>(techs, carriers)</div><div class='xr-var-dtype'>float64</div><div class='xr-var-preview xr-preview'>0.0 0.0 0.3986 ... 0.07874 0.0 0.0</div><input id='attrs-46230a3c-e702-4172-9409-742257359b24' class='xr-var-attrs-in' type='checkbox' disabled><label for='attrs-46230a3c-e702-4172-9409-742257359b24' title='Show/Hide attributes'><svg class='icon xr-icon-file-text2'><use xlink:href='#icon-file-text2'></use></svg></label><input id='data-b69b458c-6162-4492-969d-cfa39bd7ba70' class='xr-var-data-in' type='checkbox'><label for='data-b69b458c-6162-4492-969d-cfa39bd7ba70' title='Show/Hide data repr'><svg class='icon xr-icon-database'><use xlink:href='#icon-database'></use></svg></label><div class='xr-var-attrs'><dl class='xr-attrs'></dl></div><div class='xr-var-data'><pre>array([[0.        , 0.        , 0.39857621],\n",
       "       [0.        , 0.        , 0.24479758],\n",
       "       [0.        , 0.        , 0.22307018],\n",
       "       [0.31713349, 0.        , 0.        ],\n",
       "       [0.19753727, 0.        , 0.        ],\n",
       "       [0.        , 0.        , 0.15375983],\n",
       "       [0.73562989, 0.        , 0.73562989],\n",
       "       [0.        , 0.        , 0.        ],\n",
       "       [0.        , 0.        , 0.        ],\n",
       "       [0.20185729, 0.        , 0.        ],\n",
       "       [0.        , 0.58409777, 0.        ],\n",
       "       [0.07873735, 0.        , 0.        ]])</pre></div></li><li class='xr-var-item'><div class='xr-var-name'><span>systemwide_levelised_cost</span></div><div class='xr-var-dims'>(techs, costs, carriers)</div><div class='xr-var-dtype'>float64</div><div class='xr-var-preview xr-preview'>nan nan 1.42e-05 ... 0.116 nan nan</div><input id='attrs-a64c77c8-b541-4fba-8b0f-e194ec3ebee5' class='xr-var-attrs-in' type='checkbox' disabled><label for='attrs-a64c77c8-b541-4fba-8b0f-e194ec3ebee5' title='Show/Hide attributes'><svg class='icon xr-icon-file-text2'><use xlink:href='#icon-file-text2'></use></svg></label><input id='data-cb4b7f85-108a-4199-a40f-89ba6eacfce1' class='xr-var-data-in' type='checkbox'><label for='data-cb4b7f85-108a-4199-a40f-89ba6eacfce1' title='Show/Hide data repr'><svg class='icon xr-icon-database'><use xlink:href='#icon-database'></use></svg></label><div class='xr-var-attrs'><dl class='xr-attrs'></dl></div><div class='xr-var-data'><pre>array([[[           nan,            nan, 1.41988375e-05]],\n",
       "\n",
       "       [[           nan,            nan, 3.08244811e-05]],\n",
       "\n",
       "       [[           nan,            nan, 2.53701265e-05]],\n",
       "\n",
       "       [[1.98280287e-06,            nan,            nan]],\n",
       "\n",
       "       [[1.59163183e-06,            nan,            nan]],\n",
       "\n",
       "       [[           nan,            nan, 8.23133164e-03]],\n",
       "\n",
       "       [[1.68219340e-02,            nan, 2.10274175e-02]],\n",
       "\n",
       "       [[           nan,            nan,            nan]],\n",
       "\n",
       "       [[           nan,            nan,            nan]],\n",
       "\n",
       "       [[3.87543480e-02,            nan,            nan]],\n",
       "\n",
       "       [[           nan, 2.50215311e-02,            nan]],\n",
       "\n",
       "       [[1.15972425e-01,            nan,            nan]]])</pre></div></li><li class='xr-var-item'><div class='xr-var-name'><span>total_levelised_cost</span></div><div class='xr-var-dims'>(costs, carriers)</div><div class='xr-var-dtype'>float64</div><div class='xr-var-preview xr-preview'>0.07937 0.03449 0.09578</div><input id='attrs-16030d6e-1883-44f7-8939-5eb4792706d8' class='xr-var-attrs-in' type='checkbox' disabled><label for='attrs-16030d6e-1883-44f7-8939-5eb4792706d8' title='Show/Hide attributes'><svg class='icon xr-icon-file-text2'><use xlink:href='#icon-file-text2'></use></svg></label><input id='data-ff50100a-bd39-40a5-afaf-35ea159d59a9' class='xr-var-data-in' type='checkbox'><label for='data-ff50100a-bd39-40a5-afaf-35ea159d59a9' title='Show/Hide data repr'><svg class='icon xr-icon-database'><use xlink:href='#icon-database'></use></svg></label><div class='xr-var-attrs'><dl class='xr-attrs'></dl></div><div class='xr-var-data'><pre>array([[0.07936828, 0.03448625, 0.09577928]])</pre></div></li><li class='xr-var-item'><div class='xr-var-name'><span>unmet_sum</span></div><div class='xr-var-dims'>(nodes, carriers, timesteps)</div><div class='xr-var-dtype'>float64</div><div class='xr-var-preview xr-preview'>nan nan nan nan ... 0.0 0.0 0.0 0.0</div><input id='attrs-49793d8f-b053-4e23-81ac-23d65bdc203b' class='xr-var-attrs-in' type='checkbox' disabled><label for='attrs-49793d8f-b053-4e23-81ac-23d65bdc203b' title='Show/Hide attributes'><svg class='icon xr-icon-file-text2'><use xlink:href='#icon-file-text2'></use></svg></label><input id='data-5215aa5b-3b5d-4e1d-82d6-d8b4a9e350c3' class='xr-var-data-in' type='checkbox'><label for='data-5215aa5b-3b5d-4e1d-82d6-d8b4a9e350c3' title='Show/Hide data repr'><svg class='icon xr-icon-database'><use xlink:href='#icon-database'></use></svg></label><div class='xr-var-attrs'><dl class='xr-attrs'></dl></div><div class='xr-var-data'><pre>array([[[nan, nan, nan, nan, nan, nan, nan, nan, nan, nan, nan, nan,\n",
       "         nan, nan, nan, nan, nan, nan, nan, nan, nan, nan, nan, nan,\n",
       "         nan, nan, nan, nan, nan, nan, nan, nan, nan, nan, nan, nan,\n",
       "         nan, nan, nan, nan, nan, nan, nan, nan, nan, nan, nan, nan],\n",
       "        [nan, nan, nan, nan, nan, nan, nan, nan, nan, nan, nan, nan,\n",
       "         nan, nan, nan, nan, nan, nan, nan, nan, nan, nan, nan, nan,\n",
       "         nan, nan, nan, nan, nan, nan, nan, nan, nan, nan, nan, nan,\n",
       "         nan, nan, nan, nan, nan, nan, nan, nan, nan, nan, nan, nan],\n",
       "        [ 0.,  0.,  0.,  0.,  0.,  0.,  0.,  0.,  0.,  0.,  0.,  0.,\n",
       "          0.,  0.,  0.,  0.,  0.,  0.,  0.,  0.,  0.,  0.,  0.,  0.,\n",
       "          0.,  0.,  0.,  0.,  0.,  0.,  0.,  0.,  0.,  0.,  0.,  0.,\n",
       "          0.,  0.,  0.,  0.,  0.,  0.,  0.,  0.,  0.,  0.,  0.,  0.]],\n",
       "\n",
       "       [[ 0.,  0.,  0.,  0.,  0.,  0.,  0.,  0.,  0.,  0.,  0.,  0.,\n",
       "          0.,  0.,  0.,  0.,  0.,  0.,  0.,  0.,  0.,  0.,  0.,  0.,\n",
       "          0.,  0.,  0.,  0.,  0.,  0.,  0.,  0.,  0.,  0.,  0.,  0.,\n",
       "          0.,  0.,  0.,  0.,  0.,  0.,  0.,  0.,  0.,  0.,  0.,  0.],\n",
       "        [ 0.,  0.,  0.,  0.,  0.,  0.,  0.,  0.,  0.,  0.,  0.,  0.,\n",
       "          0.,  0.,  0.,  0.,  0.,  0.,  0.,  0.,  0.,  0.,  0.,  0.,\n",
       "          0.,  0.,  0.,  0.,  0.,  0.,  0.,  0.,  0.,  0.,  0.,  0.,\n",
       "...\n",
       "          0.,  0.,  0.,  0.,  0.,  0.,  0.,  0.,  0.,  0.,  0.,  0.,\n",
       "          0.,  0.,  0.,  0.,  0.,  0.,  0.,  0.,  0.,  0.,  0.,  0.,\n",
       "          0.,  0.,  0.,  0.,  0.,  0.,  0.,  0.,  0.,  0.,  0.,  0.],\n",
       "        [ 0.,  0.,  0.,  0.,  0.,  0.,  0.,  0.,  0.,  0.,  0.,  0.,\n",
       "          0.,  0.,  0.,  0.,  0.,  0.,  0.,  0.,  0.,  0.,  0.,  0.,\n",
       "          0.,  0.,  0.,  0.,  0.,  0.,  0.,  0.,  0.,  0.,  0.,  0.,\n",
       "          0.,  0.,  0.,  0.,  0.,  0.,  0.,  0.,  0.,  0.,  0.,  0.]],\n",
       "\n",
       "       [[ 0.,  0.,  0.,  0.,  0.,  0.,  0.,  0.,  0.,  0.,  0.,  0.,\n",
       "          0.,  0.,  0.,  0.,  0.,  0.,  0.,  0.,  0.,  0.,  0.,  0.,\n",
       "          0.,  0.,  0.,  0.,  0.,  0.,  0.,  0.,  0.,  0.,  0.,  0.,\n",
       "          0.,  0.,  0.,  0.,  0.,  0.,  0.,  0.,  0.,  0.,  0.,  0.],\n",
       "        [ 0.,  0.,  0.,  0.,  0.,  0.,  0.,  0.,  0.,  0.,  0.,  0.,\n",
       "          0.,  0.,  0.,  0.,  0.,  0.,  0.,  0.,  0.,  0.,  0.,  0.,\n",
       "          0.,  0.,  0.,  0.,  0.,  0.,  0.,  0.,  0.,  0.,  0.,  0.,\n",
       "          0.,  0.,  0.,  0.,  0.,  0.,  0.,  0.,  0.,  0.,  0.,  0.],\n",
       "        [ 0.,  0.,  0.,  0.,  0.,  0.,  0.,  0.,  0.,  0.,  0.,  0.,\n",
       "          0.,  0.,  0.,  0.,  0.,  0.,  0.,  0.,  0.,  0.,  0.,  0.,\n",
       "          0.,  0.,  0.,  0.,  0.,  0.,  0.,  0.,  0.,  0.,  0.,  0.,\n",
       "          0.,  0.,  0.,  0.,  0.,  0.,  0.,  0.,  0.,  0.,  0.,  0.]]])</pre></div></li></ul></div></li><li class='xr-section-item'><input id='section-bb9567e3-33a0-4086-ab2c-a8aa6a9e7282' class='xr-section-summary-in' type='checkbox'  ><label for='section-bb9567e3-33a0-4086-ab2c-a8aa6a9e7282' class='xr-section-summary' >Indexes: <span>(5)</span></label><div class='xr-section-inline-details'></div><div class='xr-section-details'><ul class='xr-var-list'><li class='xr-var-item'><div class='xr-index-name'><div>techs</div></div><div class='xr-index-preview'>PandasIndex</div><div></div><input id='index-43293bde-dff9-4384-8565-7ac852057810' class='xr-index-data-in' type='checkbox'/><label for='index-43293bde-dff9-4384-8565-7ac852057810' title='Show/Hide index repr'><svg class='icon xr-icon-database'><use xlink:href='#icon-database'></use></svg></label><div class='xr-index-data'><pre>PandasIndex(Index([&#x27;N1_to_X2&#x27;, &#x27;N1_to_X3&#x27;, &#x27;X1_to_N1&#x27;, &#x27;X1_to_X2&#x27;, &#x27;X1_to_X3&#x27;, &#x27;boiler&#x27;,\n",
       "       &#x27;chp&#x27;, &#x27;demand_electricity&#x27;, &#x27;demand_heat&#x27;, &#x27;pv&#x27;, &#x27;supply_gas&#x27;,\n",
       "       &#x27;supply_grid_power&#x27;],\n",
       "      dtype=&#x27;object&#x27;, name=&#x27;techs&#x27;))</pre></div></li><li class='xr-var-item'><div class='xr-index-name'><div>nodes</div></div><div class='xr-index-preview'>PandasIndex</div><div></div><input id='index-3b4b1608-5c01-4bf9-8eca-876d2e6b95db' class='xr-index-data-in' type='checkbox'/><label for='index-3b4b1608-5c01-4bf9-8eca-876d2e6b95db' title='Show/Hide index repr'><svg class='icon xr-icon-database'><use xlink:href='#icon-database'></use></svg></label><div class='xr-index-data'><pre>PandasIndex(Index([&#x27;N1&#x27;, &#x27;X1&#x27;, &#x27;X2&#x27;, &#x27;X3&#x27;], dtype=&#x27;object&#x27;, name=&#x27;nodes&#x27;))</pre></div></li><li class='xr-var-item'><div class='xr-index-name'><div>carriers</div></div><div class='xr-index-preview'>PandasIndex</div><div></div><input id='index-197d3d07-6b54-48bd-95c8-b0ef126206c7' class='xr-index-data-in' type='checkbox'/><label for='index-197d3d07-6b54-48bd-95c8-b0ef126206c7' title='Show/Hide index repr'><svg class='icon xr-icon-database'><use xlink:href='#icon-database'></use></svg></label><div class='xr-index-data'><pre>PandasIndex(Index([&#x27;electricity&#x27;, &#x27;gas&#x27;, &#x27;heat&#x27;], dtype=&#x27;object&#x27;, name=&#x27;carriers&#x27;))</pre></div></li><li class='xr-var-item'><div class='xr-index-name'><div>timesteps</div></div><div class='xr-index-preview'>PandasIndex</div><div></div><input id='index-dd9f58dc-0ac1-46ca-a522-0d0bf16e19cf' class='xr-index-data-in' type='checkbox'/><label for='index-dd9f58dc-0ac1-46ca-a522-0d0bf16e19cf' title='Show/Hide index repr'><svg class='icon xr-icon-database'><use xlink:href='#icon-database'></use></svg></label><div class='xr-index-data'><pre>PandasIndex(DatetimeIndex([&#x27;2005-07-01 00:00:00&#x27;, &#x27;2005-07-01 01:00:00&#x27;,\n",
       "               &#x27;2005-07-01 02:00:00&#x27;, &#x27;2005-07-01 03:00:00&#x27;,\n",
       "               &#x27;2005-07-01 04:00:00&#x27;, &#x27;2005-07-01 05:00:00&#x27;,\n",
       "               &#x27;2005-07-01 06:00:00&#x27;, &#x27;2005-07-01 07:00:00&#x27;,\n",
       "               &#x27;2005-07-01 08:00:00&#x27;, &#x27;2005-07-01 09:00:00&#x27;,\n",
       "               &#x27;2005-07-01 10:00:00&#x27;, &#x27;2005-07-01 11:00:00&#x27;,\n",
       "               &#x27;2005-07-01 12:00:00&#x27;, &#x27;2005-07-01 13:00:00&#x27;,\n",
       "               &#x27;2005-07-01 14:00:00&#x27;, &#x27;2005-07-01 15:00:00&#x27;,\n",
       "               &#x27;2005-07-01 16:00:00&#x27;, &#x27;2005-07-01 17:00:00&#x27;,\n",
       "               &#x27;2005-07-01 18:00:00&#x27;, &#x27;2005-07-01 19:00:00&#x27;,\n",
       "               &#x27;2005-07-01 20:00:00&#x27;, &#x27;2005-07-01 21:00:00&#x27;,\n",
       "               &#x27;2005-07-01 22:00:00&#x27;, &#x27;2005-07-01 23:00:00&#x27;,\n",
       "               &#x27;2005-07-02 00:00:00&#x27;, &#x27;2005-07-02 01:00:00&#x27;,\n",
       "               &#x27;2005-07-02 02:00:00&#x27;, &#x27;2005-07-02 03:00:00&#x27;,\n",
       "               &#x27;2005-07-02 04:00:00&#x27;, &#x27;2005-07-02 05:00:00&#x27;,\n",
       "               &#x27;2005-07-02 06:00:00&#x27;, &#x27;2005-07-02 07:00:00&#x27;,\n",
       "               &#x27;2005-07-02 08:00:00&#x27;, &#x27;2005-07-02 09:00:00&#x27;,\n",
       "               &#x27;2005-07-02 10:00:00&#x27;, &#x27;2005-07-02 11:00:00&#x27;,\n",
       "               &#x27;2005-07-02 12:00:00&#x27;, &#x27;2005-07-02 13:00:00&#x27;,\n",
       "               &#x27;2005-07-02 14:00:00&#x27;, &#x27;2005-07-02 15:00:00&#x27;,\n",
       "               &#x27;2005-07-02 16:00:00&#x27;, &#x27;2005-07-02 17:00:00&#x27;,\n",
       "               &#x27;2005-07-02 18:00:00&#x27;, &#x27;2005-07-02 19:00:00&#x27;,\n",
       "               &#x27;2005-07-02 20:00:00&#x27;, &#x27;2005-07-02 21:00:00&#x27;,\n",
       "               &#x27;2005-07-02 22:00:00&#x27;, &#x27;2005-07-02 23:00:00&#x27;],\n",
       "              dtype=&#x27;datetime64[ns]&#x27;, name=&#x27;timesteps&#x27;, freq=None))</pre></div></li><li class='xr-var-item'><div class='xr-index-name'><div>costs</div></div><div class='xr-index-preview'>PandasIndex</div><div></div><input id='index-b91eff29-d22d-40b9-983a-286e879bec4a' class='xr-index-data-in' type='checkbox'/><label for='index-b91eff29-d22d-40b9-983a-286e879bec4a' title='Show/Hide index repr'><svg class='icon xr-icon-database'><use xlink:href='#icon-database'></use></svg></label><div class='xr-index-data'><pre>PandasIndex(Index([&#x27;monetary&#x27;], dtype=&#x27;object&#x27;, name=&#x27;costs&#x27;))</pre></div></li></ul></div></li><li class='xr-section-item'><input id='section-a8006355-15c4-4501-82d6-66ba04badf85' class='xr-section-summary-in' type='checkbox' disabled ><label for='section-a8006355-15c4-4501-82d6-66ba04badf85' class='xr-section-summary'  title='Expand/collapse section'>Attributes: <span>(0)</span></label><div class='xr-section-inline-details'></div><div class='xr-section-details'><dl class='xr-attrs'></dl></div></li></ul></div></div>"
      ],
      "text/plain": [
       "<xarray.Dataset> Size: 388kB\n",
       "Dimensions:                     (nodes: 4, techs: 12, carriers: 3,\n",
       "                                 timesteps: 48, costs: 1)\n",
       "Coordinates:\n",
       "  * techs                       (techs) object 96B 'N1_to_X2' ... 'supply_gri...\n",
       "  * nodes                       (nodes) object 32B 'N1' 'X1' 'X2' 'X3'\n",
       "  * carriers                    (carriers) object 24B 'electricity' 'gas' 'heat'\n",
       "  * timesteps                   (timesteps) datetime64[ns] 384B 2005-07-01 .....\n",
       "  * costs                       (costs) object 8B 'monetary'\n",
       "Data variables: (12/24)\n",
       "    flow_cap                    (nodes, techs, carriers) float64 1kB nan ... nan\n",
       "    link_flow_cap               (techs) float64 96B 190.2 10.38 ... nan nan\n",
       "    flow_out                    (nodes, techs, carriers, timesteps) float64 55kB ...\n",
       "    flow_in                     (nodes, techs, carriers, timesteps) float64 55kB ...\n",
       "    flow_export                 (nodes, techs, carriers, timesteps) float64 55kB ...\n",
       "    area_use                    (nodes, techs) float64 384B nan nan ... nan nan\n",
       "    ...                          ...\n",
       "    min_cost_optimisation       float64 8B 842.3\n",
       "    capacity_factor             (nodes, techs, carriers, timesteps) float64 55kB ...\n",
       "    systemwide_capacity_factor  (techs, carriers) float64 288B 0.0 0.0 ... 0.0\n",
       "    systemwide_levelised_cost   (techs, costs, carriers) float64 288B nan ......\n",
       "    total_levelised_cost        (costs, carriers) float64 24B 0.07937 ... 0.0...\n",
       "    unmet_sum                   (nodes, carriers, timesteps) float64 5kB nan ..."
      ]
     },
     "execution_count": 7,
     "metadata": {},
     "output_type": "execute_result"
    }
   ],
   "source": [
    "model.results"
   ]
  },
  {
   "cell_type": "markdown",
   "id": "4a194c0f",
   "metadata": {},
   "source": [
    "We can sum heat output over all locations and turn the result into a pandas DataFrame.\n",
    "\n",
    "Note: heat output of transmission technologies (e.g., `N1_to_X2`) is the import of heat at nodes."
   ]
  },
  {
   "cell_type": "code",
   "execution_count": 8,
   "id": "dfa535e4",
   "metadata": {},
   "outputs": [
    {
     "data": {
      "text/html": [
       "<div>\n",
       "<style scoped>\n",
       "    .dataframe tbody tr th:only-of-type {\n",
       "        vertical-align: middle;\n",
       "    }\n",
       "\n",
       "    .dataframe tbody tr th {\n",
       "        vertical-align: top;\n",
       "    }\n",
       "\n",
       "    .dataframe thead th {\n",
       "        text-align: right;\n",
       "    }\n",
       "</style>\n",
       "<table border=\"1\" class=\"dataframe\">\n",
       "  <thead>\n",
       "    <tr style=\"text-align: right;\">\n",
       "      <th>techs</th>\n",
       "      <th>N1_to_X2</th>\n",
       "      <th>N1_to_X3</th>\n",
       "      <th>X1_to_N1</th>\n",
       "      <th>boiler</th>\n",
       "      <th>chp</th>\n",
       "    </tr>\n",
       "    <tr>\n",
       "      <th>timesteps</th>\n",
       "      <th></th>\n",
       "      <th></th>\n",
       "      <th></th>\n",
       "      <th></th>\n",
       "      <th></th>\n",
       "    </tr>\n",
       "  </thead>\n",
       "  <tbody>\n",
       "    <tr>\n",
       "      <th>2005-07-01 00:00:00</th>\n",
       "      <td>190.242625</td>\n",
       "      <td>0.015600</td>\n",
       "      <td>163.272893</td>\n",
       "      <td>0.000000</td>\n",
       "      <td>92.861360</td>\n",
       "    </tr>\n",
       "    <tr>\n",
       "      <th>2005-07-01 01:00:00</th>\n",
       "      <td>66.368993</td>\n",
       "      <td>0.844722</td>\n",
       "      <td>72.541074</td>\n",
       "      <td>4.100046</td>\n",
       "      <td>78.466297</td>\n",
       "    </tr>\n",
       "    <tr>\n",
       "      <th>2005-07-01 02:00:00</th>\n",
       "      <td>67.582474</td>\n",
       "      <td>0.000000</td>\n",
       "      <td>72.915564</td>\n",
       "      <td>9.626102</td>\n",
       "      <td>78.876806</td>\n",
       "    </tr>\n",
       "    <tr>\n",
       "      <th>2005-07-01 03:00:00</th>\n",
       "      <td>67.487047</td>\n",
       "      <td>0.000000</td>\n",
       "      <td>72.812606</td>\n",
       "      <td>37.084989</td>\n",
       "      <td>78.877367</td>\n",
       "    </tr>\n",
       "    <tr>\n",
       "      <th>2005-07-01 04:00:00</th>\n",
       "      <td>70.052981</td>\n",
       "      <td>0.844807</td>\n",
       "      <td>76.515868</td>\n",
       "      <td>53.191064</td>\n",
       "      <td>83.204646</td>\n",
       "    </tr>\n",
       "  </tbody>\n",
       "</table>\n",
       "</div>"
      ],
      "text/plain": [
       "techs                  N1_to_X2  N1_to_X3    X1_to_N1     boiler        chp\n",
       "timesteps                                                                  \n",
       "2005-07-01 00:00:00  190.242625  0.015600  163.272893   0.000000  92.861360\n",
       "2005-07-01 01:00:00   66.368993  0.844722   72.541074   4.100046  78.466297\n",
       "2005-07-01 02:00:00   67.582474  0.000000   72.915564   9.626102  78.876806\n",
       "2005-07-01 03:00:00   67.487047  0.000000   72.812606  37.084989  78.877367\n",
       "2005-07-01 04:00:00   70.052981  0.844807   76.515868  53.191064  83.204646"
      ]
     },
     "execution_count": 8,
     "metadata": {},
     "output_type": "execute_result"
    }
   ],
   "source": [
    "df_heat = (\n",
    "    model.results.flow_out.sel(carriers=\"heat\")\n",
    "    .sum(\"nodes\", min_count=1, skipna=True)\n",
    "    .to_series()\n",
    "    .dropna()\n",
    "    .unstack(\"techs\")\n",
    ")\n",
    "\n",
    "df_heat.head()"
   ]
  },
  {
   "cell_type": "markdown",
   "id": "b2db134d",
   "metadata": {},
   "source": [
    "We can also examine total technology costs."
   ]
  },
  {
   "cell_type": "code",
   "execution_count": 9,
   "id": "32e481aa",
   "metadata": {},
   "outputs": [
    {
     "data": {
      "text/plain": [
       "nodes  techs     costs   \n",
       "N1     N1_to_X2  monetary    0.051679\n",
       "       N1_to_X3  monetary    0.003761\n",
       "       X1_to_N1  monetary    0.154602\n",
       "X1     X1_to_N1  monetary    0.154602\n",
       "       X1_to_X2  monetary    0.008286\n",
       "Name: cost, dtype: float64"
      ]
     },
     "execution_count": 9,
     "metadata": {},
     "output_type": "execute_result"
    }
   ],
   "source": [
    "costs = model.results.cost.to_series().dropna()\n",
    "costs.head()"
   ]
  },
  {
   "cell_type": "markdown",
   "id": "383e7c4e",
   "metadata": {},
   "source": [
    "We can also examine levelized costs for each location and technology, which is calculated in a post-processing step."
   ]
  },
  {
   "cell_type": "code",
   "execution_count": 10,
   "id": "f5510d03",
   "metadata": {},
   "outputs": [
    {
     "data": {
      "text/plain": [
       "techs              costs   \n",
       "X1_to_X2           monetary    0.000002\n",
       "X1_to_X3           monetary    0.000002\n",
       "chp                monetary    0.016822\n",
       "pv                 monetary    0.038754\n",
       "supply_grid_power  monetary    0.115972\n",
       "Name: systemwide_levelised_cost, dtype: float64"
      ]
     },
     "execution_count": 10,
     "metadata": {},
     "output_type": "execute_result"
    }
   ],
   "source": [
    "lcoes = (\n",
    "    model.results.systemwide_levelised_cost.sel(carriers=\"electricity\")\n",
    "    .to_series()\n",
    "    .dropna()\n",
    ")\n",
    "lcoes.head()"
   ]
  },
  {
   "cell_type": "markdown",
   "id": "cddde248",
   "metadata": {},
   "source": [
    "### Visualising results\n",
    "\n",
    "We can use [plotly](https://plotly.com/) to quickly examine our results.\n",
    "These are just some examples of how to visualise Calliope data."
   ]
  },
  {
   "cell_type": "code",
   "execution_count": 11,
   "id": "8d57402b",
   "metadata": {},
   "outputs": [],
   "source": [
    "# We set the color mapping to use in all our plots by extracting the colors defined in the technology definitions of our model.\n",
    "colors = model.inputs.color.to_series().to_dict()"
   ]
  },
  {
   "cell_type": "markdown",
   "id": "ee3610b2",
   "metadata": {},
   "source": [
    "#### Plotting flows\n",
    "We do this by combinging in- and out-flows and separating demand from other technologies.\n",
    "First, we look at the aggregated result across all nodes for `electricity`, then we look at each node and carrier separately."
   ]
  },
  {
   "cell_type": "code",
   "execution_count": 12,
   "id": "023855ea",
   "metadata": {
    "lines_to_next_cell": 2
   },
   "outputs": [
    {
     "name": "stdout",
     "output_type": "stream",
     "text": [
      "      techs           timesteps  Flow in/out (kWh)\n",
      "0  X1_to_X2 2005-07-01 00:00:00          -1.929506\n",
      "1  X1_to_X2 2005-07-01 01:00:00          -1.570625\n",
      "2  X1_to_X2 2005-07-01 02:00:00          -1.581138\n",
      "3  X1_to_X2 2005-07-01 03:00:00          -1.581138\n",
      "4  X1_to_X2 2005-07-01 04:00:00          -1.688398\n"
     ]
    },
    {
     "data": {
      "application/vnd.plotly.v1+json": {
       "config": {
        "plotlyServerURL": "https://plot.ly"
       },
       "data": [
        {
         "hovertemplate": "techs=X1_to_X2<br>timesteps=%{x}<br>Flow in/out (kWh)=%{y}<extra></extra>",
         "legendgroup": "X1_to_X2",
         "marker": {
          "color": "#6783E3",
          "pattern": {
           "shape": ""
          }
         },
         "name": "X1_to_X2",
         "orientation": "v",
         "showlegend": true,
         "textposition": "auto",
         "type": "bar",
         "x": [
          "2005-07-01T00:00:00.000000000",
          "2005-07-01T01:00:00.000000000",
          "2005-07-01T02:00:00.000000000",
          "2005-07-01T03:00:00.000000000",
          "2005-07-01T04:00:00.000000000",
          "2005-07-01T05:00:00.000000000",
          "2005-07-01T06:00:00.000000000",
          "2005-07-01T07:00:00.000000000",
          "2005-07-01T08:00:00.000000000",
          "2005-07-01T09:00:00.000000000",
          "2005-07-01T10:00:00.000000000",
          "2005-07-01T11:00:00.000000000",
          "2005-07-01T12:00:00.000000000",
          "2005-07-01T13:00:00.000000000",
          "2005-07-01T14:00:00.000000000",
          "2005-07-01T15:00:00.000000000",
          "2005-07-01T16:00:00.000000000",
          "2005-07-01T17:00:00.000000000",
          "2005-07-01T18:00:00.000000000",
          "2005-07-01T19:00:00.000000000",
          "2005-07-01T20:00:00.000000000",
          "2005-07-01T21:00:00.000000000",
          "2005-07-01T22:00:00.000000000",
          "2005-07-01T23:00:00.000000000",
          "2005-07-02T00:00:00.000000000",
          "2005-07-02T01:00:00.000000000",
          "2005-07-02T02:00:00.000000000",
          "2005-07-02T03:00:00.000000000",
          "2005-07-02T04:00:00.000000000",
          "2005-07-02T05:00:00.000000000",
          "2005-07-02T06:00:00.000000000",
          "2005-07-02T07:00:00.000000000",
          "2005-07-02T08:00:00.000000000",
          "2005-07-02T09:00:00.000000000",
          "2005-07-02T10:00:00.000000000",
          "2005-07-02T11:00:00.000000000",
          "2005-07-02T12:00:00.000000000",
          "2005-07-02T13:00:00.000000000",
          "2005-07-02T14:00:00.000000000",
          "2005-07-02T15:00:00.000000000",
          "2005-07-02T16:00:00.000000000",
          "2005-07-02T17:00:00.000000000",
          "2005-07-02T18:00:00.000000000",
          "2005-07-02T19:00:00.000000000",
          "2005-07-02T20:00:00.000000000",
          "2005-07-02T21:00:00.000000000",
          "2005-07-02T22:00:00.000000000",
          "2005-07-02T23:00:00.000000000"
         ],
         "xaxis": "x",
         "y": {
          "bdata": "QKCg1kHf/r8ASjKORyH5v8Bj1hpXTPm/wGPWGldM+b9AbtB7rQP7v8Aet9gXQAjAgNEsUEnzDsCAtBvwmscRwCDBcqWmhxHAoKb9EaoIEsAANJglQq4NwABgw3nbuQ3AgJV3273XC8BAKRaaTaULwEDdz79lbA3AYJqe+H/iEMDAu8JU4igNwMAVintCYBTAQG/D0aMHFMDAD+RXuj4VwADWa8e8yBTAYADntnnFEMBAdyVmKxQGwMAmV6tn7/6/IJQ0wIe/AMCABShucAz8vwCyLchBi/u/QDIswQdN/L/A/MEIP679v0AFLi/MHwjAQPgky8VAEMAAHZpt9n0TwEAZRIaGMRPAQPcD7froEsAgSXx57TQSwEDIh+18QA7AwHs8uYxRC8DAGLdv8z4KwIAhg2bnEw3AYF6RDFrNEMBACB9b9BYNwGAzq2Xe8xPA4DBtkwUhFMAAyqTp//UVwEC3fg+eCBTAoKhyFt8FEMAA9prBiRYGwIA6gj757wDA",
          "dtype": "f8"
         },
         "yaxis": "y"
        },
        {
         "hovertemplate": "techs=X1_to_X3<br>timesteps=%{x}<br>Flow in/out (kWh)=%{y}<extra></extra>",
         "legendgroup": "X1_to_X3",
         "marker": {
          "color": "#6783E3",
          "pattern": {
           "shape": ""
          }
         },
         "name": "X1_to_X3",
         "orientation": "v",
         "showlegend": true,
         "textposition": "auto",
         "type": "bar",
         "x": [
          "2005-07-01T00:00:00.000000000",
          "2005-07-01T01:00:00.000000000",
          "2005-07-01T02:00:00.000000000",
          "2005-07-01T03:00:00.000000000",
          "2005-07-01T04:00:00.000000000",
          "2005-07-01T05:00:00.000000000",
          "2005-07-01T06:00:00.000000000",
          "2005-07-01T07:00:00.000000000",
          "2005-07-01T08:00:00.000000000",
          "2005-07-01T09:00:00.000000000",
          "2005-07-01T10:00:00.000000000",
          "2005-07-01T11:00:00.000000000",
          "2005-07-01T12:00:00.000000000",
          "2005-07-01T13:00:00.000000000",
          "2005-07-01T14:00:00.000000000",
          "2005-07-01T15:00:00.000000000",
          "2005-07-01T16:00:00.000000000",
          "2005-07-01T17:00:00.000000000",
          "2005-07-01T18:00:00.000000000",
          "2005-07-01T19:00:00.000000000",
          "2005-07-01T20:00:00.000000000",
          "2005-07-01T21:00:00.000000000",
          "2005-07-01T22:00:00.000000000",
          "2005-07-01T23:00:00.000000000",
          "2005-07-02T00:00:00.000000000",
          "2005-07-02T01:00:00.000000000",
          "2005-07-02T02:00:00.000000000",
          "2005-07-02T03:00:00.000000000",
          "2005-07-02T04:00:00.000000000",
          "2005-07-02T05:00:00.000000000",
          "2005-07-02T06:00:00.000000000",
          "2005-07-02T07:00:00.000000000",
          "2005-07-02T08:00:00.000000000",
          "2005-07-02T09:00:00.000000000",
          "2005-07-02T10:00:00.000000000",
          "2005-07-02T11:00:00.000000000",
          "2005-07-02T12:00:00.000000000",
          "2005-07-02T13:00:00.000000000",
          "2005-07-02T14:00:00.000000000",
          "2005-07-02T15:00:00.000000000",
          "2005-07-02T16:00:00.000000000",
          "2005-07-02T17:00:00.000000000",
          "2005-07-02T18:00:00.000000000",
          "2005-07-02T19:00:00.000000000",
          "2005-07-02T20:00:00.000000000",
          "2005-07-02T21:00:00.000000000",
          "2005-07-02T22:00:00.000000000",
          "2005-07-02T23:00:00.000000000"
         ],
         "xaxis": "x",
         "y": {
          "bdata": "AD2Zg7SB2L8APZmDtIHYvwA9mYO0gdi/AD2Zg7SB2L8APZmDtIHYv0AOiXs7NOK/oIsNhvNY4b9AjuGTUkztv8BtYkdAU+q/QHkYPUBI5r/AfuzOE2TlvwBy0MLEqeS/QELx5UJm5r/A+gwRIArOv0BNLsIA58+/wCC49K/D1b9gvF0yLKfQv6CqzWLWadG/wPig9kqc17/AgncW5v/ZvwA9mYO0gdi/AD2Zg7SB2L8APZmDtIHYvwA9mYO0gdi/AD2Zg7SB2L8APZmDtIHYvwA9mYO0gdi/AD2Zg7SB2L8APZmDtIHYv8CIiUOzV9W/QJx4fL6yyr+AHt5AY4i2vwDgJI2W6p6/gIwqm6eexL/A82EkWfLQv+AuIT5vXNK/wMLJ0I1Nzr/A4mPfrWa8v4Ds6dxBM6C/INzTGCqKwb+AQTa07gfNv6CLRhUDytK/QEgdGaYe1r9AE5ACcSzYvwA9mYO0gdi/AD2Zg7SB2L8APZmDtIHYvwA9mYO0gdi/",
          "dtype": "f8"
         },
         "yaxis": "y"
        },
        {
         "hovertemplate": "techs=chp<br>timesteps=%{x}<br>Flow in/out (kWh)=%{y}<extra></extra>",
         "legendgroup": "chp",
         "marker": {
          "color": "#E4AB97",
          "pattern": {
           "shape": ""
          }
         },
         "name": "chp",
         "orientation": "v",
         "showlegend": true,
         "textposition": "auto",
         "type": "bar",
         "x": [
          "2005-07-01T00:00:00.000000000",
          "2005-07-01T01:00:00.000000000",
          "2005-07-01T02:00:00.000000000",
          "2005-07-01T03:00:00.000000000",
          "2005-07-01T04:00:00.000000000",
          "2005-07-01T05:00:00.000000000",
          "2005-07-01T06:00:00.000000000",
          "2005-07-01T07:00:00.000000000",
          "2005-07-01T08:00:00.000000000",
          "2005-07-01T09:00:00.000000000",
          "2005-07-01T10:00:00.000000000",
          "2005-07-01T11:00:00.000000000",
          "2005-07-01T12:00:00.000000000",
          "2005-07-01T13:00:00.000000000",
          "2005-07-01T14:00:00.000000000",
          "2005-07-01T15:00:00.000000000",
          "2005-07-01T16:00:00.000000000",
          "2005-07-01T17:00:00.000000000",
          "2005-07-01T18:00:00.000000000",
          "2005-07-01T19:00:00.000000000",
          "2005-07-01T20:00:00.000000000",
          "2005-07-01T21:00:00.000000000",
          "2005-07-01T22:00:00.000000000",
          "2005-07-01T23:00:00.000000000",
          "2005-07-02T00:00:00.000000000",
          "2005-07-02T01:00:00.000000000",
          "2005-07-02T02:00:00.000000000",
          "2005-07-02T03:00:00.000000000",
          "2005-07-02T04:00:00.000000000",
          "2005-07-02T05:00:00.000000000",
          "2005-07-02T06:00:00.000000000",
          "2005-07-02T07:00:00.000000000",
          "2005-07-02T08:00:00.000000000",
          "2005-07-02T09:00:00.000000000",
          "2005-07-02T10:00:00.000000000",
          "2005-07-02T11:00:00.000000000",
          "2005-07-02T12:00:00.000000000",
          "2005-07-02T13:00:00.000000000",
          "2005-07-02T14:00:00.000000000",
          "2005-07-02T15:00:00.000000000",
          "2005-07-02T16:00:00.000000000",
          "2005-07-02T17:00:00.000000000",
          "2005-07-02T18:00:00.000000000",
          "2005-07-02T19:00:00.000000000",
          "2005-07-02T20:00:00.000000000",
          "2005-07-02T21:00:00.000000000",
          "2005-07-02T22:00:00.000000000",
          "2005-07-02T23:00:00.000000000"
         ],
         "xaxis": "x",
         "y": {
          "bdata": "/sxKp+gEXUDWgADBTYVYQJRAV/4kplhAJurmeTCmWEDlI1gmXwBaQJZBYNVxkmZAgXYUw+Goa0CuiuqsJU9wQK6K6qwlT3BArorqrCVPcECYEiNJ13RrQJH+84zjWGtAiiEJRzM2akBAd0Kb2SVnQKqLOKhSoWhAM5Om7vyabEDH31TQXYZoQK6K6qwlT3BArorqrCVPcECuiuqsJU9wQK6K6qwlT3BAk0HpjWa8bEBIupnd3L5jQDrbxhMtGF1ASHfvU8ERX0BCe/ivBc1aQJB1w1VMZ1pAgvPZe7r+WkA523TcoBVcQC7PZJyTAGVAMXXARmDKakCA/ifxfBhvQDPVomQf5G1AbmLznhWmbEDEyzBDqepqQL+M5psQ92VA+i4kyi36Y0AtzFqwb+hjQCWxy5YIAGdAkEIijRQ1a0BKei6860JoQK6K6qwlT3BArorqrCVPcECuiuqsJU9wQK6K6qwlT3BAfXgz8wSRa0BQhQ2VtsBjQFpAlocZZF9A",
          "dtype": "f8"
         },
         "yaxis": "y"
        },
        {
         "hovertemplate": "techs=pv<br>timesteps=%{x}<br>Flow in/out (kWh)=%{y}<extra></extra>",
         "legendgroup": "pv",
         "marker": {
          "color": "#F9D956",
          "pattern": {
           "shape": ""
          }
         },
         "name": "pv",
         "orientation": "v",
         "showlegend": true,
         "textposition": "auto",
         "type": "bar",
         "x": [
          "2005-07-01T05:00:00.000000000",
          "2005-07-01T06:00:00.000000000",
          "2005-07-01T07:00:00.000000000",
          "2005-07-01T08:00:00.000000000",
          "2005-07-01T09:00:00.000000000",
          "2005-07-01T10:00:00.000000000",
          "2005-07-01T11:00:00.000000000",
          "2005-07-01T12:00:00.000000000",
          "2005-07-01T13:00:00.000000000",
          "2005-07-01T14:00:00.000000000",
          "2005-07-01T15:00:00.000000000",
          "2005-07-01T16:00:00.000000000",
          "2005-07-01T17:00:00.000000000",
          "2005-07-01T18:00:00.000000000",
          "2005-07-02T05:00:00.000000000",
          "2005-07-02T06:00:00.000000000",
          "2005-07-02T07:00:00.000000000",
          "2005-07-02T08:00:00.000000000",
          "2005-07-02T09:00:00.000000000",
          "2005-07-02T10:00:00.000000000",
          "2005-07-02T11:00:00.000000000",
          "2005-07-02T12:00:00.000000000",
          "2005-07-02T13:00:00.000000000",
          "2005-07-02T14:00:00.000000000",
          "2005-07-02T15:00:00.000000000",
          "2005-07-02T16:00:00.000000000",
          "2005-07-02T17:00:00.000000000",
          "2005-07-02T18:00:00.000000000",
          "2005-07-02T19:00:00.000000000"
         ],
         "xaxis": "x",
         "y": {
          "bdata": "VpjaV1owFUAQeZC52qUzQKasavyeu0JAHMOe5hxwSkBJDTWpOy5QQN0bTRwtOlJAMGiHJIUhUkDoeEPdr1ZOQCmo1pBh+0dAkfSZKva3RUBvqgJsdxhBQI0apQspATpAFYsvPLu4MUBkI4AGeTIaQMI1CBaa9RVACF4/0uJbM0BgRWiei19AQFRXQ9Z9+EZAwFIm2QNjTkAwaIckhSFSQDIxiPfIwVJAANREWhtWUUBamJ+eqItLQIzr58XegENAtP8qjvi8O0DyrlseAzQyQOWBa7Qq1yNA/ttLiNuQEEBf8To++33iPw==",
          "dtype": "f8"
         },
         "yaxis": "y"
        },
        {
         "hovertemplate": "techs=supply_grid_power<br>timesteps=%{x}<br>Flow in/out (kWh)=%{y}<extra></extra>",
         "legendgroup": "supply_grid_power",
         "marker": {
          "color": "#C5ABE3",
          "pattern": {
           "shape": ""
          }
         },
         "name": "supply_grid_power",
         "orientation": "v",
         "showlegend": true,
         "textposition": "auto",
         "type": "bar",
         "x": [
          "2005-07-01T07:00:00.000000000",
          "2005-07-01T17:00:00.000000000",
          "2005-07-01T18:00:00.000000000",
          "2005-07-01T19:00:00.000000000",
          "2005-07-01T20:00:00.000000000",
          "2005-07-02T17:00:00.000000000",
          "2005-07-02T18:00:00.000000000",
          "2005-07-02T19:00:00.000000000",
          "2005-07-02T20:00:00.000000000"
         ],
         "xaxis": "x",
         "y": {
          "bdata": "YOhA+coqH0BAnjW6FqwgQGBa3NLKySFAoNER0w8ZOkBgZjv3Bk8zQEDHnNwseRBAAIBSIgXwIUAwDbf8YM9AQEDOTvgN2yNA",
          "dtype": "f8"
         },
         "yaxis": "y"
        },
        {
         "marker": {
          "color": "black"
         },
         "name": "demand",
         "type": "scatter",
         "x": [
          "2005-07-01T00:00:00.000000000",
          "2005-07-01T01:00:00.000000000",
          "2005-07-01T02:00:00.000000000",
          "2005-07-01T03:00:00.000000000",
          "2005-07-01T04:00:00.000000000",
          "2005-07-01T05:00:00.000000000",
          "2005-07-01T06:00:00.000000000",
          "2005-07-01T07:00:00.000000000",
          "2005-07-01T08:00:00.000000000",
          "2005-07-01T09:00:00.000000000",
          "2005-07-01T10:00:00.000000000",
          "2005-07-01T11:00:00.000000000",
          "2005-07-01T12:00:00.000000000",
          "2005-07-01T13:00:00.000000000",
          "2005-07-01T14:00:00.000000000",
          "2005-07-01T15:00:00.000000000",
          "2005-07-01T16:00:00.000000000",
          "2005-07-01T17:00:00.000000000",
          "2005-07-01T18:00:00.000000000",
          "2005-07-01T19:00:00.000000000",
          "2005-07-01T20:00:00.000000000",
          "2005-07-01T21:00:00.000000000",
          "2005-07-01T22:00:00.000000000",
          "2005-07-01T23:00:00.000000000",
          "2005-07-02T00:00:00.000000000",
          "2005-07-02T01:00:00.000000000",
          "2005-07-02T02:00:00.000000000",
          "2005-07-02T03:00:00.000000000",
          "2005-07-02T04:00:00.000000000",
          "2005-07-02T05:00:00.000000000",
          "2005-07-02T06:00:00.000000000",
          "2005-07-02T07:00:00.000000000",
          "2005-07-02T08:00:00.000000000",
          "2005-07-02T09:00:00.000000000",
          "2005-07-02T10:00:00.000000000",
          "2005-07-02T11:00:00.000000000",
          "2005-07-02T12:00:00.000000000",
          "2005-07-02T13:00:00.000000000",
          "2005-07-02T14:00:00.000000000",
          "2005-07-02T15:00:00.000000000",
          "2005-07-02T16:00:00.000000000",
          "2005-07-02T17:00:00.000000000",
          "2005-07-02T18:00:00.000000000",
          "2005-07-02T19:00:00.000000000",
          "2005-07-02T20:00:00.000000000",
          "2005-07-02T21:00:00.000000000",
          "2005-07-02T22:00:00.000000000",
          "2005-07-02T23:00:00.000000000"
         ],
         "y": {
          "bdata": "QLFs6+lwXEBwHkTuRghYQMhNaO1xKFhAWvf3aH0oWEDwSOW7zntZQAJ6ZQcKamZAxe4NTiwxbEBLhFIjgM1yQNbmBA/hSXNAn81tbD1tckCcKXJd6AJyQFvqRnYK73FAFhgDAg2jcEBnhQtBmq5sQMU9r9ukkW1AdvbzeJIncEBLSV3Si0lrQJBU+JY2mnFAE7iWRTjwcECpeTbHO5VxQGyrH7zSKnFA8jzw5fkpbEDNV79VS1pjQGLllcDtg1xAajlqYUNzXkDuQbw5UkRaQIolH5qd4FlAfKlRqAR1WkAKOs4rZoZbQBnTp7Dt4mRAJ5TrkQlTa0DZ9f5LESRwQDn/kC1U0m9ARjZQE89jb0AqN9o8EdVuQKB1VezE1W5AnQZ85utoa0Bl6Yc00V5qQOPQjXbtamtAneL8Q+YhbkB3ZuBSzg1qQGlbpLtB23BACVJKhN3KcECgUjmubRRyQPMfTje7l3BAmhY+IJUEa0DaTMWTG1xjQEqVHgkYxF5A",
          "dtype": "f8"
         }
        }
       ],
       "layout": {
        "barmode": "relative",
        "legend": {
         "title": {
          "text": "techs"
         },
         "tracegroupgap": 0
        },
        "margin": {
         "t": 60
        },
        "template": {
         "data": {
          "bar": [
           {
            "error_x": {
             "color": "#2a3f5f"
            },
            "error_y": {
             "color": "#2a3f5f"
            },
            "marker": {
             "line": {
              "color": "#E5ECF6",
              "width": 0.5
             },
             "pattern": {
              "fillmode": "overlay",
              "size": 10,
              "solidity": 0.2
             }
            },
            "type": "bar"
           }
          ],
          "barpolar": [
           {
            "marker": {
             "line": {
              "color": "#E5ECF6",
              "width": 0.5
             },
             "pattern": {
              "fillmode": "overlay",
              "size": 10,
              "solidity": 0.2
             }
            },
            "type": "barpolar"
           }
          ],
          "carpet": [
           {
            "aaxis": {
             "endlinecolor": "#2a3f5f",
             "gridcolor": "white",
             "linecolor": "white",
             "minorgridcolor": "white",
             "startlinecolor": "#2a3f5f"
            },
            "baxis": {
             "endlinecolor": "#2a3f5f",
             "gridcolor": "white",
             "linecolor": "white",
             "minorgridcolor": "white",
             "startlinecolor": "#2a3f5f"
            },
            "type": "carpet"
           }
          ],
          "choropleth": [
           {
            "colorbar": {
             "outlinewidth": 0,
             "ticks": ""
            },
            "type": "choropleth"
           }
          ],
          "contour": [
           {
            "colorbar": {
             "outlinewidth": 0,
             "ticks": ""
            },
            "colorscale": [
             [
              0,
              "#0d0887"
             ],
             [
              0.1111111111111111,
              "#46039f"
             ],
             [
              0.2222222222222222,
              "#7201a8"
             ],
             [
              0.3333333333333333,
              "#9c179e"
             ],
             [
              0.4444444444444444,
              "#bd3786"
             ],
             [
              0.5555555555555556,
              "#d8576b"
             ],
             [
              0.6666666666666666,
              "#ed7953"
             ],
             [
              0.7777777777777778,
              "#fb9f3a"
             ],
             [
              0.8888888888888888,
              "#fdca26"
             ],
             [
              1,
              "#f0f921"
             ]
            ],
            "type": "contour"
           }
          ],
          "contourcarpet": [
           {
            "colorbar": {
             "outlinewidth": 0,
             "ticks": ""
            },
            "type": "contourcarpet"
           }
          ],
          "heatmap": [
           {
            "colorbar": {
             "outlinewidth": 0,
             "ticks": ""
            },
            "colorscale": [
             [
              0,
              "#0d0887"
             ],
             [
              0.1111111111111111,
              "#46039f"
             ],
             [
              0.2222222222222222,
              "#7201a8"
             ],
             [
              0.3333333333333333,
              "#9c179e"
             ],
             [
              0.4444444444444444,
              "#bd3786"
             ],
             [
              0.5555555555555556,
              "#d8576b"
             ],
             [
              0.6666666666666666,
              "#ed7953"
             ],
             [
              0.7777777777777778,
              "#fb9f3a"
             ],
             [
              0.8888888888888888,
              "#fdca26"
             ],
             [
              1,
              "#f0f921"
             ]
            ],
            "type": "heatmap"
           }
          ],
          "histogram": [
           {
            "marker": {
             "pattern": {
              "fillmode": "overlay",
              "size": 10,
              "solidity": 0.2
             }
            },
            "type": "histogram"
           }
          ],
          "histogram2d": [
           {
            "colorbar": {
             "outlinewidth": 0,
             "ticks": ""
            },
            "colorscale": [
             [
              0,
              "#0d0887"
             ],
             [
              0.1111111111111111,
              "#46039f"
             ],
             [
              0.2222222222222222,
              "#7201a8"
             ],
             [
              0.3333333333333333,
              "#9c179e"
             ],
             [
              0.4444444444444444,
              "#bd3786"
             ],
             [
              0.5555555555555556,
              "#d8576b"
             ],
             [
              0.6666666666666666,
              "#ed7953"
             ],
             [
              0.7777777777777778,
              "#fb9f3a"
             ],
             [
              0.8888888888888888,
              "#fdca26"
             ],
             [
              1,
              "#f0f921"
             ]
            ],
            "type": "histogram2d"
           }
          ],
          "histogram2dcontour": [
           {
            "colorbar": {
             "outlinewidth": 0,
             "ticks": ""
            },
            "colorscale": [
             [
              0,
              "#0d0887"
             ],
             [
              0.1111111111111111,
              "#46039f"
             ],
             [
              0.2222222222222222,
              "#7201a8"
             ],
             [
              0.3333333333333333,
              "#9c179e"
             ],
             [
              0.4444444444444444,
              "#bd3786"
             ],
             [
              0.5555555555555556,
              "#d8576b"
             ],
             [
              0.6666666666666666,
              "#ed7953"
             ],
             [
              0.7777777777777778,
              "#fb9f3a"
             ],
             [
              0.8888888888888888,
              "#fdca26"
             ],
             [
              1,
              "#f0f921"
             ]
            ],
            "type": "histogram2dcontour"
           }
          ],
          "mesh3d": [
           {
            "colorbar": {
             "outlinewidth": 0,
             "ticks": ""
            },
            "type": "mesh3d"
           }
          ],
          "parcoords": [
           {
            "line": {
             "colorbar": {
              "outlinewidth": 0,
              "ticks": ""
             }
            },
            "type": "parcoords"
           }
          ],
          "pie": [
           {
            "automargin": true,
            "type": "pie"
           }
          ],
          "scatter": [
           {
            "fillpattern": {
             "fillmode": "overlay",
             "size": 10,
             "solidity": 0.2
            },
            "type": "scatter"
           }
          ],
          "scatter3d": [
           {
            "line": {
             "colorbar": {
              "outlinewidth": 0,
              "ticks": ""
             }
            },
            "marker": {
             "colorbar": {
              "outlinewidth": 0,
              "ticks": ""
             }
            },
            "type": "scatter3d"
           }
          ],
          "scattercarpet": [
           {
            "marker": {
             "colorbar": {
              "outlinewidth": 0,
              "ticks": ""
             }
            },
            "type": "scattercarpet"
           }
          ],
          "scattergeo": [
           {
            "marker": {
             "colorbar": {
              "outlinewidth": 0,
              "ticks": ""
             }
            },
            "type": "scattergeo"
           }
          ],
          "scattergl": [
           {
            "marker": {
             "colorbar": {
              "outlinewidth": 0,
              "ticks": ""
             }
            },
            "type": "scattergl"
           }
          ],
          "scattermap": [
           {
            "marker": {
             "colorbar": {
              "outlinewidth": 0,
              "ticks": ""
             }
            },
            "type": "scattermap"
           }
          ],
          "scattermapbox": [
           {
            "marker": {
             "colorbar": {
              "outlinewidth": 0,
              "ticks": ""
             }
            },
            "type": "scattermapbox"
           }
          ],
          "scatterpolar": [
           {
            "marker": {
             "colorbar": {
              "outlinewidth": 0,
              "ticks": ""
             }
            },
            "type": "scatterpolar"
           }
          ],
          "scatterpolargl": [
           {
            "marker": {
             "colorbar": {
              "outlinewidth": 0,
              "ticks": ""
             }
            },
            "type": "scatterpolargl"
           }
          ],
          "scatterternary": [
           {
            "marker": {
             "colorbar": {
              "outlinewidth": 0,
              "ticks": ""
             }
            },
            "type": "scatterternary"
           }
          ],
          "surface": [
           {
            "colorbar": {
             "outlinewidth": 0,
             "ticks": ""
            },
            "colorscale": [
             [
              0,
              "#0d0887"
             ],
             [
              0.1111111111111111,
              "#46039f"
             ],
             [
              0.2222222222222222,
              "#7201a8"
             ],
             [
              0.3333333333333333,
              "#9c179e"
             ],
             [
              0.4444444444444444,
              "#bd3786"
             ],
             [
              0.5555555555555556,
              "#d8576b"
             ],
             [
              0.6666666666666666,
              "#ed7953"
             ],
             [
              0.7777777777777778,
              "#fb9f3a"
             ],
             [
              0.8888888888888888,
              "#fdca26"
             ],
             [
              1,
              "#f0f921"
             ]
            ],
            "type": "surface"
           }
          ],
          "table": [
           {
            "cells": {
             "fill": {
              "color": "#EBF0F8"
             },
             "line": {
              "color": "white"
             }
            },
            "header": {
             "fill": {
              "color": "#C8D4E3"
             },
             "line": {
              "color": "white"
             }
            },
            "type": "table"
           }
          ]
         },
         "layout": {
          "annotationdefaults": {
           "arrowcolor": "#2a3f5f",
           "arrowhead": 0,
           "arrowwidth": 1
          },
          "autotypenumbers": "strict",
          "coloraxis": {
           "colorbar": {
            "outlinewidth": 0,
            "ticks": ""
           }
          },
          "colorscale": {
           "diverging": [
            [
             0,
             "#8e0152"
            ],
            [
             0.1,
             "#c51b7d"
            ],
            [
             0.2,
             "#de77ae"
            ],
            [
             0.3,
             "#f1b6da"
            ],
            [
             0.4,
             "#fde0ef"
            ],
            [
             0.5,
             "#f7f7f7"
            ],
            [
             0.6,
             "#e6f5d0"
            ],
            [
             0.7,
             "#b8e186"
            ],
            [
             0.8,
             "#7fbc41"
            ],
            [
             0.9,
             "#4d9221"
            ],
            [
             1,
             "#276419"
            ]
           ],
           "sequential": [
            [
             0,
             "#0d0887"
            ],
            [
             0.1111111111111111,
             "#46039f"
            ],
            [
             0.2222222222222222,
             "#7201a8"
            ],
            [
             0.3333333333333333,
             "#9c179e"
            ],
            [
             0.4444444444444444,
             "#bd3786"
            ],
            [
             0.5555555555555556,
             "#d8576b"
            ],
            [
             0.6666666666666666,
             "#ed7953"
            ],
            [
             0.7777777777777778,
             "#fb9f3a"
            ],
            [
             0.8888888888888888,
             "#fdca26"
            ],
            [
             1,
             "#f0f921"
            ]
           ],
           "sequentialminus": [
            [
             0,
             "#0d0887"
            ],
            [
             0.1111111111111111,
             "#46039f"
            ],
            [
             0.2222222222222222,
             "#7201a8"
            ],
            [
             0.3333333333333333,
             "#9c179e"
            ],
            [
             0.4444444444444444,
             "#bd3786"
            ],
            [
             0.5555555555555556,
             "#d8576b"
            ],
            [
             0.6666666666666666,
             "#ed7953"
            ],
            [
             0.7777777777777778,
             "#fb9f3a"
            ],
            [
             0.8888888888888888,
             "#fdca26"
            ],
            [
             1,
             "#f0f921"
            ]
           ]
          },
          "colorway": [
           "#636efa",
           "#EF553B",
           "#00cc96",
           "#ab63fa",
           "#FFA15A",
           "#19d3f3",
           "#FF6692",
           "#B6E880",
           "#FF97FF",
           "#FECB52"
          ],
          "font": {
           "color": "#2a3f5f"
          },
          "geo": {
           "bgcolor": "white",
           "lakecolor": "white",
           "landcolor": "#E5ECF6",
           "showlakes": true,
           "showland": true,
           "subunitcolor": "white"
          },
          "hoverlabel": {
           "align": "left"
          },
          "hovermode": "closest",
          "mapbox": {
           "style": "light"
          },
          "paper_bgcolor": "white",
          "plot_bgcolor": "#E5ECF6",
          "polar": {
           "angularaxis": {
            "gridcolor": "white",
            "linecolor": "white",
            "ticks": ""
           },
           "bgcolor": "#E5ECF6",
           "radialaxis": {
            "gridcolor": "white",
            "linecolor": "white",
            "ticks": ""
           }
          },
          "scene": {
           "xaxis": {
            "backgroundcolor": "#E5ECF6",
            "gridcolor": "white",
            "gridwidth": 2,
            "linecolor": "white",
            "showbackground": true,
            "ticks": "",
            "zerolinecolor": "white"
           },
           "yaxis": {
            "backgroundcolor": "#E5ECF6",
            "gridcolor": "white",
            "gridwidth": 2,
            "linecolor": "white",
            "showbackground": true,
            "ticks": "",
            "zerolinecolor": "white"
           },
           "zaxis": {
            "backgroundcolor": "#E5ECF6",
            "gridcolor": "white",
            "gridwidth": 2,
            "linecolor": "white",
            "showbackground": true,
            "ticks": "",
            "zerolinecolor": "white"
           }
          },
          "shapedefaults": {
           "line": {
            "color": "#2a3f5f"
           }
          },
          "ternary": {
           "aaxis": {
            "gridcolor": "white",
            "linecolor": "white",
            "ticks": ""
           },
           "baxis": {
            "gridcolor": "white",
            "linecolor": "white",
            "ticks": ""
           },
           "bgcolor": "#E5ECF6",
           "caxis": {
            "gridcolor": "white",
            "linecolor": "white",
            "ticks": ""
           }
          },
          "title": {
           "x": 0.05
          },
          "xaxis": {
           "automargin": true,
           "gridcolor": "white",
           "linecolor": "white",
           "ticks": "",
           "title": {
            "standoff": 15
           },
           "zerolinecolor": "white",
           "zerolinewidth": 2
          },
          "yaxis": {
           "automargin": true,
           "gridcolor": "white",
           "linecolor": "white",
           "ticks": "",
           "title": {
            "standoff": 15
           },
           "zerolinecolor": "white",
           "zerolinewidth": 2
          }
         }
        },
        "xaxis": {
         "anchor": "y",
         "domain": [
          0,
          1
         ],
         "title": {
          "text": "timesteps"
         }
        },
        "yaxis": {
         "anchor": "x",
         "domain": [
          0,
          1
         ],
         "title": {
          "text": "Flow in/out (kWh)"
         }
        }
       }
      }
     },
     "metadata": {},
     "output_type": "display_data"
    }
   ],
   "source": [
    "df_electricity = (\n",
    "    (model.results.flow_out.fillna(0) - model.results.flow_in.fillna(0))\n",
    "    .sel(carriers=\"electricity\")\n",
    "    .sum(\"nodes\")\n",
    "    .to_series()\n",
    "    .where(lambda x: x != 0)\n",
    "    .dropna()\n",
    "    .to_frame(\"Flow in/out (kWh)\")\n",
    "    .reset_index()\n",
    ")\n",
    "df_electricity_demand = df_electricity[df_electricity.techs == \"demand_electricity\"]\n",
    "df_electricity_other = df_electricity[df_electricity.techs != \"demand_electricity\"]\n",
    "\n",
    "print(df_electricity.head())\n",
    "\n",
    "fig1 = px.bar(\n",
    "    df_electricity_other,\n",
    "    x=\"timesteps\",\n",
    "    y=\"Flow in/out (kWh)\",\n",
    "    color=\"techs\",\n",
    "    color_discrete_map=colors,\n",
    ")\n",
    "fig1.add_scatter(\n",
    "    x=df_electricity_demand.timesteps,\n",
    "    y=-1 * df_electricity_demand[\"Flow in/out (kWh)\"],\n",
    "    marker_color=\"black\",\n",
    "    name=\"demand\",\n",
    ")"
   ]
  },
  {
   "cell_type": "code",
   "execution_count": 13,
   "id": "04a812f3",
   "metadata": {},
   "outputs": [
    {
     "name": "stdout",
     "output_type": "stream",
     "text": [
      "  nodes     techs carriers           timesteps  Flow in/out (kWh)\n",
      "0    N1  N1_to_X2     heat 2005-07-01 00:00:00         -79.744478\n",
      "1    N1  N1_to_X2     heat 2005-07-01 01:00:00         -71.606325\n",
      "2    N1  N1_to_X2     heat 2005-07-01 02:00:00         -72.915564\n",
      "3    N1  N1_to_X2     heat 2005-07-01 03:00:00         -72.812606\n",
      "4    N1  N1_to_X2     heat 2005-07-01 04:00:00         -75.581024\n"
     ]
    },
    {
     "data": {
      "application/vnd.plotly.v1+json": {
       "config": {
        "plotlyServerURL": "https://plot.ly"
       },
       "data": [
        {
         "hovertemplate": "techs=N1_to_X2<br>nodes=N1<br>carriers=heat<br>timesteps=%{x}<br>Flow in/out (kWh)=%{y}<extra></extra>",
         "legendgroup": "N1_to_X2",
         "marker": {
          "color": "#823739",
          "pattern": {
           "shape": ""
          }
         },
         "name": "N1_to_X2",
         "orientation": "v",
         "showlegend": true,
         "textposition": "auto",
         "type": "bar",
         "x": [
          "2005-07-01T00:00:00.000000000",
          "2005-07-01T01:00:00.000000000",
          "2005-07-01T02:00:00.000000000",
          "2005-07-01T03:00:00.000000000",
          "2005-07-01T04:00:00.000000000",
          "2005-07-01T05:00:00.000000000",
          "2005-07-01T06:00:00.000000000",
          "2005-07-01T07:00:00.000000000",
          "2005-07-01T08:00:00.000000000",
          "2005-07-01T09:00:00.000000000",
          "2005-07-01T10:00:00.000000000",
          "2005-07-01T11:00:00.000000000",
          "2005-07-01T12:00:00.000000000",
          "2005-07-01T13:00:00.000000000",
          "2005-07-01T14:00:00.000000000",
          "2005-07-01T15:00:00.000000000",
          "2005-07-01T16:00:00.000000000",
          "2005-07-01T17:00:00.000000000",
          "2005-07-01T18:00:00.000000000",
          "2005-07-01T19:00:00.000000000",
          "2005-07-01T20:00:00.000000000",
          "2005-07-01T21:00:00.000000000",
          "2005-07-01T22:00:00.000000000",
          "2005-07-01T23:00:00.000000000",
          "2005-07-02T00:00:00.000000000",
          "2005-07-02T01:00:00.000000000",
          "2005-07-02T02:00:00.000000000",
          "2005-07-02T03:00:00.000000000",
          "2005-07-02T04:00:00.000000000",
          "2005-07-02T05:00:00.000000000",
          "2005-07-02T06:00:00.000000000",
          "2005-07-02T07:00:00.000000000",
          "2005-07-02T08:00:00.000000000",
          "2005-07-02T09:00:00.000000000",
          "2005-07-02T10:00:00.000000000",
          "2005-07-02T11:00:00.000000000",
          "2005-07-02T12:00:00.000000000",
          "2005-07-02T13:00:00.000000000",
          "2005-07-02T14:00:00.000000000",
          "2005-07-02T15:00:00.000000000",
          "2005-07-02T16:00:00.000000000",
          "2005-07-02T17:00:00.000000000",
          "2005-07-02T18:00:00.000000000",
          "2005-07-02T19:00:00.000000000",
          "2005-07-02T20:00:00.000000000",
          "2005-07-02T21:00:00.000000000",
          "2005-07-02T22:00:00.000000000",
          "2005-07-02T23:00:00.000000000"
         ],
         "xaxis": "x7",
         "y": {
          "bdata": "aQLNhqXvU8A1bB4GzuZRwIithZqYOlLAh705vQE0UsB6l+F+L+VSwH+/1tZXOl/AaCku+BgTY8CUCaiP8DxnwLheQtqslmfA/HD3lMPHZ8CQ40RfMPxjwMBYp6ZKBGDApuNmFW4LX8BK4XbFxABfwP5AJppSGWDAlRcPCdj+WcDgXPgeZilewDQRykMKXWLAfpJeC3vNZsDuejFwZk1mwFi+m++y8GbAIMkwmj8hZcBlGvCPcjBdwB++1G6VSFXAnINVUtj5VsAVQJgJStNTwMovK3JPQFPA8tKvDqjXU8DedfnSZ1NUwFaQkDFRv17AH0JSo6qsY8C5JZt6xcFmwFAPPp8RAWbAivAk7pj4ZMD/HF38S95jwDuB5WUFrl/AcDSJcedDXcDZi3LcDyxdwOo1cjqBEV7AX0puRUuQWsBdFM27/eNdwDnJ4XoosGHAsiUYT4+uZsBmJFSWmANmwIWtobAxvmbAHG0ZXT9DZMCItyp6NDNdwJ7ozmi1+lbA",
          "dtype": "f8"
         },
         "yaxis": "y7"
        },
        {
         "hovertemplate": "techs=N1_to_X3<br>nodes=N1<br>carriers=heat<br>timesteps=%{x}<br>Flow in/out (kWh)=%{y}<extra></extra>",
         "legendgroup": "N1_to_X3",
         "marker": {
          "color": "#823739",
          "pattern": {
           "shape": ""
          }
         },
         "name": "N1_to_X3",
         "orientation": "v",
         "showlegend": true,
         "textposition": "auto",
         "type": "bar",
         "x": [
          "2005-07-01T00:00:00.000000000",
          "2005-07-01T01:00:00.000000000",
          "2005-07-01T04:00:00.000000000",
          "2005-07-01T05:00:00.000000000",
          "2005-07-01T06:00:00.000000000",
          "2005-07-01T07:00:00.000000000",
          "2005-07-01T08:00:00.000000000",
          "2005-07-01T09:00:00.000000000",
          "2005-07-01T10:00:00.000000000",
          "2005-07-01T11:00:00.000000000",
          "2005-07-01T12:00:00.000000000",
          "2005-07-01T13:00:00.000000000",
          "2005-07-01T14:00:00.000000000",
          "2005-07-01T15:00:00.000000000",
          "2005-07-01T16:00:00.000000000",
          "2005-07-01T17:00:00.000000000",
          "2005-07-01T18:00:00.000000000",
          "2005-07-01T19:00:00.000000000",
          "2005-07-01T20:00:00.000000000",
          "2005-07-01T21:00:00.000000000",
          "2005-07-01T23:00:00.000000000",
          "2005-07-02T00:00:00.000000000",
          "2005-07-02T02:00:00.000000000",
          "2005-07-02T04:00:00.000000000",
          "2005-07-02T07:00:00.000000000",
          "2005-07-02T09:00:00.000000000",
          "2005-07-02T10:00:00.000000000",
          "2005-07-02T11:00:00.000000000",
          "2005-07-02T12:00:00.000000000",
          "2005-07-02T13:00:00.000000000",
          "2005-07-02T14:00:00.000000000",
          "2005-07-02T15:00:00.000000000",
          "2005-07-02T16:00:00.000000000",
          "2005-07-02T17:00:00.000000000",
          "2005-07-02T18:00:00.000000000",
          "2005-07-02T19:00:00.000000000",
          "2005-07-02T20:00:00.000000000",
          "2005-07-02T21:00:00.000000000",
          "2005-07-02T23:00:00.000000000"
         ],
         "xaxis": "x7",
         "y": {
          "bdata": "ReG2SEmtkb9vUxZNeOntvxcltV896u2/C+6eK1MKIMBDEpAH5MMkwBj9jXVkkhnAoJoWtYRGDcDc8LRMWOwAwED7vbVRcQLAqC3A7XPjA8Dk+ZWysz0CwHSkd2YNGQTAAHiEua84AsAs/DdaExUJwJAOUx3SJ/6/FoBMpVE4BsAQ1KDPTPTxv8iamJqreP+/ENSgz0z08b9odCjcduntv2sF80byAO2/ExWeSd1bp7+4qMv2MOntv8CmfeAN6u2/YqQlPC7p7b+nu6x8Nentv0XhtkhJrZG/ENSgz0z08b9uA+83nHfuv1cXn5Und+6/ENSgz0z08b9F4bZISa2RvwAldQlWeP+/EJL9ur8cAMAQ1KDPTPTxv5A2JKYneP+/ENSgz0z08b9C0R2RRentv2eFp6Qt6e2/",
          "dtype": "f8"
         },
         "yaxis": "y7"
        },
        {
         "hovertemplate": "techs=X1_to_N1<br>nodes=N1<br>carriers=heat<br>timesteps=%{x}<br>Flow in/out (kWh)=%{y}<extra></extra>",
         "legendgroup": "X1_to_N1",
         "marker": {
          "color": "#823739",
          "pattern": {
           "shape": ""
          }
         },
         "name": "X1_to_N1",
         "orientation": "v",
         "showlegend": true,
         "textposition": "auto",
         "type": "bar",
         "x": [
          "2005-07-01T00:00:00.000000000",
          "2005-07-01T01:00:00.000000000",
          "2005-07-01T02:00:00.000000000",
          "2005-07-01T03:00:00.000000000",
          "2005-07-01T04:00:00.000000000",
          "2005-07-01T05:00:00.000000000",
          "2005-07-01T06:00:00.000000000",
          "2005-07-01T07:00:00.000000000",
          "2005-07-01T08:00:00.000000000",
          "2005-07-01T09:00:00.000000000",
          "2005-07-01T10:00:00.000000000",
          "2005-07-01T11:00:00.000000000",
          "2005-07-01T12:00:00.000000000",
          "2005-07-01T13:00:00.000000000",
          "2005-07-01T14:00:00.000000000",
          "2005-07-01T15:00:00.000000000",
          "2005-07-01T16:00:00.000000000",
          "2005-07-01T17:00:00.000000000",
          "2005-07-01T18:00:00.000000000",
          "2005-07-01T19:00:00.000000000",
          "2005-07-01T20:00:00.000000000",
          "2005-07-01T21:00:00.000000000",
          "2005-07-01T22:00:00.000000000",
          "2005-07-01T23:00:00.000000000",
          "2005-07-02T00:00:00.000000000",
          "2005-07-02T01:00:00.000000000",
          "2005-07-02T02:00:00.000000000",
          "2005-07-02T03:00:00.000000000",
          "2005-07-02T04:00:00.000000000",
          "2005-07-02T05:00:00.000000000",
          "2005-07-02T06:00:00.000000000",
          "2005-07-02T07:00:00.000000000",
          "2005-07-02T08:00:00.000000000",
          "2005-07-02T09:00:00.000000000",
          "2005-07-02T10:00:00.000000000",
          "2005-07-02T11:00:00.000000000",
          "2005-07-02T12:00:00.000000000",
          "2005-07-02T13:00:00.000000000",
          "2005-07-02T14:00:00.000000000",
          "2005-07-02T15:00:00.000000000",
          "2005-07-02T16:00:00.000000000",
          "2005-07-02T17:00:00.000000000",
          "2005-07-02T18:00:00.000000000",
          "2005-07-02T19:00:00.000000000",
          "2005-07-02T20:00:00.000000000",
          "2005-07-02T21:00:00.000000000",
          "2005-07-02T22:00:00.000000000",
          "2005-07-02T23:00:00.000000000"
         ],
         "xaxis": "x7",
         "y": {
          "bdata": "1o1hW8DwU0DcmLj2oCJSQIithZqYOlJAh705vQE0UkDEAaH5AyFTQJ9OJR7RnWBAjCqnOFdfZEB9eVSzgwloQCO5Fu3GC2hAv0Qq9nQLaEB92xum9UVkQHZZXnbYU2BAcJP7sludX0BunqowjaFfQNxSDFk1YmBAeNfgo4DHWkAYqW1nBaJeQDRDX4rrtWJAJdT9pGPxZkAirGbHV4xmQAAAO4mbFGdAk/EMESk/ZUBlGvCPcjBdQCmkYlOXglVAX7f+zcP8VkAVQJgJStNTQBrHGNQhfFNA8tKvDqjXU0AqcbruO49UQFaQkDFRv15AH0JSo6qsY0BdS9eort9mQE8PPp8RAWZARp2hI4IWZUC2Yqdm2d5jQIoEJJnW9V9AdxL5qdaAXUAIyp0r/mhdQDi5sG1SWV5AzNUCGmaRWkDw6PIT32FeQIC/zXmb8GFAWWe36HfSZkDTbKDliEJmQC3vQEoa4mZA7IqqoihhZECItyp6NDNdQKk3GMSHNldA",
          "dtype": "f8"
         },
         "yaxis": "y7"
        },
        {
         "hovertemplate": "techs=X1_to_N1<br>nodes=X1<br>carriers=heat<br>timesteps=%{x}<br>Flow in/out (kWh)=%{y}<extra></extra>",
         "legendgroup": "X1_to_N1",
         "marker": {
          "color": "#823739",
          "pattern": {
           "shape": ""
          }
         },
         "name": "X1_to_N1",
         "orientation": "v",
         "showlegend": false,
         "textposition": "auto",
         "type": "bar",
         "x": [
          "2005-07-01T00:00:00.000000000",
          "2005-07-01T01:00:00.000000000",
          "2005-07-01T02:00:00.000000000",
          "2005-07-01T03:00:00.000000000",
          "2005-07-01T04:00:00.000000000",
          "2005-07-01T05:00:00.000000000",
          "2005-07-01T06:00:00.000000000",
          "2005-07-01T07:00:00.000000000",
          "2005-07-01T08:00:00.000000000",
          "2005-07-01T09:00:00.000000000",
          "2005-07-01T10:00:00.000000000",
          "2005-07-01T11:00:00.000000000",
          "2005-07-01T12:00:00.000000000",
          "2005-07-01T13:00:00.000000000",
          "2005-07-01T14:00:00.000000000",
          "2005-07-01T15:00:00.000000000",
          "2005-07-01T16:00:00.000000000",
          "2005-07-01T17:00:00.000000000",
          "2005-07-01T18:00:00.000000000",
          "2005-07-01T19:00:00.000000000",
          "2005-07-01T20:00:00.000000000",
          "2005-07-01T21:00:00.000000000",
          "2005-07-01T22:00:00.000000000",
          "2005-07-01T23:00:00.000000000",
          "2005-07-02T00:00:00.000000000",
          "2005-07-02T01:00:00.000000000",
          "2005-07-02T02:00:00.000000000",
          "2005-07-02T03:00:00.000000000",
          "2005-07-02T04:00:00.000000000",
          "2005-07-02T05:00:00.000000000",
          "2005-07-02T06:00:00.000000000",
          "2005-07-02T07:00:00.000000000",
          "2005-07-02T08:00:00.000000000",
          "2005-07-02T09:00:00.000000000",
          "2005-07-02T10:00:00.000000000",
          "2005-07-02T11:00:00.000000000",
          "2005-07-02T12:00:00.000000000",
          "2005-07-02T13:00:00.000000000",
          "2005-07-02T14:00:00.000000000",
          "2005-07-02T15:00:00.000000000",
          "2005-07-02T16:00:00.000000000",
          "2005-07-02T17:00:00.000000000",
          "2005-07-02T18:00:00.000000000",
          "2005-07-02T19:00:00.000000000",
          "2005-07-02T20:00:00.000000000",
          "2005-07-02T21:00:00.000000000",
          "2005-07-02T22:00:00.000000000",
          "2005-07-02T23:00:00.000000000"
         ],
         "xaxis": "x5",
         "y": {
          "bdata": "KoRgy1cpV8CxeedH/ZBTwBi6KhnZqlPAdDCWHr2jU8BC29xMc6NUwNvDh9R+7WHA7ea4NeX6ZcC+AMhBGu9pwCZBzDCL8WnAzyAQwjLxacAkmR3mgt9lwJSaJkxlzmXA+L6vPDrnZMAb8fArEXViwIFyh3qEpGPAauTGMh/RZsCgkAYIKIpjwFl5uB2HAGrAx3izoeD/acC1n9uBoAFqwOJSUeP1A2rAgkmnj2DsZsDPw82dHX5fwJYMdAYhNVfAwDOdMyXNWMCFuZ/EymNVwBQa09nBBVXALp90A4FoVcDHqzhxkS5WwI2ZcgQ7lmDAbS+DIR86ZcA20/SKxK1owE3MOF6WvWfAUvEfZoTAZsBS/mypQ3BlwAmo2yclgGHA5YXhvdnUX8C0CkSHH7tfwKCkwzO2VmLAvNzdNMiyZcBe+vhWNVRjwBc6NTWFAGrAHDULcNv/acAT6hLtmwFqwFia6szxA2rAP+/SWdv8ZcB0sJw8F4FfwNd8hB14C1nA",
          "dtype": "f8"
         },
         "yaxis": "y5"
        },
        {
         "hovertemplate": "techs=chp<br>nodes=X1<br>carriers=heat<br>timesteps=%{x}<br>Flow in/out (kWh)=%{y}<extra></extra>",
         "legendgroup": "chp",
         "marker": {
          "color": "#E4AB97",
          "pattern": {
           "shape": ""
          }
         },
         "name": "chp",
         "orientation": "v",
         "showlegend": true,
         "textposition": "auto",
         "type": "bar",
         "x": [
          "2005-07-01T00:00:00.000000000",
          "2005-07-01T01:00:00.000000000",
          "2005-07-01T02:00:00.000000000",
          "2005-07-01T03:00:00.000000000",
          "2005-07-01T04:00:00.000000000",
          "2005-07-01T05:00:00.000000000",
          "2005-07-01T06:00:00.000000000",
          "2005-07-01T07:00:00.000000000",
          "2005-07-01T08:00:00.000000000",
          "2005-07-01T09:00:00.000000000",
          "2005-07-01T10:00:00.000000000",
          "2005-07-01T11:00:00.000000000",
          "2005-07-01T12:00:00.000000000",
          "2005-07-01T13:00:00.000000000",
          "2005-07-01T14:00:00.000000000",
          "2005-07-01T15:00:00.000000000",
          "2005-07-01T16:00:00.000000000",
          "2005-07-01T17:00:00.000000000",
          "2005-07-01T18:00:00.000000000",
          "2005-07-01T19:00:00.000000000",
          "2005-07-01T20:00:00.000000000",
          "2005-07-01T21:00:00.000000000",
          "2005-07-01T22:00:00.000000000",
          "2005-07-01T23:00:00.000000000",
          "2005-07-02T00:00:00.000000000",
          "2005-07-02T01:00:00.000000000",
          "2005-07-02T02:00:00.000000000",
          "2005-07-02T03:00:00.000000000",
          "2005-07-02T04:00:00.000000000",
          "2005-07-02T05:00:00.000000000",
          "2005-07-02T06:00:00.000000000",
          "2005-07-02T07:00:00.000000000",
          "2005-07-02T08:00:00.000000000",
          "2005-07-02T09:00:00.000000000",
          "2005-07-02T10:00:00.000000000",
          "2005-07-02T11:00:00.000000000",
          "2005-07-02T12:00:00.000000000",
          "2005-07-02T13:00:00.000000000",
          "2005-07-02T14:00:00.000000000",
          "2005-07-02T15:00:00.000000000",
          "2005-07-02T16:00:00.000000000",
          "2005-07-02T17:00:00.000000000",
          "2005-07-02T18:00:00.000000000",
          "2005-07-02T19:00:00.000000000",
          "2005-07-02T20:00:00.000000000",
          "2005-07-02T21:00:00.000000000",
          "2005-07-02T22:00:00.000000000",
          "2005-07-02T23:00:00.000000000"
         ],
         "xaxis": "x5",
         "y": {
          "bdata": "zHDVhSA3V0CsAJrN151TQETNRZgduFNAhe7rxya4U0BRtnnrGM1UQHg0gHfBDmJAzl4QnLQgZkCwqt1HPBhqQLCq3Uc8GGpAsKrdRzwYakCt2+igEvdlQKjLXAq24GVAouegBSn4ZEDNxc4VroRiQIg8LSBCtGNAKdwe8mPiZkBsGXdzsZ5jQLCq3Uc8GGpAsKrdRzwYakCwqt1HPBhqQLCq3Uc8GGpAEM7t1x79ZkDa9vXIx5dfQGKvOHaKRldA1MXyDwHbWEDPlZNZ0XBVQA1enERwH1VAnI/hL5WYVUBhr5Djs3dWQPLYg+NCzWBAjirNa7NuZUDN/h/0Y+BoQJCq6Lay6WdAjBspf0TrZkA31vNoh4hlQMyj669zkmFAXX7Tqa/2X0B8E15NTNpfQOvAb0VtZmJAQDXocBDEZUAIlYuWvGhjQLCq3Uc8GGpAsKrdRzwYakCwqt1HPBhqQLCq3Uc8GGpAZGBcj50NZkBN1Ui7vZpfQEgARTnhHFlA",
          "dtype": "f8"
         },
         "yaxis": "y5"
        },
        {
         "hovertemplate": "techs=X1_to_X2<br>nodes=X1<br>carriers=electricity<br>timesteps=%{x}<br>Flow in/out (kWh)=%{y}<extra></extra>",
         "legendgroup": "X1_to_X2",
         "marker": {
          "color": "#6783E3",
          "pattern": {
           "shape": ""
          }
         },
         "name": "X1_to_X2",
         "orientation": "v",
         "showlegend": true,
         "textposition": "auto",
         "type": "bar",
         "x": [
          "2005-07-01T00:00:00.000000000",
          "2005-07-01T01:00:00.000000000",
          "2005-07-01T02:00:00.000000000",
          "2005-07-01T03:00:00.000000000",
          "2005-07-01T04:00:00.000000000",
          "2005-07-01T05:00:00.000000000",
          "2005-07-01T06:00:00.000000000",
          "2005-07-01T07:00:00.000000000",
          "2005-07-01T08:00:00.000000000",
          "2005-07-01T09:00:00.000000000",
          "2005-07-01T10:00:00.000000000",
          "2005-07-01T11:00:00.000000000",
          "2005-07-01T12:00:00.000000000",
          "2005-07-01T13:00:00.000000000",
          "2005-07-01T14:00:00.000000000",
          "2005-07-01T15:00:00.000000000",
          "2005-07-01T16:00:00.000000000",
          "2005-07-01T17:00:00.000000000",
          "2005-07-01T18:00:00.000000000",
          "2005-07-01T19:00:00.000000000",
          "2005-07-01T20:00:00.000000000",
          "2005-07-01T21:00:00.000000000",
          "2005-07-01T22:00:00.000000000",
          "2005-07-01T23:00:00.000000000",
          "2005-07-02T00:00:00.000000000",
          "2005-07-02T01:00:00.000000000",
          "2005-07-02T02:00:00.000000000",
          "2005-07-02T03:00:00.000000000",
          "2005-07-02T04:00:00.000000000",
          "2005-07-02T05:00:00.000000000",
          "2005-07-02T06:00:00.000000000",
          "2005-07-02T07:00:00.000000000",
          "2005-07-02T08:00:00.000000000",
          "2005-07-02T09:00:00.000000000",
          "2005-07-02T10:00:00.000000000",
          "2005-07-02T11:00:00.000000000",
          "2005-07-02T12:00:00.000000000",
          "2005-07-02T13:00:00.000000000",
          "2005-07-02T14:00:00.000000000",
          "2005-07-02T15:00:00.000000000",
          "2005-07-02T16:00:00.000000000",
          "2005-07-02T17:00:00.000000000",
          "2005-07-02T18:00:00.000000000",
          "2005-07-02T19:00:00.000000000",
          "2005-07-02T20:00:00.000000000",
          "2005-07-02T21:00:00.000000000",
          "2005-07-02T22:00:00.000000000",
          "2005-07-02T23:00:00.000000000"
         ],
         "xaxis": "x6",
         "y": {
          "bdata": "JX2tb2seWMDRSRfn/6FTwPV99wykw1PA9X33DKTDU8Ai1rqI3xpVwBUQT6ES8mLAnQOjRhEuaMDxSSsX4sdrwMJNg2L0Y2vAVFQcvIktbMCD6F6tIzBnwOqiIHczOWfAxWx1U4zAZcBEUGGgJJllwNNk2n2v/GbAN9F39OdhasClIjjS8MdmwNrBB+Fn1m/Au13B9+9Lb8BFLKqUAZlwwCM/zHvTPHDAkvDILY40asARRc3nwT9hwEIW3P0IK1jAcCdSHEQrWsA9RA/Wt+lVwPGyY2TLhFXAUofqDi4cVsB2jdc+ITBXwBv024TX2GLA8cNpDTVlacBUzUAL0XRuwH1nyjFi/W3AUjJWEgiMbcBBMtINs3JswFkUkplhomfAukC38LVXZcA9C0cvLoFkwBJyFsiMt2bAhCOjs9xAasBaPjDn7rlmwDaA234LLW/ATZxatphzb8DDvYjuLyhxwF/+Nfh2TW/AfCcTkywJacAZEEGfm0FhwGJ7q3H1dlrA",
          "dtype": "f8"
         },
         "yaxis": "y6"
        },
        {
         "hovertemplate": "techs=X1_to_X3<br>nodes=X1<br>carriers=electricity<br>timesteps=%{x}<br>Flow in/out (kWh)=%{y}<extra></extra>",
         "legendgroup": "X1_to_X3",
         "marker": {
          "color": "#6783E3",
          "pattern": {
           "shape": ""
          }
         },
         "name": "X1_to_X3",
         "orientation": "v",
         "showlegend": true,
         "textposition": "auto",
         "type": "bar",
         "x": [
          "2005-07-01T00:00:00.000000000",
          "2005-07-01T01:00:00.000000000",
          "2005-07-01T02:00:00.000000000",
          "2005-07-01T03:00:00.000000000",
          "2005-07-01T04:00:00.000000000",
          "2005-07-01T05:00:00.000000000",
          "2005-07-01T06:00:00.000000000",
          "2005-07-01T07:00:00.000000000",
          "2005-07-01T08:00:00.000000000",
          "2005-07-01T09:00:00.000000000",
          "2005-07-01T10:00:00.000000000",
          "2005-07-01T11:00:00.000000000",
          "2005-07-01T12:00:00.000000000",
          "2005-07-01T13:00:00.000000000",
          "2005-07-01T14:00:00.000000000",
          "2005-07-01T15:00:00.000000000",
          "2005-07-01T16:00:00.000000000",
          "2005-07-01T17:00:00.000000000",
          "2005-07-01T18:00:00.000000000",
          "2005-07-01T19:00:00.000000000",
          "2005-07-01T20:00:00.000000000",
          "2005-07-01T21:00:00.000000000",
          "2005-07-01T22:00:00.000000000",
          "2005-07-01T23:00:00.000000000",
          "2005-07-02T00:00:00.000000000",
          "2005-07-02T01:00:00.000000000",
          "2005-07-02T02:00:00.000000000",
          "2005-07-02T03:00:00.000000000",
          "2005-07-02T04:00:00.000000000",
          "2005-07-02T05:00:00.000000000",
          "2005-07-02T06:00:00.000000000",
          "2005-07-02T07:00:00.000000000",
          "2005-07-02T08:00:00.000000000",
          "2005-07-02T09:00:00.000000000",
          "2005-07-02T10:00:00.000000000",
          "2005-07-02T11:00:00.000000000",
          "2005-07-02T12:00:00.000000000",
          "2005-07-02T13:00:00.000000000",
          "2005-07-02T14:00:00.000000000",
          "2005-07-02T15:00:00.000000000",
          "2005-07-02T16:00:00.000000000",
          "2005-07-02T17:00:00.000000000",
          "2005-07-02T18:00:00.000000000",
          "2005-07-02T19:00:00.000000000",
          "2005-07-02T20:00:00.000000000",
          "2005-07-02T21:00:00.000000000",
          "2005-07-02T22:00:00.000000000",
          "2005-07-02T23:00:00.000000000"
         ],
         "xaxis": "x6",
         "y": {
          "bdata": "urfPBlUlM8C6t88GVSUzwLq3zwZVJTPAurfPBlUlM8C6t88GVSUzwDwmBvGccTzAKCp1gfwaO8AEN4iDoONGwLHlxDcKkUTAzR67L3JoQcD3wqh5L7ZAwBHZMrihJEDA0XukQ+R/QcDvI1IN6XcnwGkstJd47CjAg9kvd+EAMcBAdrIONQUqwI1aYfpeNSvAOcKtkBpyMsAVXo3B6080wLq3zwZVJTPAurfPBlUlM8C6t88GVSUzwLq3zwZVJTPAurfPBlUlM8C6t88GVSUzwLq3zwZVJTPAurfPBlUlM8C6t88GVSUzwMtywwyErDDADTo+0aTbJMDah62KjZoRwJA7EESbq/c/ECeZpfCSH0Au/bV/GPMpQNXPIleKHSxAF3nak2AzJ0CNeQgfnb4VQHSBLekWUPm//QfLxuFnG8AgY8p8Mq4mwA46PtGkWy3AguCew/FHMcDzjgBKuOIywLq3zwZVJTPAurfPBlUlM8C6t88GVSUzwLq3zwZVJTPA",
          "dtype": "f8"
         },
         "yaxis": "y6"
        },
        {
         "hovertemplate": "techs=chp<br>nodes=X1<br>carriers=electricity<br>timesteps=%{x}<br>Flow in/out (kWh)=%{y}<extra></extra>",
         "legendgroup": "chp",
         "marker": {
          "color": "#E4AB97",
          "pattern": {
           "shape": ""
          }
         },
         "name": "chp",
         "orientation": "v",
         "showlegend": false,
         "textposition": "auto",
         "type": "bar",
         "x": [
          "2005-07-01T00:00:00.000000000",
          "2005-07-01T01:00:00.000000000",
          "2005-07-01T02:00:00.000000000",
          "2005-07-01T03:00:00.000000000",
          "2005-07-01T04:00:00.000000000",
          "2005-07-01T05:00:00.000000000",
          "2005-07-01T06:00:00.000000000",
          "2005-07-01T07:00:00.000000000",
          "2005-07-01T08:00:00.000000000",
          "2005-07-01T09:00:00.000000000",
          "2005-07-01T10:00:00.000000000",
          "2005-07-01T11:00:00.000000000",
          "2005-07-01T12:00:00.000000000",
          "2005-07-01T13:00:00.000000000",
          "2005-07-01T14:00:00.000000000",
          "2005-07-01T15:00:00.000000000",
          "2005-07-01T16:00:00.000000000",
          "2005-07-01T17:00:00.000000000",
          "2005-07-01T18:00:00.000000000",
          "2005-07-01T19:00:00.000000000",
          "2005-07-01T20:00:00.000000000",
          "2005-07-01T21:00:00.000000000",
          "2005-07-01T22:00:00.000000000",
          "2005-07-01T23:00:00.000000000",
          "2005-07-02T00:00:00.000000000",
          "2005-07-02T01:00:00.000000000",
          "2005-07-02T02:00:00.000000000",
          "2005-07-02T03:00:00.000000000",
          "2005-07-02T04:00:00.000000000",
          "2005-07-02T05:00:00.000000000",
          "2005-07-02T06:00:00.000000000",
          "2005-07-02T07:00:00.000000000",
          "2005-07-02T08:00:00.000000000",
          "2005-07-02T09:00:00.000000000",
          "2005-07-02T10:00:00.000000000",
          "2005-07-02T11:00:00.000000000",
          "2005-07-02T12:00:00.000000000",
          "2005-07-02T13:00:00.000000000",
          "2005-07-02T14:00:00.000000000",
          "2005-07-02T15:00:00.000000000",
          "2005-07-02T16:00:00.000000000",
          "2005-07-02T17:00:00.000000000",
          "2005-07-02T18:00:00.000000000",
          "2005-07-02T19:00:00.000000000",
          "2005-07-02T20:00:00.000000000",
          "2005-07-02T21:00:00.000000000",
          "2005-07-02T22:00:00.000000000",
          "2005-07-02T23:00:00.000000000"
         ],
         "xaxis": "x6",
         "y": {
          "bdata": "/sxKp+gEXUDWgADBTYVYQJRAV/4kplhAJurmeTCmWEDlI1gmXwBaQJZBYNVxkmZAgXYUw+Goa0CuiuqsJU9wQK6K6qwlT3BArorqrCVPcECYEiNJ13RrQJH+84zjWGtAiiEJRzM2akBAd0Kb2SVnQKqLOKhSoWhAM5Om7vyabEDH31TQXYZoQK6K6qwlT3BArorqrCVPcECuiuqsJU9wQK6K6qwlT3BAk0HpjWa8bEBIupnd3L5jQDrbxhMtGF1ASHfvU8ERX0BCe/ivBc1aQJB1w1VMZ1pAgvPZe7r+WkA523TcoBVcQC7PZJyTAGVAMXXARmDKakCA/ifxfBhvQDPVomQf5G1AbmLznhWmbEDEyzBDqepqQL+M5psQ92VA+i4kyi36Y0AtzFqwb+hjQCWxy5YIAGdAkEIijRQ1a0BKei6860JoQK6K6qwlT3BArorqrCVPcECuiuqsJU9wQK6K6qwlT3BAfXgz8wSRa0BQhQ2VtsBjQFpAlocZZF9A",
          "dtype": "f8"
         },
         "yaxis": "y6"
        },
        {
         "hovertemplate": "techs=supply_grid_power<br>nodes=X1<br>carriers=electricity<br>timesteps=%{x}<br>Flow in/out (kWh)=%{y}<extra></extra>",
         "legendgroup": "supply_grid_power",
         "marker": {
          "color": "#C5ABE3",
          "pattern": {
           "shape": ""
          }
         },
         "name": "supply_grid_power",
         "orientation": "v",
         "showlegend": true,
         "textposition": "auto",
         "type": "bar",
         "x": [
          "2005-07-01T07:00:00.000000000",
          "2005-07-01T17:00:00.000000000",
          "2005-07-01T18:00:00.000000000",
          "2005-07-01T19:00:00.000000000",
          "2005-07-01T20:00:00.000000000",
          "2005-07-02T17:00:00.000000000",
          "2005-07-02T18:00:00.000000000",
          "2005-07-02T19:00:00.000000000",
          "2005-07-02T20:00:00.000000000"
         ],
         "xaxis": "x6",
         "y": {
          "bdata": "YOhA+coqH0BAnjW6FqwgQGBa3NLKySFAoNER0w8ZOkBgZjv3Bk8zQEDHnNwseRBAAIBSIgXwIUAwDbf8YM9AQEDOTvgN2yNA",
          "dtype": "f8"
         },
         "yaxis": "y6"
        },
        {
         "hovertemplate": "techs=N1_to_X2<br>nodes=X2<br>carriers=heat<br>timesteps=%{x}<br>Flow in/out (kWh)=%{y}<extra></extra>",
         "legendgroup": "N1_to_X2",
         "marker": {
          "color": "#823739",
          "pattern": {
           "shape": ""
          }
         },
         "name": "N1_to_X2",
         "orientation": "v",
         "showlegend": false,
         "textposition": "auto",
         "type": "bar",
         "x": [
          "2005-07-01T00:00:00.000000000",
          "2005-07-01T01:00:00.000000000",
          "2005-07-01T02:00:00.000000000",
          "2005-07-01T03:00:00.000000000",
          "2005-07-01T04:00:00.000000000",
          "2005-07-01T05:00:00.000000000",
          "2005-07-01T06:00:00.000000000",
          "2005-07-01T07:00:00.000000000",
          "2005-07-01T08:00:00.000000000",
          "2005-07-01T09:00:00.000000000",
          "2005-07-01T10:00:00.000000000",
          "2005-07-01T11:00:00.000000000",
          "2005-07-01T12:00:00.000000000",
          "2005-07-01T13:00:00.000000000",
          "2005-07-01T14:00:00.000000000",
          "2005-07-01T15:00:00.000000000",
          "2005-07-01T16:00:00.000000000",
          "2005-07-01T17:00:00.000000000",
          "2005-07-01T18:00:00.000000000",
          "2005-07-01T19:00:00.000000000",
          "2005-07-01T20:00:00.000000000",
          "2005-07-01T21:00:00.000000000",
          "2005-07-01T22:00:00.000000000",
          "2005-07-01T23:00:00.000000000",
          "2005-07-02T00:00:00.000000000",
          "2005-07-02T01:00:00.000000000",
          "2005-07-02T02:00:00.000000000",
          "2005-07-02T03:00:00.000000000",
          "2005-07-02T04:00:00.000000000",
          "2005-07-02T05:00:00.000000000",
          "2005-07-02T06:00:00.000000000",
          "2005-07-02T07:00:00.000000000",
          "2005-07-02T08:00:00.000000000",
          "2005-07-02T09:00:00.000000000",
          "2005-07-02T10:00:00.000000000",
          "2005-07-02T11:00:00.000000000",
          "2005-07-02T12:00:00.000000000",
          "2005-07-02T13:00:00.000000000",
          "2005-07-02T14:00:00.000000000",
          "2005-07-02T15:00:00.000000000",
          "2005-07-02T16:00:00.000000000",
          "2005-07-02T17:00:00.000000000",
          "2005-07-02T18:00:00.000000000",
          "2005-07-02T19:00:00.000000000",
          "2005-07-02T20:00:00.000000000",
          "2005-07-02T21:00:00.000000000",
          "2005-07-02T22:00:00.000000000",
          "2005-07-02T23:00:00.000000000"
         ],
         "xaxis": "x3",
         "y": {
          "bdata": "7YfQ79guUEDWvVGWnZdQQBl+EUJH5VBA4RifxSvfUEC9IaUIZINRQK2PM8Kh8VxAJ3fm2fGtYUCp+0ad1IllQGoVsrIA3WVAGIv2SYAKZkBkIqXZ/IViQAQ3UrbIR1xAKmlqfqFKW0DOZnou+D9bQH8HUJ3YcVxALGDIC2WKVEBk4vuHmWhaQIvO6P01D2BAQFXgvxTtZECwPbMkAG1kQBqBHaRMEGVAmd+a1ZyVY0D4lYF06A1bQFKdvCYSulNAItjZDEfRVEC3V4RSFGBSQIrsY8PZ11FA6vrNkSBkUkAwwCNC09ZSQAXoq6aaf1xAJHLpF0g8YkBe5zW8qxdlQHMLiQoQZWRA+BUWUO9vY0AIjQUqSGpiQL8G6c447VtAN3gVCPEfW0C7xnje1wlbQG67daO0UFpAwRfLmVInVUDhmdAkMSNaQOf+6nFfqV5AdOiZAynOZEAo59VKMiNkQEdwI2XL3WRAM5hZV9nHYkAB+i69dhBbQGnEsJJxTFVA",
          "dtype": "f8"
         },
         "yaxis": "y3"
        },
        {
         "hovertemplate": "techs=boiler<br>nodes=X2<br>carriers=heat<br>timesteps=%{x}<br>Flow in/out (kWh)=%{y}<extra></extra>",
         "legendgroup": "boiler",
         "marker": {
          "color": "#8E2999",
          "pattern": {
           "shape": ""
          }
         },
         "name": "boiler",
         "orientation": "v",
         "showlegend": true,
         "textposition": "auto",
         "type": "bar",
         "x": [
          "2005-07-01T01:00:00.000000000",
          "2005-07-01T02:00:00.000000000",
          "2005-07-01T03:00:00.000000000",
          "2005-07-01T04:00:00.000000000",
          "2005-07-01T05:00:00.000000000",
          "2005-07-01T06:00:00.000000000",
          "2005-07-01T07:00:00.000000000",
          "2005-07-01T08:00:00.000000000",
          "2005-07-01T09:00:00.000000000",
          "2005-07-01T21:00:00.000000000",
          "2005-07-01T22:00:00.000000000",
          "2005-07-01T23:00:00.000000000",
          "2005-07-02T01:00:00.000000000",
          "2005-07-02T02:00:00.000000000",
          "2005-07-02T03:00:00.000000000",
          "2005-07-02T04:00:00.000000000",
          "2005-07-02T05:00:00.000000000",
          "2005-07-02T06:00:00.000000000",
          "2005-07-02T07:00:00.000000000",
          "2005-07-02T08:00:00.000000000",
          "2005-07-02T09:00:00.000000000",
          "2005-07-02T21:00:00.000000000",
          "2005-07-02T22:00:00.000000000",
          "2005-07-02T23:00:00.000000000"
         ],
         "xaxis": "x3",
         "y": {
          "bdata": "wAba+3hWEEAYZX2qkzgjQOw4C7zhiEJAQvYRmnWWSkAW26dUWPJJQEy1C2ji3F5AsiPqN5MaaEC6fldNCtFUQCDXtDfMgyxAgEzQK6ODVUA8oNNsC5RHQDR3PLUJODNA2KyEa22lLkBMq6rQZAo0QFyjjvRTPUFALIsJSyaSSUCewapicXJHQL6Xq+iQolpADLSbiY3dZkCyQb3qwT9VQDCHjNLkQUBAZGQSBYhyVkAyxPT526hBQADsBSETZ+w/",
          "dtype": "f8"
         },
         "yaxis": "y3"
        },
        {
         "hovertemplate": "techs=X1_to_X2<br>nodes=X2<br>carriers=electricity<br>timesteps=%{x}<br>Flow in/out (kWh)=%{y}<extra></extra>",
         "legendgroup": "X1_to_X2",
         "marker": {
          "color": "#6783E3",
          "pattern": {
           "shape": ""
          }
         },
         "name": "X1_to_X2",
         "orientation": "v",
         "showlegend": false,
         "textposition": "auto",
         "type": "bar",
         "x": [
          "2005-07-01T00:00:00.000000000",
          "2005-07-01T01:00:00.000000000",
          "2005-07-01T02:00:00.000000000",
          "2005-07-01T03:00:00.000000000",
          "2005-07-01T04:00:00.000000000",
          "2005-07-01T05:00:00.000000000",
          "2005-07-01T06:00:00.000000000",
          "2005-07-01T07:00:00.000000000",
          "2005-07-01T08:00:00.000000000",
          "2005-07-01T09:00:00.000000000",
          "2005-07-01T10:00:00.000000000",
          "2005-07-01T11:00:00.000000000",
          "2005-07-01T12:00:00.000000000",
          "2005-07-01T13:00:00.000000000",
          "2005-07-01T14:00:00.000000000",
          "2005-07-01T15:00:00.000000000",
          "2005-07-01T16:00:00.000000000",
          "2005-07-01T17:00:00.000000000",
          "2005-07-01T18:00:00.000000000",
          "2005-07-01T19:00:00.000000000",
          "2005-07-01T20:00:00.000000000",
          "2005-07-01T21:00:00.000000000",
          "2005-07-01T22:00:00.000000000",
          "2005-07-01T23:00:00.000000000",
          "2005-07-02T00:00:00.000000000",
          "2005-07-02T01:00:00.000000000",
          "2005-07-02T02:00:00.000000000",
          "2005-07-02T03:00:00.000000000",
          "2005-07-02T04:00:00.000000000",
          "2005-07-02T05:00:00.000000000",
          "2005-07-02T06:00:00.000000000",
          "2005-07-02T07:00:00.000000000",
          "2005-07-02T08:00:00.000000000",
          "2005-07-02T09:00:00.000000000",
          "2005-07-02T10:00:00.000000000",
          "2005-07-02T11:00:00.000000000",
          "2005-07-02T12:00:00.000000000",
          "2005-07-02T13:00:00.000000000",
          "2005-07-02T14:00:00.000000000",
          "2005-07-02T15:00:00.000000000",
          "2005-07-02T16:00:00.000000000",
          "2005-07-02T17:00:00.000000000",
          "2005-07-02T18:00:00.000000000",
          "2005-07-02T19:00:00.000000000",
          "2005-07-02T20:00:00.000000000",
          "2005-07-02T21:00:00.000000000",
          "2005-07-02T22:00:00.000000000",
          "2005-07-02T23:00:00.000000000"
         ],
         "xaxis": "x4",
         "y": {
          "bdata": "pPpSaO6iV0CpgN7Iej1TQGYkjLByXlNAZiSMsHJeU0BplMvS0K5UQJoz7EESkWJAV1BiIUSyZ0BNbKo/pTlrQLm3Vy2312pAH2eMa0Sda0Czh8ikarlmQGqVOQlMwmZAb44HXC1RZUCf9/hpjyplQF4l2+b9hmZAZNyy9NPaaUC2F+VITVNmQCxxK81lM29AQUIz2bKrbkAGnEqrBkRwQJYfXRFh029Aj7gRYGKuaUA0rzQ6cedgQKe5Ll9Lr1dAz4JQ3kelWUAnpFYUhnlVQCn8Ql2eFlVAidbl7/mqVUCDhbRCaLlWQAY8H1RYeGJAL5wQ3y7jaEBs/NNX4dhtQLNGmP3VY21AmBLuOsD0bED4TwaiC+FrQDj126VfKWdAy07SvW/qZEDaLohhMhhkQIxlfCo9Q2ZAkZg+43G6aUA5wsMVk0VmQJsmrotsjW5AxjK/iZDSbkCbKuLuV9BwQKUIugcyrW5AN5Jfmv2IaEBBpDp4QelgQI5pt6d171lA",
          "dtype": "f8"
         },
         "yaxis": "y4"
        },
        {
         "hovertemplate": "techs=pv<br>nodes=X2<br>carriers=electricity<br>timesteps=%{x}<br>Flow in/out (kWh)=%{y}<extra></extra>",
         "legendgroup": "pv",
         "marker": {
          "color": "#F9D956",
          "pattern": {
           "shape": ""
          }
         },
         "name": "pv",
         "orientation": "v",
         "showlegend": true,
         "textposition": "auto",
         "type": "bar",
         "x": [
          "2005-07-01T05:00:00.000000000",
          "2005-07-01T06:00:00.000000000",
          "2005-07-01T07:00:00.000000000",
          "2005-07-01T08:00:00.000000000",
          "2005-07-01T09:00:00.000000000",
          "2005-07-01T10:00:00.000000000",
          "2005-07-01T11:00:00.000000000",
          "2005-07-01T12:00:00.000000000",
          "2005-07-01T13:00:00.000000000",
          "2005-07-01T14:00:00.000000000",
          "2005-07-01T15:00:00.000000000",
          "2005-07-01T16:00:00.000000000",
          "2005-07-01T17:00:00.000000000",
          "2005-07-01T18:00:00.000000000",
          "2005-07-02T05:00:00.000000000",
          "2005-07-02T06:00:00.000000000",
          "2005-07-02T07:00:00.000000000",
          "2005-07-02T08:00:00.000000000",
          "2005-07-02T09:00:00.000000000",
          "2005-07-02T10:00:00.000000000",
          "2005-07-02T11:00:00.000000000",
          "2005-07-02T12:00:00.000000000",
          "2005-07-02T13:00:00.000000000",
          "2005-07-02T14:00:00.000000000",
          "2005-07-02T15:00:00.000000000",
          "2005-07-02T16:00:00.000000000",
          "2005-07-02T17:00:00.000000000",
          "2005-07-02T18:00:00.000000000",
          "2005-07-02T19:00:00.000000000"
         ],
         "xaxis": "x4",
         "y": {
          "bdata": "hrPNdoGtB0DHYB03q/QlQNmeLAvs7jRAbTYPFxuLPUBLOe89yRRCQKw0FL5FXkRAyeN3XLhCREC1RRCqfPNAQIYCwLGFzDpAYnCpDwtFOED82zFwiBozQHHKz98eDy1AgMr7cJ/NI0DBLayvOUYNQJY6sIPsiQhAIG5IEgOiJUDTu3kH5EsyQPAO4R05qzlA71l3AmD6QEDJ43dcuEJEQK/CamDP9URAlZZh52lfQ0CoW9wS9cc+QHTnsiRXyzVAa/0U1g//LkB0IK1lYlckQBTE+QbGKxZA0nxgxP6CAkDL2rTJCqrUPw==",
          "dtype": "f8"
         },
         "yaxis": "y4"
        },
        {
         "hovertemplate": "techs=N1_to_X3<br>nodes=X3<br>carriers=heat<br>timesteps=%{x}<br>Flow in/out (kWh)=%{y}<extra></extra>",
         "legendgroup": "N1_to_X3",
         "marker": {
          "color": "#823739",
          "pattern": {
           "shape": ""
          }
         },
         "name": "N1_to_X3",
         "orientation": "v",
         "showlegend": false,
         "textposition": "auto",
         "type": "bar",
         "x": [
          "2005-07-01T00:00:00.000000000",
          "2005-07-01T01:00:00.000000000",
          "2005-07-01T04:00:00.000000000",
          "2005-07-01T05:00:00.000000000",
          "2005-07-01T06:00:00.000000000",
          "2005-07-01T07:00:00.000000000",
          "2005-07-01T08:00:00.000000000",
          "2005-07-01T09:00:00.000000000",
          "2005-07-01T10:00:00.000000000",
          "2005-07-01T11:00:00.000000000",
          "2005-07-01T12:00:00.000000000",
          "2005-07-01T13:00:00.000000000",
          "2005-07-01T14:00:00.000000000",
          "2005-07-01T15:00:00.000000000",
          "2005-07-01T16:00:00.000000000",
          "2005-07-01T17:00:00.000000000",
          "2005-07-01T18:00:00.000000000",
          "2005-07-01T19:00:00.000000000",
          "2005-07-01T20:00:00.000000000",
          "2005-07-01T21:00:00.000000000",
          "2005-07-01T23:00:00.000000000",
          "2005-07-02T00:00:00.000000000",
          "2005-07-02T02:00:00.000000000",
          "2005-07-02T04:00:00.000000000",
          "2005-07-02T07:00:00.000000000",
          "2005-07-02T09:00:00.000000000",
          "2005-07-02T10:00:00.000000000",
          "2005-07-02T11:00:00.000000000",
          "2005-07-02T12:00:00.000000000",
          "2005-07-02T13:00:00.000000000",
          "2005-07-02T14:00:00.000000000",
          "2005-07-02T15:00:00.000000000",
          "2005-07-02T16:00:00.000000000",
          "2005-07-02T17:00:00.000000000",
          "2005-07-02T18:00:00.000000000",
          "2005-07-02T19:00:00.000000000",
          "2005-07-02T20:00:00.000000000",
          "2005-07-02T21:00:00.000000000",
          "2005-07-02T23:00:00.000000000"
         ],
         "xaxis": "x",
         "y": {
          "bdata": "3nGKjuTyjz9loAV99gfrP4z+opSoCOs/ikjBEaz9HECEYIP158MiQA4QKkPlGxdAIOmHnLR0CkChd37fLJb+P9D6TY4m8vk/IJz81IAS9j+YNKheAMfyP7iJa8azffY/0DCFbPi88j/od5BaBRr0P8Ceni3W5ug/0JrMyaKI6z8AcIqO5PKPPzC3KSiJiOs/AHCKjuTyjz9TCaAv9QfrP7wglIrVNeo/ObBKWe4bpT9iMpwFtgfrPwHvf6h9COs/zvw/jrMH6z+Vt/gbugfrP95xio7k8o8/AHCKjuTyjz8vPQTPaYjrP1/ga2gAiOs/AHCKjuTyjz/ecYqO5PKPP6DL4gXeh+s/AHCKjuTyjz8AcIqO5PKPP8DuQD+Bh+s/AHCKjuTyjz/JOfOjyAfrP+wNWQWzB+s/",
          "dtype": "f8"
         },
         "yaxis": "y"
        },
        {
         "hovertemplate": "techs=boiler<br>nodes=X3<br>carriers=heat<br>timesteps=%{x}<br>Flow in/out (kWh)=%{y}<extra></extra>",
         "legendgroup": "boiler",
         "marker": {
          "color": "#8E2999",
          "pattern": {
           "shape": ""
          }
         },
         "name": "boiler",
         "orientation": "v",
         "showlegend": false,
         "textposition": "auto",
         "type": "bar",
         "x": [
          "2005-07-01T01:00:00.000000000",
          "2005-07-01T02:00:00.000000000",
          "2005-07-01T03:00:00.000000000",
          "2005-07-01T04:00:00.000000000",
          "2005-07-01T05:00:00.000000000",
          "2005-07-01T06:00:00.000000000",
          "2005-07-01T07:00:00.000000000",
          "2005-07-01T08:00:00.000000000",
          "2005-07-01T09:00:00.000000000",
          "2005-07-01T21:00:00.000000000",
          "2005-07-01T22:00:00.000000000",
          "2005-07-01T23:00:00.000000000",
          "2005-07-02T01:00:00.000000000",
          "2005-07-02T02:00:00.000000000",
          "2005-07-02T03:00:00.000000000",
          "2005-07-02T04:00:00.000000000",
          "2005-07-02T05:00:00.000000000",
          "2005-07-02T06:00:00.000000000",
          "2005-07-02T07:00:00.000000000",
          "2005-07-02T08:00:00.000000000",
          "2005-07-02T09:00:00.000000000",
          "2005-07-02T21:00:00.000000000",
          "2005-07-02T22:00:00.000000000",
          "2005-07-02T23:00:00.000000000"
         ],
         "xaxis": "x",
         "y": {
          "bdata": "3nGKjuTyjz/ecYqO5PKPP95xio7k8o8/3nGKjuTyjz/ecYqO5PKPP95xio7k8o8/3nGKjuTyjz/ecYqO5PKPP95xio7k8o8/3nGKjuTyjz/ecYqO5PKPP95xio7k8o8/3nGKjuTyjz/ecYqO5PKPP95xio7k8o8/3nGKjuTyjz/ecYqO5PKPP95xio7k8o8/3nGKjuTyjz/ecYqO5PKPP95xio7k8o8/3nGKjuTyjz/ecYqO5PKPP95xio7k8o8/",
          "dtype": "f8"
         },
         "yaxis": "y"
        },
        {
         "hovertemplate": "techs=X1_to_X3<br>nodes=X3<br>carriers=electricity<br>timesteps=%{x}<br>Flow in/out (kWh)=%{y}<extra></extra>",
         "legendgroup": "X1_to_X3",
         "marker": {
          "color": "#6783E3",
          "pattern": {
           "shape": ""
          }
         },
         "name": "X1_to_X3",
         "orientation": "v",
         "showlegend": false,
         "textposition": "auto",
         "type": "bar",
         "x": [
          "2005-07-01T00:00:00.000000000",
          "2005-07-01T01:00:00.000000000",
          "2005-07-01T02:00:00.000000000",
          "2005-07-01T03:00:00.000000000",
          "2005-07-01T04:00:00.000000000",
          "2005-07-01T05:00:00.000000000",
          "2005-07-01T06:00:00.000000000",
          "2005-07-01T07:00:00.000000000",
          "2005-07-01T08:00:00.000000000",
          "2005-07-01T09:00:00.000000000",
          "2005-07-01T10:00:00.000000000",
          "2005-07-01T11:00:00.000000000",
          "2005-07-01T12:00:00.000000000",
          "2005-07-01T13:00:00.000000000",
          "2005-07-01T14:00:00.000000000",
          "2005-07-01T15:00:00.000000000",
          "2005-07-01T16:00:00.000000000",
          "2005-07-01T17:00:00.000000000",
          "2005-07-01T18:00:00.000000000",
          "2005-07-01T19:00:00.000000000",
          "2005-07-01T20:00:00.000000000",
          "2005-07-01T21:00:00.000000000",
          "2005-07-01T22:00:00.000000000",
          "2005-07-01T23:00:00.000000000",
          "2005-07-02T00:00:00.000000000",
          "2005-07-02T01:00:00.000000000",
          "2005-07-02T02:00:00.000000000",
          "2005-07-02T03:00:00.000000000",
          "2005-07-02T04:00:00.000000000",
          "2005-07-02T05:00:00.000000000",
          "2005-07-02T06:00:00.000000000",
          "2005-07-02T07:00:00.000000000",
          "2005-07-02T08:00:00.000000000",
          "2005-07-02T09:00:00.000000000",
          "2005-07-02T10:00:00.000000000",
          "2005-07-02T11:00:00.000000000",
          "2005-07-02T12:00:00.000000000",
          "2005-07-02T13:00:00.000000000",
          "2005-07-02T14:00:00.000000000",
          "2005-07-02T15:00:00.000000000",
          "2005-07-02T16:00:00.000000000",
          "2005-07-02T17:00:00.000000000",
          "2005-07-02T18:00:00.000000000",
          "2005-07-02T19:00:00.000000000",
          "2005-07-02T20:00:00.000000000",
          "2005-07-02T21:00:00.000000000",
          "2005-07-02T22:00:00.000000000",
          "2005-07-02T23:00:00.000000000"
         ],
         "xaxis": "x2",
         "y": {
          "bdata": "xlLBNE7DMkDGUsE0TsMyQMZSwTROwzJAxlLBNE7DMkDGUsE0TsMyQMrdKRX73ztAy71E5TSQOkDLsDg5b25GQPpbpza9J0RA6LzGLlEPQUD8EG0qn2BAQJIuT0r1oz9AyLYMOEsmQUAE8A2NwP8mQDRzq5TcbChAAPlct9KpMEBdiB+t+38pQDjtSkcQqipAVj7TZKkTMkAKgDMp7OczQMZSwTROwzJAxlLBNE7DMkDGUsE0TsMyQMZSwTROwzJAxlLBNE7DMkDGUsE0TsMyQMZSwTROwzJAxlLBNE7DMkDGUsE0TsMyQKhMtT8lVzBAnFdM19lwJEBgD6r9a0ARQBDPRJ5FJ/i/uj058fIbIMDMDNlIq3oqwEzZE9FtsCzAIqAdy5asJ8AYCYbWNzAWwBAyRtp8zvg/HGkEdpDbGkAaivnBEjomQLEFlLhUxSxAYWs6K3fvMECmTvaFBoIyQMZSwTROwzJAxlLBNE7DMkDGUsE0TsMyQMZSwTROwzJA",
          "dtype": "f8"
         },
         "yaxis": "y2"
        },
        {
         "hovertemplate": "techs=pv<br>nodes=X3<br>carriers=electricity<br>timesteps=%{x}<br>Flow in/out (kWh)=%{y}<extra></extra>",
         "legendgroup": "pv",
         "marker": {
          "color": "#F9D956",
          "pattern": {
           "shape": ""
          }
         },
         "name": "pv",
         "orientation": "v",
         "showlegend": false,
         "textposition": "auto",
         "type": "bar",
         "x": [
          "2005-07-01T05:00:00.000000000",
          "2005-07-01T06:00:00.000000000",
          "2005-07-01T07:00:00.000000000",
          "2005-07-01T08:00:00.000000000",
          "2005-07-01T09:00:00.000000000",
          "2005-07-01T10:00:00.000000000",
          "2005-07-01T11:00:00.000000000",
          "2005-07-01T12:00:00.000000000",
          "2005-07-01T13:00:00.000000000",
          "2005-07-01T14:00:00.000000000",
          "2005-07-01T15:00:00.000000000",
          "2005-07-01T16:00:00.000000000",
          "2005-07-01T17:00:00.000000000",
          "2005-07-01T18:00:00.000000000",
          "2005-07-02T05:00:00.000000000",
          "2005-07-02T06:00:00.000000000",
          "2005-07-02T07:00:00.000000000",
          "2005-07-02T08:00:00.000000000",
          "2005-07-02T09:00:00.000000000",
          "2005-07-02T10:00:00.000000000",
          "2005-07-02T11:00:00.000000000",
          "2005-07-02T12:00:00.000000000",
          "2005-07-02T13:00:00.000000000",
          "2005-07-02T14:00:00.000000000",
          "2005-07-02T15:00:00.000000000",
          "2005-07-02T16:00:00.000000000",
          "2005-07-02T17:00:00.000000000",
          "2005-07-02T18:00:00.000000000",
          "2005-07-02T19:00:00.000000000"
         ],
         "xaxis": "x2",
         "y": {
          "bdata": "J33nODOzAkBakQM8ClchQHS6qO1RiDBAyk8uth5VN0CPwvUoXI88QA4DhnoUFkBAluyW7FEAQEBmZmZmZsY6QMxN7W89KjVAwHiKReEqM0DF8abPzCwuQKlqejcz8yZAU5fGDq5HH0AHGVRduB4HQO0wYKhHYQNA8E02ksIVIUDcna1qZuYsQLefpY7CRTRAo/FdrUfROkCW7JbsUQBAQLafpY7CjUBA1yJQmpmZPkAM1WIqXE84QKXvHGdmNjFA/gFBRuF6KEBwPQrXoxAgQLY/3WGPghFAVHZumHA9/T/zB8Gy61HQPw==",
          "dtype": "f8"
         },
         "yaxis": "y2"
        },
        {
         "legendgroup": "demand",
         "marker": {
          "color": "black"
         },
         "name": "Demand",
         "showlegend": true,
         "type": "scatter",
         "x": [
          "2005-07-01T00:00:00.000000000",
          "2005-07-01T01:00:00.000000000",
          "2005-07-01T02:00:00.000000000",
          "2005-07-01T03:00:00.000000000",
          "2005-07-01T04:00:00.000000000",
          "2005-07-01T05:00:00.000000000",
          "2005-07-01T06:00:00.000000000",
          "2005-07-01T07:00:00.000000000",
          "2005-07-01T08:00:00.000000000",
          "2005-07-01T09:00:00.000000000",
          "2005-07-01T10:00:00.000000000",
          "2005-07-01T11:00:00.000000000",
          "2005-07-01T12:00:00.000000000",
          "2005-07-01T13:00:00.000000000",
          "2005-07-01T14:00:00.000000000",
          "2005-07-01T15:00:00.000000000",
          "2005-07-01T16:00:00.000000000",
          "2005-07-01T17:00:00.000000000",
          "2005-07-01T18:00:00.000000000",
          "2005-07-01T19:00:00.000000000",
          "2005-07-01T20:00:00.000000000",
          "2005-07-01T21:00:00.000000000",
          "2005-07-01T22:00:00.000000000",
          "2005-07-01T23:00:00.000000000",
          "2005-07-02T00:00:00.000000000",
          "2005-07-02T01:00:00.000000000",
          "2005-07-02T02:00:00.000000000",
          "2005-07-02T03:00:00.000000000",
          "2005-07-02T04:00:00.000000000",
          "2005-07-02T05:00:00.000000000",
          "2005-07-02T06:00:00.000000000",
          "2005-07-02T07:00:00.000000000",
          "2005-07-02T08:00:00.000000000",
          "2005-07-02T09:00:00.000000000",
          "2005-07-02T10:00:00.000000000",
          "2005-07-02T11:00:00.000000000",
          "2005-07-02T12:00:00.000000000",
          "2005-07-02T13:00:00.000000000",
          "2005-07-02T14:00:00.000000000",
          "2005-07-02T15:00:00.000000000",
          "2005-07-02T16:00:00.000000000",
          "2005-07-02T17:00:00.000000000",
          "2005-07-02T18:00:00.000000000",
          "2005-07-02T19:00:00.000000000",
          "2005-07-02T20:00:00.000000000",
          "2005-07-02T21:00:00.000000000",
          "2005-07-02T22:00:00.000000000",
          "2005-07-02T23:00:00.000000000"
         ],
         "xaxis": "x",
         "y": {
          "bdata": "3nGKjuTyjz8syj8PwofrP95xio7k8o8/3nGKjuTyjz9TKN0mdIjrP8ONCISlDR1AIAOnruTLIkBHVXG13isXQJJzFoGnlApAhYybqBLW/j/P+k2OJvL5Px2c/NSAEvY/mzSoXgDH8j+8iWvGs332P84whWz4vPI/5XeQWgUa9D+8np4t1uboP9aazMmiiOs/3nGKjuTyjz8rtykoiYjrP95xio7k8o8/GjPawcCH6z/ecYqO5PKPP4NKzhyhteo/ObBKWe4bpT/ecYqO5PKPPylc1peBh+s/3nGKjuTyjz/IGLo6SYjrP95xio7k8o8/3nGKjuTyjz+VJnogf4frP95xio7k8o8/XOEyroWH6z/ecYqO5PKPP95xio7k8o8/Lz0Ez2mI6z9f4GtoAIjrP95xio7k8o8/3nGKjuTyjz+ay+IF3ofrP95xio7k8o8/3nGKjuTyjz/E7kA/gYfrP95xio7k8o8/kGMtNpSH6z/ecYqO5PKPP7M3k5d+h+s/",
          "dtype": "f8"
         },
         "yaxis": "y"
        },
        {
         "legendgroup": "demand",
         "marker": {
          "color": "black"
         },
         "name": "Demand",
         "showlegend": false,
         "type": "scatter",
         "x": [
          "2005-07-01T00:00:00.000000000",
          "2005-07-01T01:00:00.000000000",
          "2005-07-01T02:00:00.000000000",
          "2005-07-01T03:00:00.000000000",
          "2005-07-01T04:00:00.000000000",
          "2005-07-01T05:00:00.000000000",
          "2005-07-01T06:00:00.000000000",
          "2005-07-01T07:00:00.000000000",
          "2005-07-01T08:00:00.000000000",
          "2005-07-01T09:00:00.000000000",
          "2005-07-01T10:00:00.000000000",
          "2005-07-01T11:00:00.000000000",
          "2005-07-01T12:00:00.000000000",
          "2005-07-01T13:00:00.000000000",
          "2005-07-01T14:00:00.000000000",
          "2005-07-01T15:00:00.000000000",
          "2005-07-01T16:00:00.000000000",
          "2005-07-01T17:00:00.000000000",
          "2005-07-01T18:00:00.000000000",
          "2005-07-01T19:00:00.000000000",
          "2005-07-01T20:00:00.000000000",
          "2005-07-01T21:00:00.000000000",
          "2005-07-01T22:00:00.000000000",
          "2005-07-01T23:00:00.000000000",
          "2005-07-02T00:00:00.000000000",
          "2005-07-02T01:00:00.000000000",
          "2005-07-02T02:00:00.000000000",
          "2005-07-02T03:00:00.000000000",
          "2005-07-02T04:00:00.000000000",
          "2005-07-02T05:00:00.000000000",
          "2005-07-02T06:00:00.000000000",
          "2005-07-02T07:00:00.000000000",
          "2005-07-02T08:00:00.000000000",
          "2005-07-02T09:00:00.000000000",
          "2005-07-02T10:00:00.000000000",
          "2005-07-02T11:00:00.000000000",
          "2005-07-02T12:00:00.000000000",
          "2005-07-02T13:00:00.000000000",
          "2005-07-02T14:00:00.000000000",
          "2005-07-02T15:00:00.000000000",
          "2005-07-02T16:00:00.000000000",
          "2005-07-02T17:00:00.000000000",
          "2005-07-02T18:00:00.000000000",
          "2005-07-02T19:00:00.000000000",
          "2005-07-02T20:00:00.000000000",
          "2005-07-02T21:00:00.000000000",
          "2005-07-02T22:00:00.000000000",
          "2005-07-02T23:00:00.000000000"
         ],
         "xaxis": "x2",
         "y": {
          "bdata": "xlLBNE7DMkDGUsE0TsMyQMZSwTROwzJAxlLBNE7DMkDGUsE0TsMyQG/NRnxhNj5APEOjAd2dQUAFDg0wmLJOQN+DvpFM0k9AMJ5BQ/9WT0AFinnSWTtQQN+DvpFM0k9A++k/a36JTkDnIjrbDlVAQFoy4I9PYT9A43EwHznAP0CD+Uxylzk4QHEcV6fzJjVAd8F9cID3NEAKgDMp7OczQMZSwTROwzJAxlLBNE7DMkDGUsE0TsMyQMZSwTROwzJAxlLBNE7DMkDGUsE0TsMyQMZSwTROwzJAxlLBNE7DMkDGUsE0TsMyQMZSwTROwzJAxlLBNE7DMkDGUsE0TsMyQMZSwTROwzJAxlLBNE7DMkDGUsE0TsMyQMZSwTROwzJAxlLBNE7DMkDGUsE0TsMyQMZSwTROwzJARpuhwFT0MkDF44FMWyUzQMZSwTROwzJAxlLBNE7DMkDGUsE0TsMyQMZSwTROwzJAxlLBNE7DMkDGUsE0TsMyQMZSwTROwzJA",
          "dtype": "f8"
         },
         "yaxis": "y2"
        },
        {
         "legendgroup": "demand",
         "marker": {
          "color": "black"
         },
         "name": "Demand",
         "showlegend": false,
         "type": "scatter",
         "x": [
          "2005-07-01T00:00:00.000000000",
          "2005-07-01T01:00:00.000000000",
          "2005-07-01T02:00:00.000000000",
          "2005-07-01T03:00:00.000000000",
          "2005-07-01T04:00:00.000000000",
          "2005-07-01T05:00:00.000000000",
          "2005-07-01T06:00:00.000000000",
          "2005-07-01T07:00:00.000000000",
          "2005-07-01T08:00:00.000000000",
          "2005-07-01T09:00:00.000000000",
          "2005-07-01T10:00:00.000000000",
          "2005-07-01T11:00:00.000000000",
          "2005-07-01T12:00:00.000000000",
          "2005-07-01T13:00:00.000000000",
          "2005-07-01T14:00:00.000000000",
          "2005-07-01T15:00:00.000000000",
          "2005-07-01T16:00:00.000000000",
          "2005-07-01T17:00:00.000000000",
          "2005-07-01T18:00:00.000000000",
          "2005-07-01T19:00:00.000000000",
          "2005-07-01T20:00:00.000000000",
          "2005-07-01T21:00:00.000000000",
          "2005-07-01T22:00:00.000000000",
          "2005-07-01T23:00:00.000000000",
          "2005-07-02T00:00:00.000000000",
          "2005-07-02T01:00:00.000000000",
          "2005-07-02T02:00:00.000000000",
          "2005-07-02T03:00:00.000000000",
          "2005-07-02T04:00:00.000000000",
          "2005-07-02T05:00:00.000000000",
          "2005-07-02T06:00:00.000000000",
          "2005-07-02T07:00:00.000000000",
          "2005-07-02T08:00:00.000000000",
          "2005-07-02T09:00:00.000000000",
          "2005-07-02T10:00:00.000000000",
          "2005-07-02T11:00:00.000000000",
          "2005-07-02T12:00:00.000000000",
          "2005-07-02T13:00:00.000000000",
          "2005-07-02T14:00:00.000000000",
          "2005-07-02T15:00:00.000000000",
          "2005-07-02T16:00:00.000000000",
          "2005-07-02T17:00:00.000000000",
          "2005-07-02T18:00:00.000000000",
          "2005-07-02T19:00:00.000000000",
          "2005-07-02T20:00:00.000000000",
          "2005-07-02T21:00:00.000000000",
          "2005-07-02T22:00:00.000000000",
          "2005-07-02T23:00:00.000000000"
         ],
         "xaxis": "x3",
         "y": {
          "bdata": "7YfQ79guUEBCXg8mBZ1RQL0qYbdZTFNAV7Wko5wjWkDeHK7Vns5eQJy+Q/Zm9WRA5yj2hjGOcECuj5jqM9J2QGTqruzCInBAithxDb3SZ0BkIqXZ/IViQAQ3UrbIR1xAKmlqfqFKW0DOZnou+D9bQH8HUJ3YcVxALGDIC2WKVEBk4vuHmWhaQIvO6P01D2BAQFXgvxTtZECwPbMkAG1kQBqBHaRMEGVA2QWDa25XbkALs3UV92tjQB+7C5QUiFhAI9jZDEfRVEBS7fT/wTRWQF2Xjvdy2lZAmEwVjMoCW0DGhahn5p9fQGqkAKxpHGRAAz4/jJCNb0C1zeiinPp1QEys5//wBG9AxTe5hGiAZ0AIjQUqSGpiQL8G6c447VtAN3gVCPEfW0C7xnje1wlbQG67daO0UFpAwRfLmVInVUDhmdAkMSNaQOf+6nFfqV5AdOiZAynOZEAo59VKMiNkQEdwI2XL3WRAZcriWR0BbkANrhRdcvJhQELQ8rg/hVVA",
          "dtype": "f8"
         },
         "yaxis": "y3"
        },
        {
         "legendgroup": "demand",
         "marker": {
          "color": "black"
         },
         "name": "Demand",
         "showlegend": false,
         "type": "scatter",
         "x": [
          "2005-07-01T00:00:00.000000000",
          "2005-07-01T01:00:00.000000000",
          "2005-07-01T02:00:00.000000000",
          "2005-07-01T03:00:00.000000000",
          "2005-07-01T04:00:00.000000000",
          "2005-07-01T05:00:00.000000000",
          "2005-07-01T06:00:00.000000000",
          "2005-07-01T07:00:00.000000000",
          "2005-07-01T08:00:00.000000000",
          "2005-07-01T09:00:00.000000000",
          "2005-07-01T10:00:00.000000000",
          "2005-07-01T11:00:00.000000000",
          "2005-07-01T12:00:00.000000000",
          "2005-07-01T13:00:00.000000000",
          "2005-07-01T14:00:00.000000000",
          "2005-07-01T15:00:00.000000000",
          "2005-07-01T16:00:00.000000000",
          "2005-07-01T17:00:00.000000000",
          "2005-07-01T18:00:00.000000000",
          "2005-07-01T19:00:00.000000000",
          "2005-07-01T20:00:00.000000000",
          "2005-07-01T21:00:00.000000000",
          "2005-07-01T22:00:00.000000000",
          "2005-07-01T23:00:00.000000000",
          "2005-07-02T00:00:00.000000000",
          "2005-07-02T01:00:00.000000000",
          "2005-07-02T02:00:00.000000000",
          "2005-07-02T03:00:00.000000000",
          "2005-07-02T04:00:00.000000000",
          "2005-07-02T05:00:00.000000000",
          "2005-07-02T06:00:00.000000000",
          "2005-07-02T07:00:00.000000000",
          "2005-07-02T08:00:00.000000000",
          "2005-07-02T09:00:00.000000000",
          "2005-07-02T10:00:00.000000000",
          "2005-07-02T11:00:00.000000000",
          "2005-07-02T12:00:00.000000000",
          "2005-07-02T13:00:00.000000000",
          "2005-07-02T14:00:00.000000000",
          "2005-07-02T15:00:00.000000000",
          "2005-07-02T16:00:00.000000000",
          "2005-07-02T17:00:00.000000000",
          "2005-07-02T18:00:00.000000000",
          "2005-07-02T19:00:00.000000000",
          "2005-07-02T20:00:00.000000000",
          "2005-07-02T21:00:00.000000000",
          "2005-07-02T22:00:00.000000000",
          "2005-07-02T23:00:00.000000000"
         ],
         "xaxis": "x4",
         "y": {
          "bdata": "pPpSaO6iV0CpgN7Iej1TQGYkjLByXlNAZiSMsHJeU0BplMvS0K5UQJoz7EESkWJAV1BiIUSyZ0AoABDBgtdtQIeeOZAaiW5AXTpB9hXubEDelE0U/NBrQFyOVyD60mtA3J+LhgyOaUDw9zAgIIRoQGpT0Eifj2lA5Be5AiU+bEBdFOI2PyRoQOqWHeIfOHBA+PLxv8sgb0AGnEqrBkRwQJYfXRFh029Aj7gRYGKuaUA0rzQ6cedgQKe5Ll9Lr1dAz4JQ3kelWUAnpFYUhnlVQCn8Ql2eFlVAidbl7/mqVUCDhbRCaLlWQAY8H1RYeGJAL5wQ3y7jaEBs/NNX4dhtQLNGmP3VY21AmBLuOsD0bEB6E+i4f2VsQOSl9n3TZmxAc0Y5PdT6aEBPuuMDMfFnQHrCEg+o/GhAaOif4GKqa0BAlB48CYtnQLz05bvKPm9AubTQhJwcb0DSl5RxgtVwQKUIugcyrW5AN5Jfmv2IaEBBpDp4QelgQI5pt6d171lA",
          "dtype": "f8"
         },
         "yaxis": "y4"
        },
        {
         "legendgroup": "demand",
         "marker": {
          "color": "black"
         },
         "name": "Demand",
         "showlegend": false,
         "type": "scatter",
         "x": [
          "2005-07-01T00:00:00.000000000",
          "2005-07-01T01:00:00.000000000",
          "2005-07-01T02:00:00.000000000",
          "2005-07-01T03:00:00.000000000",
          "2005-07-01T04:00:00.000000000",
          "2005-07-01T05:00:00.000000000",
          "2005-07-01T06:00:00.000000000",
          "2005-07-01T07:00:00.000000000",
          "2005-07-01T08:00:00.000000000",
          "2005-07-01T09:00:00.000000000",
          "2005-07-01T10:00:00.000000000",
          "2005-07-01T11:00:00.000000000",
          "2005-07-01T12:00:00.000000000",
          "2005-07-01T13:00:00.000000000",
          "2005-07-01T14:00:00.000000000",
          "2005-07-01T15:00:00.000000000",
          "2005-07-01T16:00:00.000000000",
          "2005-07-01T17:00:00.000000000",
          "2005-07-01T18:00:00.000000000",
          "2005-07-01T19:00:00.000000000",
          "2005-07-01T20:00:00.000000000",
          "2005-07-01T21:00:00.000000000",
          "2005-07-01T22:00:00.000000000",
          "2005-07-01T23:00:00.000000000",
          "2005-07-02T00:00:00.000000000",
          "2005-07-02T01:00:00.000000000",
          "2005-07-02T02:00:00.000000000",
          "2005-07-02T03:00:00.000000000",
          "2005-07-02T04:00:00.000000000",
          "2005-07-02T05:00:00.000000000",
          "2005-07-02T06:00:00.000000000",
          "2005-07-02T07:00:00.000000000",
          "2005-07-02T08:00:00.000000000",
          "2005-07-02T09:00:00.000000000",
          "2005-07-02T10:00:00.000000000",
          "2005-07-02T11:00:00.000000000",
          "2005-07-02T12:00:00.000000000",
          "2005-07-02T13:00:00.000000000",
          "2005-07-02T14:00:00.000000000",
          "2005-07-02T15:00:00.000000000",
          "2005-07-02T16:00:00.000000000",
          "2005-07-02T17:00:00.000000000",
          "2005-07-02T18:00:00.000000000",
          "2005-07-02T19:00:00.000000000",
          "2005-07-02T20:00:00.000000000",
          "2005-07-02T21:00:00.000000000",
          "2005-07-02T22:00:00.000000000",
          "2005-07-02T23:00:00.000000000"
         ],
         "xaxis": "x5",
         "y": {
          "bdata": "d0TZ6XSRyz+59g1lC7XJP65XJjb+iMo/YhG+Valp1D9+h21Oz9LkP5VOOHxRofA/h/C7K7Pn8j/J+NQKA5H0P+7EtIiLWPM/ivDE5sKE8z8SiULLuo/nP3UUMTa+UOI/TKoo8cju4D/nY6m70znfP1EOlEtLe98/S8H3V79E4T+Ny4hwa4nkP6lWMSUqtec/7egxKqZb6D+4+goCxpvmP9nNV4xkRuQ/h42ERki+4D8rCzMoK6rZP4vLosRvadE/9Sckq7i3yz8OlLjnKQ3KP6D4Q8lqrtk/Hjd4NhYK6D9i5gCWnEjyP3Syn4jvg/s/ZJD9JCVK+j9Ry5WVtE/5P64h71csDvY/AB2VhAxg9T/H5NeGv0PoP/zC+w+ITuI/4jv8+PXq4D9ZyAgaxizfPwqVOFgjbt8/uIRYCjxI4T9uqpqSP4fkP2iZcKgSt+c/aJR10tdg6D/XnMDKWqDmP2hYEPN6SuQ/0yRxiTXC4D/12CSsfqbZP+xwg8AbadE/",
          "dtype": "f8"
         },
         "yaxis": "y5"
        },
        {
         "legendgroup": "demand",
         "marker": {
          "color": "black"
         },
         "name": "Demand",
         "showlegend": false,
         "type": "scatter",
         "x": [
          "2005-07-01T00:00:00.000000000",
          "2005-07-01T01:00:00.000000000",
          "2005-07-01T02:00:00.000000000",
          "2005-07-01T03:00:00.000000000",
          "2005-07-01T04:00:00.000000000",
          "2005-07-01T05:00:00.000000000",
          "2005-07-01T06:00:00.000000000",
          "2005-07-01T07:00:00.000000000",
          "2005-07-01T08:00:00.000000000",
          "2005-07-01T09:00:00.000000000",
          "2005-07-01T10:00:00.000000000",
          "2005-07-01T11:00:00.000000000",
          "2005-07-01T12:00:00.000000000",
          "2005-07-01T13:00:00.000000000",
          "2005-07-01T14:00:00.000000000",
          "2005-07-01T15:00:00.000000000",
          "2005-07-01T16:00:00.000000000",
          "2005-07-01T17:00:00.000000000",
          "2005-07-01T18:00:00.000000000",
          "2005-07-01T19:00:00.000000000",
          "2005-07-01T20:00:00.000000000",
          "2005-07-01T21:00:00.000000000",
          "2005-07-01T22:00:00.000000000",
          "2005-07-01T23:00:00.000000000",
          "2005-07-02T00:00:00.000000000",
          "2005-07-02T01:00:00.000000000",
          "2005-07-02T02:00:00.000000000",
          "2005-07-02T03:00:00.000000000",
          "2005-07-02T04:00:00.000000000",
          "2005-07-02T05:00:00.000000000",
          "2005-07-02T06:00:00.000000000",
          "2005-07-02T07:00:00.000000000",
          "2005-07-02T08:00:00.000000000",
          "2005-07-02T09:00:00.000000000",
          "2005-07-02T10:00:00.000000000",
          "2005-07-02T11:00:00.000000000",
          "2005-07-02T12:00:00.000000000",
          "2005-07-02T13:00:00.000000000",
          "2005-07-02T14:00:00.000000000",
          "2005-07-02T15:00:00.000000000",
          "2005-07-02T16:00:00.000000000",
          "2005-07-02T17:00:00.000000000",
          "2005-07-02T18:00:00.000000000",
          "2005-07-02T19:00:00.000000000",
          "2005-07-02T20:00:00.000000000",
          "2005-07-02T21:00:00.000000000",
          "2005-07-02T22:00:00.000000000",
          "2005-07-02T23:00:00.000000000"
         ],
         "xaxis": "x6",
         "y": {
          "bdata": "Eeph6fUn3T+mFUk1mPjZP5qv1KuvK9k/i0F+Oys32T9+1V/pWyrcPxO6bPCVK+I/yJ7NQuxw5z+M7MSRedfmP6EsjmBpFOY/OVX5yRGl5j/VVvlZvSfnP8hipcanh+Y/dNGVquKt5T92vQQMajblP2AQ5OKg2+U/38vGSMv46D8HvpUxrRnuP02+l8r0Tu8/53/ilV5a8D9VoqVYWbbyP7l0BiVQ7fQ/CwUto9+W8T/UP37yVHDqPyOFaxtq5+E/Eeph6fUn3T+mFUk1mPjZP5qv1KuvK9k/i0F+Oys32T9+1V/pWyrcPxO6bPCVK+I/yJ7NQuxw5z+M7MSRedfmP6EsjmBpFOY/OVX5yRGl5j/VVvlZvSfnP8hipcanh+Y/dNGVquKt5T92vQQMajblP2AQ5OKg2+U/38vGSMv46D8HvpUxrRnuP02+l8r0Tu8/53/ilV5a8D9VoqVYWbbyP7l0BiVQ7fQ/CwUto9+W8T/UP37yVHDqPyOFaxtq5+E/",
          "dtype": "f8"
         },
         "yaxis": "y6"
        }
       ],
       "layout": {
        "annotations": [
         {
          "font": {},
          "showarrow": false,
          "text": "carriers=heat",
          "x": 0.24,
          "xanchor": "center",
          "xref": "paper",
          "y": 1,
          "yanchor": "bottom",
          "yref": "paper"
         },
         {
          "font": {},
          "showarrow": false,
          "text": "carriers=electricity",
          "x": 0.74,
          "xanchor": "center",
          "xref": "paper",
          "y": 1,
          "yanchor": "bottom",
          "yref": "paper"
         },
         {
          "font": {},
          "showarrow": false,
          "text": "nodes=X3",
          "textangle": 90,
          "x": 0.98,
          "xanchor": "left",
          "xref": "paper",
          "y": 0.11375,
          "yanchor": "middle",
          "yref": "paper"
         },
         {
          "font": {},
          "showarrow": false,
          "text": "nodes=X2",
          "textangle": 90,
          "x": 0.98,
          "xanchor": "left",
          "xref": "paper",
          "y": 0.37124999999999997,
          "yanchor": "middle",
          "yref": "paper"
         },
         {
          "font": {},
          "showarrow": false,
          "text": "nodes=X1",
          "textangle": 90,
          "x": 0.98,
          "xanchor": "left",
          "xref": "paper",
          "y": 0.62875,
          "yanchor": "middle",
          "yref": "paper"
         },
         {
          "font": {},
          "showarrow": false,
          "text": "nodes=N1",
          "textangle": 90,
          "x": 0.98,
          "xanchor": "left",
          "xref": "paper",
          "y": 0.88625,
          "yanchor": "middle",
          "yref": "paper"
         }
        ],
        "barmode": "relative",
        "height": 1000,
        "legend": {
         "title": {
          "text": "techs"
         },
         "tracegroupgap": 0
        },
        "margin": {
         "t": 60
        },
        "template": {
         "data": {
          "bar": [
           {
            "error_x": {
             "color": "#2a3f5f"
            },
            "error_y": {
             "color": "#2a3f5f"
            },
            "marker": {
             "line": {
              "color": "#E5ECF6",
              "width": 0.5
             },
             "pattern": {
              "fillmode": "overlay",
              "size": 10,
              "solidity": 0.2
             }
            },
            "type": "bar"
           }
          ],
          "barpolar": [
           {
            "marker": {
             "line": {
              "color": "#E5ECF6",
              "width": 0.5
             },
             "pattern": {
              "fillmode": "overlay",
              "size": 10,
              "solidity": 0.2
             }
            },
            "type": "barpolar"
           }
          ],
          "carpet": [
           {
            "aaxis": {
             "endlinecolor": "#2a3f5f",
             "gridcolor": "white",
             "linecolor": "white",
             "minorgridcolor": "white",
             "startlinecolor": "#2a3f5f"
            },
            "baxis": {
             "endlinecolor": "#2a3f5f",
             "gridcolor": "white",
             "linecolor": "white",
             "minorgridcolor": "white",
             "startlinecolor": "#2a3f5f"
            },
            "type": "carpet"
           }
          ],
          "choropleth": [
           {
            "colorbar": {
             "outlinewidth": 0,
             "ticks": ""
            },
            "type": "choropleth"
           }
          ],
          "contour": [
           {
            "colorbar": {
             "outlinewidth": 0,
             "ticks": ""
            },
            "colorscale": [
             [
              0,
              "#0d0887"
             ],
             [
              0.1111111111111111,
              "#46039f"
             ],
             [
              0.2222222222222222,
              "#7201a8"
             ],
             [
              0.3333333333333333,
              "#9c179e"
             ],
             [
              0.4444444444444444,
              "#bd3786"
             ],
             [
              0.5555555555555556,
              "#d8576b"
             ],
             [
              0.6666666666666666,
              "#ed7953"
             ],
             [
              0.7777777777777778,
              "#fb9f3a"
             ],
             [
              0.8888888888888888,
              "#fdca26"
             ],
             [
              1,
              "#f0f921"
             ]
            ],
            "type": "contour"
           }
          ],
          "contourcarpet": [
           {
            "colorbar": {
             "outlinewidth": 0,
             "ticks": ""
            },
            "type": "contourcarpet"
           }
          ],
          "heatmap": [
           {
            "colorbar": {
             "outlinewidth": 0,
             "ticks": ""
            },
            "colorscale": [
             [
              0,
              "#0d0887"
             ],
             [
              0.1111111111111111,
              "#46039f"
             ],
             [
              0.2222222222222222,
              "#7201a8"
             ],
             [
              0.3333333333333333,
              "#9c179e"
             ],
             [
              0.4444444444444444,
              "#bd3786"
             ],
             [
              0.5555555555555556,
              "#d8576b"
             ],
             [
              0.6666666666666666,
              "#ed7953"
             ],
             [
              0.7777777777777778,
              "#fb9f3a"
             ],
             [
              0.8888888888888888,
              "#fdca26"
             ],
             [
              1,
              "#f0f921"
             ]
            ],
            "type": "heatmap"
           }
          ],
          "histogram": [
           {
            "marker": {
             "pattern": {
              "fillmode": "overlay",
              "size": 10,
              "solidity": 0.2
             }
            },
            "type": "histogram"
           }
          ],
          "histogram2d": [
           {
            "colorbar": {
             "outlinewidth": 0,
             "ticks": ""
            },
            "colorscale": [
             [
              0,
              "#0d0887"
             ],
             [
              0.1111111111111111,
              "#46039f"
             ],
             [
              0.2222222222222222,
              "#7201a8"
             ],
             [
              0.3333333333333333,
              "#9c179e"
             ],
             [
              0.4444444444444444,
              "#bd3786"
             ],
             [
              0.5555555555555556,
              "#d8576b"
             ],
             [
              0.6666666666666666,
              "#ed7953"
             ],
             [
              0.7777777777777778,
              "#fb9f3a"
             ],
             [
              0.8888888888888888,
              "#fdca26"
             ],
             [
              1,
              "#f0f921"
             ]
            ],
            "type": "histogram2d"
           }
          ],
          "histogram2dcontour": [
           {
            "colorbar": {
             "outlinewidth": 0,
             "ticks": ""
            },
            "colorscale": [
             [
              0,
              "#0d0887"
             ],
             [
              0.1111111111111111,
              "#46039f"
             ],
             [
              0.2222222222222222,
              "#7201a8"
             ],
             [
              0.3333333333333333,
              "#9c179e"
             ],
             [
              0.4444444444444444,
              "#bd3786"
             ],
             [
              0.5555555555555556,
              "#d8576b"
             ],
             [
              0.6666666666666666,
              "#ed7953"
             ],
             [
              0.7777777777777778,
              "#fb9f3a"
             ],
             [
              0.8888888888888888,
              "#fdca26"
             ],
             [
              1,
              "#f0f921"
             ]
            ],
            "type": "histogram2dcontour"
           }
          ],
          "mesh3d": [
           {
            "colorbar": {
             "outlinewidth": 0,
             "ticks": ""
            },
            "type": "mesh3d"
           }
          ],
          "parcoords": [
           {
            "line": {
             "colorbar": {
              "outlinewidth": 0,
              "ticks": ""
             }
            },
            "type": "parcoords"
           }
          ],
          "pie": [
           {
            "automargin": true,
            "type": "pie"
           }
          ],
          "scatter": [
           {
            "fillpattern": {
             "fillmode": "overlay",
             "size": 10,
             "solidity": 0.2
            },
            "type": "scatter"
           }
          ],
          "scatter3d": [
           {
            "line": {
             "colorbar": {
              "outlinewidth": 0,
              "ticks": ""
             }
            },
            "marker": {
             "colorbar": {
              "outlinewidth": 0,
              "ticks": ""
             }
            },
            "type": "scatter3d"
           }
          ],
          "scattercarpet": [
           {
            "marker": {
             "colorbar": {
              "outlinewidth": 0,
              "ticks": ""
             }
            },
            "type": "scattercarpet"
           }
          ],
          "scattergeo": [
           {
            "marker": {
             "colorbar": {
              "outlinewidth": 0,
              "ticks": ""
             }
            },
            "type": "scattergeo"
           }
          ],
          "scattergl": [
           {
            "marker": {
             "colorbar": {
              "outlinewidth": 0,
              "ticks": ""
             }
            },
            "type": "scattergl"
           }
          ],
          "scattermap": [
           {
            "marker": {
             "colorbar": {
              "outlinewidth": 0,
              "ticks": ""
             }
            },
            "type": "scattermap"
           }
          ],
          "scattermapbox": [
           {
            "marker": {
             "colorbar": {
              "outlinewidth": 0,
              "ticks": ""
             }
            },
            "type": "scattermapbox"
           }
          ],
          "scatterpolar": [
           {
            "marker": {
             "colorbar": {
              "outlinewidth": 0,
              "ticks": ""
             }
            },
            "type": "scatterpolar"
           }
          ],
          "scatterpolargl": [
           {
            "marker": {
             "colorbar": {
              "outlinewidth": 0,
              "ticks": ""
             }
            },
            "type": "scatterpolargl"
           }
          ],
          "scatterternary": [
           {
            "marker": {
             "colorbar": {
              "outlinewidth": 0,
              "ticks": ""
             }
            },
            "type": "scatterternary"
           }
          ],
          "surface": [
           {
            "colorbar": {
             "outlinewidth": 0,
             "ticks": ""
            },
            "colorscale": [
             [
              0,
              "#0d0887"
             ],
             [
              0.1111111111111111,
              "#46039f"
             ],
             [
              0.2222222222222222,
              "#7201a8"
             ],
             [
              0.3333333333333333,
              "#9c179e"
             ],
             [
              0.4444444444444444,
              "#bd3786"
             ],
             [
              0.5555555555555556,
              "#d8576b"
             ],
             [
              0.6666666666666666,
              "#ed7953"
             ],
             [
              0.7777777777777778,
              "#fb9f3a"
             ],
             [
              0.8888888888888888,
              "#fdca26"
             ],
             [
              1,
              "#f0f921"
             ]
            ],
            "type": "surface"
           }
          ],
          "table": [
           {
            "cells": {
             "fill": {
              "color": "#EBF0F8"
             },
             "line": {
              "color": "white"
             }
            },
            "header": {
             "fill": {
              "color": "#C8D4E3"
             },
             "line": {
              "color": "white"
             }
            },
            "type": "table"
           }
          ]
         },
         "layout": {
          "annotationdefaults": {
           "arrowcolor": "#2a3f5f",
           "arrowhead": 0,
           "arrowwidth": 1
          },
          "autotypenumbers": "strict",
          "coloraxis": {
           "colorbar": {
            "outlinewidth": 0,
            "ticks": ""
           }
          },
          "colorscale": {
           "diverging": [
            [
             0,
             "#8e0152"
            ],
            [
             0.1,
             "#c51b7d"
            ],
            [
             0.2,
             "#de77ae"
            ],
            [
             0.3,
             "#f1b6da"
            ],
            [
             0.4,
             "#fde0ef"
            ],
            [
             0.5,
             "#f7f7f7"
            ],
            [
             0.6,
             "#e6f5d0"
            ],
            [
             0.7,
             "#b8e186"
            ],
            [
             0.8,
             "#7fbc41"
            ],
            [
             0.9,
             "#4d9221"
            ],
            [
             1,
             "#276419"
            ]
           ],
           "sequential": [
            [
             0,
             "#0d0887"
            ],
            [
             0.1111111111111111,
             "#46039f"
            ],
            [
             0.2222222222222222,
             "#7201a8"
            ],
            [
             0.3333333333333333,
             "#9c179e"
            ],
            [
             0.4444444444444444,
             "#bd3786"
            ],
            [
             0.5555555555555556,
             "#d8576b"
            ],
            [
             0.6666666666666666,
             "#ed7953"
            ],
            [
             0.7777777777777778,
             "#fb9f3a"
            ],
            [
             0.8888888888888888,
             "#fdca26"
            ],
            [
             1,
             "#f0f921"
            ]
           ],
           "sequentialminus": [
            [
             0,
             "#0d0887"
            ],
            [
             0.1111111111111111,
             "#46039f"
            ],
            [
             0.2222222222222222,
             "#7201a8"
            ],
            [
             0.3333333333333333,
             "#9c179e"
            ],
            [
             0.4444444444444444,
             "#bd3786"
            ],
            [
             0.5555555555555556,
             "#d8576b"
            ],
            [
             0.6666666666666666,
             "#ed7953"
            ],
            [
             0.7777777777777778,
             "#fb9f3a"
            ],
            [
             0.8888888888888888,
             "#fdca26"
            ],
            [
             1,
             "#f0f921"
            ]
           ]
          },
          "colorway": [
           "#636efa",
           "#EF553B",
           "#00cc96",
           "#ab63fa",
           "#FFA15A",
           "#19d3f3",
           "#FF6692",
           "#B6E880",
           "#FF97FF",
           "#FECB52"
          ],
          "font": {
           "color": "#2a3f5f"
          },
          "geo": {
           "bgcolor": "white",
           "lakecolor": "white",
           "landcolor": "#E5ECF6",
           "showlakes": true,
           "showland": true,
           "subunitcolor": "white"
          },
          "hoverlabel": {
           "align": "left"
          },
          "hovermode": "closest",
          "mapbox": {
           "style": "light"
          },
          "paper_bgcolor": "white",
          "plot_bgcolor": "#E5ECF6",
          "polar": {
           "angularaxis": {
            "gridcolor": "white",
            "linecolor": "white",
            "ticks": ""
           },
           "bgcolor": "#E5ECF6",
           "radialaxis": {
            "gridcolor": "white",
            "linecolor": "white",
            "ticks": ""
           }
          },
          "scene": {
           "xaxis": {
            "backgroundcolor": "#E5ECF6",
            "gridcolor": "white",
            "gridwidth": 2,
            "linecolor": "white",
            "showbackground": true,
            "ticks": "",
            "zerolinecolor": "white"
           },
           "yaxis": {
            "backgroundcolor": "#E5ECF6",
            "gridcolor": "white",
            "gridwidth": 2,
            "linecolor": "white",
            "showbackground": true,
            "ticks": "",
            "zerolinecolor": "white"
           },
           "zaxis": {
            "backgroundcolor": "#E5ECF6",
            "gridcolor": "white",
            "gridwidth": 2,
            "linecolor": "white",
            "showbackground": true,
            "ticks": "",
            "zerolinecolor": "white"
           }
          },
          "shapedefaults": {
           "line": {
            "color": "#2a3f5f"
           }
          },
          "ternary": {
           "aaxis": {
            "gridcolor": "white",
            "linecolor": "white",
            "ticks": ""
           },
           "baxis": {
            "gridcolor": "white",
            "linecolor": "white",
            "ticks": ""
           },
           "bgcolor": "#E5ECF6",
           "caxis": {
            "gridcolor": "white",
            "linecolor": "white",
            "ticks": ""
           }
          },
          "title": {
           "x": 0.05
          },
          "xaxis": {
           "automargin": true,
           "gridcolor": "white",
           "linecolor": "white",
           "ticks": "",
           "title": {
            "standoff": 15
           },
           "zerolinecolor": "white",
           "zerolinewidth": 2
          },
          "yaxis": {
           "automargin": true,
           "gridcolor": "white",
           "linecolor": "white",
           "ticks": "",
           "title": {
            "standoff": 15
           },
           "zerolinecolor": "white",
           "zerolinewidth": 2
          }
         }
        },
        "xaxis": {
         "anchor": "y",
         "domain": [
          0,
          0.48
         ],
         "title": {
          "text": "timesteps"
         }
        },
        "xaxis2": {
         "anchor": "y2",
         "domain": [
          0.5,
          0.98
         ],
         "matches": "x",
         "title": {
          "text": "timesteps"
         }
        },
        "xaxis3": {
         "anchor": "y3",
         "domain": [
          0,
          0.48
         ],
         "matches": "x",
         "showticklabels": false
        },
        "xaxis4": {
         "anchor": "y4",
         "domain": [
          0.5,
          0.98
         ],
         "matches": "x",
         "showticklabels": false
        },
        "xaxis5": {
         "anchor": "y5",
         "domain": [
          0,
          0.48
         ],
         "matches": "x",
         "showticklabels": false
        },
        "xaxis6": {
         "anchor": "y6",
         "domain": [
          0.5,
          0.98
         ],
         "matches": "x",
         "showticklabels": false
        },
        "xaxis7": {
         "anchor": "y7",
         "domain": [
          0,
          0.48
         ],
         "matches": "x",
         "showticklabels": false
        },
        "xaxis8": {
         "anchor": "y8",
         "domain": [
          0.5,
          0.98
         ],
         "matches": "x",
         "showticklabels": false
        },
        "yaxis": {
         "anchor": "x",
         "domain": [
          0,
          0.2275
         ],
         "title": {
          "text": "Flow in/out (kWh)"
         }
        },
        "yaxis2": {
         "anchor": "x2",
         "domain": [
          0,
          0.2275
         ],
         "showticklabels": false
        },
        "yaxis3": {
         "anchor": "x3",
         "domain": [
          0.2575,
          0.485
         ],
         "title": {
          "text": "Flow in/out (kWh)"
         }
        },
        "yaxis4": {
         "anchor": "x4",
         "domain": [
          0.2575,
          0.485
         ],
         "showticklabels": false
        },
        "yaxis5": {
         "anchor": "x5",
         "domain": [
          0.515,
          0.7425
         ],
         "title": {
          "text": "Flow in/out (kWh)"
         }
        },
        "yaxis6": {
         "anchor": "x6",
         "domain": [
          0.515,
          0.7425
         ],
         "showticklabels": false
        },
        "yaxis7": {
         "anchor": "x7",
         "domain": [
          0.7725,
          1
         ],
         "title": {
          "text": "Flow in/out (kWh)"
         }
        },
        "yaxis8": {
         "anchor": "x8",
         "domain": [
          0.7725,
          1
         ],
         "showticklabels": false
        }
       }
      }
     },
     "metadata": {},
     "output_type": "display_data"
    }
   ],
   "source": [
    "carriers = [\"heat\", \"electricity\"]\n",
    "df_flows = (\n",
    "    (model.results.flow_out.fillna(0) - model.results.flow_in.fillna(0))\n",
    "    .sel(carriers=carriers)\n",
    "    .to_series()\n",
    "    .where(lambda x: x != 0)\n",
    "    .dropna()\n",
    "    .to_frame(\"Flow in/out (kWh)\")\n",
    "    .reset_index()\n",
    ")\n",
    "df_demand = df_flows[df_flows.techs.str.contains(\"demand\")]\n",
    "df_flows_other = df_flows[~df_flows.techs.str.contains(\"demand\")]\n",
    "\n",
    "print(df_flows.head())\n",
    "\n",
    "node_order = df_flows_other.nodes.unique()\n",
    "\n",
    "fig = px.bar(\n",
    "    df_flows_other,\n",
    "    x=\"timesteps\",\n",
    "    y=\"Flow in/out (kWh)\",\n",
    "    facet_row=\"nodes\",\n",
    "    facet_col=\"carriers\",\n",
    "    color=\"techs\",\n",
    "    category_orders={\"nodes\": node_order, \"carriers\": carriers},\n",
    "    height=1000,\n",
    "    color_discrete_map=colors,\n",
    ")\n",
    "\n",
    "showlegend = True\n",
    "# we reverse the node order (`[::-1]`) because the rows are numbered from bottom to top.\n",
    "for row, node in enumerate(node_order[::-1]):\n",
    "    for col, carrier in enumerate(carriers):\n",
    "        demand_ = df_demand.loc[\n",
    "            (df_demand.nodes == node) & (df_demand.techs == f\"demand_{carrier}\"),\n",
    "            \"Flow in/out (kWh)\",\n",
    "        ]\n",
    "        if not demand_.empty:\n",
    "            fig.add_scatter(\n",
    "                x=model.results.timesteps.values,\n",
    "                y=-1 * demand_,\n",
    "                row=row + 1,\n",
    "                col=col + 1,\n",
    "                marker_color=\"black\",\n",
    "                name=\"Demand\",\n",
    "                legendgroup=\"demand\",\n",
    "                showlegend=showlegend,\n",
    "            )\n",
    "            showlegend = False\n",
    "fig.update_yaxes(matches=None)\n",
    "fig.show()"
   ]
  },
  {
   "cell_type": "markdown",
   "id": "cd83d5a1",
   "metadata": {},
   "source": [
    "#### Plotting capacities\n",
    "We can plot capacities without needing to combine arrays.\n",
    "We can look at capacities for different carriers separately.\n",
    "We ignore demand and transmission technology capacities in this example."
   ]
  },
  {
   "cell_type": "code",
   "execution_count": 14,
   "id": "4a831880",
   "metadata": {},
   "outputs": [
    {
     "name": "stdout",
     "output_type": "stream",
     "text": [
      "  nodes              techs     carriers  Flow capacity (kW)\n",
      "0    X1                chp  electricity          260.946698\n",
      "1    X1                chp          gas          644.312835\n",
      "2    X1                chp         heat          208.757358\n",
      "3    X1         supply_gas          gas          644.312835\n",
      "4    X1  supply_grid_power  electricity           33.620147\n"
     ]
    },
    {
     "data": {
      "application/vnd.plotly.v1+json": {
       "config": {
        "plotlyServerURL": "https://plot.ly"
       },
       "data": [
        {
         "hovertemplate": "techs=chp<br>carriers=electricity<br>nodes=%{x}<br>Flow capacity (kW)=%{y}<extra></extra>",
         "legendgroup": "chp",
         "marker": {
          "color": "#E4AB97",
          "pattern": {
           "shape": ""
          }
         },
         "name": "chp",
         "orientation": "v",
         "showlegend": true,
         "textposition": "auto",
         "type": "bar",
         "x": [
          "X1"
         ],
         "xaxis": "x",
         "y": {
          "bdata": "rorqrCVPcEA=",
          "dtype": "f8"
         },
         "yaxis": "y"
        },
        {
         "hovertemplate": "techs=chp<br>carriers=gas<br>nodes=%{x}<br>Flow capacity (kW)=%{y}<extra></extra>",
         "legendgroup": "chp",
         "marker": {
          "color": "#E4AB97",
          "pattern": {
           "shape": ""
          }
         },
         "name": "chp",
         "orientation": "v",
         "showlegend": false,
         "textposition": "auto",
         "type": "bar",
         "x": [
          "X1"
         ],
         "xaxis": "x2",
         "y": {
          "bdata": "tAONr4AihEA=",
          "dtype": "f8"
         },
         "yaxis": "y2"
        },
        {
         "hovertemplate": "techs=chp<br>carriers=heat<br>nodes=%{x}<br>Flow capacity (kW)=%{y}<extra></extra>",
         "legendgroup": "chp",
         "marker": {
          "color": "#E4AB97",
          "pattern": {
           "shape": ""
          }
         },
         "name": "chp",
         "orientation": "v",
         "showlegend": false,
         "textposition": "auto",
         "type": "bar",
         "x": [
          "X1"
         ],
         "xaxis": "x3",
         "y": {
          "bdata": "sKrdRzwYakA=",
          "dtype": "f8"
         },
         "yaxis": "y3"
        },
        {
         "hovertemplate": "techs=supply_gas<br>carriers=gas<br>nodes=%{x}<br>Flow capacity (kW)=%{y}<extra></extra>",
         "legendgroup": "supply_gas",
         "marker": {
          "color": "#C98AAD",
          "pattern": {
           "shape": ""
          }
         },
         "name": "supply_gas",
         "orientation": "v",
         "showlegend": true,
         "textposition": "auto",
         "type": "bar",
         "x": [
          "X1",
          "X2",
          "X3"
         ],
         "xaxis": "x2",
         "y": {
          "bdata": "tAONr4AihEDD7YsFgFtsQGWsjQgdy5I/",
          "dtype": "f8"
         },
         "yaxis": "y2"
        },
        {
         "hovertemplate": "techs=supply_grid_power<br>carriers=electricity<br>nodes=%{x}<br>Flow capacity (kW)=%{y}<extra></extra>",
         "legendgroup": "supply_grid_power",
         "marker": {
          "color": "#C5ABE3",
          "pattern": {
           "shape": ""
          }
         },
         "name": "supply_grid_power",
         "orientation": "v",
         "showlegend": true,
         "textposition": "auto",
         "type": "bar",
         "x": [
          "X1"
         ],
         "xaxis": "x",
         "y": {
          "bdata": "MA23/GDPQEA=",
          "dtype": "f8"
         },
         "yaxis": "y"
        },
        {
         "hovertemplate": "techs=boiler<br>carriers=gas<br>nodes=%{x}<br>Flow capacity (kW)=%{y}<extra></extra>",
         "legendgroup": "boiler",
         "marker": {
          "color": "#8E2999",
          "pattern": {
           "shape": ""
          }
         },
         "name": "boiler",
         "orientation": "v",
         "showlegend": true,
         "textposition": "auto",
         "type": "bar",
         "x": [
          "X2",
          "X3"
         ],
         "xaxis": "x2",
         "y": {
          "bdata": "w+2LBYBbbEBlrI0IHcuSPw==",
          "dtype": "f8"
         },
         "yaxis": "y2"
        },
        {
         "hovertemplate": "techs=boiler<br>carriers=heat<br>nodes=%{x}<br>Flow capacity (kW)=%{y}<extra></extra>",
         "legendgroup": "boiler",
         "marker": {
          "color": "#8E2999",
          "pattern": {
           "shape": ""
          }
         },
         "name": "boiler",
         "orientation": "v",
         "showlegend": false,
         "textposition": "auto",
         "type": "bar",
         "x": [
          "X2",
          "X3"
         ],
         "xaxis": "x3",
         "y": {
          "bdata": "siPqN5MaaEDecYqO5PKPPw==",
          "dtype": "f8"
         },
         "yaxis": "y3"
        },
        {
         "hovertemplate": "techs=pv<br>carriers=electricity<br>nodes=%{x}<br>Flow capacity (kW)=%{y}<extra></extra>",
         "legendgroup": "pv",
         "marker": {
          "color": "#F9D956",
          "pattern": {
           "shape": ""
          }
         },
         "name": "pv",
         "orientation": "v",
         "showlegend": true,
         "textposition": "auto",
         "type": "bar",
         "x": [
          "X2",
          "X3"
         ],
         "xaxis": "x",
         "y": {
          "bdata": "NpfY+52nT0AAAAAAAABJQA==",
          "dtype": "f8"
         },
         "yaxis": "y"
        }
       ],
       "layout": {
        "annotations": [
         {
          "font": {},
          "showarrow": false,
          "text": "carriers=electricity",
          "x": 0.15999999999999998,
          "xanchor": "center",
          "xref": "paper",
          "y": 1,
          "yanchor": "bottom",
          "yref": "paper"
         },
         {
          "font": {},
          "showarrow": false,
          "text": "carriers=gas",
          "x": 0.49999999999999994,
          "xanchor": "center",
          "xref": "paper",
          "y": 1,
          "yanchor": "bottom",
          "yref": "paper"
         },
         {
          "font": {},
          "showarrow": false,
          "text": "carriers=heat",
          "x": 0.8399999999999999,
          "xanchor": "center",
          "xref": "paper",
          "y": 1,
          "yanchor": "bottom",
          "yref": "paper"
         }
        ],
        "barmode": "relative",
        "legend": {
         "title": {
          "text": "techs"
         },
         "tracegroupgap": 0
        },
        "margin": {
         "t": 60
        },
        "template": {
         "data": {
          "bar": [
           {
            "error_x": {
             "color": "#2a3f5f"
            },
            "error_y": {
             "color": "#2a3f5f"
            },
            "marker": {
             "line": {
              "color": "#E5ECF6",
              "width": 0.5
             },
             "pattern": {
              "fillmode": "overlay",
              "size": 10,
              "solidity": 0.2
             }
            },
            "type": "bar"
           }
          ],
          "barpolar": [
           {
            "marker": {
             "line": {
              "color": "#E5ECF6",
              "width": 0.5
             },
             "pattern": {
              "fillmode": "overlay",
              "size": 10,
              "solidity": 0.2
             }
            },
            "type": "barpolar"
           }
          ],
          "carpet": [
           {
            "aaxis": {
             "endlinecolor": "#2a3f5f",
             "gridcolor": "white",
             "linecolor": "white",
             "minorgridcolor": "white",
             "startlinecolor": "#2a3f5f"
            },
            "baxis": {
             "endlinecolor": "#2a3f5f",
             "gridcolor": "white",
             "linecolor": "white",
             "minorgridcolor": "white",
             "startlinecolor": "#2a3f5f"
            },
            "type": "carpet"
           }
          ],
          "choropleth": [
           {
            "colorbar": {
             "outlinewidth": 0,
             "ticks": ""
            },
            "type": "choropleth"
           }
          ],
          "contour": [
           {
            "colorbar": {
             "outlinewidth": 0,
             "ticks": ""
            },
            "colorscale": [
             [
              0,
              "#0d0887"
             ],
             [
              0.1111111111111111,
              "#46039f"
             ],
             [
              0.2222222222222222,
              "#7201a8"
             ],
             [
              0.3333333333333333,
              "#9c179e"
             ],
             [
              0.4444444444444444,
              "#bd3786"
             ],
             [
              0.5555555555555556,
              "#d8576b"
             ],
             [
              0.6666666666666666,
              "#ed7953"
             ],
             [
              0.7777777777777778,
              "#fb9f3a"
             ],
             [
              0.8888888888888888,
              "#fdca26"
             ],
             [
              1,
              "#f0f921"
             ]
            ],
            "type": "contour"
           }
          ],
          "contourcarpet": [
           {
            "colorbar": {
             "outlinewidth": 0,
             "ticks": ""
            },
            "type": "contourcarpet"
           }
          ],
          "heatmap": [
           {
            "colorbar": {
             "outlinewidth": 0,
             "ticks": ""
            },
            "colorscale": [
             [
              0,
              "#0d0887"
             ],
             [
              0.1111111111111111,
              "#46039f"
             ],
             [
              0.2222222222222222,
              "#7201a8"
             ],
             [
              0.3333333333333333,
              "#9c179e"
             ],
             [
              0.4444444444444444,
              "#bd3786"
             ],
             [
              0.5555555555555556,
              "#d8576b"
             ],
             [
              0.6666666666666666,
              "#ed7953"
             ],
             [
              0.7777777777777778,
              "#fb9f3a"
             ],
             [
              0.8888888888888888,
              "#fdca26"
             ],
             [
              1,
              "#f0f921"
             ]
            ],
            "type": "heatmap"
           }
          ],
          "histogram": [
           {
            "marker": {
             "pattern": {
              "fillmode": "overlay",
              "size": 10,
              "solidity": 0.2
             }
            },
            "type": "histogram"
           }
          ],
          "histogram2d": [
           {
            "colorbar": {
             "outlinewidth": 0,
             "ticks": ""
            },
            "colorscale": [
             [
              0,
              "#0d0887"
             ],
             [
              0.1111111111111111,
              "#46039f"
             ],
             [
              0.2222222222222222,
              "#7201a8"
             ],
             [
              0.3333333333333333,
              "#9c179e"
             ],
             [
              0.4444444444444444,
              "#bd3786"
             ],
             [
              0.5555555555555556,
              "#d8576b"
             ],
             [
              0.6666666666666666,
              "#ed7953"
             ],
             [
              0.7777777777777778,
              "#fb9f3a"
             ],
             [
              0.8888888888888888,
              "#fdca26"
             ],
             [
              1,
              "#f0f921"
             ]
            ],
            "type": "histogram2d"
           }
          ],
          "histogram2dcontour": [
           {
            "colorbar": {
             "outlinewidth": 0,
             "ticks": ""
            },
            "colorscale": [
             [
              0,
              "#0d0887"
             ],
             [
              0.1111111111111111,
              "#46039f"
             ],
             [
              0.2222222222222222,
              "#7201a8"
             ],
             [
              0.3333333333333333,
              "#9c179e"
             ],
             [
              0.4444444444444444,
              "#bd3786"
             ],
             [
              0.5555555555555556,
              "#d8576b"
             ],
             [
              0.6666666666666666,
              "#ed7953"
             ],
             [
              0.7777777777777778,
              "#fb9f3a"
             ],
             [
              0.8888888888888888,
              "#fdca26"
             ],
             [
              1,
              "#f0f921"
             ]
            ],
            "type": "histogram2dcontour"
           }
          ],
          "mesh3d": [
           {
            "colorbar": {
             "outlinewidth": 0,
             "ticks": ""
            },
            "type": "mesh3d"
           }
          ],
          "parcoords": [
           {
            "line": {
             "colorbar": {
              "outlinewidth": 0,
              "ticks": ""
             }
            },
            "type": "parcoords"
           }
          ],
          "pie": [
           {
            "automargin": true,
            "type": "pie"
           }
          ],
          "scatter": [
           {
            "fillpattern": {
             "fillmode": "overlay",
             "size": 10,
             "solidity": 0.2
            },
            "type": "scatter"
           }
          ],
          "scatter3d": [
           {
            "line": {
             "colorbar": {
              "outlinewidth": 0,
              "ticks": ""
             }
            },
            "marker": {
             "colorbar": {
              "outlinewidth": 0,
              "ticks": ""
             }
            },
            "type": "scatter3d"
           }
          ],
          "scattercarpet": [
           {
            "marker": {
             "colorbar": {
              "outlinewidth": 0,
              "ticks": ""
             }
            },
            "type": "scattercarpet"
           }
          ],
          "scattergeo": [
           {
            "marker": {
             "colorbar": {
              "outlinewidth": 0,
              "ticks": ""
             }
            },
            "type": "scattergeo"
           }
          ],
          "scattergl": [
           {
            "marker": {
             "colorbar": {
              "outlinewidth": 0,
              "ticks": ""
             }
            },
            "type": "scattergl"
           }
          ],
          "scattermap": [
           {
            "marker": {
             "colorbar": {
              "outlinewidth": 0,
              "ticks": ""
             }
            },
            "type": "scattermap"
           }
          ],
          "scattermapbox": [
           {
            "marker": {
             "colorbar": {
              "outlinewidth": 0,
              "ticks": ""
             }
            },
            "type": "scattermapbox"
           }
          ],
          "scatterpolar": [
           {
            "marker": {
             "colorbar": {
              "outlinewidth": 0,
              "ticks": ""
             }
            },
            "type": "scatterpolar"
           }
          ],
          "scatterpolargl": [
           {
            "marker": {
             "colorbar": {
              "outlinewidth": 0,
              "ticks": ""
             }
            },
            "type": "scatterpolargl"
           }
          ],
          "scatterternary": [
           {
            "marker": {
             "colorbar": {
              "outlinewidth": 0,
              "ticks": ""
             }
            },
            "type": "scatterternary"
           }
          ],
          "surface": [
           {
            "colorbar": {
             "outlinewidth": 0,
             "ticks": ""
            },
            "colorscale": [
             [
              0,
              "#0d0887"
             ],
             [
              0.1111111111111111,
              "#46039f"
             ],
             [
              0.2222222222222222,
              "#7201a8"
             ],
             [
              0.3333333333333333,
              "#9c179e"
             ],
             [
              0.4444444444444444,
              "#bd3786"
             ],
             [
              0.5555555555555556,
              "#d8576b"
             ],
             [
              0.6666666666666666,
              "#ed7953"
             ],
             [
              0.7777777777777778,
              "#fb9f3a"
             ],
             [
              0.8888888888888888,
              "#fdca26"
             ],
             [
              1,
              "#f0f921"
             ]
            ],
            "type": "surface"
           }
          ],
          "table": [
           {
            "cells": {
             "fill": {
              "color": "#EBF0F8"
             },
             "line": {
              "color": "white"
             }
            },
            "header": {
             "fill": {
              "color": "#C8D4E3"
             },
             "line": {
              "color": "white"
             }
            },
            "type": "table"
           }
          ]
         },
         "layout": {
          "annotationdefaults": {
           "arrowcolor": "#2a3f5f",
           "arrowhead": 0,
           "arrowwidth": 1
          },
          "autotypenumbers": "strict",
          "coloraxis": {
           "colorbar": {
            "outlinewidth": 0,
            "ticks": ""
           }
          },
          "colorscale": {
           "diverging": [
            [
             0,
             "#8e0152"
            ],
            [
             0.1,
             "#c51b7d"
            ],
            [
             0.2,
             "#de77ae"
            ],
            [
             0.3,
             "#f1b6da"
            ],
            [
             0.4,
             "#fde0ef"
            ],
            [
             0.5,
             "#f7f7f7"
            ],
            [
             0.6,
             "#e6f5d0"
            ],
            [
             0.7,
             "#b8e186"
            ],
            [
             0.8,
             "#7fbc41"
            ],
            [
             0.9,
             "#4d9221"
            ],
            [
             1,
             "#276419"
            ]
           ],
           "sequential": [
            [
             0,
             "#0d0887"
            ],
            [
             0.1111111111111111,
             "#46039f"
            ],
            [
             0.2222222222222222,
             "#7201a8"
            ],
            [
             0.3333333333333333,
             "#9c179e"
            ],
            [
             0.4444444444444444,
             "#bd3786"
            ],
            [
             0.5555555555555556,
             "#d8576b"
            ],
            [
             0.6666666666666666,
             "#ed7953"
            ],
            [
             0.7777777777777778,
             "#fb9f3a"
            ],
            [
             0.8888888888888888,
             "#fdca26"
            ],
            [
             1,
             "#f0f921"
            ]
           ],
           "sequentialminus": [
            [
             0,
             "#0d0887"
            ],
            [
             0.1111111111111111,
             "#46039f"
            ],
            [
             0.2222222222222222,
             "#7201a8"
            ],
            [
             0.3333333333333333,
             "#9c179e"
            ],
            [
             0.4444444444444444,
             "#bd3786"
            ],
            [
             0.5555555555555556,
             "#d8576b"
            ],
            [
             0.6666666666666666,
             "#ed7953"
            ],
            [
             0.7777777777777778,
             "#fb9f3a"
            ],
            [
             0.8888888888888888,
             "#fdca26"
            ],
            [
             1,
             "#f0f921"
            ]
           ]
          },
          "colorway": [
           "#636efa",
           "#EF553B",
           "#00cc96",
           "#ab63fa",
           "#FFA15A",
           "#19d3f3",
           "#FF6692",
           "#B6E880",
           "#FF97FF",
           "#FECB52"
          ],
          "font": {
           "color": "#2a3f5f"
          },
          "geo": {
           "bgcolor": "white",
           "lakecolor": "white",
           "landcolor": "#E5ECF6",
           "showlakes": true,
           "showland": true,
           "subunitcolor": "white"
          },
          "hoverlabel": {
           "align": "left"
          },
          "hovermode": "closest",
          "mapbox": {
           "style": "light"
          },
          "paper_bgcolor": "white",
          "plot_bgcolor": "#E5ECF6",
          "polar": {
           "angularaxis": {
            "gridcolor": "white",
            "linecolor": "white",
            "ticks": ""
           },
           "bgcolor": "#E5ECF6",
           "radialaxis": {
            "gridcolor": "white",
            "linecolor": "white",
            "ticks": ""
           }
          },
          "scene": {
           "xaxis": {
            "backgroundcolor": "#E5ECF6",
            "gridcolor": "white",
            "gridwidth": 2,
            "linecolor": "white",
            "showbackground": true,
            "ticks": "",
            "zerolinecolor": "white"
           },
           "yaxis": {
            "backgroundcolor": "#E5ECF6",
            "gridcolor": "white",
            "gridwidth": 2,
            "linecolor": "white",
            "showbackground": true,
            "ticks": "",
            "zerolinecolor": "white"
           },
           "zaxis": {
            "backgroundcolor": "#E5ECF6",
            "gridcolor": "white",
            "gridwidth": 2,
            "linecolor": "white",
            "showbackground": true,
            "ticks": "",
            "zerolinecolor": "white"
           }
          },
          "shapedefaults": {
           "line": {
            "color": "#2a3f5f"
           }
          },
          "ternary": {
           "aaxis": {
            "gridcolor": "white",
            "linecolor": "white",
            "ticks": ""
           },
           "baxis": {
            "gridcolor": "white",
            "linecolor": "white",
            "ticks": ""
           },
           "bgcolor": "#E5ECF6",
           "caxis": {
            "gridcolor": "white",
            "linecolor": "white",
            "ticks": ""
           }
          },
          "title": {
           "x": 0.05
          },
          "xaxis": {
           "automargin": true,
           "gridcolor": "white",
           "linecolor": "white",
           "ticks": "",
           "title": {
            "standoff": 15
           },
           "zerolinecolor": "white",
           "zerolinewidth": 2
          },
          "yaxis": {
           "automargin": true,
           "gridcolor": "white",
           "linecolor": "white",
           "ticks": "",
           "title": {
            "standoff": 15
           },
           "zerolinecolor": "white",
           "zerolinewidth": 2
          }
         }
        },
        "xaxis": {
         "anchor": "y",
         "domain": [
          0,
          0.31999999999999995
         ],
         "title": {
          "text": "nodes"
         }
        },
        "xaxis2": {
         "anchor": "y2",
         "domain": [
          0.33999999999999997,
          0.6599999999999999
         ],
         "matches": "x",
         "title": {
          "text": "nodes"
         }
        },
        "xaxis3": {
         "anchor": "y3",
         "domain": [
          0.6799999999999999,
          0.9999999999999999
         ],
         "matches": "x",
         "title": {
          "text": "nodes"
         }
        },
        "yaxis": {
         "anchor": "x",
         "domain": [
          0,
          1
         ],
         "title": {
          "text": "Flow capacity (kW)"
         }
        },
        "yaxis2": {
         "anchor": "x2",
         "domain": [
          0,
          1
         ],
         "matches": "y",
         "showticklabels": false
        },
        "yaxis3": {
         "anchor": "x3",
         "domain": [
          0,
          1
         ],
         "matches": "y",
         "showticklabels": false
        }
       }
      }
     },
     "metadata": {},
     "output_type": "display_data"
    }
   ],
   "source": [
    "df_capacity = (\n",
    "    model.results.flow_cap.where(\n",
    "        ~model.inputs.base_tech.str.contains(\"demand|transmission\")\n",
    "    )\n",
    "    .to_series()\n",
    "    .where(lambda x: x != 0)\n",
    "    .dropna()\n",
    "    .to_frame(\"Flow capacity (kW)\")\n",
    "    .reset_index()\n",
    ")\n",
    "\n",
    "print(df_capacity.head())\n",
    "\n",
    "fig = px.bar(\n",
    "    df_capacity,\n",
    "    x=\"nodes\",\n",
    "    y=\"Flow capacity (kW)\",\n",
    "    color=\"techs\",\n",
    "    facet_col=\"carriers\",\n",
    "    color_discrete_map=colors,\n",
    ")\n",
    "fig.show()"
   ]
  },
  {
   "cell_type": "markdown",
   "id": "148d838b",
   "metadata": {},
   "source": [
    "### Spatial plots\n",
    "Plotly express is limited in its ability to plot spatially,\n",
    "but we can at least plot the connections that exist in our results with capacity information available on hover.\n",
    "You will only see hover information for one carrier at a time.\n",
    "To see the other carrier's information, hide one carrier by clicking on its name in the legend."
   ]
  },
  {
   "cell_type": "code",
   "execution_count": 15,
   "id": "09111bea",
   "metadata": {},
   "outputs": [
    {
     "data": {
      "application/vnd.plotly.v1+json": {
       "config": {
        "plotlyServerURL": "https://plot.ly"
       },
       "data": [
        {
         "customdata": {
          "bdata": "/HD3lMPHZ0BDEpAH5MMkQFhRkOgByYFAWFGQ6AHJgUD8cPeUw8dnQEMSkAfkwyRA",
          "dtype": "f8",
          "shape": "6, 1"
         },
         "hovertemplate": "<b>%{hovertext}</b><br><br>carriers=heat<br>latitude=%{lat}<br>longitude=%{lon}<br>Flow capacity (kW)=%{customdata[0]}<extra></extra>",
         "hovertext": [
          "N1",
          "N1",
          "N1",
          "X1",
          "X2",
          "X3"
         ],
         "lat": {
          "bdata": "gZsgRfi4SUCBmyBF+LhJQIGbIEX4uElAydzGsNS6SUCOMFbljLtJQBbfq7HftklA",
          "dtype": "f8"
         },
         "legendgroup": "heat",
         "line": {
          "color": "#636efa"
         },
         "lon": {
          "bdata": "nHS224ntv7+cdLbbie2/v5x0ttuJ7b+/Dm8xmvCmxL+Yca68Pzm9v4iCGVOwxsC/",
          "dtype": "f8"
         },
         "mode": "lines",
         "name": "heat",
         "showlegend": true,
         "subplot": "map",
         "type": "scattermap"
        },
        {
         "customdata": {
          "bdata": "w72I7i8ocUAEN4iDoONGQMO9iO4vKHFABDeIg6DjRkA=",
          "dtype": "f8",
          "shape": "4, 1"
         },
         "hovertemplate": "<b>%{hovertext}</b><br><br>carriers=electricity<br>latitude=%{lat}<br>longitude=%{lon}<br>Flow capacity (kW)=%{customdata[0]}<extra></extra>",
         "hovertext": [
          "X1",
          "X1",
          "X2",
          "X3"
         ],
         "lat": {
          "bdata": "ydzGsNS6SUDJ3Maw1LpJQI4wVuWMu0lAFt+rsd+2SUA=",
          "dtype": "f8"
         },
         "legendgroup": "electricity",
         "line": {
          "color": "#EF553B"
         },
         "lon": {
          "bdata": "Dm8xmvCmxL8ObzGa8KbEv5hxrrw/Ob2/iIIZU7DGwL8=",
          "dtype": "f8"
         },
         "mode": "lines",
         "name": "electricity",
         "showlegend": true,
         "subplot": "map",
         "type": "scattermap"
        }
       ],
       "layout": {
        "height": 300,
        "hoverdistance": 50,
        "legend": {
         "title": {
          "text": "carriers"
         },
         "tracegroupgap": 0
        },
        "map": {
         "center": {
          "lat": 51.449657825,
          "lon": -0.1328203
         },
         "domain": {
          "x": [
           0,
           1
          ],
          "y": [
           0,
           1
          ]
         },
         "style": "open-street-map",
         "zoom": 11
        },
        "mapbox": {
         "center": {
          "lat": 51.45019550000001,
          "lon": -0.13486253
         },
         "zoom": 3
        },
        "margin": {
         "b": 0,
         "l": 0,
         "r": 0,
         "t": 0
        },
        "template": {
         "data": {
          "bar": [
           {
            "error_x": {
             "color": "#2a3f5f"
            },
            "error_y": {
             "color": "#2a3f5f"
            },
            "marker": {
             "line": {
              "color": "#E5ECF6",
              "width": 0.5
             },
             "pattern": {
              "fillmode": "overlay",
              "size": 10,
              "solidity": 0.2
             }
            },
            "type": "bar"
           }
          ],
          "barpolar": [
           {
            "marker": {
             "line": {
              "color": "#E5ECF6",
              "width": 0.5
             },
             "pattern": {
              "fillmode": "overlay",
              "size": 10,
              "solidity": 0.2
             }
            },
            "type": "barpolar"
           }
          ],
          "carpet": [
           {
            "aaxis": {
             "endlinecolor": "#2a3f5f",
             "gridcolor": "white",
             "linecolor": "white",
             "minorgridcolor": "white",
             "startlinecolor": "#2a3f5f"
            },
            "baxis": {
             "endlinecolor": "#2a3f5f",
             "gridcolor": "white",
             "linecolor": "white",
             "minorgridcolor": "white",
             "startlinecolor": "#2a3f5f"
            },
            "type": "carpet"
           }
          ],
          "choropleth": [
           {
            "colorbar": {
             "outlinewidth": 0,
             "ticks": ""
            },
            "type": "choropleth"
           }
          ],
          "contour": [
           {
            "colorbar": {
             "outlinewidth": 0,
             "ticks": ""
            },
            "colorscale": [
             [
              0,
              "#0d0887"
             ],
             [
              0.1111111111111111,
              "#46039f"
             ],
             [
              0.2222222222222222,
              "#7201a8"
             ],
             [
              0.3333333333333333,
              "#9c179e"
             ],
             [
              0.4444444444444444,
              "#bd3786"
             ],
             [
              0.5555555555555556,
              "#d8576b"
             ],
             [
              0.6666666666666666,
              "#ed7953"
             ],
             [
              0.7777777777777778,
              "#fb9f3a"
             ],
             [
              0.8888888888888888,
              "#fdca26"
             ],
             [
              1,
              "#f0f921"
             ]
            ],
            "type": "contour"
           }
          ],
          "contourcarpet": [
           {
            "colorbar": {
             "outlinewidth": 0,
             "ticks": ""
            },
            "type": "contourcarpet"
           }
          ],
          "heatmap": [
           {
            "colorbar": {
             "outlinewidth": 0,
             "ticks": ""
            },
            "colorscale": [
             [
              0,
              "#0d0887"
             ],
             [
              0.1111111111111111,
              "#46039f"
             ],
             [
              0.2222222222222222,
              "#7201a8"
             ],
             [
              0.3333333333333333,
              "#9c179e"
             ],
             [
              0.4444444444444444,
              "#bd3786"
             ],
             [
              0.5555555555555556,
              "#d8576b"
             ],
             [
              0.6666666666666666,
              "#ed7953"
             ],
             [
              0.7777777777777778,
              "#fb9f3a"
             ],
             [
              0.8888888888888888,
              "#fdca26"
             ],
             [
              1,
              "#f0f921"
             ]
            ],
            "type": "heatmap"
           }
          ],
          "histogram": [
           {
            "marker": {
             "pattern": {
              "fillmode": "overlay",
              "size": 10,
              "solidity": 0.2
             }
            },
            "type": "histogram"
           }
          ],
          "histogram2d": [
           {
            "colorbar": {
             "outlinewidth": 0,
             "ticks": ""
            },
            "colorscale": [
             [
              0,
              "#0d0887"
             ],
             [
              0.1111111111111111,
              "#46039f"
             ],
             [
              0.2222222222222222,
              "#7201a8"
             ],
             [
              0.3333333333333333,
              "#9c179e"
             ],
             [
              0.4444444444444444,
              "#bd3786"
             ],
             [
              0.5555555555555556,
              "#d8576b"
             ],
             [
              0.6666666666666666,
              "#ed7953"
             ],
             [
              0.7777777777777778,
              "#fb9f3a"
             ],
             [
              0.8888888888888888,
              "#fdca26"
             ],
             [
              1,
              "#f0f921"
             ]
            ],
            "type": "histogram2d"
           }
          ],
          "histogram2dcontour": [
           {
            "colorbar": {
             "outlinewidth": 0,
             "ticks": ""
            },
            "colorscale": [
             [
              0,
              "#0d0887"
             ],
             [
              0.1111111111111111,
              "#46039f"
             ],
             [
              0.2222222222222222,
              "#7201a8"
             ],
             [
              0.3333333333333333,
              "#9c179e"
             ],
             [
              0.4444444444444444,
              "#bd3786"
             ],
             [
              0.5555555555555556,
              "#d8576b"
             ],
             [
              0.6666666666666666,
              "#ed7953"
             ],
             [
              0.7777777777777778,
              "#fb9f3a"
             ],
             [
              0.8888888888888888,
              "#fdca26"
             ],
             [
              1,
              "#f0f921"
             ]
            ],
            "type": "histogram2dcontour"
           }
          ],
          "mesh3d": [
           {
            "colorbar": {
             "outlinewidth": 0,
             "ticks": ""
            },
            "type": "mesh3d"
           }
          ],
          "parcoords": [
           {
            "line": {
             "colorbar": {
              "outlinewidth": 0,
              "ticks": ""
             }
            },
            "type": "parcoords"
           }
          ],
          "pie": [
           {
            "automargin": true,
            "type": "pie"
           }
          ],
          "scatter": [
           {
            "fillpattern": {
             "fillmode": "overlay",
             "size": 10,
             "solidity": 0.2
            },
            "type": "scatter"
           }
          ],
          "scatter3d": [
           {
            "line": {
             "colorbar": {
              "outlinewidth": 0,
              "ticks": ""
             }
            },
            "marker": {
             "colorbar": {
              "outlinewidth": 0,
              "ticks": ""
             }
            },
            "type": "scatter3d"
           }
          ],
          "scattercarpet": [
           {
            "marker": {
             "colorbar": {
              "outlinewidth": 0,
              "ticks": ""
             }
            },
            "type": "scattercarpet"
           }
          ],
          "scattergeo": [
           {
            "marker": {
             "colorbar": {
              "outlinewidth": 0,
              "ticks": ""
             }
            },
            "type": "scattergeo"
           }
          ],
          "scattergl": [
           {
            "marker": {
             "colorbar": {
              "outlinewidth": 0,
              "ticks": ""
             }
            },
            "type": "scattergl"
           }
          ],
          "scattermap": [
           {
            "marker": {
             "colorbar": {
              "outlinewidth": 0,
              "ticks": ""
             }
            },
            "type": "scattermap"
           }
          ],
          "scattermapbox": [
           {
            "marker": {
             "colorbar": {
              "outlinewidth": 0,
              "ticks": ""
             }
            },
            "type": "scattermapbox"
           }
          ],
          "scatterpolar": [
           {
            "marker": {
             "colorbar": {
              "outlinewidth": 0,
              "ticks": ""
             }
            },
            "type": "scatterpolar"
           }
          ],
          "scatterpolargl": [
           {
            "marker": {
             "colorbar": {
              "outlinewidth": 0,
              "ticks": ""
             }
            },
            "type": "scatterpolargl"
           }
          ],
          "scatterternary": [
           {
            "marker": {
             "colorbar": {
              "outlinewidth": 0,
              "ticks": ""
             }
            },
            "type": "scatterternary"
           }
          ],
          "surface": [
           {
            "colorbar": {
             "outlinewidth": 0,
             "ticks": ""
            },
            "colorscale": [
             [
              0,
              "#0d0887"
             ],
             [
              0.1111111111111111,
              "#46039f"
             ],
             [
              0.2222222222222222,
              "#7201a8"
             ],
             [
              0.3333333333333333,
              "#9c179e"
             ],
             [
              0.4444444444444444,
              "#bd3786"
             ],
             [
              0.5555555555555556,
              "#d8576b"
             ],
             [
              0.6666666666666666,
              "#ed7953"
             ],
             [
              0.7777777777777778,
              "#fb9f3a"
             ],
             [
              0.8888888888888888,
              "#fdca26"
             ],
             [
              1,
              "#f0f921"
             ]
            ],
            "type": "surface"
           }
          ],
          "table": [
           {
            "cells": {
             "fill": {
              "color": "#EBF0F8"
             },
             "line": {
              "color": "white"
             }
            },
            "header": {
             "fill": {
              "color": "#C8D4E3"
             },
             "line": {
              "color": "white"
             }
            },
            "type": "table"
           }
          ]
         },
         "layout": {
          "annotationdefaults": {
           "arrowcolor": "#2a3f5f",
           "arrowhead": 0,
           "arrowwidth": 1
          },
          "autotypenumbers": "strict",
          "coloraxis": {
           "colorbar": {
            "outlinewidth": 0,
            "ticks": ""
           }
          },
          "colorscale": {
           "diverging": [
            [
             0,
             "#8e0152"
            ],
            [
             0.1,
             "#c51b7d"
            ],
            [
             0.2,
             "#de77ae"
            ],
            [
             0.3,
             "#f1b6da"
            ],
            [
             0.4,
             "#fde0ef"
            ],
            [
             0.5,
             "#f7f7f7"
            ],
            [
             0.6,
             "#e6f5d0"
            ],
            [
             0.7,
             "#b8e186"
            ],
            [
             0.8,
             "#7fbc41"
            ],
            [
             0.9,
             "#4d9221"
            ],
            [
             1,
             "#276419"
            ]
           ],
           "sequential": [
            [
             0,
             "#0d0887"
            ],
            [
             0.1111111111111111,
             "#46039f"
            ],
            [
             0.2222222222222222,
             "#7201a8"
            ],
            [
             0.3333333333333333,
             "#9c179e"
            ],
            [
             0.4444444444444444,
             "#bd3786"
            ],
            [
             0.5555555555555556,
             "#d8576b"
            ],
            [
             0.6666666666666666,
             "#ed7953"
            ],
            [
             0.7777777777777778,
             "#fb9f3a"
            ],
            [
             0.8888888888888888,
             "#fdca26"
            ],
            [
             1,
             "#f0f921"
            ]
           ],
           "sequentialminus": [
            [
             0,
             "#0d0887"
            ],
            [
             0.1111111111111111,
             "#46039f"
            ],
            [
             0.2222222222222222,
             "#7201a8"
            ],
            [
             0.3333333333333333,
             "#9c179e"
            ],
            [
             0.4444444444444444,
             "#bd3786"
            ],
            [
             0.5555555555555556,
             "#d8576b"
            ],
            [
             0.6666666666666666,
             "#ed7953"
            ],
            [
             0.7777777777777778,
             "#fb9f3a"
            ],
            [
             0.8888888888888888,
             "#fdca26"
            ],
            [
             1,
             "#f0f921"
            ]
           ]
          },
          "colorway": [
           "#636efa",
           "#EF553B",
           "#00cc96",
           "#ab63fa",
           "#FFA15A",
           "#19d3f3",
           "#FF6692",
           "#B6E880",
           "#FF97FF",
           "#FECB52"
          ],
          "font": {
           "color": "#2a3f5f"
          },
          "geo": {
           "bgcolor": "white",
           "lakecolor": "white",
           "landcolor": "#E5ECF6",
           "showlakes": true,
           "showland": true,
           "subunitcolor": "white"
          },
          "hoverlabel": {
           "align": "left"
          },
          "hovermode": "closest",
          "mapbox": {
           "style": "light"
          },
          "paper_bgcolor": "white",
          "plot_bgcolor": "#E5ECF6",
          "polar": {
           "angularaxis": {
            "gridcolor": "white",
            "linecolor": "white",
            "ticks": ""
           },
           "bgcolor": "#E5ECF6",
           "radialaxis": {
            "gridcolor": "white",
            "linecolor": "white",
            "ticks": ""
           }
          },
          "scene": {
           "xaxis": {
            "backgroundcolor": "#E5ECF6",
            "gridcolor": "white",
            "gridwidth": 2,
            "linecolor": "white",
            "showbackground": true,
            "ticks": "",
            "zerolinecolor": "white"
           },
           "yaxis": {
            "backgroundcolor": "#E5ECF6",
            "gridcolor": "white",
            "gridwidth": 2,
            "linecolor": "white",
            "showbackground": true,
            "ticks": "",
            "zerolinecolor": "white"
           },
           "zaxis": {
            "backgroundcolor": "#E5ECF6",
            "gridcolor": "white",
            "gridwidth": 2,
            "linecolor": "white",
            "showbackground": true,
            "ticks": "",
            "zerolinecolor": "white"
           }
          },
          "shapedefaults": {
           "line": {
            "color": "#2a3f5f"
           }
          },
          "ternary": {
           "aaxis": {
            "gridcolor": "white",
            "linecolor": "white",
            "ticks": ""
           },
           "baxis": {
            "gridcolor": "white",
            "linecolor": "white",
            "ticks": ""
           },
           "bgcolor": "#E5ECF6",
           "caxis": {
            "gridcolor": "white",
            "linecolor": "white",
            "ticks": ""
           }
          },
          "title": {
           "x": 0.05
          },
          "xaxis": {
           "automargin": true,
           "gridcolor": "white",
           "linecolor": "white",
           "ticks": "",
           "title": {
            "standoff": 15
           },
           "zerolinecolor": "white",
           "zerolinewidth": 2
          },
          "yaxis": {
           "automargin": true,
           "gridcolor": "white",
           "linecolor": "white",
           "ticks": "",
           "title": {
            "standoff": 15
           },
           "zerolinecolor": "white",
           "zerolinewidth": 2
          }
         }
        }
       }
      }
     },
     "metadata": {},
     "output_type": "display_data"
    }
   ],
   "source": [
    "df_coords = model.inputs[[\"latitude\", \"longitude\"]].to_dataframe().reset_index()\n",
    "df_capacity = (\n",
    "    model.results.flow_cap.where(model.inputs.base_tech == \"transmission\")\n",
    "    .to_series()\n",
    "    .where(lambda x: x != 0)\n",
    "    .dropna()\n",
    "    .to_frame(\"Flow capacity (kW)\")\n",
    "    .reset_index()\n",
    ")\n",
    "df_capacity_coords = pd.merge(df_coords, df_capacity, left_on=\"nodes\", right_on=\"nodes\")\n",
    "\n",
    "fig = px.line_map(\n",
    "    df_capacity_coords,\n",
    "    lat=\"latitude\",\n",
    "    lon=\"longitude\",\n",
    "    color=\"carriers\",\n",
    "    hover_name=\"nodes\",\n",
    "    hover_data=\"Flow capacity (kW)\",\n",
    "    zoom=3,\n",
    "    height=300,\n",
    ")\n",
    "fig.update_layout(\n",
    "    map_style=\"open-street-map\",\n",
    "    map_zoom=11,\n",
    "    map_center_lat=df_coords.latitude.mean(),\n",
    "    map_center_lon=df_coords.longitude.mean(),\n",
    "    margin={\"r\": 0, \"t\": 0, \"l\": 0, \"b\": 0},\n",
    "    hoverdistance=50,\n",
    ")"
   ]
  },
  {
   "cell_type": "markdown",
   "id": "cbb3287c",
   "metadata": {},
   "source": [
    "---"
   ]
  },
  {
   "cell_type": "markdown",
   "id": "735a5466",
   "metadata": {},
   "source": [
    "See the [Calliope documentation](https://calliope.readthedocs.io/) for more details on setting up and running a Calliope model."
   ]
  }
 ],
 "metadata": {
  "jupytext": {
   "custom_cell_magics": "kql"
  },
  "kernelspec": {
   "display_name": "calliope",
   "language": "python",
   "name": "python3"
  },
  "language_info": {
   "codemirror_mode": {
    "name": "ipython",
    "version": 3
   },
   "file_extension": ".py",
   "mimetype": "text/x-python",
   "name": "python",
   "nbconvert_exporter": "python",
   "pygments_lexer": "ipython3",
   "version": "3.12.11"
  }
 },
 "nbformat": 4,
 "nbformat_minor": 5
}
