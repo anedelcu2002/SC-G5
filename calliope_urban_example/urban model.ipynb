{
 "cells": [
  {
   "cell_type": "markdown",
   "id": "0f8d8a87",
   "metadata": {},
   "source": [
    "# Running the urban scale example model\n",
    "This notebook will show you how to load, build, solve, and examine the results of the urban scale example model."
   ]
  },
  {
   "cell_type": "code",
   "execution_count": 1,
   "id": "975c137d",
   "metadata": {},
   "outputs": [],
   "source": [
    "import pandas as pd\n",
    "import plotly.express as px\n",
    "\n",
    "import calliope\n",
    "\n",
    "# We increase logging verbosity\n",
    "calliope.set_log_verbosity(\"INFO\", include_solver_output=False)"
   ]
  },
  {
   "cell_type": "markdown",
   "id": "7c348fb0",
   "metadata": {},
   "source": [
    "## Load model and examine inputs"
   ]
  },
  {
   "cell_type": "code",
   "execution_count": 2,
   "id": "b29dce5f",
   "metadata": {},
   "outputs": [
    {
     "name": "stdout",
     "output_type": "stream",
     "text": [
      "[2025-10-10 10:54:18] INFO     Math init | loading pre-defined math.\n",
      "[2025-10-10 10:54:18] INFO     Math init | loading math files {'milp', 'storage_inter_cluster', 'additional_math', 'spores', 'operate', 'base'}.\n",
      "[2025-10-10 10:54:18] INFO     Model: preprocessing data\n",
      "[2025-10-10 10:54:18] INFO     Math build | building applied math with ['base', 'additional_math'].\n",
      "[2025-10-10 10:54:19] INFO     input data `color` not defined in model math; it will not be available in the optimisation problem.\n",
      "[2025-10-10 10:54:19] INFO     input data `name` not defined in model math; it will not be available in the optimisation problem.\n",
      "[2025-10-10 10:54:19] INFO     input data `color` not defined in model math; it will not be available in the optimisation problem.\n",
      "[2025-10-10 10:54:19] INFO     input data `name` not defined in model math; it will not be available in the optimisation problem.\n",
      "[2025-10-10 10:54:19] INFO     Model: initialisation complete\n"
     ]
    }
   ],
   "source": [
    "model = calliope.read_yaml(\"model.yaml\")"
   ]
  },
  {
   "cell_type": "markdown",
   "id": "7ceb1cb0",
   "metadata": {},
   "source": [
    "Model inputs can be viewed at `model.inputs`.\n",
    "Variables are indexed over any combination of `techs`, `nodes`, `carriers`, `costs` and `timesteps`."
   ]
  },
  {
   "cell_type": "code",
   "execution_count": 3,
   "id": "18048b28",
   "metadata": {},
   "outputs": [
    {
     "data": {
      "text/html": [
       "<div><svg style=\"position: absolute; width: 0; height: 0; overflow: hidden\">\n",
       "<defs>\n",
       "<symbol id=\"icon-database\" viewBox=\"0 0 32 32\">\n",
       "<path d=\"M16 0c-8.837 0-16 2.239-16 5v4c0 2.761 7.163 5 16 5s16-2.239 16-5v-4c0-2.761-7.163-5-16-5z\"></path>\n",
       "<path d=\"M16 17c-8.837 0-16-2.239-16-5v6c0 2.761 7.163 5 16 5s16-2.239 16-5v-6c0 2.761-7.163 5-16 5z\"></path>\n",
       "<path d=\"M16 26c-8.837 0-16-2.239-16-5v6c0 2.761 7.163 5 16 5s16-2.239 16-5v-6c0 2.761-7.163 5-16 5z\"></path>\n",
       "</symbol>\n",
       "<symbol id=\"icon-file-text2\" viewBox=\"0 0 32 32\">\n",
       "<path d=\"M28.681 7.159c-0.694-0.947-1.662-2.053-2.724-3.116s-2.169-2.030-3.116-2.724c-1.612-1.182-2.393-1.319-2.841-1.319h-15.5c-1.378 0-2.5 1.121-2.5 2.5v27c0 1.378 1.122 2.5 2.5 2.5h23c1.378 0 2.5-1.122 2.5-2.5v-19.5c0-0.448-0.137-1.23-1.319-2.841zM24.543 5.457c0.959 0.959 1.712 1.825 2.268 2.543h-4.811v-4.811c0.718 0.556 1.584 1.309 2.543 2.268zM28 29.5c0 0.271-0.229 0.5-0.5 0.5h-23c-0.271 0-0.5-0.229-0.5-0.5v-27c0-0.271 0.229-0.5 0.5-0.5 0 0 15.499-0 15.5 0v7c0 0.552 0.448 1 1 1h7v19.5z\"></path>\n",
       "<path d=\"M23 26h-14c-0.552 0-1-0.448-1-1s0.448-1 1-1h14c0.552 0 1 0.448 1 1s-0.448 1-1 1z\"></path>\n",
       "<path d=\"M23 22h-14c-0.552 0-1-0.448-1-1s0.448-1 1-1h14c0.552 0 1 0.448 1 1s-0.448 1-1 1z\"></path>\n",
       "<path d=\"M23 18h-14c-0.552 0-1-0.448-1-1s0.448-1 1-1h14c0.552 0 1 0.448 1 1s-0.448 1-1 1z\"></path>\n",
       "</symbol>\n",
       "</defs>\n",
       "</svg>\n",
       "<style>/* CSS stylesheet for displaying xarray objects in jupyterlab.\n",
       " *\n",
       " */\n",
       "\n",
       ":root {\n",
       "  --xr-font-color0: var(--jp-content-font-color0, rgba(0, 0, 0, 1));\n",
       "  --xr-font-color2: var(--jp-content-font-color2, rgba(0, 0, 0, 0.54));\n",
       "  --xr-font-color3: var(--jp-content-font-color3, rgba(0, 0, 0, 0.38));\n",
       "  --xr-border-color: var(--jp-border-color2, #e0e0e0);\n",
       "  --xr-disabled-color: var(--jp-layout-color3, #bdbdbd);\n",
       "  --xr-background-color: var(--jp-layout-color0, white);\n",
       "  --xr-background-color-row-even: var(--jp-layout-color1, white);\n",
       "  --xr-background-color-row-odd: var(--jp-layout-color2, #eeeeee);\n",
       "}\n",
       "\n",
       "html[theme=dark],\n",
       "body[data-theme=dark],\n",
       "body.vscode-dark {\n",
       "  --xr-font-color0: rgba(255, 255, 255, 1);\n",
       "  --xr-font-color2: rgba(255, 255, 255, 0.54);\n",
       "  --xr-font-color3: rgba(255, 255, 255, 0.38);\n",
       "  --xr-border-color: #1F1F1F;\n",
       "  --xr-disabled-color: #515151;\n",
       "  --xr-background-color: #111111;\n",
       "  --xr-background-color-row-even: #111111;\n",
       "  --xr-background-color-row-odd: #313131;\n",
       "}\n",
       "\n",
       ".xr-wrap {\n",
       "  display: block !important;\n",
       "  min-width: 300px;\n",
       "  max-width: 700px;\n",
       "}\n",
       "\n",
       ".xr-text-repr-fallback {\n",
       "  /* fallback to plain text repr when CSS is not injected (untrusted notebook) */\n",
       "  display: none;\n",
       "}\n",
       "\n",
       ".xr-header {\n",
       "  padding-top: 6px;\n",
       "  padding-bottom: 6px;\n",
       "  margin-bottom: 4px;\n",
       "  border-bottom: solid 1px var(--xr-border-color);\n",
       "}\n",
       "\n",
       ".xr-header > div,\n",
       ".xr-header > ul {\n",
       "  display: inline;\n",
       "  margin-top: 0;\n",
       "  margin-bottom: 0;\n",
       "}\n",
       "\n",
       ".xr-obj-type,\n",
       ".xr-array-name {\n",
       "  margin-left: 2px;\n",
       "  margin-right: 10px;\n",
       "}\n",
       "\n",
       ".xr-obj-type {\n",
       "  color: var(--xr-font-color2);\n",
       "}\n",
       "\n",
       ".xr-sections {\n",
       "  padding-left: 0 !important;\n",
       "  display: grid;\n",
       "  grid-template-columns: 150px auto auto 1fr 20px 20px;\n",
       "}\n",
       "\n",
       ".xr-section-item {\n",
       "  display: contents;\n",
       "}\n",
       "\n",
       ".xr-section-item input {\n",
       "  display: none;\n",
       "}\n",
       "\n",
       ".xr-section-item input + label {\n",
       "  color: var(--xr-disabled-color);\n",
       "}\n",
       "\n",
       ".xr-section-item input:enabled + label {\n",
       "  cursor: pointer;\n",
       "  color: var(--xr-font-color2);\n",
       "}\n",
       "\n",
       ".xr-section-item input:enabled + label:hover {\n",
       "  color: var(--xr-font-color0);\n",
       "}\n",
       "\n",
       ".xr-section-summary {\n",
       "  grid-column: 1;\n",
       "  color: var(--xr-font-color2);\n",
       "  font-weight: 500;\n",
       "}\n",
       "\n",
       ".xr-section-summary > span {\n",
       "  display: inline-block;\n",
       "  padding-left: 0.5em;\n",
       "}\n",
       "\n",
       ".xr-section-summary-in:disabled + label {\n",
       "  color: var(--xr-font-color2);\n",
       "}\n",
       "\n",
       ".xr-section-summary-in + label:before {\n",
       "  display: inline-block;\n",
       "  content: '►';\n",
       "  font-size: 11px;\n",
       "  width: 15px;\n",
       "  text-align: center;\n",
       "}\n",
       "\n",
       ".xr-section-summary-in:disabled + label:before {\n",
       "  color: var(--xr-disabled-color);\n",
       "}\n",
       "\n",
       ".xr-section-summary-in:checked + label:before {\n",
       "  content: '▼';\n",
       "}\n",
       "\n",
       ".xr-section-summary-in:checked + label > span {\n",
       "  display: none;\n",
       "}\n",
       "\n",
       ".xr-section-summary,\n",
       ".xr-section-inline-details {\n",
       "  padding-top: 4px;\n",
       "  padding-bottom: 4px;\n",
       "}\n",
       "\n",
       ".xr-section-inline-details {\n",
       "  grid-column: 2 / -1;\n",
       "}\n",
       "\n",
       ".xr-section-details {\n",
       "  display: none;\n",
       "  grid-column: 1 / -1;\n",
       "  margin-bottom: 5px;\n",
       "}\n",
       "\n",
       ".xr-section-summary-in:checked ~ .xr-section-details {\n",
       "  display: contents;\n",
       "}\n",
       "\n",
       ".xr-array-wrap {\n",
       "  grid-column: 1 / -1;\n",
       "  display: grid;\n",
       "  grid-template-columns: 20px auto;\n",
       "}\n",
       "\n",
       ".xr-array-wrap > label {\n",
       "  grid-column: 1;\n",
       "  vertical-align: top;\n",
       "}\n",
       "\n",
       ".xr-preview {\n",
       "  color: var(--xr-font-color3);\n",
       "}\n",
       "\n",
       ".xr-array-preview,\n",
       ".xr-array-data {\n",
       "  padding: 0 5px !important;\n",
       "  grid-column: 2;\n",
       "}\n",
       "\n",
       ".xr-array-data,\n",
       ".xr-array-in:checked ~ .xr-array-preview {\n",
       "  display: none;\n",
       "}\n",
       "\n",
       ".xr-array-in:checked ~ .xr-array-data,\n",
       ".xr-array-preview {\n",
       "  display: inline-block;\n",
       "}\n",
       "\n",
       ".xr-dim-list {\n",
       "  display: inline-block !important;\n",
       "  list-style: none;\n",
       "  padding: 0 !important;\n",
       "  margin: 0;\n",
       "}\n",
       "\n",
       ".xr-dim-list li {\n",
       "  display: inline-block;\n",
       "  padding: 0;\n",
       "  margin: 0;\n",
       "}\n",
       "\n",
       ".xr-dim-list:before {\n",
       "  content: '(';\n",
       "}\n",
       "\n",
       ".xr-dim-list:after {\n",
       "  content: ')';\n",
       "}\n",
       "\n",
       ".xr-dim-list li:not(:last-child):after {\n",
       "  content: ',';\n",
       "  padding-right: 5px;\n",
       "}\n",
       "\n",
       ".xr-has-index {\n",
       "  font-weight: bold;\n",
       "}\n",
       "\n",
       ".xr-var-list,\n",
       ".xr-var-item {\n",
       "  display: contents;\n",
       "}\n",
       "\n",
       ".xr-var-item > div,\n",
       ".xr-var-item label,\n",
       ".xr-var-item > .xr-var-name span {\n",
       "  background-color: var(--xr-background-color-row-even);\n",
       "  margin-bottom: 0;\n",
       "}\n",
       "\n",
       ".xr-var-item > .xr-var-name:hover span {\n",
       "  padding-right: 5px;\n",
       "}\n",
       "\n",
       ".xr-var-list > li:nth-child(odd) > div,\n",
       ".xr-var-list > li:nth-child(odd) > label,\n",
       ".xr-var-list > li:nth-child(odd) > .xr-var-name span {\n",
       "  background-color: var(--xr-background-color-row-odd);\n",
       "}\n",
       "\n",
       ".xr-var-name {\n",
       "  grid-column: 1;\n",
       "}\n",
       "\n",
       ".xr-var-dims {\n",
       "  grid-column: 2;\n",
       "}\n",
       "\n",
       ".xr-var-dtype {\n",
       "  grid-column: 3;\n",
       "  text-align: right;\n",
       "  color: var(--xr-font-color2);\n",
       "}\n",
       "\n",
       ".xr-var-preview {\n",
       "  grid-column: 4;\n",
       "}\n",
       "\n",
       ".xr-index-preview {\n",
       "  grid-column: 2 / 5;\n",
       "  color: var(--xr-font-color2);\n",
       "}\n",
       "\n",
       ".xr-var-name,\n",
       ".xr-var-dims,\n",
       ".xr-var-dtype,\n",
       ".xr-preview,\n",
       ".xr-attrs dt {\n",
       "  white-space: nowrap;\n",
       "  overflow: hidden;\n",
       "  text-overflow: ellipsis;\n",
       "  padding-right: 10px;\n",
       "}\n",
       "\n",
       ".xr-var-name:hover,\n",
       ".xr-var-dims:hover,\n",
       ".xr-var-dtype:hover,\n",
       ".xr-attrs dt:hover {\n",
       "  overflow: visible;\n",
       "  width: auto;\n",
       "  z-index: 1;\n",
       "}\n",
       "\n",
       ".xr-var-attrs,\n",
       ".xr-var-data,\n",
       ".xr-index-data {\n",
       "  display: none;\n",
       "  background-color: var(--xr-background-color) !important;\n",
       "  padding-bottom: 5px !important;\n",
       "}\n",
       "\n",
       ".xr-var-attrs-in:checked ~ .xr-var-attrs,\n",
       ".xr-var-data-in:checked ~ .xr-var-data,\n",
       ".xr-index-data-in:checked ~ .xr-index-data {\n",
       "  display: block;\n",
       "}\n",
       "\n",
       ".xr-var-data > table {\n",
       "  float: right;\n",
       "}\n",
       "\n",
       ".xr-var-name span,\n",
       ".xr-var-data,\n",
       ".xr-index-name div,\n",
       ".xr-index-data,\n",
       ".xr-attrs {\n",
       "  padding-left: 25px !important;\n",
       "}\n",
       "\n",
       ".xr-attrs,\n",
       ".xr-var-attrs,\n",
       ".xr-var-data,\n",
       ".xr-index-data {\n",
       "  grid-column: 1 / -1;\n",
       "}\n",
       "\n",
       "dl.xr-attrs {\n",
       "  padding: 0;\n",
       "  margin: 0;\n",
       "  display: grid;\n",
       "  grid-template-columns: 125px auto;\n",
       "}\n",
       "\n",
       ".xr-attrs dt,\n",
       ".xr-attrs dd {\n",
       "  padding: 0;\n",
       "  margin: 0;\n",
       "  float: left;\n",
       "  padding-right: 10px;\n",
       "  width: auto;\n",
       "}\n",
       "\n",
       ".xr-attrs dt {\n",
       "  font-weight: normal;\n",
       "  grid-column: 1;\n",
       "}\n",
       "\n",
       ".xr-attrs dt:hover span {\n",
       "  display: inline-block;\n",
       "  background: var(--xr-background-color);\n",
       "  padding-right: 10px;\n",
       "}\n",
       "\n",
       ".xr-attrs dd {\n",
       "  grid-column: 2;\n",
       "  white-space: pre-wrap;\n",
       "  word-break: break-all;\n",
       "}\n",
       "\n",
       ".xr-icon-database,\n",
       ".xr-icon-file-text2,\n",
       ".xr-no-icon {\n",
       "  display: inline-block;\n",
       "  vertical-align: middle;\n",
       "  width: 1em;\n",
       "  height: 1.5em !important;\n",
       "  stroke-width: 0;\n",
       "  stroke: currentColor;\n",
       "  fill: currentColor;\n",
       "}\n",
       "</style><pre class='xr-text-repr-fallback'>&lt;xarray.Dataset&gt; Size: 86kB\n",
       "Dimensions:                     (costs: 1, techs: 12, carriers: 3, nodes: 4,\n",
       "                                 timesteps: 48)\n",
       "Coordinates:\n",
       "  * costs                       (costs) object 8B &#x27;monetary&#x27;\n",
       "  * techs                       (techs) object 96B &#x27;N1_to_X2&#x27; ... &#x27;supply_gri...\n",
       "  * carriers                    (carriers) object 24B &#x27;electricity&#x27; &#x27;gas&#x27; &#x27;heat&#x27;\n",
       "  * nodes                       (nodes) object 32B &#x27;N1&#x27; &#x27;X1&#x27; &#x27;X2&#x27; &#x27;X3&#x27;\n",
       "  * timesteps                   (timesteps) datetime64[ns] 384B 2005-07-01 .....\n",
       "Data variables: (12/34)\n",
       "    cost_interest_rate          (costs) float64 8B 0.1\n",
       "    bigM                        float64 8B 1e+06\n",
       "    objective_cost_weights      (costs) float64 8B 1.0\n",
       "    base_tech                   (techs) object 96B &#x27;transmission&#x27; ... &#x27;supply&#x27;\n",
       "    carrier_export              (techs, carriers) bool 36B False False ... False\n",
       "    carrier_in                  (nodes, techs, carriers) bool 144B False ... ...\n",
       "    ...                          ...\n",
       "    longitude                   (nodes) float64 32B -0.1247 -0.1613 ... -0.1311\n",
       "    source_use_equals           (techs, timesteps) float64 5kB nan nan ... nan\n",
       "    sink_use_equals             (timesteps, techs, nodes) float64 18kB nan .....\n",
       "    definition_matrix           (nodes, techs, carriers) bool 144B False ... ...\n",
       "    timestep_resolution         (timesteps) float64 384B 1.0 1.0 1.0 ... 1.0 1.0\n",
       "    timestep_weights            (timesteps) float64 384B 1.0 1.0 1.0 ... 1.0 1.0</pre><div class='xr-wrap' style='display:none'><div class='xr-header'><div class='xr-obj-type'>xarray.Dataset</div></div><ul class='xr-sections'><li class='xr-section-item'><input id='section-53be6bf7-bd60-47bf-9224-83158838e580' class='xr-section-summary-in' type='checkbox' disabled ><label for='section-53be6bf7-bd60-47bf-9224-83158838e580' class='xr-section-summary'  title='Expand/collapse section'>Dimensions:</label><div class='xr-section-inline-details'><ul class='xr-dim-list'><li><span class='xr-has-index'>costs</span>: 1</li><li><span class='xr-has-index'>techs</span>: 12</li><li><span class='xr-has-index'>carriers</span>: 3</li><li><span class='xr-has-index'>nodes</span>: 4</li><li><span class='xr-has-index'>timesteps</span>: 48</li></ul></div><div class='xr-section-details'></div></li><li class='xr-section-item'><input id='section-fdca6fc7-67c8-4b35-a648-b9c11538a952' class='xr-section-summary-in' type='checkbox'  checked><label for='section-fdca6fc7-67c8-4b35-a648-b9c11538a952' class='xr-section-summary' >Coordinates: <span>(5)</span></label><div class='xr-section-inline-details'></div><div class='xr-section-details'><ul class='xr-var-list'><li class='xr-var-item'><div class='xr-var-name'><span class='xr-has-index'>costs</span></div><div class='xr-var-dims'>(costs)</div><div class='xr-var-dtype'>object</div><div class='xr-var-preview xr-preview'>&#x27;monetary&#x27;</div><input id='attrs-6c864d2a-d656-49a7-b314-92ee0240d0b2' class='xr-var-attrs-in' type='checkbox' disabled><label for='attrs-6c864d2a-d656-49a7-b314-92ee0240d0b2' title='Show/Hide attributes'><svg class='icon xr-icon-file-text2'><use xlink:href='#icon-file-text2'></use></svg></label><input id='data-a7eda8dd-e1fc-4529-a626-c9dfbce3c7eb' class='xr-var-data-in' type='checkbox'><label for='data-a7eda8dd-e1fc-4529-a626-c9dfbce3c7eb' title='Show/Hide data repr'><svg class='icon xr-icon-database'><use xlink:href='#icon-database'></use></svg></label><div class='xr-var-attrs'><dl class='xr-attrs'></dl></div><div class='xr-var-data'><pre>array([&#x27;monetary&#x27;], dtype=object)</pre></div></li><li class='xr-var-item'><div class='xr-var-name'><span class='xr-has-index'>techs</span></div><div class='xr-var-dims'>(techs)</div><div class='xr-var-dtype'>object</div><div class='xr-var-preview xr-preview'>&#x27;N1_to_X2&#x27; ... &#x27;supply_grid_power&#x27;</div><input id='attrs-4cd95a31-caf4-45e0-9b20-de7e0c175061' class='xr-var-attrs-in' type='checkbox' disabled><label for='attrs-4cd95a31-caf4-45e0-9b20-de7e0c175061' title='Show/Hide attributes'><svg class='icon xr-icon-file-text2'><use xlink:href='#icon-file-text2'></use></svg></label><input id='data-10996935-bae0-4fc5-97b6-50fe2d9ff520' class='xr-var-data-in' type='checkbox'><label for='data-10996935-bae0-4fc5-97b6-50fe2d9ff520' title='Show/Hide data repr'><svg class='icon xr-icon-database'><use xlink:href='#icon-database'></use></svg></label><div class='xr-var-attrs'><dl class='xr-attrs'></dl></div><div class='xr-var-data'><pre>array([&#x27;N1_to_X2&#x27;, &#x27;N1_to_X3&#x27;, &#x27;X1_to_N1&#x27;, &#x27;X1_to_X2&#x27;, &#x27;X1_to_X3&#x27;, &#x27;boiler&#x27;,\n",
       "       &#x27;chp&#x27;, &#x27;demand_electricity&#x27;, &#x27;demand_heat&#x27;, &#x27;pv&#x27;, &#x27;supply_gas&#x27;,\n",
       "       &#x27;supply_grid_power&#x27;], dtype=object)</pre></div></li><li class='xr-var-item'><div class='xr-var-name'><span class='xr-has-index'>carriers</span></div><div class='xr-var-dims'>(carriers)</div><div class='xr-var-dtype'>object</div><div class='xr-var-preview xr-preview'>&#x27;electricity&#x27; &#x27;gas&#x27; &#x27;heat&#x27;</div><input id='attrs-ca6e802a-27f7-4c44-89d0-99aee4f899a8' class='xr-var-attrs-in' type='checkbox' disabled><label for='attrs-ca6e802a-27f7-4c44-89d0-99aee4f899a8' title='Show/Hide attributes'><svg class='icon xr-icon-file-text2'><use xlink:href='#icon-file-text2'></use></svg></label><input id='data-cded1ad5-e963-4164-b863-d859a36521dc' class='xr-var-data-in' type='checkbox'><label for='data-cded1ad5-e963-4164-b863-d859a36521dc' title='Show/Hide data repr'><svg class='icon xr-icon-database'><use xlink:href='#icon-database'></use></svg></label><div class='xr-var-attrs'><dl class='xr-attrs'></dl></div><div class='xr-var-data'><pre>array([&#x27;electricity&#x27;, &#x27;gas&#x27;, &#x27;heat&#x27;], dtype=object)</pre></div></li><li class='xr-var-item'><div class='xr-var-name'><span class='xr-has-index'>nodes</span></div><div class='xr-var-dims'>(nodes)</div><div class='xr-var-dtype'>object</div><div class='xr-var-preview xr-preview'>&#x27;N1&#x27; &#x27;X1&#x27; &#x27;X2&#x27; &#x27;X3&#x27;</div><input id='attrs-bd698041-4648-4eac-8cb9-84658f4e276b' class='xr-var-attrs-in' type='checkbox' disabled><label for='attrs-bd698041-4648-4eac-8cb9-84658f4e276b' title='Show/Hide attributes'><svg class='icon xr-icon-file-text2'><use xlink:href='#icon-file-text2'></use></svg></label><input id='data-f9ec97db-f065-45ab-82c8-f058f35b312d' class='xr-var-data-in' type='checkbox'><label for='data-f9ec97db-f065-45ab-82c8-f058f35b312d' title='Show/Hide data repr'><svg class='icon xr-icon-database'><use xlink:href='#icon-database'></use></svg></label><div class='xr-var-attrs'><dl class='xr-attrs'></dl></div><div class='xr-var-data'><pre>array([&#x27;N1&#x27;, &#x27;X1&#x27;, &#x27;X2&#x27;, &#x27;X3&#x27;], dtype=object)</pre></div></li><li class='xr-var-item'><div class='xr-var-name'><span class='xr-has-index'>timesteps</span></div><div class='xr-var-dims'>(timesteps)</div><div class='xr-var-dtype'>datetime64[ns]</div><div class='xr-var-preview xr-preview'>2005-07-01 ... 2005-07-02T23:00:00</div><input id='attrs-1dfaccf7-307c-440f-af4b-0b02192f6721' class='xr-var-attrs-in' type='checkbox' disabled><label for='attrs-1dfaccf7-307c-440f-af4b-0b02192f6721' title='Show/Hide attributes'><svg class='icon xr-icon-file-text2'><use xlink:href='#icon-file-text2'></use></svg></label><input id='data-7dfd10d7-818f-4005-8d22-8d19bd6ff82b' class='xr-var-data-in' type='checkbox'><label for='data-7dfd10d7-818f-4005-8d22-8d19bd6ff82b' title='Show/Hide data repr'><svg class='icon xr-icon-database'><use xlink:href='#icon-database'></use></svg></label><div class='xr-var-attrs'><dl class='xr-attrs'></dl></div><div class='xr-var-data'><pre>array([&#x27;2005-07-01T00:00:00.000000000&#x27;, &#x27;2005-07-01T01:00:00.000000000&#x27;,\n",
       "       &#x27;2005-07-01T02:00:00.000000000&#x27;, &#x27;2005-07-01T03:00:00.000000000&#x27;,\n",
       "       &#x27;2005-07-01T04:00:00.000000000&#x27;, &#x27;2005-07-01T05:00:00.000000000&#x27;,\n",
       "       &#x27;2005-07-01T06:00:00.000000000&#x27;, &#x27;2005-07-01T07:00:00.000000000&#x27;,\n",
       "       &#x27;2005-07-01T08:00:00.000000000&#x27;, &#x27;2005-07-01T09:00:00.000000000&#x27;,\n",
       "       &#x27;2005-07-01T10:00:00.000000000&#x27;, &#x27;2005-07-01T11:00:00.000000000&#x27;,\n",
       "       &#x27;2005-07-01T12:00:00.000000000&#x27;, &#x27;2005-07-01T13:00:00.000000000&#x27;,\n",
       "       &#x27;2005-07-01T14:00:00.000000000&#x27;, &#x27;2005-07-01T15:00:00.000000000&#x27;,\n",
       "       &#x27;2005-07-01T16:00:00.000000000&#x27;, &#x27;2005-07-01T17:00:00.000000000&#x27;,\n",
       "       &#x27;2005-07-01T18:00:00.000000000&#x27;, &#x27;2005-07-01T19:00:00.000000000&#x27;,\n",
       "       &#x27;2005-07-01T20:00:00.000000000&#x27;, &#x27;2005-07-01T21:00:00.000000000&#x27;,\n",
       "       &#x27;2005-07-01T22:00:00.000000000&#x27;, &#x27;2005-07-01T23:00:00.000000000&#x27;,\n",
       "       &#x27;2005-07-02T00:00:00.000000000&#x27;, &#x27;2005-07-02T01:00:00.000000000&#x27;,\n",
       "       &#x27;2005-07-02T02:00:00.000000000&#x27;, &#x27;2005-07-02T03:00:00.000000000&#x27;,\n",
       "       &#x27;2005-07-02T04:00:00.000000000&#x27;, &#x27;2005-07-02T05:00:00.000000000&#x27;,\n",
       "       &#x27;2005-07-02T06:00:00.000000000&#x27;, &#x27;2005-07-02T07:00:00.000000000&#x27;,\n",
       "       &#x27;2005-07-02T08:00:00.000000000&#x27;, &#x27;2005-07-02T09:00:00.000000000&#x27;,\n",
       "       &#x27;2005-07-02T10:00:00.000000000&#x27;, &#x27;2005-07-02T11:00:00.000000000&#x27;,\n",
       "       &#x27;2005-07-02T12:00:00.000000000&#x27;, &#x27;2005-07-02T13:00:00.000000000&#x27;,\n",
       "       &#x27;2005-07-02T14:00:00.000000000&#x27;, &#x27;2005-07-02T15:00:00.000000000&#x27;,\n",
       "       &#x27;2005-07-02T16:00:00.000000000&#x27;, &#x27;2005-07-02T17:00:00.000000000&#x27;,\n",
       "       &#x27;2005-07-02T18:00:00.000000000&#x27;, &#x27;2005-07-02T19:00:00.000000000&#x27;,\n",
       "       &#x27;2005-07-02T20:00:00.000000000&#x27;, &#x27;2005-07-02T21:00:00.000000000&#x27;,\n",
       "       &#x27;2005-07-02T22:00:00.000000000&#x27;, &#x27;2005-07-02T23:00:00.000000000&#x27;],\n",
       "      dtype=&#x27;datetime64[ns]&#x27;)</pre></div></li></ul></div></li><li class='xr-section-item'><input id='section-f721cbf4-a742-49ed-9588-adbf210b5054' class='xr-section-summary-in' type='checkbox'  ><label for='section-f721cbf4-a742-49ed-9588-adbf210b5054' class='xr-section-summary' >Data variables: <span>(34)</span></label><div class='xr-section-inline-details'></div><div class='xr-section-details'><ul class='xr-var-list'><li class='xr-var-item'><div class='xr-var-name'><span>cost_interest_rate</span></div><div class='xr-var-dims'>(costs)</div><div class='xr-var-dtype'>float64</div><div class='xr-var-preview xr-preview'>0.1</div><input id='attrs-a13b685f-cf07-4724-b154-a64542ff5480' class='xr-var-attrs-in' type='checkbox' ><label for='attrs-a13b685f-cf07-4724-b154-a64542ff5480' title='Show/Hide attributes'><svg class='icon xr-icon-file-text2'><use xlink:href='#icon-file-text2'></use></svg></label><input id='data-11067d90-7aa6-49a9-8132-b77a0043301b' class='xr-var-data-in' type='checkbox'><label for='data-11067d90-7aa6-49a9-8132-b77a0043301b' title='Show/Hide data repr'><svg class='icon xr-icon-database'><use xlink:href='#icon-database'></use></svg></label><div class='xr-var-attrs'><dl class='xr-attrs'><dt><span>title :</span></dt><dd>Interest rate.</dd><dt><span>description :</span></dt><dd>Used when computing levelized costs and technology depreciation_rate (relative to lifetime).</dd><dt><span>default :</span></dt><dd>0</dd><dt><span>resample_method :</span></dt><dd>first</dd><dt><span>unit :</span></dt><dd>unitless</dd></dl></div><div class='xr-var-data'><pre>array([0.1])</pre></div></li><li class='xr-var-item'><div class='xr-var-name'><span>bigM</span></div><div class='xr-var-dims'>()</div><div class='xr-var-dtype'>float64</div><div class='xr-var-preview xr-preview'>1e+06</div><input id='attrs-045873a8-46ad-4973-b9ee-29264f3b80ed' class='xr-var-attrs-in' type='checkbox' ><label for='attrs-045873a8-46ad-4973-b9ee-29264f3b80ed' title='Show/Hide attributes'><svg class='icon xr-icon-file-text2'><use xlink:href='#icon-file-text2'></use></svg></label><input id='data-32ebf901-8ecd-47a4-a887-36eeaee29c73' class='xr-var-data-in' type='checkbox'><label for='data-32ebf901-8ecd-47a4-a887-36eeaee29c73' title='Show/Hide data repr'><svg class='icon xr-icon-database'><use xlink:href='#icon-database'></use></svg></label><div class='xr-var-attrs'><dl class='xr-attrs'><dt><span>title :</span></dt><dd>Big M</dd><dt><span>description :</span></dt><dd>BigM is a large value used to define certain optimisation problems. See https://en.wikipedia.org/wiki/Big_M_method for more information. This value should be larger than the largest values that any decision variables can take, but should not be **too** large (i.e., do not set it greater than 3 orders of magnitude above the numeric range of the model). If too large, numerical problems may arise in the optimisation.</dd><dt><span>default :</span></dt><dd>1000000.0</dd><dt><span>resample_method :</span></dt><dd>first</dd><dt><span>unit :</span></dt><dd>unitless</dd></dl></div><div class='xr-var-data'><pre>array(1000000.)</pre></div></li><li class='xr-var-item'><div class='xr-var-name'><span>objective_cost_weights</span></div><div class='xr-var-dims'>(costs)</div><div class='xr-var-dtype'>float64</div><div class='xr-var-preview xr-preview'>1.0</div><input id='attrs-cd61b6e6-3c18-47ef-8f6f-535d5b675af6' class='xr-var-attrs-in' type='checkbox' ><label for='attrs-cd61b6e6-3c18-47ef-8f6f-535d5b675af6' title='Show/Hide attributes'><svg class='icon xr-icon-file-text2'><use xlink:href='#icon-file-text2'></use></svg></label><input id='data-6ece8c98-33b0-4d28-ab72-85605475e7a3' class='xr-var-data-in' type='checkbox'><label for='data-6ece8c98-33b0-4d28-ab72-85605475e7a3' title='Show/Hide data repr'><svg class='icon xr-icon-database'><use xlink:href='#icon-database'></use></svg></label><div class='xr-var-attrs'><dl class='xr-attrs'><dt><span>title :</span></dt><dd>Objective cost class weights.</dd><dt><span>description :</span></dt><dd>Weightings for cost classes to apply in the objective function.</dd><dt><span>default :</span></dt><dd>1</dd><dt><span>resample_method :</span></dt><dd>first</dd><dt><span>unit :</span></dt><dd>unitless</dd></dl></div><div class='xr-var-data'><pre>array([1.])</pre></div></li><li class='xr-var-item'><div class='xr-var-name'><span>base_tech</span></div><div class='xr-var-dims'>(techs)</div><div class='xr-var-dtype'>object</div><div class='xr-var-preview xr-preview'>&#x27;transmission&#x27; ... &#x27;supply&#x27;</div><input id='attrs-c078095b-96bb-49ea-99c5-d5e102eb2088' class='xr-var-attrs-in' type='checkbox' ><label for='attrs-c078095b-96bb-49ea-99c5-d5e102eb2088' title='Show/Hide attributes'><svg class='icon xr-icon-file-text2'><use xlink:href='#icon-file-text2'></use></svg></label><input id='data-d5bc00b4-3769-485a-8d3a-61d546c1c6da' class='xr-var-data-in' type='checkbox'><label for='data-d5bc00b4-3769-485a-8d3a-61d546c1c6da' title='Show/Hide data repr'><svg class='icon xr-icon-database'><use xlink:href='#icon-database'></use></svg></label><div class='xr-var-attrs'><dl class='xr-attrs'><dt><span>title :</span></dt><dd>Abstract base technology name.</dd><dt><span>description :</span></dt><dd>Should be the name of one of the abstract base classes, from which some initial parameter defaults will be derived and with which certain base math will be triggered.</dd><dt><span>default :</span></dt><dd>nan</dd><dt><span>dtype :</span></dt><dd>string</dd><dt><span>resample_method :</span></dt><dd>first</dd><dt><span>one_of :</span></dt><dd>[&#x27;demand&#x27;, &#x27;supply&#x27;, &#x27;conversion&#x27;, &#x27;storage&#x27;, &#x27;transmission&#x27;]</dd><dt><span>pivot_values_to_dim :</span></dt><dd>None</dd></dl></div><div class='xr-var-data'><pre>array([&#x27;transmission&#x27;, &#x27;transmission&#x27;, &#x27;transmission&#x27;, &#x27;transmission&#x27;,\n",
       "       &#x27;transmission&#x27;, &#x27;conversion&#x27;, &#x27;conversion&#x27;, &#x27;demand&#x27;, &#x27;demand&#x27;,\n",
       "       &#x27;supply&#x27;, &#x27;supply&#x27;, &#x27;supply&#x27;], dtype=object)</pre></div></li><li class='xr-var-item'><div class='xr-var-name'><span>carrier_export</span></div><div class='xr-var-dims'>(techs, carriers)</div><div class='xr-var-dtype'>bool</div><div class='xr-var-preview xr-preview'>False False False ... False False</div><input id='attrs-41b5e1d5-39e5-4394-9b4d-d0d7d6d624d1' class='xr-var-attrs-in' type='checkbox' ><label for='attrs-41b5e1d5-39e5-4394-9b4d-d0d7d6d624d1' title='Show/Hide attributes'><svg class='icon xr-icon-file-text2'><use xlink:href='#icon-file-text2'></use></svg></label><input id='data-37916906-f031-4e71-afa3-35c424d3a584' class='xr-var-data-in' type='checkbox'><label for='data-37916906-f031-4e71-afa3-35c424d3a584' title='Show/Hide data repr'><svg class='icon xr-icon-database'><use xlink:href='#icon-database'></use></svg></label><div class='xr-var-attrs'><dl class='xr-attrs'><dt><span>title :</span></dt><dd></dd><dt><span>description :</span></dt><dd>Carrier(s) produced by this technology that can be exported out of the system boundaries without having to go to a pre-defined `sink` (i.e., via a `demand` technology). Must be a subset of `carrier_out`.</dd><dt><span>default :</span></dt><dd>False</dd><dt><span>dtype :</span></dt><dd>bool</dd><dt><span>resample_method :</span></dt><dd>first</dd><dt><span>one_of :</span></dt><dd>None</dd><dt><span>pivot_values_to_dim :</span></dt><dd>carriers</dd></dl></div><div class='xr-var-data'><pre>array([[False, False, False],\n",
       "       [False, False, False],\n",
       "       [False, False, False],\n",
       "       [False, False, False],\n",
       "       [False, False, False],\n",
       "       [False, False, False],\n",
       "       [ True, False, False],\n",
       "       [False, False, False],\n",
       "       [False, False, False],\n",
       "       [ True, False, False],\n",
       "       [False, False, False],\n",
       "       [False, False, False]])</pre></div></li><li class='xr-var-item'><div class='xr-var-name'><span>carrier_in</span></div><div class='xr-var-dims'>(nodes, techs, carriers)</div><div class='xr-var-dtype'>bool</div><div class='xr-var-preview xr-preview'>False False True ... False False</div><input id='attrs-f5b51918-417f-4362-bb5e-3a1209e81f1c' class='xr-var-attrs-in' type='checkbox' ><label for='attrs-f5b51918-417f-4362-bb5e-3a1209e81f1c' title='Show/Hide attributes'><svg class='icon xr-icon-file-text2'><use xlink:href='#icon-file-text2'></use></svg></label><input id='data-6724b068-77ed-40fc-8c27-e2c23c95c0c6' class='xr-var-data-in' type='checkbox'><label for='data-6724b068-77ed-40fc-8c27-e2c23c95c0c6' title='Show/Hide data repr'><svg class='icon xr-icon-database'><use xlink:href='#icon-database'></use></svg></label><div class='xr-var-attrs'><dl class='xr-attrs'><dt><span>title :</span></dt><dd></dd><dt><span>description :</span></dt><dd>Carrier(s) consumed by this technology. Only `transmission`, `conversion`, `storage`, and `demand` technologies can define this parameter</dd><dt><span>default :</span></dt><dd>False</dd><dt><span>dtype :</span></dt><dd>bool</dd><dt><span>resample_method :</span></dt><dd>first</dd><dt><span>one_of :</span></dt><dd>None</dd><dt><span>pivot_values_to_dim :</span></dt><dd>carriers</dd></dl></div><div class='xr-var-data'><pre>array([[[False, False,  True],\n",
       "        [False, False,  True],\n",
       "        [False, False,  True],\n",
       "        [False, False, False],\n",
       "        [False, False, False],\n",
       "        [False, False, False],\n",
       "        [False, False, False],\n",
       "        [False, False, False],\n",
       "        [False, False, False],\n",
       "        [False, False, False],\n",
       "        [False, False, False],\n",
       "        [False, False, False]],\n",
       "\n",
       "       [[False, False, False],\n",
       "        [False, False, False],\n",
       "        [False, False,  True],\n",
       "        [ True, False, False],\n",
       "        [ True, False, False],\n",
       "        [False, False, False],\n",
       "        [False,  True, False],\n",
       "...\n",
       "        [False,  True, False],\n",
       "        [False, False, False],\n",
       "        [ True, False, False],\n",
       "        [False, False,  True],\n",
       "        [False, False, False],\n",
       "        [False, False, False],\n",
       "        [False, False, False]],\n",
       "\n",
       "       [[False, False, False],\n",
       "        [False, False,  True],\n",
       "        [False, False, False],\n",
       "        [False, False, False],\n",
       "        [ True, False, False],\n",
       "        [False,  True, False],\n",
       "        [False, False, False],\n",
       "        [ True, False, False],\n",
       "        [False, False,  True],\n",
       "        [False, False, False],\n",
       "        [False, False, False],\n",
       "        [False, False, False]]])</pre></div></li><li class='xr-var-item'><div class='xr-var-name'><span>carrier_out</span></div><div class='xr-var-dims'>(nodes, techs, carriers)</div><div class='xr-var-dtype'>bool</div><div class='xr-var-preview xr-preview'>False False True ... False False</div><input id='attrs-82e31c90-78cc-48c7-9de8-ec475c819b65' class='xr-var-attrs-in' type='checkbox' ><label for='attrs-82e31c90-78cc-48c7-9de8-ec475c819b65' title='Show/Hide attributes'><svg class='icon xr-icon-file-text2'><use xlink:href='#icon-file-text2'></use></svg></label><input id='data-a940e8d9-ecb8-4b1b-b685-b2269dd09d00' class='xr-var-data-in' type='checkbox'><label for='data-a940e8d9-ecb8-4b1b-b685-b2269dd09d00' title='Show/Hide data repr'><svg class='icon xr-icon-database'><use xlink:href='#icon-database'></use></svg></label><div class='xr-var-attrs'><dl class='xr-attrs'><dt><span>title :</span></dt><dd></dd><dt><span>description :</span></dt><dd>Carrier(s) produced by this technology. Only `transmission`, `conversion`, `storage`, and `supply` technologies can define this parameter</dd><dt><span>default :</span></dt><dd>False</dd><dt><span>dtype :</span></dt><dd>bool</dd><dt><span>resample_method :</span></dt><dd>first</dd><dt><span>one_of :</span></dt><dd>None</dd><dt><span>pivot_values_to_dim :</span></dt><dd>carriers</dd></dl></div><div class='xr-var-data'><pre>array([[[False, False,  True],\n",
       "        [False, False,  True],\n",
       "        [False, False,  True],\n",
       "        [False, False, False],\n",
       "        [False, False, False],\n",
       "        [False, False, False],\n",
       "        [False, False, False],\n",
       "        [False, False, False],\n",
       "        [False, False, False],\n",
       "        [False, False, False],\n",
       "        [False, False, False],\n",
       "        [False, False, False]],\n",
       "\n",
       "       [[False, False, False],\n",
       "        [False, False, False],\n",
       "        [False, False,  True],\n",
       "        [ True, False, False],\n",
       "        [ True, False, False],\n",
       "        [False, False, False],\n",
       "        [ True, False,  True],\n",
       "...\n",
       "        [False, False,  True],\n",
       "        [False, False, False],\n",
       "        [False, False, False],\n",
       "        [False, False, False],\n",
       "        [ True, False, False],\n",
       "        [False,  True, False],\n",
       "        [False, False, False]],\n",
       "\n",
       "       [[False, False, False],\n",
       "        [False, False,  True],\n",
       "        [False, False, False],\n",
       "        [False, False, False],\n",
       "        [ True, False, False],\n",
       "        [False, False,  True],\n",
       "        [False, False, False],\n",
       "        [False, False, False],\n",
       "        [False, False, False],\n",
       "        [ True, False, False],\n",
       "        [False,  True, False],\n",
       "        [False, False, False]]])</pre></div></li><li class='xr-var-item'><div class='xr-var-name'><span>color</span></div><div class='xr-var-dims'>(techs)</div><div class='xr-var-dtype'>object</div><div class='xr-var-preview xr-preview'>&#x27;#823739&#x27; &#x27;#823739&#x27; ... &#x27;#C5ABE3&#x27;</div><input id='attrs-d78a292c-2b99-44e2-bfd0-23fe07ef145d' class='xr-var-attrs-in' type='checkbox' disabled><label for='attrs-d78a292c-2b99-44e2-bfd0-23fe07ef145d' title='Show/Hide attributes'><svg class='icon xr-icon-file-text2'><use xlink:href='#icon-file-text2'></use></svg></label><input id='data-b43c555a-6cbd-4da1-846b-0998f9abf8e6' class='xr-var-data-in' type='checkbox'><label for='data-b43c555a-6cbd-4da1-846b-0998f9abf8e6' title='Show/Hide data repr'><svg class='icon xr-icon-database'><use xlink:href='#icon-database'></use></svg></label><div class='xr-var-attrs'><dl class='xr-attrs'></dl></div><div class='xr-var-data'><pre>array([&#x27;#823739&#x27;, &#x27;#823739&#x27;, &#x27;#823739&#x27;, &#x27;#6783E3&#x27;, &#x27;#6783E3&#x27;, &#x27;#8E2999&#x27;,\n",
       "       &#x27;#E4AB97&#x27;, &#x27;#072486&#x27;, &#x27;#660507&#x27;, &#x27;#F9D956&#x27;, &#x27;#C98AAD&#x27;, &#x27;#C5ABE3&#x27;],\n",
       "      dtype=object)</pre></div></li><li class='xr-var-item'><div class='xr-var-name'><span>cost_flow_cap</span></div><div class='xr-var-dims'>(nodes, techs, costs, carriers)</div><div class='xr-var-dtype'>float64</div><div class='xr-var-preview xr-preview'>nan nan nan nan ... nan nan nan nan</div><input id='attrs-03cdd4bb-58f5-4124-bfe2-4ab399814244' class='xr-var-attrs-in' type='checkbox' ><label for='attrs-03cdd4bb-58f5-4124-bfe2-4ab399814244' title='Show/Hide attributes'><svg class='icon xr-icon-file-text2'><use xlink:href='#icon-file-text2'></use></svg></label><input id='data-0cdffe22-a9c3-447f-a630-4c1b744b59f9' class='xr-var-data-in' type='checkbox'><label for='data-0cdffe22-a9c3-447f-a630-4c1b744b59f9' title='Show/Hide data repr'><svg class='icon xr-icon-database'><use xlink:href='#icon-database'></use></svg></label><div class='xr-var-attrs'><dl class='xr-attrs'><dt><span>title :</span></dt><dd>Cost of flow capacity.</dd><dt><span>description :</span></dt><dd>Cost per unit of the decision variable `flow_cap`.</dd><dt><span>default :</span></dt><dd>0</dd><dt><span>resample_method :</span></dt><dd>first</dd><dt><span>unit :</span></dt><dd>$\\frac{\\{cost}}{\\text{power}}$</dd></dl></div><div class='xr-var-data'><pre>array([[[[     nan,      nan,      nan]],\n",
       "\n",
       "        [[     nan,      nan,      nan]],\n",
       "\n",
       "        [[     nan,      nan,      nan]],\n",
       "\n",
       "        [[     nan,      nan,      nan]],\n",
       "\n",
       "        [[     nan,      nan,      nan]],\n",
       "\n",
       "        [[     nan,      nan,      nan]],\n",
       "\n",
       "        [[     nan,      nan,      nan]],\n",
       "\n",
       "        [[     nan,      nan,      nan]],\n",
       "\n",
       "        [[     nan,      nan,      nan]],\n",
       "\n",
       "        [[     nan,      nan,      nan]],\n",
       "\n",
       "...\n",
       "\n",
       "        [[     nan,      nan,      nan]],\n",
       "\n",
       "        [[     nan,      nan,      nan]],\n",
       "\n",
       "        [[     nan,      nan,      nan]],\n",
       "\n",
       "        [[     nan,      nan, 7.80e+01]],\n",
       "\n",
       "        [[     nan,      nan,      nan]],\n",
       "\n",
       "        [[     nan,      nan,      nan]],\n",
       "\n",
       "        [[     nan,      nan,      nan]],\n",
       "\n",
       "        [[1.35e+03,      nan,      nan]],\n",
       "\n",
       "        [[     nan, 1.00e+00,      nan]],\n",
       "\n",
       "        [[     nan,      nan,      nan]]]])</pre></div></li><li class='xr-var-item'><div class='xr-var-name'><span>cost_flow_out</span></div><div class='xr-var-dims'>(techs, costs, carriers, nodes)</div><div class='xr-var-dtype'>float64</div><div class='xr-var-preview xr-preview'>nan nan nan nan ... nan nan nan nan</div><input id='attrs-c6919454-da10-42b1-8dd2-2d71444200d3' class='xr-var-attrs-in' type='checkbox' ><label for='attrs-c6919454-da10-42b1-8dd2-2d71444200d3' title='Show/Hide attributes'><svg class='icon xr-icon-file-text2'><use xlink:href='#icon-file-text2'></use></svg></label><input id='data-9b112a20-26bc-4842-b6e9-0cb953253d58' class='xr-var-data-in' type='checkbox'><label for='data-9b112a20-26bc-4842-b6e9-0cb953253d58' title='Show/Hide data repr'><svg class='icon xr-icon-database'><use xlink:href='#icon-database'></use></svg></label><div class='xr-var-attrs'><dl class='xr-attrs'><dt><span>title :</span></dt><dd>Carrier outflow cost</dd><dt><span>description :</span></dt><dd>Cost per unit of `flow_out` in each timestep.</dd><dt><span>default :</span></dt><dd>0</dd><dt><span>resample_method :</span></dt><dd>mean</dd><dt><span>unit :</span></dt><dd>$\\frac{\\{cost}}{\\text{energy}}$</dd></dl></div><div class='xr-var-data'><pre>array([[[[    nan,     nan,     nan,     nan],\n",
       "         [    nan,     nan,     nan,     nan],\n",
       "         [    nan,     nan,     nan,     nan]]],\n",
       "\n",
       "\n",
       "       [[[    nan,     nan,     nan,     nan],\n",
       "         [    nan,     nan,     nan,     nan],\n",
       "         [    nan,     nan,     nan,     nan]]],\n",
       "\n",
       "\n",
       "       [[[    nan,     nan,     nan,     nan],\n",
       "         [    nan,     nan,     nan,     nan],\n",
       "         [    nan,     nan,     nan,     nan]]],\n",
       "\n",
       "\n",
       "       [[[    nan,     nan,     nan,     nan],\n",
       "         [    nan,     nan,     nan,     nan],\n",
       "         [    nan,     nan,     nan,     nan]]],\n",
       "\n",
       "\n",
       "...\n",
       "\n",
       "\n",
       "       [[[    nan,     nan,     nan,     nan],\n",
       "         [    nan,     nan,     nan,     nan],\n",
       "         [    nan,     nan,     nan,     nan]]],\n",
       "\n",
       "\n",
       "       [[[    nan,     nan, -0.0203,     nan],\n",
       "         [    nan,     nan,     nan,     nan],\n",
       "         [    nan,     nan,     nan,     nan]]],\n",
       "\n",
       "\n",
       "       [[[    nan,     nan,     nan,     nan],\n",
       "         [    nan,     nan,     nan,     nan],\n",
       "         [    nan,     nan,     nan,     nan]]],\n",
       "\n",
       "\n",
       "       [[[    nan,     nan,     nan,     nan],\n",
       "         [    nan,     nan,     nan,     nan],\n",
       "         [    nan,     nan,     nan,     nan]]]])</pre></div></li><li class='xr-var-item'><div class='xr-var-name'><span>flow_cap_max</span></div><div class='xr-var-dims'>(techs, carriers, nodes)</div><div class='xr-var-dtype'>float64</div><div class='xr-var-preview xr-preview'>nan nan nan nan ... nan nan nan nan</div><input id='attrs-d5c3feec-b0b0-44a4-9d3d-bab141ec1b2e' class='xr-var-attrs-in' type='checkbox' ><label for='attrs-d5c3feec-b0b0-44a4-9d3d-bab141ec1b2e' title='Show/Hide attributes'><svg class='icon xr-icon-file-text2'><use xlink:href='#icon-file-text2'></use></svg></label><input id='data-48931cec-d479-4ce1-b748-a9f8ef0baec8' class='xr-var-data-in' type='checkbox'><label for='data-48931cec-d479-4ce1-b748-a9f8ef0baec8' title='Show/Hide data repr'><svg class='icon xr-icon-database'><use xlink:href='#icon-database'></use></svg></label><div class='xr-var-attrs'><dl class='xr-attrs'><dt><span>title :</span></dt><dd>Maximum rated flow capacity.</dd><dt><span>description :</span></dt><dd>Limits `flow_cap` to a maximum.</dd><dt><span>default :</span></dt><dd>inf</dd><dt><span>resample_method :</span></dt><dd>first</dd><dt><span>unit :</span></dt><dd>power.</dd></dl></div><div class='xr-var-data'><pre>array([[[  nan,   nan,   nan,   nan],\n",
       "        [  nan,   nan,   nan,   nan],\n",
       "        [2000.,   nan, 2000.,   nan]],\n",
       "\n",
       "       [[  nan,   nan,   nan,   nan],\n",
       "        [  nan,   nan,   nan,   nan],\n",
       "        [2000.,   nan,   nan, 2000.]],\n",
       "\n",
       "       [[  nan,   nan,   nan,   nan],\n",
       "        [  nan,   nan,   nan,   nan],\n",
       "        [2000., 2000.,   nan,   nan]],\n",
       "\n",
       "       [[  nan, 2000., 2000.,   nan],\n",
       "        [  nan,   nan,   nan,   nan],\n",
       "        [  nan,   nan,   nan,   nan]],\n",
       "\n",
       "       [[  nan, 2000.,   nan, 2000.],\n",
       "        [  nan,   nan,   nan,   nan],\n",
       "        [  nan,   nan,   nan,   nan]],\n",
       "\n",
       "...\n",
       "\n",
       "       [[  nan,   nan,   nan,   nan],\n",
       "        [  nan,   nan,   nan,   nan],\n",
       "        [  nan,   nan,   nan,   nan]],\n",
       "\n",
       "       [[  nan,   nan,   nan,   nan],\n",
       "        [  nan,   nan,   nan,   nan],\n",
       "        [  nan,   nan,   nan,   nan]],\n",
       "\n",
       "       [[  nan,  250.,  250.,   50.],\n",
       "        [  nan,   nan,   nan,   nan],\n",
       "        [  nan,   nan,   nan,   nan]],\n",
       "\n",
       "       [[  nan,   nan,   nan,   nan],\n",
       "        [  nan, 2000., 2000., 2000.],\n",
       "        [  nan,   nan,   nan,   nan]],\n",
       "\n",
       "       [[  nan, 2000.,   nan,   nan],\n",
       "        [  nan,   nan,   nan,   nan],\n",
       "        [  nan,   nan,   nan,   nan]]])</pre></div></li><li class='xr-var-item'><div class='xr-var-name'><span>flow_out_eff</span></div><div class='xr-var-dims'>(techs, carriers)</div><div class='xr-var-dtype'>float64</div><div class='xr-var-preview xr-preview'>nan nan nan nan ... nan nan nan nan</div><input id='attrs-5f48be08-f5af-49e8-a906-e649f4c0f6b8' class='xr-var-attrs-in' type='checkbox' ><label for='attrs-5f48be08-f5af-49e8-a906-e649f4c0f6b8' title='Show/Hide attributes'><svg class='icon xr-icon-file-text2'><use xlink:href='#icon-file-text2'></use></svg></label><input id='data-6993e36a-f6d9-4ef5-aa2c-828683a7b772' class='xr-var-data-in' type='checkbox'><label for='data-6993e36a-f6d9-4ef5-aa2c-828683a7b772' title='Show/Hide data repr'><svg class='icon xr-icon-database'><use xlink:href='#icon-database'></use></svg></label><div class='xr-var-attrs'><dl class='xr-attrs'><dt><span>title :</span></dt><dd>Outflow efficiency</dd><dt><span>description :</span></dt><dd>Conversion efficiency from the technology to `sink`/`flow_out` (tech dependent). Set as value between 1 (no loss) and 0 (all lost).</dd><dt><span>default :</span></dt><dd>1.0</dd><dt><span>resample_method :</span></dt><dd>mean</dd><dt><span>unit :</span></dt><dd>unitless.</dd></dl></div><div class='xr-var-data'><pre>array([[  nan,   nan,   nan],\n",
       "       [  nan,   nan,   nan],\n",
       "       [  nan,   nan,   nan],\n",
       "       [0.98 ,   nan,   nan],\n",
       "       [0.98 ,   nan,   nan],\n",
       "       [  nan, 0.85 , 0.85 ],\n",
       "       [0.405,   nan,   nan],\n",
       "       [  nan,   nan,   nan],\n",
       "       [  nan,   nan,   nan],\n",
       "       [  nan,   nan,   nan],\n",
       "       [  nan,   nan,   nan],\n",
       "       [  nan,   nan,   nan]])</pre></div></li><li class='xr-var-item'><div class='xr-var-name'><span>heat_to_power_ratio</span></div><div class='xr-var-dims'>(techs)</div><div class='xr-var-dtype'>float64</div><div class='xr-var-preview xr-preview'>nan nan nan nan ... nan nan nan nan</div><input id='attrs-ab73faea-b18f-4325-b63c-edf16874014b' class='xr-var-attrs-in' type='checkbox' ><label for='attrs-ab73faea-b18f-4325-b63c-edf16874014b' title='Show/Hide attributes'><svg class='icon xr-icon-file-text2'><use xlink:href='#icon-file-text2'></use></svg></label><input id='data-725ecc4b-f688-4738-b3ef-6e19aa218372' class='xr-var-data-in' type='checkbox'><label for='data-725ecc4b-f688-4738-b3ef-6e19aa218372' title='Show/Hide data repr'><svg class='icon xr-icon-database'><use xlink:href='#icon-database'></use></svg></label><div class='xr-var-attrs'><dl class='xr-attrs'><dt><span>title :</span></dt><dd>Heat to power ratio for CHP</dd><dt><span>description :</span></dt><dd>Ratio of heat output to electricity output for combined heat and power (CHP) technology.</dd><dt><span>default :</span></dt><dd>1</dd><dt><span>resample_method :</span></dt><dd>first</dd><dt><span>unit :</span></dt><dd></dd></dl></div><div class='xr-var-data'><pre>array([nan, nan, nan, nan, nan, nan, 0.8, nan, nan, nan, nan, nan])</pre></div></li><li class='xr-var-item'><div class='xr-var-name'><span>lifetime</span></div><div class='xr-var-dims'>(techs)</div><div class='xr-var-dtype'>float64</div><div class='xr-var-preview xr-preview'>25.0 25.0 25.0 ... 25.0 25.0 25.0</div><input id='attrs-93384e55-67ab-433d-a825-0490b372801f' class='xr-var-attrs-in' type='checkbox' ><label for='attrs-93384e55-67ab-433d-a825-0490b372801f' title='Show/Hide attributes'><svg class='icon xr-icon-file-text2'><use xlink:href='#icon-file-text2'></use></svg></label><input id='data-894c4a27-3b1a-4b21-9900-3b8e6a7004f2' class='xr-var-data-in' type='checkbox'><label for='data-894c4a27-3b1a-4b21-9900-3b8e6a7004f2' title='Show/Hide data repr'><svg class='icon xr-icon-database'><use xlink:href='#icon-database'></use></svg></label><div class='xr-var-attrs'><dl class='xr-attrs'><dt><span>title :</span></dt><dd>Technology lifetime</dd><dt><span>description :</span></dt><dd>Must be defined if fixed capital costs are defined. A reasonable value for many technologies is around 20-25 years.</dd><dt><span>default :</span></dt><dd>inf</dd><dt><span>resample_method :</span></dt><dd>mean</dd><dt><span>unit :</span></dt><dd>years.</dd></dl></div><div class='xr-var-data'><pre>array([25., 25., 25., 25., 25., 25., 25., nan, nan, 25., 25., 25.])</pre></div></li><li class='xr-var-item'><div class='xr-var-name'><span>name</span></div><div class='xr-var-dims'>(techs)</div><div class='xr-var-dtype'>object</div><div class='xr-var-preview xr-preview'>&#x27;District heat distribution&#x27; ......</div><input id='attrs-0bfbc362-e839-4bfa-ad9c-1f5d836bbeaa' class='xr-var-attrs-in' type='checkbox' disabled><label for='attrs-0bfbc362-e839-4bfa-ad9c-1f5d836bbeaa' title='Show/Hide attributes'><svg class='icon xr-icon-file-text2'><use xlink:href='#icon-file-text2'></use></svg></label><input id='data-84dc4b04-ffbb-4f25-bab2-cda3dcb9f981' class='xr-var-data-in' type='checkbox'><label for='data-84dc4b04-ffbb-4f25-bab2-cda3dcb9f981' title='Show/Hide data repr'><svg class='icon xr-icon-database'><use xlink:href='#icon-database'></use></svg></label><div class='xr-var-attrs'><dl class='xr-attrs'></dl></div><div class='xr-var-data'><pre>array([&#x27;District heat distribution&#x27;, &#x27;District heat distribution&#x27;,\n",
       "       &#x27;District heat distribution&#x27;, &#x27;Electrical power distribution&#x27;,\n",
       "       &#x27;Electrical power distribution&#x27;, &#x27;Natural gas boiler&#x27;,\n",
       "       &#x27;Combined heat and power&#x27;, &#x27;Electrical demand&#x27;, &#x27;Heat demand&#x27;,\n",
       "       &#x27;Solar photovoltaic power&#x27;, &#x27;Natural gas import&#x27;,\n",
       "       &#x27;National grid import&#x27;], dtype=object)</pre></div></li><li class='xr-var-item'><div class='xr-var-name'><span>area_use_max</span></div><div class='xr-var-dims'>(techs)</div><div class='xr-var-dtype'>float64</div><div class='xr-var-preview xr-preview'>nan nan nan nan ... 1.5e+03 nan nan</div><input id='attrs-a930de31-fce6-4fd7-9984-7421b2225b42' class='xr-var-attrs-in' type='checkbox' ><label for='attrs-a930de31-fce6-4fd7-9984-7421b2225b42' title='Show/Hide attributes'><svg class='icon xr-icon-file-text2'><use xlink:href='#icon-file-text2'></use></svg></label><input id='data-ce538942-7101-4880-ab85-6c830bbc886f' class='xr-var-data-in' type='checkbox'><label for='data-ce538942-7101-4880-ab85-6c830bbc886f' title='Show/Hide data repr'><svg class='icon xr-icon-database'><use xlink:href='#icon-database'></use></svg></label><div class='xr-var-attrs'><dl class='xr-attrs'><dt><span>title :</span></dt><dd>Maximum usable area.</dd><dt><span>description :</span></dt><dd>If set to a finite value, limits the upper bound of the `area_use` decision variable to this value.</dd><dt><span>default :</span></dt><dd>inf</dd><dt><span>resample_method :</span></dt><dd>first</dd><dt><span>unit :</span></dt><dd>$\\text{area}$</dd></dl></div><div class='xr-var-data'><pre>array([  nan,   nan,   nan,   nan,   nan,   nan,   nan,   nan,   nan,\n",
       "       1500.,   nan,   nan])</pre></div></li><li class='xr-var-item'><div class='xr-var-name'><span>area_use_per_flow_cap</span></div><div class='xr-var-dims'>(techs)</div><div class='xr-var-dtype'>float64</div><div class='xr-var-preview xr-preview'>nan nan nan nan ... nan 7.0 nan nan</div><input id='attrs-cb289166-a2bb-4246-a14a-37fc67b2ab8a' class='xr-var-attrs-in' type='checkbox' ><label for='attrs-cb289166-a2bb-4246-a14a-37fc67b2ab8a' title='Show/Hide attributes'><svg class='icon xr-icon-file-text2'><use xlink:href='#icon-file-text2'></use></svg></label><input id='data-38313db0-dd4d-4c33-b76a-a852b5020e05' class='xr-var-data-in' type='checkbox'><label for='data-38313db0-dd4d-4c33-b76a-a852b5020e05' title='Show/Hide data repr'><svg class='icon xr-icon-database'><use xlink:href='#icon-database'></use></svg></label><div class='xr-var-attrs'><dl class='xr-attrs'><dt><span>title :</span></dt><dd>Area use per flow capacity</dd><dt><span>description :</span></dt><dd>If set, forces `area_use` to follow `flow_cap` with the given numerical ratio (e.g. setting to 1.5 means that `area_use == 1.5 * flow_cap`).</dd><dt><span>default :</span></dt><dd>nan</dd><dt><span>resample_method :</span></dt><dd>first</dd><dt><span>unit :</span></dt><dd>$\\frac{\\text{area}}{\\text{power}}$</dd></dl></div><div class='xr-var-data'><pre>array([nan, nan, nan, nan, nan, nan, nan, nan, nan,  7., nan, nan])</pre></div></li><li class='xr-var-item'><div class='xr-var-name'><span>flow_out_parasitic_eff</span></div><div class='xr-var-dims'>(techs)</div><div class='xr-var-dtype'>float64</div><div class='xr-var-preview xr-preview'>nan nan nan nan ... 0.85 nan nan</div><input id='attrs-67f21e5c-4616-4654-80e0-ccdd3b03c4ef' class='xr-var-attrs-in' type='checkbox' ><label for='attrs-67f21e5c-4616-4654-80e0-ccdd3b03c4ef' title='Show/Hide attributes'><svg class='icon xr-icon-file-text2'><use xlink:href='#icon-file-text2'></use></svg></label><input id='data-b7ebf2c9-3158-4e59-be3a-fac3e9618707' class='xr-var-data-in' type='checkbox'><label for='data-b7ebf2c9-3158-4e59-be3a-fac3e9618707' title='Show/Hide data repr'><svg class='icon xr-icon-database'><use xlink:href='#icon-database'></use></svg></label><div class='xr-var-attrs'><dl class='xr-attrs'><dt><span>title :</span></dt><dd>Plant parasitic efficiency</dd><dt><span>description :</span></dt><dd>Additional losses as flow gets transferred from the plant to the carrier, e.g. due to plant parasitic consumption. Set as value between 1 (no loss) and 0 (all lost).</dd><dt><span>default :</span></dt><dd>1.0</dd><dt><span>resample_method :</span></dt><dd>mean</dd><dt><span>unit :</span></dt><dd>unitless.</dd></dl></div><div class='xr-var-data'><pre>array([ nan,  nan,  nan,  nan,  nan,  nan,  nan,  nan,  nan, 0.85,  nan,\n",
       "        nan])</pre></div></li><li class='xr-var-item'><div class='xr-var-name'><span>source_unit</span></div><div class='xr-var-dims'>(techs)</div><div class='xr-var-dtype'>object</div><div class='xr-var-preview xr-preview'>nan nan nan ... &#x27;per_area&#x27; nan nan</div><input id='attrs-b3b75fa1-8448-41c4-8afc-91f2ceffac96' class='xr-var-attrs-in' type='checkbox' ><label for='attrs-b3b75fa1-8448-41c4-8afc-91f2ceffac96' title='Show/Hide attributes'><svg class='icon xr-icon-file-text2'><use xlink:href='#icon-file-text2'></use></svg></label><input id='data-511fef75-4a18-4aeb-be6a-e803c982b112' class='xr-var-data-in' type='checkbox'><label for='data-511fef75-4a18-4aeb-be6a-e803c982b112' title='Show/Hide data repr'><svg class='icon xr-icon-database'><use xlink:href='#icon-database'></use></svg></label><div class='xr-var-attrs'><dl class='xr-attrs'><dt><span>title :</span></dt><dd>Source unit</dd><dt><span>description :</span></dt><dd>Sets the unit of `Source` to either `absolute` (unit: `energy`), `per_area` (unit: `energy/area`), or `per_cap` (unit: `energy/power`). `per_area` uses the `area_use` decision variable to scale the source while `per_cap` uses the `flow_cap` decision variable.</dd><dt><span>default :</span></dt><dd>absolute</dd><dt><span>dtype :</span></dt><dd>string</dd><dt><span>resample_method :</span></dt><dd>first</dd><dt><span>one_of :</span></dt><dd>[&#x27;absolute&#x27;, &#x27;per_area&#x27;, &#x27;per_cap&#x27;]</dd><dt><span>pivot_values_to_dim :</span></dt><dd>None</dd></dl></div><div class='xr-var-data'><pre>array([nan, nan, nan, nan, nan, nan, nan, nan, nan, &#x27;per_area&#x27;, nan, nan],\n",
       "      dtype=object)</pre></div></li><li class='xr-var-item'><div class='xr-var-name'><span>cost_flow_in</span></div><div class='xr-var-dims'>(techs, costs)</div><div class='xr-var-dtype'>float64</div><div class='xr-var-preview xr-preview'>nan nan nan nan ... nan 0.025 0.1</div><input id='attrs-9e9a01dd-ad01-4d41-b775-7b737553d2ec' class='xr-var-attrs-in' type='checkbox' ><label for='attrs-9e9a01dd-ad01-4d41-b775-7b737553d2ec' title='Show/Hide attributes'><svg class='icon xr-icon-file-text2'><use xlink:href='#icon-file-text2'></use></svg></label><input id='data-16ed27c2-b2c4-4180-ac4b-486d44107d0c' class='xr-var-data-in' type='checkbox'><label for='data-16ed27c2-b2c4-4180-ac4b-486d44107d0c' title='Show/Hide data repr'><svg class='icon xr-icon-database'><use xlink:href='#icon-database'></use></svg></label><div class='xr-var-attrs'><dl class='xr-attrs'><dt><span>title :</span></dt><dd>Carrier inflow cost.</dd><dt><span>description :</span></dt><dd>Cost per unit of `flow_in` in each timestep. Also used as the cost per unit of `source_use` in `supply` technologies.</dd><dt><span>default :</span></dt><dd>0</dd><dt><span>resample_method :</span></dt><dd>mean</dd><dt><span>unit :</span></dt><dd>$\\frac{\\{cost}}{\\text{energy}}$</dd></dl></div><div class='xr-var-data'><pre>array([[  nan],\n",
       "       [  nan],\n",
       "       [  nan],\n",
       "       [  nan],\n",
       "       [  nan],\n",
       "       [0.004],\n",
       "       [  nan],\n",
       "       [  nan],\n",
       "       [  nan],\n",
       "       [  nan],\n",
       "       [0.025],\n",
       "       [0.1  ]])</pre></div></li><li class='xr-var-item'><div class='xr-var-name'><span>source_use_max</span></div><div class='xr-var-dims'>(techs)</div><div class='xr-var-dtype'>float64</div><div class='xr-var-preview xr-preview'>nan nan nan nan ... nan nan inf inf</div><input id='attrs-a6ace81e-0da7-4d19-850f-70b4e6178a5e' class='xr-var-attrs-in' type='checkbox' ><label for='attrs-a6ace81e-0da7-4d19-850f-70b4e6178a5e' title='Show/Hide attributes'><svg class='icon xr-icon-file-text2'><use xlink:href='#icon-file-text2'></use></svg></label><input id='data-0dee9e15-1c59-4848-ba15-73bf77456a51' class='xr-var-data-in' type='checkbox'><label for='data-0dee9e15-1c59-4848-ba15-73bf77456a51' title='Show/Hide data repr'><svg class='icon xr-icon-database'><use xlink:href='#icon-database'></use></svg></label><div class='xr-var-attrs'><dl class='xr-attrs'><dt><span>title :</span></dt><dd>Maximum bound on sink.</dd><dt><span>description :</span></dt><dd>Maximum sink use to remove a carrier from the system (e.g., biofuel, coal, rainfall, wind flow). Unit dictated by `source_unit`.</dd><dt><span>default :</span></dt><dd>inf</dd><dt><span>resample_method :</span></dt><dd>sum</dd><dt><span>unit :</span></dt><dd>energy | $\\frac{\\text{energy}}{\\text{power}}$ | $\\frac{\\text{energy}}{\\text{area}}$</dd></dl></div><div class='xr-var-data'><pre>array([nan, nan, nan, nan, nan, nan, nan, nan, nan, nan, inf, inf])</pre></div></li><li class='xr-var-item'><div class='xr-var-name'><span>cost_flow_cap_per_distance</span></div><div class='xr-var-dims'>(techs, costs)</div><div class='xr-var-dtype'>float64</div><div class='xr-var-preview xr-preview'>0.3 0.3 0.3 0.01 ... nan nan nan</div><input id='attrs-c37daed1-0a58-46ab-8d32-822b90fd7bf7' class='xr-var-attrs-in' type='checkbox' ><label for='attrs-c37daed1-0a58-46ab-8d32-822b90fd7bf7' title='Show/Hide attributes'><svg class='icon xr-icon-file-text2'><use xlink:href='#icon-file-text2'></use></svg></label><input id='data-a0e609e4-a013-40fe-9b0f-9ff8f30fcd27' class='xr-var-data-in' type='checkbox'><label for='data-a0e609e4-a013-40fe-9b0f-9ff8f30fcd27' title='Show/Hide data repr'><svg class='icon xr-icon-database'><use xlink:href='#icon-database'></use></svg></label><div class='xr-var-attrs'><dl class='xr-attrs'><dt><span>title :</span></dt><dd>Cost of flow capacity, per unit distance</dd><dt><span>description :</span></dt><dd>Cost per unit of the decision variable `flow_cap` and per unit distance of a transmission link. Applied to transmission links only.</dd><dt><span>default :</span></dt><dd>0</dd><dt><span>resample_method :</span></dt><dd>first</dd><dt><span>unit :</span></dt><dd>$\\frac{\\{cost}}{\\text{power}\\times\\text{distance}}$</dd></dl></div><div class='xr-var-data'><pre>array([[0.3 ],\n",
       "       [0.3 ],\n",
       "       [0.3 ],\n",
       "       [0.01],\n",
       "       [0.01],\n",
       "       [ nan],\n",
       "       [ nan],\n",
       "       [ nan],\n",
       "       [ nan],\n",
       "       [ nan],\n",
       "       [ nan],\n",
       "       [ nan]])</pre></div></li><li class='xr-var-item'><div class='xr-var-name'><span>distance</span></div><div class='xr-var-dims'>(techs)</div><div class='xr-var-dtype'>float64</div><div class='xr-var-preview xr-preview'>3.0 4.0 3.0 10.0 ... nan nan nan</div><input id='attrs-1e8f3095-3330-47b5-9451-44073c34cc0f' class='xr-var-attrs-in' type='checkbox' ><label for='attrs-1e8f3095-3330-47b5-9451-44073c34cc0f' title='Show/Hide attributes'><svg class='icon xr-icon-file-text2'><use xlink:href='#icon-file-text2'></use></svg></label><input id='data-c0331d79-3b8f-47a9-9a74-b12d85a2c741' class='xr-var-data-in' type='checkbox'><label for='data-c0331d79-3b8f-47a9-9a74-b12d85a2c741' title='Show/Hide data repr'><svg class='icon xr-icon-database'><use xlink:href='#icon-database'></use></svg></label><div class='xr-var-attrs'><dl class='xr-attrs'><dt><span>title :</span></dt><dd>Distance spanned by link.</dd><dt><span>description :</span></dt><dd>Used for `..._per_distance` constraints. If not defined, it will be automatically derived from latitude/longitude of nodes in a link.</dd><dt><span>default :</span></dt><dd>1.0</dd><dt><span>resample_method :</span></dt><dd>mean</dd><dt><span>unit :</span></dt><dd>distance.</dd></dl></div><div class='xr-var-data'><pre>array([ 3.,  4.,  3., 10.,  5., nan, nan, nan, nan, nan, nan, nan])</pre></div></li><li class='xr-var-item'><div class='xr-var-name'><span>flow_out_eff_per_distance</span></div><div class='xr-var-dims'>(techs)</div><div class='xr-var-dtype'>float64</div><div class='xr-var-preview xr-preview'>0.975 0.975 0.975 ... nan nan nan</div><input id='attrs-d40ef134-f8b8-47e3-8cae-dcc15f005e85' class='xr-var-attrs-in' type='checkbox' ><label for='attrs-d40ef134-f8b8-47e3-8cae-dcc15f005e85' title='Show/Hide attributes'><svg class='icon xr-icon-file-text2'><use xlink:href='#icon-file-text2'></use></svg></label><input id='data-39afc6ba-1575-485a-9ef6-17b2ba9427e7' class='xr-var-data-in' type='checkbox'><label for='data-39afc6ba-1575-485a-9ef6-17b2ba9427e7' title='Show/Hide data repr'><svg class='icon xr-icon-database'><use xlink:href='#icon-database'></use></svg></label><div class='xr-var-attrs'><dl class='xr-attrs'><dt><span>title :</span></dt><dd>Outflow (i.e., import from node) efficiency per distance of transmission links.</dd><dt><span>description :</span></dt><dd>Total link efficiency will be calculated as $\\text{flow\\_out\\_eff}\\times{}\\text{flow\\_out\\_eff\\_per\\_distance}^\\text{distance}$. Set as value between 1 (no loss) and 0 (all lost).</dd><dt><span>default :</span></dt><dd>1.0</dd><dt><span>resample_method :</span></dt><dd>mean</dd><dt><span>unit :</span></dt><dd>$\\frac{\\text{1}}{\\text{distance}}$</dd></dl></div><div class='xr-var-data'><pre>array([0.975, 0.975, 0.975,   nan,   nan,   nan,   nan,   nan,   nan,\n",
       "         nan,   nan,   nan])</pre></div></li><li class='xr-var-item'><div class='xr-var-name'><span>cost_export</span></div><div class='xr-var-dims'>(nodes, techs, costs, carriers, timesteps)</div><div class='xr-var-dtype'>float64</div><div class='xr-var-preview xr-preview'>nan nan nan nan ... nan nan nan nan</div><input id='attrs-c68a943b-527e-4634-9608-9cc8127bc9dd' class='xr-var-attrs-in' type='checkbox' ><label for='attrs-c68a943b-527e-4634-9608-9cc8127bc9dd' title='Show/Hide attributes'><svg class='icon xr-icon-file-text2'><use xlink:href='#icon-file-text2'></use></svg></label><input id='data-1c48e557-b373-40c8-9868-f2b24ccb311f' class='xr-var-data-in' type='checkbox'><label for='data-1c48e557-b373-40c8-9868-f2b24ccb311f' title='Show/Hide data repr'><svg class='icon xr-icon-database'><use xlink:href='#icon-database'></use></svg></label><div class='xr-var-attrs'><dl class='xr-attrs'><dt><span>title :</span></dt><dd>Carrier export cost.</dd><dt><span>description :</span></dt><dd>Cost per unit of `flow_export` in each timestep. Usually used in the negative sense, as a subsidy.</dd><dt><span>default :</span></dt><dd>0</dd><dt><span>resample_method :</span></dt><dd>mean</dd><dt><span>unit :</span></dt><dd>$\\frac{\\{cost}}{\\text{energy}}$</dd></dl></div><div class='xr-var-data'><pre>array([[[[[    nan,     nan,     nan, ...,     nan,     nan,     nan],\n",
       "          [    nan,     nan,     nan, ...,     nan,     nan,     nan],\n",
       "          [    nan,     nan,     nan, ...,     nan,     nan,     nan]]],\n",
       "\n",
       "\n",
       "        [[[    nan,     nan,     nan, ...,     nan,     nan,     nan],\n",
       "          [    nan,     nan,     nan, ...,     nan,     nan,     nan],\n",
       "          [    nan,     nan,     nan, ...,     nan,     nan,     nan]]],\n",
       "\n",
       "\n",
       "        [[[    nan,     nan,     nan, ...,     nan,     nan,     nan],\n",
       "          [    nan,     nan,     nan, ...,     nan,     nan,     nan],\n",
       "          [    nan,     nan,     nan, ...,     nan,     nan,     nan]]],\n",
       "\n",
       "\n",
       "        ...,\n",
       "\n",
       "\n",
       "        [[[    nan,     nan,     nan, ...,     nan,     nan,     nan],\n",
       "          [    nan,     nan,     nan, ...,     nan,     nan,     nan],\n",
       "...\n",
       "          [    nan,     nan,     nan, ...,     nan,     nan,     nan],\n",
       "          [    nan,     nan,     nan, ...,     nan,     nan,     nan]]],\n",
       "\n",
       "\n",
       "        ...,\n",
       "\n",
       "\n",
       "        [[[    nan,     nan,     nan, ...,     nan,     nan,     nan],\n",
       "          [    nan,     nan,     nan, ...,     nan,     nan,     nan],\n",
       "          [    nan,     nan,     nan, ...,     nan,     nan,     nan]]],\n",
       "\n",
       "\n",
       "        [[[    nan,     nan,     nan, ...,     nan,     nan,     nan],\n",
       "          [    nan,     nan,     nan, ...,     nan,     nan,     nan],\n",
       "          [    nan,     nan,     nan, ...,     nan,     nan,     nan]]],\n",
       "\n",
       "\n",
       "        [[[    nan,     nan,     nan, ...,     nan,     nan,     nan],\n",
       "          [    nan,     nan,     nan, ...,     nan,     nan,     nan],\n",
       "          [    nan,     nan,     nan, ...,     nan,     nan,     nan]]]]])</pre></div></li><li class='xr-var-item'><div class='xr-var-name'><span>cost_om_annual</span></div><div class='xr-var-dims'>(nodes, techs, costs)</div><div class='xr-var-dtype'>float64</div><div class='xr-var-preview xr-preview'>nan nan nan nan ... -80.5 nan nan</div><input id='attrs-a5796b9b-b90a-4eca-9f47-3596dbb6abcb' class='xr-var-attrs-in' type='checkbox' ><label for='attrs-a5796b9b-b90a-4eca-9f47-3596dbb6abcb' title='Show/Hide attributes'><svg class='icon xr-icon-file-text2'><use xlink:href='#icon-file-text2'></use></svg></label><input id='data-135711e4-fd2a-43cd-a733-adca9b3a9461' class='xr-var-data-in' type='checkbox'><label for='data-135711e4-fd2a-43cd-a733-adca9b3a9461' title='Show/Hide data repr'><svg class='icon xr-icon-database'><use xlink:href='#icon-database'></use></svg></label><div class='xr-var-attrs'><dl class='xr-attrs'><dt><span>title :</span></dt><dd>Annual O&amp;M costs</dd><dt><span>description :</span></dt><dd>Annual costs applied per unit `flow_cap`. These costs are not subject to being recalculated relative to technology lifetime, only scaled to reflect the fraction of one year that the model represents (e.g., 7 days ~= 0.02 of a year).</dd><dt><span>default :</span></dt><dd>0</dd><dt><span>resample_method :</span></dt><dd>first</dd><dt><span>unit :</span></dt><dd>$\\frac{\\{cost}}{\\text{power}}$</dd></dl></div><div class='xr-var-data'><pre>array([[[  nan],\n",
       "        [  nan],\n",
       "        [  nan],\n",
       "        [  nan],\n",
       "        [  nan],\n",
       "        [  nan],\n",
       "        [  nan],\n",
       "        [  nan],\n",
       "        [  nan],\n",
       "        [  nan],\n",
       "        [  nan],\n",
       "        [  nan]],\n",
       "\n",
       "       [[  nan],\n",
       "        [  nan],\n",
       "        [  nan],\n",
       "        [  nan],\n",
       "        [  nan],\n",
       "        [  nan],\n",
       "        [  nan],\n",
       "...\n",
       "        [  nan],\n",
       "        [  nan],\n",
       "        [  nan],\n",
       "        [  nan],\n",
       "        [  nan],\n",
       "        [  nan],\n",
       "        [  nan]],\n",
       "\n",
       "       [[  nan],\n",
       "        [  nan],\n",
       "        [  nan],\n",
       "        [  nan],\n",
       "        [  nan],\n",
       "        [  nan],\n",
       "        [  nan],\n",
       "        [  nan],\n",
       "        [  nan],\n",
       "        [-80.5],\n",
       "        [  nan],\n",
       "        [  nan]]])</pre></div></li><li class='xr-var-item'><div class='xr-var-name'><span>available_area</span></div><div class='xr-var-dims'>(nodes)</div><div class='xr-var-dtype'>float64</div><div class='xr-var-preview xr-preview'>nan 500.0 1.3e+03 900.0</div><input id='attrs-32a6952c-ff87-4de7-83c9-0b88956e0a80' class='xr-var-attrs-in' type='checkbox' ><label for='attrs-32a6952c-ff87-4de7-83c9-0b88956e0a80' title='Show/Hide attributes'><svg class='icon xr-icon-file-text2'><use xlink:href='#icon-file-text2'></use></svg></label><input id='data-0ba77d85-02b4-4104-8a6d-825ca2c1f1da' class='xr-var-data-in' type='checkbox'><label for='data-0ba77d85-02b4-4104-8a6d-825ca2c1f1da' title='Show/Hide data repr'><svg class='icon xr-icon-database'><use xlink:href='#icon-database'></use></svg></label><div class='xr-var-attrs'><dl class='xr-attrs'><dt><span>title :</span></dt><dd>Available area</dd><dt><span>description :</span></dt><dd>Available area for resource area use by all technologies at a node.</dd><dt><span>default :</span></dt><dd>inf</dd><dt><span>resample_method :</span></dt><dd>mean</dd><dt><span>unit :</span></dt><dd>area.</dd></dl></div><div class='xr-var-data'><pre>array([  nan,  500., 1300.,  900.])</pre></div></li><li class='xr-var-item'><div class='xr-var-name'><span>latitude</span></div><div class='xr-var-dims'>(nodes)</div><div class='xr-var-dtype'>float64</div><div class='xr-var-preview xr-preview'>51.45 51.46 51.47 51.43</div><input id='attrs-9782eb1f-891d-4708-a541-d3e9581d4687' class='xr-var-attrs-in' type='checkbox' ><label for='attrs-9782eb1f-891d-4708-a541-d3e9581d4687' title='Show/Hide attributes'><svg class='icon xr-icon-file-text2'><use xlink:href='#icon-file-text2'></use></svg></label><input id='data-0631c39f-4601-451f-9c75-e9beda740917' class='xr-var-data-in' type='checkbox'><label for='data-0631c39f-4601-451f-9c75-e9beda740917' title='Show/Hide data repr'><svg class='icon xr-icon-database'><use xlink:href='#icon-database'></use></svg></label><div class='xr-var-attrs'><dl class='xr-attrs'><dt><span>title :</span></dt><dd>Latitude (WGS84 / EPSG4326).</dd><dt><span>description :</span></dt><dd></dd><dt><span>default :</span></dt><dd>nan</dd><dt><span>dtype :</span></dt><dd>float</dd><dt><span>resample_method :</span></dt><dd>mean</dd><dt><span>one_of :</span></dt><dd>None</dd><dt><span>pivot_values_to_dim :</span></dt><dd>None</dd></dl></div><div class='xr-var-data'><pre>array([51.4450766, 51.4596158, 51.4652373, 51.4287016])</pre></div></li><li class='xr-var-item'><div class='xr-var-name'><span>longitude</span></div><div class='xr-var-dims'>(nodes)</div><div class='xr-var-dtype'>float64</div><div class='xr-var-preview xr-preview'>-0.1247 -0.1613 -0.1142 -0.1311</div><input id='attrs-f52b9939-842e-4dc6-a716-ef1b1828d91a' class='xr-var-attrs-in' type='checkbox' ><label for='attrs-f52b9939-842e-4dc6-a716-ef1b1828d91a' title='Show/Hide attributes'><svg class='icon xr-icon-file-text2'><use xlink:href='#icon-file-text2'></use></svg></label><input id='data-63c0b396-875a-41ec-84dc-1f8124f6a76d' class='xr-var-data-in' type='checkbox'><label for='data-63c0b396-875a-41ec-84dc-1f8124f6a76d' title='Show/Hide data repr'><svg class='icon xr-icon-database'><use xlink:href='#icon-database'></use></svg></label><div class='xr-var-attrs'><dl class='xr-attrs'><dt><span>title :</span></dt><dd>Longitude (WGS84 / EPSG4326).</dd><dt><span>description :</span></dt><dd></dd><dt><span>default :</span></dt><dd>nan</dd><dt><span>dtype :</span></dt><dd>float</dd><dt><span>resample_method :</span></dt><dd>mean</dd><dt><span>one_of :</span></dt><dd>None</dd><dt><span>pivot_values_to_dim :</span></dt><dd>None</dd></dl></div><div class='xr-var-data'><pre>array([-0.1247183, -0.1613446, -0.1141548, -0.1310635])</pre></div></li><li class='xr-var-item'><div class='xr-var-name'><span>source_use_equals</span></div><div class='xr-var-dims'>(techs, timesteps)</div><div class='xr-var-dtype'>float64</div><div class='xr-var-preview xr-preview'>nan nan nan nan ... nan nan nan nan</div><input id='attrs-5afcf661-f7b3-430d-88f5-2beac07829ad' class='xr-var-attrs-in' type='checkbox' ><label for='attrs-5afcf661-f7b3-430d-88f5-2beac07829ad' title='Show/Hide attributes'><svg class='icon xr-icon-file-text2'><use xlink:href='#icon-file-text2'></use></svg></label><input id='data-33cd2182-bf39-404a-b3b5-9d8f5c75148f' class='xr-var-data-in' type='checkbox'><label for='data-33cd2182-bf39-404a-b3b5-9d8f5c75148f' title='Show/Hide data repr'><svg class='icon xr-icon-database'><use xlink:href='#icon-database'></use></svg></label><div class='xr-var-attrs'><dl class='xr-attrs'><dt><span>title :</span></dt><dd>Required sink use.</dd><dt><span>description :</span></dt><dd>Required amount of carrier removal from the system (e.g., biofuel, coal, rainfall, wind flow). Unit dictated by `source_unit`.</dd><dt><span>default :</span></dt><dd>nan</dd><dt><span>resample_method :</span></dt><dd>sum</dd><dt><span>unit :</span></dt><dd>energy | $\\frac{\\text{energy}}{\\text{power}}$ | $\\frac{\\text{energy}}{\\text{area}}$</dd></dl></div><div class='xr-var-data'><pre>array([[       nan,        nan,        nan,        nan,        nan,\n",
       "               nan,        nan,        nan,        nan,        nan,\n",
       "               nan,        nan,        nan,        nan,        nan,\n",
       "               nan,        nan,        nan,        nan,        nan,\n",
       "               nan,        nan,        nan,        nan,        nan,\n",
       "               nan,        nan,        nan,        nan,        nan,\n",
       "               nan,        nan,        nan,        nan,        nan,\n",
       "               nan,        nan,        nan,        nan,        nan,\n",
       "               nan,        nan,        nan,        nan,        nan,\n",
       "               nan,        nan,        nan],\n",
       "       [       nan,        nan,        nan,        nan,        nan,\n",
       "               nan,        nan,        nan,        nan,        nan,\n",
       "               nan,        nan,        nan,        nan,        nan,\n",
       "               nan,        nan,        nan,        nan,        nan,\n",
       "               nan,        nan,        nan,        nan,        nan,\n",
       "               nan,        nan,        nan,        nan,        nan,\n",
       "               nan,        nan,        nan,        nan,        nan,\n",
       "               nan,        nan,        nan,        nan,        nan,\n",
       "               nan,        nan,        nan,        nan,        nan,\n",
       "               nan,        nan,        nan],\n",
       "...\n",
       "       [       nan,        nan,        nan,        nan,        nan,\n",
       "               nan,        nan,        nan,        nan,        nan,\n",
       "               nan,        nan,        nan,        nan,        nan,\n",
       "               nan,        nan,        nan,        nan,        nan,\n",
       "               nan,        nan,        nan,        nan,        nan,\n",
       "               nan,        nan,        nan,        nan,        nan,\n",
       "               nan,        nan,        nan,        nan,        nan,\n",
       "               nan,        nan,        nan,        nan,        nan,\n",
       "               nan,        nan,        nan,        nan,        nan,\n",
       "               nan,        nan,        nan],\n",
       "       [       nan,        nan,        nan,        nan,        nan,\n",
       "               nan,        nan,        nan,        nan,        nan,\n",
       "               nan,        nan,        nan,        nan,        nan,\n",
       "               nan,        nan,        nan,        nan,        nan,\n",
       "               nan,        nan,        nan,        nan,        nan,\n",
       "               nan,        nan,        nan,        nan,        nan,\n",
       "               nan,        nan,        nan,        nan,        nan,\n",
       "               nan,        nan,        nan,        nan,        nan,\n",
       "               nan,        nan,        nan,        nan,        nan,\n",
       "               nan,        nan,        nan]])</pre></div></li><li class='xr-var-item'><div class='xr-var-name'><span>sink_use_equals</span></div><div class='xr-var-dims'>(timesteps, techs, nodes)</div><div class='xr-var-dtype'>float64</div><div class='xr-var-preview xr-preview'>nan nan nan nan ... nan nan nan nan</div><input id='attrs-c123b67d-430f-4eb0-886c-9ae29540ef49' class='xr-var-attrs-in' type='checkbox' ><label for='attrs-c123b67d-430f-4eb0-886c-9ae29540ef49' title='Show/Hide attributes'><svg class='icon xr-icon-file-text2'><use xlink:href='#icon-file-text2'></use></svg></label><input id='data-1db0c866-4520-4b31-a845-82049a57ff31' class='xr-var-data-in' type='checkbox'><label for='data-1db0c866-4520-4b31-a845-82049a57ff31' title='Show/Hide data repr'><svg class='icon xr-icon-database'><use xlink:href='#icon-database'></use></svg></label><div class='xr-var-attrs'><dl class='xr-attrs'><dt><span>title :</span></dt><dd>Required sink use.</dd><dt><span>description :</span></dt><dd>Required amount of carrier removal from the system (e.g., electricity demand, transport distance). Unit dictated by `source_unit`.</dd><dt><span>default :</span></dt><dd>nan</dd><dt><span>resample_method :</span></dt><dd>sum</dd><dt><span>unit :</span></dt><dd>energy | $\\frac{\\text{energy}}{\\text{power}}$ | $\\frac{\\text{energy}}{\\text{area}}$</dd></dl></div><div class='xr-var-data'><pre>array([[[nan, nan, nan, nan],\n",
       "        [nan, nan, nan, nan],\n",
       "        [nan, nan, nan, nan],\n",
       "        ...,\n",
       "        [nan, nan, nan, nan],\n",
       "        [nan, nan, nan, nan],\n",
       "        [nan, nan, nan, nan]],\n",
       "\n",
       "       [[nan, nan, nan, nan],\n",
       "        [nan, nan, nan, nan],\n",
       "        [nan, nan, nan, nan],\n",
       "        ...,\n",
       "        [nan, nan, nan, nan],\n",
       "        [nan, nan, nan, nan],\n",
       "        [nan, nan, nan, nan]],\n",
       "\n",
       "       [[nan, nan, nan, nan],\n",
       "        [nan, nan, nan, nan],\n",
       "        [nan, nan, nan, nan],\n",
       "        ...,\n",
       "...\n",
       "        ...,\n",
       "        [nan, nan, nan, nan],\n",
       "        [nan, nan, nan, nan],\n",
       "        [nan, nan, nan, nan]],\n",
       "\n",
       "       [[nan, nan, nan, nan],\n",
       "        [nan, nan, nan, nan],\n",
       "        [nan, nan, nan, nan],\n",
       "        ...,\n",
       "        [nan, nan, nan, nan],\n",
       "        [nan, nan, nan, nan],\n",
       "        [nan, nan, nan, nan]],\n",
       "\n",
       "       [[nan, nan, nan, nan],\n",
       "        [nan, nan, nan, nan],\n",
       "        [nan, nan, nan, nan],\n",
       "        ...,\n",
       "        [nan, nan, nan, nan],\n",
       "        [nan, nan, nan, nan],\n",
       "        [nan, nan, nan, nan]]])</pre></div></li><li class='xr-var-item'><div class='xr-var-name'><span>definition_matrix</span></div><div class='xr-var-dims'>(nodes, techs, carriers)</div><div class='xr-var-dtype'>bool</div><div class='xr-var-preview xr-preview'>False False True ... False False</div><input id='attrs-9b6918a0-f337-477f-afe6-5d1df00567a7' class='xr-var-attrs-in' type='checkbox' ><label for='attrs-9b6918a0-f337-477f-afe6-5d1df00567a7' title='Show/Hide attributes'><svg class='icon xr-icon-file-text2'><use xlink:href='#icon-file-text2'></use></svg></label><input id='data-527ab0a3-89ce-4fee-8882-431eda281fc5' class='xr-var-data-in' type='checkbox'><label for='data-527ab0a3-89ce-4fee-8882-431eda281fc5' title='Show/Hide data repr'><svg class='icon xr-icon-database'><use xlink:href='#icon-database'></use></svg></label><div class='xr-var-attrs'><dl class='xr-attrs'><dt><span>title :</span></dt><dd></dd><dt><span>description :</span></dt><dd>Whether a technology is defined with particular carriers and at a particular node.</dd><dt><span>default :</span></dt><dd>False</dd><dt><span>dtype :</span></dt><dd>bool</dd><dt><span>resample_method :</span></dt><dd>first</dd><dt><span>one_of :</span></dt><dd>None</dd><dt><span>pivot_values_to_dim :</span></dt><dd>None</dd></dl></div><div class='xr-var-data'><pre>array([[[False, False,  True],\n",
       "        [False, False,  True],\n",
       "        [False, False,  True],\n",
       "        [False, False, False],\n",
       "        [False, False, False],\n",
       "        [False, False, False],\n",
       "        [False, False, False],\n",
       "        [False, False, False],\n",
       "        [False, False, False],\n",
       "        [False, False, False],\n",
       "        [False, False, False],\n",
       "        [False, False, False]],\n",
       "\n",
       "       [[False, False, False],\n",
       "        [False, False, False],\n",
       "        [False, False,  True],\n",
       "        [ True, False, False],\n",
       "        [ True, False, False],\n",
       "        [False, False, False],\n",
       "        [ True,  True,  True],\n",
       "...\n",
       "        [False,  True,  True],\n",
       "        [False, False, False],\n",
       "        [ True, False, False],\n",
       "        [False, False,  True],\n",
       "        [ True, False, False],\n",
       "        [False,  True, False],\n",
       "        [False, False, False]],\n",
       "\n",
       "       [[False, False, False],\n",
       "        [False, False,  True],\n",
       "        [False, False, False],\n",
       "        [False, False, False],\n",
       "        [ True, False, False],\n",
       "        [False,  True,  True],\n",
       "        [False, False, False],\n",
       "        [ True, False, False],\n",
       "        [False, False,  True],\n",
       "        [ True, False, False],\n",
       "        [False,  True, False],\n",
       "        [False, False, False]]])</pre></div></li><li class='xr-var-item'><div class='xr-var-name'><span>timestep_resolution</span></div><div class='xr-var-dims'>(timesteps)</div><div class='xr-var-dtype'>float64</div><div class='xr-var-preview xr-preview'>1.0 1.0 1.0 1.0 ... 1.0 1.0 1.0 1.0</div><input id='attrs-021504c0-b926-400f-90db-3cb5bf4c65cb' class='xr-var-attrs-in' type='checkbox' ><label for='attrs-021504c0-b926-400f-90db-3cb5bf4c65cb' title='Show/Hide attributes'><svg class='icon xr-icon-file-text2'><use xlink:href='#icon-file-text2'></use></svg></label><input id='data-acb7b498-9941-4022-8084-10baa8b2ceef' class='xr-var-data-in' type='checkbox'><label for='data-acb7b498-9941-4022-8084-10baa8b2ceef' title='Show/Hide data repr'><svg class='icon xr-icon-database'><use xlink:href='#icon-database'></use></svg></label><div class='xr-var-attrs'><dl class='xr-attrs'><dt><span>title :</span></dt><dd>Resolution per timestep.</dd><dt><span>description :</span></dt><dd></dd><dt><span>default :</span></dt><dd>1</dd><dt><span>resample_method :</span></dt><dd>sum</dd><dt><span>unit :</span></dt><dd>hours.</dd></dl></div><div class='xr-var-data'><pre>array([1., 1., 1., 1., 1., 1., 1., 1., 1., 1., 1., 1., 1., 1., 1., 1., 1.,\n",
       "       1., 1., 1., 1., 1., 1., 1., 1., 1., 1., 1., 1., 1., 1., 1., 1., 1.,\n",
       "       1., 1., 1., 1., 1., 1., 1., 1., 1., 1., 1., 1., 1., 1.])</pre></div></li><li class='xr-var-item'><div class='xr-var-name'><span>timestep_weights</span></div><div class='xr-var-dims'>(timesteps)</div><div class='xr-var-dtype'>float64</div><div class='xr-var-preview xr-preview'>1.0 1.0 1.0 1.0 ... 1.0 1.0 1.0 1.0</div><input id='attrs-5e3400ab-b93e-48ee-9f27-3e006f7a979a' class='xr-var-attrs-in' type='checkbox' ><label for='attrs-5e3400ab-b93e-48ee-9f27-3e006f7a979a' title='Show/Hide attributes'><svg class='icon xr-icon-file-text2'><use xlink:href='#icon-file-text2'></use></svg></label><input id='data-894c01e2-e790-4d0c-b588-7eaf05f8b833' class='xr-var-data-in' type='checkbox'><label for='data-894c01e2-e790-4d0c-b588-7eaf05f8b833' title='Show/Hide data repr'><svg class='icon xr-icon-database'><use xlink:href='#icon-database'></use></svg></label><div class='xr-var-attrs'><dl class='xr-attrs'><dt><span>title :</span></dt><dd>Weight per timestep.</dd><dt><span>description :</span></dt><dd></dd><dt><span>default :</span></dt><dd>1</dd><dt><span>resample_method :</span></dt><dd>mean</dd><dt><span>unit :</span></dt><dd>unitless.</dd></dl></div><div class='xr-var-data'><pre>array([1., 1., 1., 1., 1., 1., 1., 1., 1., 1., 1., 1., 1., 1., 1., 1., 1.,\n",
       "       1., 1., 1., 1., 1., 1., 1., 1., 1., 1., 1., 1., 1., 1., 1., 1., 1.,\n",
       "       1., 1., 1., 1., 1., 1., 1., 1., 1., 1., 1., 1., 1., 1.])</pre></div></li></ul></div></li><li class='xr-section-item'><input id='section-7317a8a4-b0d4-45ca-ab73-c9220c46c00d' class='xr-section-summary-in' type='checkbox'  ><label for='section-7317a8a4-b0d4-45ca-ab73-c9220c46c00d' class='xr-section-summary' >Indexes: <span>(5)</span></label><div class='xr-section-inline-details'></div><div class='xr-section-details'><ul class='xr-var-list'><li class='xr-var-item'><div class='xr-index-name'><div>costs</div></div><div class='xr-index-preview'>PandasIndex</div><div></div><input id='index-785bae6f-bc27-4f63-8e6a-3c29a31823f4' class='xr-index-data-in' type='checkbox'/><label for='index-785bae6f-bc27-4f63-8e6a-3c29a31823f4' title='Show/Hide index repr'><svg class='icon xr-icon-database'><use xlink:href='#icon-database'></use></svg></label><div class='xr-index-data'><pre>PandasIndex(Index([&#x27;monetary&#x27;], dtype=&#x27;object&#x27;, name=&#x27;costs&#x27;))</pre></div></li><li class='xr-var-item'><div class='xr-index-name'><div>techs</div></div><div class='xr-index-preview'>PandasIndex</div><div></div><input id='index-ad6f8fef-0b90-4da2-8d05-4b03c143440b' class='xr-index-data-in' type='checkbox'/><label for='index-ad6f8fef-0b90-4da2-8d05-4b03c143440b' title='Show/Hide index repr'><svg class='icon xr-icon-database'><use xlink:href='#icon-database'></use></svg></label><div class='xr-index-data'><pre>PandasIndex(Index([&#x27;N1_to_X2&#x27;, &#x27;N1_to_X3&#x27;, &#x27;X1_to_N1&#x27;, &#x27;X1_to_X2&#x27;, &#x27;X1_to_X3&#x27;, &#x27;boiler&#x27;,\n",
       "       &#x27;chp&#x27;, &#x27;demand_electricity&#x27;, &#x27;demand_heat&#x27;, &#x27;pv&#x27;, &#x27;supply_gas&#x27;,\n",
       "       &#x27;supply_grid_power&#x27;],\n",
       "      dtype=&#x27;object&#x27;, name=&#x27;techs&#x27;))</pre></div></li><li class='xr-var-item'><div class='xr-index-name'><div>carriers</div></div><div class='xr-index-preview'>PandasIndex</div><div></div><input id='index-10e99dd8-8cfc-41ea-893c-743879b3090c' class='xr-index-data-in' type='checkbox'/><label for='index-10e99dd8-8cfc-41ea-893c-743879b3090c' title='Show/Hide index repr'><svg class='icon xr-icon-database'><use xlink:href='#icon-database'></use></svg></label><div class='xr-index-data'><pre>PandasIndex(Index([&#x27;electricity&#x27;, &#x27;gas&#x27;, &#x27;heat&#x27;], dtype=&#x27;object&#x27;, name=&#x27;carriers&#x27;))</pre></div></li><li class='xr-var-item'><div class='xr-index-name'><div>nodes</div></div><div class='xr-index-preview'>PandasIndex</div><div></div><input id='index-0376547a-7f75-405b-90eb-d56f17f7d80b' class='xr-index-data-in' type='checkbox'/><label for='index-0376547a-7f75-405b-90eb-d56f17f7d80b' title='Show/Hide index repr'><svg class='icon xr-icon-database'><use xlink:href='#icon-database'></use></svg></label><div class='xr-index-data'><pre>PandasIndex(Index([&#x27;N1&#x27;, &#x27;X1&#x27;, &#x27;X2&#x27;, &#x27;X3&#x27;], dtype=&#x27;object&#x27;, name=&#x27;nodes&#x27;))</pre></div></li><li class='xr-var-item'><div class='xr-index-name'><div>timesteps</div></div><div class='xr-index-preview'>PandasIndex</div><div></div><input id='index-48461625-e822-4956-86d1-dca7691e1749' class='xr-index-data-in' type='checkbox'/><label for='index-48461625-e822-4956-86d1-dca7691e1749' title='Show/Hide index repr'><svg class='icon xr-icon-database'><use xlink:href='#icon-database'></use></svg></label><div class='xr-index-data'><pre>PandasIndex(DatetimeIndex([&#x27;2005-07-01 00:00:00&#x27;, &#x27;2005-07-01 01:00:00&#x27;,\n",
       "               &#x27;2005-07-01 02:00:00&#x27;, &#x27;2005-07-01 03:00:00&#x27;,\n",
       "               &#x27;2005-07-01 04:00:00&#x27;, &#x27;2005-07-01 05:00:00&#x27;,\n",
       "               &#x27;2005-07-01 06:00:00&#x27;, &#x27;2005-07-01 07:00:00&#x27;,\n",
       "               &#x27;2005-07-01 08:00:00&#x27;, &#x27;2005-07-01 09:00:00&#x27;,\n",
       "               &#x27;2005-07-01 10:00:00&#x27;, &#x27;2005-07-01 11:00:00&#x27;,\n",
       "               &#x27;2005-07-01 12:00:00&#x27;, &#x27;2005-07-01 13:00:00&#x27;,\n",
       "               &#x27;2005-07-01 14:00:00&#x27;, &#x27;2005-07-01 15:00:00&#x27;,\n",
       "               &#x27;2005-07-01 16:00:00&#x27;, &#x27;2005-07-01 17:00:00&#x27;,\n",
       "               &#x27;2005-07-01 18:00:00&#x27;, &#x27;2005-07-01 19:00:00&#x27;,\n",
       "               &#x27;2005-07-01 20:00:00&#x27;, &#x27;2005-07-01 21:00:00&#x27;,\n",
       "               &#x27;2005-07-01 22:00:00&#x27;, &#x27;2005-07-01 23:00:00&#x27;,\n",
       "               &#x27;2005-07-02 00:00:00&#x27;, &#x27;2005-07-02 01:00:00&#x27;,\n",
       "               &#x27;2005-07-02 02:00:00&#x27;, &#x27;2005-07-02 03:00:00&#x27;,\n",
       "               &#x27;2005-07-02 04:00:00&#x27;, &#x27;2005-07-02 05:00:00&#x27;,\n",
       "               &#x27;2005-07-02 06:00:00&#x27;, &#x27;2005-07-02 07:00:00&#x27;,\n",
       "               &#x27;2005-07-02 08:00:00&#x27;, &#x27;2005-07-02 09:00:00&#x27;,\n",
       "               &#x27;2005-07-02 10:00:00&#x27;, &#x27;2005-07-02 11:00:00&#x27;,\n",
       "               &#x27;2005-07-02 12:00:00&#x27;, &#x27;2005-07-02 13:00:00&#x27;,\n",
       "               &#x27;2005-07-02 14:00:00&#x27;, &#x27;2005-07-02 15:00:00&#x27;,\n",
       "               &#x27;2005-07-02 16:00:00&#x27;, &#x27;2005-07-02 17:00:00&#x27;,\n",
       "               &#x27;2005-07-02 18:00:00&#x27;, &#x27;2005-07-02 19:00:00&#x27;,\n",
       "               &#x27;2005-07-02 20:00:00&#x27;, &#x27;2005-07-02 21:00:00&#x27;,\n",
       "               &#x27;2005-07-02 22:00:00&#x27;, &#x27;2005-07-02 23:00:00&#x27;],\n",
       "              dtype=&#x27;datetime64[ns]&#x27;, name=&#x27;timesteps&#x27;, freq=None))</pre></div></li></ul></div></li><li class='xr-section-item'><input id='section-e4e3c571-a551-46b8-8e92-92f60fd28761' class='xr-section-summary-in' type='checkbox' disabled ><label for='section-e4e3c571-a551-46b8-8e92-92f60fd28761' class='xr-section-summary'  title='Expand/collapse section'>Attributes: <span>(0)</span></label><div class='xr-section-inline-details'></div><div class='xr-section-details'><dl class='xr-attrs'></dl></div></li></ul></div></div>"
      ],
      "text/plain": [
       "<xarray.Dataset> Size: 86kB\n",
       "Dimensions:                     (costs: 1, techs: 12, carriers: 3, nodes: 4,\n",
       "                                 timesteps: 48)\n",
       "Coordinates:\n",
       "  * costs                       (costs) object 8B 'monetary'\n",
       "  * techs                       (techs) object 96B 'N1_to_X2' ... 'supply_gri...\n",
       "  * carriers                    (carriers) object 24B 'electricity' 'gas' 'heat'\n",
       "  * nodes                       (nodes) object 32B 'N1' 'X1' 'X2' 'X3'\n",
       "  * timesteps                   (timesteps) datetime64[ns] 384B 2005-07-01 .....\n",
       "Data variables: (12/34)\n",
       "    cost_interest_rate          (costs) float64 8B 0.1\n",
       "    bigM                        float64 8B 1e+06\n",
       "    objective_cost_weights      (costs) float64 8B 1.0\n",
       "    base_tech                   (techs) object 96B 'transmission' ... 'supply'\n",
       "    carrier_export              (techs, carriers) bool 36B False False ... False\n",
       "    carrier_in                  (nodes, techs, carriers) bool 144B False ... ...\n",
       "    ...                          ...\n",
       "    longitude                   (nodes) float64 32B -0.1247 -0.1613 ... -0.1311\n",
       "    source_use_equals           (techs, timesteps) float64 5kB nan nan ... nan\n",
       "    sink_use_equals             (timesteps, techs, nodes) float64 18kB nan .....\n",
       "    definition_matrix           (nodes, techs, carriers) bool 144B False ... ...\n",
       "    timestep_resolution         (timesteps) float64 384B 1.0 1.0 1.0 ... 1.0 1.0\n",
       "    timestep_weights            (timesteps) float64 384B 1.0 1.0 1.0 ... 1.0 1.0"
      ]
     },
     "execution_count": 3,
     "metadata": {},
     "output_type": "execute_result"
    }
   ],
   "source": [
    "model.inputs"
   ]
  },
  {
   "cell_type": "markdown",
   "id": "ab4e52e2",
   "metadata": {},
   "source": [
    "Individual data variables can be accessed easily, `to_series().dropna()` allows us to view the data in a nice tabular format."
   ]
  },
  {
   "cell_type": "code",
   "execution_count": 4,
   "id": "d83c6d94",
   "metadata": {},
   "outputs": [
    {
     "data": {
      "text/plain": [
       "techs              carriers     nodes\n",
       "N1_to_X2           heat         N1       2000.0\n",
       "                                X2       2000.0\n",
       "N1_to_X3           heat         N1       2000.0\n",
       "                                X3       2000.0\n",
       "X1_to_N1           heat         N1       2000.0\n",
       "                                X1       2000.0\n",
       "X1_to_X2           electricity  X1       2000.0\n",
       "                                X2       2000.0\n",
       "X1_to_X3           electricity  X1       2000.0\n",
       "                                X3       2000.0\n",
       "boiler             heat         X2        600.0\n",
       "                                X3        600.0\n",
       "chp                electricity  X1       1500.0\n",
       "pv                 electricity  X1        250.0\n",
       "                                X2        250.0\n",
       "                                X3         50.0\n",
       "supply_gas         gas          X1       2000.0\n",
       "                                X2       2000.0\n",
       "                                X3       2000.0\n",
       "supply_grid_power  electricity  X1       2000.0\n",
       "Name: flow_cap_max, dtype: float64"
      ]
     },
     "execution_count": 4,
     "metadata": {},
     "output_type": "execute_result"
    }
   ],
   "source": [
    "model.inputs.flow_cap_max.to_series().dropna()"
   ]
  },
  {
   "cell_type": "markdown",
   "id": "1768d075",
   "metadata": {},
   "source": [
    "You can apply node/tech/carrier/timesteps only operations, like summing information over timesteps"
   ]
  },
  {
   "cell_type": "code",
   "execution_count": 5,
   "id": "acb00693",
   "metadata": {},
   "outputs": [
    {
     "data": {
      "text/plain": [
       "techs               nodes\n",
       "demand_electricity  X1         35.271156\n",
       "                    X2       8796.878622\n",
       "                    X3       1244.604116\n",
       "demand_heat         X1         33.999992\n",
       "                    X2       7147.808356\n",
       "                    X3         50.567751\n",
       "Name: sink_use_equals, dtype: float64"
      ]
     },
     "execution_count": 5,
     "metadata": {},
     "output_type": "execute_result"
    }
   ],
   "source": [
    "model.inputs.sink_use_equals.sum(\n",
    "    \"timesteps\", min_count=1, skipna=True\n",
    ").to_series().dropna()"
   ]
  },
  {
   "cell_type": "markdown",
   "id": "7d469456",
   "metadata": {},
   "source": [
    "## Build and solve the optimisation problem.\n",
    "\n",
    "Results are loaded into `model.results`.\n",
    "By setting the log verbosity at the start of this tutorial to \"INFO\", we can see the timing of parts of the run, as well as the solver's log."
   ]
  },
  {
   "cell_type": "code",
   "execution_count": 6,
   "id": "ff587361",
   "metadata": {},
   "outputs": [
    {
     "name": "stdout",
     "output_type": "stream",
     "text": [
      "[2025-10-10 10:54:20] INFO     Model: backend build starting\n",
      "[2025-10-10 10:54:20] INFO     Optimisation Model | parameters/lookups | Generated.\n",
      "[2025-10-10 10:54:20] INFO     Optimisation Model | variables | Generated.\n",
      "[2025-10-10 10:54:22] INFO     Optimisation Model | global_expressions | Generated.\n",
      "[2025-10-10 10:54:23] INFO     Optimisation Model | constraints | Generated.\n",
      "[2025-10-10 10:54:23] INFO     Optimisation Model | piecewise_constraints | Generated.\n",
      "[2025-10-10 10:54:23] INFO     Optimisation Model | objectives | Generated.\n",
      "[2025-10-10 10:54:23] INFO     Model: backend build complete\n",
      "[2025-10-10 10:54:23] INFO     Optimisation model | starting model in base mode.\n",
      "[2025-10-10 10:54:24] INFO     Backend: solver finished running. Time since start of solving optimisation problem: 0:00:00.683741\n",
      "[2025-10-10 10:54:24] INFO     Postprocessing: applied zero threshold 1e-10 to model results.\n",
      "[2025-10-10 10:54:24] INFO     Postprocessing: ended. Time since start of solving optimisation problem: 0:00:00.751742\n",
      "[2025-10-10 10:54:24] INFO     Backend: model solve completed. Time since start of solving optimisation problem: 0:00:00.752742\n"
     ]
    }
   ],
   "source": [
    "model.build()\n",
    "model.solve()"
   ]
  },
  {
   "cell_type": "markdown",
   "id": "cd2d148a",
   "metadata": {},
   "source": [
    "Model results are held in the same structure as model inputs.\n",
    "The results consist of the optimal values for all decision variables, including capacities and carrier flow.\n",
    "There are also results, like system capacity factor and levelised costs, which are calculated in postprocessing before being added to the results Dataset"
   ]
  },
  {
   "cell_type": "markdown",
   "id": "51b40ca8",
   "metadata": {},
   "source": [
    "## Examine results"
   ]
  },
  {
   "cell_type": "code",
   "execution_count": 7,
   "id": "dd33bb44",
   "metadata": {},
   "outputs": [
    {
     "data": {
      "text/html": [
       "<div><svg style=\"position: absolute; width: 0; height: 0; overflow: hidden\">\n",
       "<defs>\n",
       "<symbol id=\"icon-database\" viewBox=\"0 0 32 32\">\n",
       "<path d=\"M16 0c-8.837 0-16 2.239-16 5v4c0 2.761 7.163 5 16 5s16-2.239 16-5v-4c0-2.761-7.163-5-16-5z\"></path>\n",
       "<path d=\"M16 17c-8.837 0-16-2.239-16-5v6c0 2.761 7.163 5 16 5s16-2.239 16-5v-6c0 2.761-7.163 5-16 5z\"></path>\n",
       "<path d=\"M16 26c-8.837 0-16-2.239-16-5v6c0 2.761 7.163 5 16 5s16-2.239 16-5v-6c0 2.761-7.163 5-16 5z\"></path>\n",
       "</symbol>\n",
       "<symbol id=\"icon-file-text2\" viewBox=\"0 0 32 32\">\n",
       "<path d=\"M28.681 7.159c-0.694-0.947-1.662-2.053-2.724-3.116s-2.169-2.030-3.116-2.724c-1.612-1.182-2.393-1.319-2.841-1.319h-15.5c-1.378 0-2.5 1.121-2.5 2.5v27c0 1.378 1.122 2.5 2.5 2.5h23c1.378 0 2.5-1.122 2.5-2.5v-19.5c0-0.448-0.137-1.23-1.319-2.841zM24.543 5.457c0.959 0.959 1.712 1.825 2.268 2.543h-4.811v-4.811c0.718 0.556 1.584 1.309 2.543 2.268zM28 29.5c0 0.271-0.229 0.5-0.5 0.5h-23c-0.271 0-0.5-0.229-0.5-0.5v-27c0-0.271 0.229-0.5 0.5-0.5 0 0 15.499-0 15.5 0v7c0 0.552 0.448 1 1 1h7v19.5z\"></path>\n",
       "<path d=\"M23 26h-14c-0.552 0-1-0.448-1-1s0.448-1 1-1h14c0.552 0 1 0.448 1 1s-0.448 1-1 1z\"></path>\n",
       "<path d=\"M23 22h-14c-0.552 0-1-0.448-1-1s0.448-1 1-1h14c0.552 0 1 0.448 1 1s-0.448 1-1 1z\"></path>\n",
       "<path d=\"M23 18h-14c-0.552 0-1-0.448-1-1s0.448-1 1-1h14c0.552 0 1 0.448 1 1s-0.448 1-1 1z\"></path>\n",
       "</symbol>\n",
       "</defs>\n",
       "</svg>\n",
       "<style>/* CSS stylesheet for displaying xarray objects in jupyterlab.\n",
       " *\n",
       " */\n",
       "\n",
       ":root {\n",
       "  --xr-font-color0: var(--jp-content-font-color0, rgba(0, 0, 0, 1));\n",
       "  --xr-font-color2: var(--jp-content-font-color2, rgba(0, 0, 0, 0.54));\n",
       "  --xr-font-color3: var(--jp-content-font-color3, rgba(0, 0, 0, 0.38));\n",
       "  --xr-border-color: var(--jp-border-color2, #e0e0e0);\n",
       "  --xr-disabled-color: var(--jp-layout-color3, #bdbdbd);\n",
       "  --xr-background-color: var(--jp-layout-color0, white);\n",
       "  --xr-background-color-row-even: var(--jp-layout-color1, white);\n",
       "  --xr-background-color-row-odd: var(--jp-layout-color2, #eeeeee);\n",
       "}\n",
       "\n",
       "html[theme=dark],\n",
       "body[data-theme=dark],\n",
       "body.vscode-dark {\n",
       "  --xr-font-color0: rgba(255, 255, 255, 1);\n",
       "  --xr-font-color2: rgba(255, 255, 255, 0.54);\n",
       "  --xr-font-color3: rgba(255, 255, 255, 0.38);\n",
       "  --xr-border-color: #1F1F1F;\n",
       "  --xr-disabled-color: #515151;\n",
       "  --xr-background-color: #111111;\n",
       "  --xr-background-color-row-even: #111111;\n",
       "  --xr-background-color-row-odd: #313131;\n",
       "}\n",
       "\n",
       ".xr-wrap {\n",
       "  display: block !important;\n",
       "  min-width: 300px;\n",
       "  max-width: 700px;\n",
       "}\n",
       "\n",
       ".xr-text-repr-fallback {\n",
       "  /* fallback to plain text repr when CSS is not injected (untrusted notebook) */\n",
       "  display: none;\n",
       "}\n",
       "\n",
       ".xr-header {\n",
       "  padding-top: 6px;\n",
       "  padding-bottom: 6px;\n",
       "  margin-bottom: 4px;\n",
       "  border-bottom: solid 1px var(--xr-border-color);\n",
       "}\n",
       "\n",
       ".xr-header > div,\n",
       ".xr-header > ul {\n",
       "  display: inline;\n",
       "  margin-top: 0;\n",
       "  margin-bottom: 0;\n",
       "}\n",
       "\n",
       ".xr-obj-type,\n",
       ".xr-array-name {\n",
       "  margin-left: 2px;\n",
       "  margin-right: 10px;\n",
       "}\n",
       "\n",
       ".xr-obj-type {\n",
       "  color: var(--xr-font-color2);\n",
       "}\n",
       "\n",
       ".xr-sections {\n",
       "  padding-left: 0 !important;\n",
       "  display: grid;\n",
       "  grid-template-columns: 150px auto auto 1fr 20px 20px;\n",
       "}\n",
       "\n",
       ".xr-section-item {\n",
       "  display: contents;\n",
       "}\n",
       "\n",
       ".xr-section-item input {\n",
       "  display: none;\n",
       "}\n",
       "\n",
       ".xr-section-item input + label {\n",
       "  color: var(--xr-disabled-color);\n",
       "}\n",
       "\n",
       ".xr-section-item input:enabled + label {\n",
       "  cursor: pointer;\n",
       "  color: var(--xr-font-color2);\n",
       "}\n",
       "\n",
       ".xr-section-item input:enabled + label:hover {\n",
       "  color: var(--xr-font-color0);\n",
       "}\n",
       "\n",
       ".xr-section-summary {\n",
       "  grid-column: 1;\n",
       "  color: var(--xr-font-color2);\n",
       "  font-weight: 500;\n",
       "}\n",
       "\n",
       ".xr-section-summary > span {\n",
       "  display: inline-block;\n",
       "  padding-left: 0.5em;\n",
       "}\n",
       "\n",
       ".xr-section-summary-in:disabled + label {\n",
       "  color: var(--xr-font-color2);\n",
       "}\n",
       "\n",
       ".xr-section-summary-in + label:before {\n",
       "  display: inline-block;\n",
       "  content: '►';\n",
       "  font-size: 11px;\n",
       "  width: 15px;\n",
       "  text-align: center;\n",
       "}\n",
       "\n",
       ".xr-section-summary-in:disabled + label:before {\n",
       "  color: var(--xr-disabled-color);\n",
       "}\n",
       "\n",
       ".xr-section-summary-in:checked + label:before {\n",
       "  content: '▼';\n",
       "}\n",
       "\n",
       ".xr-section-summary-in:checked + label > span {\n",
       "  display: none;\n",
       "}\n",
       "\n",
       ".xr-section-summary,\n",
       ".xr-section-inline-details {\n",
       "  padding-top: 4px;\n",
       "  padding-bottom: 4px;\n",
       "}\n",
       "\n",
       ".xr-section-inline-details {\n",
       "  grid-column: 2 / -1;\n",
       "}\n",
       "\n",
       ".xr-section-details {\n",
       "  display: none;\n",
       "  grid-column: 1 / -1;\n",
       "  margin-bottom: 5px;\n",
       "}\n",
       "\n",
       ".xr-section-summary-in:checked ~ .xr-section-details {\n",
       "  display: contents;\n",
       "}\n",
       "\n",
       ".xr-array-wrap {\n",
       "  grid-column: 1 / -1;\n",
       "  display: grid;\n",
       "  grid-template-columns: 20px auto;\n",
       "}\n",
       "\n",
       ".xr-array-wrap > label {\n",
       "  grid-column: 1;\n",
       "  vertical-align: top;\n",
       "}\n",
       "\n",
       ".xr-preview {\n",
       "  color: var(--xr-font-color3);\n",
       "}\n",
       "\n",
       ".xr-array-preview,\n",
       ".xr-array-data {\n",
       "  padding: 0 5px !important;\n",
       "  grid-column: 2;\n",
       "}\n",
       "\n",
       ".xr-array-data,\n",
       ".xr-array-in:checked ~ .xr-array-preview {\n",
       "  display: none;\n",
       "}\n",
       "\n",
       ".xr-array-in:checked ~ .xr-array-data,\n",
       ".xr-array-preview {\n",
       "  display: inline-block;\n",
       "}\n",
       "\n",
       ".xr-dim-list {\n",
       "  display: inline-block !important;\n",
       "  list-style: none;\n",
       "  padding: 0 !important;\n",
       "  margin: 0;\n",
       "}\n",
       "\n",
       ".xr-dim-list li {\n",
       "  display: inline-block;\n",
       "  padding: 0;\n",
       "  margin: 0;\n",
       "}\n",
       "\n",
       ".xr-dim-list:before {\n",
       "  content: '(';\n",
       "}\n",
       "\n",
       ".xr-dim-list:after {\n",
       "  content: ')';\n",
       "}\n",
       "\n",
       ".xr-dim-list li:not(:last-child):after {\n",
       "  content: ',';\n",
       "  padding-right: 5px;\n",
       "}\n",
       "\n",
       ".xr-has-index {\n",
       "  font-weight: bold;\n",
       "}\n",
       "\n",
       ".xr-var-list,\n",
       ".xr-var-item {\n",
       "  display: contents;\n",
       "}\n",
       "\n",
       ".xr-var-item > div,\n",
       ".xr-var-item label,\n",
       ".xr-var-item > .xr-var-name span {\n",
       "  background-color: var(--xr-background-color-row-even);\n",
       "  margin-bottom: 0;\n",
       "}\n",
       "\n",
       ".xr-var-item > .xr-var-name:hover span {\n",
       "  padding-right: 5px;\n",
       "}\n",
       "\n",
       ".xr-var-list > li:nth-child(odd) > div,\n",
       ".xr-var-list > li:nth-child(odd) > label,\n",
       ".xr-var-list > li:nth-child(odd) > .xr-var-name span {\n",
       "  background-color: var(--xr-background-color-row-odd);\n",
       "}\n",
       "\n",
       ".xr-var-name {\n",
       "  grid-column: 1;\n",
       "}\n",
       "\n",
       ".xr-var-dims {\n",
       "  grid-column: 2;\n",
       "}\n",
       "\n",
       ".xr-var-dtype {\n",
       "  grid-column: 3;\n",
       "  text-align: right;\n",
       "  color: var(--xr-font-color2);\n",
       "}\n",
       "\n",
       ".xr-var-preview {\n",
       "  grid-column: 4;\n",
       "}\n",
       "\n",
       ".xr-index-preview {\n",
       "  grid-column: 2 / 5;\n",
       "  color: var(--xr-font-color2);\n",
       "}\n",
       "\n",
       ".xr-var-name,\n",
       ".xr-var-dims,\n",
       ".xr-var-dtype,\n",
       ".xr-preview,\n",
       ".xr-attrs dt {\n",
       "  white-space: nowrap;\n",
       "  overflow: hidden;\n",
       "  text-overflow: ellipsis;\n",
       "  padding-right: 10px;\n",
       "}\n",
       "\n",
       ".xr-var-name:hover,\n",
       ".xr-var-dims:hover,\n",
       ".xr-var-dtype:hover,\n",
       ".xr-attrs dt:hover {\n",
       "  overflow: visible;\n",
       "  width: auto;\n",
       "  z-index: 1;\n",
       "}\n",
       "\n",
       ".xr-var-attrs,\n",
       ".xr-var-data,\n",
       ".xr-index-data {\n",
       "  display: none;\n",
       "  background-color: var(--xr-background-color) !important;\n",
       "  padding-bottom: 5px !important;\n",
       "}\n",
       "\n",
       ".xr-var-attrs-in:checked ~ .xr-var-attrs,\n",
       ".xr-var-data-in:checked ~ .xr-var-data,\n",
       ".xr-index-data-in:checked ~ .xr-index-data {\n",
       "  display: block;\n",
       "}\n",
       "\n",
       ".xr-var-data > table {\n",
       "  float: right;\n",
       "}\n",
       "\n",
       ".xr-var-name span,\n",
       ".xr-var-data,\n",
       ".xr-index-name div,\n",
       ".xr-index-data,\n",
       ".xr-attrs {\n",
       "  padding-left: 25px !important;\n",
       "}\n",
       "\n",
       ".xr-attrs,\n",
       ".xr-var-attrs,\n",
       ".xr-var-data,\n",
       ".xr-index-data {\n",
       "  grid-column: 1 / -1;\n",
       "}\n",
       "\n",
       "dl.xr-attrs {\n",
       "  padding: 0;\n",
       "  margin: 0;\n",
       "  display: grid;\n",
       "  grid-template-columns: 125px auto;\n",
       "}\n",
       "\n",
       ".xr-attrs dt,\n",
       ".xr-attrs dd {\n",
       "  padding: 0;\n",
       "  margin: 0;\n",
       "  float: left;\n",
       "  padding-right: 10px;\n",
       "  width: auto;\n",
       "}\n",
       "\n",
       ".xr-attrs dt {\n",
       "  font-weight: normal;\n",
       "  grid-column: 1;\n",
       "}\n",
       "\n",
       ".xr-attrs dt:hover span {\n",
       "  display: inline-block;\n",
       "  background: var(--xr-background-color);\n",
       "  padding-right: 10px;\n",
       "}\n",
       "\n",
       ".xr-attrs dd {\n",
       "  grid-column: 2;\n",
       "  white-space: pre-wrap;\n",
       "  word-break: break-all;\n",
       "}\n",
       "\n",
       ".xr-icon-database,\n",
       ".xr-icon-file-text2,\n",
       ".xr-no-icon {\n",
       "  display: inline-block;\n",
       "  vertical-align: middle;\n",
       "  width: 1em;\n",
       "  height: 1.5em !important;\n",
       "  stroke-width: 0;\n",
       "  stroke: currentColor;\n",
       "  fill: currentColor;\n",
       "}\n",
       "</style><pre class='xr-text-repr-fallback'>&lt;xarray.Dataset&gt; Size: 388kB\n",
       "Dimensions:                     (nodes: 4, techs: 12, carriers: 3,\n",
       "                                 timesteps: 48, costs: 1)\n",
       "Coordinates:\n",
       "  * techs                       (techs) object 96B &#x27;N1_to_X2&#x27; ... &#x27;supply_gri...\n",
       "  * nodes                       (nodes) object 32B &#x27;N1&#x27; &#x27;X1&#x27; &#x27;X2&#x27; &#x27;X3&#x27;\n",
       "  * carriers                    (carriers) object 24B &#x27;electricity&#x27; &#x27;gas&#x27; &#x27;heat&#x27;\n",
       "  * timesteps                   (timesteps) datetime64[ns] 384B 2005-07-01 .....\n",
       "  * costs                       (costs) object 8B &#x27;monetary&#x27;\n",
       "Data variables: (12/24)\n",
       "    flow_cap                    (nodes, techs, carriers) float64 1kB nan ... nan\n",
       "    link_flow_cap               (techs) float64 96B 190.2 10.38 ... nan nan\n",
       "    flow_out                    (nodes, techs, carriers, timesteps) float64 55kB ...\n",
       "    flow_in                     (nodes, techs, carriers, timesteps) float64 55kB ...\n",
       "    flow_export                 (nodes, techs, carriers, timesteps) float64 55kB ...\n",
       "    area_use                    (nodes, techs) float64 384B nan nan ... nan nan\n",
       "    ...                          ...\n",
       "    min_cost_optimisation       float64 8B 842.3\n",
       "    capacity_factor             (nodes, techs, carriers, timesteps) float64 55kB ...\n",
       "    systemwide_capacity_factor  (techs, carriers) float64 288B 0.0 0.0 ... 0.0\n",
       "    systemwide_levelised_cost   (techs, costs, carriers) float64 288B nan ......\n",
       "    total_levelised_cost        (costs, carriers) float64 24B 0.07937 ... 0.0...\n",
       "    unmet_sum                   (nodes, carriers, timesteps) float64 5kB nan ...</pre><div class='xr-wrap' style='display:none'><div class='xr-header'><div class='xr-obj-type'>xarray.Dataset</div></div><ul class='xr-sections'><li class='xr-section-item'><input id='section-9cd53cb6-0a13-43a1-a07f-ac36f3cc7825' class='xr-section-summary-in' type='checkbox' disabled ><label for='section-9cd53cb6-0a13-43a1-a07f-ac36f3cc7825' class='xr-section-summary'  title='Expand/collapse section'>Dimensions:</label><div class='xr-section-inline-details'><ul class='xr-dim-list'><li><span class='xr-has-index'>nodes</span>: 4</li><li><span class='xr-has-index'>techs</span>: 12</li><li><span class='xr-has-index'>carriers</span>: 3</li><li><span class='xr-has-index'>timesteps</span>: 48</li><li><span class='xr-has-index'>costs</span>: 1</li></ul></div><div class='xr-section-details'></div></li><li class='xr-section-item'><input id='section-74dcf547-1232-4f72-a194-60ce0f68fbfa' class='xr-section-summary-in' type='checkbox'  checked><label for='section-74dcf547-1232-4f72-a194-60ce0f68fbfa' class='xr-section-summary' >Coordinates: <span>(5)</span></label><div class='xr-section-inline-details'></div><div class='xr-section-details'><ul class='xr-var-list'><li class='xr-var-item'><div class='xr-var-name'><span class='xr-has-index'>techs</span></div><div class='xr-var-dims'>(techs)</div><div class='xr-var-dtype'>object</div><div class='xr-var-preview xr-preview'>&#x27;N1_to_X2&#x27; ... &#x27;supply_grid_power&#x27;</div><input id='attrs-a8c6453f-e71c-4519-9317-8e4bb36953e4' class='xr-var-attrs-in' type='checkbox' disabled><label for='attrs-a8c6453f-e71c-4519-9317-8e4bb36953e4' title='Show/Hide attributes'><svg class='icon xr-icon-file-text2'><use xlink:href='#icon-file-text2'></use></svg></label><input id='data-14408552-a264-4fba-9dbd-62a7b4a4ce8c' class='xr-var-data-in' type='checkbox'><label for='data-14408552-a264-4fba-9dbd-62a7b4a4ce8c' title='Show/Hide data repr'><svg class='icon xr-icon-database'><use xlink:href='#icon-database'></use></svg></label><div class='xr-var-attrs'><dl class='xr-attrs'></dl></div><div class='xr-var-data'><pre>array([&#x27;N1_to_X2&#x27;, &#x27;N1_to_X3&#x27;, &#x27;X1_to_N1&#x27;, &#x27;X1_to_X2&#x27;, &#x27;X1_to_X3&#x27;, &#x27;boiler&#x27;,\n",
       "       &#x27;chp&#x27;, &#x27;demand_electricity&#x27;, &#x27;demand_heat&#x27;, &#x27;pv&#x27;, &#x27;supply_gas&#x27;,\n",
       "       &#x27;supply_grid_power&#x27;], dtype=object)</pre></div></li><li class='xr-var-item'><div class='xr-var-name'><span class='xr-has-index'>nodes</span></div><div class='xr-var-dims'>(nodes)</div><div class='xr-var-dtype'>object</div><div class='xr-var-preview xr-preview'>&#x27;N1&#x27; &#x27;X1&#x27; &#x27;X2&#x27; &#x27;X3&#x27;</div><input id='attrs-4ae9367f-e09d-4022-a690-c531775859dc' class='xr-var-attrs-in' type='checkbox' disabled><label for='attrs-4ae9367f-e09d-4022-a690-c531775859dc' title='Show/Hide attributes'><svg class='icon xr-icon-file-text2'><use xlink:href='#icon-file-text2'></use></svg></label><input id='data-802b8c8d-cbe1-4a07-b303-40e8889ace03' class='xr-var-data-in' type='checkbox'><label for='data-802b8c8d-cbe1-4a07-b303-40e8889ace03' title='Show/Hide data repr'><svg class='icon xr-icon-database'><use xlink:href='#icon-database'></use></svg></label><div class='xr-var-attrs'><dl class='xr-attrs'></dl></div><div class='xr-var-data'><pre>array([&#x27;N1&#x27;, &#x27;X1&#x27;, &#x27;X2&#x27;, &#x27;X3&#x27;], dtype=object)</pre></div></li><li class='xr-var-item'><div class='xr-var-name'><span class='xr-has-index'>carriers</span></div><div class='xr-var-dims'>(carriers)</div><div class='xr-var-dtype'>object</div><div class='xr-var-preview xr-preview'>&#x27;electricity&#x27; &#x27;gas&#x27; &#x27;heat&#x27;</div><input id='attrs-da969aaa-1564-4508-be6f-3d4741b63438' class='xr-var-attrs-in' type='checkbox' disabled><label for='attrs-da969aaa-1564-4508-be6f-3d4741b63438' title='Show/Hide attributes'><svg class='icon xr-icon-file-text2'><use xlink:href='#icon-file-text2'></use></svg></label><input id='data-2f86a12c-130c-43c8-9abd-aeeaa10398f3' class='xr-var-data-in' type='checkbox'><label for='data-2f86a12c-130c-43c8-9abd-aeeaa10398f3' title='Show/Hide data repr'><svg class='icon xr-icon-database'><use xlink:href='#icon-database'></use></svg></label><div class='xr-var-attrs'><dl class='xr-attrs'></dl></div><div class='xr-var-data'><pre>array([&#x27;electricity&#x27;, &#x27;gas&#x27;, &#x27;heat&#x27;], dtype=object)</pre></div></li><li class='xr-var-item'><div class='xr-var-name'><span class='xr-has-index'>timesteps</span></div><div class='xr-var-dims'>(timesteps)</div><div class='xr-var-dtype'>datetime64[ns]</div><div class='xr-var-preview xr-preview'>2005-07-01 ... 2005-07-02T23:00:00</div><input id='attrs-bd5125ca-5065-4d6c-9e4e-c773dbe7a912' class='xr-var-attrs-in' type='checkbox' disabled><label for='attrs-bd5125ca-5065-4d6c-9e4e-c773dbe7a912' title='Show/Hide attributes'><svg class='icon xr-icon-file-text2'><use xlink:href='#icon-file-text2'></use></svg></label><input id='data-43c3eb2d-85f1-412d-8138-d1c00ef933cd' class='xr-var-data-in' type='checkbox'><label for='data-43c3eb2d-85f1-412d-8138-d1c00ef933cd' title='Show/Hide data repr'><svg class='icon xr-icon-database'><use xlink:href='#icon-database'></use></svg></label><div class='xr-var-attrs'><dl class='xr-attrs'></dl></div><div class='xr-var-data'><pre>array([&#x27;2005-07-01T00:00:00.000000000&#x27;, &#x27;2005-07-01T01:00:00.000000000&#x27;,\n",
       "       &#x27;2005-07-01T02:00:00.000000000&#x27;, &#x27;2005-07-01T03:00:00.000000000&#x27;,\n",
       "       &#x27;2005-07-01T04:00:00.000000000&#x27;, &#x27;2005-07-01T05:00:00.000000000&#x27;,\n",
       "       &#x27;2005-07-01T06:00:00.000000000&#x27;, &#x27;2005-07-01T07:00:00.000000000&#x27;,\n",
       "       &#x27;2005-07-01T08:00:00.000000000&#x27;, &#x27;2005-07-01T09:00:00.000000000&#x27;,\n",
       "       &#x27;2005-07-01T10:00:00.000000000&#x27;, &#x27;2005-07-01T11:00:00.000000000&#x27;,\n",
       "       &#x27;2005-07-01T12:00:00.000000000&#x27;, &#x27;2005-07-01T13:00:00.000000000&#x27;,\n",
       "       &#x27;2005-07-01T14:00:00.000000000&#x27;, &#x27;2005-07-01T15:00:00.000000000&#x27;,\n",
       "       &#x27;2005-07-01T16:00:00.000000000&#x27;, &#x27;2005-07-01T17:00:00.000000000&#x27;,\n",
       "       &#x27;2005-07-01T18:00:00.000000000&#x27;, &#x27;2005-07-01T19:00:00.000000000&#x27;,\n",
       "       &#x27;2005-07-01T20:00:00.000000000&#x27;, &#x27;2005-07-01T21:00:00.000000000&#x27;,\n",
       "       &#x27;2005-07-01T22:00:00.000000000&#x27;, &#x27;2005-07-01T23:00:00.000000000&#x27;,\n",
       "       &#x27;2005-07-02T00:00:00.000000000&#x27;, &#x27;2005-07-02T01:00:00.000000000&#x27;,\n",
       "       &#x27;2005-07-02T02:00:00.000000000&#x27;, &#x27;2005-07-02T03:00:00.000000000&#x27;,\n",
       "       &#x27;2005-07-02T04:00:00.000000000&#x27;, &#x27;2005-07-02T05:00:00.000000000&#x27;,\n",
       "       &#x27;2005-07-02T06:00:00.000000000&#x27;, &#x27;2005-07-02T07:00:00.000000000&#x27;,\n",
       "       &#x27;2005-07-02T08:00:00.000000000&#x27;, &#x27;2005-07-02T09:00:00.000000000&#x27;,\n",
       "       &#x27;2005-07-02T10:00:00.000000000&#x27;, &#x27;2005-07-02T11:00:00.000000000&#x27;,\n",
       "       &#x27;2005-07-02T12:00:00.000000000&#x27;, &#x27;2005-07-02T13:00:00.000000000&#x27;,\n",
       "       &#x27;2005-07-02T14:00:00.000000000&#x27;, &#x27;2005-07-02T15:00:00.000000000&#x27;,\n",
       "       &#x27;2005-07-02T16:00:00.000000000&#x27;, &#x27;2005-07-02T17:00:00.000000000&#x27;,\n",
       "       &#x27;2005-07-02T18:00:00.000000000&#x27;, &#x27;2005-07-02T19:00:00.000000000&#x27;,\n",
       "       &#x27;2005-07-02T20:00:00.000000000&#x27;, &#x27;2005-07-02T21:00:00.000000000&#x27;,\n",
       "       &#x27;2005-07-02T22:00:00.000000000&#x27;, &#x27;2005-07-02T23:00:00.000000000&#x27;],\n",
       "      dtype=&#x27;datetime64[ns]&#x27;)</pre></div></li><li class='xr-var-item'><div class='xr-var-name'><span class='xr-has-index'>costs</span></div><div class='xr-var-dims'>(costs)</div><div class='xr-var-dtype'>object</div><div class='xr-var-preview xr-preview'>&#x27;monetary&#x27;</div><input id='attrs-42062765-3159-4cf3-87aa-6281d2737b57' class='xr-var-attrs-in' type='checkbox' disabled><label for='attrs-42062765-3159-4cf3-87aa-6281d2737b57' title='Show/Hide attributes'><svg class='icon xr-icon-file-text2'><use xlink:href='#icon-file-text2'></use></svg></label><input id='data-433dcc12-709b-4a93-bb9f-1b6dbe79e719' class='xr-var-data-in' type='checkbox'><label for='data-433dcc12-709b-4a93-bb9f-1b6dbe79e719' title='Show/Hide data repr'><svg class='icon xr-icon-database'><use xlink:href='#icon-database'></use></svg></label><div class='xr-var-attrs'><dl class='xr-attrs'></dl></div><div class='xr-var-data'><pre>array([&#x27;monetary&#x27;], dtype=object)</pre></div></li></ul></div></li><li class='xr-section-item'><input id='section-7f043ea2-d6d8-47b8-b320-d16bde418a0c' class='xr-section-summary-in' type='checkbox'  ><label for='section-7f043ea2-d6d8-47b8-b320-d16bde418a0c' class='xr-section-summary' >Data variables: <span>(24)</span></label><div class='xr-section-inline-details'></div><div class='xr-section-details'><ul class='xr-var-list'><li class='xr-var-item'><div class='xr-var-name'><span>flow_cap</span></div><div class='xr-var-dims'>(nodes, techs, carriers)</div><div class='xr-var-dtype'>float64</div><div class='xr-var-preview xr-preview'>nan nan 190.2 nan ... nan nan nan</div><input id='attrs-95760570-9624-40fd-ab81-5f21a467bd0f' class='xr-var-attrs-in' type='checkbox' disabled><label for='attrs-95760570-9624-40fd-ab81-5f21a467bd0f' title='Show/Hide attributes'><svg class='icon xr-icon-file-text2'><use xlink:href='#icon-file-text2'></use></svg></label><input id='data-f0ec8e88-6ec7-4205-be69-815faf74e7ef' class='xr-var-data-in' type='checkbox'><label for='data-f0ec8e88-6ec7-4205-be69-815faf74e7ef' title='Show/Hide data repr'><svg class='icon xr-icon-database'><use xlink:href='#icon-database'></use></svg></label><div class='xr-var-attrs'><dl class='xr-attrs'></dl></div><div class='xr-var-data'><pre>array([[[           nan,            nan, 1.90242625e+02],\n",
       "        [           nan,            nan, 1.03825991e+01],\n",
       "        [           nan,            nan, 5.69125932e+02],\n",
       "        [           nan,            nan,            nan],\n",
       "        [           nan,            nan,            nan],\n",
       "        [           nan,            nan,            nan],\n",
       "        [           nan,            nan,            nan],\n",
       "        [           nan,            nan,            nan],\n",
       "        [           nan,            nan,            nan],\n",
       "        [           nan,            nan,            nan],\n",
       "        [           nan,            nan,            nan],\n",
       "        [           nan,            nan,            nan]],\n",
       "\n",
       "       [[           nan,            nan,            nan],\n",
       "        [           nan,            nan,            nan],\n",
       "        [           nan,            nan, 5.69125932e+02],\n",
       "        [2.74511702e+02,            nan,            nan],\n",
       "        [4.57783360e+01,            nan,            nan],\n",
       "        [           nan,            nan,            nan],\n",
       "        [2.60946698e+02, 6.44312835e+02, 2.08757358e+02],\n",
       "...\n",
       "        [           nan, 2.26859378e+02, 1.92830471e+02],\n",
       "        [           nan,            nan,            nan],\n",
       "        [2.69344347e+02,            nan,            nan],\n",
       "        [           nan,            nan, 3.65137675e+02],\n",
       "        [6.33095088e+01,            nan,            nan],\n",
       "        [           nan, 2.26859378e+02,            nan],\n",
       "        [           nan,            nan,            nan]],\n",
       "\n",
       "       [[           nan,            nan,            nan],\n",
       "        [           nan,            nan, 1.03825991e+01],\n",
       "        [           nan,            nan,            nan],\n",
       "        [           nan,            nan,            nan],\n",
       "        [4.57783360e+01,            nan,            nan],\n",
       "        [           nan, 1.83529412e-02, 1.56000000e-02],\n",
       "        [           nan,            nan,            nan],\n",
       "        [6.49273573e+01,            nan,            nan],\n",
       "        [           nan,            nan, 9.39822908e+00],\n",
       "        [5.00000000e+01,            nan,            nan],\n",
       "        [           nan, 1.83529412e-02,            nan],\n",
       "        [           nan,            nan,            nan]]])</pre></div></li><li class='xr-var-item'><div class='xr-var-name'><span>link_flow_cap</span></div><div class='xr-var-dims'>(techs)</div><div class='xr-var-dtype'>float64</div><div class='xr-var-preview xr-preview'>190.2 10.38 569.1 ... nan nan nan</div><input id='attrs-b8f653fb-d647-47f2-a243-bb555eacfdd9' class='xr-var-attrs-in' type='checkbox' disabled><label for='attrs-b8f653fb-d647-47f2-a243-bb555eacfdd9' title='Show/Hide attributes'><svg class='icon xr-icon-file-text2'><use xlink:href='#icon-file-text2'></use></svg></label><input id='data-78ae818f-081f-40fc-bf1d-7c8fe71a85a1' class='xr-var-data-in' type='checkbox'><label for='data-78ae818f-081f-40fc-bf1d-7c8fe71a85a1' title='Show/Hide data repr'><svg class='icon xr-icon-database'><use xlink:href='#icon-database'></use></svg></label><div class='xr-var-attrs'><dl class='xr-attrs'></dl></div><div class='xr-var-data'><pre>array([190.24262474,  10.3825991 , 569.12593186, 274.51170209,\n",
       "        45.77833599,          nan,          nan,          nan,\n",
       "                nan,          nan,          nan,          nan])</pre></div></li><li class='xr-var-item'><div class='xr-var-name'><span>flow_out</span></div><div class='xr-var-dims'>(nodes, techs, carriers, timesteps)</div><div class='xr-var-dtype'>float64</div><div class='xr-var-preview xr-preview'>nan nan nan nan ... nan nan nan nan</div><input id='attrs-68fa3039-8978-4418-8117-f9426ad9521f' class='xr-var-attrs-in' type='checkbox' disabled><label for='attrs-68fa3039-8978-4418-8117-f9426ad9521f' title='Show/Hide attributes'><svg class='icon xr-icon-file-text2'><use xlink:href='#icon-file-text2'></use></svg></label><input id='data-ebc9906f-3047-4f9d-a8d0-f045013f9abe' class='xr-var-data-in' type='checkbox'><label for='data-ebc9906f-3047-4f9d-a8d0-f045013f9abe' title='Show/Hide data repr'><svg class='icon xr-icon-database'><use xlink:href='#icon-database'></use></svg></label><div class='xr-var-attrs'><dl class='xr-attrs'></dl></div><div class='xr-var-data'><pre>array([[[[           nan,            nan,            nan, ...,\n",
       "                     nan,            nan,            nan],\n",
       "         [           nan,            nan,            nan, ...,\n",
       "                     nan,            nan,            nan],\n",
       "         [0.00000000e+00, 0.00000000e+00, 0.00000000e+00, ...,\n",
       "          0.00000000e+00, 0.00000000e+00, 0.00000000e+00]],\n",
       "\n",
       "        [[           nan,            nan,            nan, ...,\n",
       "                     nan,            nan,            nan],\n",
       "         [           nan,            nan,            nan, ...,\n",
       "                     nan,            nan,            nan],\n",
       "         [0.00000000e+00, 0.00000000e+00, 0.00000000e+00, ...,\n",
       "          0.00000000e+00, 0.00000000e+00, 0.00000000e+00]],\n",
       "\n",
       "        [[           nan,            nan,            nan, ...,\n",
       "                     nan,            nan,            nan],\n",
       "         [           nan,            nan,            nan, ...,\n",
       "                     nan,            nan,            nan],\n",
       "         [1.63272893e+02, 7.25410744e+01, 7.29155642e+01, ...,\n",
       "          1.63036210e+02, 1.16800078e+02, 9.28520365e+01]],\n",
       "...\n",
       "        [[0.00000000e+00, 0.00000000e+00, 0.00000000e+00, ...,\n",
       "          0.00000000e+00, 0.00000000e+00, 0.00000000e+00],\n",
       "         [           nan,            nan,            nan, ...,\n",
       "                     nan,            nan,            nan],\n",
       "         [           nan,            nan,            nan, ...,\n",
       "                     nan,            nan,            nan]],\n",
       "\n",
       "        [[           nan,            nan,            nan, ...,\n",
       "                     nan,            nan,            nan],\n",
       "         [0.00000000e+00, 1.83529412e-02, 1.83529412e-02, ...,\n",
       "          1.83529412e-02, 1.83529412e-02, 1.83529412e-02],\n",
       "         [           nan,            nan,            nan, ...,\n",
       "                     nan,            nan,            nan]],\n",
       "\n",
       "        [[           nan,            nan,            nan, ...,\n",
       "                     nan,            nan,            nan],\n",
       "         [           nan,            nan,            nan, ...,\n",
       "                     nan,            nan,            nan],\n",
       "         [           nan,            nan,            nan, ...,\n",
       "                     nan,            nan,            nan]]]])</pre></div></li><li class='xr-var-item'><div class='xr-var-name'><span>flow_in</span></div><div class='xr-var-dims'>(nodes, techs, carriers, timesteps)</div><div class='xr-var-dtype'>float64</div><div class='xr-var-preview xr-preview'>nan nan nan nan ... nan nan nan nan</div><input id='attrs-b865039c-e355-48d9-bac6-5dc724454568' class='xr-var-attrs-in' type='checkbox' disabled><label for='attrs-b865039c-e355-48d9-bac6-5dc724454568' title='Show/Hide attributes'><svg class='icon xr-icon-file-text2'><use xlink:href='#icon-file-text2'></use></svg></label><input id='data-b5ac125c-6229-4b27-9e64-d19be74d4fdf' class='xr-var-data-in' type='checkbox'><label for='data-b5ac125c-6229-4b27-9e64-d19be74d4fdf' title='Show/Hide data repr'><svg class='icon xr-icon-database'><use xlink:href='#icon-database'></use></svg></label><div class='xr-var-attrs'><dl class='xr-attrs'></dl></div><div class='xr-var-data'><pre>array([[[[           nan,            nan,            nan, ...,\n",
       "                     nan,            nan,            nan],\n",
       "         [           nan,            nan,            nan, ...,\n",
       "                     nan,            nan,            nan],\n",
       "         [7.97444779e+01, 7.16063247e+01, 7.29155642e+01, ...,\n",
       "          1.62101485e+02, 1.16800078e+02, 9.19173224e+01]],\n",
       "\n",
       "        [[           nan,            nan,            nan, ...,\n",
       "                     nan,            nan,            nan],\n",
       "         [           nan,            nan,            nan, ...,\n",
       "                     nan,            nan,            nan],\n",
       "         [1.72625971e-02, 9.34749747e-01, 0.00000000e+00, ...,\n",
       "          9.34725555e-01, 0.00000000e+00, 9.34714147e-01]],\n",
       "\n",
       "        [[           nan,            nan,            nan, ...,\n",
       "                     nan,            nan,            nan],\n",
       "         [           nan,            nan,            nan, ...,\n",
       "                     nan,            nan,            nan],\n",
       "         [8.35111523e+01, 0.00000000e+00, 0.00000000e+00, ...,\n",
       "          0.00000000e+00, 0.00000000e+00, 0.00000000e+00]],\n",
       "...\n",
       "        [[           nan,            nan,            nan, ...,\n",
       "                     nan,            nan,            nan],\n",
       "         [           nan,            nan,            nan, ...,\n",
       "                     nan,            nan,            nan],\n",
       "         [           nan,            nan,            nan, ...,\n",
       "                     nan,            nan,            nan]],\n",
       "\n",
       "        [[           nan,            nan,            nan, ...,\n",
       "                     nan,            nan,            nan],\n",
       "         [           nan,            nan,            nan, ...,\n",
       "                     nan,            nan,            nan],\n",
       "         [           nan,            nan,            nan, ...,\n",
       "                     nan,            nan,            nan]],\n",
       "\n",
       "        [[           nan,            nan,            nan, ...,\n",
       "                     nan,            nan,            nan],\n",
       "         [           nan,            nan,            nan, ...,\n",
       "                     nan,            nan,            nan],\n",
       "         [           nan,            nan,            nan, ...,\n",
       "                     nan,            nan,            nan]]]])</pre></div></li><li class='xr-var-item'><div class='xr-var-name'><span>flow_export</span></div><div class='xr-var-dims'>(nodes, techs, carriers, timesteps)</div><div class='xr-var-dtype'>float64</div><div class='xr-var-preview xr-preview'>nan nan nan nan ... nan nan nan nan</div><input id='attrs-99b15285-ebb0-40b0-b028-31ed94b4b004' class='xr-var-attrs-in' type='checkbox' disabled><label for='attrs-99b15285-ebb0-40b0-b028-31ed94b4b004' title='Show/Hide attributes'><svg class='icon xr-icon-file-text2'><use xlink:href='#icon-file-text2'></use></svg></label><input id='data-7f763de8-54b7-42c8-a9bd-ee61d67e6064' class='xr-var-data-in' type='checkbox'><label for='data-7f763de8-54b7-42c8-a9bd-ee61d67e6064' title='Show/Hide data repr'><svg class='icon xr-icon-database'><use xlink:href='#icon-database'></use></svg></label><div class='xr-var-attrs'><dl class='xr-attrs'></dl></div><div class='xr-var-data'><pre>array([[[[nan, nan, nan, ..., nan, nan, nan],\n",
       "         [nan, nan, nan, ..., nan, nan, nan],\n",
       "         [nan, nan, nan, ..., nan, nan, nan]],\n",
       "\n",
       "        [[nan, nan, nan, ..., nan, nan, nan],\n",
       "         [nan, nan, nan, ..., nan, nan, nan],\n",
       "         [nan, nan, nan, ..., nan, nan, nan]],\n",
       "\n",
       "        [[nan, nan, nan, ..., nan, nan, nan],\n",
       "         [nan, nan, nan, ..., nan, nan, nan],\n",
       "         [nan, nan, nan, ..., nan, nan, nan]],\n",
       "\n",
       "        ...,\n",
       "\n",
       "        [[nan, nan, nan, ..., nan, nan, nan],\n",
       "         [nan, nan, nan, ..., nan, nan, nan],\n",
       "         [nan, nan, nan, ..., nan, nan, nan]],\n",
       "\n",
       "        [[nan, nan, nan, ..., nan, nan, nan],\n",
       "         [nan, nan, nan, ..., nan, nan, nan],\n",
       "...\n",
       "         [nan, nan, nan, ..., nan, nan, nan],\n",
       "         [nan, nan, nan, ..., nan, nan, nan]],\n",
       "\n",
       "        [[nan, nan, nan, ..., nan, nan, nan],\n",
       "         [nan, nan, nan, ..., nan, nan, nan],\n",
       "         [nan, nan, nan, ..., nan, nan, nan]],\n",
       "\n",
       "        ...,\n",
       "\n",
       "        [[ 0.,  0.,  0., ...,  0.,  0.,  0.],\n",
       "         [nan, nan, nan, ..., nan, nan, nan],\n",
       "         [nan, nan, nan, ..., nan, nan, nan]],\n",
       "\n",
       "        [[nan, nan, nan, ..., nan, nan, nan],\n",
       "         [nan, nan, nan, ..., nan, nan, nan],\n",
       "         [nan, nan, nan, ..., nan, nan, nan]],\n",
       "\n",
       "        [[nan, nan, nan, ..., nan, nan, nan],\n",
       "         [nan, nan, nan, ..., nan, nan, nan],\n",
       "         [nan, nan, nan, ..., nan, nan, nan]]]])</pre></div></li><li class='xr-var-item'><div class='xr-var-name'><span>area_use</span></div><div class='xr-var-dims'>(nodes, techs)</div><div class='xr-var-dtype'>float64</div><div class='xr-var-preview xr-preview'>nan nan nan nan ... 350.0 nan nan</div><input id='attrs-df8c9ecf-0bf2-4972-8cd2-b0a9f7921912' class='xr-var-attrs-in' type='checkbox' disabled><label for='attrs-df8c9ecf-0bf2-4972-8cd2-b0a9f7921912' title='Show/Hide attributes'><svg class='icon xr-icon-file-text2'><use xlink:href='#icon-file-text2'></use></svg></label><input id='data-6a8ef92e-f1b1-42ae-af4e-5d7646bcc774' class='xr-var-data-in' type='checkbox'><label for='data-6a8ef92e-f1b1-42ae-af4e-5d7646bcc774' title='Show/Hide data repr'><svg class='icon xr-icon-database'><use xlink:href='#icon-database'></use></svg></label><div class='xr-var-attrs'><dl class='xr-attrs'></dl></div><div class='xr-var-data'><pre>array([[         nan,          nan,          nan,          nan,\n",
       "                 nan,          nan,          nan,          nan,\n",
       "                 nan,          nan,          nan,          nan],\n",
       "       [         nan,          nan,          nan,          nan,\n",
       "                 nan,          nan,          nan,          nan,\n",
       "                 nan,   0.        ,          nan,          nan],\n",
       "       [         nan,          nan,          nan,          nan,\n",
       "                 nan,          nan,          nan,          nan,\n",
       "                 nan, 443.16656148,          nan,          nan],\n",
       "       [         nan,          nan,          nan,          nan,\n",
       "                 nan,          nan,          nan,          nan,\n",
       "                 nan, 350.        ,          nan,          nan]])</pre></div></li><li class='xr-var-item'><div class='xr-var-name'><span>source_use</span></div><div class='xr-var-dims'>(nodes, techs, timesteps)</div><div class='xr-var-dtype'>float64</div><div class='xr-var-preview xr-preview'>nan nan nan nan ... nan nan nan nan</div><input id='attrs-dea0abf5-6976-4f4c-a488-62b0cae91669' class='xr-var-attrs-in' type='checkbox' disabled><label for='attrs-dea0abf5-6976-4f4c-a488-62b0cae91669' title='Show/Hide attributes'><svg class='icon xr-icon-file-text2'><use xlink:href='#icon-file-text2'></use></svg></label><input id='data-b3d82389-49cf-498b-821e-03c26a473a4c' class='xr-var-data-in' type='checkbox'><label for='data-b3d82389-49cf-498b-821e-03c26a473a4c' title='Show/Hide data repr'><svg class='icon xr-icon-database'><use xlink:href='#icon-database'></use></svg></label><div class='xr-var-attrs'><dl class='xr-attrs'></dl></div><div class='xr-var-data'><pre>array([[[           nan,            nan,            nan, ...,\n",
       "                    nan,            nan,            nan],\n",
       "        [           nan,            nan,            nan, ...,\n",
       "                    nan,            nan,            nan],\n",
       "        [           nan,            nan,            nan, ...,\n",
       "                    nan,            nan,            nan],\n",
       "        ...,\n",
       "        [           nan,            nan,            nan, ...,\n",
       "                    nan,            nan,            nan],\n",
       "        [           nan,            nan,            nan, ...,\n",
       "                    nan,            nan,            nan],\n",
       "        [           nan,            nan,            nan, ...,\n",
       "                    nan,            nan,            nan]],\n",
       "\n",
       "       [[           nan,            nan,            nan, ...,\n",
       "                    nan,            nan,            nan],\n",
       "        [           nan,            nan,            nan, ...,\n",
       "                    nan,            nan,            nan],\n",
       "        [           nan,            nan,            nan, ...,\n",
       "                    nan,            nan,            nan],\n",
       "...\n",
       "        [0.00000000e+00, 0.00000000e+00, 0.00000000e+00, ...,\n",
       "         0.00000000e+00, 0.00000000e+00, 0.00000000e+00],\n",
       "        [0.00000000e+00, 4.80523046e+00, 1.13064725e+01, ...,\n",
       "         1.05634767e+02, 4.15520155e+01, 1.04421455e+00],\n",
       "        [           nan,            nan,            nan, ...,\n",
       "                    nan,            nan,            nan]],\n",
       "\n",
       "       [[           nan,            nan,            nan, ...,\n",
       "                    nan,            nan,            nan],\n",
       "        [           nan,            nan,            nan, ...,\n",
       "                    nan,            nan,            nan],\n",
       "        [           nan,            nan,            nan, ...,\n",
       "                    nan,            nan,            nan],\n",
       "        ...,\n",
       "        [0.00000000e+00, 0.00000000e+00, 0.00000000e+00, ...,\n",
       "         0.00000000e+00, 0.00000000e+00, 0.00000000e+00],\n",
       "        [0.00000000e+00, 1.83529412e-02, 1.83529412e-02, ...,\n",
       "         1.83529412e-02, 1.83529412e-02, 1.83529412e-02],\n",
       "        [           nan,            nan,            nan, ...,\n",
       "                    nan,            nan,            nan]]])</pre></div></li><li class='xr-var-item'><div class='xr-var-name'><span>source_cap</span></div><div class='xr-var-dims'>(nodes, techs)</div><div class='xr-var-dtype'>float64</div><div class='xr-var-preview xr-preview'>nan nan nan ... 38.95 0.01835 nan</div><input id='attrs-f7f12641-95e6-4760-8736-90e2cf491025' class='xr-var-attrs-in' type='checkbox' disabled><label for='attrs-f7f12641-95e6-4760-8736-90e2cf491025' title='Show/Hide attributes'><svg class='icon xr-icon-file-text2'><use xlink:href='#icon-file-text2'></use></svg></label><input id='data-c0b7a092-108e-4924-bf93-1cf5ecb9a3be' class='xr-var-data-in' type='checkbox'><label for='data-c0b7a092-108e-4924-bf93-1cf5ecb9a3be' title='Show/Hide data repr'><svg class='icon xr-icon-database'><use xlink:href='#icon-database'></use></svg></label><div class='xr-var-attrs'><dl class='xr-attrs'></dl></div><div class='xr-var-data'><pre>array([[           nan,            nan,            nan,            nan,\n",
       "                   nan,            nan,            nan,            nan,\n",
       "                   nan,            nan,            nan,            nan],\n",
       "       [           nan,            nan,            nan,            nan,\n",
       "                   nan,            nan,            nan,            nan,\n",
       "                   nan, 0.00000000e+00, 6.44312835e+02, 3.36201473e+01],\n",
       "       [           nan,            nan,            nan,            nan,\n",
       "                   nan,            nan,            nan,            nan,\n",
       "                   nan, 4.93181072e+01, 2.26859378e+02,            nan],\n",
       "       [           nan,            nan,            nan,            nan,\n",
       "                   nan,            nan,            nan,            nan,\n",
       "                   nan, 3.89499999e+01, 1.83529412e-02,            nan]])</pre></div></li><li class='xr-var-item'><div class='xr-var-name'><span>unmet_demand</span></div><div class='xr-var-dims'>(nodes, carriers, timesteps)</div><div class='xr-var-dtype'>float64</div><div class='xr-var-preview xr-preview'>nan nan nan nan ... 0.0 0.0 0.0 0.0</div><input id='attrs-237a8e7d-53cf-436e-8da0-c1d029811987' class='xr-var-attrs-in' type='checkbox' disabled><label for='attrs-237a8e7d-53cf-436e-8da0-c1d029811987' title='Show/Hide attributes'><svg class='icon xr-icon-file-text2'><use xlink:href='#icon-file-text2'></use></svg></label><input id='data-d6aee489-3a61-49e9-8382-6541dd3ddfaf' class='xr-var-data-in' type='checkbox'><label for='data-d6aee489-3a61-49e9-8382-6541dd3ddfaf' title='Show/Hide data repr'><svg class='icon xr-icon-database'><use xlink:href='#icon-database'></use></svg></label><div class='xr-var-attrs'><dl class='xr-attrs'></dl></div><div class='xr-var-data'><pre>array([[[nan, nan, nan, nan, nan, nan, nan, nan, nan, nan, nan, nan,\n",
       "         nan, nan, nan, nan, nan, nan, nan, nan, nan, nan, nan, nan,\n",
       "         nan, nan, nan, nan, nan, nan, nan, nan, nan, nan, nan, nan,\n",
       "         nan, nan, nan, nan, nan, nan, nan, nan, nan, nan, nan, nan],\n",
       "        [nan, nan, nan, nan, nan, nan, nan, nan, nan, nan, nan, nan,\n",
       "         nan, nan, nan, nan, nan, nan, nan, nan, nan, nan, nan, nan,\n",
       "         nan, nan, nan, nan, nan, nan, nan, nan, nan, nan, nan, nan,\n",
       "         nan, nan, nan, nan, nan, nan, nan, nan, nan, nan, nan, nan],\n",
       "        [ 0.,  0.,  0.,  0.,  0.,  0.,  0.,  0.,  0.,  0.,  0.,  0.,\n",
       "          0.,  0.,  0.,  0.,  0.,  0.,  0.,  0.,  0.,  0.,  0.,  0.,\n",
       "          0.,  0.,  0.,  0.,  0.,  0.,  0.,  0.,  0.,  0.,  0.,  0.,\n",
       "          0.,  0.,  0.,  0.,  0.,  0.,  0.,  0.,  0.,  0.,  0.,  0.]],\n",
       "\n",
       "       [[ 0.,  0.,  0.,  0.,  0.,  0.,  0.,  0.,  0.,  0.,  0.,  0.,\n",
       "          0.,  0.,  0.,  0.,  0.,  0.,  0.,  0.,  0.,  0.,  0.,  0.,\n",
       "          0.,  0.,  0.,  0.,  0.,  0.,  0.,  0.,  0.,  0.,  0.,  0.,\n",
       "          0.,  0.,  0.,  0.,  0.,  0.,  0.,  0.,  0.,  0.,  0.,  0.],\n",
       "        [ 0.,  0.,  0.,  0.,  0.,  0.,  0.,  0.,  0.,  0.,  0.,  0.,\n",
       "          0.,  0.,  0.,  0.,  0.,  0.,  0.,  0.,  0.,  0.,  0.,  0.,\n",
       "          0.,  0.,  0.,  0.,  0.,  0.,  0.,  0.,  0.,  0.,  0.,  0.,\n",
       "...\n",
       "          0.,  0.,  0.,  0.,  0.,  0.,  0.,  0.,  0.,  0.,  0.,  0.,\n",
       "          0.,  0.,  0.,  0.,  0.,  0.,  0.,  0.,  0.,  0.,  0.,  0.,\n",
       "          0.,  0.,  0.,  0.,  0.,  0.,  0.,  0.,  0.,  0.,  0.,  0.],\n",
       "        [ 0.,  0.,  0.,  0.,  0.,  0.,  0.,  0.,  0.,  0.,  0.,  0.,\n",
       "          0.,  0.,  0.,  0.,  0.,  0.,  0.,  0.,  0.,  0.,  0.,  0.,\n",
       "          0.,  0.,  0.,  0.,  0.,  0.,  0.,  0.,  0.,  0.,  0.,  0.,\n",
       "          0.,  0.,  0.,  0.,  0.,  0.,  0.,  0.,  0.,  0.,  0.,  0.]],\n",
       "\n",
       "       [[ 0.,  0.,  0.,  0.,  0.,  0.,  0.,  0.,  0.,  0.,  0.,  0.,\n",
       "          0.,  0.,  0.,  0.,  0.,  0.,  0.,  0.,  0.,  0.,  0.,  0.,\n",
       "          0.,  0.,  0.,  0.,  0.,  0.,  0.,  0.,  0.,  0.,  0.,  0.,\n",
       "          0.,  0.,  0.,  0.,  0.,  0.,  0.,  0.,  0.,  0.,  0.,  0.],\n",
       "        [ 0.,  0.,  0.,  0.,  0.,  0.,  0.,  0.,  0.,  0.,  0.,  0.,\n",
       "          0.,  0.,  0.,  0.,  0.,  0.,  0.,  0.,  0.,  0.,  0.,  0.,\n",
       "          0.,  0.,  0.,  0.,  0.,  0.,  0.,  0.,  0.,  0.,  0.,  0.,\n",
       "          0.,  0.,  0.,  0.,  0.,  0.,  0.,  0.,  0.,  0.,  0.,  0.],\n",
       "        [ 0.,  0.,  0.,  0.,  0.,  0.,  0.,  0.,  0.,  0.,  0.,  0.,\n",
       "          0.,  0.,  0.,  0.,  0.,  0.,  0.,  0.,  0.,  0.,  0.,  0.,\n",
       "          0.,  0.,  0.,  0.,  0.,  0.,  0.,  0.,  0.,  0.,  0.,  0.,\n",
       "          0.,  0.,  0.,  0.,  0.,  0.,  0.,  0.,  0.,  0.,  0.,  0.]]])</pre></div></li><li class='xr-var-item'><div class='xr-var-name'><span>unused_supply</span></div><div class='xr-var-dims'>(nodes, carriers, timesteps)</div><div class='xr-var-dtype'>float64</div><div class='xr-var-preview xr-preview'>nan nan nan nan ... 0.0 0.0 0.0 0.0</div><input id='attrs-8232e970-4630-4179-b1d6-9c06bad6efc2' class='xr-var-attrs-in' type='checkbox' disabled><label for='attrs-8232e970-4630-4179-b1d6-9c06bad6efc2' title='Show/Hide attributes'><svg class='icon xr-icon-file-text2'><use xlink:href='#icon-file-text2'></use></svg></label><input id='data-16ecea4d-2c05-4d7d-988b-fe70b67348d8' class='xr-var-data-in' type='checkbox'><label for='data-16ecea4d-2c05-4d7d-988b-fe70b67348d8' title='Show/Hide data repr'><svg class='icon xr-icon-database'><use xlink:href='#icon-database'></use></svg></label><div class='xr-var-attrs'><dl class='xr-attrs'></dl></div><div class='xr-var-data'><pre>array([[[nan, nan, nan, nan, nan, nan, nan, nan, nan, nan, nan, nan,\n",
       "         nan, nan, nan, nan, nan, nan, nan, nan, nan, nan, nan, nan,\n",
       "         nan, nan, nan, nan, nan, nan, nan, nan, nan, nan, nan, nan,\n",
       "         nan, nan, nan, nan, nan, nan, nan, nan, nan, nan, nan, nan],\n",
       "        [nan, nan, nan, nan, nan, nan, nan, nan, nan, nan, nan, nan,\n",
       "         nan, nan, nan, nan, nan, nan, nan, nan, nan, nan, nan, nan,\n",
       "         nan, nan, nan, nan, nan, nan, nan, nan, nan, nan, nan, nan,\n",
       "         nan, nan, nan, nan, nan, nan, nan, nan, nan, nan, nan, nan],\n",
       "        [ 0.,  0.,  0.,  0.,  0.,  0.,  0.,  0.,  0.,  0.,  0.,  0.,\n",
       "          0.,  0.,  0.,  0.,  0.,  0.,  0.,  0.,  0.,  0.,  0.,  0.,\n",
       "          0.,  0.,  0.,  0.,  0.,  0.,  0.,  0.,  0.,  0.,  0.,  0.,\n",
       "          0.,  0.,  0.,  0.,  0.,  0.,  0.,  0.,  0.,  0.,  0.,  0.]],\n",
       "\n",
       "       [[ 0.,  0.,  0.,  0.,  0.,  0.,  0.,  0.,  0.,  0.,  0.,  0.,\n",
       "          0.,  0.,  0.,  0.,  0.,  0.,  0.,  0.,  0.,  0.,  0.,  0.,\n",
       "          0.,  0.,  0.,  0.,  0.,  0.,  0.,  0.,  0.,  0.,  0.,  0.,\n",
       "          0.,  0.,  0.,  0.,  0.,  0.,  0.,  0.,  0.,  0.,  0.,  0.],\n",
       "        [ 0.,  0.,  0.,  0.,  0.,  0.,  0.,  0.,  0.,  0.,  0.,  0.,\n",
       "          0.,  0.,  0.,  0.,  0.,  0.,  0.,  0.,  0.,  0.,  0.,  0.,\n",
       "          0.,  0.,  0.,  0.,  0.,  0.,  0.,  0.,  0.,  0.,  0.,  0.,\n",
       "...\n",
       "          0.,  0.,  0.,  0.,  0.,  0.,  0.,  0.,  0.,  0.,  0.,  0.,\n",
       "          0.,  0.,  0.,  0.,  0.,  0.,  0.,  0.,  0.,  0.,  0.,  0.,\n",
       "          0.,  0.,  0.,  0.,  0.,  0.,  0.,  0.,  0.,  0.,  0.,  0.],\n",
       "        [ 0.,  0.,  0.,  0.,  0.,  0.,  0.,  0.,  0.,  0.,  0.,  0.,\n",
       "          0.,  0.,  0.,  0.,  0.,  0.,  0.,  0.,  0.,  0.,  0.,  0.,\n",
       "          0.,  0.,  0.,  0.,  0.,  0.,  0.,  0.,  0.,  0.,  0.,  0.,\n",
       "          0.,  0.,  0.,  0.,  0.,  0.,  0.,  0.,  0.,  0.,  0.,  0.]],\n",
       "\n",
       "       [[ 0.,  0.,  0.,  0.,  0.,  0.,  0.,  0.,  0.,  0.,  0.,  0.,\n",
       "          0.,  0.,  0.,  0.,  0.,  0.,  0.,  0.,  0.,  0.,  0.,  0.,\n",
       "          0.,  0.,  0.,  0.,  0.,  0.,  0.,  0.,  0.,  0.,  0.,  0.,\n",
       "          0.,  0.,  0.,  0.,  0.,  0.,  0.,  0.,  0.,  0.,  0.,  0.],\n",
       "        [ 0.,  0.,  0.,  0.,  0.,  0.,  0.,  0.,  0.,  0.,  0.,  0.,\n",
       "          0.,  0.,  0.,  0.,  0.,  0.,  0.,  0.,  0.,  0.,  0.,  0.,\n",
       "          0.,  0.,  0.,  0.,  0.,  0.,  0.,  0.,  0.,  0.,  0.,  0.,\n",
       "          0.,  0.,  0.,  0.,  0.,  0.,  0.,  0.,  0.,  0.,  0.,  0.],\n",
       "        [ 0.,  0.,  0.,  0.,  0.,  0.,  0.,  0.,  0.,  0.,  0.,  0.,\n",
       "          0.,  0.,  0.,  0.,  0.,  0.,  0.,  0.,  0.,  0.,  0.,  0.,\n",
       "          0.,  0.,  0.,  0.,  0.,  0.,  0.,  0.,  0.,  0.,  0.,  0.,\n",
       "          0.,  0.,  0.,  0.,  0.,  0.,  0.,  0.,  0.,  0.,  0.,  0.]]])</pre></div></li><li class='xr-var-item'><div class='xr-var-name'><span>flow_out_inc_eff</span></div><div class='xr-var-dims'>(nodes, techs, carriers, timesteps)</div><div class='xr-var-dtype'>float64</div><div class='xr-var-preview xr-preview'>nan nan nan nan ... nan nan nan nan</div><input id='attrs-fe75b94e-6887-46e4-b7e8-0b02de234cf8' class='xr-var-attrs-in' type='checkbox' disabled><label for='attrs-fe75b94e-6887-46e4-b7e8-0b02de234cf8' title='Show/Hide attributes'><svg class='icon xr-icon-file-text2'><use xlink:href='#icon-file-text2'></use></svg></label><input id='data-42b0279a-4848-4bfa-b227-6510f288c71e' class='xr-var-data-in' type='checkbox'><label for='data-42b0279a-4848-4bfa-b227-6510f288c71e' title='Show/Hide data repr'><svg class='icon xr-icon-database'><use xlink:href='#icon-database'></use></svg></label><div class='xr-var-attrs'><dl class='xr-attrs'></dl></div><div class='xr-var-data'><pre>array([[[[           nan,            nan,            nan, ...,\n",
       "                     nan,            nan,            nan],\n",
       "         [           nan,            nan,            nan, ...,\n",
       "                     nan,            nan,            nan],\n",
       "         [0.00000000e+00, 0.00000000e+00, 0.00000000e+00, ...,\n",
       "          0.00000000e+00, 0.00000000e+00, 0.00000000e+00]],\n",
       "\n",
       "        [[           nan,            nan,            nan, ...,\n",
       "                     nan,            nan,            nan],\n",
       "         [           nan,            nan,            nan, ...,\n",
       "                     nan,            nan,            nan],\n",
       "         [0.00000000e+00, 0.00000000e+00, 0.00000000e+00, ...,\n",
       "          0.00000000e+00, 0.00000000e+00, 0.00000000e+00]],\n",
       "\n",
       "        [[           nan,            nan,            nan, ...,\n",
       "                     nan,            nan,            nan],\n",
       "         [           nan,            nan,            nan, ...,\n",
       "                     nan,            nan,            nan],\n",
       "         [1.76157136e+02, 7.82654590e+01, 7.86695006e+01, ...,\n",
       "          1.75901776e+02, 1.26017043e+02, 1.00179206e+02]],\n",
       "...\n",
       "        [[0.00000000e+00, 0.00000000e+00, 0.00000000e+00, ...,\n",
       "          0.00000000e+00, 0.00000000e+00, 0.00000000e+00],\n",
       "         [           nan,            nan,            nan, ...,\n",
       "                     nan,            nan,            nan],\n",
       "         [           nan,            nan,            nan, ...,\n",
       "                     nan,            nan,            nan]],\n",
       "\n",
       "        [[           nan,            nan,            nan, ...,\n",
       "                     nan,            nan,            nan],\n",
       "         [0.00000000e+00, 1.83529412e-02, 1.83529412e-02, ...,\n",
       "          1.83529412e-02, 1.83529412e-02, 1.83529412e-02],\n",
       "         [           nan,            nan,            nan, ...,\n",
       "                     nan,            nan,            nan]],\n",
       "\n",
       "        [[           nan,            nan,            nan, ...,\n",
       "                     nan,            nan,            nan],\n",
       "         [           nan,            nan,            nan, ...,\n",
       "                     nan,            nan,            nan],\n",
       "         [           nan,            nan,            nan, ...,\n",
       "                     nan,            nan,            nan]]]])</pre></div></li><li class='xr-var-item'><div class='xr-var-name'><span>flow_in_inc_eff</span></div><div class='xr-var-dims'>(nodes, techs, carriers, timesteps)</div><div class='xr-var-dtype'>float64</div><div class='xr-var-preview xr-preview'>nan nan nan nan ... nan nan nan nan</div><input id='attrs-39a7e95e-1b63-41bc-b6b0-14d251baa42f' class='xr-var-attrs-in' type='checkbox' disabled><label for='attrs-39a7e95e-1b63-41bc-b6b0-14d251baa42f' title='Show/Hide attributes'><svg class='icon xr-icon-file-text2'><use xlink:href='#icon-file-text2'></use></svg></label><input id='data-d9d9a7f8-f135-4a72-998c-3c6e87022ab5' class='xr-var-data-in' type='checkbox'><label for='data-d9d9a7f8-f135-4a72-998c-3c6e87022ab5' title='Show/Hide data repr'><svg class='icon xr-icon-database'><use xlink:href='#icon-database'></use></svg></label><div class='xr-var-attrs'><dl class='xr-attrs'></dl></div><div class='xr-var-data'><pre>array([[[[           nan,            nan,            nan, ...,\n",
       "                     nan,            nan,            nan],\n",
       "         [           nan,            nan,            nan, ...,\n",
       "                     nan,            nan,            nan],\n",
       "         [7.97444779e+01, 7.16063247e+01, 7.29155642e+01, ...,\n",
       "          1.62101485e+02, 1.16800078e+02, 9.19173224e+01]],\n",
       "\n",
       "        [[           nan,            nan,            nan, ...,\n",
       "                     nan,            nan,            nan],\n",
       "         [           nan,            nan,            nan, ...,\n",
       "                     nan,            nan,            nan],\n",
       "         [1.72625971e-02, 9.34749747e-01, 0.00000000e+00, ...,\n",
       "          9.34725555e-01, 0.00000000e+00, 9.34714147e-01]],\n",
       "\n",
       "        [[           nan,            nan,            nan, ...,\n",
       "                     nan,            nan,            nan],\n",
       "         [           nan,            nan,            nan, ...,\n",
       "                     nan,            nan,            nan],\n",
       "         [8.35111523e+01, 0.00000000e+00, 0.00000000e+00, ...,\n",
       "          0.00000000e+00, 0.00000000e+00, 0.00000000e+00]],\n",
       "...\n",
       "        [[           nan,            nan,            nan, ...,\n",
       "                     nan,            nan,            nan],\n",
       "         [           nan,            nan,            nan, ...,\n",
       "                     nan,            nan,            nan],\n",
       "         [           nan,            nan,            nan, ...,\n",
       "                     nan,            nan,            nan]],\n",
       "\n",
       "        [[           nan,            nan,            nan, ...,\n",
       "                     nan,            nan,            nan],\n",
       "         [           nan,            nan,            nan, ...,\n",
       "                     nan,            nan,            nan],\n",
       "         [           nan,            nan,            nan, ...,\n",
       "                     nan,            nan,            nan]],\n",
       "\n",
       "        [[           nan,            nan,            nan, ...,\n",
       "                     nan,            nan,            nan],\n",
       "         [           nan,            nan,            nan, ...,\n",
       "                     nan,            nan,            nan],\n",
       "         [           nan,            nan,            nan, ...,\n",
       "                     nan,            nan,            nan]]]])</pre></div></li><li class='xr-var-item'><div class='xr-var-name'><span>cost_operation_variable</span></div><div class='xr-var-dims'>(nodes, techs, costs, timesteps)</div><div class='xr-var-dtype'>float64</div><div class='xr-var-preview xr-preview'>nan nan nan nan ... nan nan nan nan</div><input id='attrs-407c05e1-97ee-4099-b66b-9bb791d922fc' class='xr-var-attrs-in' type='checkbox' disabled><label for='attrs-407c05e1-97ee-4099-b66b-9bb791d922fc' title='Show/Hide attributes'><svg class='icon xr-icon-file-text2'><use xlink:href='#icon-file-text2'></use></svg></label><input id='data-a771021e-af5d-49ad-90c7-29099a503343' class='xr-var-data-in' type='checkbox'><label for='data-a771021e-af5d-49ad-90c7-29099a503343' title='Show/Hide data repr'><svg class='icon xr-icon-database'><use xlink:href='#icon-database'></use></svg></label><div class='xr-var-attrs'><dl class='xr-attrs'></dl></div><div class='xr-var-data'><pre>array([[[[           nan,            nan,            nan, ...,\n",
       "                     nan,            nan,            nan]],\n",
       "\n",
       "        [[           nan,            nan,            nan, ...,\n",
       "                     nan,            nan,            nan]],\n",
       "\n",
       "        [[           nan,            nan,            nan, ...,\n",
       "                     nan,            nan,            nan]],\n",
       "\n",
       "        ...,\n",
       "\n",
       "        [[           nan,            nan,            nan, ...,\n",
       "                     nan,            nan,            nan]],\n",
       "\n",
       "        [[           nan,            nan,            nan, ...,\n",
       "                     nan,            nan,            nan]],\n",
       "\n",
       "        [[           nan,            nan,            nan, ...,\n",
       "                     nan,            nan,            nan]]],\n",
       "\n",
       "...\n",
       "\n",
       "       [[[           nan,            nan,            nan, ...,\n",
       "                     nan,            nan,            nan]],\n",
       "\n",
       "        [[           nan,            nan,            nan, ...,\n",
       "                     nan,            nan,            nan]],\n",
       "\n",
       "        [[           nan,            nan,            nan, ...,\n",
       "                     nan,            nan,            nan]],\n",
       "\n",
       "        ...,\n",
       "\n",
       "        [[           nan,            nan,            nan, ...,\n",
       "                     nan,            nan,            nan]],\n",
       "\n",
       "        [[0.00000000e+00, 4.58823529e-04, 4.58823529e-04, ...,\n",
       "          4.58823529e-04, 4.58823529e-04, 4.58823529e-04]],\n",
       "\n",
       "        [[           nan,            nan,            nan, ...,\n",
       "                     nan,            nan,            nan]]]])</pre></div></li><li class='xr-var-item'><div class='xr-var-name'><span>cost_investment_flow_cap</span></div><div class='xr-var-dims'>(nodes, techs, carriers, costs)</div><div class='xr-var-dtype'>float64</div><div class='xr-var-preview xr-preview'>nan nan 85.61 nan ... nan nan nan</div><input id='attrs-ca21df29-2a6f-4582-a738-4d104a6e9844' class='xr-var-attrs-in' type='checkbox' disabled><label for='attrs-ca21df29-2a6f-4582-a738-4d104a6e9844' title='Show/Hide attributes'><svg class='icon xr-icon-file-text2'><use xlink:href='#icon-file-text2'></use></svg></label><input id='data-af385b35-2b3c-4b45-b6b2-034ce7da8394' class='xr-var-data-in' type='checkbox'><label for='data-af385b35-2b3c-4b45-b6b2-034ce7da8394' title='Show/Hide data repr'><svg class='icon xr-icon-database'><use xlink:href='#icon-database'></use></svg></label><div class='xr-var-attrs'><dl class='xr-attrs'></dl></div><div class='xr-var-data'><pre>array([[[[           nan],\n",
       "         [           nan],\n",
       "         [8.56091811e+01]],\n",
       "\n",
       "        [[           nan],\n",
       "         [           nan],\n",
       "         [6.22955946e+00]],\n",
       "\n",
       "        [[           nan],\n",
       "         [           nan],\n",
       "         [2.56106669e+02]],\n",
       "\n",
       "        [[           nan],\n",
       "         [           nan],\n",
       "         [           nan]],\n",
       "\n",
       "        [[           nan],\n",
       "         [           nan],\n",
       "         [           nan]],\n",
       "\n",
       "...\n",
       "\n",
       "        [[           nan],\n",
       "         [           nan],\n",
       "         [           nan]],\n",
       "\n",
       "        [[           nan],\n",
       "         [           nan],\n",
       "         [           nan]],\n",
       "\n",
       "        [[6.75000000e+04],\n",
       "         [           nan],\n",
       "         [           nan]],\n",
       "\n",
       "        [[           nan],\n",
       "         [1.83529412e-02],\n",
       "         [           nan]],\n",
       "\n",
       "        [[           nan],\n",
       "         [           nan],\n",
       "         [           nan]]]])</pre></div></li><li class='xr-var-item'><div class='xr-var-name'><span>cost_investment</span></div><div class='xr-var-dims'>(nodes, techs, costs)</div><div class='xr-var-dtype'>float64</div><div class='xr-var-preview xr-preview'>85.61 6.23 256.1 ... 0.01835 nan</div><input id='attrs-6c6d86f7-14e8-4acd-ba17-9bc4496a2517' class='xr-var-attrs-in' type='checkbox' disabled><label for='attrs-6c6d86f7-14e8-4acd-ba17-9bc4496a2517' title='Show/Hide attributes'><svg class='icon xr-icon-file-text2'><use xlink:href='#icon-file-text2'></use></svg></label><input id='data-ca11ee7c-a0e5-462b-9682-37f744ec56f6' class='xr-var-data-in' type='checkbox'><label for='data-ca11ee7c-a0e5-462b-9682-37f744ec56f6' title='Show/Hide data repr'><svg class='icon xr-icon-database'><use xlink:href='#icon-database'></use></svg></label><div class='xr-var-attrs'><dl class='xr-attrs'></dl></div><div class='xr-var-data'><pre>array([[[8.56091811e+01],\n",
       "        [6.22955946e+00],\n",
       "        [2.56106669e+02],\n",
       "        [           nan],\n",
       "        [           nan],\n",
       "        [           nan],\n",
       "        [           nan],\n",
       "        [           nan],\n",
       "        [           nan],\n",
       "        [           nan],\n",
       "        [           nan],\n",
       "        [           nan]],\n",
       "\n",
       "       [[           nan],\n",
       "        [           nan],\n",
       "        [2.56106669e+02],\n",
       "        [1.37255851e+01],\n",
       "        [1.14445840e+00],\n",
       "        [           nan],\n",
       "        [1.95710024e+05],\n",
       "...\n",
       "        [8.31099330e+03],\n",
       "        [           nan],\n",
       "        [           nan],\n",
       "        [           nan],\n",
       "        [8.54678369e+04],\n",
       "        [2.26859378e+02],\n",
       "        [           nan]],\n",
       "\n",
       "       [[           nan],\n",
       "        [6.22955946e+00],\n",
       "        [           nan],\n",
       "        [           nan],\n",
       "        [1.14445840e+00],\n",
       "        [1.21680000e+00],\n",
       "        [           nan],\n",
       "        [           nan],\n",
       "        [           nan],\n",
       "        [6.75000000e+04],\n",
       "        [1.83529412e-02],\n",
       "        [           nan]]])</pre></div></li><li class='xr-var-item'><div class='xr-var-name'><span>cost_investment_annualised</span></div><div class='xr-var-dims'>(nodes, techs, costs)</div><div class='xr-var-dtype'>float64</div><div class='xr-var-preview xr-preview'>0.05168 0.003761 ... 1.108e-05 nan</div><input id='attrs-35f7e1d6-84aa-4204-903b-31c195c3cd5a' class='xr-var-attrs-in' type='checkbox' disabled><label for='attrs-35f7e1d6-84aa-4204-903b-31c195c3cd5a' title='Show/Hide attributes'><svg class='icon xr-icon-file-text2'><use xlink:href='#icon-file-text2'></use></svg></label><input id='data-bd15d290-6582-4e38-802c-c33ab82f51f4' class='xr-var-data-in' type='checkbox'><label for='data-bd15d290-6582-4e38-802c-c33ab82f51f4' title='Show/Hide data repr'><svg class='icon xr-icon-database'><use xlink:href='#icon-database'></use></svg></label><div class='xr-var-attrs'><dl class='xr-attrs'></dl></div><div class='xr-var-data'><pre>array([[[5.16788956e-02],\n",
       "        [3.76054004e-03],\n",
       "        [1.54601523e-01],\n",
       "        [           nan],\n",
       "        [           nan],\n",
       "        [           nan],\n",
       "        [           nan],\n",
       "        [           nan],\n",
       "        [           nan],\n",
       "        [           nan],\n",
       "        [           nan],\n",
       "        [           nan]],\n",
       "\n",
       "       [[           nan],\n",
       "        [           nan],\n",
       "        [1.54601523e-01],\n",
       "        [8.28559589e-03],\n",
       "        [6.90864524e-04],\n",
       "        [           nan],\n",
       "        [1.18142444e+02],\n",
       "...\n",
       "        [5.01701978e+00],\n",
       "        [           nan],\n",
       "        [           nan],\n",
       "        [           nan],\n",
       "        [5.15935716e+01],\n",
       "        [1.36946084e-01],\n",
       "        [           nan]],\n",
       "\n",
       "       [[           nan],\n",
       "        [3.76054004e-03],\n",
       "        [           nan],\n",
       "        [           nan],\n",
       "        [6.90864524e-04],\n",
       "        [7.34534303e-04],\n",
       "        [           nan],\n",
       "        [           nan],\n",
       "        [           nan],\n",
       "        [4.07470952e+01],\n",
       "        [1.10789488e-05],\n",
       "        [           nan]]])</pre></div></li><li class='xr-var-item'><div class='xr-var-name'><span>cost_operation_fixed</span></div><div class='xr-var-dims'>(nodes, techs, costs)</div><div class='xr-var-dtype'>float64</div><div class='xr-var-preview xr-preview'>nan nan nan nan ... -22.05 nan nan</div><input id='attrs-c1d7e71e-b1a2-43fa-bef2-1b959cf6d00e' class='xr-var-attrs-in' type='checkbox' disabled><label for='attrs-c1d7e71e-b1a2-43fa-bef2-1b959cf6d00e' title='Show/Hide attributes'><svg class='icon xr-icon-file-text2'><use xlink:href='#icon-file-text2'></use></svg></label><input id='data-16c38fe0-1acb-45e6-8e79-0f4354f2ea2e' class='xr-var-data-in' type='checkbox'><label for='data-16c38fe0-1acb-45e6-8e79-0f4354f2ea2e' title='Show/Hide data repr'><svg class='icon xr-icon-database'><use xlink:href='#icon-database'></use></svg></label><div class='xr-var-attrs'><dl class='xr-attrs'></dl></div><div class='xr-var-data'><pre>array([[[         nan],\n",
       "        [         nan],\n",
       "        [         nan],\n",
       "        [         nan],\n",
       "        [         nan],\n",
       "        [         nan],\n",
       "        [         nan],\n",
       "        [         nan],\n",
       "        [         nan],\n",
       "        [         nan],\n",
       "        [         nan],\n",
       "        [         nan]],\n",
       "\n",
       "       [[         nan],\n",
       "        [         nan],\n",
       "        [         nan],\n",
       "        [         nan],\n",
       "        [         nan],\n",
       "        [         nan],\n",
       "        [         nan],\n",
       "...\n",
       "        [         nan],\n",
       "        [         nan],\n",
       "        [         nan],\n",
       "        [         nan],\n",
       "        [         nan],\n",
       "        [         nan],\n",
       "        [         nan]],\n",
       "\n",
       "       [[         nan],\n",
       "        [         nan],\n",
       "        [         nan],\n",
       "        [         nan],\n",
       "        [         nan],\n",
       "        [         nan],\n",
       "        [         nan],\n",
       "        [         nan],\n",
       "        [         nan],\n",
       "        [-22.05479452],\n",
       "        [         nan],\n",
       "        [         nan]]])</pre></div></li><li class='xr-var-item'><div class='xr-var-name'><span>cost</span></div><div class='xr-var-dims'>(nodes, techs, costs)</div><div class='xr-var-dtype'>float64</div><div class='xr-var-preview xr-preview'>0.05168 0.003761 ... 0.01102 nan</div><input id='attrs-f2c6eea4-a28f-4ce2-a138-d0bfc128230b' class='xr-var-attrs-in' type='checkbox' disabled><label for='attrs-f2c6eea4-a28f-4ce2-a138-d0bfc128230b' title='Show/Hide attributes'><svg class='icon xr-icon-file-text2'><use xlink:href='#icon-file-text2'></use></svg></label><input id='data-68ae520e-d494-4ee7-bdd0-e06c100fedee' class='xr-var-data-in' type='checkbox'><label for='data-68ae520e-d494-4ee7-bdd0-e06c100fedee' title='Show/Hide data repr'><svg class='icon xr-icon-database'><use xlink:href='#icon-database'></use></svg></label><div class='xr-var-attrs'><dl class='xr-attrs'></dl></div><div class='xr-var-data'><pre>array([[[5.16788956e-02],\n",
       "        [3.76054004e-03],\n",
       "        [1.54601523e-01],\n",
       "        [           nan],\n",
       "        [           nan],\n",
       "        [           nan],\n",
       "        [           nan],\n",
       "        [           nan],\n",
       "        [           nan],\n",
       "        [           nan],\n",
       "        [           nan],\n",
       "        [           nan]],\n",
       "\n",
       "       [[           nan],\n",
       "        [           nan],\n",
       "        [1.54601523e-01],\n",
       "        [8.28559589e-03],\n",
       "        [6.90864524e-04],\n",
       "        [           nan],\n",
       "        [1.54998801e+02],\n",
       "...\n",
       "        [1.17131167e+01],\n",
       "        [           nan],\n",
       "        [           nan],\n",
       "        [           nan],\n",
       "        [3.05980982e+01],\n",
       "        [4.19875518e+01],\n",
       "        [           nan]],\n",
       "\n",
       "       [[           nan],\n",
       "        [3.76054004e-03],\n",
       "        [           nan],\n",
       "        [           nan],\n",
       "        [6.90864524e-04],\n",
       "        [2.49641666e-03],\n",
       "        [           nan],\n",
       "        [           nan],\n",
       "        [           nan],\n",
       "        [1.86923007e+01],\n",
       "        [1.10228437e-02],\n",
       "        [           nan]]])</pre></div></li><li class='xr-var-item'><div class='xr-var-name'><span>min_cost_optimisation</span></div><div class='xr-var-dims'>()</div><div class='xr-var-dtype'>float64</div><div class='xr-var-preview xr-preview'>842.3</div><input id='attrs-6bb22fd3-97dd-43de-99f6-192e0a527578' class='xr-var-attrs-in' type='checkbox' disabled><label for='attrs-6bb22fd3-97dd-43de-99f6-192e0a527578' title='Show/Hide attributes'><svg class='icon xr-icon-file-text2'><use xlink:href='#icon-file-text2'></use></svg></label><input id='data-a182a2fa-9b1b-41f8-98ba-a50244e514fe' class='xr-var-data-in' type='checkbox'><label for='data-a182a2fa-9b1b-41f8-98ba-a50244e514fe' title='Show/Hide data repr'><svg class='icon xr-icon-database'><use xlink:href='#icon-database'></use></svg></label><div class='xr-var-attrs'><dl class='xr-attrs'></dl></div><div class='xr-var-data'><pre>array(842.33719671)</pre></div></li><li class='xr-var-item'><div class='xr-var-name'><span>capacity_factor</span></div><div class='xr-var-dims'>(nodes, techs, carriers, timesteps)</div><div class='xr-var-dtype'>float64</div><div class='xr-var-preview xr-preview'>nan nan nan nan ... nan nan nan nan</div><input id='attrs-4b6b2183-0dbc-46a3-a713-18b2ac0f8c14' class='xr-var-attrs-in' type='checkbox' disabled><label for='attrs-4b6b2183-0dbc-46a3-a713-18b2ac0f8c14' title='Show/Hide attributes'><svg class='icon xr-icon-file-text2'><use xlink:href='#icon-file-text2'></use></svg></label><input id='data-86e11e68-40c4-4ba0-951c-d7548ec1b716' class='xr-var-data-in' type='checkbox'><label for='data-86e11e68-40c4-4ba0-951c-d7548ec1b716' title='Show/Hide data repr'><svg class='icon xr-icon-database'><use xlink:href='#icon-database'></use></svg></label><div class='xr-var-attrs'><dl class='xr-attrs'></dl></div><div class='xr-var-data'><pre>array([[[[       nan,        nan,        nan, ...,        nan,\n",
       "                 nan,        nan],\n",
       "         [       nan,        nan,        nan, ...,        nan,\n",
       "                 nan,        nan],\n",
       "         [0.        , 0.        , 0.        , ..., 0.        ,\n",
       "          0.        , 0.        ]],\n",
       "\n",
       "        [[       nan,        nan,        nan, ...,        nan,\n",
       "                 nan,        nan],\n",
       "         [       nan,        nan,        nan, ...,        nan,\n",
       "                 nan,        nan],\n",
       "         [0.        , 0.        , 0.        , ..., 0.        ,\n",
       "          0.        , 0.        ]],\n",
       "\n",
       "        [[       nan,        nan,        nan, ...,        nan,\n",
       "                 nan,        nan],\n",
       "         [       nan,        nan,        nan, ...,        nan,\n",
       "                 nan,        nan],\n",
       "         [0.28688359, 0.1274605 , 0.12811851, ..., 0.28646772,\n",
       "          0.20522712, 0.16314849]],\n",
       "...\n",
       "        [[0.        , 0.        , 0.        , ..., 0.        ,\n",
       "          0.        , 0.        ],\n",
       "         [       nan,        nan,        nan, ...,        nan,\n",
       "                 nan,        nan],\n",
       "         [       nan,        nan,        nan, ...,        nan,\n",
       "                 nan,        nan]],\n",
       "\n",
       "        [[       nan,        nan,        nan, ...,        nan,\n",
       "                 nan,        nan],\n",
       "         [0.        , 1.        , 1.        , ..., 1.        ,\n",
       "          1.        , 1.        ],\n",
       "         [       nan,        nan,        nan, ...,        nan,\n",
       "                 nan,        nan]],\n",
       "\n",
       "        [[       nan,        nan,        nan, ...,        nan,\n",
       "                 nan,        nan],\n",
       "         [       nan,        nan,        nan, ...,        nan,\n",
       "                 nan,        nan],\n",
       "         [       nan,        nan,        nan, ...,        nan,\n",
       "                 nan,        nan]]]])</pre></div></li><li class='xr-var-item'><div class='xr-var-name'><span>systemwide_capacity_factor</span></div><div class='xr-var-dims'>(techs, carriers)</div><div class='xr-var-dtype'>float64</div><div class='xr-var-preview xr-preview'>0.0 0.0 0.3986 ... 0.07874 0.0 0.0</div><input id='attrs-cbd75e40-4e40-4a1c-8061-aec7c2f50afb' class='xr-var-attrs-in' type='checkbox' disabled><label for='attrs-cbd75e40-4e40-4a1c-8061-aec7c2f50afb' title='Show/Hide attributes'><svg class='icon xr-icon-file-text2'><use xlink:href='#icon-file-text2'></use></svg></label><input id='data-5eda345c-8922-40e8-91c0-52dac4ba3bb5' class='xr-var-data-in' type='checkbox'><label for='data-5eda345c-8922-40e8-91c0-52dac4ba3bb5' title='Show/Hide data repr'><svg class='icon xr-icon-database'><use xlink:href='#icon-database'></use></svg></label><div class='xr-var-attrs'><dl class='xr-attrs'></dl></div><div class='xr-var-data'><pre>array([[0.        , 0.        , 0.39857621],\n",
       "       [0.        , 0.        , 0.24479758],\n",
       "       [0.        , 0.        , 0.22307018],\n",
       "       [0.31713349, 0.        , 0.        ],\n",
       "       [0.19753727, 0.        , 0.        ],\n",
       "       [0.        , 0.        , 0.15375983],\n",
       "       [0.73562989, 0.        , 0.73562989],\n",
       "       [0.        , 0.        , 0.        ],\n",
       "       [0.        , 0.        , 0.        ],\n",
       "       [0.20185729, 0.        , 0.        ],\n",
       "       [0.        , 0.58409777, 0.        ],\n",
       "       [0.07873735, 0.        , 0.        ]])</pre></div></li><li class='xr-var-item'><div class='xr-var-name'><span>systemwide_levelised_cost</span></div><div class='xr-var-dims'>(techs, costs, carriers)</div><div class='xr-var-dtype'>float64</div><div class='xr-var-preview xr-preview'>nan nan 1.42e-05 ... 0.116 nan nan</div><input id='attrs-01c84255-afd8-4c2d-b7c7-815e651e0c2d' class='xr-var-attrs-in' type='checkbox' disabled><label for='attrs-01c84255-afd8-4c2d-b7c7-815e651e0c2d' title='Show/Hide attributes'><svg class='icon xr-icon-file-text2'><use xlink:href='#icon-file-text2'></use></svg></label><input id='data-13e1ab29-671d-4149-bcc7-c08a3491bfd5' class='xr-var-data-in' type='checkbox'><label for='data-13e1ab29-671d-4149-bcc7-c08a3491bfd5' title='Show/Hide data repr'><svg class='icon xr-icon-database'><use xlink:href='#icon-database'></use></svg></label><div class='xr-var-attrs'><dl class='xr-attrs'></dl></div><div class='xr-var-data'><pre>array([[[           nan,            nan, 1.41988375e-05]],\n",
       "\n",
       "       [[           nan,            nan, 3.08244811e-05]],\n",
       "\n",
       "       [[           nan,            nan, 2.53701265e-05]],\n",
       "\n",
       "       [[1.98280287e-06,            nan,            nan]],\n",
       "\n",
       "       [[1.59163183e-06,            nan,            nan]],\n",
       "\n",
       "       [[           nan,            nan, 8.23133164e-03]],\n",
       "\n",
       "       [[1.68219340e-02,            nan, 2.10274175e-02]],\n",
       "\n",
       "       [[           nan,            nan,            nan]],\n",
       "\n",
       "       [[           nan,            nan,            nan]],\n",
       "\n",
       "       [[3.87543480e-02,            nan,            nan]],\n",
       "\n",
       "       [[           nan, 2.50215311e-02,            nan]],\n",
       "\n",
       "       [[1.15972425e-01,            nan,            nan]]])</pre></div></li><li class='xr-var-item'><div class='xr-var-name'><span>total_levelised_cost</span></div><div class='xr-var-dims'>(costs, carriers)</div><div class='xr-var-dtype'>float64</div><div class='xr-var-preview xr-preview'>0.07937 0.03449 0.09578</div><input id='attrs-a3775139-9107-44f9-a20f-120e62e4e8c6' class='xr-var-attrs-in' type='checkbox' disabled><label for='attrs-a3775139-9107-44f9-a20f-120e62e4e8c6' title='Show/Hide attributes'><svg class='icon xr-icon-file-text2'><use xlink:href='#icon-file-text2'></use></svg></label><input id='data-edb45ccd-8df7-4744-9027-b264e54b55d8' class='xr-var-data-in' type='checkbox'><label for='data-edb45ccd-8df7-4744-9027-b264e54b55d8' title='Show/Hide data repr'><svg class='icon xr-icon-database'><use xlink:href='#icon-database'></use></svg></label><div class='xr-var-attrs'><dl class='xr-attrs'></dl></div><div class='xr-var-data'><pre>array([[0.07936828, 0.03448625, 0.09577928]])</pre></div></li><li class='xr-var-item'><div class='xr-var-name'><span>unmet_sum</span></div><div class='xr-var-dims'>(nodes, carriers, timesteps)</div><div class='xr-var-dtype'>float64</div><div class='xr-var-preview xr-preview'>nan nan nan nan ... 0.0 0.0 0.0 0.0</div><input id='attrs-c55632f1-451e-4272-817e-3c8a7b9a83cb' class='xr-var-attrs-in' type='checkbox' disabled><label for='attrs-c55632f1-451e-4272-817e-3c8a7b9a83cb' title='Show/Hide attributes'><svg class='icon xr-icon-file-text2'><use xlink:href='#icon-file-text2'></use></svg></label><input id='data-951195fb-3d41-4468-8281-b69264630173' class='xr-var-data-in' type='checkbox'><label for='data-951195fb-3d41-4468-8281-b69264630173' title='Show/Hide data repr'><svg class='icon xr-icon-database'><use xlink:href='#icon-database'></use></svg></label><div class='xr-var-attrs'><dl class='xr-attrs'></dl></div><div class='xr-var-data'><pre>array([[[nan, nan, nan, nan, nan, nan, nan, nan, nan, nan, nan, nan,\n",
       "         nan, nan, nan, nan, nan, nan, nan, nan, nan, nan, nan, nan,\n",
       "         nan, nan, nan, nan, nan, nan, nan, nan, nan, nan, nan, nan,\n",
       "         nan, nan, nan, nan, nan, nan, nan, nan, nan, nan, nan, nan],\n",
       "        [nan, nan, nan, nan, nan, nan, nan, nan, nan, nan, nan, nan,\n",
       "         nan, nan, nan, nan, nan, nan, nan, nan, nan, nan, nan, nan,\n",
       "         nan, nan, nan, nan, nan, nan, nan, nan, nan, nan, nan, nan,\n",
       "         nan, nan, nan, nan, nan, nan, nan, nan, nan, nan, nan, nan],\n",
       "        [ 0.,  0.,  0.,  0.,  0.,  0.,  0.,  0.,  0.,  0.,  0.,  0.,\n",
       "          0.,  0.,  0.,  0.,  0.,  0.,  0.,  0.,  0.,  0.,  0.,  0.,\n",
       "          0.,  0.,  0.,  0.,  0.,  0.,  0.,  0.,  0.,  0.,  0.,  0.,\n",
       "          0.,  0.,  0.,  0.,  0.,  0.,  0.,  0.,  0.,  0.,  0.,  0.]],\n",
       "\n",
       "       [[ 0.,  0.,  0.,  0.,  0.,  0.,  0.,  0.,  0.,  0.,  0.,  0.,\n",
       "          0.,  0.,  0.,  0.,  0.,  0.,  0.,  0.,  0.,  0.,  0.,  0.,\n",
       "          0.,  0.,  0.,  0.,  0.,  0.,  0.,  0.,  0.,  0.,  0.,  0.,\n",
       "          0.,  0.,  0.,  0.,  0.,  0.,  0.,  0.,  0.,  0.,  0.,  0.],\n",
       "        [ 0.,  0.,  0.,  0.,  0.,  0.,  0.,  0.,  0.,  0.,  0.,  0.,\n",
       "          0.,  0.,  0.,  0.,  0.,  0.,  0.,  0.,  0.,  0.,  0.,  0.,\n",
       "          0.,  0.,  0.,  0.,  0.,  0.,  0.,  0.,  0.,  0.,  0.,  0.,\n",
       "...\n",
       "          0.,  0.,  0.,  0.,  0.,  0.,  0.,  0.,  0.,  0.,  0.,  0.,\n",
       "          0.,  0.,  0.,  0.,  0.,  0.,  0.,  0.,  0.,  0.,  0.,  0.,\n",
       "          0.,  0.,  0.,  0.,  0.,  0.,  0.,  0.,  0.,  0.,  0.,  0.],\n",
       "        [ 0.,  0.,  0.,  0.,  0.,  0.,  0.,  0.,  0.,  0.,  0.,  0.,\n",
       "          0.,  0.,  0.,  0.,  0.,  0.,  0.,  0.,  0.,  0.,  0.,  0.,\n",
       "          0.,  0.,  0.,  0.,  0.,  0.,  0.,  0.,  0.,  0.,  0.,  0.,\n",
       "          0.,  0.,  0.,  0.,  0.,  0.,  0.,  0.,  0.,  0.,  0.,  0.]],\n",
       "\n",
       "       [[ 0.,  0.,  0.,  0.,  0.,  0.,  0.,  0.,  0.,  0.,  0.,  0.,\n",
       "          0.,  0.,  0.,  0.,  0.,  0.,  0.,  0.,  0.,  0.,  0.,  0.,\n",
       "          0.,  0.,  0.,  0.,  0.,  0.,  0.,  0.,  0.,  0.,  0.,  0.,\n",
       "          0.,  0.,  0.,  0.,  0.,  0.,  0.,  0.,  0.,  0.,  0.,  0.],\n",
       "        [ 0.,  0.,  0.,  0.,  0.,  0.,  0.,  0.,  0.,  0.,  0.,  0.,\n",
       "          0.,  0.,  0.,  0.,  0.,  0.,  0.,  0.,  0.,  0.,  0.,  0.,\n",
       "          0.,  0.,  0.,  0.,  0.,  0.,  0.,  0.,  0.,  0.,  0.,  0.,\n",
       "          0.,  0.,  0.,  0.,  0.,  0.,  0.,  0.,  0.,  0.,  0.,  0.],\n",
       "        [ 0.,  0.,  0.,  0.,  0.,  0.,  0.,  0.,  0.,  0.,  0.,  0.,\n",
       "          0.,  0.,  0.,  0.,  0.,  0.,  0.,  0.,  0.,  0.,  0.,  0.,\n",
       "          0.,  0.,  0.,  0.,  0.,  0.,  0.,  0.,  0.,  0.,  0.,  0.,\n",
       "          0.,  0.,  0.,  0.,  0.,  0.,  0.,  0.,  0.,  0.,  0.,  0.]]])</pre></div></li></ul></div></li><li class='xr-section-item'><input id='section-d82f2b23-2cc0-47e2-8496-8a70a389858f' class='xr-section-summary-in' type='checkbox'  ><label for='section-d82f2b23-2cc0-47e2-8496-8a70a389858f' class='xr-section-summary' >Indexes: <span>(5)</span></label><div class='xr-section-inline-details'></div><div class='xr-section-details'><ul class='xr-var-list'><li class='xr-var-item'><div class='xr-index-name'><div>techs</div></div><div class='xr-index-preview'>PandasIndex</div><div></div><input id='index-bd7996ce-786e-45ed-8e08-9036aa571abc' class='xr-index-data-in' type='checkbox'/><label for='index-bd7996ce-786e-45ed-8e08-9036aa571abc' title='Show/Hide index repr'><svg class='icon xr-icon-database'><use xlink:href='#icon-database'></use></svg></label><div class='xr-index-data'><pre>PandasIndex(Index([&#x27;N1_to_X2&#x27;, &#x27;N1_to_X3&#x27;, &#x27;X1_to_N1&#x27;, &#x27;X1_to_X2&#x27;, &#x27;X1_to_X3&#x27;, &#x27;boiler&#x27;,\n",
       "       &#x27;chp&#x27;, &#x27;demand_electricity&#x27;, &#x27;demand_heat&#x27;, &#x27;pv&#x27;, &#x27;supply_gas&#x27;,\n",
       "       &#x27;supply_grid_power&#x27;],\n",
       "      dtype=&#x27;object&#x27;, name=&#x27;techs&#x27;))</pre></div></li><li class='xr-var-item'><div class='xr-index-name'><div>nodes</div></div><div class='xr-index-preview'>PandasIndex</div><div></div><input id='index-69dee2c1-31c6-4e54-8221-fba70ebf81e3' class='xr-index-data-in' type='checkbox'/><label for='index-69dee2c1-31c6-4e54-8221-fba70ebf81e3' title='Show/Hide index repr'><svg class='icon xr-icon-database'><use xlink:href='#icon-database'></use></svg></label><div class='xr-index-data'><pre>PandasIndex(Index([&#x27;N1&#x27;, &#x27;X1&#x27;, &#x27;X2&#x27;, &#x27;X3&#x27;], dtype=&#x27;object&#x27;, name=&#x27;nodes&#x27;))</pre></div></li><li class='xr-var-item'><div class='xr-index-name'><div>carriers</div></div><div class='xr-index-preview'>PandasIndex</div><div></div><input id='index-c12be997-0447-4642-8a0a-fbc3f4d77017' class='xr-index-data-in' type='checkbox'/><label for='index-c12be997-0447-4642-8a0a-fbc3f4d77017' title='Show/Hide index repr'><svg class='icon xr-icon-database'><use xlink:href='#icon-database'></use></svg></label><div class='xr-index-data'><pre>PandasIndex(Index([&#x27;electricity&#x27;, &#x27;gas&#x27;, &#x27;heat&#x27;], dtype=&#x27;object&#x27;, name=&#x27;carriers&#x27;))</pre></div></li><li class='xr-var-item'><div class='xr-index-name'><div>timesteps</div></div><div class='xr-index-preview'>PandasIndex</div><div></div><input id='index-2c4061c5-e085-4e6f-bae3-df4b0ddcec7b' class='xr-index-data-in' type='checkbox'/><label for='index-2c4061c5-e085-4e6f-bae3-df4b0ddcec7b' title='Show/Hide index repr'><svg class='icon xr-icon-database'><use xlink:href='#icon-database'></use></svg></label><div class='xr-index-data'><pre>PandasIndex(DatetimeIndex([&#x27;2005-07-01 00:00:00&#x27;, &#x27;2005-07-01 01:00:00&#x27;,\n",
       "               &#x27;2005-07-01 02:00:00&#x27;, &#x27;2005-07-01 03:00:00&#x27;,\n",
       "               &#x27;2005-07-01 04:00:00&#x27;, &#x27;2005-07-01 05:00:00&#x27;,\n",
       "               &#x27;2005-07-01 06:00:00&#x27;, &#x27;2005-07-01 07:00:00&#x27;,\n",
       "               &#x27;2005-07-01 08:00:00&#x27;, &#x27;2005-07-01 09:00:00&#x27;,\n",
       "               &#x27;2005-07-01 10:00:00&#x27;, &#x27;2005-07-01 11:00:00&#x27;,\n",
       "               &#x27;2005-07-01 12:00:00&#x27;, &#x27;2005-07-01 13:00:00&#x27;,\n",
       "               &#x27;2005-07-01 14:00:00&#x27;, &#x27;2005-07-01 15:00:00&#x27;,\n",
       "               &#x27;2005-07-01 16:00:00&#x27;, &#x27;2005-07-01 17:00:00&#x27;,\n",
       "               &#x27;2005-07-01 18:00:00&#x27;, &#x27;2005-07-01 19:00:00&#x27;,\n",
       "               &#x27;2005-07-01 20:00:00&#x27;, &#x27;2005-07-01 21:00:00&#x27;,\n",
       "               &#x27;2005-07-01 22:00:00&#x27;, &#x27;2005-07-01 23:00:00&#x27;,\n",
       "               &#x27;2005-07-02 00:00:00&#x27;, &#x27;2005-07-02 01:00:00&#x27;,\n",
       "               &#x27;2005-07-02 02:00:00&#x27;, &#x27;2005-07-02 03:00:00&#x27;,\n",
       "               &#x27;2005-07-02 04:00:00&#x27;, &#x27;2005-07-02 05:00:00&#x27;,\n",
       "               &#x27;2005-07-02 06:00:00&#x27;, &#x27;2005-07-02 07:00:00&#x27;,\n",
       "               &#x27;2005-07-02 08:00:00&#x27;, &#x27;2005-07-02 09:00:00&#x27;,\n",
       "               &#x27;2005-07-02 10:00:00&#x27;, &#x27;2005-07-02 11:00:00&#x27;,\n",
       "               &#x27;2005-07-02 12:00:00&#x27;, &#x27;2005-07-02 13:00:00&#x27;,\n",
       "               &#x27;2005-07-02 14:00:00&#x27;, &#x27;2005-07-02 15:00:00&#x27;,\n",
       "               &#x27;2005-07-02 16:00:00&#x27;, &#x27;2005-07-02 17:00:00&#x27;,\n",
       "               &#x27;2005-07-02 18:00:00&#x27;, &#x27;2005-07-02 19:00:00&#x27;,\n",
       "               &#x27;2005-07-02 20:00:00&#x27;, &#x27;2005-07-02 21:00:00&#x27;,\n",
       "               &#x27;2005-07-02 22:00:00&#x27;, &#x27;2005-07-02 23:00:00&#x27;],\n",
       "              dtype=&#x27;datetime64[ns]&#x27;, name=&#x27;timesteps&#x27;, freq=None))</pre></div></li><li class='xr-var-item'><div class='xr-index-name'><div>costs</div></div><div class='xr-index-preview'>PandasIndex</div><div></div><input id='index-0d96e12a-5f55-4dcc-bd0e-ad257c305e0c' class='xr-index-data-in' type='checkbox'/><label for='index-0d96e12a-5f55-4dcc-bd0e-ad257c305e0c' title='Show/Hide index repr'><svg class='icon xr-icon-database'><use xlink:href='#icon-database'></use></svg></label><div class='xr-index-data'><pre>PandasIndex(Index([&#x27;monetary&#x27;], dtype=&#x27;object&#x27;, name=&#x27;costs&#x27;))</pre></div></li></ul></div></li><li class='xr-section-item'><input id='section-e114f3db-2af7-489f-9135-4edc3565d82f' class='xr-section-summary-in' type='checkbox' disabled ><label for='section-e114f3db-2af7-489f-9135-4edc3565d82f' class='xr-section-summary'  title='Expand/collapse section'>Attributes: <span>(0)</span></label><div class='xr-section-inline-details'></div><div class='xr-section-details'><dl class='xr-attrs'></dl></div></li></ul></div></div>"
      ],
      "text/plain": [
       "<xarray.Dataset> Size: 388kB\n",
       "Dimensions:                     (nodes: 4, techs: 12, carriers: 3,\n",
       "                                 timesteps: 48, costs: 1)\n",
       "Coordinates:\n",
       "  * techs                       (techs) object 96B 'N1_to_X2' ... 'supply_gri...\n",
       "  * nodes                       (nodes) object 32B 'N1' 'X1' 'X2' 'X3'\n",
       "  * carriers                    (carriers) object 24B 'electricity' 'gas' 'heat'\n",
       "  * timesteps                   (timesteps) datetime64[ns] 384B 2005-07-01 .....\n",
       "  * costs                       (costs) object 8B 'monetary'\n",
       "Data variables: (12/24)\n",
       "    flow_cap                    (nodes, techs, carriers) float64 1kB nan ... nan\n",
       "    link_flow_cap               (techs) float64 96B 190.2 10.38 ... nan nan\n",
       "    flow_out                    (nodes, techs, carriers, timesteps) float64 55kB ...\n",
       "    flow_in                     (nodes, techs, carriers, timesteps) float64 55kB ...\n",
       "    flow_export                 (nodes, techs, carriers, timesteps) float64 55kB ...\n",
       "    area_use                    (nodes, techs) float64 384B nan nan ... nan nan\n",
       "    ...                          ...\n",
       "    min_cost_optimisation       float64 8B 842.3\n",
       "    capacity_factor             (nodes, techs, carriers, timesteps) float64 55kB ...\n",
       "    systemwide_capacity_factor  (techs, carriers) float64 288B 0.0 0.0 ... 0.0\n",
       "    systemwide_levelised_cost   (techs, costs, carriers) float64 288B nan ......\n",
       "    total_levelised_cost        (costs, carriers) float64 24B 0.07937 ... 0.0...\n",
       "    unmet_sum                   (nodes, carriers, timesteps) float64 5kB nan ..."
      ]
     },
     "execution_count": 7,
     "metadata": {},
     "output_type": "execute_result"
    }
   ],
   "source": [
    "model.results"
   ]
  },
  {
   "cell_type": "markdown",
   "id": "4a194c0f",
   "metadata": {},
   "source": [
    "We can sum heat output over all locations and turn the result into a pandas DataFrame.\n",
    "\n",
    "Note: heat output of transmission technologies (e.g., `N1_to_X2`) is the import of heat at nodes."
   ]
  },
  {
   "cell_type": "code",
   "execution_count": 8,
   "id": "dfa535e4",
   "metadata": {},
   "outputs": [
    {
     "data": {
      "text/html": [
       "<div>\n",
       "<style scoped>\n",
       "    .dataframe tbody tr th:only-of-type {\n",
       "        vertical-align: middle;\n",
       "    }\n",
       "\n",
       "    .dataframe tbody tr th {\n",
       "        vertical-align: top;\n",
       "    }\n",
       "\n",
       "    .dataframe thead th {\n",
       "        text-align: right;\n",
       "    }\n",
       "</style>\n",
       "<table border=\"1\" class=\"dataframe\">\n",
       "  <thead>\n",
       "    <tr style=\"text-align: right;\">\n",
       "      <th>techs</th>\n",
       "      <th>N1_to_X2</th>\n",
       "      <th>N1_to_X3</th>\n",
       "      <th>X1_to_N1</th>\n",
       "      <th>boiler</th>\n",
       "      <th>chp</th>\n",
       "    </tr>\n",
       "    <tr>\n",
       "      <th>timesteps</th>\n",
       "      <th></th>\n",
       "      <th></th>\n",
       "      <th></th>\n",
       "      <th></th>\n",
       "      <th></th>\n",
       "    </tr>\n",
       "  </thead>\n",
       "  <tbody>\n",
       "    <tr>\n",
       "      <th>2005-07-01 00:00:00</th>\n",
       "      <td>190.242625</td>\n",
       "      <td>0.015600</td>\n",
       "      <td>163.272893</td>\n",
       "      <td>0.000000</td>\n",
       "      <td>92.861360</td>\n",
       "    </tr>\n",
       "    <tr>\n",
       "      <th>2005-07-01 01:00:00</th>\n",
       "      <td>66.368993</td>\n",
       "      <td>0.844722</td>\n",
       "      <td>72.541074</td>\n",
       "      <td>4.100046</td>\n",
       "      <td>78.466297</td>\n",
       "    </tr>\n",
       "    <tr>\n",
       "      <th>2005-07-01 02:00:00</th>\n",
       "      <td>67.582474</td>\n",
       "      <td>0.000000</td>\n",
       "      <td>72.915564</td>\n",
       "      <td>9.626102</td>\n",
       "      <td>78.876806</td>\n",
       "    </tr>\n",
       "    <tr>\n",
       "      <th>2005-07-01 03:00:00</th>\n",
       "      <td>67.487047</td>\n",
       "      <td>0.000000</td>\n",
       "      <td>72.812606</td>\n",
       "      <td>37.084989</td>\n",
       "      <td>78.877367</td>\n",
       "    </tr>\n",
       "    <tr>\n",
       "      <th>2005-07-01 04:00:00</th>\n",
       "      <td>70.052981</td>\n",
       "      <td>0.844807</td>\n",
       "      <td>76.515868</td>\n",
       "      <td>53.191064</td>\n",
       "      <td>83.204646</td>\n",
       "    </tr>\n",
       "  </tbody>\n",
       "</table>\n",
       "</div>"
      ],
      "text/plain": [
       "techs                  N1_to_X2  N1_to_X3    X1_to_N1     boiler        chp\n",
       "timesteps                                                                  \n",
       "2005-07-01 00:00:00  190.242625  0.015600  163.272893   0.000000  92.861360\n",
       "2005-07-01 01:00:00   66.368993  0.844722   72.541074   4.100046  78.466297\n",
       "2005-07-01 02:00:00   67.582474  0.000000   72.915564   9.626102  78.876806\n",
       "2005-07-01 03:00:00   67.487047  0.000000   72.812606  37.084989  78.877367\n",
       "2005-07-01 04:00:00   70.052981  0.844807   76.515868  53.191064  83.204646"
      ]
     },
     "execution_count": 8,
     "metadata": {},
     "output_type": "execute_result"
    }
   ],
   "source": [
    "df_heat = (\n",
    "    model.results.flow_out.sel(carriers=\"heat\")\n",
    "    .sum(\"nodes\", min_count=1, skipna=True)\n",
    "    .to_series()\n",
    "    .dropna()\n",
    "    .unstack(\"techs\")\n",
    ")\n",
    "\n",
    "df_heat.head()"
   ]
  },
  {
   "cell_type": "markdown",
   "id": "b2db134d",
   "metadata": {},
   "source": [
    "We can also examine total technology costs."
   ]
  },
  {
   "cell_type": "code",
   "execution_count": 9,
   "id": "32e481aa",
   "metadata": {},
   "outputs": [
    {
     "data": {
      "text/plain": [
       "nodes  techs     costs   \n",
       "N1     N1_to_X2  monetary    0.051679\n",
       "       N1_to_X3  monetary    0.003761\n",
       "       X1_to_N1  monetary    0.154602\n",
       "X1     X1_to_N1  monetary    0.154602\n",
       "       X1_to_X2  monetary    0.008286\n",
       "Name: cost, dtype: float64"
      ]
     },
     "execution_count": 9,
     "metadata": {},
     "output_type": "execute_result"
    }
   ],
   "source": [
    "costs = model.results.cost.to_series().dropna()\n",
    "costs.head()"
   ]
  },
  {
   "cell_type": "markdown",
   "id": "383e7c4e",
   "metadata": {},
   "source": [
    "We can also examine levelized costs for each location and technology, which is calculated in a post-processing step."
   ]
  },
  {
   "cell_type": "code",
   "execution_count": 10,
   "id": "f5510d03",
   "metadata": {},
   "outputs": [
    {
     "data": {
      "text/plain": [
       "techs              costs   \n",
       "X1_to_X2           monetary    0.000002\n",
       "X1_to_X3           monetary    0.000002\n",
       "chp                monetary    0.016822\n",
       "pv                 monetary    0.038754\n",
       "supply_grid_power  monetary    0.115972\n",
       "Name: systemwide_levelised_cost, dtype: float64"
      ]
     },
     "execution_count": 10,
     "metadata": {},
     "output_type": "execute_result"
    }
   ],
   "source": [
    "lcoes = (\n",
    "    model.results.systemwide_levelised_cost.sel(carriers=\"electricity\")\n",
    "    .to_series()\n",
    "    .dropna()\n",
    ")\n",
    "lcoes.head()"
   ]
  },
  {
   "cell_type": "markdown",
   "id": "cddde248",
   "metadata": {},
   "source": [
    "### Visualising results\n",
    "\n",
    "We can use [plotly](https://plotly.com/) to quickly examine our results.\n",
    "These are just some examples of how to visualise Calliope data."
   ]
  },
  {
   "cell_type": "code",
   "execution_count": 11,
   "id": "8d57402b",
   "metadata": {},
   "outputs": [],
   "source": [
    "# We set the color mapping to use in all our plots by extracting the colors defined in the technology definitions of our model.\n",
    "colors = model.inputs.color.to_series().to_dict()"
   ]
  },
  {
   "cell_type": "markdown",
   "id": "ee3610b2",
   "metadata": {},
   "source": [
    "#### Plotting flows\n",
    "We do this by combinging in- and out-flows and separating demand from other technologies.\n",
    "First, we look at the aggregated result across all nodes for `electricity`, then we look at each node and carrier separately."
   ]
  },
  {
   "cell_type": "code",
   "execution_count": 12,
   "id": "023855ea",
   "metadata": {
    "lines_to_next_cell": 2
   },
   "outputs": [
    {
     "name": "stdout",
     "output_type": "stream",
     "text": [
      "      techs           timesteps  Flow in/out (kWh)\n",
      "0  X1_to_X2 2005-07-01 00:00:00          -1.929506\n",
      "1  X1_to_X2 2005-07-01 01:00:00          -1.570625\n",
      "2  X1_to_X2 2005-07-01 02:00:00          -1.581138\n",
      "3  X1_to_X2 2005-07-01 03:00:00          -1.581138\n",
      "4  X1_to_X2 2005-07-01 04:00:00          -1.688398\n"
     ]
    },
    {
     "data": {
      "application/vnd.plotly.v1+json": {
       "config": {
        "plotlyServerURL": "https://plot.ly"
       },
       "data": [
        {
         "hovertemplate": "techs=X1_to_X2<br>timesteps=%{x}<br>Flow in/out (kWh)=%{y}<extra></extra>",
         "legendgroup": "X1_to_X2",
         "marker": {
          "color": "#6783E3",
          "pattern": {
           "shape": ""
          }
         },
         "name": "X1_to_X2",
         "orientation": "v",
         "showlegend": true,
         "textposition": "auto",
         "type": "bar",
         "x": [
          "2005-07-01T00:00:00.000000000",
          "2005-07-01T01:00:00.000000000",
          "2005-07-01T02:00:00.000000000",
          "2005-07-01T03:00:00.000000000",
          "2005-07-01T04:00:00.000000000",
          "2005-07-01T05:00:00.000000000",
          "2005-07-01T06:00:00.000000000",
          "2005-07-01T07:00:00.000000000",
          "2005-07-01T08:00:00.000000000",
          "2005-07-01T09:00:00.000000000",
          "2005-07-01T10:00:00.000000000",
          "2005-07-01T11:00:00.000000000",
          "2005-07-01T12:00:00.000000000",
          "2005-07-01T13:00:00.000000000",
          "2005-07-01T14:00:00.000000000",
          "2005-07-01T15:00:00.000000000",
          "2005-07-01T16:00:00.000000000",
          "2005-07-01T17:00:00.000000000",
          "2005-07-01T18:00:00.000000000",
          "2005-07-01T19:00:00.000000000",
          "2005-07-01T20:00:00.000000000",
          "2005-07-01T21:00:00.000000000",
          "2005-07-01T22:00:00.000000000",
          "2005-07-01T23:00:00.000000000",
          "2005-07-02T00:00:00.000000000",
          "2005-07-02T01:00:00.000000000",
          "2005-07-02T02:00:00.000000000",
          "2005-07-02T03:00:00.000000000",
          "2005-07-02T04:00:00.000000000",
          "2005-07-02T05:00:00.000000000",
          "2005-07-02T06:00:00.000000000",
          "2005-07-02T07:00:00.000000000",
          "2005-07-02T08:00:00.000000000",
          "2005-07-02T09:00:00.000000000",
          "2005-07-02T10:00:00.000000000",
          "2005-07-02T11:00:00.000000000",
          "2005-07-02T12:00:00.000000000",
          "2005-07-02T13:00:00.000000000",
          "2005-07-02T14:00:00.000000000",
          "2005-07-02T15:00:00.000000000",
          "2005-07-02T16:00:00.000000000",
          "2005-07-02T17:00:00.000000000",
          "2005-07-02T18:00:00.000000000",
          "2005-07-02T19:00:00.000000000",
          "2005-07-02T20:00:00.000000000",
          "2005-07-02T21:00:00.000000000",
          "2005-07-02T22:00:00.000000000",
          "2005-07-02T23:00:00.000000000"
         ],
         "xaxis": "x",
         "y": {
          "bdata": "QKCg1kHf/r8ASjKORyH5v8Bj1hpXTPm/wGPWGldM+b9AbtB7rQP7v8Aet9gXQAjAgNEsUEnzDsCAtBvwmscRwCDBcqWmhxHAoKb9EaoIEsAANJglQq4NwABgw3nbuQ3AgJV3273XC8BAKRaaTaULwEDdz79lbA3AYJqe+H/iEMDAu8JU4igNwMAVintCYBTAQG/D0aMHFMDAD+RXuj4VwADWa8e8yBTAYADntnnFEMBAdyVmKxQGwMAmV6tn7/6/IJQ0wIe/AMCABShucAz8vwCyLchBi/u/QDIswQdN/L/A/MEIP679v0AFLi/MHwjAQPgky8VAEMAAHZpt9n0TwEAZRIaGMRPAQPcD7froEsAgSXx57TQSwEDIh+18QA7AwHs8uYxRC8DAGLdv8z4KwIAhg2bnEw3AYF6RDFrNEMBACB9b9BYNwGAzq2Xe8xPA4DBtkwUhFMAAyqTp//UVwEC3fg+eCBTAoKhyFt8FEMAA9prBiRYGwIA6gj757wDA",
          "dtype": "f8"
         },
         "yaxis": "y"
        },
        {
         "hovertemplate": "techs=X1_to_X3<br>timesteps=%{x}<br>Flow in/out (kWh)=%{y}<extra></extra>",
         "legendgroup": "X1_to_X3",
         "marker": {
          "color": "#6783E3",
          "pattern": {
           "shape": ""
          }
         },
         "name": "X1_to_X3",
         "orientation": "v",
         "showlegend": true,
         "textposition": "auto",
         "type": "bar",
         "x": [
          "2005-07-01T00:00:00.000000000",
          "2005-07-01T01:00:00.000000000",
          "2005-07-01T02:00:00.000000000",
          "2005-07-01T03:00:00.000000000",
          "2005-07-01T04:00:00.000000000",
          "2005-07-01T05:00:00.000000000",
          "2005-07-01T06:00:00.000000000",
          "2005-07-01T07:00:00.000000000",
          "2005-07-01T08:00:00.000000000",
          "2005-07-01T09:00:00.000000000",
          "2005-07-01T10:00:00.000000000",
          "2005-07-01T11:00:00.000000000",
          "2005-07-01T12:00:00.000000000",
          "2005-07-01T13:00:00.000000000",
          "2005-07-01T14:00:00.000000000",
          "2005-07-01T15:00:00.000000000",
          "2005-07-01T16:00:00.000000000",
          "2005-07-01T17:00:00.000000000",
          "2005-07-01T18:00:00.000000000",
          "2005-07-01T19:00:00.000000000",
          "2005-07-01T20:00:00.000000000",
          "2005-07-01T21:00:00.000000000",
          "2005-07-01T22:00:00.000000000",
          "2005-07-01T23:00:00.000000000",
          "2005-07-02T00:00:00.000000000",
          "2005-07-02T01:00:00.000000000",
          "2005-07-02T02:00:00.000000000",
          "2005-07-02T03:00:00.000000000",
          "2005-07-02T04:00:00.000000000",
          "2005-07-02T05:00:00.000000000",
          "2005-07-02T06:00:00.000000000",
          "2005-07-02T07:00:00.000000000",
          "2005-07-02T08:00:00.000000000",
          "2005-07-02T09:00:00.000000000",
          "2005-07-02T10:00:00.000000000",
          "2005-07-02T11:00:00.000000000",
          "2005-07-02T12:00:00.000000000",
          "2005-07-02T13:00:00.000000000",
          "2005-07-02T14:00:00.000000000",
          "2005-07-02T15:00:00.000000000",
          "2005-07-02T16:00:00.000000000",
          "2005-07-02T17:00:00.000000000",
          "2005-07-02T18:00:00.000000000",
          "2005-07-02T19:00:00.000000000",
          "2005-07-02T20:00:00.000000000",
          "2005-07-02T21:00:00.000000000",
          "2005-07-02T22:00:00.000000000",
          "2005-07-02T23:00:00.000000000"
         ],
         "xaxis": "x",
         "y": {
          "bdata": "AD2Zg7SB2L8APZmDtIHYvwA9mYO0gdi/AD2Zg7SB2L8APZmDtIHYv0AOiXs7NOK/oIsNhvNY4b9AjuGTUkztv8BtYkdAU+q/QHkYPUBI5r/AfuzOE2TlvwBy0MLEqeS/QELx5UJm5r/A+gwRIArOv0BNLsIA58+/wCC49K/D1b9gvF0yLKfQv6CqzWLWadG/wPig9kqc17/AgncW5v/ZvwA9mYO0gdi/AD2Zg7SB2L8APZmDtIHYvwA9mYO0gdi/AD2Zg7SB2L8APZmDtIHYvwA9mYO0gdi/AD2Zg7SB2L8APZmDtIHYv8CIiUOzV9W/QJx4fL6yyr+AHt5AY4i2vwDgJI2W6p6/gIwqm6eexL/A82EkWfLQv+AuIT5vXNK/wMLJ0I1Nzr/A4mPfrWa8v4Ds6dxBM6C/INzTGCqKwb+AQTa07gfNv6CLRhUDytK/QEgdGaYe1r9AE5ACcSzYvwA9mYO0gdi/AD2Zg7SB2L8APZmDtIHYvwA9mYO0gdi/",
          "dtype": "f8"
         },
         "yaxis": "y"
        },
        {
         "hovertemplate": "techs=chp<br>timesteps=%{x}<br>Flow in/out (kWh)=%{y}<extra></extra>",
         "legendgroup": "chp",
         "marker": {
          "color": "#E4AB97",
          "pattern": {
           "shape": ""
          }
         },
         "name": "chp",
         "orientation": "v",
         "showlegend": true,
         "textposition": "auto",
         "type": "bar",
         "x": [
          "2005-07-01T00:00:00.000000000",
          "2005-07-01T01:00:00.000000000",
          "2005-07-01T02:00:00.000000000",
          "2005-07-01T03:00:00.000000000",
          "2005-07-01T04:00:00.000000000",
          "2005-07-01T05:00:00.000000000",
          "2005-07-01T06:00:00.000000000",
          "2005-07-01T07:00:00.000000000",
          "2005-07-01T08:00:00.000000000",
          "2005-07-01T09:00:00.000000000",
          "2005-07-01T10:00:00.000000000",
          "2005-07-01T11:00:00.000000000",
          "2005-07-01T12:00:00.000000000",
          "2005-07-01T13:00:00.000000000",
          "2005-07-01T14:00:00.000000000",
          "2005-07-01T15:00:00.000000000",
          "2005-07-01T16:00:00.000000000",
          "2005-07-01T17:00:00.000000000",
          "2005-07-01T18:00:00.000000000",
          "2005-07-01T19:00:00.000000000",
          "2005-07-01T20:00:00.000000000",
          "2005-07-01T21:00:00.000000000",
          "2005-07-01T22:00:00.000000000",
          "2005-07-01T23:00:00.000000000",
          "2005-07-02T00:00:00.000000000",
          "2005-07-02T01:00:00.000000000",
          "2005-07-02T02:00:00.000000000",
          "2005-07-02T03:00:00.000000000",
          "2005-07-02T04:00:00.000000000",
          "2005-07-02T05:00:00.000000000",
          "2005-07-02T06:00:00.000000000",
          "2005-07-02T07:00:00.000000000",
          "2005-07-02T08:00:00.000000000",
          "2005-07-02T09:00:00.000000000",
          "2005-07-02T10:00:00.000000000",
          "2005-07-02T11:00:00.000000000",
          "2005-07-02T12:00:00.000000000",
          "2005-07-02T13:00:00.000000000",
          "2005-07-02T14:00:00.000000000",
          "2005-07-02T15:00:00.000000000",
          "2005-07-02T16:00:00.000000000",
          "2005-07-02T17:00:00.000000000",
          "2005-07-02T18:00:00.000000000",
          "2005-07-02T19:00:00.000000000",
          "2005-07-02T20:00:00.000000000",
          "2005-07-02T21:00:00.000000000",
          "2005-07-02T22:00:00.000000000",
          "2005-07-02T23:00:00.000000000"
         ],
         "xaxis": "x",
         "y": {
          "bdata": "/sxKp+gEXUDWgADBTYVYQJRAV/4kplhAJurmeTCmWEDlI1gmXwBaQJZBYNVxkmZAgXYUw+Goa0CuiuqsJU9wQK6K6qwlT3BArorqrCVPcECYEiNJ13RrQJH+84zjWGtAiiEJRzM2akBAd0Kb2SVnQKqLOKhSoWhAM5Om7vyabEDH31TQXYZoQK6K6qwlT3BArorqrCVPcECuiuqsJU9wQK6K6qwlT3BAk0HpjWa8bEBIupnd3L5jQDrbxhMtGF1ASHfvU8ERX0BCe/ivBc1aQJB1w1VMZ1pAgvPZe7r+WkA523TcoBVcQC7PZJyTAGVAMXXARmDKakCA/ifxfBhvQDPVomQf5G1AbmLznhWmbEDEyzBDqepqQL+M5psQ92VA+i4kyi36Y0AtzFqwb+hjQCWxy5YIAGdAkEIijRQ1a0BKei6860JoQK6K6qwlT3BArorqrCVPcECuiuqsJU9wQK6K6qwlT3BAfXgz8wSRa0BQhQ2VtsBjQFpAlocZZF9A",
          "dtype": "f8"
         },
         "yaxis": "y"
        },
        {
         "hovertemplate": "techs=pv<br>timesteps=%{x}<br>Flow in/out (kWh)=%{y}<extra></extra>",
         "legendgroup": "pv",
         "marker": {
          "color": "#F9D956",
          "pattern": {
           "shape": ""
          }
         },
         "name": "pv",
         "orientation": "v",
         "showlegend": true,
         "textposition": "auto",
         "type": "bar",
         "x": [
          "2005-07-01T05:00:00.000000000",
          "2005-07-01T06:00:00.000000000",
          "2005-07-01T07:00:00.000000000",
          "2005-07-01T08:00:00.000000000",
          "2005-07-01T09:00:00.000000000",
          "2005-07-01T10:00:00.000000000",
          "2005-07-01T11:00:00.000000000",
          "2005-07-01T12:00:00.000000000",
          "2005-07-01T13:00:00.000000000",
          "2005-07-01T14:00:00.000000000",
          "2005-07-01T15:00:00.000000000",
          "2005-07-01T16:00:00.000000000",
          "2005-07-01T17:00:00.000000000",
          "2005-07-01T18:00:00.000000000",
          "2005-07-02T05:00:00.000000000",
          "2005-07-02T06:00:00.000000000",
          "2005-07-02T07:00:00.000000000",
          "2005-07-02T08:00:00.000000000",
          "2005-07-02T09:00:00.000000000",
          "2005-07-02T10:00:00.000000000",
          "2005-07-02T11:00:00.000000000",
          "2005-07-02T12:00:00.000000000",
          "2005-07-02T13:00:00.000000000",
          "2005-07-02T14:00:00.000000000",
          "2005-07-02T15:00:00.000000000",
          "2005-07-02T16:00:00.000000000",
          "2005-07-02T17:00:00.000000000",
          "2005-07-02T18:00:00.000000000",
          "2005-07-02T19:00:00.000000000"
         ],
         "xaxis": "x",
         "y": {
          "bdata": "VpjaV1owFUAQeZC52qUzQKasavyeu0JAHMOe5hxwSkBJDTWpOy5QQN0bTRwtOlJAMGiHJIUhUkDoeEPdr1ZOQCmo1pBh+0dAkfSZKva3RUBvqgJsdxhBQI0apQspATpAFYsvPLu4MUBkI4AGeTIaQMI1CBaa9RVACF4/0uJbM0BgRWiei19AQFRXQ9Z9+EZAwFIm2QNjTkAwaIckhSFSQDIxiPfIwVJAANREWhtWUUBamJ+eqItLQIzr58XegENAtP8qjvi8O0DyrlseAzQyQOWBa7Qq1yNA/ttLiNuQEEBf8To++33iPw==",
          "dtype": "f8"
         },
         "yaxis": "y"
        },
        {
         "hovertemplate": "techs=supply_grid_power<br>timesteps=%{x}<br>Flow in/out (kWh)=%{y}<extra></extra>",
         "legendgroup": "supply_grid_power",
         "marker": {
          "color": "#C5ABE3",
          "pattern": {
           "shape": ""
          }
         },
         "name": "supply_grid_power",
         "orientation": "v",
         "showlegend": true,
         "textposition": "auto",
         "type": "bar",
         "x": [
          "2005-07-01T07:00:00.000000000",
          "2005-07-01T17:00:00.000000000",
          "2005-07-01T18:00:00.000000000",
          "2005-07-01T19:00:00.000000000",
          "2005-07-01T20:00:00.000000000",
          "2005-07-02T17:00:00.000000000",
          "2005-07-02T18:00:00.000000000",
          "2005-07-02T19:00:00.000000000",
          "2005-07-02T20:00:00.000000000"
         ],
         "xaxis": "x",
         "y": {
          "bdata": "YOhA+coqH0BAnjW6FqwgQGBa3NLKySFAoNER0w8ZOkBgZjv3Bk8zQEDHnNwseRBAAIBSIgXwIUAwDbf8YM9AQEDOTvgN2yNA",
          "dtype": "f8"
         },
         "yaxis": "y"
        },
        {
         "marker": {
          "color": "black"
         },
         "name": "demand",
         "type": "scatter",
         "x": [
          "2005-07-01T00:00:00.000000000",
          "2005-07-01T01:00:00.000000000",
          "2005-07-01T02:00:00.000000000",
          "2005-07-01T03:00:00.000000000",
          "2005-07-01T04:00:00.000000000",
          "2005-07-01T05:00:00.000000000",
          "2005-07-01T06:00:00.000000000",
          "2005-07-01T07:00:00.000000000",
          "2005-07-01T08:00:00.000000000",
          "2005-07-01T09:00:00.000000000",
          "2005-07-01T10:00:00.000000000",
          "2005-07-01T11:00:00.000000000",
          "2005-07-01T12:00:00.000000000",
          "2005-07-01T13:00:00.000000000",
          "2005-07-01T14:00:00.000000000",
          "2005-07-01T15:00:00.000000000",
          "2005-07-01T16:00:00.000000000",
          "2005-07-01T17:00:00.000000000",
          "2005-07-01T18:00:00.000000000",
          "2005-07-01T19:00:00.000000000",
          "2005-07-01T20:00:00.000000000",
          "2005-07-01T21:00:00.000000000",
          "2005-07-01T22:00:00.000000000",
          "2005-07-01T23:00:00.000000000",
          "2005-07-02T00:00:00.000000000",
          "2005-07-02T01:00:00.000000000",
          "2005-07-02T02:00:00.000000000",
          "2005-07-02T03:00:00.000000000",
          "2005-07-02T04:00:00.000000000",
          "2005-07-02T05:00:00.000000000",
          "2005-07-02T06:00:00.000000000",
          "2005-07-02T07:00:00.000000000",
          "2005-07-02T08:00:00.000000000",
          "2005-07-02T09:00:00.000000000",
          "2005-07-02T10:00:00.000000000",
          "2005-07-02T11:00:00.000000000",
          "2005-07-02T12:00:00.000000000",
          "2005-07-02T13:00:00.000000000",
          "2005-07-02T14:00:00.000000000",
          "2005-07-02T15:00:00.000000000",
          "2005-07-02T16:00:00.000000000",
          "2005-07-02T17:00:00.000000000",
          "2005-07-02T18:00:00.000000000",
          "2005-07-02T19:00:00.000000000",
          "2005-07-02T20:00:00.000000000",
          "2005-07-02T21:00:00.000000000",
          "2005-07-02T22:00:00.000000000",
          "2005-07-02T23:00:00.000000000"
         ],
         "y": {
          "bdata": "QLFs6+lwXEBwHkTuRghYQMhNaO1xKFhAWvf3aH0oWEDwSOW7zntZQAJ6ZQcKamZAxe4NTiwxbEBLhFIjgM1yQNbmBA/hSXNAn81tbD1tckCcKXJd6AJyQFvqRnYK73FAFhgDAg2jcEBnhQtBmq5sQMU9r9ukkW1AdvbzeJIncEBLSV3Si0lrQJBU+JY2mnFAE7iWRTjwcECpeTbHO5VxQGyrH7zSKnFA8jzw5fkpbEDNV79VS1pjQGLllcDtg1xAajlqYUNzXkDuQbw5UkRaQIolH5qd4FlAfKlRqAR1WkAKOs4rZoZbQBnTp7Dt4mRAJ5TrkQlTa0DZ9f5LESRwQDn/kC1U0m9ARjZQE89jb0AqN9o8EdVuQKB1VezE1W5AnQZ85utoa0Bl6Yc00V5qQOPQjXbtamtAneL8Q+YhbkB3ZuBSzg1qQGlbpLtB23BACVJKhN3KcECgUjmubRRyQPMfTje7l3BAmhY+IJUEa0DaTMWTG1xjQEqVHgkYxF5A",
          "dtype": "f8"
         }
        }
       ],
       "layout": {
        "barmode": "relative",
        "legend": {
         "title": {
          "text": "techs"
         },
         "tracegroupgap": 0
        },
        "margin": {
         "t": 60
        },
        "template": {
         "data": {
          "bar": [
           {
            "error_x": {
             "color": "#2a3f5f"
            },
            "error_y": {
             "color": "#2a3f5f"
            },
            "marker": {
             "line": {
              "color": "#E5ECF6",
              "width": 0.5
             },
             "pattern": {
              "fillmode": "overlay",
              "size": 10,
              "solidity": 0.2
             }
            },
            "type": "bar"
           }
          ],
          "barpolar": [
           {
            "marker": {
             "line": {
              "color": "#E5ECF6",
              "width": 0.5
             },
             "pattern": {
              "fillmode": "overlay",
              "size": 10,
              "solidity": 0.2
             }
            },
            "type": "barpolar"
           }
          ],
          "carpet": [
           {
            "aaxis": {
             "endlinecolor": "#2a3f5f",
             "gridcolor": "white",
             "linecolor": "white",
             "minorgridcolor": "white",
             "startlinecolor": "#2a3f5f"
            },
            "baxis": {
             "endlinecolor": "#2a3f5f",
             "gridcolor": "white",
             "linecolor": "white",
             "minorgridcolor": "white",
             "startlinecolor": "#2a3f5f"
            },
            "type": "carpet"
           }
          ],
          "choropleth": [
           {
            "colorbar": {
             "outlinewidth": 0,
             "ticks": ""
            },
            "type": "choropleth"
           }
          ],
          "contour": [
           {
            "colorbar": {
             "outlinewidth": 0,
             "ticks": ""
            },
            "colorscale": [
             [
              0,
              "#0d0887"
             ],
             [
              0.1111111111111111,
              "#46039f"
             ],
             [
              0.2222222222222222,
              "#7201a8"
             ],
             [
              0.3333333333333333,
              "#9c179e"
             ],
             [
              0.4444444444444444,
              "#bd3786"
             ],
             [
              0.5555555555555556,
              "#d8576b"
             ],
             [
              0.6666666666666666,
              "#ed7953"
             ],
             [
              0.7777777777777778,
              "#fb9f3a"
             ],
             [
              0.8888888888888888,
              "#fdca26"
             ],
             [
              1,
              "#f0f921"
             ]
            ],
            "type": "contour"
           }
          ],
          "contourcarpet": [
           {
            "colorbar": {
             "outlinewidth": 0,
             "ticks": ""
            },
            "type": "contourcarpet"
           }
          ],
          "heatmap": [
           {
            "colorbar": {
             "outlinewidth": 0,
             "ticks": ""
            },
            "colorscale": [
             [
              0,
              "#0d0887"
             ],
             [
              0.1111111111111111,
              "#46039f"
             ],
             [
              0.2222222222222222,
              "#7201a8"
             ],
             [
              0.3333333333333333,
              "#9c179e"
             ],
             [
              0.4444444444444444,
              "#bd3786"
             ],
             [
              0.5555555555555556,
              "#d8576b"
             ],
             [
              0.6666666666666666,
              "#ed7953"
             ],
             [
              0.7777777777777778,
              "#fb9f3a"
             ],
             [
              0.8888888888888888,
              "#fdca26"
             ],
             [
              1,
              "#f0f921"
             ]
            ],
            "type": "heatmap"
           }
          ],
          "histogram": [
           {
            "marker": {
             "pattern": {
              "fillmode": "overlay",
              "size": 10,
              "solidity": 0.2
             }
            },
            "type": "histogram"
           }
          ],
          "histogram2d": [
           {
            "colorbar": {
             "outlinewidth": 0,
             "ticks": ""
            },
            "colorscale": [
             [
              0,
              "#0d0887"
             ],
             [
              0.1111111111111111,
              "#46039f"
             ],
             [
              0.2222222222222222,
              "#7201a8"
             ],
             [
              0.3333333333333333,
              "#9c179e"
             ],
             [
              0.4444444444444444,
              "#bd3786"
             ],
             [
              0.5555555555555556,
              "#d8576b"
             ],
             [
              0.6666666666666666,
              "#ed7953"
             ],
             [
              0.7777777777777778,
              "#fb9f3a"
             ],
             [
              0.8888888888888888,
              "#fdca26"
             ],
             [
              1,
              "#f0f921"
             ]
            ],
            "type": "histogram2d"
           }
          ],
          "histogram2dcontour": [
           {
            "colorbar": {
             "outlinewidth": 0,
             "ticks": ""
            },
            "colorscale": [
             [
              0,
              "#0d0887"
             ],
             [
              0.1111111111111111,
              "#46039f"
             ],
             [
              0.2222222222222222,
              "#7201a8"
             ],
             [
              0.3333333333333333,
              "#9c179e"
             ],
             [
              0.4444444444444444,
              "#bd3786"
             ],
             [
              0.5555555555555556,
              "#d8576b"
             ],
             [
              0.6666666666666666,
              "#ed7953"
             ],
             [
              0.7777777777777778,
              "#fb9f3a"
             ],
             [
              0.8888888888888888,
              "#fdca26"
             ],
             [
              1,
              "#f0f921"
             ]
            ],
            "type": "histogram2dcontour"
           }
          ],
          "mesh3d": [
           {
            "colorbar": {
             "outlinewidth": 0,
             "ticks": ""
            },
            "type": "mesh3d"
           }
          ],
          "parcoords": [
           {
            "line": {
             "colorbar": {
              "outlinewidth": 0,
              "ticks": ""
             }
            },
            "type": "parcoords"
           }
          ],
          "pie": [
           {
            "automargin": true,
            "type": "pie"
           }
          ],
          "scatter": [
           {
            "fillpattern": {
             "fillmode": "overlay",
             "size": 10,
             "solidity": 0.2
            },
            "type": "scatter"
           }
          ],
          "scatter3d": [
           {
            "line": {
             "colorbar": {
              "outlinewidth": 0,
              "ticks": ""
             }
            },
            "marker": {
             "colorbar": {
              "outlinewidth": 0,
              "ticks": ""
             }
            },
            "type": "scatter3d"
           }
          ],
          "scattercarpet": [
           {
            "marker": {
             "colorbar": {
              "outlinewidth": 0,
              "ticks": ""
             }
            },
            "type": "scattercarpet"
           }
          ],
          "scattergeo": [
           {
            "marker": {
             "colorbar": {
              "outlinewidth": 0,
              "ticks": ""
             }
            },
            "type": "scattergeo"
           }
          ],
          "scattergl": [
           {
            "marker": {
             "colorbar": {
              "outlinewidth": 0,
              "ticks": ""
             }
            },
            "type": "scattergl"
           }
          ],
          "scattermap": [
           {
            "marker": {
             "colorbar": {
              "outlinewidth": 0,
              "ticks": ""
             }
            },
            "type": "scattermap"
           }
          ],
          "scattermapbox": [
           {
            "marker": {
             "colorbar": {
              "outlinewidth": 0,
              "ticks": ""
             }
            },
            "type": "scattermapbox"
           }
          ],
          "scatterpolar": [
           {
            "marker": {
             "colorbar": {
              "outlinewidth": 0,
              "ticks": ""
             }
            },
            "type": "scatterpolar"
           }
          ],
          "scatterpolargl": [
           {
            "marker": {
             "colorbar": {
              "outlinewidth": 0,
              "ticks": ""
             }
            },
            "type": "scatterpolargl"
           }
          ],
          "scatterternary": [
           {
            "marker": {
             "colorbar": {
              "outlinewidth": 0,
              "ticks": ""
             }
            },
            "type": "scatterternary"
           }
          ],
          "surface": [
           {
            "colorbar": {
             "outlinewidth": 0,
             "ticks": ""
            },
            "colorscale": [
             [
              0,
              "#0d0887"
             ],
             [
              0.1111111111111111,
              "#46039f"
             ],
             [
              0.2222222222222222,
              "#7201a8"
             ],
             [
              0.3333333333333333,
              "#9c179e"
             ],
             [
              0.4444444444444444,
              "#bd3786"
             ],
             [
              0.5555555555555556,
              "#d8576b"
             ],
             [
              0.6666666666666666,
              "#ed7953"
             ],
             [
              0.7777777777777778,
              "#fb9f3a"
             ],
             [
              0.8888888888888888,
              "#fdca26"
             ],
             [
              1,
              "#f0f921"
             ]
            ],
            "type": "surface"
           }
          ],
          "table": [
           {
            "cells": {
             "fill": {
              "color": "#EBF0F8"
             },
             "line": {
              "color": "white"
             }
            },
            "header": {
             "fill": {
              "color": "#C8D4E3"
             },
             "line": {
              "color": "white"
             }
            },
            "type": "table"
           }
          ]
         },
         "layout": {
          "annotationdefaults": {
           "arrowcolor": "#2a3f5f",
           "arrowhead": 0,
           "arrowwidth": 1
          },
          "autotypenumbers": "strict",
          "coloraxis": {
           "colorbar": {
            "outlinewidth": 0,
            "ticks": ""
           }
          },
          "colorscale": {
           "diverging": [
            [
             0,
             "#8e0152"
            ],
            [
             0.1,
             "#c51b7d"
            ],
            [
             0.2,
             "#de77ae"
            ],
            [
             0.3,
             "#f1b6da"
            ],
            [
             0.4,
             "#fde0ef"
            ],
            [
             0.5,
             "#f7f7f7"
            ],
            [
             0.6,
             "#e6f5d0"
            ],
            [
             0.7,
             "#b8e186"
            ],
            [
             0.8,
             "#7fbc41"
            ],
            [
             0.9,
             "#4d9221"
            ],
            [
             1,
             "#276419"
            ]
           ],
           "sequential": [
            [
             0,
             "#0d0887"
            ],
            [
             0.1111111111111111,
             "#46039f"
            ],
            [
             0.2222222222222222,
             "#7201a8"
            ],
            [
             0.3333333333333333,
             "#9c179e"
            ],
            [
             0.4444444444444444,
             "#bd3786"
            ],
            [
             0.5555555555555556,
             "#d8576b"
            ],
            [
             0.6666666666666666,
             "#ed7953"
            ],
            [
             0.7777777777777778,
             "#fb9f3a"
            ],
            [
             0.8888888888888888,
             "#fdca26"
            ],
            [
             1,
             "#f0f921"
            ]
           ],
           "sequentialminus": [
            [
             0,
             "#0d0887"
            ],
            [
             0.1111111111111111,
             "#46039f"
            ],
            [
             0.2222222222222222,
             "#7201a8"
            ],
            [
             0.3333333333333333,
             "#9c179e"
            ],
            [
             0.4444444444444444,
             "#bd3786"
            ],
            [
             0.5555555555555556,
             "#d8576b"
            ],
            [
             0.6666666666666666,
             "#ed7953"
            ],
            [
             0.7777777777777778,
             "#fb9f3a"
            ],
            [
             0.8888888888888888,
             "#fdca26"
            ],
            [
             1,
             "#f0f921"
            ]
           ]
          },
          "colorway": [
           "#636efa",
           "#EF553B",
           "#00cc96",
           "#ab63fa",
           "#FFA15A",
           "#19d3f3",
           "#FF6692",
           "#B6E880",
           "#FF97FF",
           "#FECB52"
          ],
          "font": {
           "color": "#2a3f5f"
          },
          "geo": {
           "bgcolor": "white",
           "lakecolor": "white",
           "landcolor": "#E5ECF6",
           "showlakes": true,
           "showland": true,
           "subunitcolor": "white"
          },
          "hoverlabel": {
           "align": "left"
          },
          "hovermode": "closest",
          "mapbox": {
           "style": "light"
          },
          "paper_bgcolor": "white",
          "plot_bgcolor": "#E5ECF6",
          "polar": {
           "angularaxis": {
            "gridcolor": "white",
            "linecolor": "white",
            "ticks": ""
           },
           "bgcolor": "#E5ECF6",
           "radialaxis": {
            "gridcolor": "white",
            "linecolor": "white",
            "ticks": ""
           }
          },
          "scene": {
           "xaxis": {
            "backgroundcolor": "#E5ECF6",
            "gridcolor": "white",
            "gridwidth": 2,
            "linecolor": "white",
            "showbackground": true,
            "ticks": "",
            "zerolinecolor": "white"
           },
           "yaxis": {
            "backgroundcolor": "#E5ECF6",
            "gridcolor": "white",
            "gridwidth": 2,
            "linecolor": "white",
            "showbackground": true,
            "ticks": "",
            "zerolinecolor": "white"
           },
           "zaxis": {
            "backgroundcolor": "#E5ECF6",
            "gridcolor": "white",
            "gridwidth": 2,
            "linecolor": "white",
            "showbackground": true,
            "ticks": "",
            "zerolinecolor": "white"
           }
          },
          "shapedefaults": {
           "line": {
            "color": "#2a3f5f"
           }
          },
          "ternary": {
           "aaxis": {
            "gridcolor": "white",
            "linecolor": "white",
            "ticks": ""
           },
           "baxis": {
            "gridcolor": "white",
            "linecolor": "white",
            "ticks": ""
           },
           "bgcolor": "#E5ECF6",
           "caxis": {
            "gridcolor": "white",
            "linecolor": "white",
            "ticks": ""
           }
          },
          "title": {
           "x": 0.05
          },
          "xaxis": {
           "automargin": true,
           "gridcolor": "white",
           "linecolor": "white",
           "ticks": "",
           "title": {
            "standoff": 15
           },
           "zerolinecolor": "white",
           "zerolinewidth": 2
          },
          "yaxis": {
           "automargin": true,
           "gridcolor": "white",
           "linecolor": "white",
           "ticks": "",
           "title": {
            "standoff": 15
           },
           "zerolinecolor": "white",
           "zerolinewidth": 2
          }
         }
        },
        "xaxis": {
         "anchor": "y",
         "domain": [
          0,
          1
         ],
         "title": {
          "text": "timesteps"
         }
        },
        "yaxis": {
         "anchor": "x",
         "domain": [
          0,
          1
         ],
         "title": {
          "text": "Flow in/out (kWh)"
         }
        }
       }
      }
     },
     "metadata": {},
     "output_type": "display_data"
    }
   ],
   "source": [
    "df_electricity = (\n",
    "    (model.results.flow_out.fillna(0) - model.results.flow_in.fillna(0))\n",
    "    .sel(carriers=\"electricity\")\n",
    "    .sum(\"nodes\")\n",
    "    .to_series()\n",
    "    .where(lambda x: x != 0)\n",
    "    .dropna()\n",
    "    .to_frame(\"Flow in/out (kWh)\")\n",
    "    .reset_index()\n",
    ")\n",
    "df_electricity_demand = df_electricity[df_electricity.techs == \"demand_electricity\"]\n",
    "df_electricity_other = df_electricity[df_electricity.techs != \"demand_electricity\"]\n",
    "\n",
    "print(df_electricity.head())\n",
    "\n",
    "fig1 = px.bar(\n",
    "    df_electricity_other,\n",
    "    x=\"timesteps\",\n",
    "    y=\"Flow in/out (kWh)\",\n",
    "    color=\"techs\",\n",
    "    color_discrete_map=colors,\n",
    ")\n",
    "fig1.add_scatter(\n",
    "    x=df_electricity_demand.timesteps,\n",
    "    y=-1 * df_electricity_demand[\"Flow in/out (kWh)\"],\n",
    "    marker_color=\"black\",\n",
    "    name=\"demand\",\n",
    ")"
   ]
  },
  {
   "cell_type": "code",
   "execution_count": 13,
   "id": "04a812f3",
   "metadata": {},
   "outputs": [
    {
     "name": "stdout",
     "output_type": "stream",
     "text": [
      "  nodes     techs carriers           timesteps  Flow in/out (kWh)\n",
      "0    N1  N1_to_X2     heat 2005-07-01 00:00:00         -79.744478\n",
      "1    N1  N1_to_X2     heat 2005-07-01 01:00:00         -71.606325\n",
      "2    N1  N1_to_X2     heat 2005-07-01 02:00:00         -72.915564\n",
      "3    N1  N1_to_X2     heat 2005-07-01 03:00:00         -72.812606\n",
      "4    N1  N1_to_X2     heat 2005-07-01 04:00:00         -75.581024\n"
     ]
    },
    {
     "data": {
      "application/vnd.plotly.v1+json": {
       "config": {
        "plotlyServerURL": "https://plot.ly"
       },
       "data": [
        {
         "hovertemplate": "techs=N1_to_X2<br>nodes=N1<br>carriers=heat<br>timesteps=%{x}<br>Flow in/out (kWh)=%{y}<extra></extra>",
         "legendgroup": "N1_to_X2",
         "marker": {
          "color": "#823739",
          "pattern": {
           "shape": ""
          }
         },
         "name": "N1_to_X2",
         "orientation": "v",
         "showlegend": true,
         "textposition": "auto",
         "type": "bar",
         "x": [
          "2005-07-01T00:00:00.000000000",
          "2005-07-01T01:00:00.000000000",
          "2005-07-01T02:00:00.000000000",
          "2005-07-01T03:00:00.000000000",
          "2005-07-01T04:00:00.000000000",
          "2005-07-01T05:00:00.000000000",
          "2005-07-01T06:00:00.000000000",
          "2005-07-01T07:00:00.000000000",
          "2005-07-01T08:00:00.000000000",
          "2005-07-01T09:00:00.000000000",
          "2005-07-01T10:00:00.000000000",
          "2005-07-01T11:00:00.000000000",
          "2005-07-01T12:00:00.000000000",
          "2005-07-01T13:00:00.000000000",
          "2005-07-01T14:00:00.000000000",
          "2005-07-01T15:00:00.000000000",
          "2005-07-01T16:00:00.000000000",
          "2005-07-01T17:00:00.000000000",
          "2005-07-01T18:00:00.000000000",
          "2005-07-01T19:00:00.000000000",
          "2005-07-01T20:00:00.000000000",
          "2005-07-01T21:00:00.000000000",
          "2005-07-01T22:00:00.000000000",
          "2005-07-01T23:00:00.000000000",
          "2005-07-02T00:00:00.000000000",
          "2005-07-02T01:00:00.000000000",
          "2005-07-02T02:00:00.000000000",
          "2005-07-02T03:00:00.000000000",
          "2005-07-02T04:00:00.000000000",
          "2005-07-02T05:00:00.000000000",
          "2005-07-02T06:00:00.000000000",
          "2005-07-02T07:00:00.000000000",
          "2005-07-02T08:00:00.000000000",
          "2005-07-02T09:00:00.000000000",
          "2005-07-02T10:00:00.000000000",
          "2005-07-02T11:00:00.000000000",
          "2005-07-02T12:00:00.000000000",
          "2005-07-02T13:00:00.000000000",
          "2005-07-02T14:00:00.000000000",
          "2005-07-02T15:00:00.000000000",
          "2005-07-02T16:00:00.000000000",
          "2005-07-02T17:00:00.000000000",
          "2005-07-02T18:00:00.000000000",
          "2005-07-02T19:00:00.000000000",
          "2005-07-02T20:00:00.000000000",
          "2005-07-02T21:00:00.000000000",
          "2005-07-02T22:00:00.000000000",
          "2005-07-02T23:00:00.000000000"
         ],
         "xaxis": "x7",
         "y": {
          "bdata": "aQLNhqXvU8A1bB4GzuZRwIithZqYOlLAh705vQE0UsB6l+F+L+VSwH+/1tZXOl/AaCku+BgTY8CUCaiP8DxnwLheQtqslmfA/HD3lMPHZ8CQ40RfMPxjwMBYp6ZKBGDApuNmFW4LX8BK4XbFxABfwP5AJppSGWDAlRcPCdj+WcDgXPgeZilewDQRykMKXWLAfpJeC3vNZsDuejFwZk1mwFi+m++y8GbAIMkwmj8hZcBlGvCPcjBdwB++1G6VSFXAnINVUtj5VsAVQJgJStNTwMovK3JPQFPA8tKvDqjXU8DedfnSZ1NUwFaQkDFRv17AH0JSo6qsY8C5JZt6xcFmwFAPPp8RAWbAivAk7pj4ZMD/HF38S95jwDuB5WUFrl/AcDSJcedDXcDZi3LcDyxdwOo1cjqBEV7AX0puRUuQWsBdFM27/eNdwDnJ4XoosGHAsiUYT4+uZsBmJFSWmANmwIWtobAxvmbAHG0ZXT9DZMCItyp6NDNdwJ7ozmi1+lbA",
          "dtype": "f8"
         },
         "yaxis": "y7"
        },
        {
         "hovertemplate": "techs=N1_to_X3<br>nodes=N1<br>carriers=heat<br>timesteps=%{x}<br>Flow in/out (kWh)=%{y}<extra></extra>",
         "legendgroup": "N1_to_X3",
         "marker": {
          "color": "#823739",
          "pattern": {
           "shape": ""
          }
         },
         "name": "N1_to_X3",
         "orientation": "v",
         "showlegend": true,
         "textposition": "auto",
         "type": "bar",
         "x": [
          "2005-07-01T00:00:00.000000000",
          "2005-07-01T01:00:00.000000000",
          "2005-07-01T04:00:00.000000000",
          "2005-07-01T05:00:00.000000000",
          "2005-07-01T06:00:00.000000000",
          "2005-07-01T07:00:00.000000000",
          "2005-07-01T08:00:00.000000000",
          "2005-07-01T09:00:00.000000000",
          "2005-07-01T10:00:00.000000000",
          "2005-07-01T11:00:00.000000000",
          "2005-07-01T12:00:00.000000000",
          "2005-07-01T13:00:00.000000000",
          "2005-07-01T14:00:00.000000000",
          "2005-07-01T15:00:00.000000000",
          "2005-07-01T16:00:00.000000000",
          "2005-07-01T17:00:00.000000000",
          "2005-07-01T18:00:00.000000000",
          "2005-07-01T19:00:00.000000000",
          "2005-07-01T20:00:00.000000000",
          "2005-07-01T21:00:00.000000000",
          "2005-07-01T23:00:00.000000000",
          "2005-07-02T00:00:00.000000000",
          "2005-07-02T02:00:00.000000000",
          "2005-07-02T04:00:00.000000000",
          "2005-07-02T07:00:00.000000000",
          "2005-07-02T09:00:00.000000000",
          "2005-07-02T10:00:00.000000000",
          "2005-07-02T11:00:00.000000000",
          "2005-07-02T12:00:00.000000000",
          "2005-07-02T13:00:00.000000000",
          "2005-07-02T14:00:00.000000000",
          "2005-07-02T15:00:00.000000000",
          "2005-07-02T16:00:00.000000000",
          "2005-07-02T17:00:00.000000000",
          "2005-07-02T18:00:00.000000000",
          "2005-07-02T19:00:00.000000000",
          "2005-07-02T20:00:00.000000000",
          "2005-07-02T21:00:00.000000000",
          "2005-07-02T23:00:00.000000000"
         ],
         "xaxis": "x7",
         "y": {
          "bdata": "ReG2SEmtkb9vUxZNeOntvxcltV896u2/C+6eK1MKIMBDEpAH5MMkwBj9jXVkkhnAoJoWtYRGDcDc8LRMWOwAwED7vbVRcQLAqC3A7XPjA8Dk+ZWysz0CwHSkd2YNGQTAAHiEua84AsAs/DdaExUJwJAOUx3SJ/6/FoBMpVE4BsAQ1KDPTPTxv8iamJqreP+/ENSgz0z08b9odCjcduntv2sF80byAO2/ExWeSd1bp7+4qMv2MOntv8CmfeAN6u2/YqQlPC7p7b+nu6x8Nentv0XhtkhJrZG/ENSgz0z08b9uA+83nHfuv1cXn5Und+6/ENSgz0z08b9F4bZISa2RvwAldQlWeP+/EJL9ur8cAMAQ1KDPTPTxv5A2JKYneP+/ENSgz0z08b9C0R2RRentv2eFp6Qt6e2/",
          "dtype": "f8"
         },
         "yaxis": "y7"
        },
        {
         "hovertemplate": "techs=X1_to_N1<br>nodes=N1<br>carriers=heat<br>timesteps=%{x}<br>Flow in/out (kWh)=%{y}<extra></extra>",
         "legendgroup": "X1_to_N1",
         "marker": {
          "color": "#823739",
          "pattern": {
           "shape": ""
          }
         },
         "name": "X1_to_N1",
         "orientation": "v",
         "showlegend": true,
         "textposition": "auto",
         "type": "bar",
         "x": [
          "2005-07-01T00:00:00.000000000",
          "2005-07-01T01:00:00.000000000",
          "2005-07-01T02:00:00.000000000",
          "2005-07-01T03:00:00.000000000",
          "2005-07-01T04:00:00.000000000",
          "2005-07-01T05:00:00.000000000",
          "2005-07-01T06:00:00.000000000",
          "2005-07-01T07:00:00.000000000",
          "2005-07-01T08:00:00.000000000",
          "2005-07-01T09:00:00.000000000",
          "2005-07-01T10:00:00.000000000",
          "2005-07-01T11:00:00.000000000",
          "2005-07-01T12:00:00.000000000",
          "2005-07-01T13:00:00.000000000",
          "2005-07-01T14:00:00.000000000",
          "2005-07-01T15:00:00.000000000",
          "2005-07-01T16:00:00.000000000",
          "2005-07-01T17:00:00.000000000",
          "2005-07-01T18:00:00.000000000",
          "2005-07-01T19:00:00.000000000",
          "2005-07-01T20:00:00.000000000",
          "2005-07-01T21:00:00.000000000",
          "2005-07-01T22:00:00.000000000",
          "2005-07-01T23:00:00.000000000",
          "2005-07-02T00:00:00.000000000",
          "2005-07-02T01:00:00.000000000",
          "2005-07-02T02:00:00.000000000",
          "2005-07-02T03:00:00.000000000",
          "2005-07-02T04:00:00.000000000",
          "2005-07-02T05:00:00.000000000",
          "2005-07-02T06:00:00.000000000",
          "2005-07-02T07:00:00.000000000",
          "2005-07-02T08:00:00.000000000",
          "2005-07-02T09:00:00.000000000",
          "2005-07-02T10:00:00.000000000",
          "2005-07-02T11:00:00.000000000",
          "2005-07-02T12:00:00.000000000",
          "2005-07-02T13:00:00.000000000",
          "2005-07-02T14:00:00.000000000",
          "2005-07-02T15:00:00.000000000",
          "2005-07-02T16:00:00.000000000",
          "2005-07-02T17:00:00.000000000",
          "2005-07-02T18:00:00.000000000",
          "2005-07-02T19:00:00.000000000",
          "2005-07-02T20:00:00.000000000",
          "2005-07-02T21:00:00.000000000",
          "2005-07-02T22:00:00.000000000",
          "2005-07-02T23:00:00.000000000"
         ],
         "xaxis": "x7",
         "y": {
          "bdata": "1o1hW8DwU0DcmLj2oCJSQIithZqYOlJAh705vQE0UkDEAaH5AyFTQJ9OJR7RnWBAjCqnOFdfZEB9eVSzgwloQCO5Fu3GC2hAv0Qq9nQLaEB92xum9UVkQHZZXnbYU2BAcJP7sludX0BunqowjaFfQNxSDFk1YmBAeNfgo4DHWkAYqW1nBaJeQDRDX4rrtWJAJdT9pGPxZkAirGbHV4xmQAAAO4mbFGdAk/EMESk/ZUBlGvCPcjBdQCmkYlOXglVAX7f+zcP8VkAVQJgJStNTQBrHGNQhfFNA8tKvDqjXU0AqcbruO49UQFaQkDFRv15AH0JSo6qsY0BdS9eort9mQE8PPp8RAWZARp2hI4IWZUC2Yqdm2d5jQIoEJJnW9V9AdxL5qdaAXUAIyp0r/mhdQDi5sG1SWV5AzNUCGmaRWkDw6PIT32FeQIC/zXmb8GFAWWe36HfSZkDTbKDliEJmQC3vQEoa4mZA7IqqoihhZECItyp6NDNdQKk3GMSHNldA",
          "dtype": "f8"
         },
         "yaxis": "y7"
        },
        {
         "hovertemplate": "techs=X1_to_N1<br>nodes=X1<br>carriers=heat<br>timesteps=%{x}<br>Flow in/out (kWh)=%{y}<extra></extra>",
         "legendgroup": "X1_to_N1",
         "marker": {
          "color": "#823739",
          "pattern": {
           "shape": ""
          }
         },
         "name": "X1_to_N1",
         "orientation": "v",
         "showlegend": false,
         "textposition": "auto",
         "type": "bar",
         "x": [
          "2005-07-01T00:00:00.000000000",
          "2005-07-01T01:00:00.000000000",
          "2005-07-01T02:00:00.000000000",
          "2005-07-01T03:00:00.000000000",
          "2005-07-01T04:00:00.000000000",
          "2005-07-01T05:00:00.000000000",
          "2005-07-01T06:00:00.000000000",
          "2005-07-01T07:00:00.000000000",
          "2005-07-01T08:00:00.000000000",
          "2005-07-01T09:00:00.000000000",
          "2005-07-01T10:00:00.000000000",
          "2005-07-01T11:00:00.000000000",
          "2005-07-01T12:00:00.000000000",
          "2005-07-01T13:00:00.000000000",
          "2005-07-01T14:00:00.000000000",
          "2005-07-01T15:00:00.000000000",
          "2005-07-01T16:00:00.000000000",
          "2005-07-01T17:00:00.000000000",
          "2005-07-01T18:00:00.000000000",
          "2005-07-01T19:00:00.000000000",
          "2005-07-01T20:00:00.000000000",
          "2005-07-01T21:00:00.000000000",
          "2005-07-01T22:00:00.000000000",
          "2005-07-01T23:00:00.000000000",
          "2005-07-02T00:00:00.000000000",
          "2005-07-02T01:00:00.000000000",
          "2005-07-02T02:00:00.000000000",
          "2005-07-02T03:00:00.000000000",
          "2005-07-02T04:00:00.000000000",
          "2005-07-02T05:00:00.000000000",
          "2005-07-02T06:00:00.000000000",
          "2005-07-02T07:00:00.000000000",
          "2005-07-02T08:00:00.000000000",
          "2005-07-02T09:00:00.000000000",
          "2005-07-02T10:00:00.000000000",
          "2005-07-02T11:00:00.000000000",
          "2005-07-02T12:00:00.000000000",
          "2005-07-02T13:00:00.000000000",
          "2005-07-02T14:00:00.000000000",
          "2005-07-02T15:00:00.000000000",
          "2005-07-02T16:00:00.000000000",
          "2005-07-02T17:00:00.000000000",
          "2005-07-02T18:00:00.000000000",
          "2005-07-02T19:00:00.000000000",
          "2005-07-02T20:00:00.000000000",
          "2005-07-02T21:00:00.000000000",
          "2005-07-02T22:00:00.000000000",
          "2005-07-02T23:00:00.000000000"
         ],
         "xaxis": "x5",
         "y": {
          "bdata": "KoRgy1cpV8CxeedH/ZBTwBi6KhnZqlPAdDCWHr2jU8BC29xMc6NUwNvDh9R+7WHA7ea4NeX6ZcC+AMhBGu9pwCZBzDCL8WnAzyAQwjLxacAkmR3mgt9lwJSaJkxlzmXA+L6vPDrnZMAb8fArEXViwIFyh3qEpGPAauTGMh/RZsCgkAYIKIpjwFl5uB2HAGrAx3izoeD/acC1n9uBoAFqwOJSUeP1A2rAgkmnj2DsZsDPw82dHX5fwJYMdAYhNVfAwDOdMyXNWMCFuZ/EymNVwBQa09nBBVXALp90A4FoVcDHqzhxkS5WwI2ZcgQ7lmDAbS+DIR86ZcA20/SKxK1owE3MOF6WvWfAUvEfZoTAZsBS/mypQ3BlwAmo2yclgGHA5YXhvdnUX8C0CkSHH7tfwKCkwzO2VmLAvNzdNMiyZcBe+vhWNVRjwBc6NTWFAGrAHDULcNv/acAT6hLtmwFqwFia6szxA2rAP+/SWdv8ZcB0sJw8F4FfwNd8hB14C1nA",
          "dtype": "f8"
         },
         "yaxis": "y5"
        },
        {
         "hovertemplate": "techs=chp<br>nodes=X1<br>carriers=heat<br>timesteps=%{x}<br>Flow in/out (kWh)=%{y}<extra></extra>",
         "legendgroup": "chp",
         "marker": {
          "color": "#E4AB97",
          "pattern": {
           "shape": ""
          }
         },
         "name": "chp",
         "orientation": "v",
         "showlegend": true,
         "textposition": "auto",
         "type": "bar",
         "x": [
          "2005-07-01T00:00:00.000000000",
          "2005-07-01T01:00:00.000000000",
          "2005-07-01T02:00:00.000000000",
          "2005-07-01T03:00:00.000000000",
          "2005-07-01T04:00:00.000000000",
          "2005-07-01T05:00:00.000000000",
          "2005-07-01T06:00:00.000000000",
          "2005-07-01T07:00:00.000000000",
          "2005-07-01T08:00:00.000000000",
          "2005-07-01T09:00:00.000000000",
          "2005-07-01T10:00:00.000000000",
          "2005-07-01T11:00:00.000000000",
          "2005-07-01T12:00:00.000000000",
          "2005-07-01T13:00:00.000000000",
          "2005-07-01T14:00:00.000000000",
          "2005-07-01T15:00:00.000000000",
          "2005-07-01T16:00:00.000000000",
          "2005-07-01T17:00:00.000000000",
          "2005-07-01T18:00:00.000000000",
          "2005-07-01T19:00:00.000000000",
          "2005-07-01T20:00:00.000000000",
          "2005-07-01T21:00:00.000000000",
          "2005-07-01T22:00:00.000000000",
          "2005-07-01T23:00:00.000000000",
          "2005-07-02T00:00:00.000000000",
          "2005-07-02T01:00:00.000000000",
          "2005-07-02T02:00:00.000000000",
          "2005-07-02T03:00:00.000000000",
          "2005-07-02T04:00:00.000000000",
          "2005-07-02T05:00:00.000000000",
          "2005-07-02T06:00:00.000000000",
          "2005-07-02T07:00:00.000000000",
          "2005-07-02T08:00:00.000000000",
          "2005-07-02T09:00:00.000000000",
          "2005-07-02T10:00:00.000000000",
          "2005-07-02T11:00:00.000000000",
          "2005-07-02T12:00:00.000000000",
          "2005-07-02T13:00:00.000000000",
          "2005-07-02T14:00:00.000000000",
          "2005-07-02T15:00:00.000000000",
          "2005-07-02T16:00:00.000000000",
          "2005-07-02T17:00:00.000000000",
          "2005-07-02T18:00:00.000000000",
          "2005-07-02T19:00:00.000000000",
          "2005-07-02T20:00:00.000000000",
          "2005-07-02T21:00:00.000000000",
          "2005-07-02T22:00:00.000000000",
          "2005-07-02T23:00:00.000000000"
         ],
         "xaxis": "x5",
         "y": {
          "bdata": "zHDVhSA3V0CsAJrN151TQETNRZgduFNAhe7rxya4U0BRtnnrGM1UQHg0gHfBDmJAzl4QnLQgZkCwqt1HPBhqQLCq3Uc8GGpAsKrdRzwYakCt2+igEvdlQKjLXAq24GVAouegBSn4ZEDNxc4VroRiQIg8LSBCtGNAKdwe8mPiZkBsGXdzsZ5jQLCq3Uc8GGpAsKrdRzwYakCwqt1HPBhqQLCq3Uc8GGpAEM7t1x79ZkDa9vXIx5dfQGKvOHaKRldA1MXyDwHbWEDPlZNZ0XBVQA1enERwH1VAnI/hL5WYVUBhr5Djs3dWQPLYg+NCzWBAjirNa7NuZUDN/h/0Y+BoQJCq6Lay6WdAjBspf0TrZkA31vNoh4hlQMyj669zkmFAXX7Tqa/2X0B8E15NTNpfQOvAb0VtZmJAQDXocBDEZUAIlYuWvGhjQLCq3Uc8GGpAsKrdRzwYakCwqt1HPBhqQLCq3Uc8GGpAZGBcj50NZkBN1Ui7vZpfQEgARTnhHFlA",
          "dtype": "f8"
         },
         "yaxis": "y5"
        },
        {
         "hovertemplate": "techs=X1_to_X2<br>nodes=X1<br>carriers=electricity<br>timesteps=%{x}<br>Flow in/out (kWh)=%{y}<extra></extra>",
         "legendgroup": "X1_to_X2",
         "marker": {
          "color": "#6783E3",
          "pattern": {
           "shape": ""
          }
         },
         "name": "X1_to_X2",
         "orientation": "v",
         "showlegend": true,
         "textposition": "auto",
         "type": "bar",
         "x": [
          "2005-07-01T00:00:00.000000000",
          "2005-07-01T01:00:00.000000000",
          "2005-07-01T02:00:00.000000000",
          "2005-07-01T03:00:00.000000000",
          "2005-07-01T04:00:00.000000000",
          "2005-07-01T05:00:00.000000000",
          "2005-07-01T06:00:00.000000000",
          "2005-07-01T07:00:00.000000000",
          "2005-07-01T08:00:00.000000000",
          "2005-07-01T09:00:00.000000000",
          "2005-07-01T10:00:00.000000000",
          "2005-07-01T11:00:00.000000000",
          "2005-07-01T12:00:00.000000000",
          "2005-07-01T13:00:00.000000000",
          "2005-07-01T14:00:00.000000000",
          "2005-07-01T15:00:00.000000000",
          "2005-07-01T16:00:00.000000000",
          "2005-07-01T17:00:00.000000000",
          "2005-07-01T18:00:00.000000000",
          "2005-07-01T19:00:00.000000000",
          "2005-07-01T20:00:00.000000000",
          "2005-07-01T21:00:00.000000000",
          "2005-07-01T22:00:00.000000000",
          "2005-07-01T23:00:00.000000000",
          "2005-07-02T00:00:00.000000000",
          "2005-07-02T01:00:00.000000000",
          "2005-07-02T02:00:00.000000000",
          "2005-07-02T03:00:00.000000000",
          "2005-07-02T04:00:00.000000000",
          "2005-07-02T05:00:00.000000000",
          "2005-07-02T06:00:00.000000000",
          "2005-07-02T07:00:00.000000000",
          "2005-07-02T08:00:00.000000000",
          "2005-07-02T09:00:00.000000000",
          "2005-07-02T10:00:00.000000000",
          "2005-07-02T11:00:00.000000000",
          "2005-07-02T12:00:00.000000000",
          "2005-07-02T13:00:00.000000000",
          "2005-07-02T14:00:00.000000000",
          "2005-07-02T15:00:00.000000000",
          "2005-07-02T16:00:00.000000000",
          "2005-07-02T17:00:00.000000000",
          "2005-07-02T18:00:00.000000000",
          "2005-07-02T19:00:00.000000000",
          "2005-07-02T20:00:00.000000000",
          "2005-07-02T21:00:00.000000000",
          "2005-07-02T22:00:00.000000000",
          "2005-07-02T23:00:00.000000000"
         ],
         "xaxis": "x6",
         "y": {
          "bdata": "JX2tb2seWMDRSRfn/6FTwPV99wykw1PA9X33DKTDU8Ai1rqI3xpVwBUQT6ES8mLAnQOjRhEuaMDxSSsX4sdrwMJNg2L0Y2vAVFQcvIktbMCD6F6tIzBnwOqiIHczOWfAxWx1U4zAZcBEUGGgJJllwNNk2n2v/GbAN9F39OdhasClIjjS8MdmwNrBB+Fn1m/Au13B9+9Lb8BFLKqUAZlwwCM/zHvTPHDAkvDILY40asARRc3nwT9hwEIW3P0IK1jAcCdSHEQrWsA9RA/Wt+lVwPGyY2TLhFXAUofqDi4cVsB2jdc+ITBXwBv024TX2GLA8cNpDTVlacBUzUAL0XRuwH1nyjFi/W3AUjJWEgiMbcBBMtINs3JswFkUkplhomfAukC38LVXZcA9C0cvLoFkwBJyFsiMt2bAhCOjs9xAasBaPjDn7rlmwDaA234LLW/ATZxatphzb8DDvYjuLyhxwF/+Nfh2TW/AfCcTkywJacAZEEGfm0FhwGJ7q3H1dlrA",
          "dtype": "f8"
         },
         "yaxis": "y6"
        },
        {
         "hovertemplate": "techs=X1_to_X3<br>nodes=X1<br>carriers=electricity<br>timesteps=%{x}<br>Flow in/out (kWh)=%{y}<extra></extra>",
         "legendgroup": "X1_to_X3",
         "marker": {
          "color": "#6783E3",
          "pattern": {
           "shape": ""
          }
         },
         "name": "X1_to_X3",
         "orientation": "v",
         "showlegend": true,
         "textposition": "auto",
         "type": "bar",
         "x": [
          "2005-07-01T00:00:00.000000000",
          "2005-07-01T01:00:00.000000000",
          "2005-07-01T02:00:00.000000000",
          "2005-07-01T03:00:00.000000000",
          "2005-07-01T04:00:00.000000000",
          "2005-07-01T05:00:00.000000000",
          "2005-07-01T06:00:00.000000000",
          "2005-07-01T07:00:00.000000000",
          "2005-07-01T08:00:00.000000000",
          "2005-07-01T09:00:00.000000000",
          "2005-07-01T10:00:00.000000000",
          "2005-07-01T11:00:00.000000000",
          "2005-07-01T12:00:00.000000000",
          "2005-07-01T13:00:00.000000000",
          "2005-07-01T14:00:00.000000000",
          "2005-07-01T15:00:00.000000000",
          "2005-07-01T16:00:00.000000000",
          "2005-07-01T17:00:00.000000000",
          "2005-07-01T18:00:00.000000000",
          "2005-07-01T19:00:00.000000000",
          "2005-07-01T20:00:00.000000000",
          "2005-07-01T21:00:00.000000000",
          "2005-07-01T22:00:00.000000000",
          "2005-07-01T23:00:00.000000000",
          "2005-07-02T00:00:00.000000000",
          "2005-07-02T01:00:00.000000000",
          "2005-07-02T02:00:00.000000000",
          "2005-07-02T03:00:00.000000000",
          "2005-07-02T04:00:00.000000000",
          "2005-07-02T05:00:00.000000000",
          "2005-07-02T06:00:00.000000000",
          "2005-07-02T07:00:00.000000000",
          "2005-07-02T08:00:00.000000000",
          "2005-07-02T09:00:00.000000000",
          "2005-07-02T10:00:00.000000000",
          "2005-07-02T11:00:00.000000000",
          "2005-07-02T12:00:00.000000000",
          "2005-07-02T13:00:00.000000000",
          "2005-07-02T14:00:00.000000000",
          "2005-07-02T15:00:00.000000000",
          "2005-07-02T16:00:00.000000000",
          "2005-07-02T17:00:00.000000000",
          "2005-07-02T18:00:00.000000000",
          "2005-07-02T19:00:00.000000000",
          "2005-07-02T20:00:00.000000000",
          "2005-07-02T21:00:00.000000000",
          "2005-07-02T22:00:00.000000000",
          "2005-07-02T23:00:00.000000000"
         ],
         "xaxis": "x6",
         "y": {
          "bdata": "urfPBlUlM8C6t88GVSUzwLq3zwZVJTPAurfPBlUlM8C6t88GVSUzwDwmBvGccTzAKCp1gfwaO8AEN4iDoONGwLHlxDcKkUTAzR67L3JoQcD3wqh5L7ZAwBHZMrihJEDA0XukQ+R/QcDvI1IN6XcnwGkstJd47CjAg9kvd+EAMcBAdrIONQUqwI1aYfpeNSvAOcKtkBpyMsAVXo3B6080wLq3zwZVJTPAurfPBlUlM8C6t88GVSUzwLq3zwZVJTPAurfPBlUlM8C6t88GVSUzwLq3zwZVJTPAurfPBlUlM8C6t88GVSUzwMtywwyErDDADTo+0aTbJMDah62KjZoRwJA7EESbq/c/ECeZpfCSH0Au/bV/GPMpQNXPIleKHSxAF3nak2AzJ0CNeQgfnb4VQHSBLekWUPm//QfLxuFnG8AgY8p8Mq4mwA46PtGkWy3AguCew/FHMcDzjgBKuOIywLq3zwZVJTPAurfPBlUlM8C6t88GVSUzwLq3zwZVJTPA",
          "dtype": "f8"
         },
         "yaxis": "y6"
        },
        {
         "hovertemplate": "techs=chp<br>nodes=X1<br>carriers=electricity<br>timesteps=%{x}<br>Flow in/out (kWh)=%{y}<extra></extra>",
         "legendgroup": "chp",
         "marker": {
          "color": "#E4AB97",
          "pattern": {
           "shape": ""
          }
         },
         "name": "chp",
         "orientation": "v",
         "showlegend": false,
         "textposition": "auto",
         "type": "bar",
         "x": [
          "2005-07-01T00:00:00.000000000",
          "2005-07-01T01:00:00.000000000",
          "2005-07-01T02:00:00.000000000",
          "2005-07-01T03:00:00.000000000",
          "2005-07-01T04:00:00.000000000",
          "2005-07-01T05:00:00.000000000",
          "2005-07-01T06:00:00.000000000",
          "2005-07-01T07:00:00.000000000",
          "2005-07-01T08:00:00.000000000",
          "2005-07-01T09:00:00.000000000",
          "2005-07-01T10:00:00.000000000",
          "2005-07-01T11:00:00.000000000",
          "2005-07-01T12:00:00.000000000",
          "2005-07-01T13:00:00.000000000",
          "2005-07-01T14:00:00.000000000",
          "2005-07-01T15:00:00.000000000",
          "2005-07-01T16:00:00.000000000",
          "2005-07-01T17:00:00.000000000",
          "2005-07-01T18:00:00.000000000",
          "2005-07-01T19:00:00.000000000",
          "2005-07-01T20:00:00.000000000",
          "2005-07-01T21:00:00.000000000",
          "2005-07-01T22:00:00.000000000",
          "2005-07-01T23:00:00.000000000",
          "2005-07-02T00:00:00.000000000",
          "2005-07-02T01:00:00.000000000",
          "2005-07-02T02:00:00.000000000",
          "2005-07-02T03:00:00.000000000",
          "2005-07-02T04:00:00.000000000",
          "2005-07-02T05:00:00.000000000",
          "2005-07-02T06:00:00.000000000",
          "2005-07-02T07:00:00.000000000",
          "2005-07-02T08:00:00.000000000",
          "2005-07-02T09:00:00.000000000",
          "2005-07-02T10:00:00.000000000",
          "2005-07-02T11:00:00.000000000",
          "2005-07-02T12:00:00.000000000",
          "2005-07-02T13:00:00.000000000",
          "2005-07-02T14:00:00.000000000",
          "2005-07-02T15:00:00.000000000",
          "2005-07-02T16:00:00.000000000",
          "2005-07-02T17:00:00.000000000",
          "2005-07-02T18:00:00.000000000",
          "2005-07-02T19:00:00.000000000",
          "2005-07-02T20:00:00.000000000",
          "2005-07-02T21:00:00.000000000",
          "2005-07-02T22:00:00.000000000",
          "2005-07-02T23:00:00.000000000"
         ],
         "xaxis": "x6",
         "y": {
          "bdata": "/sxKp+gEXUDWgADBTYVYQJRAV/4kplhAJurmeTCmWEDlI1gmXwBaQJZBYNVxkmZAgXYUw+Goa0CuiuqsJU9wQK6K6qwlT3BArorqrCVPcECYEiNJ13RrQJH+84zjWGtAiiEJRzM2akBAd0Kb2SVnQKqLOKhSoWhAM5Om7vyabEDH31TQXYZoQK6K6qwlT3BArorqrCVPcECuiuqsJU9wQK6K6qwlT3BAk0HpjWa8bEBIupnd3L5jQDrbxhMtGF1ASHfvU8ERX0BCe/ivBc1aQJB1w1VMZ1pAgvPZe7r+WkA523TcoBVcQC7PZJyTAGVAMXXARmDKakCA/ifxfBhvQDPVomQf5G1AbmLznhWmbEDEyzBDqepqQL+M5psQ92VA+i4kyi36Y0AtzFqwb+hjQCWxy5YIAGdAkEIijRQ1a0BKei6860JoQK6K6qwlT3BArorqrCVPcECuiuqsJU9wQK6K6qwlT3BAfXgz8wSRa0BQhQ2VtsBjQFpAlocZZF9A",
          "dtype": "f8"
         },
         "yaxis": "y6"
        },
        {
         "hovertemplate": "techs=supply_grid_power<br>nodes=X1<br>carriers=electricity<br>timesteps=%{x}<br>Flow in/out (kWh)=%{y}<extra></extra>",
         "legendgroup": "supply_grid_power",
         "marker": {
          "color": "#C5ABE3",
          "pattern": {
           "shape": ""
          }
         },
         "name": "supply_grid_power",
         "orientation": "v",
         "showlegend": true,
         "textposition": "auto",
         "type": "bar",
         "x": [
          "2005-07-01T07:00:00.000000000",
          "2005-07-01T17:00:00.000000000",
          "2005-07-01T18:00:00.000000000",
          "2005-07-01T19:00:00.000000000",
          "2005-07-01T20:00:00.000000000",
          "2005-07-02T17:00:00.000000000",
          "2005-07-02T18:00:00.000000000",
          "2005-07-02T19:00:00.000000000",
          "2005-07-02T20:00:00.000000000"
         ],
         "xaxis": "x6",
         "y": {
          "bdata": "YOhA+coqH0BAnjW6FqwgQGBa3NLKySFAoNER0w8ZOkBgZjv3Bk8zQEDHnNwseRBAAIBSIgXwIUAwDbf8YM9AQEDOTvgN2yNA",
          "dtype": "f8"
         },
         "yaxis": "y6"
        },
        {
         "hovertemplate": "techs=N1_to_X2<br>nodes=X2<br>carriers=heat<br>timesteps=%{x}<br>Flow in/out (kWh)=%{y}<extra></extra>",
         "legendgroup": "N1_to_X2",
         "marker": {
          "color": "#823739",
          "pattern": {
           "shape": ""
          }
         },
         "name": "N1_to_X2",
         "orientation": "v",
         "showlegend": false,
         "textposition": "auto",
         "type": "bar",
         "x": [
          "2005-07-01T00:00:00.000000000",
          "2005-07-01T01:00:00.000000000",
          "2005-07-01T02:00:00.000000000",
          "2005-07-01T03:00:00.000000000",
          "2005-07-01T04:00:00.000000000",
          "2005-07-01T05:00:00.000000000",
          "2005-07-01T06:00:00.000000000",
          "2005-07-01T07:00:00.000000000",
          "2005-07-01T08:00:00.000000000",
          "2005-07-01T09:00:00.000000000",
          "2005-07-01T10:00:00.000000000",
          "2005-07-01T11:00:00.000000000",
          "2005-07-01T12:00:00.000000000",
          "2005-07-01T13:00:00.000000000",
          "2005-07-01T14:00:00.000000000",
          "2005-07-01T15:00:00.000000000",
          "2005-07-01T16:00:00.000000000",
          "2005-07-01T17:00:00.000000000",
          "2005-07-01T18:00:00.000000000",
          "2005-07-01T19:00:00.000000000",
          "2005-07-01T20:00:00.000000000",
          "2005-07-01T21:00:00.000000000",
          "2005-07-01T22:00:00.000000000",
          "2005-07-01T23:00:00.000000000",
          "2005-07-02T00:00:00.000000000",
          "2005-07-02T01:00:00.000000000",
          "2005-07-02T02:00:00.000000000",
          "2005-07-02T03:00:00.000000000",
          "2005-07-02T04:00:00.000000000",
          "2005-07-02T05:00:00.000000000",
          "2005-07-02T06:00:00.000000000",
          "2005-07-02T07:00:00.000000000",
          "2005-07-02T08:00:00.000000000",
          "2005-07-02T09:00:00.000000000",
          "2005-07-02T10:00:00.000000000",
          "2005-07-02T11:00:00.000000000",
          "2005-07-02T12:00:00.000000000",
          "2005-07-02T13:00:00.000000000",
          "2005-07-02T14:00:00.000000000",
          "2005-07-02T15:00:00.000000000",
          "2005-07-02T16:00:00.000000000",
          "2005-07-02T17:00:00.000000000",
          "2005-07-02T18:00:00.000000000",
          "2005-07-02T19:00:00.000000000",
          "2005-07-02T20:00:00.000000000",
          "2005-07-02T21:00:00.000000000",
          "2005-07-02T22:00:00.000000000",
          "2005-07-02T23:00:00.000000000"
         ],
         "xaxis": "x3",
         "y": {
          "bdata": "7YfQ79guUEDWvVGWnZdQQBl+EUJH5VBA4RifxSvfUEC9IaUIZINRQK2PM8Kh8VxAJ3fm2fGtYUCp+0ad1IllQGoVsrIA3WVAGIv2SYAKZkBkIqXZ/IViQAQ3UrbIR1xAKmlqfqFKW0DOZnou+D9bQH8HUJ3YcVxALGDIC2WKVEBk4vuHmWhaQIvO6P01D2BAQFXgvxTtZECwPbMkAG1kQBqBHaRMEGVAmd+a1ZyVY0D4lYF06A1bQFKdvCYSulNAItjZDEfRVEC3V4RSFGBSQIrsY8PZ11FA6vrNkSBkUkAwwCNC09ZSQAXoq6aaf1xAJHLpF0g8YkBe5zW8qxdlQHMLiQoQZWRA+BUWUO9vY0AIjQUqSGpiQL8G6c447VtAN3gVCPEfW0C7xnje1wlbQG67daO0UFpAwRfLmVInVUDhmdAkMSNaQOf+6nFfqV5AdOiZAynOZEAo59VKMiNkQEdwI2XL3WRAM5hZV9nHYkAB+i69dhBbQGnEsJJxTFVA",
          "dtype": "f8"
         },
         "yaxis": "y3"
        },
        {
         "hovertemplate": "techs=boiler<br>nodes=X2<br>carriers=heat<br>timesteps=%{x}<br>Flow in/out (kWh)=%{y}<extra></extra>",
         "legendgroup": "boiler",
         "marker": {
          "color": "#8E2999",
          "pattern": {
           "shape": ""
          }
         },
         "name": "boiler",
         "orientation": "v",
         "showlegend": true,
         "textposition": "auto",
         "type": "bar",
         "x": [
          "2005-07-01T01:00:00.000000000",
          "2005-07-01T02:00:00.000000000",
          "2005-07-01T03:00:00.000000000",
          "2005-07-01T04:00:00.000000000",
          "2005-07-01T05:00:00.000000000",
          "2005-07-01T06:00:00.000000000",
          "2005-07-01T07:00:00.000000000",
          "2005-07-01T08:00:00.000000000",
          "2005-07-01T09:00:00.000000000",
          "2005-07-01T21:00:00.000000000",
          "2005-07-01T22:00:00.000000000",
          "2005-07-01T23:00:00.000000000",
          "2005-07-02T01:00:00.000000000",
          "2005-07-02T02:00:00.000000000",
          "2005-07-02T03:00:00.000000000",
          "2005-07-02T04:00:00.000000000",
          "2005-07-02T05:00:00.000000000",
          "2005-07-02T06:00:00.000000000",
          "2005-07-02T07:00:00.000000000",
          "2005-07-02T08:00:00.000000000",
          "2005-07-02T09:00:00.000000000",
          "2005-07-02T21:00:00.000000000",
          "2005-07-02T22:00:00.000000000",
          "2005-07-02T23:00:00.000000000"
         ],
         "xaxis": "x3",
         "y": {
          "bdata": "wAba+3hWEEAYZX2qkzgjQOw4C7zhiEJAQvYRmnWWSkAW26dUWPJJQEy1C2ji3F5AsiPqN5MaaEC6fldNCtFUQCDXtDfMgyxAgEzQK6ODVUA8oNNsC5RHQDR3PLUJODNA2KyEa22lLkBMq6rQZAo0QFyjjvRTPUFALIsJSyaSSUCewapicXJHQL6Xq+iQolpADLSbiY3dZkCyQb3qwT9VQDCHjNLkQUBAZGQSBYhyVkAyxPT526hBQADsBSETZ+w/",
          "dtype": "f8"
         },
         "yaxis": "y3"
        },
        {
         "hovertemplate": "techs=X1_to_X2<br>nodes=X2<br>carriers=electricity<br>timesteps=%{x}<br>Flow in/out (kWh)=%{y}<extra></extra>",
         "legendgroup": "X1_to_X2",
         "marker": {
          "color": "#6783E3",
          "pattern": {
           "shape": ""
          }
         },
         "name": "X1_to_X2",
         "orientation": "v",
         "showlegend": false,
         "textposition": "auto",
         "type": "bar",
         "x": [
          "2005-07-01T00:00:00.000000000",
          "2005-07-01T01:00:00.000000000",
          "2005-07-01T02:00:00.000000000",
          "2005-07-01T03:00:00.000000000",
          "2005-07-01T04:00:00.000000000",
          "2005-07-01T05:00:00.000000000",
          "2005-07-01T06:00:00.000000000",
          "2005-07-01T07:00:00.000000000",
          "2005-07-01T08:00:00.000000000",
          "2005-07-01T09:00:00.000000000",
          "2005-07-01T10:00:00.000000000",
          "2005-07-01T11:00:00.000000000",
          "2005-07-01T12:00:00.000000000",
          "2005-07-01T13:00:00.000000000",
          "2005-07-01T14:00:00.000000000",
          "2005-07-01T15:00:00.000000000",
          "2005-07-01T16:00:00.000000000",
          "2005-07-01T17:00:00.000000000",
          "2005-07-01T18:00:00.000000000",
          "2005-07-01T19:00:00.000000000",
          "2005-07-01T20:00:00.000000000",
          "2005-07-01T21:00:00.000000000",
          "2005-07-01T22:00:00.000000000",
          "2005-07-01T23:00:00.000000000",
          "2005-07-02T00:00:00.000000000",
          "2005-07-02T01:00:00.000000000",
          "2005-07-02T02:00:00.000000000",
          "2005-07-02T03:00:00.000000000",
          "2005-07-02T04:00:00.000000000",
          "2005-07-02T05:00:00.000000000",
          "2005-07-02T06:00:00.000000000",
          "2005-07-02T07:00:00.000000000",
          "2005-07-02T08:00:00.000000000",
          "2005-07-02T09:00:00.000000000",
          "2005-07-02T10:00:00.000000000",
          "2005-07-02T11:00:00.000000000",
          "2005-07-02T12:00:00.000000000",
          "2005-07-02T13:00:00.000000000",
          "2005-07-02T14:00:00.000000000",
          "2005-07-02T15:00:00.000000000",
          "2005-07-02T16:00:00.000000000",
          "2005-07-02T17:00:00.000000000",
          "2005-07-02T18:00:00.000000000",
          "2005-07-02T19:00:00.000000000",
          "2005-07-02T20:00:00.000000000",
          "2005-07-02T21:00:00.000000000",
          "2005-07-02T22:00:00.000000000",
          "2005-07-02T23:00:00.000000000"
         ],
         "xaxis": "x4",
         "y": {
          "bdata": "pPpSaO6iV0CpgN7Iej1TQGYkjLByXlNAZiSMsHJeU0BplMvS0K5UQJoz7EESkWJAV1BiIUSyZ0BNbKo/pTlrQLm3Vy2312pAH2eMa0Sda0Czh8ikarlmQGqVOQlMwmZAb44HXC1RZUCf9/hpjyplQF4l2+b9hmZAZNyy9NPaaUC2F+VITVNmQCxxK81lM29AQUIz2bKrbkAGnEqrBkRwQJYfXRFh029Aj7gRYGKuaUA0rzQ6cedgQKe5Ll9Lr1dAz4JQ3kelWUAnpFYUhnlVQCn8Ql2eFlVAidbl7/mqVUCDhbRCaLlWQAY8H1RYeGJAL5wQ3y7jaEBs/NNX4dhtQLNGmP3VY21AmBLuOsD0bED4TwaiC+FrQDj126VfKWdAy07SvW/qZEDaLohhMhhkQIxlfCo9Q2ZAkZg+43G6aUA5wsMVk0VmQJsmrotsjW5AxjK/iZDSbkCbKuLuV9BwQKUIugcyrW5AN5Jfmv2IaEBBpDp4QelgQI5pt6d171lA",
          "dtype": "f8"
         },
         "yaxis": "y4"
        },
        {
         "hovertemplate": "techs=pv<br>nodes=X2<br>carriers=electricity<br>timesteps=%{x}<br>Flow in/out (kWh)=%{y}<extra></extra>",
         "legendgroup": "pv",
         "marker": {
          "color": "#F9D956",
          "pattern": {
           "shape": ""
          }
         },
         "name": "pv",
         "orientation": "v",
         "showlegend": true,
         "textposition": "auto",
         "type": "bar",
         "x": [
          "2005-07-01T05:00:00.000000000",
          "2005-07-01T06:00:00.000000000",
          "2005-07-01T07:00:00.000000000",
          "2005-07-01T08:00:00.000000000",
          "2005-07-01T09:00:00.000000000",
          "2005-07-01T10:00:00.000000000",
          "2005-07-01T11:00:00.000000000",
          "2005-07-01T12:00:00.000000000",
          "2005-07-01T13:00:00.000000000",
          "2005-07-01T14:00:00.000000000",
          "2005-07-01T15:00:00.000000000",
          "2005-07-01T16:00:00.000000000",
          "2005-07-01T17:00:00.000000000",
          "2005-07-01T18:00:00.000000000",
          "2005-07-02T05:00:00.000000000",
          "2005-07-02T06:00:00.000000000",
          "2005-07-02T07:00:00.000000000",
          "2005-07-02T08:00:00.000000000",
          "2005-07-02T09:00:00.000000000",
          "2005-07-02T10:00:00.000000000",
          "2005-07-02T11:00:00.000000000",
          "2005-07-02T12:00:00.000000000",
          "2005-07-02T13:00:00.000000000",
          "2005-07-02T14:00:00.000000000",
          "2005-07-02T15:00:00.000000000",
          "2005-07-02T16:00:00.000000000",
          "2005-07-02T17:00:00.000000000",
          "2005-07-02T18:00:00.000000000",
          "2005-07-02T19:00:00.000000000"
         ],
         "xaxis": "x4",
         "y": {
          "bdata": "hrPNdoGtB0DHYB03q/QlQNmeLAvs7jRAbTYPFxuLPUBLOe89yRRCQKw0FL5FXkRAyeN3XLhCREC1RRCqfPNAQIYCwLGFzDpAYnCpDwtFOED82zFwiBozQHHKz98eDy1AgMr7cJ/NI0DBLayvOUYNQJY6sIPsiQhAIG5IEgOiJUDTu3kH5EsyQPAO4R05qzlA71l3AmD6QEDJ43dcuEJEQK/CamDP9URAlZZh52lfQ0CoW9wS9cc+QHTnsiRXyzVAa/0U1g//LkB0IK1lYlckQBTE+QbGKxZA0nxgxP6CAkDL2rTJCqrUPw==",
          "dtype": "f8"
         },
         "yaxis": "y4"
        },
        {
         "hovertemplate": "techs=N1_to_X3<br>nodes=X3<br>carriers=heat<br>timesteps=%{x}<br>Flow in/out (kWh)=%{y}<extra></extra>",
         "legendgroup": "N1_to_X3",
         "marker": {
          "color": "#823739",
          "pattern": {
           "shape": ""
          }
         },
         "name": "N1_to_X3",
         "orientation": "v",
         "showlegend": false,
         "textposition": "auto",
         "type": "bar",
         "x": [
          "2005-07-01T00:00:00.000000000",
          "2005-07-01T01:00:00.000000000",
          "2005-07-01T04:00:00.000000000",
          "2005-07-01T05:00:00.000000000",
          "2005-07-01T06:00:00.000000000",
          "2005-07-01T07:00:00.000000000",
          "2005-07-01T08:00:00.000000000",
          "2005-07-01T09:00:00.000000000",
          "2005-07-01T10:00:00.000000000",
          "2005-07-01T11:00:00.000000000",
          "2005-07-01T12:00:00.000000000",
          "2005-07-01T13:00:00.000000000",
          "2005-07-01T14:00:00.000000000",
          "2005-07-01T15:00:00.000000000",
          "2005-07-01T16:00:00.000000000",
          "2005-07-01T17:00:00.000000000",
          "2005-07-01T18:00:00.000000000",
          "2005-07-01T19:00:00.000000000",
          "2005-07-01T20:00:00.000000000",
          "2005-07-01T21:00:00.000000000",
          "2005-07-01T23:00:00.000000000",
          "2005-07-02T00:00:00.000000000",
          "2005-07-02T02:00:00.000000000",
          "2005-07-02T04:00:00.000000000",
          "2005-07-02T07:00:00.000000000",
          "2005-07-02T09:00:00.000000000",
          "2005-07-02T10:00:00.000000000",
          "2005-07-02T11:00:00.000000000",
          "2005-07-02T12:00:00.000000000",
          "2005-07-02T13:00:00.000000000",
          "2005-07-02T14:00:00.000000000",
          "2005-07-02T15:00:00.000000000",
          "2005-07-02T16:00:00.000000000",
          "2005-07-02T17:00:00.000000000",
          "2005-07-02T18:00:00.000000000",
          "2005-07-02T19:00:00.000000000",
          "2005-07-02T20:00:00.000000000",
          "2005-07-02T21:00:00.000000000",
          "2005-07-02T23:00:00.000000000"
         ],
         "xaxis": "x",
         "y": {
          "bdata": "3nGKjuTyjz9loAV99gfrP4z+opSoCOs/ikjBEaz9HECEYIP158MiQA4QKkPlGxdAIOmHnLR0CkChd37fLJb+P9D6TY4m8vk/IJz81IAS9j+YNKheAMfyP7iJa8azffY/0DCFbPi88j/od5BaBRr0P8Ceni3W5ug/0JrMyaKI6z8AcIqO5PKPPzC3KSiJiOs/AHCKjuTyjz9TCaAv9QfrP7wglIrVNeo/ObBKWe4bpT9iMpwFtgfrPwHvf6h9COs/zvw/jrMH6z+Vt/gbugfrP95xio7k8o8/AHCKjuTyjz8vPQTPaYjrP1/ga2gAiOs/AHCKjuTyjz/ecYqO5PKPP6DL4gXeh+s/AHCKjuTyjz8AcIqO5PKPP8DuQD+Bh+s/AHCKjuTyjz/JOfOjyAfrP+wNWQWzB+s/",
          "dtype": "f8"
         },
         "yaxis": "y"
        },
        {
         "hovertemplate": "techs=boiler<br>nodes=X3<br>carriers=heat<br>timesteps=%{x}<br>Flow in/out (kWh)=%{y}<extra></extra>",
         "legendgroup": "boiler",
         "marker": {
          "color": "#8E2999",
          "pattern": {
           "shape": ""
          }
         },
         "name": "boiler",
         "orientation": "v",
         "showlegend": false,
         "textposition": "auto",
         "type": "bar",
         "x": [
          "2005-07-01T01:00:00.000000000",
          "2005-07-01T02:00:00.000000000",
          "2005-07-01T03:00:00.000000000",
          "2005-07-01T04:00:00.000000000",
          "2005-07-01T05:00:00.000000000",
          "2005-07-01T06:00:00.000000000",
          "2005-07-01T07:00:00.000000000",
          "2005-07-01T08:00:00.000000000",
          "2005-07-01T09:00:00.000000000",
          "2005-07-01T21:00:00.000000000",
          "2005-07-01T22:00:00.000000000",
          "2005-07-01T23:00:00.000000000",
          "2005-07-02T01:00:00.000000000",
          "2005-07-02T02:00:00.000000000",
          "2005-07-02T03:00:00.000000000",
          "2005-07-02T04:00:00.000000000",
          "2005-07-02T05:00:00.000000000",
          "2005-07-02T06:00:00.000000000",
          "2005-07-02T07:00:00.000000000",
          "2005-07-02T08:00:00.000000000",
          "2005-07-02T09:00:00.000000000",
          "2005-07-02T21:00:00.000000000",
          "2005-07-02T22:00:00.000000000",
          "2005-07-02T23:00:00.000000000"
         ],
         "xaxis": "x",
         "y": {
          "bdata": "3nGKjuTyjz/ecYqO5PKPP95xio7k8o8/3nGKjuTyjz/ecYqO5PKPP95xio7k8o8/3nGKjuTyjz/ecYqO5PKPP95xio7k8o8/3nGKjuTyjz/ecYqO5PKPP95xio7k8o8/3nGKjuTyjz/ecYqO5PKPP95xio7k8o8/3nGKjuTyjz/ecYqO5PKPP95xio7k8o8/3nGKjuTyjz/ecYqO5PKPP95xio7k8o8/3nGKjuTyjz/ecYqO5PKPP95xio7k8o8/",
          "dtype": "f8"
         },
         "yaxis": "y"
        },
        {
         "hovertemplate": "techs=X1_to_X3<br>nodes=X3<br>carriers=electricity<br>timesteps=%{x}<br>Flow in/out (kWh)=%{y}<extra></extra>",
         "legendgroup": "X1_to_X3",
         "marker": {
          "color": "#6783E3",
          "pattern": {
           "shape": ""
          }
         },
         "name": "X1_to_X3",
         "orientation": "v",
         "showlegend": false,
         "textposition": "auto",
         "type": "bar",
         "x": [
          "2005-07-01T00:00:00.000000000",
          "2005-07-01T01:00:00.000000000",
          "2005-07-01T02:00:00.000000000",
          "2005-07-01T03:00:00.000000000",
          "2005-07-01T04:00:00.000000000",
          "2005-07-01T05:00:00.000000000",
          "2005-07-01T06:00:00.000000000",
          "2005-07-01T07:00:00.000000000",
          "2005-07-01T08:00:00.000000000",
          "2005-07-01T09:00:00.000000000",
          "2005-07-01T10:00:00.000000000",
          "2005-07-01T11:00:00.000000000",
          "2005-07-01T12:00:00.000000000",
          "2005-07-01T13:00:00.000000000",
          "2005-07-01T14:00:00.000000000",
          "2005-07-01T15:00:00.000000000",
          "2005-07-01T16:00:00.000000000",
          "2005-07-01T17:00:00.000000000",
          "2005-07-01T18:00:00.000000000",
          "2005-07-01T19:00:00.000000000",
          "2005-07-01T20:00:00.000000000",
          "2005-07-01T21:00:00.000000000",
          "2005-07-01T22:00:00.000000000",
          "2005-07-01T23:00:00.000000000",
          "2005-07-02T00:00:00.000000000",
          "2005-07-02T01:00:00.000000000",
          "2005-07-02T02:00:00.000000000",
          "2005-07-02T03:00:00.000000000",
          "2005-07-02T04:00:00.000000000",
          "2005-07-02T05:00:00.000000000",
          "2005-07-02T06:00:00.000000000",
          "2005-07-02T07:00:00.000000000",
          "2005-07-02T08:00:00.000000000",
          "2005-07-02T09:00:00.000000000",
          "2005-07-02T10:00:00.000000000",
          "2005-07-02T11:00:00.000000000",
          "2005-07-02T12:00:00.000000000",
          "2005-07-02T13:00:00.000000000",
          "2005-07-02T14:00:00.000000000",
          "2005-07-02T15:00:00.000000000",
          "2005-07-02T16:00:00.000000000",
          "2005-07-02T17:00:00.000000000",
          "2005-07-02T18:00:00.000000000",
          "2005-07-02T19:00:00.000000000",
          "2005-07-02T20:00:00.000000000",
          "2005-07-02T21:00:00.000000000",
          "2005-07-02T22:00:00.000000000",
          "2005-07-02T23:00:00.000000000"
         ],
         "xaxis": "x2",
         "y": {
          "bdata": "xlLBNE7DMkDGUsE0TsMyQMZSwTROwzJAxlLBNE7DMkDGUsE0TsMyQMrdKRX73ztAy71E5TSQOkDLsDg5b25GQPpbpza9J0RA6LzGLlEPQUD8EG0qn2BAQJIuT0r1oz9AyLYMOEsmQUAE8A2NwP8mQDRzq5TcbChAAPlct9KpMEBdiB+t+38pQDjtSkcQqipAVj7TZKkTMkAKgDMp7OczQMZSwTROwzJAxlLBNE7DMkDGUsE0TsMyQMZSwTROwzJAxlLBNE7DMkDGUsE0TsMyQMZSwTROwzJAxlLBNE7DMkDGUsE0TsMyQKhMtT8lVzBAnFdM19lwJEBgD6r9a0ARQBDPRJ5FJ/i/uj058fIbIMDMDNlIq3oqwEzZE9FtsCzAIqAdy5asJ8AYCYbWNzAWwBAyRtp8zvg/HGkEdpDbGkAaivnBEjomQLEFlLhUxSxAYWs6K3fvMECmTvaFBoIyQMZSwTROwzJAxlLBNE7DMkDGUsE0TsMyQMZSwTROwzJA",
          "dtype": "f8"
         },
         "yaxis": "y2"
        },
        {
         "hovertemplate": "techs=pv<br>nodes=X3<br>carriers=electricity<br>timesteps=%{x}<br>Flow in/out (kWh)=%{y}<extra></extra>",
         "legendgroup": "pv",
         "marker": {
          "color": "#F9D956",
          "pattern": {
           "shape": ""
          }
         },
         "name": "pv",
         "orientation": "v",
         "showlegend": false,
         "textposition": "auto",
         "type": "bar",
         "x": [
          "2005-07-01T05:00:00.000000000",
          "2005-07-01T06:00:00.000000000",
          "2005-07-01T07:00:00.000000000",
          "2005-07-01T08:00:00.000000000",
          "2005-07-01T09:00:00.000000000",
          "2005-07-01T10:00:00.000000000",
          "2005-07-01T11:00:00.000000000",
          "2005-07-01T12:00:00.000000000",
          "2005-07-01T13:00:00.000000000",
          "2005-07-01T14:00:00.000000000",
          "2005-07-01T15:00:00.000000000",
          "2005-07-01T16:00:00.000000000",
          "2005-07-01T17:00:00.000000000",
          "2005-07-01T18:00:00.000000000",
          "2005-07-02T05:00:00.000000000",
          "2005-07-02T06:00:00.000000000",
          "2005-07-02T07:00:00.000000000",
          "2005-07-02T08:00:00.000000000",
          "2005-07-02T09:00:00.000000000",
          "2005-07-02T10:00:00.000000000",
          "2005-07-02T11:00:00.000000000",
          "2005-07-02T12:00:00.000000000",
          "2005-07-02T13:00:00.000000000",
          "2005-07-02T14:00:00.000000000",
          "2005-07-02T15:00:00.000000000",
          "2005-07-02T16:00:00.000000000",
          "2005-07-02T17:00:00.000000000",
          "2005-07-02T18:00:00.000000000",
          "2005-07-02T19:00:00.000000000"
         ],
         "xaxis": "x2",
         "y": {
          "bdata": "J33nODOzAkBakQM8ClchQHS6qO1RiDBAyk8uth5VN0CPwvUoXI88QA4DhnoUFkBAluyW7FEAQEBmZmZmZsY6QMxN7W89KjVAwHiKReEqM0DF8abPzCwuQKlqejcz8yZAU5fGDq5HH0AHGVRduB4HQO0wYKhHYQNA8E02ksIVIUDcna1qZuYsQLefpY7CRTRAo/FdrUfROkCW7JbsUQBAQLafpY7CjUBA1yJQmpmZPkAM1WIqXE84QKXvHGdmNjFA/gFBRuF6KEBwPQrXoxAgQLY/3WGPghFAVHZumHA9/T/zB8Gy61HQPw==",
          "dtype": "f8"
         },
         "yaxis": "y2"
        },
        {
         "legendgroup": "demand",
         "marker": {
          "color": "black"
         },
         "name": "Demand",
         "showlegend": true,
         "type": "scatter",
         "x": [
          "2005-07-01T00:00:00.000000000",
          "2005-07-01T01:00:00.000000000",
          "2005-07-01T02:00:00.000000000",
          "2005-07-01T03:00:00.000000000",
          "2005-07-01T04:00:00.000000000",
          "2005-07-01T05:00:00.000000000",
          "2005-07-01T06:00:00.000000000",
          "2005-07-01T07:00:00.000000000",
          "2005-07-01T08:00:00.000000000",
          "2005-07-01T09:00:00.000000000",
          "2005-07-01T10:00:00.000000000",
          "2005-07-01T11:00:00.000000000",
          "2005-07-01T12:00:00.000000000",
          "2005-07-01T13:00:00.000000000",
          "2005-07-01T14:00:00.000000000",
          "2005-07-01T15:00:00.000000000",
          "2005-07-01T16:00:00.000000000",
          "2005-07-01T17:00:00.000000000",
          "2005-07-01T18:00:00.000000000",
          "2005-07-01T19:00:00.000000000",
          "2005-07-01T20:00:00.000000000",
          "2005-07-01T21:00:00.000000000",
          "2005-07-01T22:00:00.000000000",
          "2005-07-01T23:00:00.000000000",
          "2005-07-02T00:00:00.000000000",
          "2005-07-02T01:00:00.000000000",
          "2005-07-02T02:00:00.000000000",
          "2005-07-02T03:00:00.000000000",
          "2005-07-02T04:00:00.000000000",
          "2005-07-02T05:00:00.000000000",
          "2005-07-02T06:00:00.000000000",
          "2005-07-02T07:00:00.000000000",
          "2005-07-02T08:00:00.000000000",
          "2005-07-02T09:00:00.000000000",
          "2005-07-02T10:00:00.000000000",
          "2005-07-02T11:00:00.000000000",
          "2005-07-02T12:00:00.000000000",
          "2005-07-02T13:00:00.000000000",
          "2005-07-02T14:00:00.000000000",
          "2005-07-02T15:00:00.000000000",
          "2005-07-02T16:00:00.000000000",
          "2005-07-02T17:00:00.000000000",
          "2005-07-02T18:00:00.000000000",
          "2005-07-02T19:00:00.000000000",
          "2005-07-02T20:00:00.000000000",
          "2005-07-02T21:00:00.000000000",
          "2005-07-02T22:00:00.000000000",
          "2005-07-02T23:00:00.000000000"
         ],
         "xaxis": "x",
         "y": {
          "bdata": "3nGKjuTyjz8syj8PwofrP95xio7k8o8/3nGKjuTyjz9TKN0mdIjrP8ONCISlDR1AIAOnruTLIkBHVXG13isXQJJzFoGnlApAhYybqBLW/j/P+k2OJvL5Px2c/NSAEvY/mzSoXgDH8j+8iWvGs332P84whWz4vPI/5XeQWgUa9D+8np4t1uboP9aazMmiiOs/3nGKjuTyjz8rtykoiYjrP95xio7k8o8/GjPawcCH6z/ecYqO5PKPP4NKzhyhteo/ObBKWe4bpT/ecYqO5PKPPylc1peBh+s/3nGKjuTyjz/IGLo6SYjrP95xio7k8o8/3nGKjuTyjz+VJnogf4frP95xio7k8o8/XOEyroWH6z/ecYqO5PKPP95xio7k8o8/Lz0Ez2mI6z9f4GtoAIjrP95xio7k8o8/3nGKjuTyjz+ay+IF3ofrP95xio7k8o8/3nGKjuTyjz/E7kA/gYfrP95xio7k8o8/kGMtNpSH6z/ecYqO5PKPP7M3k5d+h+s/",
          "dtype": "f8"
         },
         "yaxis": "y"
        },
        {
         "legendgroup": "demand",
         "marker": {
          "color": "black"
         },
         "name": "Demand",
         "showlegend": false,
         "type": "scatter",
         "x": [
          "2005-07-01T00:00:00.000000000",
          "2005-07-01T01:00:00.000000000",
          "2005-07-01T02:00:00.000000000",
          "2005-07-01T03:00:00.000000000",
          "2005-07-01T04:00:00.000000000",
          "2005-07-01T05:00:00.000000000",
          "2005-07-01T06:00:00.000000000",
          "2005-07-01T07:00:00.000000000",
          "2005-07-01T08:00:00.000000000",
          "2005-07-01T09:00:00.000000000",
          "2005-07-01T10:00:00.000000000",
          "2005-07-01T11:00:00.000000000",
          "2005-07-01T12:00:00.000000000",
          "2005-07-01T13:00:00.000000000",
          "2005-07-01T14:00:00.000000000",
          "2005-07-01T15:00:00.000000000",
          "2005-07-01T16:00:00.000000000",
          "2005-07-01T17:00:00.000000000",
          "2005-07-01T18:00:00.000000000",
          "2005-07-01T19:00:00.000000000",
          "2005-07-01T20:00:00.000000000",
          "2005-07-01T21:00:00.000000000",
          "2005-07-01T22:00:00.000000000",
          "2005-07-01T23:00:00.000000000",
          "2005-07-02T00:00:00.000000000",
          "2005-07-02T01:00:00.000000000",
          "2005-07-02T02:00:00.000000000",
          "2005-07-02T03:00:00.000000000",
          "2005-07-02T04:00:00.000000000",
          "2005-07-02T05:00:00.000000000",
          "2005-07-02T06:00:00.000000000",
          "2005-07-02T07:00:00.000000000",
          "2005-07-02T08:00:00.000000000",
          "2005-07-02T09:00:00.000000000",
          "2005-07-02T10:00:00.000000000",
          "2005-07-02T11:00:00.000000000",
          "2005-07-02T12:00:00.000000000",
          "2005-07-02T13:00:00.000000000",
          "2005-07-02T14:00:00.000000000",
          "2005-07-02T15:00:00.000000000",
          "2005-07-02T16:00:00.000000000",
          "2005-07-02T17:00:00.000000000",
          "2005-07-02T18:00:00.000000000",
          "2005-07-02T19:00:00.000000000",
          "2005-07-02T20:00:00.000000000",
          "2005-07-02T21:00:00.000000000",
          "2005-07-02T22:00:00.000000000",
          "2005-07-02T23:00:00.000000000"
         ],
         "xaxis": "x2",
         "y": {
          "bdata": "xlLBNE7DMkDGUsE0TsMyQMZSwTROwzJAxlLBNE7DMkDGUsE0TsMyQG/NRnxhNj5APEOjAd2dQUAFDg0wmLJOQN+DvpFM0k9AMJ5BQ/9WT0AFinnSWTtQQN+DvpFM0k9A++k/a36JTkDnIjrbDlVAQFoy4I9PYT9A43EwHznAP0CD+Uxylzk4QHEcV6fzJjVAd8F9cID3NEAKgDMp7OczQMZSwTROwzJAxlLBNE7DMkDGUsE0TsMyQMZSwTROwzJAxlLBNE7DMkDGUsE0TsMyQMZSwTROwzJAxlLBNE7DMkDGUsE0TsMyQMZSwTROwzJAxlLBNE7DMkDGUsE0TsMyQMZSwTROwzJAxlLBNE7DMkDGUsE0TsMyQMZSwTROwzJAxlLBNE7DMkDGUsE0TsMyQMZSwTROwzJARpuhwFT0MkDF44FMWyUzQMZSwTROwzJAxlLBNE7DMkDGUsE0TsMyQMZSwTROwzJAxlLBNE7DMkDGUsE0TsMyQMZSwTROwzJA",
          "dtype": "f8"
         },
         "yaxis": "y2"
        },
        {
         "legendgroup": "demand",
         "marker": {
          "color": "black"
         },
         "name": "Demand",
         "showlegend": false,
         "type": "scatter",
         "x": [
          "2005-07-01T00:00:00.000000000",
          "2005-07-01T01:00:00.000000000",
          "2005-07-01T02:00:00.000000000",
          "2005-07-01T03:00:00.000000000",
          "2005-07-01T04:00:00.000000000",
          "2005-07-01T05:00:00.000000000",
          "2005-07-01T06:00:00.000000000",
          "2005-07-01T07:00:00.000000000",
          "2005-07-01T08:00:00.000000000",
          "2005-07-01T09:00:00.000000000",
          "2005-07-01T10:00:00.000000000",
          "2005-07-01T11:00:00.000000000",
          "2005-07-01T12:00:00.000000000",
          "2005-07-01T13:00:00.000000000",
          "2005-07-01T14:00:00.000000000",
          "2005-07-01T15:00:00.000000000",
          "2005-07-01T16:00:00.000000000",
          "2005-07-01T17:00:00.000000000",
          "2005-07-01T18:00:00.000000000",
          "2005-07-01T19:00:00.000000000",
          "2005-07-01T20:00:00.000000000",
          "2005-07-01T21:00:00.000000000",
          "2005-07-01T22:00:00.000000000",
          "2005-07-01T23:00:00.000000000",
          "2005-07-02T00:00:00.000000000",
          "2005-07-02T01:00:00.000000000",
          "2005-07-02T02:00:00.000000000",
          "2005-07-02T03:00:00.000000000",
          "2005-07-02T04:00:00.000000000",
          "2005-07-02T05:00:00.000000000",
          "2005-07-02T06:00:00.000000000",
          "2005-07-02T07:00:00.000000000",
          "2005-07-02T08:00:00.000000000",
          "2005-07-02T09:00:00.000000000",
          "2005-07-02T10:00:00.000000000",
          "2005-07-02T11:00:00.000000000",
          "2005-07-02T12:00:00.000000000",
          "2005-07-02T13:00:00.000000000",
          "2005-07-02T14:00:00.000000000",
          "2005-07-02T15:00:00.000000000",
          "2005-07-02T16:00:00.000000000",
          "2005-07-02T17:00:00.000000000",
          "2005-07-02T18:00:00.000000000",
          "2005-07-02T19:00:00.000000000",
          "2005-07-02T20:00:00.000000000",
          "2005-07-02T21:00:00.000000000",
          "2005-07-02T22:00:00.000000000",
          "2005-07-02T23:00:00.000000000"
         ],
         "xaxis": "x3",
         "y": {
          "bdata": "7YfQ79guUEBCXg8mBZ1RQL0qYbdZTFNAV7Wko5wjWkDeHK7Vns5eQJy+Q/Zm9WRA5yj2hjGOcECuj5jqM9J2QGTqruzCInBAithxDb3SZ0BkIqXZ/IViQAQ3UrbIR1xAKmlqfqFKW0DOZnou+D9bQH8HUJ3YcVxALGDIC2WKVEBk4vuHmWhaQIvO6P01D2BAQFXgvxTtZECwPbMkAG1kQBqBHaRMEGVA2QWDa25XbkALs3UV92tjQB+7C5QUiFhAI9jZDEfRVEBS7fT/wTRWQF2Xjvdy2lZAmEwVjMoCW0DGhahn5p9fQGqkAKxpHGRAAz4/jJCNb0C1zeiinPp1QEys5//wBG9AxTe5hGiAZ0AIjQUqSGpiQL8G6c447VtAN3gVCPEfW0C7xnje1wlbQG67daO0UFpAwRfLmVInVUDhmdAkMSNaQOf+6nFfqV5AdOiZAynOZEAo59VKMiNkQEdwI2XL3WRAZcriWR0BbkANrhRdcvJhQELQ8rg/hVVA",
          "dtype": "f8"
         },
         "yaxis": "y3"
        },
        {
         "legendgroup": "demand",
         "marker": {
          "color": "black"
         },
         "name": "Demand",
         "showlegend": false,
         "type": "scatter",
         "x": [
          "2005-07-01T00:00:00.000000000",
          "2005-07-01T01:00:00.000000000",
          "2005-07-01T02:00:00.000000000",
          "2005-07-01T03:00:00.000000000",
          "2005-07-01T04:00:00.000000000",
          "2005-07-01T05:00:00.000000000",
          "2005-07-01T06:00:00.000000000",
          "2005-07-01T07:00:00.000000000",
          "2005-07-01T08:00:00.000000000",
          "2005-07-01T09:00:00.000000000",
          "2005-07-01T10:00:00.000000000",
          "2005-07-01T11:00:00.000000000",
          "2005-07-01T12:00:00.000000000",
          "2005-07-01T13:00:00.000000000",
          "2005-07-01T14:00:00.000000000",
          "2005-07-01T15:00:00.000000000",
          "2005-07-01T16:00:00.000000000",
          "2005-07-01T17:00:00.000000000",
          "2005-07-01T18:00:00.000000000",
          "2005-07-01T19:00:00.000000000",
          "2005-07-01T20:00:00.000000000",
          "2005-07-01T21:00:00.000000000",
          "2005-07-01T22:00:00.000000000",
          "2005-07-01T23:00:00.000000000",
          "2005-07-02T00:00:00.000000000",
          "2005-07-02T01:00:00.000000000",
          "2005-07-02T02:00:00.000000000",
          "2005-07-02T03:00:00.000000000",
          "2005-07-02T04:00:00.000000000",
          "2005-07-02T05:00:00.000000000",
          "2005-07-02T06:00:00.000000000",
          "2005-07-02T07:00:00.000000000",
          "2005-07-02T08:00:00.000000000",
          "2005-07-02T09:00:00.000000000",
          "2005-07-02T10:00:00.000000000",
          "2005-07-02T11:00:00.000000000",
          "2005-07-02T12:00:00.000000000",
          "2005-07-02T13:00:00.000000000",
          "2005-07-02T14:00:00.000000000",
          "2005-07-02T15:00:00.000000000",
          "2005-07-02T16:00:00.000000000",
          "2005-07-02T17:00:00.000000000",
          "2005-07-02T18:00:00.000000000",
          "2005-07-02T19:00:00.000000000",
          "2005-07-02T20:00:00.000000000",
          "2005-07-02T21:00:00.000000000",
          "2005-07-02T22:00:00.000000000",
          "2005-07-02T23:00:00.000000000"
         ],
         "xaxis": "x4",
         "y": {
          "bdata": "pPpSaO6iV0CpgN7Iej1TQGYkjLByXlNAZiSMsHJeU0BplMvS0K5UQJoz7EESkWJAV1BiIUSyZ0AoABDBgtdtQIeeOZAaiW5AXTpB9hXubEDelE0U/NBrQFyOVyD60mtA3J+LhgyOaUDw9zAgIIRoQGpT0Eifj2lA5Be5AiU+bEBdFOI2PyRoQOqWHeIfOHBA+PLxv8sgb0AGnEqrBkRwQJYfXRFh029Aj7gRYGKuaUA0rzQ6cedgQKe5Ll9Lr1dAz4JQ3kelWUAnpFYUhnlVQCn8Ql2eFlVAidbl7/mqVUCDhbRCaLlWQAY8H1RYeGJAL5wQ3y7jaEBs/NNX4dhtQLNGmP3VY21AmBLuOsD0bEB6E+i4f2VsQOSl9n3TZmxAc0Y5PdT6aEBPuuMDMfFnQHrCEg+o/GhAaOif4GKqa0BAlB48CYtnQLz05bvKPm9AubTQhJwcb0DSl5RxgtVwQKUIugcyrW5AN5Jfmv2IaEBBpDp4QelgQI5pt6d171lA",
          "dtype": "f8"
         },
         "yaxis": "y4"
        },
        {
         "legendgroup": "demand",
         "marker": {
          "color": "black"
         },
         "name": "Demand",
         "showlegend": false,
         "type": "scatter",
         "x": [
          "2005-07-01T00:00:00.000000000",
          "2005-07-01T01:00:00.000000000",
          "2005-07-01T02:00:00.000000000",
          "2005-07-01T03:00:00.000000000",
          "2005-07-01T04:00:00.000000000",
          "2005-07-01T05:00:00.000000000",
          "2005-07-01T06:00:00.000000000",
          "2005-07-01T07:00:00.000000000",
          "2005-07-01T08:00:00.000000000",
          "2005-07-01T09:00:00.000000000",
          "2005-07-01T10:00:00.000000000",
          "2005-07-01T11:00:00.000000000",
          "2005-07-01T12:00:00.000000000",
          "2005-07-01T13:00:00.000000000",
          "2005-07-01T14:00:00.000000000",
          "2005-07-01T15:00:00.000000000",
          "2005-07-01T16:00:00.000000000",
          "2005-07-01T17:00:00.000000000",
          "2005-07-01T18:00:00.000000000",
          "2005-07-01T19:00:00.000000000",
          "2005-07-01T20:00:00.000000000",
          "2005-07-01T21:00:00.000000000",
          "2005-07-01T22:00:00.000000000",
          "2005-07-01T23:00:00.000000000",
          "2005-07-02T00:00:00.000000000",
          "2005-07-02T01:00:00.000000000",
          "2005-07-02T02:00:00.000000000",
          "2005-07-02T03:00:00.000000000",
          "2005-07-02T04:00:00.000000000",
          "2005-07-02T05:00:00.000000000",
          "2005-07-02T06:00:00.000000000",
          "2005-07-02T07:00:00.000000000",
          "2005-07-02T08:00:00.000000000",
          "2005-07-02T09:00:00.000000000",
          "2005-07-02T10:00:00.000000000",
          "2005-07-02T11:00:00.000000000",
          "2005-07-02T12:00:00.000000000",
          "2005-07-02T13:00:00.000000000",
          "2005-07-02T14:00:00.000000000",
          "2005-07-02T15:00:00.000000000",
          "2005-07-02T16:00:00.000000000",
          "2005-07-02T17:00:00.000000000",
          "2005-07-02T18:00:00.000000000",
          "2005-07-02T19:00:00.000000000",
          "2005-07-02T20:00:00.000000000",
          "2005-07-02T21:00:00.000000000",
          "2005-07-02T22:00:00.000000000",
          "2005-07-02T23:00:00.000000000"
         ],
         "xaxis": "x5",
         "y": {
          "bdata": "d0TZ6XSRyz+59g1lC7XJP65XJjb+iMo/YhG+Valp1D9+h21Oz9LkP5VOOHxRofA/h/C7K7Pn8j/J+NQKA5H0P+7EtIiLWPM/ivDE5sKE8z8SiULLuo/nP3UUMTa+UOI/TKoo8cju4D/nY6m70znfP1EOlEtLe98/S8H3V79E4T+Ny4hwa4nkP6lWMSUqtec/7egxKqZb6D+4+goCxpvmP9nNV4xkRuQ/h42ERki+4D8rCzMoK6rZP4vLosRvadE/9Sckq7i3yz8OlLjnKQ3KP6D4Q8lqrtk/Hjd4NhYK6D9i5gCWnEjyP3Syn4jvg/s/ZJD9JCVK+j9Ry5WVtE/5P64h71csDvY/AB2VhAxg9T/H5NeGv0PoP/zC+w+ITuI/4jv8+PXq4D9ZyAgaxizfPwqVOFgjbt8/uIRYCjxI4T9uqpqSP4fkP2iZcKgSt+c/aJR10tdg6D/XnMDKWqDmP2hYEPN6SuQ/0yRxiTXC4D/12CSsfqbZP+xwg8AbadE/",
          "dtype": "f8"
         },
         "yaxis": "y5"
        },
        {
         "legendgroup": "demand",
         "marker": {
          "color": "black"
         },
         "name": "Demand",
         "showlegend": false,
         "type": "scatter",
         "x": [
          "2005-07-01T00:00:00.000000000",
          "2005-07-01T01:00:00.000000000",
          "2005-07-01T02:00:00.000000000",
          "2005-07-01T03:00:00.000000000",
          "2005-07-01T04:00:00.000000000",
          "2005-07-01T05:00:00.000000000",
          "2005-07-01T06:00:00.000000000",
          "2005-07-01T07:00:00.000000000",
          "2005-07-01T08:00:00.000000000",
          "2005-07-01T09:00:00.000000000",
          "2005-07-01T10:00:00.000000000",
          "2005-07-01T11:00:00.000000000",
          "2005-07-01T12:00:00.000000000",
          "2005-07-01T13:00:00.000000000",
          "2005-07-01T14:00:00.000000000",
          "2005-07-01T15:00:00.000000000",
          "2005-07-01T16:00:00.000000000",
          "2005-07-01T17:00:00.000000000",
          "2005-07-01T18:00:00.000000000",
          "2005-07-01T19:00:00.000000000",
          "2005-07-01T20:00:00.000000000",
          "2005-07-01T21:00:00.000000000",
          "2005-07-01T22:00:00.000000000",
          "2005-07-01T23:00:00.000000000",
          "2005-07-02T00:00:00.000000000",
          "2005-07-02T01:00:00.000000000",
          "2005-07-02T02:00:00.000000000",
          "2005-07-02T03:00:00.000000000",
          "2005-07-02T04:00:00.000000000",
          "2005-07-02T05:00:00.000000000",
          "2005-07-02T06:00:00.000000000",
          "2005-07-02T07:00:00.000000000",
          "2005-07-02T08:00:00.000000000",
          "2005-07-02T09:00:00.000000000",
          "2005-07-02T10:00:00.000000000",
          "2005-07-02T11:00:00.000000000",
          "2005-07-02T12:00:00.000000000",
          "2005-07-02T13:00:00.000000000",
          "2005-07-02T14:00:00.000000000",
          "2005-07-02T15:00:00.000000000",
          "2005-07-02T16:00:00.000000000",
          "2005-07-02T17:00:00.000000000",
          "2005-07-02T18:00:00.000000000",
          "2005-07-02T19:00:00.000000000",
          "2005-07-02T20:00:00.000000000",
          "2005-07-02T21:00:00.000000000",
          "2005-07-02T22:00:00.000000000",
          "2005-07-02T23:00:00.000000000"
         ],
         "xaxis": "x6",
         "y": {
          "bdata": "Eeph6fUn3T+mFUk1mPjZP5qv1KuvK9k/i0F+Oys32T9+1V/pWyrcPxO6bPCVK+I/yJ7NQuxw5z+M7MSRedfmP6EsjmBpFOY/OVX5yRGl5j/VVvlZvSfnP8hipcanh+Y/dNGVquKt5T92vQQMajblP2AQ5OKg2+U/38vGSMv46D8HvpUxrRnuP02+l8r0Tu8/53/ilV5a8D9VoqVYWbbyP7l0BiVQ7fQ/CwUto9+W8T/UP37yVHDqPyOFaxtq5+E/Eeph6fUn3T+mFUk1mPjZP5qv1KuvK9k/i0F+Oys32T9+1V/pWyrcPxO6bPCVK+I/yJ7NQuxw5z+M7MSRedfmP6EsjmBpFOY/OVX5yRGl5j/VVvlZvSfnP8hipcanh+Y/dNGVquKt5T92vQQMajblP2AQ5OKg2+U/38vGSMv46D8HvpUxrRnuP02+l8r0Tu8/53/ilV5a8D9VoqVYWbbyP7l0BiVQ7fQ/CwUto9+W8T/UP37yVHDqPyOFaxtq5+E/",
          "dtype": "f8"
         },
         "yaxis": "y6"
        }
       ],
       "layout": {
        "annotations": [
         {
          "font": {},
          "showarrow": false,
          "text": "carriers=heat",
          "x": 0.24,
          "xanchor": "center",
          "xref": "paper",
          "y": 1,
          "yanchor": "bottom",
          "yref": "paper"
         },
         {
          "font": {},
          "showarrow": false,
          "text": "carriers=electricity",
          "x": 0.74,
          "xanchor": "center",
          "xref": "paper",
          "y": 1,
          "yanchor": "bottom",
          "yref": "paper"
         },
         {
          "font": {},
          "showarrow": false,
          "text": "nodes=X3",
          "textangle": 90,
          "x": 0.98,
          "xanchor": "left",
          "xref": "paper",
          "y": 0.11375,
          "yanchor": "middle",
          "yref": "paper"
         },
         {
          "font": {},
          "showarrow": false,
          "text": "nodes=X2",
          "textangle": 90,
          "x": 0.98,
          "xanchor": "left",
          "xref": "paper",
          "y": 0.37124999999999997,
          "yanchor": "middle",
          "yref": "paper"
         },
         {
          "font": {},
          "showarrow": false,
          "text": "nodes=X1",
          "textangle": 90,
          "x": 0.98,
          "xanchor": "left",
          "xref": "paper",
          "y": 0.62875,
          "yanchor": "middle",
          "yref": "paper"
         },
         {
          "font": {},
          "showarrow": false,
          "text": "nodes=N1",
          "textangle": 90,
          "x": 0.98,
          "xanchor": "left",
          "xref": "paper",
          "y": 0.88625,
          "yanchor": "middle",
          "yref": "paper"
         }
        ],
        "barmode": "relative",
        "height": 1000,
        "legend": {
         "title": {
          "text": "techs"
         },
         "tracegroupgap": 0
        },
        "margin": {
         "t": 60
        },
        "template": {
         "data": {
          "bar": [
           {
            "error_x": {
             "color": "#2a3f5f"
            },
            "error_y": {
             "color": "#2a3f5f"
            },
            "marker": {
             "line": {
              "color": "#E5ECF6",
              "width": 0.5
             },
             "pattern": {
              "fillmode": "overlay",
              "size": 10,
              "solidity": 0.2
             }
            },
            "type": "bar"
           }
          ],
          "barpolar": [
           {
            "marker": {
             "line": {
              "color": "#E5ECF6",
              "width": 0.5
             },
             "pattern": {
              "fillmode": "overlay",
              "size": 10,
              "solidity": 0.2
             }
            },
            "type": "barpolar"
           }
          ],
          "carpet": [
           {
            "aaxis": {
             "endlinecolor": "#2a3f5f",
             "gridcolor": "white",
             "linecolor": "white",
             "minorgridcolor": "white",
             "startlinecolor": "#2a3f5f"
            },
            "baxis": {
             "endlinecolor": "#2a3f5f",
             "gridcolor": "white",
             "linecolor": "white",
             "minorgridcolor": "white",
             "startlinecolor": "#2a3f5f"
            },
            "type": "carpet"
           }
          ],
          "choropleth": [
           {
            "colorbar": {
             "outlinewidth": 0,
             "ticks": ""
            },
            "type": "choropleth"
           }
          ],
          "contour": [
           {
            "colorbar": {
             "outlinewidth": 0,
             "ticks": ""
            },
            "colorscale": [
             [
              0,
              "#0d0887"
             ],
             [
              0.1111111111111111,
              "#46039f"
             ],
             [
              0.2222222222222222,
              "#7201a8"
             ],
             [
              0.3333333333333333,
              "#9c179e"
             ],
             [
              0.4444444444444444,
              "#bd3786"
             ],
             [
              0.5555555555555556,
              "#d8576b"
             ],
             [
              0.6666666666666666,
              "#ed7953"
             ],
             [
              0.7777777777777778,
              "#fb9f3a"
             ],
             [
              0.8888888888888888,
              "#fdca26"
             ],
             [
              1,
              "#f0f921"
             ]
            ],
            "type": "contour"
           }
          ],
          "contourcarpet": [
           {
            "colorbar": {
             "outlinewidth": 0,
             "ticks": ""
            },
            "type": "contourcarpet"
           }
          ],
          "heatmap": [
           {
            "colorbar": {
             "outlinewidth": 0,
             "ticks": ""
            },
            "colorscale": [
             [
              0,
              "#0d0887"
             ],
             [
              0.1111111111111111,
              "#46039f"
             ],
             [
              0.2222222222222222,
              "#7201a8"
             ],
             [
              0.3333333333333333,
              "#9c179e"
             ],
             [
              0.4444444444444444,
              "#bd3786"
             ],
             [
              0.5555555555555556,
              "#d8576b"
             ],
             [
              0.6666666666666666,
              "#ed7953"
             ],
             [
              0.7777777777777778,
              "#fb9f3a"
             ],
             [
              0.8888888888888888,
              "#fdca26"
             ],
             [
              1,
              "#f0f921"
             ]
            ],
            "type": "heatmap"
           }
          ],
          "histogram": [
           {
            "marker": {
             "pattern": {
              "fillmode": "overlay",
              "size": 10,
              "solidity": 0.2
             }
            },
            "type": "histogram"
           }
          ],
          "histogram2d": [
           {
            "colorbar": {
             "outlinewidth": 0,
             "ticks": ""
            },
            "colorscale": [
             [
              0,
              "#0d0887"
             ],
             [
              0.1111111111111111,
              "#46039f"
             ],
             [
              0.2222222222222222,
              "#7201a8"
             ],
             [
              0.3333333333333333,
              "#9c179e"
             ],
             [
              0.4444444444444444,
              "#bd3786"
             ],
             [
              0.5555555555555556,
              "#d8576b"
             ],
             [
              0.6666666666666666,
              "#ed7953"
             ],
             [
              0.7777777777777778,
              "#fb9f3a"
             ],
             [
              0.8888888888888888,
              "#fdca26"
             ],
             [
              1,
              "#f0f921"
             ]
            ],
            "type": "histogram2d"
           }
          ],
          "histogram2dcontour": [
           {
            "colorbar": {
             "outlinewidth": 0,
             "ticks": ""
            },
            "colorscale": [
             [
              0,
              "#0d0887"
             ],
             [
              0.1111111111111111,
              "#46039f"
             ],
             [
              0.2222222222222222,
              "#7201a8"
             ],
             [
              0.3333333333333333,
              "#9c179e"
             ],
             [
              0.4444444444444444,
              "#bd3786"
             ],
             [
              0.5555555555555556,
              "#d8576b"
             ],
             [
              0.6666666666666666,
              "#ed7953"
             ],
             [
              0.7777777777777778,
              "#fb9f3a"
             ],
             [
              0.8888888888888888,
              "#fdca26"
             ],
             [
              1,
              "#f0f921"
             ]
            ],
            "type": "histogram2dcontour"
           }
          ],
          "mesh3d": [
           {
            "colorbar": {
             "outlinewidth": 0,
             "ticks": ""
            },
            "type": "mesh3d"
           }
          ],
          "parcoords": [
           {
            "line": {
             "colorbar": {
              "outlinewidth": 0,
              "ticks": ""
             }
            },
            "type": "parcoords"
           }
          ],
          "pie": [
           {
            "automargin": true,
            "type": "pie"
           }
          ],
          "scatter": [
           {
            "fillpattern": {
             "fillmode": "overlay",
             "size": 10,
             "solidity": 0.2
            },
            "type": "scatter"
           }
          ],
          "scatter3d": [
           {
            "line": {
             "colorbar": {
              "outlinewidth": 0,
              "ticks": ""
             }
            },
            "marker": {
             "colorbar": {
              "outlinewidth": 0,
              "ticks": ""
             }
            },
            "type": "scatter3d"
           }
          ],
          "scattercarpet": [
           {
            "marker": {
             "colorbar": {
              "outlinewidth": 0,
              "ticks": ""
             }
            },
            "type": "scattercarpet"
           }
          ],
          "scattergeo": [
           {
            "marker": {
             "colorbar": {
              "outlinewidth": 0,
              "ticks": ""
             }
            },
            "type": "scattergeo"
           }
          ],
          "scattergl": [
           {
            "marker": {
             "colorbar": {
              "outlinewidth": 0,
              "ticks": ""
             }
            },
            "type": "scattergl"
           }
          ],
          "scattermap": [
           {
            "marker": {
             "colorbar": {
              "outlinewidth": 0,
              "ticks": ""
             }
            },
            "type": "scattermap"
           }
          ],
          "scattermapbox": [
           {
            "marker": {
             "colorbar": {
              "outlinewidth": 0,
              "ticks": ""
             }
            },
            "type": "scattermapbox"
           }
          ],
          "scatterpolar": [
           {
            "marker": {
             "colorbar": {
              "outlinewidth": 0,
              "ticks": ""
             }
            },
            "type": "scatterpolar"
           }
          ],
          "scatterpolargl": [
           {
            "marker": {
             "colorbar": {
              "outlinewidth": 0,
              "ticks": ""
             }
            },
            "type": "scatterpolargl"
           }
          ],
          "scatterternary": [
           {
            "marker": {
             "colorbar": {
              "outlinewidth": 0,
              "ticks": ""
             }
            },
            "type": "scatterternary"
           }
          ],
          "surface": [
           {
            "colorbar": {
             "outlinewidth": 0,
             "ticks": ""
            },
            "colorscale": [
             [
              0,
              "#0d0887"
             ],
             [
              0.1111111111111111,
              "#46039f"
             ],
             [
              0.2222222222222222,
              "#7201a8"
             ],
             [
              0.3333333333333333,
              "#9c179e"
             ],
             [
              0.4444444444444444,
              "#bd3786"
             ],
             [
              0.5555555555555556,
              "#d8576b"
             ],
             [
              0.6666666666666666,
              "#ed7953"
             ],
             [
              0.7777777777777778,
              "#fb9f3a"
             ],
             [
              0.8888888888888888,
              "#fdca26"
             ],
             [
              1,
              "#f0f921"
             ]
            ],
            "type": "surface"
           }
          ],
          "table": [
           {
            "cells": {
             "fill": {
              "color": "#EBF0F8"
             },
             "line": {
              "color": "white"
             }
            },
            "header": {
             "fill": {
              "color": "#C8D4E3"
             },
             "line": {
              "color": "white"
             }
            },
            "type": "table"
           }
          ]
         },
         "layout": {
          "annotationdefaults": {
           "arrowcolor": "#2a3f5f",
           "arrowhead": 0,
           "arrowwidth": 1
          },
          "autotypenumbers": "strict",
          "coloraxis": {
           "colorbar": {
            "outlinewidth": 0,
            "ticks": ""
           }
          },
          "colorscale": {
           "diverging": [
            [
             0,
             "#8e0152"
            ],
            [
             0.1,
             "#c51b7d"
            ],
            [
             0.2,
             "#de77ae"
            ],
            [
             0.3,
             "#f1b6da"
            ],
            [
             0.4,
             "#fde0ef"
            ],
            [
             0.5,
             "#f7f7f7"
            ],
            [
             0.6,
             "#e6f5d0"
            ],
            [
             0.7,
             "#b8e186"
            ],
            [
             0.8,
             "#7fbc41"
            ],
            [
             0.9,
             "#4d9221"
            ],
            [
             1,
             "#276419"
            ]
           ],
           "sequential": [
            [
             0,
             "#0d0887"
            ],
            [
             0.1111111111111111,
             "#46039f"
            ],
            [
             0.2222222222222222,
             "#7201a8"
            ],
            [
             0.3333333333333333,
             "#9c179e"
            ],
            [
             0.4444444444444444,
             "#bd3786"
            ],
            [
             0.5555555555555556,
             "#d8576b"
            ],
            [
             0.6666666666666666,
             "#ed7953"
            ],
            [
             0.7777777777777778,
             "#fb9f3a"
            ],
            [
             0.8888888888888888,
             "#fdca26"
            ],
            [
             1,
             "#f0f921"
            ]
           ],
           "sequentialminus": [
            [
             0,
             "#0d0887"
            ],
            [
             0.1111111111111111,
             "#46039f"
            ],
            [
             0.2222222222222222,
             "#7201a8"
            ],
            [
             0.3333333333333333,
             "#9c179e"
            ],
            [
             0.4444444444444444,
             "#bd3786"
            ],
            [
             0.5555555555555556,
             "#d8576b"
            ],
            [
             0.6666666666666666,
             "#ed7953"
            ],
            [
             0.7777777777777778,
             "#fb9f3a"
            ],
            [
             0.8888888888888888,
             "#fdca26"
            ],
            [
             1,
             "#f0f921"
            ]
           ]
          },
          "colorway": [
           "#636efa",
           "#EF553B",
           "#00cc96",
           "#ab63fa",
           "#FFA15A",
           "#19d3f3",
           "#FF6692",
           "#B6E880",
           "#FF97FF",
           "#FECB52"
          ],
          "font": {
           "color": "#2a3f5f"
          },
          "geo": {
           "bgcolor": "white",
           "lakecolor": "white",
           "landcolor": "#E5ECF6",
           "showlakes": true,
           "showland": true,
           "subunitcolor": "white"
          },
          "hoverlabel": {
           "align": "left"
          },
          "hovermode": "closest",
          "mapbox": {
           "style": "light"
          },
          "paper_bgcolor": "white",
          "plot_bgcolor": "#E5ECF6",
          "polar": {
           "angularaxis": {
            "gridcolor": "white",
            "linecolor": "white",
            "ticks": ""
           },
           "bgcolor": "#E5ECF6",
           "radialaxis": {
            "gridcolor": "white",
            "linecolor": "white",
            "ticks": ""
           }
          },
          "scene": {
           "xaxis": {
            "backgroundcolor": "#E5ECF6",
            "gridcolor": "white",
            "gridwidth": 2,
            "linecolor": "white",
            "showbackground": true,
            "ticks": "",
            "zerolinecolor": "white"
           },
           "yaxis": {
            "backgroundcolor": "#E5ECF6",
            "gridcolor": "white",
            "gridwidth": 2,
            "linecolor": "white",
            "showbackground": true,
            "ticks": "",
            "zerolinecolor": "white"
           },
           "zaxis": {
            "backgroundcolor": "#E5ECF6",
            "gridcolor": "white",
            "gridwidth": 2,
            "linecolor": "white",
            "showbackground": true,
            "ticks": "",
            "zerolinecolor": "white"
           }
          },
          "shapedefaults": {
           "line": {
            "color": "#2a3f5f"
           }
          },
          "ternary": {
           "aaxis": {
            "gridcolor": "white",
            "linecolor": "white",
            "ticks": ""
           },
           "baxis": {
            "gridcolor": "white",
            "linecolor": "white",
            "ticks": ""
           },
           "bgcolor": "#E5ECF6",
           "caxis": {
            "gridcolor": "white",
            "linecolor": "white",
            "ticks": ""
           }
          },
          "title": {
           "x": 0.05
          },
          "xaxis": {
           "automargin": true,
           "gridcolor": "white",
           "linecolor": "white",
           "ticks": "",
           "title": {
            "standoff": 15
           },
           "zerolinecolor": "white",
           "zerolinewidth": 2
          },
          "yaxis": {
           "automargin": true,
           "gridcolor": "white",
           "linecolor": "white",
           "ticks": "",
           "title": {
            "standoff": 15
           },
           "zerolinecolor": "white",
           "zerolinewidth": 2
          }
         }
        },
        "xaxis": {
         "anchor": "y",
         "domain": [
          0,
          0.48
         ],
         "title": {
          "text": "timesteps"
         }
        },
        "xaxis2": {
         "anchor": "y2",
         "domain": [
          0.5,
          0.98
         ],
         "matches": "x",
         "title": {
          "text": "timesteps"
         }
        },
        "xaxis3": {
         "anchor": "y3",
         "domain": [
          0,
          0.48
         ],
         "matches": "x",
         "showticklabels": false
        },
        "xaxis4": {
         "anchor": "y4",
         "domain": [
          0.5,
          0.98
         ],
         "matches": "x",
         "showticklabels": false
        },
        "xaxis5": {
         "anchor": "y5",
         "domain": [
          0,
          0.48
         ],
         "matches": "x",
         "showticklabels": false
        },
        "xaxis6": {
         "anchor": "y6",
         "domain": [
          0.5,
          0.98
         ],
         "matches": "x",
         "showticklabels": false
        },
        "xaxis7": {
         "anchor": "y7",
         "domain": [
          0,
          0.48
         ],
         "matches": "x",
         "showticklabels": false
        },
        "xaxis8": {
         "anchor": "y8",
         "domain": [
          0.5,
          0.98
         ],
         "matches": "x",
         "showticklabels": false
        },
        "yaxis": {
         "anchor": "x",
         "domain": [
          0,
          0.2275
         ],
         "title": {
          "text": "Flow in/out (kWh)"
         }
        },
        "yaxis2": {
         "anchor": "x2",
         "domain": [
          0,
          0.2275
         ],
         "showticklabels": false
        },
        "yaxis3": {
         "anchor": "x3",
         "domain": [
          0.2575,
          0.485
         ],
         "title": {
          "text": "Flow in/out (kWh)"
         }
        },
        "yaxis4": {
         "anchor": "x4",
         "domain": [
          0.2575,
          0.485
         ],
         "showticklabels": false
        },
        "yaxis5": {
         "anchor": "x5",
         "domain": [
          0.515,
          0.7425
         ],
         "title": {
          "text": "Flow in/out (kWh)"
         }
        },
        "yaxis6": {
         "anchor": "x6",
         "domain": [
          0.515,
          0.7425
         ],
         "showticklabels": false
        },
        "yaxis7": {
         "anchor": "x7",
         "domain": [
          0.7725,
          1
         ],
         "title": {
          "text": "Flow in/out (kWh)"
         }
        },
        "yaxis8": {
         "anchor": "x8",
         "domain": [
          0.7725,
          1
         ],
         "showticklabels": false
        }
       }
      }
     },
     "metadata": {},
     "output_type": "display_data"
    }
   ],
   "source": [
    "carriers = [\"heat\", \"electricity\"]\n",
    "df_flows = (\n",
    "    (model.results.flow_out.fillna(0) - model.results.flow_in.fillna(0))\n",
    "    .sel(carriers=carriers)\n",
    "    .to_series()\n",
    "    .where(lambda x: x != 0)\n",
    "    .dropna()\n",
    "    .to_frame(\"Flow in/out (kWh)\")\n",
    "    .reset_index()\n",
    ")\n",
    "df_demand = df_flows[df_flows.techs.str.contains(\"demand\")]\n",
    "df_flows_other = df_flows[~df_flows.techs.str.contains(\"demand\")]\n",
    "\n",
    "print(df_flows.head())\n",
    "\n",
    "node_order = df_flows_other.nodes.unique()\n",
    "\n",
    "fig = px.bar(\n",
    "    df_flows_other,\n",
    "    x=\"timesteps\",\n",
    "    y=\"Flow in/out (kWh)\",\n",
    "    facet_row=\"nodes\",\n",
    "    facet_col=\"carriers\",\n",
    "    color=\"techs\",\n",
    "    category_orders={\"nodes\": node_order, \"carriers\": carriers},\n",
    "    height=1000,\n",
    "    color_discrete_map=colors,\n",
    ")\n",
    "\n",
    "showlegend = True\n",
    "# we reverse the node order (`[::-1]`) because the rows are numbered from bottom to top.\n",
    "for row, node in enumerate(node_order[::-1]):\n",
    "    for col, carrier in enumerate(carriers):\n",
    "        demand_ = df_demand.loc[\n",
    "            (df_demand.nodes == node) & (df_demand.techs == f\"demand_{carrier}\"),\n",
    "            \"Flow in/out (kWh)\",\n",
    "        ]\n",
    "        if not demand_.empty:\n",
    "            fig.add_scatter(\n",
    "                x=model.results.timesteps.values,\n",
    "                y=-1 * demand_,\n",
    "                row=row + 1,\n",
    "                col=col + 1,\n",
    "                marker_color=\"black\",\n",
    "                name=\"Demand\",\n",
    "                legendgroup=\"demand\",\n",
    "                showlegend=showlegend,\n",
    "            )\n",
    "            showlegend = False\n",
    "fig.update_yaxes(matches=None)\n",
    "fig.show()"
   ]
  },
  {
   "cell_type": "markdown",
   "id": "cd83d5a1",
   "metadata": {},
   "source": [
    "#### Plotting capacities\n",
    "We can plot capacities without needing to combine arrays.\n",
    "We can look at capacities for different carriers separately.\n",
    "We ignore demand and transmission technology capacities in this example."
   ]
  },
  {
   "cell_type": "code",
   "execution_count": 14,
   "id": "4a831880",
   "metadata": {},
   "outputs": [
    {
     "name": "stdout",
     "output_type": "stream",
     "text": [
      "  nodes              techs     carriers  Flow capacity (kW)\n",
      "0    X1                chp  electricity          260.946698\n",
      "1    X1                chp          gas          644.312835\n",
      "2    X1                chp         heat          208.757358\n",
      "3    X1         supply_gas          gas          644.312835\n",
      "4    X1  supply_grid_power  electricity           33.620147\n"
     ]
    },
    {
     "data": {
      "application/vnd.plotly.v1+json": {
       "config": {
        "plotlyServerURL": "https://plot.ly"
       },
       "data": [
        {
         "hovertemplate": "techs=chp<br>carriers=electricity<br>nodes=%{x}<br>Flow capacity (kW)=%{y}<extra></extra>",
         "legendgroup": "chp",
         "marker": {
          "color": "#E4AB97",
          "pattern": {
           "shape": ""
          }
         },
         "name": "chp",
         "orientation": "v",
         "showlegend": true,
         "textposition": "auto",
         "type": "bar",
         "x": [
          "X1"
         ],
         "xaxis": "x",
         "y": {
          "bdata": "rorqrCVPcEA=",
          "dtype": "f8"
         },
         "yaxis": "y"
        },
        {
         "hovertemplate": "techs=chp<br>carriers=gas<br>nodes=%{x}<br>Flow capacity (kW)=%{y}<extra></extra>",
         "legendgroup": "chp",
         "marker": {
          "color": "#E4AB97",
          "pattern": {
           "shape": ""
          }
         },
         "name": "chp",
         "orientation": "v",
         "showlegend": false,
         "textposition": "auto",
         "type": "bar",
         "x": [
          "X1"
         ],
         "xaxis": "x2",
         "y": {
          "bdata": "tAONr4AihEA=",
          "dtype": "f8"
         },
         "yaxis": "y2"
        },
        {
         "hovertemplate": "techs=chp<br>carriers=heat<br>nodes=%{x}<br>Flow capacity (kW)=%{y}<extra></extra>",
         "legendgroup": "chp",
         "marker": {
          "color": "#E4AB97",
          "pattern": {
           "shape": ""
          }
         },
         "name": "chp",
         "orientation": "v",
         "showlegend": false,
         "textposition": "auto",
         "type": "bar",
         "x": [
          "X1"
         ],
         "xaxis": "x3",
         "y": {
          "bdata": "sKrdRzwYakA=",
          "dtype": "f8"
         },
         "yaxis": "y3"
        },
        {
         "hovertemplate": "techs=supply_gas<br>carriers=gas<br>nodes=%{x}<br>Flow capacity (kW)=%{y}<extra></extra>",
         "legendgroup": "supply_gas",
         "marker": {
          "color": "#C98AAD",
          "pattern": {
           "shape": ""
          }
         },
         "name": "supply_gas",
         "orientation": "v",
         "showlegend": true,
         "textposition": "auto",
         "type": "bar",
         "x": [
          "X1",
          "X2",
          "X3"
         ],
         "xaxis": "x2",
         "y": {
          "bdata": "tAONr4AihEDD7YsFgFtsQGWsjQgdy5I/",
          "dtype": "f8"
         },
         "yaxis": "y2"
        },
        {
         "hovertemplate": "techs=supply_grid_power<br>carriers=electricity<br>nodes=%{x}<br>Flow capacity (kW)=%{y}<extra></extra>",
         "legendgroup": "supply_grid_power",
         "marker": {
          "color": "#C5ABE3",
          "pattern": {
           "shape": ""
          }
         },
         "name": "supply_grid_power",
         "orientation": "v",
         "showlegend": true,
         "textposition": "auto",
         "type": "bar",
         "x": [
          "X1"
         ],
         "xaxis": "x",
         "y": {
          "bdata": "MA23/GDPQEA=",
          "dtype": "f8"
         },
         "yaxis": "y"
        },
        {
         "hovertemplate": "techs=boiler<br>carriers=gas<br>nodes=%{x}<br>Flow capacity (kW)=%{y}<extra></extra>",
         "legendgroup": "boiler",
         "marker": {
          "color": "#8E2999",
          "pattern": {
           "shape": ""
          }
         },
         "name": "boiler",
         "orientation": "v",
         "showlegend": true,
         "textposition": "auto",
         "type": "bar",
         "x": [
          "X2",
          "X3"
         ],
         "xaxis": "x2",
         "y": {
          "bdata": "w+2LBYBbbEBlrI0IHcuSPw==",
          "dtype": "f8"
         },
         "yaxis": "y2"
        },
        {
         "hovertemplate": "techs=boiler<br>carriers=heat<br>nodes=%{x}<br>Flow capacity (kW)=%{y}<extra></extra>",
         "legendgroup": "boiler",
         "marker": {
          "color": "#8E2999",
          "pattern": {
           "shape": ""
          }
         },
         "name": "boiler",
         "orientation": "v",
         "showlegend": false,
         "textposition": "auto",
         "type": "bar",
         "x": [
          "X2",
          "X3"
         ],
         "xaxis": "x3",
         "y": {
          "bdata": "siPqN5MaaEDecYqO5PKPPw==",
          "dtype": "f8"
         },
         "yaxis": "y3"
        },
        {
         "hovertemplate": "techs=pv<br>carriers=electricity<br>nodes=%{x}<br>Flow capacity (kW)=%{y}<extra></extra>",
         "legendgroup": "pv",
         "marker": {
          "color": "#F9D956",
          "pattern": {
           "shape": ""
          }
         },
         "name": "pv",
         "orientation": "v",
         "showlegend": true,
         "textposition": "auto",
         "type": "bar",
         "x": [
          "X2",
          "X3"
         ],
         "xaxis": "x",
         "y": {
          "bdata": "NpfY+52nT0AAAAAAAABJQA==",
          "dtype": "f8"
         },
         "yaxis": "y"
        }
       ],
       "layout": {
        "annotations": [
         {
          "font": {},
          "showarrow": false,
          "text": "carriers=electricity",
          "x": 0.15999999999999998,
          "xanchor": "center",
          "xref": "paper",
          "y": 1,
          "yanchor": "bottom",
          "yref": "paper"
         },
         {
          "font": {},
          "showarrow": false,
          "text": "carriers=gas",
          "x": 0.49999999999999994,
          "xanchor": "center",
          "xref": "paper",
          "y": 1,
          "yanchor": "bottom",
          "yref": "paper"
         },
         {
          "font": {},
          "showarrow": false,
          "text": "carriers=heat",
          "x": 0.8399999999999999,
          "xanchor": "center",
          "xref": "paper",
          "y": 1,
          "yanchor": "bottom",
          "yref": "paper"
         }
        ],
        "barmode": "relative",
        "legend": {
         "title": {
          "text": "techs"
         },
         "tracegroupgap": 0
        },
        "margin": {
         "t": 60
        },
        "template": {
         "data": {
          "bar": [
           {
            "error_x": {
             "color": "#2a3f5f"
            },
            "error_y": {
             "color": "#2a3f5f"
            },
            "marker": {
             "line": {
              "color": "#E5ECF6",
              "width": 0.5
             },
             "pattern": {
              "fillmode": "overlay",
              "size": 10,
              "solidity": 0.2
             }
            },
            "type": "bar"
           }
          ],
          "barpolar": [
           {
            "marker": {
             "line": {
              "color": "#E5ECF6",
              "width": 0.5
             },
             "pattern": {
              "fillmode": "overlay",
              "size": 10,
              "solidity": 0.2
             }
            },
            "type": "barpolar"
           }
          ],
          "carpet": [
           {
            "aaxis": {
             "endlinecolor": "#2a3f5f",
             "gridcolor": "white",
             "linecolor": "white",
             "minorgridcolor": "white",
             "startlinecolor": "#2a3f5f"
            },
            "baxis": {
             "endlinecolor": "#2a3f5f",
             "gridcolor": "white",
             "linecolor": "white",
             "minorgridcolor": "white",
             "startlinecolor": "#2a3f5f"
            },
            "type": "carpet"
           }
          ],
          "choropleth": [
           {
            "colorbar": {
             "outlinewidth": 0,
             "ticks": ""
            },
            "type": "choropleth"
           }
          ],
          "contour": [
           {
            "colorbar": {
             "outlinewidth": 0,
             "ticks": ""
            },
            "colorscale": [
             [
              0,
              "#0d0887"
             ],
             [
              0.1111111111111111,
              "#46039f"
             ],
             [
              0.2222222222222222,
              "#7201a8"
             ],
             [
              0.3333333333333333,
              "#9c179e"
             ],
             [
              0.4444444444444444,
              "#bd3786"
             ],
             [
              0.5555555555555556,
              "#d8576b"
             ],
             [
              0.6666666666666666,
              "#ed7953"
             ],
             [
              0.7777777777777778,
              "#fb9f3a"
             ],
             [
              0.8888888888888888,
              "#fdca26"
             ],
             [
              1,
              "#f0f921"
             ]
            ],
            "type": "contour"
           }
          ],
          "contourcarpet": [
           {
            "colorbar": {
             "outlinewidth": 0,
             "ticks": ""
            },
            "type": "contourcarpet"
           }
          ],
          "heatmap": [
           {
            "colorbar": {
             "outlinewidth": 0,
             "ticks": ""
            },
            "colorscale": [
             [
              0,
              "#0d0887"
             ],
             [
              0.1111111111111111,
              "#46039f"
             ],
             [
              0.2222222222222222,
              "#7201a8"
             ],
             [
              0.3333333333333333,
              "#9c179e"
             ],
             [
              0.4444444444444444,
              "#bd3786"
             ],
             [
              0.5555555555555556,
              "#d8576b"
             ],
             [
              0.6666666666666666,
              "#ed7953"
             ],
             [
              0.7777777777777778,
              "#fb9f3a"
             ],
             [
              0.8888888888888888,
              "#fdca26"
             ],
             [
              1,
              "#f0f921"
             ]
            ],
            "type": "heatmap"
           }
          ],
          "histogram": [
           {
            "marker": {
             "pattern": {
              "fillmode": "overlay",
              "size": 10,
              "solidity": 0.2
             }
            },
            "type": "histogram"
           }
          ],
          "histogram2d": [
           {
            "colorbar": {
             "outlinewidth": 0,
             "ticks": ""
            },
            "colorscale": [
             [
              0,
              "#0d0887"
             ],
             [
              0.1111111111111111,
              "#46039f"
             ],
             [
              0.2222222222222222,
              "#7201a8"
             ],
             [
              0.3333333333333333,
              "#9c179e"
             ],
             [
              0.4444444444444444,
              "#bd3786"
             ],
             [
              0.5555555555555556,
              "#d8576b"
             ],
             [
              0.6666666666666666,
              "#ed7953"
             ],
             [
              0.7777777777777778,
              "#fb9f3a"
             ],
             [
              0.8888888888888888,
              "#fdca26"
             ],
             [
              1,
              "#f0f921"
             ]
            ],
            "type": "histogram2d"
           }
          ],
          "histogram2dcontour": [
           {
            "colorbar": {
             "outlinewidth": 0,
             "ticks": ""
            },
            "colorscale": [
             [
              0,
              "#0d0887"
             ],
             [
              0.1111111111111111,
              "#46039f"
             ],
             [
              0.2222222222222222,
              "#7201a8"
             ],
             [
              0.3333333333333333,
              "#9c179e"
             ],
             [
              0.4444444444444444,
              "#bd3786"
             ],
             [
              0.5555555555555556,
              "#d8576b"
             ],
             [
              0.6666666666666666,
              "#ed7953"
             ],
             [
              0.7777777777777778,
              "#fb9f3a"
             ],
             [
              0.8888888888888888,
              "#fdca26"
             ],
             [
              1,
              "#f0f921"
             ]
            ],
            "type": "histogram2dcontour"
           }
          ],
          "mesh3d": [
           {
            "colorbar": {
             "outlinewidth": 0,
             "ticks": ""
            },
            "type": "mesh3d"
           }
          ],
          "parcoords": [
           {
            "line": {
             "colorbar": {
              "outlinewidth": 0,
              "ticks": ""
             }
            },
            "type": "parcoords"
           }
          ],
          "pie": [
           {
            "automargin": true,
            "type": "pie"
           }
          ],
          "scatter": [
           {
            "fillpattern": {
             "fillmode": "overlay",
             "size": 10,
             "solidity": 0.2
            },
            "type": "scatter"
           }
          ],
          "scatter3d": [
           {
            "line": {
             "colorbar": {
              "outlinewidth": 0,
              "ticks": ""
             }
            },
            "marker": {
             "colorbar": {
              "outlinewidth": 0,
              "ticks": ""
             }
            },
            "type": "scatter3d"
           }
          ],
          "scattercarpet": [
           {
            "marker": {
             "colorbar": {
              "outlinewidth": 0,
              "ticks": ""
             }
            },
            "type": "scattercarpet"
           }
          ],
          "scattergeo": [
           {
            "marker": {
             "colorbar": {
              "outlinewidth": 0,
              "ticks": ""
             }
            },
            "type": "scattergeo"
           }
          ],
          "scattergl": [
           {
            "marker": {
             "colorbar": {
              "outlinewidth": 0,
              "ticks": ""
             }
            },
            "type": "scattergl"
           }
          ],
          "scattermap": [
           {
            "marker": {
             "colorbar": {
              "outlinewidth": 0,
              "ticks": ""
             }
            },
            "type": "scattermap"
           }
          ],
          "scattermapbox": [
           {
            "marker": {
             "colorbar": {
              "outlinewidth": 0,
              "ticks": ""
             }
            },
            "type": "scattermapbox"
           }
          ],
          "scatterpolar": [
           {
            "marker": {
             "colorbar": {
              "outlinewidth": 0,
              "ticks": ""
             }
            },
            "type": "scatterpolar"
           }
          ],
          "scatterpolargl": [
           {
            "marker": {
             "colorbar": {
              "outlinewidth": 0,
              "ticks": ""
             }
            },
            "type": "scatterpolargl"
           }
          ],
          "scatterternary": [
           {
            "marker": {
             "colorbar": {
              "outlinewidth": 0,
              "ticks": ""
             }
            },
            "type": "scatterternary"
           }
          ],
          "surface": [
           {
            "colorbar": {
             "outlinewidth": 0,
             "ticks": ""
            },
            "colorscale": [
             [
              0,
              "#0d0887"
             ],
             [
              0.1111111111111111,
              "#46039f"
             ],
             [
              0.2222222222222222,
              "#7201a8"
             ],
             [
              0.3333333333333333,
              "#9c179e"
             ],
             [
              0.4444444444444444,
              "#bd3786"
             ],
             [
              0.5555555555555556,
              "#d8576b"
             ],
             [
              0.6666666666666666,
              "#ed7953"
             ],
             [
              0.7777777777777778,
              "#fb9f3a"
             ],
             [
              0.8888888888888888,
              "#fdca26"
             ],
             [
              1,
              "#f0f921"
             ]
            ],
            "type": "surface"
           }
          ],
          "table": [
           {
            "cells": {
             "fill": {
              "color": "#EBF0F8"
             },
             "line": {
              "color": "white"
             }
            },
            "header": {
             "fill": {
              "color": "#C8D4E3"
             },
             "line": {
              "color": "white"
             }
            },
            "type": "table"
           }
          ]
         },
         "layout": {
          "annotationdefaults": {
           "arrowcolor": "#2a3f5f",
           "arrowhead": 0,
           "arrowwidth": 1
          },
          "autotypenumbers": "strict",
          "coloraxis": {
           "colorbar": {
            "outlinewidth": 0,
            "ticks": ""
           }
          },
          "colorscale": {
           "diverging": [
            [
             0,
             "#8e0152"
            ],
            [
             0.1,
             "#c51b7d"
            ],
            [
             0.2,
             "#de77ae"
            ],
            [
             0.3,
             "#f1b6da"
            ],
            [
             0.4,
             "#fde0ef"
            ],
            [
             0.5,
             "#f7f7f7"
            ],
            [
             0.6,
             "#e6f5d0"
            ],
            [
             0.7,
             "#b8e186"
            ],
            [
             0.8,
             "#7fbc41"
            ],
            [
             0.9,
             "#4d9221"
            ],
            [
             1,
             "#276419"
            ]
           ],
           "sequential": [
            [
             0,
             "#0d0887"
            ],
            [
             0.1111111111111111,
             "#46039f"
            ],
            [
             0.2222222222222222,
             "#7201a8"
            ],
            [
             0.3333333333333333,
             "#9c179e"
            ],
            [
             0.4444444444444444,
             "#bd3786"
            ],
            [
             0.5555555555555556,
             "#d8576b"
            ],
            [
             0.6666666666666666,
             "#ed7953"
            ],
            [
             0.7777777777777778,
             "#fb9f3a"
            ],
            [
             0.8888888888888888,
             "#fdca26"
            ],
            [
             1,
             "#f0f921"
            ]
           ],
           "sequentialminus": [
            [
             0,
             "#0d0887"
            ],
            [
             0.1111111111111111,
             "#46039f"
            ],
            [
             0.2222222222222222,
             "#7201a8"
            ],
            [
             0.3333333333333333,
             "#9c179e"
            ],
            [
             0.4444444444444444,
             "#bd3786"
            ],
            [
             0.5555555555555556,
             "#d8576b"
            ],
            [
             0.6666666666666666,
             "#ed7953"
            ],
            [
             0.7777777777777778,
             "#fb9f3a"
            ],
            [
             0.8888888888888888,
             "#fdca26"
            ],
            [
             1,
             "#f0f921"
            ]
           ]
          },
          "colorway": [
           "#636efa",
           "#EF553B",
           "#00cc96",
           "#ab63fa",
           "#FFA15A",
           "#19d3f3",
           "#FF6692",
           "#B6E880",
           "#FF97FF",
           "#FECB52"
          ],
          "font": {
           "color": "#2a3f5f"
          },
          "geo": {
           "bgcolor": "white",
           "lakecolor": "white",
           "landcolor": "#E5ECF6",
           "showlakes": true,
           "showland": true,
           "subunitcolor": "white"
          },
          "hoverlabel": {
           "align": "left"
          },
          "hovermode": "closest",
          "mapbox": {
           "style": "light"
          },
          "paper_bgcolor": "white",
          "plot_bgcolor": "#E5ECF6",
          "polar": {
           "angularaxis": {
            "gridcolor": "white",
            "linecolor": "white",
            "ticks": ""
           },
           "bgcolor": "#E5ECF6",
           "radialaxis": {
            "gridcolor": "white",
            "linecolor": "white",
            "ticks": ""
           }
          },
          "scene": {
           "xaxis": {
            "backgroundcolor": "#E5ECF6",
            "gridcolor": "white",
            "gridwidth": 2,
            "linecolor": "white",
            "showbackground": true,
            "ticks": "",
            "zerolinecolor": "white"
           },
           "yaxis": {
            "backgroundcolor": "#E5ECF6",
            "gridcolor": "white",
            "gridwidth": 2,
            "linecolor": "white",
            "showbackground": true,
            "ticks": "",
            "zerolinecolor": "white"
           },
           "zaxis": {
            "backgroundcolor": "#E5ECF6",
            "gridcolor": "white",
            "gridwidth": 2,
            "linecolor": "white",
            "showbackground": true,
            "ticks": "",
            "zerolinecolor": "white"
           }
          },
          "shapedefaults": {
           "line": {
            "color": "#2a3f5f"
           }
          },
          "ternary": {
           "aaxis": {
            "gridcolor": "white",
            "linecolor": "white",
            "ticks": ""
           },
           "baxis": {
            "gridcolor": "white",
            "linecolor": "white",
            "ticks": ""
           },
           "bgcolor": "#E5ECF6",
           "caxis": {
            "gridcolor": "white",
            "linecolor": "white",
            "ticks": ""
           }
          },
          "title": {
           "x": 0.05
          },
          "xaxis": {
           "automargin": true,
           "gridcolor": "white",
           "linecolor": "white",
           "ticks": "",
           "title": {
            "standoff": 15
           },
           "zerolinecolor": "white",
           "zerolinewidth": 2
          },
          "yaxis": {
           "automargin": true,
           "gridcolor": "white",
           "linecolor": "white",
           "ticks": "",
           "title": {
            "standoff": 15
           },
           "zerolinecolor": "white",
           "zerolinewidth": 2
          }
         }
        },
        "xaxis": {
         "anchor": "y",
         "domain": [
          0,
          0.31999999999999995
         ],
         "title": {
          "text": "nodes"
         }
        },
        "xaxis2": {
         "anchor": "y2",
         "domain": [
          0.33999999999999997,
          0.6599999999999999
         ],
         "matches": "x",
         "title": {
          "text": "nodes"
         }
        },
        "xaxis3": {
         "anchor": "y3",
         "domain": [
          0.6799999999999999,
          0.9999999999999999
         ],
         "matches": "x",
         "title": {
          "text": "nodes"
         }
        },
        "yaxis": {
         "anchor": "x",
         "domain": [
          0,
          1
         ],
         "title": {
          "text": "Flow capacity (kW)"
         }
        },
        "yaxis2": {
         "anchor": "x2",
         "domain": [
          0,
          1
         ],
         "matches": "y",
         "showticklabels": false
        },
        "yaxis3": {
         "anchor": "x3",
         "domain": [
          0,
          1
         ],
         "matches": "y",
         "showticklabels": false
        }
       }
      }
     },
     "metadata": {},
     "output_type": "display_data"
    }
   ],
   "source": [
    "df_capacity = (\n",
    "    model.results.flow_cap.where(\n",
    "        ~model.inputs.base_tech.str.contains(\"demand|transmission\")\n",
    "    )\n",
    "    .to_series()\n",
    "    .where(lambda x: x != 0)\n",
    "    .dropna()\n",
    "    .to_frame(\"Flow capacity (kW)\")\n",
    "    .reset_index()\n",
    ")\n",
    "\n",
    "print(df_capacity.head())\n",
    "\n",
    "fig = px.bar(\n",
    "    df_capacity,\n",
    "    x=\"nodes\",\n",
    "    y=\"Flow capacity (kW)\",\n",
    "    color=\"techs\",\n",
    "    facet_col=\"carriers\",\n",
    "    color_discrete_map=colors,\n",
    ")\n",
    "fig.show()"
   ]
  },
  {
   "cell_type": "markdown",
   "id": "148d838b",
   "metadata": {},
   "source": [
    "### Spatial plots\n",
    "Plotly express is limited in its ability to plot spatially,\n",
    "but we can at least plot the connections that exist in our results with capacity information available on hover.\n",
    "You will only see hover information for one carrier at a time.\n",
    "To see the other carrier's information, hide one carrier by clicking on its name in the legend."
   ]
  },
  {
   "cell_type": "code",
   "execution_count": 15,
   "id": "09111bea",
   "metadata": {},
   "outputs": [
    {
     "data": {
      "application/vnd.plotly.v1+json": {
       "config": {
        "plotlyServerURL": "https://plot.ly"
       },
       "data": [
        {
         "customdata": {
          "bdata": "/HD3lMPHZ0BDEpAH5MMkQFhRkOgByYFAWFGQ6AHJgUD8cPeUw8dnQEMSkAfkwyRA",
          "dtype": "f8",
          "shape": "6, 1"
         },
         "hovertemplate": "<b>%{hovertext}</b><br><br>carriers=heat<br>latitude=%{lat}<br>longitude=%{lon}<br>Flow capacity (kW)=%{customdata[0]}<extra></extra>",
         "hovertext": [
          "N1",
          "N1",
          "N1",
          "X1",
          "X2",
          "X3"
         ],
         "lat": {
          "bdata": "gZsgRfi4SUCBmyBF+LhJQIGbIEX4uElAydzGsNS6SUCOMFbljLtJQBbfq7HftklA",
          "dtype": "f8"
         },
         "legendgroup": "heat",
         "line": {
          "color": "#636efa"
         },
         "lon": {
          "bdata": "nHS224ntv7+cdLbbie2/v5x0ttuJ7b+/Dm8xmvCmxL+Yca68Pzm9v4iCGVOwxsC/",
          "dtype": "f8"
         },
         "mode": "lines",
         "name": "heat",
         "showlegend": true,
         "subplot": "map",
         "type": "scattermap"
        },
        {
         "customdata": {
          "bdata": "w72I7i8ocUAEN4iDoONGQMO9iO4vKHFABDeIg6DjRkA=",
          "dtype": "f8",
          "shape": "4, 1"
         },
         "hovertemplate": "<b>%{hovertext}</b><br><br>carriers=electricity<br>latitude=%{lat}<br>longitude=%{lon}<br>Flow capacity (kW)=%{customdata[0]}<extra></extra>",
         "hovertext": [
          "X1",
          "X1",
          "X2",
          "X3"
         ],
         "lat": {
          "bdata": "ydzGsNS6SUDJ3Maw1LpJQI4wVuWMu0lAFt+rsd+2SUA=",
          "dtype": "f8"
         },
         "legendgroup": "electricity",
         "line": {
          "color": "#EF553B"
         },
         "lon": {
          "bdata": "Dm8xmvCmxL8ObzGa8KbEv5hxrrw/Ob2/iIIZU7DGwL8=",
          "dtype": "f8"
         },
         "mode": "lines",
         "name": "electricity",
         "showlegend": true,
         "subplot": "map",
         "type": "scattermap"
        }
       ],
       "layout": {
        "height": 300,
        "hoverdistance": 50,
        "legend": {
         "title": {
          "text": "carriers"
         },
         "tracegroupgap": 0
        },
        "map": {
         "center": {
          "lat": 51.449657825,
          "lon": -0.1328203
         },
         "domain": {
          "x": [
           0,
           1
          ],
          "y": [
           0,
           1
          ]
         },
         "style": "open-street-map",
         "zoom": 11
        },
        "mapbox": {
         "center": {
          "lat": 51.45019550000001,
          "lon": -0.13486253
         },
         "zoom": 3
        },
        "margin": {
         "b": 0,
         "l": 0,
         "r": 0,
         "t": 0
        },
        "template": {
         "data": {
          "bar": [
           {
            "error_x": {
             "color": "#2a3f5f"
            },
            "error_y": {
             "color": "#2a3f5f"
            },
            "marker": {
             "line": {
              "color": "#E5ECF6",
              "width": 0.5
             },
             "pattern": {
              "fillmode": "overlay",
              "size": 10,
              "solidity": 0.2
             }
            },
            "type": "bar"
           }
          ],
          "barpolar": [
           {
            "marker": {
             "line": {
              "color": "#E5ECF6",
              "width": 0.5
             },
             "pattern": {
              "fillmode": "overlay",
              "size": 10,
              "solidity": 0.2
             }
            },
            "type": "barpolar"
           }
          ],
          "carpet": [
           {
            "aaxis": {
             "endlinecolor": "#2a3f5f",
             "gridcolor": "white",
             "linecolor": "white",
             "minorgridcolor": "white",
             "startlinecolor": "#2a3f5f"
            },
            "baxis": {
             "endlinecolor": "#2a3f5f",
             "gridcolor": "white",
             "linecolor": "white",
             "minorgridcolor": "white",
             "startlinecolor": "#2a3f5f"
            },
            "type": "carpet"
           }
          ],
          "choropleth": [
           {
            "colorbar": {
             "outlinewidth": 0,
             "ticks": ""
            },
            "type": "choropleth"
           }
          ],
          "contour": [
           {
            "colorbar": {
             "outlinewidth": 0,
             "ticks": ""
            },
            "colorscale": [
             [
              0,
              "#0d0887"
             ],
             [
              0.1111111111111111,
              "#46039f"
             ],
             [
              0.2222222222222222,
              "#7201a8"
             ],
             [
              0.3333333333333333,
              "#9c179e"
             ],
             [
              0.4444444444444444,
              "#bd3786"
             ],
             [
              0.5555555555555556,
              "#d8576b"
             ],
             [
              0.6666666666666666,
              "#ed7953"
             ],
             [
              0.7777777777777778,
              "#fb9f3a"
             ],
             [
              0.8888888888888888,
              "#fdca26"
             ],
             [
              1,
              "#f0f921"
             ]
            ],
            "type": "contour"
           }
          ],
          "contourcarpet": [
           {
            "colorbar": {
             "outlinewidth": 0,
             "ticks": ""
            },
            "type": "contourcarpet"
           }
          ],
          "heatmap": [
           {
            "colorbar": {
             "outlinewidth": 0,
             "ticks": ""
            },
            "colorscale": [
             [
              0,
              "#0d0887"
             ],
             [
              0.1111111111111111,
              "#46039f"
             ],
             [
              0.2222222222222222,
              "#7201a8"
             ],
             [
              0.3333333333333333,
              "#9c179e"
             ],
             [
              0.4444444444444444,
              "#bd3786"
             ],
             [
              0.5555555555555556,
              "#d8576b"
             ],
             [
              0.6666666666666666,
              "#ed7953"
             ],
             [
              0.7777777777777778,
              "#fb9f3a"
             ],
             [
              0.8888888888888888,
              "#fdca26"
             ],
             [
              1,
              "#f0f921"
             ]
            ],
            "type": "heatmap"
           }
          ],
          "histogram": [
           {
            "marker": {
             "pattern": {
              "fillmode": "overlay",
              "size": 10,
              "solidity": 0.2
             }
            },
            "type": "histogram"
           }
          ],
          "histogram2d": [
           {
            "colorbar": {
             "outlinewidth": 0,
             "ticks": ""
            },
            "colorscale": [
             [
              0,
              "#0d0887"
             ],
             [
              0.1111111111111111,
              "#46039f"
             ],
             [
              0.2222222222222222,
              "#7201a8"
             ],
             [
              0.3333333333333333,
              "#9c179e"
             ],
             [
              0.4444444444444444,
              "#bd3786"
             ],
             [
              0.5555555555555556,
              "#d8576b"
             ],
             [
              0.6666666666666666,
              "#ed7953"
             ],
             [
              0.7777777777777778,
              "#fb9f3a"
             ],
             [
              0.8888888888888888,
              "#fdca26"
             ],
             [
              1,
              "#f0f921"
             ]
            ],
            "type": "histogram2d"
           }
          ],
          "histogram2dcontour": [
           {
            "colorbar": {
             "outlinewidth": 0,
             "ticks": ""
            },
            "colorscale": [
             [
              0,
              "#0d0887"
             ],
             [
              0.1111111111111111,
              "#46039f"
             ],
             [
              0.2222222222222222,
              "#7201a8"
             ],
             [
              0.3333333333333333,
              "#9c179e"
             ],
             [
              0.4444444444444444,
              "#bd3786"
             ],
             [
              0.5555555555555556,
              "#d8576b"
             ],
             [
              0.6666666666666666,
              "#ed7953"
             ],
             [
              0.7777777777777778,
              "#fb9f3a"
             ],
             [
              0.8888888888888888,
              "#fdca26"
             ],
             [
              1,
              "#f0f921"
             ]
            ],
            "type": "histogram2dcontour"
           }
          ],
          "mesh3d": [
           {
            "colorbar": {
             "outlinewidth": 0,
             "ticks": ""
            },
            "type": "mesh3d"
           }
          ],
          "parcoords": [
           {
            "line": {
             "colorbar": {
              "outlinewidth": 0,
              "ticks": ""
             }
            },
            "type": "parcoords"
           }
          ],
          "pie": [
           {
            "automargin": true,
            "type": "pie"
           }
          ],
          "scatter": [
           {
            "fillpattern": {
             "fillmode": "overlay",
             "size": 10,
             "solidity": 0.2
            },
            "type": "scatter"
           }
          ],
          "scatter3d": [
           {
            "line": {
             "colorbar": {
              "outlinewidth": 0,
              "ticks": ""
             }
            },
            "marker": {
             "colorbar": {
              "outlinewidth": 0,
              "ticks": ""
             }
            },
            "type": "scatter3d"
           }
          ],
          "scattercarpet": [
           {
            "marker": {
             "colorbar": {
              "outlinewidth": 0,
              "ticks": ""
             }
            },
            "type": "scattercarpet"
           }
          ],
          "scattergeo": [
           {
            "marker": {
             "colorbar": {
              "outlinewidth": 0,
              "ticks": ""
             }
            },
            "type": "scattergeo"
           }
          ],
          "scattergl": [
           {
            "marker": {
             "colorbar": {
              "outlinewidth": 0,
              "ticks": ""
             }
            },
            "type": "scattergl"
           }
          ],
          "scattermap": [
           {
            "marker": {
             "colorbar": {
              "outlinewidth": 0,
              "ticks": ""
             }
            },
            "type": "scattermap"
           }
          ],
          "scattermapbox": [
           {
            "marker": {
             "colorbar": {
              "outlinewidth": 0,
              "ticks": ""
             }
            },
            "type": "scattermapbox"
           }
          ],
          "scatterpolar": [
           {
            "marker": {
             "colorbar": {
              "outlinewidth": 0,
              "ticks": ""
             }
            },
            "type": "scatterpolar"
           }
          ],
          "scatterpolargl": [
           {
            "marker": {
             "colorbar": {
              "outlinewidth": 0,
              "ticks": ""
             }
            },
            "type": "scatterpolargl"
           }
          ],
          "scatterternary": [
           {
            "marker": {
             "colorbar": {
              "outlinewidth": 0,
              "ticks": ""
             }
            },
            "type": "scatterternary"
           }
          ],
          "surface": [
           {
            "colorbar": {
             "outlinewidth": 0,
             "ticks": ""
            },
            "colorscale": [
             [
              0,
              "#0d0887"
             ],
             [
              0.1111111111111111,
              "#46039f"
             ],
             [
              0.2222222222222222,
              "#7201a8"
             ],
             [
              0.3333333333333333,
              "#9c179e"
             ],
             [
              0.4444444444444444,
              "#bd3786"
             ],
             [
              0.5555555555555556,
              "#d8576b"
             ],
             [
              0.6666666666666666,
              "#ed7953"
             ],
             [
              0.7777777777777778,
              "#fb9f3a"
             ],
             [
              0.8888888888888888,
              "#fdca26"
             ],
             [
              1,
              "#f0f921"
             ]
            ],
            "type": "surface"
           }
          ],
          "table": [
           {
            "cells": {
             "fill": {
              "color": "#EBF0F8"
             },
             "line": {
              "color": "white"
             }
            },
            "header": {
             "fill": {
              "color": "#C8D4E3"
             },
             "line": {
              "color": "white"
             }
            },
            "type": "table"
           }
          ]
         },
         "layout": {
          "annotationdefaults": {
           "arrowcolor": "#2a3f5f",
           "arrowhead": 0,
           "arrowwidth": 1
          },
          "autotypenumbers": "strict",
          "coloraxis": {
           "colorbar": {
            "outlinewidth": 0,
            "ticks": ""
           }
          },
          "colorscale": {
           "diverging": [
            [
             0,
             "#8e0152"
            ],
            [
             0.1,
             "#c51b7d"
            ],
            [
             0.2,
             "#de77ae"
            ],
            [
             0.3,
             "#f1b6da"
            ],
            [
             0.4,
             "#fde0ef"
            ],
            [
             0.5,
             "#f7f7f7"
            ],
            [
             0.6,
             "#e6f5d0"
            ],
            [
             0.7,
             "#b8e186"
            ],
            [
             0.8,
             "#7fbc41"
            ],
            [
             0.9,
             "#4d9221"
            ],
            [
             1,
             "#276419"
            ]
           ],
           "sequential": [
            [
             0,
             "#0d0887"
            ],
            [
             0.1111111111111111,
             "#46039f"
            ],
            [
             0.2222222222222222,
             "#7201a8"
            ],
            [
             0.3333333333333333,
             "#9c179e"
            ],
            [
             0.4444444444444444,
             "#bd3786"
            ],
            [
             0.5555555555555556,
             "#d8576b"
            ],
            [
             0.6666666666666666,
             "#ed7953"
            ],
            [
             0.7777777777777778,
             "#fb9f3a"
            ],
            [
             0.8888888888888888,
             "#fdca26"
            ],
            [
             1,
             "#f0f921"
            ]
           ],
           "sequentialminus": [
            [
             0,
             "#0d0887"
            ],
            [
             0.1111111111111111,
             "#46039f"
            ],
            [
             0.2222222222222222,
             "#7201a8"
            ],
            [
             0.3333333333333333,
             "#9c179e"
            ],
            [
             0.4444444444444444,
             "#bd3786"
            ],
            [
             0.5555555555555556,
             "#d8576b"
            ],
            [
             0.6666666666666666,
             "#ed7953"
            ],
            [
             0.7777777777777778,
             "#fb9f3a"
            ],
            [
             0.8888888888888888,
             "#fdca26"
            ],
            [
             1,
             "#f0f921"
            ]
           ]
          },
          "colorway": [
           "#636efa",
           "#EF553B",
           "#00cc96",
           "#ab63fa",
           "#FFA15A",
           "#19d3f3",
           "#FF6692",
           "#B6E880",
           "#FF97FF",
           "#FECB52"
          ],
          "font": {
           "color": "#2a3f5f"
          },
          "geo": {
           "bgcolor": "white",
           "lakecolor": "white",
           "landcolor": "#E5ECF6",
           "showlakes": true,
           "showland": true,
           "subunitcolor": "white"
          },
          "hoverlabel": {
           "align": "left"
          },
          "hovermode": "closest",
          "mapbox": {
           "style": "light"
          },
          "paper_bgcolor": "white",
          "plot_bgcolor": "#E5ECF6",
          "polar": {
           "angularaxis": {
            "gridcolor": "white",
            "linecolor": "white",
            "ticks": ""
           },
           "bgcolor": "#E5ECF6",
           "radialaxis": {
            "gridcolor": "white",
            "linecolor": "white",
            "ticks": ""
           }
          },
          "scene": {
           "xaxis": {
            "backgroundcolor": "#E5ECF6",
            "gridcolor": "white",
            "gridwidth": 2,
            "linecolor": "white",
            "showbackground": true,
            "ticks": "",
            "zerolinecolor": "white"
           },
           "yaxis": {
            "backgroundcolor": "#E5ECF6",
            "gridcolor": "white",
            "gridwidth": 2,
            "linecolor": "white",
            "showbackground": true,
            "ticks": "",
            "zerolinecolor": "white"
           },
           "zaxis": {
            "backgroundcolor": "#E5ECF6",
            "gridcolor": "white",
            "gridwidth": 2,
            "linecolor": "white",
            "showbackground": true,
            "ticks": "",
            "zerolinecolor": "white"
           }
          },
          "shapedefaults": {
           "line": {
            "color": "#2a3f5f"
           }
          },
          "ternary": {
           "aaxis": {
            "gridcolor": "white",
            "linecolor": "white",
            "ticks": ""
           },
           "baxis": {
            "gridcolor": "white",
            "linecolor": "white",
            "ticks": ""
           },
           "bgcolor": "#E5ECF6",
           "caxis": {
            "gridcolor": "white",
            "linecolor": "white",
            "ticks": ""
           }
          },
          "title": {
           "x": 0.05
          },
          "xaxis": {
           "automargin": true,
           "gridcolor": "white",
           "linecolor": "white",
           "ticks": "",
           "title": {
            "standoff": 15
           },
           "zerolinecolor": "white",
           "zerolinewidth": 2
          },
          "yaxis": {
           "automargin": true,
           "gridcolor": "white",
           "linecolor": "white",
           "ticks": "",
           "title": {
            "standoff": 15
           },
           "zerolinecolor": "white",
           "zerolinewidth": 2
          }
         }
        }
       }
      }
     },
     "metadata": {},
     "output_type": "display_data"
    }
   ],
   "source": [
    "df_coords = model.inputs[[\"latitude\", \"longitude\"]].to_dataframe().reset_index()\n",
    "df_capacity = (\n",
    "    model.results.flow_cap.where(model.inputs.base_tech == \"transmission\")\n",
    "    .to_series()\n",
    "    .where(lambda x: x != 0)\n",
    "    .dropna()\n",
    "    .to_frame(\"Flow capacity (kW)\")\n",
    "    .reset_index()\n",
    ")\n",
    "df_capacity_coords = pd.merge(df_coords, df_capacity, left_on=\"nodes\", right_on=\"nodes\")\n",
    "\n",
    "fig = px.line_map(\n",
    "    df_capacity_coords,\n",
    "    lat=\"latitude\",\n",
    "    lon=\"longitude\",\n",
    "    color=\"carriers\",\n",
    "    hover_name=\"nodes\",\n",
    "    hover_data=\"Flow capacity (kW)\",\n",
    "    zoom=3,\n",
    "    height=300,\n",
    ")\n",
    "fig.update_layout(\n",
    "    map_style=\"open-street-map\",\n",
    "    map_zoom=11,\n",
    "    map_center_lat=df_coords.latitude.mean(),\n",
    "    map_center_lon=df_coords.longitude.mean(),\n",
    "    margin={\"r\": 0, \"t\": 0, \"l\": 0, \"b\": 0},\n",
    "    hoverdistance=50,\n",
    ")"
   ]
  },
  {
   "cell_type": "markdown",
   "id": "cbb3287c",
   "metadata": {},
   "source": [
    "---"
   ]
  },
  {
   "cell_type": "markdown",
   "id": "735a5466",
   "metadata": {},
   "source": [
    "See the [Calliope documentation](https://calliope.readthedocs.io/) for more details on setting up and running a Calliope model."
   ]
  }
 ],
 "metadata": {
  "jupytext": {
   "custom_cell_magics": "kql"
  },
  "kernelspec": {
   "display_name": "calliope",
   "language": "python",
   "name": "python3"
  },
  "language_info": {
   "codemirror_mode": {
    "name": "ipython",
    "version": 3
   },
   "file_extension": ".py",
   "mimetype": "text/x-python",
   "name": "python",
   "nbconvert_exporter": "python",
   "pygments_lexer": "ipython3",
   "version": "3.12.11"
  }
 },
 "nbformat": 4,
 "nbformat_minor": 5
}
