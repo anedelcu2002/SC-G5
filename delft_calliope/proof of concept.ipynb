{
 "cells": [
  {
   "cell_type": "code",
   "execution_count": 247,
   "id": "f1f4008b",
   "metadata": {},
   "outputs": [
    {
     "name": "stdout",
     "output_type": "stream",
     "text": [
      "[2025-10-13 10:05:20] INFO     Math init | loading pre-defined math.\n"
     ]
    },
    {
     "name": "stdout",
     "output_type": "stream",
     "text": [
      "[2025-10-13 10:05:20] INFO     Math init | loading math files {'spores', 'storage_inter_cluster', 'operate', 'milp', 'base'}.\n",
      "[2025-10-13 10:05:20] INFO     Model: preprocessing data\n",
      "[2025-10-13 10:05:20] INFO     Math build | building applied math with ['base'].\n",
      "[2025-10-13 10:05:21] INFO     input data `color` not defined in model math; it will not be available in the optimisation problem.\n",
      "[2025-10-13 10:05:21] INFO     input data `name` not defined in model math; it will not be available in the optimisation problem.\n",
      "[2025-10-13 10:05:21] WARNING  ModelWarning: Only one timestep defined. Inferring timestep resolution to be 1 hour\n",
      "\n",
      "[2025-10-13 10:05:21] INFO     input data `color` not defined in model math; it will not be available in the optimisation problem.\n",
      "[2025-10-13 10:05:21] INFO     input data `name` not defined in model math; it will not be available in the optimisation problem.\n",
      "[2025-10-13 10:05:21] INFO     Model: initialisation complete\n"
     ]
    }
   ],
   "source": [
    "import pandas as pd\n",
    "import plotly.express as px\n",
    "import plotly.graph_objects as go\n",
    "\n",
    "import calliope\n",
    "\n",
    "# We increase logging verbosity\n",
    "calliope.set_log_verbosity(\"INFO\", include_solver_output=False)\n",
    "\n",
    "model = calliope.read_yaml(\"model.yaml\")"
   ]
  },
  {
   "cell_type": "code",
   "execution_count": 248,
   "id": "545139f6",
   "metadata": {},
   "outputs": [
    {
     "data": {
      "text/html": [
       "<div><svg style=\"position: absolute; width: 0; height: 0; overflow: hidden\">\n",
       "<defs>\n",
       "<symbol id=\"icon-database\" viewBox=\"0 0 32 32\">\n",
       "<path d=\"M16 0c-8.837 0-16 2.239-16 5v4c0 2.761 7.163 5 16 5s16-2.239 16-5v-4c0-2.761-7.163-5-16-5z\"></path>\n",
       "<path d=\"M16 17c-8.837 0-16-2.239-16-5v6c0 2.761 7.163 5 16 5s16-2.239 16-5v-6c0 2.761-7.163 5-16 5z\"></path>\n",
       "<path d=\"M16 26c-8.837 0-16-2.239-16-5v6c0 2.761 7.163 5 16 5s16-2.239 16-5v-6c0 2.761-7.163 5-16 5z\"></path>\n",
       "</symbol>\n",
       "<symbol id=\"icon-file-text2\" viewBox=\"0 0 32 32\">\n",
       "<path d=\"M28.681 7.159c-0.694-0.947-1.662-2.053-2.724-3.116s-2.169-2.030-3.116-2.724c-1.612-1.182-2.393-1.319-2.841-1.319h-15.5c-1.378 0-2.5 1.121-2.5 2.5v27c0 1.378 1.122 2.5 2.5 2.5h23c1.378 0 2.5-1.122 2.5-2.5v-19.5c0-0.448-0.137-1.23-1.319-2.841zM24.543 5.457c0.959 0.959 1.712 1.825 2.268 2.543h-4.811v-4.811c0.718 0.556 1.584 1.309 2.543 2.268zM28 29.5c0 0.271-0.229 0.5-0.5 0.5h-23c-0.271 0-0.5-0.229-0.5-0.5v-27c0-0.271 0.229-0.5 0.5-0.5 0 0 15.499-0 15.5 0v7c0 0.552 0.448 1 1 1h7v19.5z\"></path>\n",
       "<path d=\"M23 26h-14c-0.552 0-1-0.448-1-1s0.448-1 1-1h14c0.552 0 1 0.448 1 1s-0.448 1-1 1z\"></path>\n",
       "<path d=\"M23 22h-14c-0.552 0-1-0.448-1-1s0.448-1 1-1h14c0.552 0 1 0.448 1 1s-0.448 1-1 1z\"></path>\n",
       "<path d=\"M23 18h-14c-0.552 0-1-0.448-1-1s0.448-1 1-1h14c0.552 0 1 0.448 1 1s-0.448 1-1 1z\"></path>\n",
       "</symbol>\n",
       "</defs>\n",
       "</svg>\n",
       "<style>/* CSS stylesheet for displaying xarray objects in jupyterlab.\n",
       " *\n",
       " */\n",
       "\n",
       ":root {\n",
       "  --xr-font-color0: var(--jp-content-font-color0, rgba(0, 0, 0, 1));\n",
       "  --xr-font-color2: var(--jp-content-font-color2, rgba(0, 0, 0, 0.54));\n",
       "  --xr-font-color3: var(--jp-content-font-color3, rgba(0, 0, 0, 0.38));\n",
       "  --xr-border-color: var(--jp-border-color2, #e0e0e0);\n",
       "  --xr-disabled-color: var(--jp-layout-color3, #bdbdbd);\n",
       "  --xr-background-color: var(--jp-layout-color0, white);\n",
       "  --xr-background-color-row-even: var(--jp-layout-color1, white);\n",
       "  --xr-background-color-row-odd: var(--jp-layout-color2, #eeeeee);\n",
       "}\n",
       "\n",
       "html[theme=dark],\n",
       "body[data-theme=dark],\n",
       "body.vscode-dark {\n",
       "  --xr-font-color0: rgba(255, 255, 255, 1);\n",
       "  --xr-font-color2: rgba(255, 255, 255, 0.54);\n",
       "  --xr-font-color3: rgba(255, 255, 255, 0.38);\n",
       "  --xr-border-color: #1F1F1F;\n",
       "  --xr-disabled-color: #515151;\n",
       "  --xr-background-color: #111111;\n",
       "  --xr-background-color-row-even: #111111;\n",
       "  --xr-background-color-row-odd: #313131;\n",
       "}\n",
       "\n",
       ".xr-wrap {\n",
       "  display: block !important;\n",
       "  min-width: 300px;\n",
       "  max-width: 700px;\n",
       "}\n",
       "\n",
       ".xr-text-repr-fallback {\n",
       "  /* fallback to plain text repr when CSS is not injected (untrusted notebook) */\n",
       "  display: none;\n",
       "}\n",
       "\n",
       ".xr-header {\n",
       "  padding-top: 6px;\n",
       "  padding-bottom: 6px;\n",
       "  margin-bottom: 4px;\n",
       "  border-bottom: solid 1px var(--xr-border-color);\n",
       "}\n",
       "\n",
       ".xr-header > div,\n",
       ".xr-header > ul {\n",
       "  display: inline;\n",
       "  margin-top: 0;\n",
       "  margin-bottom: 0;\n",
       "}\n",
       "\n",
       ".xr-obj-type,\n",
       ".xr-array-name {\n",
       "  margin-left: 2px;\n",
       "  margin-right: 10px;\n",
       "}\n",
       "\n",
       ".xr-obj-type {\n",
       "  color: var(--xr-font-color2);\n",
       "}\n",
       "\n",
       ".xr-sections {\n",
       "  padding-left: 0 !important;\n",
       "  display: grid;\n",
       "  grid-template-columns: 150px auto auto 1fr 20px 20px;\n",
       "}\n",
       "\n",
       ".xr-section-item {\n",
       "  display: contents;\n",
       "}\n",
       "\n",
       ".xr-section-item input {\n",
       "  display: none;\n",
       "}\n",
       "\n",
       ".xr-section-item input + label {\n",
       "  color: var(--xr-disabled-color);\n",
       "}\n",
       "\n",
       ".xr-section-item input:enabled + label {\n",
       "  cursor: pointer;\n",
       "  color: var(--xr-font-color2);\n",
       "}\n",
       "\n",
       ".xr-section-item input:enabled + label:hover {\n",
       "  color: var(--xr-font-color0);\n",
       "}\n",
       "\n",
       ".xr-section-summary {\n",
       "  grid-column: 1;\n",
       "  color: var(--xr-font-color2);\n",
       "  font-weight: 500;\n",
       "}\n",
       "\n",
       ".xr-section-summary > span {\n",
       "  display: inline-block;\n",
       "  padding-left: 0.5em;\n",
       "}\n",
       "\n",
       ".xr-section-summary-in:disabled + label {\n",
       "  color: var(--xr-font-color2);\n",
       "}\n",
       "\n",
       ".xr-section-summary-in + label:before {\n",
       "  display: inline-block;\n",
       "  content: '►';\n",
       "  font-size: 11px;\n",
       "  width: 15px;\n",
       "  text-align: center;\n",
       "}\n",
       "\n",
       ".xr-section-summary-in:disabled + label:before {\n",
       "  color: var(--xr-disabled-color);\n",
       "}\n",
       "\n",
       ".xr-section-summary-in:checked + label:before {\n",
       "  content: '▼';\n",
       "}\n",
       "\n",
       ".xr-section-summary-in:checked + label > span {\n",
       "  display: none;\n",
       "}\n",
       "\n",
       ".xr-section-summary,\n",
       ".xr-section-inline-details {\n",
       "  padding-top: 4px;\n",
       "  padding-bottom: 4px;\n",
       "}\n",
       "\n",
       ".xr-section-inline-details {\n",
       "  grid-column: 2 / -1;\n",
       "}\n",
       "\n",
       ".xr-section-details {\n",
       "  display: none;\n",
       "  grid-column: 1 / -1;\n",
       "  margin-bottom: 5px;\n",
       "}\n",
       "\n",
       ".xr-section-summary-in:checked ~ .xr-section-details {\n",
       "  display: contents;\n",
       "}\n",
       "\n",
       ".xr-array-wrap {\n",
       "  grid-column: 1 / -1;\n",
       "  display: grid;\n",
       "  grid-template-columns: 20px auto;\n",
       "}\n",
       "\n",
       ".xr-array-wrap > label {\n",
       "  grid-column: 1;\n",
       "  vertical-align: top;\n",
       "}\n",
       "\n",
       ".xr-preview {\n",
       "  color: var(--xr-font-color3);\n",
       "}\n",
       "\n",
       ".xr-array-preview,\n",
       ".xr-array-data {\n",
       "  padding: 0 5px !important;\n",
       "  grid-column: 2;\n",
       "}\n",
       "\n",
       ".xr-array-data,\n",
       ".xr-array-in:checked ~ .xr-array-preview {\n",
       "  display: none;\n",
       "}\n",
       "\n",
       ".xr-array-in:checked ~ .xr-array-data,\n",
       ".xr-array-preview {\n",
       "  display: inline-block;\n",
       "}\n",
       "\n",
       ".xr-dim-list {\n",
       "  display: inline-block !important;\n",
       "  list-style: none;\n",
       "  padding: 0 !important;\n",
       "  margin: 0;\n",
       "}\n",
       "\n",
       ".xr-dim-list li {\n",
       "  display: inline-block;\n",
       "  padding: 0;\n",
       "  margin: 0;\n",
       "}\n",
       "\n",
       ".xr-dim-list:before {\n",
       "  content: '(';\n",
       "}\n",
       "\n",
       ".xr-dim-list:after {\n",
       "  content: ')';\n",
       "}\n",
       "\n",
       ".xr-dim-list li:not(:last-child):after {\n",
       "  content: ',';\n",
       "  padding-right: 5px;\n",
       "}\n",
       "\n",
       ".xr-has-index {\n",
       "  font-weight: bold;\n",
       "}\n",
       "\n",
       ".xr-var-list,\n",
       ".xr-var-item {\n",
       "  display: contents;\n",
       "}\n",
       "\n",
       ".xr-var-item > div,\n",
       ".xr-var-item label,\n",
       ".xr-var-item > .xr-var-name span {\n",
       "  background-color: var(--xr-background-color-row-even);\n",
       "  margin-bottom: 0;\n",
       "}\n",
       "\n",
       ".xr-var-item > .xr-var-name:hover span {\n",
       "  padding-right: 5px;\n",
       "}\n",
       "\n",
       ".xr-var-list > li:nth-child(odd) > div,\n",
       ".xr-var-list > li:nth-child(odd) > label,\n",
       ".xr-var-list > li:nth-child(odd) > .xr-var-name span {\n",
       "  background-color: var(--xr-background-color-row-odd);\n",
       "}\n",
       "\n",
       ".xr-var-name {\n",
       "  grid-column: 1;\n",
       "}\n",
       "\n",
       ".xr-var-dims {\n",
       "  grid-column: 2;\n",
       "}\n",
       "\n",
       ".xr-var-dtype {\n",
       "  grid-column: 3;\n",
       "  text-align: right;\n",
       "  color: var(--xr-font-color2);\n",
       "}\n",
       "\n",
       ".xr-var-preview {\n",
       "  grid-column: 4;\n",
       "}\n",
       "\n",
       ".xr-index-preview {\n",
       "  grid-column: 2 / 5;\n",
       "  color: var(--xr-font-color2);\n",
       "}\n",
       "\n",
       ".xr-var-name,\n",
       ".xr-var-dims,\n",
       ".xr-var-dtype,\n",
       ".xr-preview,\n",
       ".xr-attrs dt {\n",
       "  white-space: nowrap;\n",
       "  overflow: hidden;\n",
       "  text-overflow: ellipsis;\n",
       "  padding-right: 10px;\n",
       "}\n",
       "\n",
       ".xr-var-name:hover,\n",
       ".xr-var-dims:hover,\n",
       ".xr-var-dtype:hover,\n",
       ".xr-attrs dt:hover {\n",
       "  overflow: visible;\n",
       "  width: auto;\n",
       "  z-index: 1;\n",
       "}\n",
       "\n",
       ".xr-var-attrs,\n",
       ".xr-var-data,\n",
       ".xr-index-data {\n",
       "  display: none;\n",
       "  background-color: var(--xr-background-color) !important;\n",
       "  padding-bottom: 5px !important;\n",
       "}\n",
       "\n",
       ".xr-var-attrs-in:checked ~ .xr-var-attrs,\n",
       ".xr-var-data-in:checked ~ .xr-var-data,\n",
       ".xr-index-data-in:checked ~ .xr-index-data {\n",
       "  display: block;\n",
       "}\n",
       "\n",
       ".xr-var-data > table {\n",
       "  float: right;\n",
       "}\n",
       "\n",
       ".xr-var-name span,\n",
       ".xr-var-data,\n",
       ".xr-index-name div,\n",
       ".xr-index-data,\n",
       ".xr-attrs {\n",
       "  padding-left: 25px !important;\n",
       "}\n",
       "\n",
       ".xr-attrs,\n",
       ".xr-var-attrs,\n",
       ".xr-var-data,\n",
       ".xr-index-data {\n",
       "  grid-column: 1 / -1;\n",
       "}\n",
       "\n",
       "dl.xr-attrs {\n",
       "  padding: 0;\n",
       "  margin: 0;\n",
       "  display: grid;\n",
       "  grid-template-columns: 125px auto;\n",
       "}\n",
       "\n",
       ".xr-attrs dt,\n",
       ".xr-attrs dd {\n",
       "  padding: 0;\n",
       "  margin: 0;\n",
       "  float: left;\n",
       "  padding-right: 10px;\n",
       "  width: auto;\n",
       "}\n",
       "\n",
       ".xr-attrs dt {\n",
       "  font-weight: normal;\n",
       "  grid-column: 1;\n",
       "}\n",
       "\n",
       ".xr-attrs dt:hover span {\n",
       "  display: inline-block;\n",
       "  background: var(--xr-background-color);\n",
       "  padding-right: 10px;\n",
       "}\n",
       "\n",
       ".xr-attrs dd {\n",
       "  grid-column: 2;\n",
       "  white-space: pre-wrap;\n",
       "  word-break: break-all;\n",
       "}\n",
       "\n",
       ".xr-icon-database,\n",
       ".xr-icon-file-text2,\n",
       ".xr-no-icon {\n",
       "  display: inline-block;\n",
       "  vertical-align: middle;\n",
       "  width: 1em;\n",
       "  height: 1.5em !important;\n",
       "  stroke-width: 0;\n",
       "  stroke: currentColor;\n",
       "  fill: currentColor;\n",
       "}\n",
       "</style><pre class='xr-text-repr-fallback'>&lt;xarray.Dataset&gt; Size: 3kB\n",
       "Dimensions:                     (costs: 1, techs: 10, nodes: 6, carriers: 2,\n",
       "                                 timesteps: 1)\n",
       "Coordinates:\n",
       "  * costs                       (costs) object 8B &#x27;monetary&#x27;\n",
       "  * techs                       (techs) object 80B &#x27;E1_to_D1&#x27; ... &#x27;supply_gri...\n",
       "  * carriers                    (carriers) object 16B &#x27;electricity&#x27; &#x27;heat&#x27;\n",
       "  * nodes                       (nodes) object 48B &#x27;D1&#x27; &#x27;D2&#x27; &#x27;E1&#x27; &#x27;H1&#x27; &#x27;S1&#x27; &#x27;S2&#x27;\n",
       "  * timesteps                   (timesteps) datetime64[ns] 8B 2050-01-01\n",
       "Data variables: (12/23)\n",
       "    cost_interest_rate          (costs) float64 8B 0.1\n",
       "    bigM                        float64 8B 1e+06\n",
       "    objective_cost_weights      (costs) float64 8B 1.0\n",
       "    base_tech                   (techs) object 80B &#x27;transmission&#x27; ... &#x27;supply&#x27;\n",
       "    carrier_in                  (nodes, techs, carriers) bool 120B True ... F...\n",
       "    color                       (techs) object 80B &#x27;#6783E3&#x27; ... &#x27;#C5ABE3&#x27;\n",
       "    ...                          ...\n",
       "    longitude                   (nodes) float64 48B 4.361 4.362 ... 4.356 4.357\n",
       "    sink_use_equals             (timesteps, techs, nodes) float64 480B nan .....\n",
       "    definition_matrix           (nodes, techs, carriers) bool 120B True ... F...\n",
       "    distance                    (techs) float64 80B 0.1734 0.2448 ... nan nan\n",
       "    timestep_resolution         (timesteps) float64 8B 1.0\n",
       "    timestep_weights            (timesteps) float64 8B 1.0</pre><div class='xr-wrap' style='display:none'><div class='xr-header'><div class='xr-obj-type'>xarray.Dataset</div></div><ul class='xr-sections'><li class='xr-section-item'><input id='section-1f0b1da9-92df-42df-ab71-34bcd4b40fec' class='xr-section-summary-in' type='checkbox' disabled ><label for='section-1f0b1da9-92df-42df-ab71-34bcd4b40fec' class='xr-section-summary'  title='Expand/collapse section'>Dimensions:</label><div class='xr-section-inline-details'><ul class='xr-dim-list'><li><span class='xr-has-index'>costs</span>: 1</li><li><span class='xr-has-index'>techs</span>: 10</li><li><span class='xr-has-index'>nodes</span>: 6</li><li><span class='xr-has-index'>carriers</span>: 2</li><li><span class='xr-has-index'>timesteps</span>: 1</li></ul></div><div class='xr-section-details'></div></li><li class='xr-section-item'><input id='section-d073a169-e3f6-4e98-a139-5fa81a071b71' class='xr-section-summary-in' type='checkbox'  checked><label for='section-d073a169-e3f6-4e98-a139-5fa81a071b71' class='xr-section-summary' >Coordinates: <span>(5)</span></label><div class='xr-section-inline-details'></div><div class='xr-section-details'><ul class='xr-var-list'><li class='xr-var-item'><div class='xr-var-name'><span class='xr-has-index'>costs</span></div><div class='xr-var-dims'>(costs)</div><div class='xr-var-dtype'>object</div><div class='xr-var-preview xr-preview'>&#x27;monetary&#x27;</div><input id='attrs-82e8cb82-0095-4639-9df2-a82070b10ec0' class='xr-var-attrs-in' type='checkbox' disabled><label for='attrs-82e8cb82-0095-4639-9df2-a82070b10ec0' title='Show/Hide attributes'><svg class='icon xr-icon-file-text2'><use xlink:href='#icon-file-text2'></use></svg></label><input id='data-4ee9c656-d448-4983-8d16-6e8be9a03160' class='xr-var-data-in' type='checkbox'><label for='data-4ee9c656-d448-4983-8d16-6e8be9a03160' title='Show/Hide data repr'><svg class='icon xr-icon-database'><use xlink:href='#icon-database'></use></svg></label><div class='xr-var-attrs'><dl class='xr-attrs'></dl></div><div class='xr-var-data'><pre>array([&#x27;monetary&#x27;], dtype=object)</pre></div></li><li class='xr-var-item'><div class='xr-var-name'><span class='xr-has-index'>techs</span></div><div class='xr-var-dims'>(techs)</div><div class='xr-var-dtype'>object</div><div class='xr-var-preview xr-preview'>&#x27;E1_to_D1&#x27; ... &#x27;supply_grid_power&#x27;</div><input id='attrs-85491fff-b336-40f2-a013-1ad07a001c96' class='xr-var-attrs-in' type='checkbox' disabled><label for='attrs-85491fff-b336-40f2-a013-1ad07a001c96' title='Show/Hide attributes'><svg class='icon xr-icon-file-text2'><use xlink:href='#icon-file-text2'></use></svg></label><input id='data-e22d910f-ddca-40c3-bf26-261cd373a446' class='xr-var-data-in' type='checkbox'><label for='data-e22d910f-ddca-40c3-bf26-261cd373a446' title='Show/Hide data repr'><svg class='icon xr-icon-database'><use xlink:href='#icon-database'></use></svg></label><div class='xr-var-attrs'><dl class='xr-attrs'></dl></div><div class='xr-var-data'><pre>array([&#x27;E1_to_D1&#x27;, &#x27;E1_to_D2&#x27;, &#x27;H1_to_D1&#x27;, &#x27;H1_to_D2&#x27;, &#x27;S1_to_H1&#x27;, &#x27;S2_to_E1&#x27;,\n",
       "       &#x27;demand_heat&#x27;, &#x27;heatpump&#x27;, &#x27;supply_geothermal&#x27;, &#x27;supply_grid_power&#x27;],\n",
       "      dtype=object)</pre></div></li><li class='xr-var-item'><div class='xr-var-name'><span class='xr-has-index'>carriers</span></div><div class='xr-var-dims'>(carriers)</div><div class='xr-var-dtype'>object</div><div class='xr-var-preview xr-preview'>&#x27;electricity&#x27; &#x27;heat&#x27;</div><input id='attrs-f45ab694-297e-4e42-bf33-17c9dfbce50c' class='xr-var-attrs-in' type='checkbox' disabled><label for='attrs-f45ab694-297e-4e42-bf33-17c9dfbce50c' title='Show/Hide attributes'><svg class='icon xr-icon-file-text2'><use xlink:href='#icon-file-text2'></use></svg></label><input id='data-9b627b99-cd20-4e33-b536-76f381531d30' class='xr-var-data-in' type='checkbox'><label for='data-9b627b99-cd20-4e33-b536-76f381531d30' title='Show/Hide data repr'><svg class='icon xr-icon-database'><use xlink:href='#icon-database'></use></svg></label><div class='xr-var-attrs'><dl class='xr-attrs'></dl></div><div class='xr-var-data'><pre>array([&#x27;electricity&#x27;, &#x27;heat&#x27;], dtype=object)</pre></div></li><li class='xr-var-item'><div class='xr-var-name'><span class='xr-has-index'>nodes</span></div><div class='xr-var-dims'>(nodes)</div><div class='xr-var-dtype'>object</div><div class='xr-var-preview xr-preview'>&#x27;D1&#x27; &#x27;D2&#x27; &#x27;E1&#x27; &#x27;H1&#x27; &#x27;S1&#x27; &#x27;S2&#x27;</div><input id='attrs-e8ac69a9-42a0-4eaa-823a-42e4daf3f0a4' class='xr-var-attrs-in' type='checkbox' disabled><label for='attrs-e8ac69a9-42a0-4eaa-823a-42e4daf3f0a4' title='Show/Hide attributes'><svg class='icon xr-icon-file-text2'><use xlink:href='#icon-file-text2'></use></svg></label><input id='data-a52088af-b162-4b6d-b60a-629f38e7fd39' class='xr-var-data-in' type='checkbox'><label for='data-a52088af-b162-4b6d-b60a-629f38e7fd39' title='Show/Hide data repr'><svg class='icon xr-icon-database'><use xlink:href='#icon-database'></use></svg></label><div class='xr-var-attrs'><dl class='xr-attrs'></dl></div><div class='xr-var-data'><pre>array([&#x27;D1&#x27;, &#x27;D2&#x27;, &#x27;E1&#x27;, &#x27;H1&#x27;, &#x27;S1&#x27;, &#x27;S2&#x27;], dtype=object)</pre></div></li><li class='xr-var-item'><div class='xr-var-name'><span class='xr-has-index'>timesteps</span></div><div class='xr-var-dims'>(timesteps)</div><div class='xr-var-dtype'>datetime64[ns]</div><div class='xr-var-preview xr-preview'>2050-01-01</div><input id='attrs-698615f7-dcbd-42e1-81cc-d703f4e471d3' class='xr-var-attrs-in' type='checkbox' disabled><label for='attrs-698615f7-dcbd-42e1-81cc-d703f4e471d3' title='Show/Hide attributes'><svg class='icon xr-icon-file-text2'><use xlink:href='#icon-file-text2'></use></svg></label><input id='data-1c0d47cf-3fde-4fb0-af63-86c198563e2a' class='xr-var-data-in' type='checkbox'><label for='data-1c0d47cf-3fde-4fb0-af63-86c198563e2a' title='Show/Hide data repr'><svg class='icon xr-icon-database'><use xlink:href='#icon-database'></use></svg></label><div class='xr-var-attrs'><dl class='xr-attrs'></dl></div><div class='xr-var-data'><pre>array([&#x27;2050-01-01T00:00:00.000000000&#x27;], dtype=&#x27;datetime64[ns]&#x27;)</pre></div></li></ul></div></li><li class='xr-section-item'><input id='section-b8056bd9-f2f3-4ea1-a96f-e31507b2cb43' class='xr-section-summary-in' type='checkbox'  ><label for='section-b8056bd9-f2f3-4ea1-a96f-e31507b2cb43' class='xr-section-summary' >Data variables: <span>(23)</span></label><div class='xr-section-inline-details'></div><div class='xr-section-details'><ul class='xr-var-list'><li class='xr-var-item'><div class='xr-var-name'><span>cost_interest_rate</span></div><div class='xr-var-dims'>(costs)</div><div class='xr-var-dtype'>float64</div><div class='xr-var-preview xr-preview'>0.1</div><input id='attrs-c72c3b23-b30c-4dee-9d6d-3f9c07b4a7c7' class='xr-var-attrs-in' type='checkbox' ><label for='attrs-c72c3b23-b30c-4dee-9d6d-3f9c07b4a7c7' title='Show/Hide attributes'><svg class='icon xr-icon-file-text2'><use xlink:href='#icon-file-text2'></use></svg></label><input id='data-0ae602cb-62c8-4670-8cd5-8452af811d9b' class='xr-var-data-in' type='checkbox'><label for='data-0ae602cb-62c8-4670-8cd5-8452af811d9b' title='Show/Hide data repr'><svg class='icon xr-icon-database'><use xlink:href='#icon-database'></use></svg></label><div class='xr-var-attrs'><dl class='xr-attrs'><dt><span>title :</span></dt><dd>Interest rate.</dd><dt><span>description :</span></dt><dd>Used when computing levelized costs and technology depreciation_rate (relative to lifetime).</dd><dt><span>default :</span></dt><dd>0</dd><dt><span>resample_method :</span></dt><dd>first</dd><dt><span>unit :</span></dt><dd>unitless</dd></dl></div><div class='xr-var-data'><pre>array([0.1])</pre></div></li><li class='xr-var-item'><div class='xr-var-name'><span>bigM</span></div><div class='xr-var-dims'>()</div><div class='xr-var-dtype'>float64</div><div class='xr-var-preview xr-preview'>1e+06</div><input id='attrs-449d63f2-479b-48e4-8012-e80a9332f0cb' class='xr-var-attrs-in' type='checkbox' ><label for='attrs-449d63f2-479b-48e4-8012-e80a9332f0cb' title='Show/Hide attributes'><svg class='icon xr-icon-file-text2'><use xlink:href='#icon-file-text2'></use></svg></label><input id='data-17e0744b-6706-4054-9b02-dcb9324df285' class='xr-var-data-in' type='checkbox'><label for='data-17e0744b-6706-4054-9b02-dcb9324df285' title='Show/Hide data repr'><svg class='icon xr-icon-database'><use xlink:href='#icon-database'></use></svg></label><div class='xr-var-attrs'><dl class='xr-attrs'><dt><span>title :</span></dt><dd>Big M</dd><dt><span>description :</span></dt><dd>BigM is a large value used to define certain optimisation problems. See https://en.wikipedia.org/wiki/Big_M_method for more information. This value should be larger than the largest values that any decision variables can take, but should not be **too** large (i.e., do not set it greater than 3 orders of magnitude above the numeric range of the model). If too large, numerical problems may arise in the optimisation.</dd><dt><span>default :</span></dt><dd>1000000.0</dd><dt><span>resample_method :</span></dt><dd>first</dd><dt><span>unit :</span></dt><dd>unitless</dd></dl></div><div class='xr-var-data'><pre>array(1000000.)</pre></div></li><li class='xr-var-item'><div class='xr-var-name'><span>objective_cost_weights</span></div><div class='xr-var-dims'>(costs)</div><div class='xr-var-dtype'>float64</div><div class='xr-var-preview xr-preview'>1.0</div><input id='attrs-b9d52abb-e2a1-4401-bf66-f1fdb88d2994' class='xr-var-attrs-in' type='checkbox' ><label for='attrs-b9d52abb-e2a1-4401-bf66-f1fdb88d2994' title='Show/Hide attributes'><svg class='icon xr-icon-file-text2'><use xlink:href='#icon-file-text2'></use></svg></label><input id='data-a4d7fec7-deaf-4db3-b379-bcf0efaa8a61' class='xr-var-data-in' type='checkbox'><label for='data-a4d7fec7-deaf-4db3-b379-bcf0efaa8a61' title='Show/Hide data repr'><svg class='icon xr-icon-database'><use xlink:href='#icon-database'></use></svg></label><div class='xr-var-attrs'><dl class='xr-attrs'><dt><span>title :</span></dt><dd>Objective cost class weights.</dd><dt><span>description :</span></dt><dd>Weightings for cost classes to apply in the objective function.</dd><dt><span>default :</span></dt><dd>1</dd><dt><span>resample_method :</span></dt><dd>first</dd><dt><span>unit :</span></dt><dd>unitless</dd></dl></div><div class='xr-var-data'><pre>array([1.])</pre></div></li><li class='xr-var-item'><div class='xr-var-name'><span>base_tech</span></div><div class='xr-var-dims'>(techs)</div><div class='xr-var-dtype'>object</div><div class='xr-var-preview xr-preview'>&#x27;transmission&#x27; ... &#x27;supply&#x27;</div><input id='attrs-405acb34-dadf-4d9a-9804-7fd7c9d9f83b' class='xr-var-attrs-in' type='checkbox' ><label for='attrs-405acb34-dadf-4d9a-9804-7fd7c9d9f83b' title='Show/Hide attributes'><svg class='icon xr-icon-file-text2'><use xlink:href='#icon-file-text2'></use></svg></label><input id='data-cfd3100f-aa66-434f-b8c5-a8765dd89183' class='xr-var-data-in' type='checkbox'><label for='data-cfd3100f-aa66-434f-b8c5-a8765dd89183' title='Show/Hide data repr'><svg class='icon xr-icon-database'><use xlink:href='#icon-database'></use></svg></label><div class='xr-var-attrs'><dl class='xr-attrs'><dt><span>title :</span></dt><dd>Abstract base technology name.</dd><dt><span>description :</span></dt><dd>Should be the name of one of the abstract base classes, from which some initial parameter defaults will be derived and with which certain base math will be triggered.</dd><dt><span>default :</span></dt><dd>nan</dd><dt><span>dtype :</span></dt><dd>string</dd><dt><span>resample_method :</span></dt><dd>first</dd><dt><span>one_of :</span></dt><dd>[&#x27;demand&#x27;, &#x27;supply&#x27;, &#x27;conversion&#x27;, &#x27;storage&#x27;, &#x27;transmission&#x27;]</dd><dt><span>pivot_values_to_dim :</span></dt><dd>None</dd></dl></div><div class='xr-var-data'><pre>array([&#x27;transmission&#x27;, &#x27;transmission&#x27;, &#x27;transmission&#x27;, &#x27;transmission&#x27;,\n",
       "       &#x27;transmission&#x27;, &#x27;transmission&#x27;, &#x27;demand&#x27;, &#x27;conversion&#x27;, &#x27;supply&#x27;,\n",
       "       &#x27;supply&#x27;], dtype=object)</pre></div></li><li class='xr-var-item'><div class='xr-var-name'><span>carrier_in</span></div><div class='xr-var-dims'>(nodes, techs, carriers)</div><div class='xr-var-dtype'>bool</div><div class='xr-var-preview xr-preview'>True False False ... False False</div><input id='attrs-b5da6d82-dad8-40bd-98bc-298c552565ce' class='xr-var-attrs-in' type='checkbox' ><label for='attrs-b5da6d82-dad8-40bd-98bc-298c552565ce' title='Show/Hide attributes'><svg class='icon xr-icon-file-text2'><use xlink:href='#icon-file-text2'></use></svg></label><input id='data-d03e20ca-471b-4bf6-808b-ae759548c79a' class='xr-var-data-in' type='checkbox'><label for='data-d03e20ca-471b-4bf6-808b-ae759548c79a' title='Show/Hide data repr'><svg class='icon xr-icon-database'><use xlink:href='#icon-database'></use></svg></label><div class='xr-var-attrs'><dl class='xr-attrs'><dt><span>title :</span></dt><dd></dd><dt><span>description :</span></dt><dd>Carrier(s) consumed by this technology. Only `transmission`, `conversion`, `storage`, and `demand` technologies can define this parameter</dd><dt><span>default :</span></dt><dd>False</dd><dt><span>dtype :</span></dt><dd>bool</dd><dt><span>resample_method :</span></dt><dd>first</dd><dt><span>one_of :</span></dt><dd>None</dd><dt><span>pivot_values_to_dim :</span></dt><dd>carriers</dd></dl></div><div class='xr-var-data'><pre>array([[[ True, False],\n",
       "        [False, False],\n",
       "        [False,  True],\n",
       "        [False, False],\n",
       "        [False, False],\n",
       "        [False, False],\n",
       "        [False,  True],\n",
       "        [ True, False],\n",
       "        [False, False],\n",
       "        [False, False]],\n",
       "\n",
       "       [[False, False],\n",
       "        [ True, False],\n",
       "        [False, False],\n",
       "        [False,  True],\n",
       "        [False, False],\n",
       "        [False, False],\n",
       "        [False,  True],\n",
       "        [ True, False],\n",
       "        [False, False],\n",
       "...\n",
       "        [False, False],\n",
       "        [False, False],\n",
       "        [False, False],\n",
       "        [False,  True],\n",
       "        [False, False],\n",
       "        [False, False],\n",
       "        [False, False],\n",
       "        [False, False],\n",
       "        [False, False]],\n",
       "\n",
       "       [[False, False],\n",
       "        [False, False],\n",
       "        [False, False],\n",
       "        [False, False],\n",
       "        [False, False],\n",
       "        [ True, False],\n",
       "        [False, False],\n",
       "        [False, False],\n",
       "        [False, False],\n",
       "        [False, False]]])</pre></div></li><li class='xr-var-item'><div class='xr-var-name'><span>color</span></div><div class='xr-var-dims'>(techs)</div><div class='xr-var-dtype'>object</div><div class='xr-var-preview xr-preview'>&#x27;#6783E3&#x27; &#x27;#6783E3&#x27; ... &#x27;#C5ABE3&#x27;</div><input id='attrs-12115902-205e-4ba0-a358-9d7c5bed3d2f' class='xr-var-attrs-in' type='checkbox' disabled><label for='attrs-12115902-205e-4ba0-a358-9d7c5bed3d2f' title='Show/Hide attributes'><svg class='icon xr-icon-file-text2'><use xlink:href='#icon-file-text2'></use></svg></label><input id='data-d4a7d5e2-c269-4232-9d1f-492c9bc0eab8' class='xr-var-data-in' type='checkbox'><label for='data-d4a7d5e2-c269-4232-9d1f-492c9bc0eab8' title='Show/Hide data repr'><svg class='icon xr-icon-database'><use xlink:href='#icon-database'></use></svg></label><div class='xr-var-attrs'><dl class='xr-attrs'></dl></div><div class='xr-var-data'><pre>array([&#x27;#6783E3&#x27;, &#x27;#6783E3&#x27;, &#x27;#823739&#x27;, &#x27;#823739&#x27;, &#x27;#823739&#x27;, &#x27;#6783E3&#x27;,\n",
       "       &#x27;#660507&#x27;, &#x27;#8E2999&#x27;, &#x27;#C98AAD&#x27;, &#x27;#C5ABE3&#x27;], dtype=object)</pre></div></li><li class='xr-var-item'><div class='xr-var-name'><span>name</span></div><div class='xr-var-dims'>(techs)</div><div class='xr-var-dtype'>object</div><div class='xr-var-preview xr-preview'>&#x27;Electrical power distribution&#x27; ...</div><input id='attrs-151746b0-d362-423c-bb9e-904ccb07f0ba' class='xr-var-attrs-in' type='checkbox' disabled><label for='attrs-151746b0-d362-423c-bb9e-904ccb07f0ba' title='Show/Hide attributes'><svg class='icon xr-icon-file-text2'><use xlink:href='#icon-file-text2'></use></svg></label><input id='data-ab3abd37-0522-4b6e-b598-ae0e60edf579' class='xr-var-data-in' type='checkbox'><label for='data-ab3abd37-0522-4b6e-b598-ae0e60edf579' title='Show/Hide data repr'><svg class='icon xr-icon-database'><use xlink:href='#icon-database'></use></svg></label><div class='xr-var-attrs'><dl class='xr-attrs'></dl></div><div class='xr-var-data'><pre>array([&#x27;Electrical power distribution&#x27;, &#x27;Electrical power distribution&#x27;,\n",
       "       &#x27;District heat distribution&#x27;, &#x27;District heat distribution&#x27;,\n",
       "       &#x27;District heat distribution&#x27;, &#x27;Electrical power distribution&#x27;,\n",
       "       &#x27;Heat demand&#x27;, &#x27;Air-to-air heat pump&#x27;,\n",
       "       &#x27;Geothermal heat extraction&#x27;, &#x27;National grid import&#x27;], dtype=object)</pre></div></li><li class='xr-var-item'><div class='xr-var-name'><span>carrier_out</span></div><div class='xr-var-dims'>(nodes, techs, carriers)</div><div class='xr-var-dtype'>bool</div><div class='xr-var-preview xr-preview'>True False False ... True False</div><input id='attrs-4529b9d9-e937-40a8-a7fc-f7bee5646a84' class='xr-var-attrs-in' type='checkbox' ><label for='attrs-4529b9d9-e937-40a8-a7fc-f7bee5646a84' title='Show/Hide attributes'><svg class='icon xr-icon-file-text2'><use xlink:href='#icon-file-text2'></use></svg></label><input id='data-8c55602d-a803-404c-b20e-e40dcf454f8a' class='xr-var-data-in' type='checkbox'><label for='data-8c55602d-a803-404c-b20e-e40dcf454f8a' title='Show/Hide data repr'><svg class='icon xr-icon-database'><use xlink:href='#icon-database'></use></svg></label><div class='xr-var-attrs'><dl class='xr-attrs'><dt><span>title :</span></dt><dd></dd><dt><span>description :</span></dt><dd>Carrier(s) produced by this technology. Only `transmission`, `conversion`, `storage`, and `supply` technologies can define this parameter</dd><dt><span>default :</span></dt><dd>False</dd><dt><span>dtype :</span></dt><dd>bool</dd><dt><span>resample_method :</span></dt><dd>first</dd><dt><span>one_of :</span></dt><dd>None</dd><dt><span>pivot_values_to_dim :</span></dt><dd>carriers</dd></dl></div><div class='xr-var-data'><pre>array([[[ True, False],\n",
       "        [False, False],\n",
       "        [False,  True],\n",
       "        [False, False],\n",
       "        [False, False],\n",
       "        [False, False],\n",
       "        [False, False],\n",
       "        [False,  True],\n",
       "        [False, False],\n",
       "        [False, False]],\n",
       "\n",
       "       [[False, False],\n",
       "        [ True, False],\n",
       "        [False, False],\n",
       "        [False,  True],\n",
       "        [False, False],\n",
       "        [False, False],\n",
       "        [False, False],\n",
       "        [False,  True],\n",
       "        [False, False],\n",
       "...\n",
       "        [False, False],\n",
       "        [False, False],\n",
       "        [False, False],\n",
       "        [False,  True],\n",
       "        [False, False],\n",
       "        [False, False],\n",
       "        [False, False],\n",
       "        [False,  True],\n",
       "        [False, False]],\n",
       "\n",
       "       [[False, False],\n",
       "        [False, False],\n",
       "        [False, False],\n",
       "        [False, False],\n",
       "        [False, False],\n",
       "        [ True, False],\n",
       "        [False, False],\n",
       "        [False, False],\n",
       "        [False, False],\n",
       "        [ True, False]]])</pre></div></li><li class='xr-var-item'><div class='xr-var-name'><span>cost_flow_cap</span></div><div class='xr-var-dims'>(techs, costs, carriers, nodes)</div><div class='xr-var-dtype'>float64</div><div class='xr-var-preview xr-preview'>nan nan nan nan ... nan nan nan nan</div><input id='attrs-a5886988-d5d4-417b-9441-2c605fce4bff' class='xr-var-attrs-in' type='checkbox' ><label for='attrs-a5886988-d5d4-417b-9441-2c605fce4bff' title='Show/Hide attributes'><svg class='icon xr-icon-file-text2'><use xlink:href='#icon-file-text2'></use></svg></label><input id='data-e167737f-051d-4776-814d-e739550757ee' class='xr-var-data-in' type='checkbox'><label for='data-e167737f-051d-4776-814d-e739550757ee' title='Show/Hide data repr'><svg class='icon xr-icon-database'><use xlink:href='#icon-database'></use></svg></label><div class='xr-var-attrs'><dl class='xr-attrs'><dt><span>title :</span></dt><dd>Cost of flow capacity.</dd><dt><span>description :</span></dt><dd>Cost per unit of the decision variable `flow_cap`.</dd><dt><span>default :</span></dt><dd>0</dd><dt><span>resample_method :</span></dt><dd>first</dd><dt><span>unit :</span></dt><dd>$\\frac{\\{cost}}{\\text{power}}$</dd></dl></div><div class='xr-var-data'><pre>array([[[[ nan,  nan,  nan,  nan,  nan,  nan],\n",
       "         [ nan,  nan,  nan,  nan,  nan,  nan]]],\n",
       "\n",
       "\n",
       "       [[[ nan,  nan,  nan,  nan,  nan,  nan],\n",
       "         [ nan,  nan,  nan,  nan,  nan,  nan]]],\n",
       "\n",
       "\n",
       "       [[[ nan,  nan,  nan,  nan,  nan,  nan],\n",
       "         [ nan,  nan,  nan,  nan,  nan,  nan]]],\n",
       "\n",
       "\n",
       "       [[[ nan,  nan,  nan,  nan,  nan,  nan],\n",
       "         [ nan,  nan,  nan,  nan,  nan,  nan]]],\n",
       "\n",
       "\n",
       "       [[[ nan,  nan,  nan,  nan,  nan,  nan],\n",
       "         [ nan,  nan,  nan,  nan,  nan,  nan]]],\n",
       "\n",
       "\n",
       "       [[[ nan,  nan,  nan,  nan,  nan,  nan],\n",
       "         [ nan,  nan,  nan,  nan,  nan,  nan]]],\n",
       "\n",
       "\n",
       "       [[[ nan,  nan,  nan,  nan,  nan,  nan],\n",
       "         [ nan,  nan,  nan,  nan,  nan,  nan]]],\n",
       "\n",
       "\n",
       "       [[[ nan,  nan,  nan,  nan,  nan,  nan],\n",
       "         [  0.,   0.,  nan,  nan,  nan,  nan]]],\n",
       "\n",
       "\n",
       "       [[[ nan,  nan,  nan,  nan,  nan,  nan],\n",
       "         [ nan,  nan,  nan,  nan, 150.,  nan]]],\n",
       "\n",
       "\n",
       "       [[[ nan,  nan,  nan,  nan,  nan,  10.],\n",
       "         [ nan,  nan,  nan,  nan,  nan,  nan]]]])</pre></div></li><li class='xr-var-item'><div class='xr-var-name'><span>flow_cap_max</span></div><div class='xr-var-dims'>(techs, carriers)</div><div class='xr-var-dtype'>float64</div><div class='xr-var-preview xr-preview'>2e+03 nan 2e+03 ... 2e+03 2e+03 nan</div><input id='attrs-43c4ddaa-fbfc-4a00-9c8e-74aca6ffc333' class='xr-var-attrs-in' type='checkbox' ><label for='attrs-43c4ddaa-fbfc-4a00-9c8e-74aca6ffc333' title='Show/Hide attributes'><svg class='icon xr-icon-file-text2'><use xlink:href='#icon-file-text2'></use></svg></label><input id='data-3e0d8c45-384c-4672-90ae-bfe3b12a1c88' class='xr-var-data-in' type='checkbox'><label for='data-3e0d8c45-384c-4672-90ae-bfe3b12a1c88' title='Show/Hide data repr'><svg class='icon xr-icon-database'><use xlink:href='#icon-database'></use></svg></label><div class='xr-var-attrs'><dl class='xr-attrs'><dt><span>title :</span></dt><dd>Maximum rated flow capacity.</dd><dt><span>description :</span></dt><dd>Limits `flow_cap` to a maximum.</dd><dt><span>default :</span></dt><dd>inf</dd><dt><span>resample_method :</span></dt><dd>first</dd><dt><span>unit :</span></dt><dd>power.</dd></dl></div><div class='xr-var-data'><pre>array([[2000.,   nan],\n",
       "       [2000.,   nan],\n",
       "       [  nan, 2000.],\n",
       "       [  nan, 2000.],\n",
       "       [  nan, 2000.],\n",
       "       [2000.,   nan],\n",
       "       [  nan,   nan],\n",
       "       [  nan,   50.],\n",
       "       [  nan, 2000.],\n",
       "       [2000.,   nan]])</pre></div></li><li class='xr-var-item'><div class='xr-var-name'><span>flow_out_eff</span></div><div class='xr-var-dims'>(techs)</div><div class='xr-var-dtype'>float64</div><div class='xr-var-preview xr-preview'>0.98 0.98 nan nan ... 0.95 nan nan</div><input id='attrs-0345b12b-922d-4a69-9809-a1e1e6d4853f' class='xr-var-attrs-in' type='checkbox' ><label for='attrs-0345b12b-922d-4a69-9809-a1e1e6d4853f' title='Show/Hide attributes'><svg class='icon xr-icon-file-text2'><use xlink:href='#icon-file-text2'></use></svg></label><input id='data-84512989-87e7-4e10-9fd3-ea883434c2e5' class='xr-var-data-in' type='checkbox'><label for='data-84512989-87e7-4e10-9fd3-ea883434c2e5' title='Show/Hide data repr'><svg class='icon xr-icon-database'><use xlink:href='#icon-database'></use></svg></label><div class='xr-var-attrs'><dl class='xr-attrs'><dt><span>title :</span></dt><dd>Outflow efficiency</dd><dt><span>description :</span></dt><dd>Conversion efficiency from the technology to `sink`/`flow_out` (tech dependent). Set as value between 1 (no loss) and 0 (all lost).</dd><dt><span>default :</span></dt><dd>1.0</dd><dt><span>resample_method :</span></dt><dd>mean</dd><dt><span>unit :</span></dt><dd>unitless.</dd></dl></div><div class='xr-var-data'><pre>array([0.98, 0.98,  nan,  nan,  nan, 0.98,  nan, 0.95,  nan,  nan])</pre></div></li><li class='xr-var-item'><div class='xr-var-name'><span>lifetime</span></div><div class='xr-var-dims'>(techs)</div><div class='xr-var-dtype'>float64</div><div class='xr-var-preview xr-preview'>25.0 25.0 25.0 ... 25.0 25.0 25.0</div><input id='attrs-96eb06ae-138c-4f88-91a1-aede8edc4d5d' class='xr-var-attrs-in' type='checkbox' ><label for='attrs-96eb06ae-138c-4f88-91a1-aede8edc4d5d' title='Show/Hide attributes'><svg class='icon xr-icon-file-text2'><use xlink:href='#icon-file-text2'></use></svg></label><input id='data-2f288b8b-049e-4dca-8e30-4a69b67c9654' class='xr-var-data-in' type='checkbox'><label for='data-2f288b8b-049e-4dca-8e30-4a69b67c9654' title='Show/Hide data repr'><svg class='icon xr-icon-database'><use xlink:href='#icon-database'></use></svg></label><div class='xr-var-attrs'><dl class='xr-attrs'><dt><span>title :</span></dt><dd>Technology lifetime</dd><dt><span>description :</span></dt><dd>Must be defined if fixed capital costs are defined. A reasonable value for many technologies is around 20-25 years.</dd><dt><span>default :</span></dt><dd>inf</dd><dt><span>resample_method :</span></dt><dd>mean</dd><dt><span>unit :</span></dt><dd>years.</dd></dl></div><div class='xr-var-data'><pre>array([25., 25., 25., 25., 25., 25., nan, 25., 25., 25.])</pre></div></li><li class='xr-var-item'><div class='xr-var-name'><span>cost_flow_cap_per_distance</span></div><div class='xr-var-dims'>(techs, costs)</div><div class='xr-var-dtype'>float64</div><div class='xr-var-preview xr-preview'>0.01 0.01 0.3 0.3 ... nan nan nan</div><input id='attrs-6f1e1c9a-c8a6-4a69-a016-ff73c0227fd3' class='xr-var-attrs-in' type='checkbox' ><label for='attrs-6f1e1c9a-c8a6-4a69-a016-ff73c0227fd3' title='Show/Hide attributes'><svg class='icon xr-icon-file-text2'><use xlink:href='#icon-file-text2'></use></svg></label><input id='data-9291ab07-a18a-4b8a-8e41-e8930db417b6' class='xr-var-data-in' type='checkbox'><label for='data-9291ab07-a18a-4b8a-8e41-e8930db417b6' title='Show/Hide data repr'><svg class='icon xr-icon-database'><use xlink:href='#icon-database'></use></svg></label><div class='xr-var-attrs'><dl class='xr-attrs'><dt><span>title :</span></dt><dd>Cost of flow capacity, per unit distance</dd><dt><span>description :</span></dt><dd>Cost per unit of the decision variable `flow_cap` and per unit distance of a transmission link. Applied to transmission links only.</dd><dt><span>default :</span></dt><dd>0</dd><dt><span>resample_method :</span></dt><dd>first</dd><dt><span>unit :</span></dt><dd>$\\frac{\\{cost}}{\\text{power}\\times\\text{distance}}$</dd></dl></div><div class='xr-var-data'><pre>array([[0.01],\n",
       "       [0.01],\n",
       "       [0.3 ],\n",
       "       [0.3 ],\n",
       "       [0.3 ],\n",
       "       [0.01],\n",
       "       [ nan],\n",
       "       [ nan],\n",
       "       [ nan],\n",
       "       [ nan]])</pre></div></li><li class='xr-var-item'><div class='xr-var-name'><span>flow_out_eff_per_distance</span></div><div class='xr-var-dims'>(techs)</div><div class='xr-var-dtype'>float64</div><div class='xr-var-preview xr-preview'>nan nan 0.975 0.975 ... nan nan nan</div><input id='attrs-da7a1ccd-780f-47a8-a91c-02ec9f9b30a9' class='xr-var-attrs-in' type='checkbox' ><label for='attrs-da7a1ccd-780f-47a8-a91c-02ec9f9b30a9' title='Show/Hide attributes'><svg class='icon xr-icon-file-text2'><use xlink:href='#icon-file-text2'></use></svg></label><input id='data-fe099f51-2c6a-43a4-9cb4-6312b650037c' class='xr-var-data-in' type='checkbox'><label for='data-fe099f51-2c6a-43a4-9cb4-6312b650037c' title='Show/Hide data repr'><svg class='icon xr-icon-database'><use xlink:href='#icon-database'></use></svg></label><div class='xr-var-attrs'><dl class='xr-attrs'><dt><span>title :</span></dt><dd>Outflow (i.e., import from node) efficiency per distance of transmission links.</dd><dt><span>description :</span></dt><dd>Total link efficiency will be calculated as $\\text{flow\\_out\\_eff}\\times{}\\text{flow\\_out\\_eff\\_per\\_distance}^\\text{distance}$. Set as value between 1 (no loss) and 0 (all lost).</dd><dt><span>default :</span></dt><dd>1.0</dd><dt><span>resample_method :</span></dt><dd>mean</dd><dt><span>unit :</span></dt><dd>$\\frac{\\text{1}}{\\text{distance}}$</dd></dl></div><div class='xr-var-data'><pre>array([  nan,   nan, 0.975, 0.975, 0.975,   nan,   nan,   nan,   nan,\n",
       "         nan])</pre></div></li><li class='xr-var-item'><div class='xr-var-name'><span>source_use_max</span></div><div class='xr-var-dims'>(techs)</div><div class='xr-var-dtype'>float64</div><div class='xr-var-preview xr-preview'>nan nan nan nan ... nan nan inf inf</div><input id='attrs-cfebcf7f-7c5d-4ca3-8101-5ac3eb4adecd' class='xr-var-attrs-in' type='checkbox' ><label for='attrs-cfebcf7f-7c5d-4ca3-8101-5ac3eb4adecd' title='Show/Hide attributes'><svg class='icon xr-icon-file-text2'><use xlink:href='#icon-file-text2'></use></svg></label><input id='data-7fec290c-b6be-4279-8dfb-4d4bfc252fa5' class='xr-var-data-in' type='checkbox'><label for='data-7fec290c-b6be-4279-8dfb-4d4bfc252fa5' title='Show/Hide data repr'><svg class='icon xr-icon-database'><use xlink:href='#icon-database'></use></svg></label><div class='xr-var-attrs'><dl class='xr-attrs'><dt><span>title :</span></dt><dd>Maximum bound on sink.</dd><dt><span>description :</span></dt><dd>Maximum sink use to remove a carrier from the system (e.g., biofuel, coal, rainfall, wind flow). Unit dictated by `source_unit`.</dd><dt><span>default :</span></dt><dd>inf</dd><dt><span>resample_method :</span></dt><dd>sum</dd><dt><span>unit :</span></dt><dd>energy | $\\frac{\\text{energy}}{\\text{power}}$ | $\\frac{\\text{energy}}{\\text{area}}$</dd></dl></div><div class='xr-var-data'><pre>array([nan, nan, nan, nan, nan, nan, nan, nan, inf, inf])</pre></div></li><li class='xr-var-item'><div class='xr-var-name'><span>cost_flow_in</span></div><div class='xr-var-dims'>(techs, costs)</div><div class='xr-var-dtype'>float64</div><div class='xr-var-preview xr-preview'>nan nan nan nan ... nan nan nan 0.0</div><input id='attrs-7fce5b97-f916-43e8-aa8f-ee9a1ffc3396' class='xr-var-attrs-in' type='checkbox' ><label for='attrs-7fce5b97-f916-43e8-aa8f-ee9a1ffc3396' title='Show/Hide attributes'><svg class='icon xr-icon-file-text2'><use xlink:href='#icon-file-text2'></use></svg></label><input id='data-9d210e13-a77e-4086-ba7e-77e59bfd2042' class='xr-var-data-in' type='checkbox'><label for='data-9d210e13-a77e-4086-ba7e-77e59bfd2042' title='Show/Hide data repr'><svg class='icon xr-icon-database'><use xlink:href='#icon-database'></use></svg></label><div class='xr-var-attrs'><dl class='xr-attrs'><dt><span>title :</span></dt><dd>Carrier inflow cost.</dd><dt><span>description :</span></dt><dd>Cost per unit of `flow_in` in each timestep. Also used as the cost per unit of `source_use` in `supply` technologies.</dd><dt><span>default :</span></dt><dd>0</dd><dt><span>resample_method :</span></dt><dd>mean</dd><dt><span>unit :</span></dt><dd>$\\frac{\\{cost}}{\\text{energy}}$</dd></dl></div><div class='xr-var-data'><pre>array([[nan],\n",
       "       [nan],\n",
       "       [nan],\n",
       "       [nan],\n",
       "       [nan],\n",
       "       [nan],\n",
       "       [nan],\n",
       "       [nan],\n",
       "       [nan],\n",
       "       [ 0.]])</pre></div></li><li class='xr-var-item'><div class='xr-var-name'><span>latitude</span></div><div class='xr-var-dims'>(nodes)</div><div class='xr-var-dtype'>float64</div><div class='xr-var-preview xr-preview'>51.99 51.99 51.99 51.99 51.99 51.99</div><input id='attrs-6878bf11-6824-4d6c-b810-732ae38fa553' class='xr-var-attrs-in' type='checkbox' ><label for='attrs-6878bf11-6824-4d6c-b810-732ae38fa553' title='Show/Hide attributes'><svg class='icon xr-icon-file-text2'><use xlink:href='#icon-file-text2'></use></svg></label><input id='data-196ccd84-401a-4d38-b662-87d629afe092' class='xr-var-data-in' type='checkbox'><label for='data-196ccd84-401a-4d38-b662-87d629afe092' title='Show/Hide data repr'><svg class='icon xr-icon-database'><use xlink:href='#icon-database'></use></svg></label><div class='xr-var-attrs'><dl class='xr-attrs'><dt><span>title :</span></dt><dd>Latitude (WGS84 / EPSG4326).</dd><dt><span>description :</span></dt><dd></dd><dt><span>default :</span></dt><dd>nan</dd><dt><span>dtype :</span></dt><dd>float</dd><dt><span>resample_method :</span></dt><dd>mean</dd><dt><span>one_of :</span></dt><dd>None</dd><dt><span>pivot_values_to_dim :</span></dt><dd>None</dd></dl></div><div class='xr-var-data'><pre>array([51.99415, 51.9922 , 51.99324, 51.99324, 51.99252, 51.99275])</pre></div></li><li class='xr-var-item'><div class='xr-var-name'><span>longitude</span></div><div class='xr-var-dims'>(nodes)</div><div class='xr-var-dtype'>float64</div><div class='xr-var-preview xr-preview'>4.361 4.362 4.359 4.359 4.356 4.357</div><input id='attrs-41e37e46-16c8-4ac3-a62b-c07c1d616a2c' class='xr-var-attrs-in' type='checkbox' ><label for='attrs-41e37e46-16c8-4ac3-a62b-c07c1d616a2c' title='Show/Hide attributes'><svg class='icon xr-icon-file-text2'><use xlink:href='#icon-file-text2'></use></svg></label><input id='data-2615897a-f669-4f71-a1da-1574a344aa03' class='xr-var-data-in' type='checkbox'><label for='data-2615897a-f669-4f71-a1da-1574a344aa03' title='Show/Hide data repr'><svg class='icon xr-icon-database'><use xlink:href='#icon-database'></use></svg></label><div class='xr-var-attrs'><dl class='xr-attrs'><dt><span>title :</span></dt><dd>Longitude (WGS84 / EPSG4326).</dd><dt><span>description :</span></dt><dd></dd><dt><span>default :</span></dt><dd>nan</dd><dt><span>dtype :</span></dt><dd>float</dd><dt><span>resample_method :</span></dt><dd>mean</dd><dt><span>one_of :</span></dt><dd>None</dd><dt><span>pivot_values_to_dim :</span></dt><dd>None</dd></dl></div><div class='xr-var-data'><pre>array([4.36116, 4.36225, 4.35911, 4.35911, 4.356  , 4.357  ])</pre></div></li><li class='xr-var-item'><div class='xr-var-name'><span>sink_use_equals</span></div><div class='xr-var-dims'>(timesteps, techs, nodes)</div><div class='xr-var-dtype'>float64</div><div class='xr-var-preview xr-preview'>nan nan nan nan ... nan nan nan nan</div><input id='attrs-7a944e7d-f03f-43ac-9700-f776b0691ad6' class='xr-var-attrs-in' type='checkbox' ><label for='attrs-7a944e7d-f03f-43ac-9700-f776b0691ad6' title='Show/Hide attributes'><svg class='icon xr-icon-file-text2'><use xlink:href='#icon-file-text2'></use></svg></label><input id='data-7b284606-0e90-49b6-af79-e35e33067dd1' class='xr-var-data-in' type='checkbox'><label for='data-7b284606-0e90-49b6-af79-e35e33067dd1' title='Show/Hide data repr'><svg class='icon xr-icon-database'><use xlink:href='#icon-database'></use></svg></label><div class='xr-var-attrs'><dl class='xr-attrs'><dt><span>title :</span></dt><dd>Required sink use.</dd><dt><span>description :</span></dt><dd>Required amount of carrier removal from the system (e.g., electricity demand, transport distance). Unit dictated by `source_unit`.</dd><dt><span>default :</span></dt><dd>nan</dd><dt><span>resample_method :</span></dt><dd>sum</dd><dt><span>unit :</span></dt><dd>energy | $\\frac{\\text{energy}}{\\text{power}}$ | $\\frac{\\text{energy}}{\\text{area}}$</dd></dl></div><div class='xr-var-data'><pre>array([[[ nan,  nan,  nan,  nan,  nan,  nan],\n",
       "        [ nan,  nan,  nan,  nan,  nan,  nan],\n",
       "        [ nan,  nan,  nan,  nan,  nan,  nan],\n",
       "        [ nan,  nan,  nan,  nan,  nan,  nan],\n",
       "        [ nan,  nan,  nan,  nan,  nan,  nan],\n",
       "        [ nan,  nan,  nan,  nan,  nan,  nan],\n",
       "        [150., 200.,  nan,  nan,  nan,  nan],\n",
       "        [ nan,  nan,  nan,  nan,  nan,  nan],\n",
       "        [ nan,  nan,  nan,  nan,  nan,  nan],\n",
       "        [ nan,  nan,  nan,  nan,  nan,  nan]]])</pre></div></li><li class='xr-var-item'><div class='xr-var-name'><span>definition_matrix</span></div><div class='xr-var-dims'>(nodes, techs, carriers)</div><div class='xr-var-dtype'>bool</div><div class='xr-var-preview xr-preview'>True False False ... True False</div><input id='attrs-4119c13d-f62b-45cd-abb6-677dc582779c' class='xr-var-attrs-in' type='checkbox' ><label for='attrs-4119c13d-f62b-45cd-abb6-677dc582779c' title='Show/Hide attributes'><svg class='icon xr-icon-file-text2'><use xlink:href='#icon-file-text2'></use></svg></label><input id='data-838deb4c-02a4-4f47-8dd2-04542cb18810' class='xr-var-data-in' type='checkbox'><label for='data-838deb4c-02a4-4f47-8dd2-04542cb18810' title='Show/Hide data repr'><svg class='icon xr-icon-database'><use xlink:href='#icon-database'></use></svg></label><div class='xr-var-attrs'><dl class='xr-attrs'><dt><span>title :</span></dt><dd></dd><dt><span>description :</span></dt><dd>Whether a technology is defined with particular carriers and at a particular node.</dd><dt><span>default :</span></dt><dd>False</dd><dt><span>dtype :</span></dt><dd>bool</dd><dt><span>resample_method :</span></dt><dd>first</dd><dt><span>one_of :</span></dt><dd>None</dd><dt><span>pivot_values_to_dim :</span></dt><dd>None</dd></dl></div><div class='xr-var-data'><pre>array([[[ True, False],\n",
       "        [False, False],\n",
       "        [False,  True],\n",
       "        [False, False],\n",
       "        [False, False],\n",
       "        [False, False],\n",
       "        [False,  True],\n",
       "        [ True,  True],\n",
       "        [False, False],\n",
       "        [False, False]],\n",
       "\n",
       "       [[False, False],\n",
       "        [ True, False],\n",
       "        [False, False],\n",
       "        [False,  True],\n",
       "        [False, False],\n",
       "        [False, False],\n",
       "        [False,  True],\n",
       "        [ True,  True],\n",
       "        [False, False],\n",
       "...\n",
       "        [False, False],\n",
       "        [False, False],\n",
       "        [False, False],\n",
       "        [False,  True],\n",
       "        [False, False],\n",
       "        [False, False],\n",
       "        [False, False],\n",
       "        [False,  True],\n",
       "        [False, False]],\n",
       "\n",
       "       [[False, False],\n",
       "        [False, False],\n",
       "        [False, False],\n",
       "        [False, False],\n",
       "        [False, False],\n",
       "        [ True, False],\n",
       "        [False, False],\n",
       "        [False, False],\n",
       "        [False, False],\n",
       "        [ True, False]]])</pre></div></li><li class='xr-var-item'><div class='xr-var-name'><span>distance</span></div><div class='xr-var-dims'>(techs)</div><div class='xr-var-dtype'>float64</div><div class='xr-var-preview xr-preview'>0.1734 0.2448 0.1734 ... nan nan</div><input id='attrs-19bb8abe-709f-4f9f-8ab2-ec312ce5a9e6' class='xr-var-attrs-in' type='checkbox' ><label for='attrs-19bb8abe-709f-4f9f-8ab2-ec312ce5a9e6' title='Show/Hide attributes'><svg class='icon xr-icon-file-text2'><use xlink:href='#icon-file-text2'></use></svg></label><input id='data-634047ba-3737-483e-9c79-c902986c6397' class='xr-var-data-in' type='checkbox'><label for='data-634047ba-3737-483e-9c79-c902986c6397' title='Show/Hide data repr'><svg class='icon xr-icon-database'><use xlink:href='#icon-database'></use></svg></label><div class='xr-var-attrs'><dl class='xr-attrs'><dt><span>title :</span></dt><dd>Distance spanned by link.</dd><dt><span>description :</span></dt><dd>Used for `..._per_distance` constraints. If not defined, it will be automatically derived from latitude/longitude of nodes in a link.</dd><dt><span>default :</span></dt><dd>1.0</dd><dt><span>resample_method :</span></dt><dd>mean</dd><dt><span>unit :</span></dt><dd>distance.</dd></dl></div><div class='xr-var-data'><pre>array([0.17343466, 0.2447656 , 0.17343466, 0.2447656 , 0.22815033,\n",
       "       0.15484888,        nan,        nan,        nan,        nan])</pre></div></li><li class='xr-var-item'><div class='xr-var-name'><span>timestep_resolution</span></div><div class='xr-var-dims'>(timesteps)</div><div class='xr-var-dtype'>float64</div><div class='xr-var-preview xr-preview'>1.0</div><input id='attrs-b961b089-10ac-4c51-bf76-9bbc358f8355' class='xr-var-attrs-in' type='checkbox' ><label for='attrs-b961b089-10ac-4c51-bf76-9bbc358f8355' title='Show/Hide attributes'><svg class='icon xr-icon-file-text2'><use xlink:href='#icon-file-text2'></use></svg></label><input id='data-a397a6e9-4959-4801-9dc6-52890bb2ac3d' class='xr-var-data-in' type='checkbox'><label for='data-a397a6e9-4959-4801-9dc6-52890bb2ac3d' title='Show/Hide data repr'><svg class='icon xr-icon-database'><use xlink:href='#icon-database'></use></svg></label><div class='xr-var-attrs'><dl class='xr-attrs'><dt><span>title :</span></dt><dd>Resolution per timestep.</dd><dt><span>description :</span></dt><dd></dd><dt><span>default :</span></dt><dd>1</dd><dt><span>resample_method :</span></dt><dd>sum</dd><dt><span>unit :</span></dt><dd>hours.</dd></dl></div><div class='xr-var-data'><pre>array([1.])</pre></div></li><li class='xr-var-item'><div class='xr-var-name'><span>timestep_weights</span></div><div class='xr-var-dims'>(timesteps)</div><div class='xr-var-dtype'>float64</div><div class='xr-var-preview xr-preview'>1.0</div><input id='attrs-eb5f744a-c0b6-4bb4-a562-47b1f8be2a17' class='xr-var-attrs-in' type='checkbox' ><label for='attrs-eb5f744a-c0b6-4bb4-a562-47b1f8be2a17' title='Show/Hide attributes'><svg class='icon xr-icon-file-text2'><use xlink:href='#icon-file-text2'></use></svg></label><input id='data-f4aa9589-773b-42de-b81f-60467a87c713' class='xr-var-data-in' type='checkbox'><label for='data-f4aa9589-773b-42de-b81f-60467a87c713' title='Show/Hide data repr'><svg class='icon xr-icon-database'><use xlink:href='#icon-database'></use></svg></label><div class='xr-var-attrs'><dl class='xr-attrs'><dt><span>title :</span></dt><dd>Weight per timestep.</dd><dt><span>description :</span></dt><dd></dd><dt><span>default :</span></dt><dd>1</dd><dt><span>resample_method :</span></dt><dd>mean</dd><dt><span>unit :</span></dt><dd>unitless.</dd></dl></div><div class='xr-var-data'><pre>array([1.])</pre></div></li></ul></div></li><li class='xr-section-item'><input id='section-24ef2d93-96f5-4da9-951c-32a8b0fd79b8' class='xr-section-summary-in' type='checkbox'  ><label for='section-24ef2d93-96f5-4da9-951c-32a8b0fd79b8' class='xr-section-summary' >Indexes: <span>(5)</span></label><div class='xr-section-inline-details'></div><div class='xr-section-details'><ul class='xr-var-list'><li class='xr-var-item'><div class='xr-index-name'><div>costs</div></div><div class='xr-index-preview'>PandasIndex</div><div></div><input id='index-1c117c3a-add6-44d6-b216-7146a9c7ee9b' class='xr-index-data-in' type='checkbox'/><label for='index-1c117c3a-add6-44d6-b216-7146a9c7ee9b' title='Show/Hide index repr'><svg class='icon xr-icon-database'><use xlink:href='#icon-database'></use></svg></label><div class='xr-index-data'><pre>PandasIndex(Index([&#x27;monetary&#x27;], dtype=&#x27;object&#x27;, name=&#x27;costs&#x27;))</pre></div></li><li class='xr-var-item'><div class='xr-index-name'><div>techs</div></div><div class='xr-index-preview'>PandasIndex</div><div></div><input id='index-73baa1a6-64ce-43e6-89f6-5ac99b1a6f1b' class='xr-index-data-in' type='checkbox'/><label for='index-73baa1a6-64ce-43e6-89f6-5ac99b1a6f1b' title='Show/Hide index repr'><svg class='icon xr-icon-database'><use xlink:href='#icon-database'></use></svg></label><div class='xr-index-data'><pre>PandasIndex(Index([&#x27;E1_to_D1&#x27;, &#x27;E1_to_D2&#x27;, &#x27;H1_to_D1&#x27;, &#x27;H1_to_D2&#x27;, &#x27;S1_to_H1&#x27;, &#x27;S2_to_E1&#x27;,\n",
       "       &#x27;demand_heat&#x27;, &#x27;heatpump&#x27;, &#x27;supply_geothermal&#x27;, &#x27;supply_grid_power&#x27;],\n",
       "      dtype=&#x27;object&#x27;, name=&#x27;techs&#x27;))</pre></div></li><li class='xr-var-item'><div class='xr-index-name'><div>carriers</div></div><div class='xr-index-preview'>PandasIndex</div><div></div><input id='index-57d99d25-8caa-413b-8e3c-36a82de587fd' class='xr-index-data-in' type='checkbox'/><label for='index-57d99d25-8caa-413b-8e3c-36a82de587fd' title='Show/Hide index repr'><svg class='icon xr-icon-database'><use xlink:href='#icon-database'></use></svg></label><div class='xr-index-data'><pre>PandasIndex(Index([&#x27;electricity&#x27;, &#x27;heat&#x27;], dtype=&#x27;object&#x27;, name=&#x27;carriers&#x27;))</pre></div></li><li class='xr-var-item'><div class='xr-index-name'><div>nodes</div></div><div class='xr-index-preview'>PandasIndex</div><div></div><input id='index-eeb3589a-2fc9-46ab-a399-d79085e10e5a' class='xr-index-data-in' type='checkbox'/><label for='index-eeb3589a-2fc9-46ab-a399-d79085e10e5a' title='Show/Hide index repr'><svg class='icon xr-icon-database'><use xlink:href='#icon-database'></use></svg></label><div class='xr-index-data'><pre>PandasIndex(Index([&#x27;D1&#x27;, &#x27;D2&#x27;, &#x27;E1&#x27;, &#x27;H1&#x27;, &#x27;S1&#x27;, &#x27;S2&#x27;], dtype=&#x27;object&#x27;, name=&#x27;nodes&#x27;))</pre></div></li><li class='xr-var-item'><div class='xr-index-name'><div>timesteps</div></div><div class='xr-index-preview'>PandasIndex</div><div></div><input id='index-d1c133e4-bb86-4977-a092-a6417664842e' class='xr-index-data-in' type='checkbox'/><label for='index-d1c133e4-bb86-4977-a092-a6417664842e' title='Show/Hide index repr'><svg class='icon xr-icon-database'><use xlink:href='#icon-database'></use></svg></label><div class='xr-index-data'><pre>PandasIndex(DatetimeIndex([&#x27;2050-01-01&#x27;], dtype=&#x27;datetime64[ns]&#x27;, name=&#x27;timesteps&#x27;, freq=None))</pre></div></li></ul></div></li><li class='xr-section-item'><input id='section-25f70a4f-9cee-4122-9ec3-1080f79818f1' class='xr-section-summary-in' type='checkbox' disabled ><label for='section-25f70a4f-9cee-4122-9ec3-1080f79818f1' class='xr-section-summary'  title='Expand/collapse section'>Attributes: <span>(0)</span></label><div class='xr-section-inline-details'></div><div class='xr-section-details'><dl class='xr-attrs'></dl></div></li></ul></div></div>"
      ],
      "text/plain": [
       "<xarray.Dataset> Size: 3kB\n",
       "Dimensions:                     (costs: 1, techs: 10, nodes: 6, carriers: 2,\n",
       "                                 timesteps: 1)\n",
       "Coordinates:\n",
       "  * costs                       (costs) object 8B 'monetary'\n",
       "  * techs                       (techs) object 80B 'E1_to_D1' ... 'supply_gri...\n",
       "  * carriers                    (carriers) object 16B 'electricity' 'heat'\n",
       "  * nodes                       (nodes) object 48B 'D1' 'D2' 'E1' 'H1' 'S1' 'S2'\n",
       "  * timesteps                   (timesteps) datetime64[ns] 8B 2050-01-01\n",
       "Data variables: (12/23)\n",
       "    cost_interest_rate          (costs) float64 8B 0.1\n",
       "    bigM                        float64 8B 1e+06\n",
       "    objective_cost_weights      (costs) float64 8B 1.0\n",
       "    base_tech                   (techs) object 80B 'transmission' ... 'supply'\n",
       "    carrier_in                  (nodes, techs, carriers) bool 120B True ... F...\n",
       "    color                       (techs) object 80B '#6783E3' ... '#C5ABE3'\n",
       "    ...                          ...\n",
       "    longitude                   (nodes) float64 48B 4.361 4.362 ... 4.356 4.357\n",
       "    sink_use_equals             (timesteps, techs, nodes) float64 480B nan .....\n",
       "    definition_matrix           (nodes, techs, carriers) bool 120B True ... F...\n",
       "    distance                    (techs) float64 80B 0.1734 0.2448 ... nan nan\n",
       "    timestep_resolution         (timesteps) float64 8B 1.0\n",
       "    timestep_weights            (timesteps) float64 8B 1.0"
      ]
     },
     "execution_count": 248,
     "metadata": {},
     "output_type": "execute_result"
    }
   ],
   "source": [
    "model.inputs"
   ]
  },
  {
   "cell_type": "code",
   "execution_count": 249,
   "id": "348792d0",
   "metadata": {},
   "outputs": [
    {
     "data": {
      "text/plain": [
       "techs              carriers   \n",
       "E1_to_D1           electricity    2000.0\n",
       "E1_to_D2           electricity    2000.0\n",
       "H1_to_D1           heat           2000.0\n",
       "H1_to_D2           heat           2000.0\n",
       "S1_to_H1           heat           2000.0\n",
       "S2_to_E1           electricity    2000.0\n",
       "heatpump           heat             50.0\n",
       "supply_geothermal  heat           2000.0\n",
       "supply_grid_power  electricity    2000.0\n",
       "Name: flow_cap_max, dtype: float64"
      ]
     },
     "execution_count": 249,
     "metadata": {},
     "output_type": "execute_result"
    }
   ],
   "source": [
    "model.inputs.flow_cap_max.to_series().dropna()"
   ]
  },
  {
   "cell_type": "code",
   "execution_count": 250,
   "id": "6ed7dc7e",
   "metadata": {},
   "outputs": [
    {
     "data": {
      "text/plain": [
       "techs        nodes\n",
       "demand_heat  D1       150.0\n",
       "             D2       200.0\n",
       "Name: sink_use_equals, dtype: float64"
      ]
     },
     "execution_count": 250,
     "metadata": {},
     "output_type": "execute_result"
    }
   ],
   "source": [
    "model.inputs.sink_use_equals.sum(\n",
    "    \"timesteps\", min_count=1, skipna=True\n",
    ").to_series().dropna()"
   ]
  },
  {
   "cell_type": "code",
   "execution_count": 251,
   "id": "f51d6f61",
   "metadata": {},
   "outputs": [
    {
     "name": "stdout",
     "output_type": "stream",
     "text": [
      "[2025-10-13 10:05:22] INFO     Model: backend build starting\n",
      "[2025-10-13 10:05:22] INFO     Optimisation Model | parameters/lookups | Generated.\n",
      "[2025-10-13 10:05:23] INFO     Optimisation Model | variables | Generated.\n",
      "[2025-10-13 10:05:25] INFO     Optimisation Model | global_expressions | Generated.\n",
      "[2025-10-13 10:05:27] INFO     Optimisation Model | constraints | Generated.\n",
      "[2025-10-13 10:05:27] INFO     Optimisation Model | piecewise_constraints | Generated.\n",
      "[2025-10-13 10:05:27] INFO     Optimisation Model | objectives | Generated.\n",
      "[2025-10-13 10:05:27] INFO     Model: backend build complete\n",
      "[2025-10-13 10:05:27] INFO     Optimisation model | starting model in base mode.\n",
      "[2025-10-13 10:05:28] INFO     Backend: solver finished running. Time since start of solving optimisation problem: 0:00:00.869445\n",
      "[2025-10-13 10:05:28] INFO     Postprocessing: applied zero threshold 1e-10 to model results.\n",
      "[2025-10-13 10:05:28] INFO     Postprocessing: ended. Time since start of solving optimisation problem: 0:00:00.991357\n",
      "[2025-10-13 10:05:28] INFO     Backend: model solve completed. Time since start of solving optimisation problem: 0:00:00.991357\n"
     ]
    }
   ],
   "source": [
    "model.build()\n",
    "model.solve()"
   ]
  },
  {
   "cell_type": "code",
   "execution_count": 252,
   "id": "140b6902",
   "metadata": {},
   "outputs": [
    {
     "data": {
      "text/html": [
       "<div><svg style=\"position: absolute; width: 0; height: 0; overflow: hidden\">\n",
       "<defs>\n",
       "<symbol id=\"icon-database\" viewBox=\"0 0 32 32\">\n",
       "<path d=\"M16 0c-8.837 0-16 2.239-16 5v4c0 2.761 7.163 5 16 5s16-2.239 16-5v-4c0-2.761-7.163-5-16-5z\"></path>\n",
       "<path d=\"M16 17c-8.837 0-16-2.239-16-5v6c0 2.761 7.163 5 16 5s16-2.239 16-5v-6c0 2.761-7.163 5-16 5z\"></path>\n",
       "<path d=\"M16 26c-8.837 0-16-2.239-16-5v6c0 2.761 7.163 5 16 5s16-2.239 16-5v-6c0 2.761-7.163 5-16 5z\"></path>\n",
       "</symbol>\n",
       "<symbol id=\"icon-file-text2\" viewBox=\"0 0 32 32\">\n",
       "<path d=\"M28.681 7.159c-0.694-0.947-1.662-2.053-2.724-3.116s-2.169-2.030-3.116-2.724c-1.612-1.182-2.393-1.319-2.841-1.319h-15.5c-1.378 0-2.5 1.121-2.5 2.5v27c0 1.378 1.122 2.5 2.5 2.5h23c1.378 0 2.5-1.122 2.5-2.5v-19.5c0-0.448-0.137-1.23-1.319-2.841zM24.543 5.457c0.959 0.959 1.712 1.825 2.268 2.543h-4.811v-4.811c0.718 0.556 1.584 1.309 2.543 2.268zM28 29.5c0 0.271-0.229 0.5-0.5 0.5h-23c-0.271 0-0.5-0.229-0.5-0.5v-27c0-0.271 0.229-0.5 0.5-0.5 0 0 15.499-0 15.5 0v7c0 0.552 0.448 1 1 1h7v19.5z\"></path>\n",
       "<path d=\"M23 26h-14c-0.552 0-1-0.448-1-1s0.448-1 1-1h14c0.552 0 1 0.448 1 1s-0.448 1-1 1z\"></path>\n",
       "<path d=\"M23 22h-14c-0.552 0-1-0.448-1-1s0.448-1 1-1h14c0.552 0 1 0.448 1 1s-0.448 1-1 1z\"></path>\n",
       "<path d=\"M23 18h-14c-0.552 0-1-0.448-1-1s0.448-1 1-1h14c0.552 0 1 0.448 1 1s-0.448 1-1 1z\"></path>\n",
       "</symbol>\n",
       "</defs>\n",
       "</svg>\n",
       "<style>/* CSS stylesheet for displaying xarray objects in jupyterlab.\n",
       " *\n",
       " */\n",
       "\n",
       ":root {\n",
       "  --xr-font-color0: var(--jp-content-font-color0, rgba(0, 0, 0, 1));\n",
       "  --xr-font-color2: var(--jp-content-font-color2, rgba(0, 0, 0, 0.54));\n",
       "  --xr-font-color3: var(--jp-content-font-color3, rgba(0, 0, 0, 0.38));\n",
       "  --xr-border-color: var(--jp-border-color2, #e0e0e0);\n",
       "  --xr-disabled-color: var(--jp-layout-color3, #bdbdbd);\n",
       "  --xr-background-color: var(--jp-layout-color0, white);\n",
       "  --xr-background-color-row-even: var(--jp-layout-color1, white);\n",
       "  --xr-background-color-row-odd: var(--jp-layout-color2, #eeeeee);\n",
       "}\n",
       "\n",
       "html[theme=dark],\n",
       "body[data-theme=dark],\n",
       "body.vscode-dark {\n",
       "  --xr-font-color0: rgba(255, 255, 255, 1);\n",
       "  --xr-font-color2: rgba(255, 255, 255, 0.54);\n",
       "  --xr-font-color3: rgba(255, 255, 255, 0.38);\n",
       "  --xr-border-color: #1F1F1F;\n",
       "  --xr-disabled-color: #515151;\n",
       "  --xr-background-color: #111111;\n",
       "  --xr-background-color-row-even: #111111;\n",
       "  --xr-background-color-row-odd: #313131;\n",
       "}\n",
       "\n",
       ".xr-wrap {\n",
       "  display: block !important;\n",
       "  min-width: 300px;\n",
       "  max-width: 700px;\n",
       "}\n",
       "\n",
       ".xr-text-repr-fallback {\n",
       "  /* fallback to plain text repr when CSS is not injected (untrusted notebook) */\n",
       "  display: none;\n",
       "}\n",
       "\n",
       ".xr-header {\n",
       "  padding-top: 6px;\n",
       "  padding-bottom: 6px;\n",
       "  margin-bottom: 4px;\n",
       "  border-bottom: solid 1px var(--xr-border-color);\n",
       "}\n",
       "\n",
       ".xr-header > div,\n",
       ".xr-header > ul {\n",
       "  display: inline;\n",
       "  margin-top: 0;\n",
       "  margin-bottom: 0;\n",
       "}\n",
       "\n",
       ".xr-obj-type,\n",
       ".xr-array-name {\n",
       "  margin-left: 2px;\n",
       "  margin-right: 10px;\n",
       "}\n",
       "\n",
       ".xr-obj-type {\n",
       "  color: var(--xr-font-color2);\n",
       "}\n",
       "\n",
       ".xr-sections {\n",
       "  padding-left: 0 !important;\n",
       "  display: grid;\n",
       "  grid-template-columns: 150px auto auto 1fr 20px 20px;\n",
       "}\n",
       "\n",
       ".xr-section-item {\n",
       "  display: contents;\n",
       "}\n",
       "\n",
       ".xr-section-item input {\n",
       "  display: none;\n",
       "}\n",
       "\n",
       ".xr-section-item input + label {\n",
       "  color: var(--xr-disabled-color);\n",
       "}\n",
       "\n",
       ".xr-section-item input:enabled + label {\n",
       "  cursor: pointer;\n",
       "  color: var(--xr-font-color2);\n",
       "}\n",
       "\n",
       ".xr-section-item input:enabled + label:hover {\n",
       "  color: var(--xr-font-color0);\n",
       "}\n",
       "\n",
       ".xr-section-summary {\n",
       "  grid-column: 1;\n",
       "  color: var(--xr-font-color2);\n",
       "  font-weight: 500;\n",
       "}\n",
       "\n",
       ".xr-section-summary > span {\n",
       "  display: inline-block;\n",
       "  padding-left: 0.5em;\n",
       "}\n",
       "\n",
       ".xr-section-summary-in:disabled + label {\n",
       "  color: var(--xr-font-color2);\n",
       "}\n",
       "\n",
       ".xr-section-summary-in + label:before {\n",
       "  display: inline-block;\n",
       "  content: '►';\n",
       "  font-size: 11px;\n",
       "  width: 15px;\n",
       "  text-align: center;\n",
       "}\n",
       "\n",
       ".xr-section-summary-in:disabled + label:before {\n",
       "  color: var(--xr-disabled-color);\n",
       "}\n",
       "\n",
       ".xr-section-summary-in:checked + label:before {\n",
       "  content: '▼';\n",
       "}\n",
       "\n",
       ".xr-section-summary-in:checked + label > span {\n",
       "  display: none;\n",
       "}\n",
       "\n",
       ".xr-section-summary,\n",
       ".xr-section-inline-details {\n",
       "  padding-top: 4px;\n",
       "  padding-bottom: 4px;\n",
       "}\n",
       "\n",
       ".xr-section-inline-details {\n",
       "  grid-column: 2 / -1;\n",
       "}\n",
       "\n",
       ".xr-section-details {\n",
       "  display: none;\n",
       "  grid-column: 1 / -1;\n",
       "  margin-bottom: 5px;\n",
       "}\n",
       "\n",
       ".xr-section-summary-in:checked ~ .xr-section-details {\n",
       "  display: contents;\n",
       "}\n",
       "\n",
       ".xr-array-wrap {\n",
       "  grid-column: 1 / -1;\n",
       "  display: grid;\n",
       "  grid-template-columns: 20px auto;\n",
       "}\n",
       "\n",
       ".xr-array-wrap > label {\n",
       "  grid-column: 1;\n",
       "  vertical-align: top;\n",
       "}\n",
       "\n",
       ".xr-preview {\n",
       "  color: var(--xr-font-color3);\n",
       "}\n",
       "\n",
       ".xr-array-preview,\n",
       ".xr-array-data {\n",
       "  padding: 0 5px !important;\n",
       "  grid-column: 2;\n",
       "}\n",
       "\n",
       ".xr-array-data,\n",
       ".xr-array-in:checked ~ .xr-array-preview {\n",
       "  display: none;\n",
       "}\n",
       "\n",
       ".xr-array-in:checked ~ .xr-array-data,\n",
       ".xr-array-preview {\n",
       "  display: inline-block;\n",
       "}\n",
       "\n",
       ".xr-dim-list {\n",
       "  display: inline-block !important;\n",
       "  list-style: none;\n",
       "  padding: 0 !important;\n",
       "  margin: 0;\n",
       "}\n",
       "\n",
       ".xr-dim-list li {\n",
       "  display: inline-block;\n",
       "  padding: 0;\n",
       "  margin: 0;\n",
       "}\n",
       "\n",
       ".xr-dim-list:before {\n",
       "  content: '(';\n",
       "}\n",
       "\n",
       ".xr-dim-list:after {\n",
       "  content: ')';\n",
       "}\n",
       "\n",
       ".xr-dim-list li:not(:last-child):after {\n",
       "  content: ',';\n",
       "  padding-right: 5px;\n",
       "}\n",
       "\n",
       ".xr-has-index {\n",
       "  font-weight: bold;\n",
       "}\n",
       "\n",
       ".xr-var-list,\n",
       ".xr-var-item {\n",
       "  display: contents;\n",
       "}\n",
       "\n",
       ".xr-var-item > div,\n",
       ".xr-var-item label,\n",
       ".xr-var-item > .xr-var-name span {\n",
       "  background-color: var(--xr-background-color-row-even);\n",
       "  margin-bottom: 0;\n",
       "}\n",
       "\n",
       ".xr-var-item > .xr-var-name:hover span {\n",
       "  padding-right: 5px;\n",
       "}\n",
       "\n",
       ".xr-var-list > li:nth-child(odd) > div,\n",
       ".xr-var-list > li:nth-child(odd) > label,\n",
       ".xr-var-list > li:nth-child(odd) > .xr-var-name span {\n",
       "  background-color: var(--xr-background-color-row-odd);\n",
       "}\n",
       "\n",
       ".xr-var-name {\n",
       "  grid-column: 1;\n",
       "}\n",
       "\n",
       ".xr-var-dims {\n",
       "  grid-column: 2;\n",
       "}\n",
       "\n",
       ".xr-var-dtype {\n",
       "  grid-column: 3;\n",
       "  text-align: right;\n",
       "  color: var(--xr-font-color2);\n",
       "}\n",
       "\n",
       ".xr-var-preview {\n",
       "  grid-column: 4;\n",
       "}\n",
       "\n",
       ".xr-index-preview {\n",
       "  grid-column: 2 / 5;\n",
       "  color: var(--xr-font-color2);\n",
       "}\n",
       "\n",
       ".xr-var-name,\n",
       ".xr-var-dims,\n",
       ".xr-var-dtype,\n",
       ".xr-preview,\n",
       ".xr-attrs dt {\n",
       "  white-space: nowrap;\n",
       "  overflow: hidden;\n",
       "  text-overflow: ellipsis;\n",
       "  padding-right: 10px;\n",
       "}\n",
       "\n",
       ".xr-var-name:hover,\n",
       ".xr-var-dims:hover,\n",
       ".xr-var-dtype:hover,\n",
       ".xr-attrs dt:hover {\n",
       "  overflow: visible;\n",
       "  width: auto;\n",
       "  z-index: 1;\n",
       "}\n",
       "\n",
       ".xr-var-attrs,\n",
       ".xr-var-data,\n",
       ".xr-index-data {\n",
       "  display: none;\n",
       "  background-color: var(--xr-background-color) !important;\n",
       "  padding-bottom: 5px !important;\n",
       "}\n",
       "\n",
       ".xr-var-attrs-in:checked ~ .xr-var-attrs,\n",
       ".xr-var-data-in:checked ~ .xr-var-data,\n",
       ".xr-index-data-in:checked ~ .xr-index-data {\n",
       "  display: block;\n",
       "}\n",
       "\n",
       ".xr-var-data > table {\n",
       "  float: right;\n",
       "}\n",
       "\n",
       ".xr-var-name span,\n",
       ".xr-var-data,\n",
       ".xr-index-name div,\n",
       ".xr-index-data,\n",
       ".xr-attrs {\n",
       "  padding-left: 25px !important;\n",
       "}\n",
       "\n",
       ".xr-attrs,\n",
       ".xr-var-attrs,\n",
       ".xr-var-data,\n",
       ".xr-index-data {\n",
       "  grid-column: 1 / -1;\n",
       "}\n",
       "\n",
       "dl.xr-attrs {\n",
       "  padding: 0;\n",
       "  margin: 0;\n",
       "  display: grid;\n",
       "  grid-template-columns: 125px auto;\n",
       "}\n",
       "\n",
       ".xr-attrs dt,\n",
       ".xr-attrs dd {\n",
       "  padding: 0;\n",
       "  margin: 0;\n",
       "  float: left;\n",
       "  padding-right: 10px;\n",
       "  width: auto;\n",
       "}\n",
       "\n",
       ".xr-attrs dt {\n",
       "  font-weight: normal;\n",
       "  grid-column: 1;\n",
       "}\n",
       "\n",
       ".xr-attrs dt:hover span {\n",
       "  display: inline-block;\n",
       "  background: var(--xr-background-color);\n",
       "  padding-right: 10px;\n",
       "}\n",
       "\n",
       ".xr-attrs dd {\n",
       "  grid-column: 2;\n",
       "  white-space: pre-wrap;\n",
       "  word-break: break-all;\n",
       "}\n",
       "\n",
       ".xr-icon-database,\n",
       ".xr-icon-file-text2,\n",
       ".xr-no-icon {\n",
       "  display: inline-block;\n",
       "  vertical-align: middle;\n",
       "  width: 1em;\n",
       "  height: 1.5em !important;\n",
       "  stroke-width: 0;\n",
       "  stroke: currentColor;\n",
       "  fill: currentColor;\n",
       "}\n",
       "</style><pre class='xr-text-repr-fallback'>&lt;xarray.Dataset&gt; Size: 10kB\n",
       "Dimensions:                     (nodes: 6, techs: 10, carriers: 2,\n",
       "                                 timesteps: 1, costs: 1)\n",
       "Coordinates:\n",
       "  * techs                       (techs) object 80B &#x27;E1_to_D1&#x27; ... &#x27;supply_gri...\n",
       "  * carriers                    (carriers) object 16B &#x27;electricity&#x27; &#x27;heat&#x27;\n",
       "  * nodes                       (nodes) object 48B &#x27;D1&#x27; &#x27;D2&#x27; &#x27;E1&#x27; &#x27;H1&#x27; &#x27;S1&#x27; &#x27;S2&#x27;\n",
       "  * timesteps                   (timesteps) datetime64[ns] 8B 2050-01-01\n",
       "  * costs                       (costs) object 8B &#x27;monetary&#x27;\n",
       "Data variables: (12/21)\n",
       "    flow_cap                    (nodes, techs, carriers) float64 960B 53.71 ....\n",
       "    link_flow_cap               (techs) float64 80B 53.71 53.71 ... nan nan\n",
       "    flow_out                    (nodes, techs, carriers, timesteps) float64 960B ...\n",
       "    flow_in                     (nodes, techs, carriers, timesteps) float64 960B ...\n",
       "    source_use                  (nodes, techs, timesteps) float64 480B nan .....\n",
       "    source_cap                  (nodes, techs) float64 480B nan nan ... 109.6\n",
       "    ...                          ...\n",
       "    min_cost_optimisation       float64 8B 0.4912\n",
       "    capacity_factor             (nodes, techs, carriers, timesteps) float64 960B ...\n",
       "    systemwide_capacity_factor  (techs, carriers) float64 160B 0.49 0.0 ... 0.0\n",
       "    systemwide_levelised_cost   (techs, costs, carriers) float64 160B 2.226e-...\n",
       "    total_levelised_cost        (costs, carriers) float64 16B 0.004481 0.001392\n",
       "    unmet_sum                   (nodes, carriers, timesteps) float64 96B 0.0 ...</pre><div class='xr-wrap' style='display:none'><div class='xr-header'><div class='xr-obj-type'>xarray.Dataset</div></div><ul class='xr-sections'><li class='xr-section-item'><input id='section-c22409de-2ffc-434d-9120-03029a0c81c0' class='xr-section-summary-in' type='checkbox' disabled ><label for='section-c22409de-2ffc-434d-9120-03029a0c81c0' class='xr-section-summary'  title='Expand/collapse section'>Dimensions:</label><div class='xr-section-inline-details'><ul class='xr-dim-list'><li><span class='xr-has-index'>nodes</span>: 6</li><li><span class='xr-has-index'>techs</span>: 10</li><li><span class='xr-has-index'>carriers</span>: 2</li><li><span class='xr-has-index'>timesteps</span>: 1</li><li><span class='xr-has-index'>costs</span>: 1</li></ul></div><div class='xr-section-details'></div></li><li class='xr-section-item'><input id='section-e1cbb615-da08-471a-ac0f-660aa9ef0980' class='xr-section-summary-in' type='checkbox'  checked><label for='section-e1cbb615-da08-471a-ac0f-660aa9ef0980' class='xr-section-summary' >Coordinates: <span>(5)</span></label><div class='xr-section-inline-details'></div><div class='xr-section-details'><ul class='xr-var-list'><li class='xr-var-item'><div class='xr-var-name'><span class='xr-has-index'>techs</span></div><div class='xr-var-dims'>(techs)</div><div class='xr-var-dtype'>object</div><div class='xr-var-preview xr-preview'>&#x27;E1_to_D1&#x27; ... &#x27;supply_grid_power&#x27;</div><input id='attrs-a265897e-d9c9-4ae6-b5f2-287843d2866c' class='xr-var-attrs-in' type='checkbox' disabled><label for='attrs-a265897e-d9c9-4ae6-b5f2-287843d2866c' title='Show/Hide attributes'><svg class='icon xr-icon-file-text2'><use xlink:href='#icon-file-text2'></use></svg></label><input id='data-b97d1318-8883-4493-8342-e540098d7c46' class='xr-var-data-in' type='checkbox'><label for='data-b97d1318-8883-4493-8342-e540098d7c46' title='Show/Hide data repr'><svg class='icon xr-icon-database'><use xlink:href='#icon-database'></use></svg></label><div class='xr-var-attrs'><dl class='xr-attrs'></dl></div><div class='xr-var-data'><pre>array([&#x27;E1_to_D1&#x27;, &#x27;E1_to_D2&#x27;, &#x27;H1_to_D1&#x27;, &#x27;H1_to_D2&#x27;, &#x27;S1_to_H1&#x27;, &#x27;S2_to_E1&#x27;,\n",
       "       &#x27;demand_heat&#x27;, &#x27;heatpump&#x27;, &#x27;supply_geothermal&#x27;, &#x27;supply_grid_power&#x27;],\n",
       "      dtype=object)</pre></div></li><li class='xr-var-item'><div class='xr-var-name'><span class='xr-has-index'>carriers</span></div><div class='xr-var-dims'>(carriers)</div><div class='xr-var-dtype'>object</div><div class='xr-var-preview xr-preview'>&#x27;electricity&#x27; &#x27;heat&#x27;</div><input id='attrs-4382a5c8-d209-49ab-9d9d-24a23812167f' class='xr-var-attrs-in' type='checkbox' disabled><label for='attrs-4382a5c8-d209-49ab-9d9d-24a23812167f' title='Show/Hide attributes'><svg class='icon xr-icon-file-text2'><use xlink:href='#icon-file-text2'></use></svg></label><input id='data-f3ff20f6-eaa9-4235-86b3-ce90fba153f4' class='xr-var-data-in' type='checkbox'><label for='data-f3ff20f6-eaa9-4235-86b3-ce90fba153f4' title='Show/Hide data repr'><svg class='icon xr-icon-database'><use xlink:href='#icon-database'></use></svg></label><div class='xr-var-attrs'><dl class='xr-attrs'></dl></div><div class='xr-var-data'><pre>array([&#x27;electricity&#x27;, &#x27;heat&#x27;], dtype=object)</pre></div></li><li class='xr-var-item'><div class='xr-var-name'><span class='xr-has-index'>nodes</span></div><div class='xr-var-dims'>(nodes)</div><div class='xr-var-dtype'>object</div><div class='xr-var-preview xr-preview'>&#x27;D1&#x27; &#x27;D2&#x27; &#x27;E1&#x27; &#x27;H1&#x27; &#x27;S1&#x27; &#x27;S2&#x27;</div><input id='attrs-cbc78aa0-a79a-442e-b6d6-9fe29a80d47f' class='xr-var-attrs-in' type='checkbox' disabled><label for='attrs-cbc78aa0-a79a-442e-b6d6-9fe29a80d47f' title='Show/Hide attributes'><svg class='icon xr-icon-file-text2'><use xlink:href='#icon-file-text2'></use></svg></label><input id='data-3c4fdd0c-886e-434e-afe8-cff4f7f028ee' class='xr-var-data-in' type='checkbox'><label for='data-3c4fdd0c-886e-434e-afe8-cff4f7f028ee' title='Show/Hide data repr'><svg class='icon xr-icon-database'><use xlink:href='#icon-database'></use></svg></label><div class='xr-var-attrs'><dl class='xr-attrs'></dl></div><div class='xr-var-data'><pre>array([&#x27;D1&#x27;, &#x27;D2&#x27;, &#x27;E1&#x27;, &#x27;H1&#x27;, &#x27;S1&#x27;, &#x27;S2&#x27;], dtype=object)</pre></div></li><li class='xr-var-item'><div class='xr-var-name'><span class='xr-has-index'>timesteps</span></div><div class='xr-var-dims'>(timesteps)</div><div class='xr-var-dtype'>datetime64[ns]</div><div class='xr-var-preview xr-preview'>2050-01-01</div><input id='attrs-c6688bb6-da7e-4c14-8472-a8fc0d8add14' class='xr-var-attrs-in' type='checkbox' disabled><label for='attrs-c6688bb6-da7e-4c14-8472-a8fc0d8add14' title='Show/Hide attributes'><svg class='icon xr-icon-file-text2'><use xlink:href='#icon-file-text2'></use></svg></label><input id='data-430eeeda-6c12-4445-bb13-60b7fe85058a' class='xr-var-data-in' type='checkbox'><label for='data-430eeeda-6c12-4445-bb13-60b7fe85058a' title='Show/Hide data repr'><svg class='icon xr-icon-database'><use xlink:href='#icon-database'></use></svg></label><div class='xr-var-attrs'><dl class='xr-attrs'></dl></div><div class='xr-var-data'><pre>array([&#x27;2050-01-01T00:00:00.000000000&#x27;], dtype=&#x27;datetime64[ns]&#x27;)</pre></div></li><li class='xr-var-item'><div class='xr-var-name'><span class='xr-has-index'>costs</span></div><div class='xr-var-dims'>(costs)</div><div class='xr-var-dtype'>object</div><div class='xr-var-preview xr-preview'>&#x27;monetary&#x27;</div><input id='attrs-70cf3140-31e6-4397-b036-9af0bc1f0b75' class='xr-var-attrs-in' type='checkbox' disabled><label for='attrs-70cf3140-31e6-4397-b036-9af0bc1f0b75' title='Show/Hide attributes'><svg class='icon xr-icon-file-text2'><use xlink:href='#icon-file-text2'></use></svg></label><input id='data-683690e6-5833-479b-836e-d4e998378c47' class='xr-var-data-in' type='checkbox'><label for='data-683690e6-5833-479b-836e-d4e998378c47' title='Show/Hide data repr'><svg class='icon xr-icon-database'><use xlink:href='#icon-database'></use></svg></label><div class='xr-var-attrs'><dl class='xr-attrs'></dl></div><div class='xr-var-data'><pre>array([&#x27;monetary&#x27;], dtype=object)</pre></div></li></ul></div></li><li class='xr-section-item'><input id='section-86f0d53b-7ca5-4344-8fe9-1cda0ea7efd6' class='xr-section-summary-in' type='checkbox'  ><label for='section-86f0d53b-7ca5-4344-8fe9-1cda0ea7efd6' class='xr-section-summary' >Data variables: <span>(21)</span></label><div class='xr-section-inline-details'></div><div class='xr-section-details'><ul class='xr-var-list'><li class='xr-var-item'><div class='xr-var-name'><span>flow_cap</span></div><div class='xr-var-dims'>(nodes, techs, carriers)</div><div class='xr-var-dtype'>float64</div><div class='xr-var-preview xr-preview'>53.71 nan nan nan ... nan 109.6 nan</div><input id='attrs-e56f703a-8acf-4fb0-8b76-def3baaaf075' class='xr-var-attrs-in' type='checkbox' disabled><label for='attrs-e56f703a-8acf-4fb0-8b76-def3baaaf075' title='Show/Hide attributes'><svg class='icon xr-icon-file-text2'><use xlink:href='#icon-file-text2'></use></svg></label><input id='data-ec7c7e51-deaa-42d1-a36f-6e68d867f113' class='xr-var-data-in' type='checkbox'><label for='data-ec7c7e51-deaa-42d1-a36f-6e68d867f113' title='Show/Hide data repr'><svg class='icon xr-icon-database'><use xlink:href='#icon-database'></use></svg></label><div class='xr-var-attrs'><dl class='xr-attrs'></dl></div><div class='xr-var-data'><pre>array([[[ 53.7056928 ,          nan],\n",
       "        [         nan,          nan],\n",
       "        [         nan, 100.440064  ],\n",
       "        [         nan,          nan],\n",
       "        [         nan,          nan],\n",
       "        [         nan,          nan],\n",
       "        [         nan, 150.        ],\n",
       "        [ 52.63157895,  50.        ],\n",
       "        [         nan,          nan],\n",
       "        [         nan,          nan]],\n",
       "\n",
       "       [[         nan,          nan],\n",
       "        [ 53.7056928 ,          nan],\n",
       "        [         nan,          nan],\n",
       "        [         nan, 150.93242538],\n",
       "        [         nan,          nan],\n",
       "        [         nan,          nan],\n",
       "        [         nan, 200.        ],\n",
       "        [ 52.63157895,  50.        ],\n",
       "        [         nan,          nan],\n",
       "...\n",
       "        [         nan,          nan],\n",
       "        [         nan,          nan],\n",
       "        [         nan,          nan],\n",
       "        [         nan, 252.82868546],\n",
       "        [         nan,          nan],\n",
       "        [         nan,          nan],\n",
       "        [         nan,          nan],\n",
       "        [         nan, 252.82868546],\n",
       "        [         nan,          nan]],\n",
       "\n",
       "       [[         nan,          nan],\n",
       "        [         nan,          nan],\n",
       "        [         nan,          nan],\n",
       "        [         nan,          nan],\n",
       "        [         nan,          nan],\n",
       "        [109.6034547 ,          nan],\n",
       "        [         nan,          nan],\n",
       "        [         nan,          nan],\n",
       "        [         nan,          nan],\n",
       "        [109.6034547 ,          nan]]])</pre></div></li><li class='xr-var-item'><div class='xr-var-name'><span>link_flow_cap</span></div><div class='xr-var-dims'>(techs)</div><div class='xr-var-dtype'>float64</div><div class='xr-var-preview xr-preview'>53.71 53.71 100.4 ... nan nan nan</div><input id='attrs-45911d4f-ae34-44f1-ad2d-f3f1bb3e404a' class='xr-var-attrs-in' type='checkbox' disabled><label for='attrs-45911d4f-ae34-44f1-ad2d-f3f1bb3e404a' title='Show/Hide attributes'><svg class='icon xr-icon-file-text2'><use xlink:href='#icon-file-text2'></use></svg></label><input id='data-1cffc627-9267-40be-beed-63ec51b17bc1' class='xr-var-data-in' type='checkbox'><label for='data-1cffc627-9267-40be-beed-63ec51b17bc1' title='Show/Hide data repr'><svg class='icon xr-icon-database'><use xlink:href='#icon-database'></use></svg></label><div class='xr-var-attrs'><dl class='xr-attrs'></dl></div><div class='xr-var-data'><pre>array([ 53.7056928 ,  53.7056928 , 100.440064  , 150.93242538,\n",
       "       252.82868546, 109.6034547 ,          nan,          nan,\n",
       "                nan,          nan])</pre></div></li><li class='xr-var-item'><div class='xr-var-name'><span>flow_out</span></div><div class='xr-var-dims'>(nodes, techs, carriers, timesteps)</div><div class='xr-var-dtype'>float64</div><div class='xr-var-preview xr-preview'>52.63 nan nan nan ... nan 109.6 nan</div><input id='attrs-13d33333-8908-40d4-85c9-c9d5360922fe' class='xr-var-attrs-in' type='checkbox' disabled><label for='attrs-13d33333-8908-40d4-85c9-c9d5360922fe' title='Show/Hide attributes'><svg class='icon xr-icon-file-text2'><use xlink:href='#icon-file-text2'></use></svg></label><input id='data-1267eeb6-e727-4ba7-b7af-df95894ec357' class='xr-var-data-in' type='checkbox'><label for='data-1267eeb6-e727-4ba7-b7af-df95894ec357' title='Show/Hide data repr'><svg class='icon xr-icon-database'><use xlink:href='#icon-database'></use></svg></label><div class='xr-var-attrs'><dl class='xr-attrs'></dl></div><div class='xr-var-data'><pre>array([[[[ 52.63157895],\n",
       "         [         nan]],\n",
       "\n",
       "        [[         nan],\n",
       "         [         nan]],\n",
       "\n",
       "        [[         nan],\n",
       "         [100.        ]],\n",
       "\n",
       "        [[         nan],\n",
       "         [         nan]],\n",
       "\n",
       "        [[         nan],\n",
       "         [         nan]],\n",
       "\n",
       "        [[         nan],\n",
       "         [         nan]],\n",
       "\n",
       "        [[         nan],\n",
       "         [         nan]],\n",
       "...\n",
       "        [[         nan],\n",
       "         [         nan]],\n",
       "\n",
       "        [[         nan],\n",
       "         [         nan]],\n",
       "\n",
       "        [[  0.        ],\n",
       "         [         nan]],\n",
       "\n",
       "        [[         nan],\n",
       "         [         nan]],\n",
       "\n",
       "        [[         nan],\n",
       "         [         nan]],\n",
       "\n",
       "        [[         nan],\n",
       "         [         nan]],\n",
       "\n",
       "        [[109.6034547 ],\n",
       "         [         nan]]]])</pre></div></li><li class='xr-var-item'><div class='xr-var-name'><span>flow_in</span></div><div class='xr-var-dims'>(nodes, techs, carriers, timesteps)</div><div class='xr-var-dtype'>float64</div><div class='xr-var-preview xr-preview'>0.0 nan nan nan ... nan nan nan nan</div><input id='attrs-6eef1bb5-ea2f-440b-8d1a-a8b7c12f3423' class='xr-var-attrs-in' type='checkbox' disabled><label for='attrs-6eef1bb5-ea2f-440b-8d1a-a8b7c12f3423' title='Show/Hide attributes'><svg class='icon xr-icon-file-text2'><use xlink:href='#icon-file-text2'></use></svg></label><input id='data-75f35a7f-5aec-4c78-b834-8bc66fad2a70' class='xr-var-data-in' type='checkbox'><label for='data-75f35a7f-5aec-4c78-b834-8bc66fad2a70' title='Show/Hide data repr'><svg class='icon xr-icon-database'><use xlink:href='#icon-database'></use></svg></label><div class='xr-var-attrs'><dl class='xr-attrs'></dl></div><div class='xr-var-data'><pre>array([[[[  0.        ],\n",
       "         [         nan]],\n",
       "\n",
       "        [[         nan],\n",
       "         [         nan]],\n",
       "\n",
       "        [[         nan],\n",
       "         [  0.        ]],\n",
       "\n",
       "        [[         nan],\n",
       "         [         nan]],\n",
       "\n",
       "        [[         nan],\n",
       "         [         nan]],\n",
       "\n",
       "        [[         nan],\n",
       "         [         nan]],\n",
       "\n",
       "        [[         nan],\n",
       "         [150.        ]],\n",
       "...\n",
       "        [[         nan],\n",
       "         [         nan]],\n",
       "\n",
       "        [[         nan],\n",
       "         [         nan]],\n",
       "\n",
       "        [[109.6034547 ],\n",
       "         [         nan]],\n",
       "\n",
       "        [[         nan],\n",
       "         [         nan]],\n",
       "\n",
       "        [[         nan],\n",
       "         [         nan]],\n",
       "\n",
       "        [[         nan],\n",
       "         [         nan]],\n",
       "\n",
       "        [[         nan],\n",
       "         [         nan]]]])</pre></div></li><li class='xr-var-item'><div class='xr-var-name'><span>source_use</span></div><div class='xr-var-dims'>(nodes, techs, timesteps)</div><div class='xr-var-dtype'>float64</div><div class='xr-var-preview xr-preview'>nan nan nan nan ... nan nan 109.6</div><input id='attrs-fb780488-6c94-4a05-815e-22cbebd4d663' class='xr-var-attrs-in' type='checkbox' disabled><label for='attrs-fb780488-6c94-4a05-815e-22cbebd4d663' title='Show/Hide attributes'><svg class='icon xr-icon-file-text2'><use xlink:href='#icon-file-text2'></use></svg></label><input id='data-7828f9b5-f7b1-475b-8175-2f89fb5ef3df' class='xr-var-data-in' type='checkbox'><label for='data-7828f9b5-f7b1-475b-8175-2f89fb5ef3df' title='Show/Hide data repr'><svg class='icon xr-icon-database'><use xlink:href='#icon-database'></use></svg></label><div class='xr-var-attrs'><dl class='xr-attrs'></dl></div><div class='xr-var-data'><pre>array([[[         nan],\n",
       "        [         nan],\n",
       "        [         nan],\n",
       "        [         nan],\n",
       "        [         nan],\n",
       "        [         nan],\n",
       "        [         nan],\n",
       "        [         nan],\n",
       "        [         nan],\n",
       "        [         nan]],\n",
       "\n",
       "       [[         nan],\n",
       "        [         nan],\n",
       "        [         nan],\n",
       "        [         nan],\n",
       "        [         nan],\n",
       "        [         nan],\n",
       "        [         nan],\n",
       "        [         nan],\n",
       "        [         nan],\n",
       "...\n",
       "        [         nan],\n",
       "        [         nan],\n",
       "        [         nan],\n",
       "        [         nan],\n",
       "        [         nan],\n",
       "        [         nan],\n",
       "        [         nan],\n",
       "        [252.82868546],\n",
       "        [         nan]],\n",
       "\n",
       "       [[         nan],\n",
       "        [         nan],\n",
       "        [         nan],\n",
       "        [         nan],\n",
       "        [         nan],\n",
       "        [         nan],\n",
       "        [         nan],\n",
       "        [         nan],\n",
       "        [         nan],\n",
       "        [109.6034547 ]]])</pre></div></li><li class='xr-var-item'><div class='xr-var-name'><span>source_cap</span></div><div class='xr-var-dims'>(nodes, techs)</div><div class='xr-var-dtype'>float64</div><div class='xr-var-preview xr-preview'>nan nan nan nan ... nan nan 109.6</div><input id='attrs-199982e2-fddf-48e5-9165-a645c9227e17' class='xr-var-attrs-in' type='checkbox' disabled><label for='attrs-199982e2-fddf-48e5-9165-a645c9227e17' title='Show/Hide attributes'><svg class='icon xr-icon-file-text2'><use xlink:href='#icon-file-text2'></use></svg></label><input id='data-759a13f3-eb7a-4747-92e0-4569c37d650a' class='xr-var-data-in' type='checkbox'><label for='data-759a13f3-eb7a-4747-92e0-4569c37d650a' title='Show/Hide data repr'><svg class='icon xr-icon-database'><use xlink:href='#icon-database'></use></svg></label><div class='xr-var-attrs'><dl class='xr-attrs'></dl></div><div class='xr-var-data'><pre>array([[         nan,          nan,          nan,          nan,\n",
       "                 nan,          nan,          nan,          nan,\n",
       "                 nan,          nan],\n",
       "       [         nan,          nan,          nan,          nan,\n",
       "                 nan,          nan,          nan,          nan,\n",
       "                 nan,          nan],\n",
       "       [         nan,          nan,          nan,          nan,\n",
       "                 nan,          nan,          nan,          nan,\n",
       "                 nan,          nan],\n",
       "       [         nan,          nan,          nan,          nan,\n",
       "                 nan,          nan,          nan,          nan,\n",
       "                 nan,          nan],\n",
       "       [         nan,          nan,          nan,          nan,\n",
       "                 nan,          nan,          nan,          nan,\n",
       "        252.82868546,          nan],\n",
       "       [         nan,          nan,          nan,          nan,\n",
       "                 nan,          nan,          nan,          nan,\n",
       "                 nan, 109.6034547 ]])</pre></div></li><li class='xr-var-item'><div class='xr-var-name'><span>unmet_demand</span></div><div class='xr-var-dims'>(nodes, carriers, timesteps)</div><div class='xr-var-dtype'>float64</div><div class='xr-var-preview xr-preview'>0.0 0.0 0.0 0.0 ... nan 0.0 0.0 nan</div><input id='attrs-de866ee5-6ba6-4583-b171-3dd4ec257278' class='xr-var-attrs-in' type='checkbox' disabled><label for='attrs-de866ee5-6ba6-4583-b171-3dd4ec257278' title='Show/Hide attributes'><svg class='icon xr-icon-file-text2'><use xlink:href='#icon-file-text2'></use></svg></label><input id='data-45b18d19-7b47-4f50-a39d-1d95a680ea6e' class='xr-var-data-in' type='checkbox'><label for='data-45b18d19-7b47-4f50-a39d-1d95a680ea6e' title='Show/Hide data repr'><svg class='icon xr-icon-database'><use xlink:href='#icon-database'></use></svg></label><div class='xr-var-attrs'><dl class='xr-attrs'></dl></div><div class='xr-var-data'><pre>array([[[ 0.],\n",
       "        [ 0.]],\n",
       "\n",
       "       [[ 0.],\n",
       "        [ 0.]],\n",
       "\n",
       "       [[ 0.],\n",
       "        [nan]],\n",
       "\n",
       "       [[nan],\n",
       "        [ 0.]],\n",
       "\n",
       "       [[nan],\n",
       "        [ 0.]],\n",
       "\n",
       "       [[ 0.],\n",
       "        [nan]]])</pre></div></li><li class='xr-var-item'><div class='xr-var-name'><span>unused_supply</span></div><div class='xr-var-dims'>(nodes, carriers, timesteps)</div><div class='xr-var-dtype'>float64</div><div class='xr-var-preview xr-preview'>0.0 0.0 0.0 0.0 ... nan 0.0 0.0 nan</div><input id='attrs-ffb11d78-7252-46cd-858a-fbd1bd44c11a' class='xr-var-attrs-in' type='checkbox' disabled><label for='attrs-ffb11d78-7252-46cd-858a-fbd1bd44c11a' title='Show/Hide attributes'><svg class='icon xr-icon-file-text2'><use xlink:href='#icon-file-text2'></use></svg></label><input id='data-6ed9981d-ebc9-4e56-811f-d49a677fe391' class='xr-var-data-in' type='checkbox'><label for='data-6ed9981d-ebc9-4e56-811f-d49a677fe391' title='Show/Hide data repr'><svg class='icon xr-icon-database'><use xlink:href='#icon-database'></use></svg></label><div class='xr-var-attrs'><dl class='xr-attrs'></dl></div><div class='xr-var-data'><pre>array([[[ 0.],\n",
       "        [ 0.]],\n",
       "\n",
       "       [[ 0.],\n",
       "        [ 0.]],\n",
       "\n",
       "       [[ 0.],\n",
       "        [nan]],\n",
       "\n",
       "       [[nan],\n",
       "        [ 0.]],\n",
       "\n",
       "       [[nan],\n",
       "        [ 0.]],\n",
       "\n",
       "       [[ 0.],\n",
       "        [nan]]])</pre></div></li><li class='xr-var-item'><div class='xr-var-name'><span>flow_out_inc_eff</span></div><div class='xr-var-dims'>(nodes, techs, carriers, timesteps)</div><div class='xr-var-dtype'>float64</div><div class='xr-var-preview xr-preview'>53.71 nan nan nan ... nan 109.6 nan</div><input id='attrs-14a0af88-86e8-4684-8f47-c23c78e26b62' class='xr-var-attrs-in' type='checkbox' disabled><label for='attrs-14a0af88-86e8-4684-8f47-c23c78e26b62' title='Show/Hide attributes'><svg class='icon xr-icon-file-text2'><use xlink:href='#icon-file-text2'></use></svg></label><input id='data-c4e3c70a-d66c-4803-a828-8bca8f465865' class='xr-var-data-in' type='checkbox'><label for='data-c4e3c70a-d66c-4803-a828-8bca8f465865' title='Show/Hide data repr'><svg class='icon xr-icon-database'><use xlink:href='#icon-database'></use></svg></label><div class='xr-var-attrs'><dl class='xr-attrs'></dl></div><div class='xr-var-data'><pre>array([[[[ 53.7056928 ],\n",
       "         [         nan]],\n",
       "\n",
       "        [[         nan],\n",
       "         [         nan]],\n",
       "\n",
       "        [[         nan],\n",
       "         [100.440064  ]],\n",
       "\n",
       "        [[         nan],\n",
       "         [         nan]],\n",
       "\n",
       "        [[         nan],\n",
       "         [         nan]],\n",
       "\n",
       "        [[         nan],\n",
       "         [         nan]],\n",
       "\n",
       "        [[         nan],\n",
       "         [         nan]],\n",
       "...\n",
       "        [[         nan],\n",
       "         [         nan]],\n",
       "\n",
       "        [[         nan],\n",
       "         [         nan]],\n",
       "\n",
       "        [[  0.        ],\n",
       "         [         nan]],\n",
       "\n",
       "        [[         nan],\n",
       "         [         nan]],\n",
       "\n",
       "        [[         nan],\n",
       "         [         nan]],\n",
       "\n",
       "        [[         nan],\n",
       "         [         nan]],\n",
       "\n",
       "        [[109.6034547 ],\n",
       "         [         nan]]]])</pre></div></li><li class='xr-var-item'><div class='xr-var-name'><span>flow_in_inc_eff</span></div><div class='xr-var-dims'>(nodes, techs, carriers, timesteps)</div><div class='xr-var-dtype'>float64</div><div class='xr-var-preview xr-preview'>0.0 nan nan nan ... nan nan nan nan</div><input id='attrs-1e45cf3d-ad68-4157-a219-16b86c02a695' class='xr-var-attrs-in' type='checkbox' disabled><label for='attrs-1e45cf3d-ad68-4157-a219-16b86c02a695' title='Show/Hide attributes'><svg class='icon xr-icon-file-text2'><use xlink:href='#icon-file-text2'></use></svg></label><input id='data-74b419b2-e7e6-40d9-9025-99f515641cab' class='xr-var-data-in' type='checkbox'><label for='data-74b419b2-e7e6-40d9-9025-99f515641cab' title='Show/Hide data repr'><svg class='icon xr-icon-database'><use xlink:href='#icon-database'></use></svg></label><div class='xr-var-attrs'><dl class='xr-attrs'></dl></div><div class='xr-var-data'><pre>array([[[[  0.        ],\n",
       "         [         nan]],\n",
       "\n",
       "        [[         nan],\n",
       "         [         nan]],\n",
       "\n",
       "        [[         nan],\n",
       "         [  0.        ]],\n",
       "\n",
       "        [[         nan],\n",
       "         [         nan]],\n",
       "\n",
       "        [[         nan],\n",
       "         [         nan]],\n",
       "\n",
       "        [[         nan],\n",
       "         [         nan]],\n",
       "\n",
       "        [[         nan],\n",
       "         [150.        ]],\n",
       "...\n",
       "        [[         nan],\n",
       "         [         nan]],\n",
       "\n",
       "        [[         nan],\n",
       "         [         nan]],\n",
       "\n",
       "        [[109.6034547 ],\n",
       "         [         nan]],\n",
       "\n",
       "        [[         nan],\n",
       "         [         nan]],\n",
       "\n",
       "        [[         nan],\n",
       "         [         nan]],\n",
       "\n",
       "        [[         nan],\n",
       "         [         nan]],\n",
       "\n",
       "        [[         nan],\n",
       "         [         nan]]]])</pre></div></li><li class='xr-var-item'><div class='xr-var-name'><span>cost_operation_variable</span></div><div class='xr-var-dims'>(nodes, techs, costs, timesteps)</div><div class='xr-var-dtype'>float64</div><div class='xr-var-preview xr-preview'>nan nan nan nan ... nan nan nan 0.0</div><input id='attrs-169b64af-4260-4b10-9a58-9a986ba80868' class='xr-var-attrs-in' type='checkbox' disabled><label for='attrs-169b64af-4260-4b10-9a58-9a986ba80868' title='Show/Hide attributes'><svg class='icon xr-icon-file-text2'><use xlink:href='#icon-file-text2'></use></svg></label><input id='data-2b372085-b5f4-4a67-b3df-a8156a1be65d' class='xr-var-data-in' type='checkbox'><label for='data-2b372085-b5f4-4a67-b3df-a8156a1be65d' title='Show/Hide data repr'><svg class='icon xr-icon-database'><use xlink:href='#icon-database'></use></svg></label><div class='xr-var-attrs'><dl class='xr-attrs'></dl></div><div class='xr-var-data'><pre>array([[[[nan]],\n",
       "\n",
       "        [[nan]],\n",
       "\n",
       "        [[nan]],\n",
       "\n",
       "        [[nan]],\n",
       "\n",
       "        [[nan]],\n",
       "\n",
       "        [[nan]],\n",
       "\n",
       "        [[nan]],\n",
       "\n",
       "        [[nan]],\n",
       "\n",
       "        [[nan]],\n",
       "\n",
       "        [[nan]]],\n",
       "\n",
       "...\n",
       "\n",
       "       [[[nan]],\n",
       "\n",
       "        [[nan]],\n",
       "\n",
       "        [[nan]],\n",
       "\n",
       "        [[nan]],\n",
       "\n",
       "        [[nan]],\n",
       "\n",
       "        [[nan]],\n",
       "\n",
       "        [[nan]],\n",
       "\n",
       "        [[nan]],\n",
       "\n",
       "        [[nan]],\n",
       "\n",
       "        [[ 0.]]]])</pre></div></li><li class='xr-var-item'><div class='xr-var-name'><span>cost_investment_flow_cap</span></div><div class='xr-var-dims'>(nodes, techs, carriers, costs)</div><div class='xr-var-dtype'>float64</div><div class='xr-var-preview xr-preview'>0.04657 nan nan ... 1.096e+03 nan</div><input id='attrs-89893673-de38-499d-9f1f-b8bafbdacdea' class='xr-var-attrs-in' type='checkbox' disabled><label for='attrs-89893673-de38-499d-9f1f-b8bafbdacdea' title='Show/Hide attributes'><svg class='icon xr-icon-file-text2'><use xlink:href='#icon-file-text2'></use></svg></label><input id='data-f651fd2c-f51b-445c-bd04-2ff31d37c4c2' class='xr-var-data-in' type='checkbox'><label for='data-f651fd2c-f51b-445c-bd04-2ff31d37c4c2' title='Show/Hide data repr'><svg class='icon xr-icon-database'><use xlink:href='#icon-database'></use></svg></label><div class='xr-var-attrs'><dl class='xr-attrs'></dl></div><div class='xr-var-data'><pre>array([[[[4.65721433e-02],\n",
       "         [           nan]],\n",
       "\n",
       "        [[           nan],\n",
       "         [           nan]],\n",
       "\n",
       "        [[           nan],\n",
       "         [2.61296828e+00]],\n",
       "\n",
       "        [[           nan],\n",
       "         [           nan]],\n",
       "\n",
       "        [[           nan],\n",
       "         [           nan]],\n",
       "\n",
       "        [[           nan],\n",
       "         [           nan]],\n",
       "\n",
       "        [[           nan],\n",
       "         [           nan]],\n",
       "...\n",
       "        [[           nan],\n",
       "         [           nan]],\n",
       "\n",
       "        [[           nan],\n",
       "         [           nan]],\n",
       "\n",
       "        [[8.48598586e-02],\n",
       "         [           nan]],\n",
       "\n",
       "        [[           nan],\n",
       "         [           nan]],\n",
       "\n",
       "        [[           nan],\n",
       "         [           nan]],\n",
       "\n",
       "        [[           nan],\n",
       "         [           nan]],\n",
       "\n",
       "        [[1.09603455e+03],\n",
       "         [           nan]]]])</pre></div></li><li class='xr-var-item'><div class='xr-var-name'><span>cost_investment</span></div><div class='xr-var-dims'>(nodes, techs, costs)</div><div class='xr-var-dtype'>float64</div><div class='xr-var-preview xr-preview'>0.04657 nan 2.613 ... nan 1.096e+03</div><input id='attrs-ff2b452b-3915-4e13-99a2-984c172f07ef' class='xr-var-attrs-in' type='checkbox' disabled><label for='attrs-ff2b452b-3915-4e13-99a2-984c172f07ef' title='Show/Hide attributes'><svg class='icon xr-icon-file-text2'><use xlink:href='#icon-file-text2'></use></svg></label><input id='data-55cd4088-9e9a-436b-b5ff-69943ac5bf5b' class='xr-var-data-in' type='checkbox'><label for='data-55cd4088-9e9a-436b-b5ff-69943ac5bf5b' title='Show/Hide data repr'><svg class='icon xr-icon-database'><use xlink:href='#icon-database'></use></svg></label><div class='xr-var-attrs'><dl class='xr-attrs'></dl></div><div class='xr-var-data'><pre>array([[[4.65721433e-02],\n",
       "        [           nan],\n",
       "        [2.61296828e+00],\n",
       "        [           nan],\n",
       "        [           nan],\n",
       "        [           nan],\n",
       "        [           nan],\n",
       "        [0.00000000e+00],\n",
       "        [           nan],\n",
       "        [           nan]],\n",
       "\n",
       "       [[           nan],\n",
       "        [6.57265310e-02],\n",
       "        [           nan],\n",
       "        [5.54145988e+00],\n",
       "        [           nan],\n",
       "        [           nan],\n",
       "        [           nan],\n",
       "        [0.00000000e+00],\n",
       "        [           nan],\n",
       "...\n",
       "        [           nan],\n",
       "        [           nan],\n",
       "        [           nan],\n",
       "        [8.65244234e+00],\n",
       "        [           nan],\n",
       "        [           nan],\n",
       "        [           nan],\n",
       "        [3.79243028e+04],\n",
       "        [           nan]],\n",
       "\n",
       "       [[           nan],\n",
       "        [           nan],\n",
       "        [           nan],\n",
       "        [           nan],\n",
       "        [           nan],\n",
       "        [8.48598586e-02],\n",
       "        [           nan],\n",
       "        [           nan],\n",
       "        [           nan],\n",
       "        [1.09603455e+03]]])</pre></div></li><li class='xr-var-item'><div class='xr-var-name'><span>cost_investment_annualised</span></div><div class='xr-var-dims'>(nodes, techs, costs)</div><div class='xr-var-dtype'>float64</div><div class='xr-var-preview xr-preview'>5.857e-07 nan ... nan 0.01378</div><input id='attrs-16186eb0-100e-4fdb-8fb9-ba4a74804371' class='xr-var-attrs-in' type='checkbox' disabled><label for='attrs-16186eb0-100e-4fdb-8fb9-ba4a74804371' title='Show/Hide attributes'><svg class='icon xr-icon-file-text2'><use xlink:href='#icon-file-text2'></use></svg></label><input id='data-7b2c6484-394a-42e1-94f5-f9ed5781ce8f' class='xr-var-data-in' type='checkbox'><label for='data-7b2c6484-394a-42e1-94f5-f9ed5781ce8f' title='Show/Hide data repr'><svg class='icon xr-icon-database'><use xlink:href='#icon-database'></use></svg></label><div class='xr-var-attrs'><dl class='xr-attrs'></dl></div><div class='xr-var-data'><pre>array([[[5.85703567e-07],\n",
       "        [           nan],\n",
       "        [3.28613787e-05],\n",
       "        [           nan],\n",
       "        [           nan],\n",
       "        [           nan],\n",
       "        [           nan],\n",
       "        [0.00000000e+00],\n",
       "        [           nan],\n",
       "        [           nan]],\n",
       "\n",
       "       [[           nan],\n",
       "        [8.26594202e-07],\n",
       "        [           nan],\n",
       "        [6.96908621e-05],\n",
       "        [           nan],\n",
       "        [           nan],\n",
       "        [           nan],\n",
       "        [0.00000000e+00],\n",
       "        [           nan],\n",
       "...\n",
       "        [           nan],\n",
       "        [           nan],\n",
       "        [           nan],\n",
       "        [1.08815399e-04],\n",
       "        [           nan],\n",
       "        [           nan],\n",
       "        [           nan],\n",
       "        [4.76946042e-01],\n",
       "        [           nan]],\n",
       "\n",
       "       [[           nan],\n",
       "        [           nan],\n",
       "        [           nan],\n",
       "        [           nan],\n",
       "        [           nan],\n",
       "        [1.06721998e-06],\n",
       "        [           nan],\n",
       "        [           nan],\n",
       "        [           nan],\n",
       "        [1.37840198e-02]]])</pre></div></li><li class='xr-var-item'><div class='xr-var-name'><span>cost</span></div><div class='xr-var-dims'>(nodes, techs, costs)</div><div class='xr-var-dtype'>float64</div><div class='xr-var-preview xr-preview'>5.857e-07 nan ... nan 0.01378</div><input id='attrs-e8028ded-bce6-4ebe-bb42-7997e89acbbc' class='xr-var-attrs-in' type='checkbox' disabled><label for='attrs-e8028ded-bce6-4ebe-bb42-7997e89acbbc' title='Show/Hide attributes'><svg class='icon xr-icon-file-text2'><use xlink:href='#icon-file-text2'></use></svg></label><input id='data-54e36ea4-017a-4453-9ed4-d65c4f766f9e' class='xr-var-data-in' type='checkbox'><label for='data-54e36ea4-017a-4453-9ed4-d65c4f766f9e' title='Show/Hide data repr'><svg class='icon xr-icon-database'><use xlink:href='#icon-database'></use></svg></label><div class='xr-var-attrs'><dl class='xr-attrs'></dl></div><div class='xr-var-data'><pre>array([[[5.85703567e-07],\n",
       "        [           nan],\n",
       "        [3.28613787e-05],\n",
       "        [           nan],\n",
       "        [           nan],\n",
       "        [           nan],\n",
       "        [           nan],\n",
       "        [0.00000000e+00],\n",
       "        [           nan],\n",
       "        [           nan]],\n",
       "\n",
       "       [[           nan],\n",
       "        [8.26594202e-07],\n",
       "        [           nan],\n",
       "        [6.96908621e-05],\n",
       "        [           nan],\n",
       "        [           nan],\n",
       "        [           nan],\n",
       "        [0.00000000e+00],\n",
       "        [           nan],\n",
       "...\n",
       "        [           nan],\n",
       "        [           nan],\n",
       "        [           nan],\n",
       "        [1.08815399e-04],\n",
       "        [           nan],\n",
       "        [           nan],\n",
       "        [           nan],\n",
       "        [4.76946042e-01],\n",
       "        [           nan]],\n",
       "\n",
       "       [[           nan],\n",
       "        [           nan],\n",
       "        [           nan],\n",
       "        [           nan],\n",
       "        [           nan],\n",
       "        [1.06721998e-06],\n",
       "        [           nan],\n",
       "        [           nan],\n",
       "        [           nan],\n",
       "        [1.37840198e-02]]])</pre></div></li><li class='xr-var-item'><div class='xr-var-name'><span>min_cost_optimisation</span></div><div class='xr-var-dims'>()</div><div class='xr-var-dtype'>float64</div><div class='xr-var-preview xr-preview'>0.4912</div><input id='attrs-0ea1d118-2d5d-47ec-b17b-d16e761e05ab' class='xr-var-attrs-in' type='checkbox' disabled><label for='attrs-0ea1d118-2d5d-47ec-b17b-d16e761e05ab' title='Show/Hide attributes'><svg class='icon xr-icon-file-text2'><use xlink:href='#icon-file-text2'></use></svg></label><input id='data-4040bd73-c2e0-4e9f-b5f7-4ca15d2d2fb5' class='xr-var-data-in' type='checkbox'><label for='data-4040bd73-c2e0-4e9f-b5f7-4ca15d2d2fb5' title='Show/Hide data repr'><svg class='icon xr-icon-database'><use xlink:href='#icon-database'></use></svg></label><div class='xr-var-attrs'><dl class='xr-attrs'></dl></div><div class='xr-var-data'><pre>array(0.49115776)</pre></div></li><li class='xr-var-item'><div class='xr-var-name'><span>capacity_factor</span></div><div class='xr-var-dims'>(nodes, techs, carriers, timesteps)</div><div class='xr-var-dtype'>float64</div><div class='xr-var-preview xr-preview'>0.98 nan nan nan ... nan 1.0 nan</div><input id='attrs-f7a93bfe-9a43-405e-a949-80a9a4054cee' class='xr-var-attrs-in' type='checkbox' disabled><label for='attrs-f7a93bfe-9a43-405e-a949-80a9a4054cee' title='Show/Hide attributes'><svg class='icon xr-icon-file-text2'><use xlink:href='#icon-file-text2'></use></svg></label><input id='data-54c4c860-79b9-40d0-8ed6-0341c25ab7cf' class='xr-var-data-in' type='checkbox'><label for='data-54c4c860-79b9-40d0-8ed6-0341c25ab7cf' title='Show/Hide data repr'><svg class='icon xr-icon-database'><use xlink:href='#icon-database'></use></svg></label><div class='xr-var-attrs'><dl class='xr-attrs'></dl></div><div class='xr-var-data'><pre>array([[[[0.98      ],\n",
       "         [       nan]],\n",
       "\n",
       "        [[       nan],\n",
       "         [       nan]],\n",
       "\n",
       "        [[       nan],\n",
       "         [0.99561864]],\n",
       "\n",
       "        [[       nan],\n",
       "         [       nan]],\n",
       "\n",
       "        [[       nan],\n",
       "         [       nan]],\n",
       "\n",
       "        [[       nan],\n",
       "         [       nan]],\n",
       "\n",
       "        [[       nan],\n",
       "         [       nan]],\n",
       "...\n",
       "        [[       nan],\n",
       "         [       nan]],\n",
       "\n",
       "        [[       nan],\n",
       "         [       nan]],\n",
       "\n",
       "        [[0.        ],\n",
       "         [       nan]],\n",
       "\n",
       "        [[       nan],\n",
       "         [       nan]],\n",
       "\n",
       "        [[       nan],\n",
       "         [       nan]],\n",
       "\n",
       "        [[       nan],\n",
       "         [       nan]],\n",
       "\n",
       "        [[1.        ],\n",
       "         [       nan]]]])</pre></div></li><li class='xr-var-item'><div class='xr-var-name'><span>systemwide_capacity_factor</span></div><div class='xr-var-dims'>(techs, carriers)</div><div class='xr-var-dtype'>float64</div><div class='xr-var-preview xr-preview'>0.49 0.0 0.49 0.0 ... 1.0 1.0 0.0</div><input id='attrs-dfbd26d4-3277-42d1-8edf-eca4fba455f7' class='xr-var-attrs-in' type='checkbox' disabled><label for='attrs-dfbd26d4-3277-42d1-8edf-eca4fba455f7' title='Show/Hide attributes'><svg class='icon xr-icon-file-text2'><use xlink:href='#icon-file-text2'></use></svg></label><input id='data-36ca4b53-d18b-4af3-970b-d32b4f2d09b2' class='xr-var-data-in' type='checkbox'><label for='data-36ca4b53-d18b-4af3-970b-d32b4f2d09b2' title='Show/Hide data repr'><svg class='icon xr-icon-database'><use xlink:href='#icon-database'></use></svg></label><div class='xr-var-attrs'><dl class='xr-attrs'></dl></div><div class='xr-var-data'><pre>array([[0.49      , 0.        ],\n",
       "       [0.49      , 0.        ],\n",
       "       [0.        , 0.49780932],\n",
       "       [0.        , 0.49691112],\n",
       "       [0.        , 0.49712019],\n",
       "       [0.49      , 0.        ],\n",
       "       [0.        , 0.        ],\n",
       "       [0.        , 1.        ],\n",
       "       [0.        , 1.        ],\n",
       "       [1.        , 0.        ]])</pre></div></li><li class='xr-var-item'><div class='xr-var-name'><span>systemwide_levelised_cost</span></div><div class='xr-var-dims'>(techs, costs, carriers)</div><div class='xr-var-dtype'>float64</div><div class='xr-var-preview xr-preview'>2.226e-08 nan ... 0.0001258 nan</div><input id='attrs-bf4d53b3-d85e-4646-9f92-9670ded8b557' class='xr-var-attrs-in' type='checkbox' disabled><label for='attrs-bf4d53b3-d85e-4646-9f92-9670ded8b557' title='Show/Hide attributes'><svg class='icon xr-icon-file-text2'><use xlink:href='#icon-file-text2'></use></svg></label><input id='data-64db35d6-08a2-4ed8-9bb3-a5f95b1bc85a' class='xr-var-data-in' type='checkbox'><label for='data-64db35d6-08a2-4ed8-9bb3-a5f95b1bc85a' title='Show/Hide data repr'><svg class='icon xr-icon-database'><use xlink:href='#icon-database'></use></svg></label><div class='xr-var-attrs'><dl class='xr-attrs'></dl></div><div class='xr-var-data'><pre>array([[[2.22567355e-08,            nan]],\n",
       "\n",
       "       [[3.14105797e-08,            nan]],\n",
       "\n",
       "       [[           nan, 6.57227575e-07]],\n",
       "\n",
       "       [[           nan, 9.29211494e-07]],\n",
       "\n",
       "       [[           nan, 8.65770148e-07]],\n",
       "\n",
       "       [[1.98716360e-08,            nan]],\n",
       "\n",
       "       [[           nan,            nan]],\n",
       "\n",
       "       [[           nan, 0.00000000e+00]],\n",
       "\n",
       "       [[           nan, 1.88643959e-03]],\n",
       "\n",
       "       [[1.25762639e-04,            nan]]])</pre></div></li><li class='xr-var-item'><div class='xr-var-name'><span>total_levelised_cost</span></div><div class='xr-var-dims'>(costs, carriers)</div><div class='xr-var-dtype'>float64</div><div class='xr-var-preview xr-preview'>0.004481 0.001392</div><input id='attrs-553894a7-5cf3-4548-ac86-a0f67d914e87' class='xr-var-attrs-in' type='checkbox' disabled><label for='attrs-553894a7-5cf3-4548-ac86-a0f67d914e87' title='Show/Hide attributes'><svg class='icon xr-icon-file-text2'><use xlink:href='#icon-file-text2'></use></svg></label><input id='data-cf87809c-5261-4739-baad-81514d133223' class='xr-var-data-in' type='checkbox'><label for='data-cf87809c-5261-4739-baad-81514d133223' title='Show/Hide data repr'><svg class='icon xr-icon-database'><use xlink:href='#icon-database'></use></svg></label><div class='xr-var-attrs'><dl class='xr-attrs'></dl></div><div class='xr-var-data'><pre>array([[0.00448123, 0.00139206]])</pre></div></li><li class='xr-var-item'><div class='xr-var-name'><span>unmet_sum</span></div><div class='xr-var-dims'>(nodes, carriers, timesteps)</div><div class='xr-var-dtype'>float64</div><div class='xr-var-preview xr-preview'>0.0 0.0 0.0 0.0 ... nan 0.0 0.0 nan</div><input id='attrs-fa59932d-ffcd-4415-b41d-7a2f7e164d9c' class='xr-var-attrs-in' type='checkbox' disabled><label for='attrs-fa59932d-ffcd-4415-b41d-7a2f7e164d9c' title='Show/Hide attributes'><svg class='icon xr-icon-file-text2'><use xlink:href='#icon-file-text2'></use></svg></label><input id='data-ddf0011a-d3ba-40f3-b97c-1d8877ced030' class='xr-var-data-in' type='checkbox'><label for='data-ddf0011a-d3ba-40f3-b97c-1d8877ced030' title='Show/Hide data repr'><svg class='icon xr-icon-database'><use xlink:href='#icon-database'></use></svg></label><div class='xr-var-attrs'><dl class='xr-attrs'></dl></div><div class='xr-var-data'><pre>array([[[ 0.],\n",
       "        [ 0.]],\n",
       "\n",
       "       [[ 0.],\n",
       "        [ 0.]],\n",
       "\n",
       "       [[ 0.],\n",
       "        [nan]],\n",
       "\n",
       "       [[nan],\n",
       "        [ 0.]],\n",
       "\n",
       "       [[nan],\n",
       "        [ 0.]],\n",
       "\n",
       "       [[ 0.],\n",
       "        [nan]]])</pre></div></li></ul></div></li><li class='xr-section-item'><input id='section-587690fe-9071-464e-9815-158d789f7e1a' class='xr-section-summary-in' type='checkbox'  ><label for='section-587690fe-9071-464e-9815-158d789f7e1a' class='xr-section-summary' >Indexes: <span>(5)</span></label><div class='xr-section-inline-details'></div><div class='xr-section-details'><ul class='xr-var-list'><li class='xr-var-item'><div class='xr-index-name'><div>techs</div></div><div class='xr-index-preview'>PandasIndex</div><div></div><input id='index-d38ffcc9-6495-4573-b211-c1d54876ea2f' class='xr-index-data-in' type='checkbox'/><label for='index-d38ffcc9-6495-4573-b211-c1d54876ea2f' title='Show/Hide index repr'><svg class='icon xr-icon-database'><use xlink:href='#icon-database'></use></svg></label><div class='xr-index-data'><pre>PandasIndex(Index([&#x27;E1_to_D1&#x27;, &#x27;E1_to_D2&#x27;, &#x27;H1_to_D1&#x27;, &#x27;H1_to_D2&#x27;, &#x27;S1_to_H1&#x27;, &#x27;S2_to_E1&#x27;,\n",
       "       &#x27;demand_heat&#x27;, &#x27;heatpump&#x27;, &#x27;supply_geothermal&#x27;, &#x27;supply_grid_power&#x27;],\n",
       "      dtype=&#x27;object&#x27;, name=&#x27;techs&#x27;))</pre></div></li><li class='xr-var-item'><div class='xr-index-name'><div>carriers</div></div><div class='xr-index-preview'>PandasIndex</div><div></div><input id='index-df5fddd1-2e59-44dc-bd36-b4ed6f69a457' class='xr-index-data-in' type='checkbox'/><label for='index-df5fddd1-2e59-44dc-bd36-b4ed6f69a457' title='Show/Hide index repr'><svg class='icon xr-icon-database'><use xlink:href='#icon-database'></use></svg></label><div class='xr-index-data'><pre>PandasIndex(Index([&#x27;electricity&#x27;, &#x27;heat&#x27;], dtype=&#x27;object&#x27;, name=&#x27;carriers&#x27;))</pre></div></li><li class='xr-var-item'><div class='xr-index-name'><div>nodes</div></div><div class='xr-index-preview'>PandasIndex</div><div></div><input id='index-492d1598-2b88-44cc-8717-5e341658bf09' class='xr-index-data-in' type='checkbox'/><label for='index-492d1598-2b88-44cc-8717-5e341658bf09' title='Show/Hide index repr'><svg class='icon xr-icon-database'><use xlink:href='#icon-database'></use></svg></label><div class='xr-index-data'><pre>PandasIndex(Index([&#x27;D1&#x27;, &#x27;D2&#x27;, &#x27;E1&#x27;, &#x27;H1&#x27;, &#x27;S1&#x27;, &#x27;S2&#x27;], dtype=&#x27;object&#x27;, name=&#x27;nodes&#x27;))</pre></div></li><li class='xr-var-item'><div class='xr-index-name'><div>timesteps</div></div><div class='xr-index-preview'>PandasIndex</div><div></div><input id='index-971774a3-556b-4415-a3b4-ce2d0819fceb' class='xr-index-data-in' type='checkbox'/><label for='index-971774a3-556b-4415-a3b4-ce2d0819fceb' title='Show/Hide index repr'><svg class='icon xr-icon-database'><use xlink:href='#icon-database'></use></svg></label><div class='xr-index-data'><pre>PandasIndex(DatetimeIndex([&#x27;2050-01-01&#x27;], dtype=&#x27;datetime64[ns]&#x27;, name=&#x27;timesteps&#x27;, freq=None))</pre></div></li><li class='xr-var-item'><div class='xr-index-name'><div>costs</div></div><div class='xr-index-preview'>PandasIndex</div><div></div><input id='index-d5c9f34b-309e-402b-8160-6b775a6f4b63' class='xr-index-data-in' type='checkbox'/><label for='index-d5c9f34b-309e-402b-8160-6b775a6f4b63' title='Show/Hide index repr'><svg class='icon xr-icon-database'><use xlink:href='#icon-database'></use></svg></label><div class='xr-index-data'><pre>PandasIndex(Index([&#x27;monetary&#x27;], dtype=&#x27;object&#x27;, name=&#x27;costs&#x27;))</pre></div></li></ul></div></li><li class='xr-section-item'><input id='section-e0cbbb62-d98f-4eea-8a8c-eb0f6be18a0c' class='xr-section-summary-in' type='checkbox' disabled ><label for='section-e0cbbb62-d98f-4eea-8a8c-eb0f6be18a0c' class='xr-section-summary'  title='Expand/collapse section'>Attributes: <span>(0)</span></label><div class='xr-section-inline-details'></div><div class='xr-section-details'><dl class='xr-attrs'></dl></div></li></ul></div></div>"
      ],
      "text/plain": [
       "<xarray.Dataset> Size: 10kB\n",
       "Dimensions:                     (nodes: 6, techs: 10, carriers: 2,\n",
       "                                 timesteps: 1, costs: 1)\n",
       "Coordinates:\n",
       "  * techs                       (techs) object 80B 'E1_to_D1' ... 'supply_gri...\n",
       "  * carriers                    (carriers) object 16B 'electricity' 'heat'\n",
       "  * nodes                       (nodes) object 48B 'D1' 'D2' 'E1' 'H1' 'S1' 'S2'\n",
       "  * timesteps                   (timesteps) datetime64[ns] 8B 2050-01-01\n",
       "  * costs                       (costs) object 8B 'monetary'\n",
       "Data variables: (12/21)\n",
       "    flow_cap                    (nodes, techs, carriers) float64 960B 53.71 ....\n",
       "    link_flow_cap               (techs) float64 80B 53.71 53.71 ... nan nan\n",
       "    flow_out                    (nodes, techs, carriers, timesteps) float64 960B ...\n",
       "    flow_in                     (nodes, techs, carriers, timesteps) float64 960B ...\n",
       "    source_use                  (nodes, techs, timesteps) float64 480B nan .....\n",
       "    source_cap                  (nodes, techs) float64 480B nan nan ... 109.6\n",
       "    ...                          ...\n",
       "    min_cost_optimisation       float64 8B 0.4912\n",
       "    capacity_factor             (nodes, techs, carriers, timesteps) float64 960B ...\n",
       "    systemwide_capacity_factor  (techs, carriers) float64 160B 0.49 0.0 ... 0.0\n",
       "    systemwide_levelised_cost   (techs, costs, carriers) float64 160B 2.226e-...\n",
       "    total_levelised_cost        (costs, carriers) float64 16B 0.004481 0.001392\n",
       "    unmet_sum                   (nodes, carriers, timesteps) float64 96B 0.0 ..."
      ]
     },
     "execution_count": 252,
     "metadata": {},
     "output_type": "execute_result"
    }
   ],
   "source": [
    "model.results"
   ]
  },
  {
   "cell_type": "code",
   "execution_count": 253,
   "id": "8dfe29ad",
   "metadata": {},
   "outputs": [
    {
     "data": {
      "text/html": [
       "<div>\n",
       "<style scoped>\n",
       "    .dataframe tbody tr th:only-of-type {\n",
       "        vertical-align: middle;\n",
       "    }\n",
       "\n",
       "    .dataframe tbody tr th {\n",
       "        vertical-align: top;\n",
       "    }\n",
       "\n",
       "    .dataframe thead th {\n",
       "        text-align: right;\n",
       "    }\n",
       "</style>\n",
       "<table border=\"1\" class=\"dataframe\">\n",
       "  <thead>\n",
       "    <tr style=\"text-align: right;\">\n",
       "      <th>techs</th>\n",
       "      <th>H1_to_D1</th>\n",
       "      <th>H1_to_D2</th>\n",
       "      <th>S1_to_H1</th>\n",
       "      <th>heatpump</th>\n",
       "      <th>supply_geothermal</th>\n",
       "    </tr>\n",
       "    <tr>\n",
       "      <th>timesteps</th>\n",
       "      <th></th>\n",
       "      <th></th>\n",
       "      <th></th>\n",
       "      <th></th>\n",
       "      <th></th>\n",
       "    </tr>\n",
       "  </thead>\n",
       "  <tbody>\n",
       "    <tr>\n",
       "      <th>2050-01-01</th>\n",
       "      <td>100.0</td>\n",
       "      <td>150.0</td>\n",
       "      <td>251.372489</td>\n",
       "      <td>100.0</td>\n",
       "      <td>252.828685</td>\n",
       "    </tr>\n",
       "  </tbody>\n",
       "</table>\n",
       "</div>"
      ],
      "text/plain": [
       "techs       H1_to_D1  H1_to_D2    S1_to_H1  heatpump  supply_geothermal\n",
       "timesteps                                                              \n",
       "2050-01-01     100.0     150.0  251.372489     100.0         252.828685"
      ]
     },
     "execution_count": 253,
     "metadata": {},
     "output_type": "execute_result"
    }
   ],
   "source": [
    "df_heat = (\n",
    "    model.results.flow_out.sel(carriers=\"heat\")\n",
    "    .sum(\"nodes\", min_count=1, skipna=True)\n",
    "    .to_series()\n",
    "    .dropna()\n",
    "    .unstack(\"techs\")\n",
    ")\n",
    "\n",
    "df_heat.head()"
   ]
  },
  {
   "cell_type": "code",
   "execution_count": 254,
   "id": "476767d1",
   "metadata": {},
   "outputs": [
    {
     "data": {
      "text/plain": [
       "nodes  techs     costs   \n",
       "D1     E1_to_D1  monetary    5.857036e-07\n",
       "       H1_to_D1  monetary    3.286138e-05\n",
       "       heatpump  monetary    0.000000e+00\n",
       "D2     E1_to_D2  monetary    8.265942e-07\n",
       "       H1_to_D2  monetary    6.969086e-05\n",
       "Name: cost, dtype: float64"
      ]
     },
     "execution_count": 254,
     "metadata": {},
     "output_type": "execute_result"
    }
   ],
   "source": [
    "costs = model.results.cost.to_series().dropna()\n",
    "costs.head()"
   ]
  },
  {
   "cell_type": "code",
   "execution_count": 255,
   "id": "799372f7",
   "metadata": {},
   "outputs": [
    {
     "name": "stdout",
     "output_type": "stream",
     "text": [
      "               techs  timesteps  Flow in/out (kWh)\n",
      "0           E1_to_D1 2050-01-01          -1.074114\n",
      "1           E1_to_D2 2050-01-01          -1.074114\n",
      "2           S2_to_E1 2050-01-01          -2.192069\n",
      "3           heatpump 2050-01-01        -105.263158\n",
      "4  supply_grid_power 2050-01-01         109.603455\n"
     ]
    },
    {
     "data": {
      "application/vnd.plotly.v1+json": {
       "config": {
        "plotlyServerURL": "https://plot.ly"
       },
       "data": [
        {
         "hovertemplate": "techs=E1_to_D1<br>timesteps=%{x}<br>Flow in/out (kWh)=%{y}<extra></extra>",
         "legendgroup": "E1_to_D1",
         "marker": {
          "color": "#6783E3",
          "pattern": {
           "shape": ""
          }
         },
         "name": "E1_to_D1",
         "orientation": "v",
         "showlegend": true,
         "textposition": "auto",
         "type": "bar",
         "x": [
          "2050-01-01T00:00:00.000000000"
         ],
         "xaxis": "x",
         "y": {
          "bdata": "YO6/ApIv8b8=",
          "dtype": "f8"
         },
         "yaxis": "y"
        },
        {
         "hovertemplate": "techs=E1_to_D2<br>timesteps=%{x}<br>Flow in/out (kWh)=%{y}<extra></extra>",
         "legendgroup": "E1_to_D2",
         "marker": {
          "color": "#6783E3",
          "pattern": {
           "shape": ""
          }
         },
         "name": "E1_to_D2",
         "orientation": "v",
         "showlegend": true,
         "textposition": "auto",
         "type": "bar",
         "x": [
          "2050-01-01T00:00:00.000000000"
         ],
         "xaxis": "x",
         "y": {
          "bdata": "YO6/ApIv8b8=",
          "dtype": "f8"
         },
         "yaxis": "y"
        },
        {
         "hovertemplate": "techs=S2_to_E1<br>timesteps=%{x}<br>Flow in/out (kWh)=%{y}<extra></extra>",
         "legendgroup": "S2_to_E1",
         "marker": {
          "color": "#6783E3",
          "pattern": {
           "shape": ""
          }
         },
         "name": "S2_to_E1",
         "orientation": "v",
         "showlegend": true,
         "textposition": "auto",
         "type": "bar",
         "x": [
          "2050-01-01T00:00:00.000000000"
         ],
         "xaxis": "x",
         "y": {
          "bdata": "IAhrhVuJAcA=",
          "dtype": "f8"
         },
         "yaxis": "y"
        },
        {
         "hovertemplate": "techs=heatpump<br>timesteps=%{x}<br>Flow in/out (kWh)=%{y}<extra></extra>",
         "legendgroup": "heatpump",
         "marker": {
          "color": "#8E2999",
          "pattern": {
           "shape": ""
          }
         },
         "name": "heatpump",
         "orientation": "v",
         "showlegend": true,
         "textposition": "auto",
         "type": "bar",
         "x": [
          "2050-01-01T00:00:00.000000000"
         ],
         "xaxis": "x",
         "y": {
          "bdata": "DeU1lNdQWsA=",
          "dtype": "f8"
         },
         "yaxis": "y"
        },
        {
         "hovertemplate": "techs=supply_grid_power<br>timesteps=%{x}<br>Flow in/out (kWh)=%{y}<extra></extra>",
         "legendgroup": "supply_grid_power",
         "marker": {
          "color": "#C5ABE3",
          "pattern": {
           "shape": ""
          }
         },
         "name": "supply_grid_power",
         "orientation": "v",
         "showlegend": true,
         "textposition": "auto",
         "type": "bar",
         "x": [
          "2050-01-01T00:00:00.000000000"
         ],
         "xaxis": "x",
         "y": {
          "bdata": "wTx3AJ9mW0A=",
          "dtype": "f8"
         },
         "yaxis": "y"
        },
        {
         "marker": {
          "color": "black"
         },
         "name": "demand",
         "type": "scatter",
         "x": [],
         "y": []
        }
       ],
       "layout": {
        "barmode": "relative",
        "legend": {
         "title": {
          "text": "techs"
         },
         "tracegroupgap": 0
        },
        "margin": {
         "t": 60
        },
        "template": {
         "data": {
          "bar": [
           {
            "error_x": {
             "color": "#2a3f5f"
            },
            "error_y": {
             "color": "#2a3f5f"
            },
            "marker": {
             "line": {
              "color": "#E5ECF6",
              "width": 0.5
             },
             "pattern": {
              "fillmode": "overlay",
              "size": 10,
              "solidity": 0.2
             }
            },
            "type": "bar"
           }
          ],
          "barpolar": [
           {
            "marker": {
             "line": {
              "color": "#E5ECF6",
              "width": 0.5
             },
             "pattern": {
              "fillmode": "overlay",
              "size": 10,
              "solidity": 0.2
             }
            },
            "type": "barpolar"
           }
          ],
          "carpet": [
           {
            "aaxis": {
             "endlinecolor": "#2a3f5f",
             "gridcolor": "white",
             "linecolor": "white",
             "minorgridcolor": "white",
             "startlinecolor": "#2a3f5f"
            },
            "baxis": {
             "endlinecolor": "#2a3f5f",
             "gridcolor": "white",
             "linecolor": "white",
             "minorgridcolor": "white",
             "startlinecolor": "#2a3f5f"
            },
            "type": "carpet"
           }
          ],
          "choropleth": [
           {
            "colorbar": {
             "outlinewidth": 0,
             "ticks": ""
            },
            "type": "choropleth"
           }
          ],
          "contour": [
           {
            "colorbar": {
             "outlinewidth": 0,
             "ticks": ""
            },
            "colorscale": [
             [
              0,
              "#0d0887"
             ],
             [
              0.1111111111111111,
              "#46039f"
             ],
             [
              0.2222222222222222,
              "#7201a8"
             ],
             [
              0.3333333333333333,
              "#9c179e"
             ],
             [
              0.4444444444444444,
              "#bd3786"
             ],
             [
              0.5555555555555556,
              "#d8576b"
             ],
             [
              0.6666666666666666,
              "#ed7953"
             ],
             [
              0.7777777777777778,
              "#fb9f3a"
             ],
             [
              0.8888888888888888,
              "#fdca26"
             ],
             [
              1,
              "#f0f921"
             ]
            ],
            "type": "contour"
           }
          ],
          "contourcarpet": [
           {
            "colorbar": {
             "outlinewidth": 0,
             "ticks": ""
            },
            "type": "contourcarpet"
           }
          ],
          "heatmap": [
           {
            "colorbar": {
             "outlinewidth": 0,
             "ticks": ""
            },
            "colorscale": [
             [
              0,
              "#0d0887"
             ],
             [
              0.1111111111111111,
              "#46039f"
             ],
             [
              0.2222222222222222,
              "#7201a8"
             ],
             [
              0.3333333333333333,
              "#9c179e"
             ],
             [
              0.4444444444444444,
              "#bd3786"
             ],
             [
              0.5555555555555556,
              "#d8576b"
             ],
             [
              0.6666666666666666,
              "#ed7953"
             ],
             [
              0.7777777777777778,
              "#fb9f3a"
             ],
             [
              0.8888888888888888,
              "#fdca26"
             ],
             [
              1,
              "#f0f921"
             ]
            ],
            "type": "heatmap"
           }
          ],
          "histogram": [
           {
            "marker": {
             "pattern": {
              "fillmode": "overlay",
              "size": 10,
              "solidity": 0.2
             }
            },
            "type": "histogram"
           }
          ],
          "histogram2d": [
           {
            "colorbar": {
             "outlinewidth": 0,
             "ticks": ""
            },
            "colorscale": [
             [
              0,
              "#0d0887"
             ],
             [
              0.1111111111111111,
              "#46039f"
             ],
             [
              0.2222222222222222,
              "#7201a8"
             ],
             [
              0.3333333333333333,
              "#9c179e"
             ],
             [
              0.4444444444444444,
              "#bd3786"
             ],
             [
              0.5555555555555556,
              "#d8576b"
             ],
             [
              0.6666666666666666,
              "#ed7953"
             ],
             [
              0.7777777777777778,
              "#fb9f3a"
             ],
             [
              0.8888888888888888,
              "#fdca26"
             ],
             [
              1,
              "#f0f921"
             ]
            ],
            "type": "histogram2d"
           }
          ],
          "histogram2dcontour": [
           {
            "colorbar": {
             "outlinewidth": 0,
             "ticks": ""
            },
            "colorscale": [
             [
              0,
              "#0d0887"
             ],
             [
              0.1111111111111111,
              "#46039f"
             ],
             [
              0.2222222222222222,
              "#7201a8"
             ],
             [
              0.3333333333333333,
              "#9c179e"
             ],
             [
              0.4444444444444444,
              "#bd3786"
             ],
             [
              0.5555555555555556,
              "#d8576b"
             ],
             [
              0.6666666666666666,
              "#ed7953"
             ],
             [
              0.7777777777777778,
              "#fb9f3a"
             ],
             [
              0.8888888888888888,
              "#fdca26"
             ],
             [
              1,
              "#f0f921"
             ]
            ],
            "type": "histogram2dcontour"
           }
          ],
          "mesh3d": [
           {
            "colorbar": {
             "outlinewidth": 0,
             "ticks": ""
            },
            "type": "mesh3d"
           }
          ],
          "parcoords": [
           {
            "line": {
             "colorbar": {
              "outlinewidth": 0,
              "ticks": ""
             }
            },
            "type": "parcoords"
           }
          ],
          "pie": [
           {
            "automargin": true,
            "type": "pie"
           }
          ],
          "scatter": [
           {
            "fillpattern": {
             "fillmode": "overlay",
             "size": 10,
             "solidity": 0.2
            },
            "type": "scatter"
           }
          ],
          "scatter3d": [
           {
            "line": {
             "colorbar": {
              "outlinewidth": 0,
              "ticks": ""
             }
            },
            "marker": {
             "colorbar": {
              "outlinewidth": 0,
              "ticks": ""
             }
            },
            "type": "scatter3d"
           }
          ],
          "scattercarpet": [
           {
            "marker": {
             "colorbar": {
              "outlinewidth": 0,
              "ticks": ""
             }
            },
            "type": "scattercarpet"
           }
          ],
          "scattergeo": [
           {
            "marker": {
             "colorbar": {
              "outlinewidth": 0,
              "ticks": ""
             }
            },
            "type": "scattergeo"
           }
          ],
          "scattergl": [
           {
            "marker": {
             "colorbar": {
              "outlinewidth": 0,
              "ticks": ""
             }
            },
            "type": "scattergl"
           }
          ],
          "scattermap": [
           {
            "marker": {
             "colorbar": {
              "outlinewidth": 0,
              "ticks": ""
             }
            },
            "type": "scattermap"
           }
          ],
          "scattermapbox": [
           {
            "marker": {
             "colorbar": {
              "outlinewidth": 0,
              "ticks": ""
             }
            },
            "type": "scattermapbox"
           }
          ],
          "scatterpolar": [
           {
            "marker": {
             "colorbar": {
              "outlinewidth": 0,
              "ticks": ""
             }
            },
            "type": "scatterpolar"
           }
          ],
          "scatterpolargl": [
           {
            "marker": {
             "colorbar": {
              "outlinewidth": 0,
              "ticks": ""
             }
            },
            "type": "scatterpolargl"
           }
          ],
          "scatterternary": [
           {
            "marker": {
             "colorbar": {
              "outlinewidth": 0,
              "ticks": ""
             }
            },
            "type": "scatterternary"
           }
          ],
          "surface": [
           {
            "colorbar": {
             "outlinewidth": 0,
             "ticks": ""
            },
            "colorscale": [
             [
              0,
              "#0d0887"
             ],
             [
              0.1111111111111111,
              "#46039f"
             ],
             [
              0.2222222222222222,
              "#7201a8"
             ],
             [
              0.3333333333333333,
              "#9c179e"
             ],
             [
              0.4444444444444444,
              "#bd3786"
             ],
             [
              0.5555555555555556,
              "#d8576b"
             ],
             [
              0.6666666666666666,
              "#ed7953"
             ],
             [
              0.7777777777777778,
              "#fb9f3a"
             ],
             [
              0.8888888888888888,
              "#fdca26"
             ],
             [
              1,
              "#f0f921"
             ]
            ],
            "type": "surface"
           }
          ],
          "table": [
           {
            "cells": {
             "fill": {
              "color": "#EBF0F8"
             },
             "line": {
              "color": "white"
             }
            },
            "header": {
             "fill": {
              "color": "#C8D4E3"
             },
             "line": {
              "color": "white"
             }
            },
            "type": "table"
           }
          ]
         },
         "layout": {
          "annotationdefaults": {
           "arrowcolor": "#2a3f5f",
           "arrowhead": 0,
           "arrowwidth": 1
          },
          "autotypenumbers": "strict",
          "coloraxis": {
           "colorbar": {
            "outlinewidth": 0,
            "ticks": ""
           }
          },
          "colorscale": {
           "diverging": [
            [
             0,
             "#8e0152"
            ],
            [
             0.1,
             "#c51b7d"
            ],
            [
             0.2,
             "#de77ae"
            ],
            [
             0.3,
             "#f1b6da"
            ],
            [
             0.4,
             "#fde0ef"
            ],
            [
             0.5,
             "#f7f7f7"
            ],
            [
             0.6,
             "#e6f5d0"
            ],
            [
             0.7,
             "#b8e186"
            ],
            [
             0.8,
             "#7fbc41"
            ],
            [
             0.9,
             "#4d9221"
            ],
            [
             1,
             "#276419"
            ]
           ],
           "sequential": [
            [
             0,
             "#0d0887"
            ],
            [
             0.1111111111111111,
             "#46039f"
            ],
            [
             0.2222222222222222,
             "#7201a8"
            ],
            [
             0.3333333333333333,
             "#9c179e"
            ],
            [
             0.4444444444444444,
             "#bd3786"
            ],
            [
             0.5555555555555556,
             "#d8576b"
            ],
            [
             0.6666666666666666,
             "#ed7953"
            ],
            [
             0.7777777777777778,
             "#fb9f3a"
            ],
            [
             0.8888888888888888,
             "#fdca26"
            ],
            [
             1,
             "#f0f921"
            ]
           ],
           "sequentialminus": [
            [
             0,
             "#0d0887"
            ],
            [
             0.1111111111111111,
             "#46039f"
            ],
            [
             0.2222222222222222,
             "#7201a8"
            ],
            [
             0.3333333333333333,
             "#9c179e"
            ],
            [
             0.4444444444444444,
             "#bd3786"
            ],
            [
             0.5555555555555556,
             "#d8576b"
            ],
            [
             0.6666666666666666,
             "#ed7953"
            ],
            [
             0.7777777777777778,
             "#fb9f3a"
            ],
            [
             0.8888888888888888,
             "#fdca26"
            ],
            [
             1,
             "#f0f921"
            ]
           ]
          },
          "colorway": [
           "#636efa",
           "#EF553B",
           "#00cc96",
           "#ab63fa",
           "#FFA15A",
           "#19d3f3",
           "#FF6692",
           "#B6E880",
           "#FF97FF",
           "#FECB52"
          ],
          "font": {
           "color": "#2a3f5f"
          },
          "geo": {
           "bgcolor": "white",
           "lakecolor": "white",
           "landcolor": "#E5ECF6",
           "showlakes": true,
           "showland": true,
           "subunitcolor": "white"
          },
          "hoverlabel": {
           "align": "left"
          },
          "hovermode": "closest",
          "mapbox": {
           "style": "light"
          },
          "paper_bgcolor": "white",
          "plot_bgcolor": "#E5ECF6",
          "polar": {
           "angularaxis": {
            "gridcolor": "white",
            "linecolor": "white",
            "ticks": ""
           },
           "bgcolor": "#E5ECF6",
           "radialaxis": {
            "gridcolor": "white",
            "linecolor": "white",
            "ticks": ""
           }
          },
          "scene": {
           "xaxis": {
            "backgroundcolor": "#E5ECF6",
            "gridcolor": "white",
            "gridwidth": 2,
            "linecolor": "white",
            "showbackground": true,
            "ticks": "",
            "zerolinecolor": "white"
           },
           "yaxis": {
            "backgroundcolor": "#E5ECF6",
            "gridcolor": "white",
            "gridwidth": 2,
            "linecolor": "white",
            "showbackground": true,
            "ticks": "",
            "zerolinecolor": "white"
           },
           "zaxis": {
            "backgroundcolor": "#E5ECF6",
            "gridcolor": "white",
            "gridwidth": 2,
            "linecolor": "white",
            "showbackground": true,
            "ticks": "",
            "zerolinecolor": "white"
           }
          },
          "shapedefaults": {
           "line": {
            "color": "#2a3f5f"
           }
          },
          "ternary": {
           "aaxis": {
            "gridcolor": "white",
            "linecolor": "white",
            "ticks": ""
           },
           "baxis": {
            "gridcolor": "white",
            "linecolor": "white",
            "ticks": ""
           },
           "bgcolor": "#E5ECF6",
           "caxis": {
            "gridcolor": "white",
            "linecolor": "white",
            "ticks": ""
           }
          },
          "title": {
           "x": 0.05
          },
          "xaxis": {
           "automargin": true,
           "gridcolor": "white",
           "linecolor": "white",
           "ticks": "",
           "title": {
            "standoff": 15
           },
           "zerolinecolor": "white",
           "zerolinewidth": 2
          },
          "yaxis": {
           "automargin": true,
           "gridcolor": "white",
           "linecolor": "white",
           "ticks": "",
           "title": {
            "standoff": 15
           },
           "zerolinecolor": "white",
           "zerolinewidth": 2
          }
         }
        },
        "xaxis": {
         "anchor": "y",
         "domain": [
          0,
          1
         ],
         "title": {
          "text": "timesteps"
         }
        },
        "yaxis": {
         "anchor": "x",
         "domain": [
          0,
          1
         ],
         "title": {
          "text": "Flow in/out (kWh)"
         }
        }
       }
      }
     },
     "metadata": {},
     "output_type": "display_data"
    }
   ],
   "source": [
    "# We set the color mapping to use in all our plots by extracting the colors defined in the technology definitions of our model.\n",
    "colors = model.inputs.color.to_series().to_dict()\n",
    "\n",
    "df_electricity = (\n",
    "    (model.results.flow_out.fillna(0) - model.results.flow_in.fillna(0))\n",
    "    .sel(carriers=\"electricity\")\n",
    "    .sum(\"nodes\")\n",
    "    .to_series()\n",
    "    .where(lambda x: x != 0)\n",
    "    .dropna()\n",
    "    .to_frame(\"Flow in/out (kWh)\")\n",
    "    .reset_index()\n",
    ")\n",
    "df_electricity_demand = df_electricity[df_electricity.techs == \"demand_electricity\"]\n",
    "df_electricity_other = df_electricity[df_electricity.techs != \"demand_electricity\"]\n",
    "\n",
    "print(df_electricity.head())\n",
    "\n",
    "fig1 = px.bar(\n",
    "    df_electricity_other,\n",
    "    x=\"timesteps\",\n",
    "    y=\"Flow in/out (kWh)\",\n",
    "    color=\"techs\",\n",
    "    color_discrete_map=colors,\n",
    ")\n",
    "fig1.add_scatter(\n",
    "    x=df_electricity_demand.timesteps,\n",
    "    y=-1 * df_electricity_demand[\"Flow in/out (kWh)\"],\n",
    "    marker_color=\"black\",\n",
    "    name=\"demand\",\n",
    ")"
   ]
  },
  {
   "cell_type": "code",
   "execution_count": 256,
   "id": "08df8cff",
   "metadata": {},
   "outputs": [
    {
     "name": "stdout",
     "output_type": "stream",
     "text": [
      "  nodes        techs     carriers  timesteps  Flow in/out (kWh)\n",
      "0    D1     E1_to_D1  electricity 2050-01-01          52.631579\n",
      "1    D1     H1_to_D1         heat 2050-01-01         100.000000\n",
      "2    D1  demand_heat         heat 2050-01-01        -150.000000\n",
      "3    D1     heatpump         heat 2050-01-01          50.000000\n",
      "4    D1     heatpump  electricity 2050-01-01         -52.631579\n"
     ]
    },
    {
     "data": {
      "application/vnd.plotly.v1+json": {
       "config": {
        "plotlyServerURL": "https://plot.ly"
       },
       "data": [
        {
         "hovertemplate": "techs=H1_to_D1<br>nodes=D1<br>carriers=heat<br>timesteps=%{x}<br>Flow in/out (kWh)=%{y}<extra></extra>",
         "legendgroup": "H1_to_D1",
         "marker": {
          "color": "#823739",
          "pattern": {
           "shape": ""
          }
         },
         "name": "H1_to_D1",
         "orientation": "v",
         "showlegend": true,
         "textposition": "auto",
         "type": "bar",
         "x": [
          "2050-01-01T00:00:00.000000000"
         ],
         "xaxis": "x11",
         "y": {
          "bdata": "AAAAAAAAWUA=",
          "dtype": "f8"
         },
         "yaxis": "y11"
        },
        {
         "hovertemplate": "techs=heatpump<br>nodes=D1<br>carriers=heat<br>timesteps=%{x}<br>Flow in/out (kWh)=%{y}<extra></extra>",
         "legendgroup": "heatpump",
         "marker": {
          "color": "#8E2999",
          "pattern": {
           "shape": ""
          }
         },
         "name": "heatpump",
         "orientation": "v",
         "showlegend": true,
         "textposition": "auto",
         "type": "bar",
         "x": [
          "2050-01-01T00:00:00.000000000"
         ],
         "xaxis": "x11",
         "y": {
          "bdata": "AAAAAAAASUA=",
          "dtype": "f8"
         },
         "yaxis": "y11"
        },
        {
         "hovertemplate": "techs=E1_to_D1<br>nodes=D1<br>carriers=electricity<br>timesteps=%{x}<br>Flow in/out (kWh)=%{y}<extra></extra>",
         "legendgroup": "E1_to_D1",
         "marker": {
          "color": "#6783E3",
          "pattern": {
           "shape": ""
          }
         },
         "name": "E1_to_D1",
         "orientation": "v",
         "showlegend": true,
         "textposition": "auto",
         "type": "bar",
         "x": [
          "2050-01-01T00:00:00.000000000"
         ],
         "xaxis": "x12",
         "y": {
          "bdata": "DeU1lNdQSkA=",
          "dtype": "f8"
         },
         "yaxis": "y12"
        },
        {
         "hovertemplate": "techs=heatpump<br>nodes=D1<br>carriers=electricity<br>timesteps=%{x}<br>Flow in/out (kWh)=%{y}<extra></extra>",
         "legendgroup": "heatpump",
         "marker": {
          "color": "#8E2999",
          "pattern": {
           "shape": ""
          }
         },
         "name": "heatpump",
         "orientation": "v",
         "showlegend": false,
         "textposition": "auto",
         "type": "bar",
         "x": [
          "2050-01-01T00:00:00.000000000"
         ],
         "xaxis": "x12",
         "y": {
          "bdata": "DeU1lNdQSsA=",
          "dtype": "f8"
         },
         "yaxis": "y12"
        },
        {
         "hovertemplate": "techs=heatpump<br>nodes=D2<br>carriers=heat<br>timesteps=%{x}<br>Flow in/out (kWh)=%{y}<extra></extra>",
         "legendgroup": "heatpump",
         "marker": {
          "color": "#8E2999",
          "pattern": {
           "shape": ""
          }
         },
         "name": "heatpump",
         "orientation": "v",
         "showlegend": false,
         "textposition": "auto",
         "type": "bar",
         "x": [
          "2050-01-01T00:00:00.000000000"
         ],
         "xaxis": "x9",
         "y": {
          "bdata": "AAAAAAAASUA=",
          "dtype": "f8"
         },
         "yaxis": "y9"
        },
        {
         "hovertemplate": "techs=H1_to_D2<br>nodes=D2<br>carriers=heat<br>timesteps=%{x}<br>Flow in/out (kWh)=%{y}<extra></extra>",
         "legendgroup": "H1_to_D2",
         "marker": {
          "color": "#823739",
          "pattern": {
           "shape": ""
          }
         },
         "name": "H1_to_D2",
         "orientation": "v",
         "showlegend": true,
         "textposition": "auto",
         "type": "bar",
         "x": [
          "2050-01-01T00:00:00.000000000"
         ],
         "xaxis": "x9",
         "y": {
          "bdata": "AAAAAADAYkA=",
          "dtype": "f8"
         },
         "yaxis": "y9"
        },
        {
         "hovertemplate": "techs=heatpump<br>nodes=D2<br>carriers=electricity<br>timesteps=%{x}<br>Flow in/out (kWh)=%{y}<extra></extra>",
         "legendgroup": "heatpump",
         "marker": {
          "color": "#8E2999",
          "pattern": {
           "shape": ""
          }
         },
         "name": "heatpump",
         "orientation": "v",
         "showlegend": false,
         "textposition": "auto",
         "type": "bar",
         "x": [
          "2050-01-01T00:00:00.000000000"
         ],
         "xaxis": "x10",
         "y": {
          "bdata": "DeU1lNdQSsA=",
          "dtype": "f8"
         },
         "yaxis": "y10"
        },
        {
         "hovertemplate": "techs=E1_to_D2<br>nodes=D2<br>carriers=electricity<br>timesteps=%{x}<br>Flow in/out (kWh)=%{y}<extra></extra>",
         "legendgroup": "E1_to_D2",
         "marker": {
          "color": "#6783E3",
          "pattern": {
           "shape": ""
          }
         },
         "name": "E1_to_D2",
         "orientation": "v",
         "showlegend": true,
         "textposition": "auto",
         "type": "bar",
         "x": [
          "2050-01-01T00:00:00.000000000"
         ],
         "xaxis": "x10",
         "y": {
          "bdata": "DeU1lNdQSkA=",
          "dtype": "f8"
         },
         "yaxis": "y10"
        },
        {
         "hovertemplate": "techs=E1_to_D1<br>nodes=E1<br>carriers=electricity<br>timesteps=%{x}<br>Flow in/out (kWh)=%{y}<extra></extra>",
         "legendgroup": "E1_to_D1",
         "marker": {
          "color": "#6783E3",
          "pattern": {
           "shape": ""
          }
         },
         "name": "E1_to_D1",
         "orientation": "v",
         "showlegend": false,
         "textposition": "auto",
         "type": "bar",
         "x": [
          "2050-01-01T00:00:00.000000000"
         ],
         "xaxis": "x8",
         "y": {
          "bdata": "gORLJFTaSsA=",
          "dtype": "f8"
         },
         "yaxis": "y8"
        },
        {
         "hovertemplate": "techs=E1_to_D2<br>nodes=E1<br>carriers=electricity<br>timesteps=%{x}<br>Flow in/out (kWh)=%{y}<extra></extra>",
         "legendgroup": "E1_to_D2",
         "marker": {
          "color": "#6783E3",
          "pattern": {
           "shape": ""
          }
         },
         "name": "E1_to_D2",
         "orientation": "v",
         "showlegend": false,
         "textposition": "auto",
         "type": "bar",
         "x": [
          "2050-01-01T00:00:00.000000000"
         ],
         "xaxis": "x8",
         "y": {
          "bdata": "gORLJFTaSsA=",
          "dtype": "f8"
         },
         "yaxis": "y8"
        },
        {
         "hovertemplate": "techs=S2_to_E1<br>nodes=E1<br>carriers=electricity<br>timesteps=%{x}<br>Flow in/out (kWh)=%{y}<extra></extra>",
         "legendgroup": "S2_to_E1",
         "marker": {
          "color": "#6783E3",
          "pattern": {
           "shape": ""
          }
         },
         "name": "S2_to_E1",
         "orientation": "v",
         "showlegend": true,
         "textposition": "auto",
         "type": "bar",
         "x": [
          "2050-01-01T00:00:00.000000000"
         ],
         "xaxis": "x8",
         "y": {
          "bdata": "gORLJFTaWkA=",
          "dtype": "f8"
         },
         "yaxis": "y8"
        },
        {
         "hovertemplate": "techs=H1_to_D1<br>nodes=H1<br>carriers=heat<br>timesteps=%{x}<br>Flow in/out (kWh)=%{y}<extra></extra>",
         "legendgroup": "H1_to_D1",
         "marker": {
          "color": "#823739",
          "pattern": {
           "shape": ""
          }
         },
         "name": "H1_to_D1",
         "orientation": "v",
         "showlegend": false,
         "textposition": "auto",
         "type": "bar",
         "x": [
          "2050-01-01T00:00:00.000000000"
         ],
         "xaxis": "x5",
         "y": {
          "bdata": "whIuAiocWcA=",
          "dtype": "f8"
         },
         "yaxis": "y5"
        },
        {
         "hovertemplate": "techs=H1_to_D2<br>nodes=H1<br>carriers=heat<br>timesteps=%{x}<br>Flow in/out (kWh)=%{y}<extra></extra>",
         "legendgroup": "H1_to_D2",
         "marker": {
          "color": "#823739",
          "pattern": {
           "shape": ""
          }
         },
         "name": "H1_to_D2",
         "orientation": "v",
         "showlegend": false,
         "textposition": "auto",
         "type": "bar",
         "x": [
          "2050-01-01T00:00:00.000000000"
         ],
         "xaxis": "x5",
         "y": {
          "bdata": "YoG+bdbdYsA=",
          "dtype": "f8"
         },
         "yaxis": "y5"
        },
        {
         "hovertemplate": "techs=S1_to_H1<br>nodes=H1<br>carriers=heat<br>timesteps=%{x}<br>Flow in/out (kWh)=%{y}<extra></extra>",
         "legendgroup": "S1_to_H1",
         "marker": {
          "color": "#823739",
          "pattern": {
           "shape": ""
          }
         },
         "name": "S1_to_H1",
         "orientation": "v",
         "showlegend": true,
         "textposition": "auto",
         "type": "bar",
         "x": [
          "2050-01-01T00:00:00.000000000"
         ],
         "xaxis": "x5",
         "y": {
          "bdata": "w4rVbutrb0A=",
          "dtype": "f8"
         },
         "yaxis": "y5"
        },
        {
         "hovertemplate": "techs=S1_to_H1<br>nodes=S1<br>carriers=heat<br>timesteps=%{x}<br>Flow in/out (kWh)=%{y}<extra></extra>",
         "legendgroup": "S1_to_H1",
         "marker": {
          "color": "#823739",
          "pattern": {
           "shape": ""
          }
         },
         "name": "S1_to_H1",
         "orientation": "v",
         "showlegend": false,
         "textposition": "auto",
         "type": "bar",
         "x": [
          "2050-01-01T00:00:00.000000000"
         ],
         "xaxis": "x3",
         "y": {
          "bdata": "PgVfl4Sab8A=",
          "dtype": "f8"
         },
         "yaxis": "y3"
        },
        {
         "hovertemplate": "techs=supply_geothermal<br>nodes=S1<br>carriers=heat<br>timesteps=%{x}<br>Flow in/out (kWh)=%{y}<extra></extra>",
         "legendgroup": "supply_geothermal",
         "marker": {
          "color": "#C98AAD",
          "pattern": {
           "shape": ""
          }
         },
         "name": "supply_geothermal",
         "orientation": "v",
         "showlegend": true,
         "textposition": "auto",
         "type": "bar",
         "x": [
          "2050-01-01T00:00:00.000000000"
         ],
         "xaxis": "x3",
         "y": {
          "bdata": "PgVfl4Sab0A=",
          "dtype": "f8"
         },
         "yaxis": "y3"
        },
        {
         "hovertemplate": "techs=S2_to_E1<br>nodes=S2<br>carriers=electricity<br>timesteps=%{x}<br>Flow in/out (kWh)=%{y}<extra></extra>",
         "legendgroup": "S2_to_E1",
         "marker": {
          "color": "#6783E3",
          "pattern": {
           "shape": ""
          }
         },
         "name": "S2_to_E1",
         "orientation": "v",
         "showlegend": false,
         "textposition": "auto",
         "type": "bar",
         "x": [
          "2050-01-01T00:00:00.000000000"
         ],
         "xaxis": "x2",
         "y": {
          "bdata": "wTx3AJ9mW8A=",
          "dtype": "f8"
         },
         "yaxis": "y2"
        },
        {
         "hovertemplate": "techs=supply_grid_power<br>nodes=S2<br>carriers=electricity<br>timesteps=%{x}<br>Flow in/out (kWh)=%{y}<extra></extra>",
         "legendgroup": "supply_grid_power",
         "marker": {
          "color": "#C5ABE3",
          "pattern": {
           "shape": ""
          }
         },
         "name": "supply_grid_power",
         "orientation": "v",
         "showlegend": true,
         "textposition": "auto",
         "type": "bar",
         "x": [
          "2050-01-01T00:00:00.000000000"
         ],
         "xaxis": "x2",
         "y": {
          "bdata": "wTx3AJ9mW0A=",
          "dtype": "f8"
         },
         "yaxis": "y2"
        },
        {
         "legendgroup": "demand",
         "marker": {
          "color": "black"
         },
         "name": "Demand",
         "showlegend": true,
         "type": "scatter",
         "x": [
          "2050-01-01T00:00:00.000000000"
         ],
         "xaxis": "x9",
         "y": {
          "bdata": "AAAAAAAAaUA=",
          "dtype": "f8"
         },
         "yaxis": "y9"
        },
        {
         "legendgroup": "demand",
         "marker": {
          "color": "black"
         },
         "name": "Demand",
         "showlegend": false,
         "type": "scatter",
         "x": [
          "2050-01-01T00:00:00.000000000"
         ],
         "xaxis": "x11",
         "y": {
          "bdata": "AAAAAADAYkA=",
          "dtype": "f8"
         },
         "yaxis": "y11"
        }
       ],
       "layout": {
        "annotations": [
         {
          "font": {},
          "showarrow": false,
          "text": "carriers=heat",
          "x": 0.24,
          "xanchor": "center",
          "xref": "paper",
          "y": 1,
          "yanchor": "bottom",
          "yref": "paper"
         },
         {
          "font": {},
          "showarrow": false,
          "text": "carriers=electricity",
          "x": 0.74,
          "xanchor": "center",
          "xref": "paper",
          "y": 1,
          "yanchor": "bottom",
          "yref": "paper"
         },
         {
          "font": {},
          "showarrow": false,
          "text": "nodes=S2",
          "textangle": 90,
          "x": 0.98,
          "xanchor": "left",
          "xref": "paper",
          "y": 0.07083333333333333,
          "yanchor": "middle",
          "yref": "paper"
         },
         {
          "font": {},
          "showarrow": false,
          "text": "nodes=S1",
          "textangle": 90,
          "x": 0.98,
          "xanchor": "left",
          "xref": "paper",
          "y": 0.2425,
          "yanchor": "middle",
          "yref": "paper"
         },
         {
          "font": {},
          "showarrow": false,
          "text": "nodes=H1",
          "textangle": 90,
          "x": 0.98,
          "xanchor": "left",
          "xref": "paper",
          "y": 0.4141666666666667,
          "yanchor": "middle",
          "yref": "paper"
         },
         {
          "font": {},
          "showarrow": false,
          "text": "nodes=E1",
          "textangle": 90,
          "x": 0.98,
          "xanchor": "left",
          "xref": "paper",
          "y": 0.5858333333333334,
          "yanchor": "middle",
          "yref": "paper"
         },
         {
          "font": {},
          "showarrow": false,
          "text": "nodes=D2",
          "textangle": 90,
          "x": 0.98,
          "xanchor": "left",
          "xref": "paper",
          "y": 0.7575000000000001,
          "yanchor": "middle",
          "yref": "paper"
         },
         {
          "font": {},
          "showarrow": false,
          "text": "nodes=D1",
          "textangle": 90,
          "x": 0.98,
          "xanchor": "left",
          "xref": "paper",
          "y": 0.9291666666666667,
          "yanchor": "middle",
          "yref": "paper"
         }
        ],
        "barmode": "relative",
        "height": 1000,
        "legend": {
         "title": {
          "text": "techs"
         },
         "tracegroupgap": 0
        },
        "margin": {
         "t": 60
        },
        "template": {
         "data": {
          "bar": [
           {
            "error_x": {
             "color": "#2a3f5f"
            },
            "error_y": {
             "color": "#2a3f5f"
            },
            "marker": {
             "line": {
              "color": "#E5ECF6",
              "width": 0.5
             },
             "pattern": {
              "fillmode": "overlay",
              "size": 10,
              "solidity": 0.2
             }
            },
            "type": "bar"
           }
          ],
          "barpolar": [
           {
            "marker": {
             "line": {
              "color": "#E5ECF6",
              "width": 0.5
             },
             "pattern": {
              "fillmode": "overlay",
              "size": 10,
              "solidity": 0.2
             }
            },
            "type": "barpolar"
           }
          ],
          "carpet": [
           {
            "aaxis": {
             "endlinecolor": "#2a3f5f",
             "gridcolor": "white",
             "linecolor": "white",
             "minorgridcolor": "white",
             "startlinecolor": "#2a3f5f"
            },
            "baxis": {
             "endlinecolor": "#2a3f5f",
             "gridcolor": "white",
             "linecolor": "white",
             "minorgridcolor": "white",
             "startlinecolor": "#2a3f5f"
            },
            "type": "carpet"
           }
          ],
          "choropleth": [
           {
            "colorbar": {
             "outlinewidth": 0,
             "ticks": ""
            },
            "type": "choropleth"
           }
          ],
          "contour": [
           {
            "colorbar": {
             "outlinewidth": 0,
             "ticks": ""
            },
            "colorscale": [
             [
              0,
              "#0d0887"
             ],
             [
              0.1111111111111111,
              "#46039f"
             ],
             [
              0.2222222222222222,
              "#7201a8"
             ],
             [
              0.3333333333333333,
              "#9c179e"
             ],
             [
              0.4444444444444444,
              "#bd3786"
             ],
             [
              0.5555555555555556,
              "#d8576b"
             ],
             [
              0.6666666666666666,
              "#ed7953"
             ],
             [
              0.7777777777777778,
              "#fb9f3a"
             ],
             [
              0.8888888888888888,
              "#fdca26"
             ],
             [
              1,
              "#f0f921"
             ]
            ],
            "type": "contour"
           }
          ],
          "contourcarpet": [
           {
            "colorbar": {
             "outlinewidth": 0,
             "ticks": ""
            },
            "type": "contourcarpet"
           }
          ],
          "heatmap": [
           {
            "colorbar": {
             "outlinewidth": 0,
             "ticks": ""
            },
            "colorscale": [
             [
              0,
              "#0d0887"
             ],
             [
              0.1111111111111111,
              "#46039f"
             ],
             [
              0.2222222222222222,
              "#7201a8"
             ],
             [
              0.3333333333333333,
              "#9c179e"
             ],
             [
              0.4444444444444444,
              "#bd3786"
             ],
             [
              0.5555555555555556,
              "#d8576b"
             ],
             [
              0.6666666666666666,
              "#ed7953"
             ],
             [
              0.7777777777777778,
              "#fb9f3a"
             ],
             [
              0.8888888888888888,
              "#fdca26"
             ],
             [
              1,
              "#f0f921"
             ]
            ],
            "type": "heatmap"
           }
          ],
          "histogram": [
           {
            "marker": {
             "pattern": {
              "fillmode": "overlay",
              "size": 10,
              "solidity": 0.2
             }
            },
            "type": "histogram"
           }
          ],
          "histogram2d": [
           {
            "colorbar": {
             "outlinewidth": 0,
             "ticks": ""
            },
            "colorscale": [
             [
              0,
              "#0d0887"
             ],
             [
              0.1111111111111111,
              "#46039f"
             ],
             [
              0.2222222222222222,
              "#7201a8"
             ],
             [
              0.3333333333333333,
              "#9c179e"
             ],
             [
              0.4444444444444444,
              "#bd3786"
             ],
             [
              0.5555555555555556,
              "#d8576b"
             ],
             [
              0.6666666666666666,
              "#ed7953"
             ],
             [
              0.7777777777777778,
              "#fb9f3a"
             ],
             [
              0.8888888888888888,
              "#fdca26"
             ],
             [
              1,
              "#f0f921"
             ]
            ],
            "type": "histogram2d"
           }
          ],
          "histogram2dcontour": [
           {
            "colorbar": {
             "outlinewidth": 0,
             "ticks": ""
            },
            "colorscale": [
             [
              0,
              "#0d0887"
             ],
             [
              0.1111111111111111,
              "#46039f"
             ],
             [
              0.2222222222222222,
              "#7201a8"
             ],
             [
              0.3333333333333333,
              "#9c179e"
             ],
             [
              0.4444444444444444,
              "#bd3786"
             ],
             [
              0.5555555555555556,
              "#d8576b"
             ],
             [
              0.6666666666666666,
              "#ed7953"
             ],
             [
              0.7777777777777778,
              "#fb9f3a"
             ],
             [
              0.8888888888888888,
              "#fdca26"
             ],
             [
              1,
              "#f0f921"
             ]
            ],
            "type": "histogram2dcontour"
           }
          ],
          "mesh3d": [
           {
            "colorbar": {
             "outlinewidth": 0,
             "ticks": ""
            },
            "type": "mesh3d"
           }
          ],
          "parcoords": [
           {
            "line": {
             "colorbar": {
              "outlinewidth": 0,
              "ticks": ""
             }
            },
            "type": "parcoords"
           }
          ],
          "pie": [
           {
            "automargin": true,
            "type": "pie"
           }
          ],
          "scatter": [
           {
            "fillpattern": {
             "fillmode": "overlay",
             "size": 10,
             "solidity": 0.2
            },
            "type": "scatter"
           }
          ],
          "scatter3d": [
           {
            "line": {
             "colorbar": {
              "outlinewidth": 0,
              "ticks": ""
             }
            },
            "marker": {
             "colorbar": {
              "outlinewidth": 0,
              "ticks": ""
             }
            },
            "type": "scatter3d"
           }
          ],
          "scattercarpet": [
           {
            "marker": {
             "colorbar": {
              "outlinewidth": 0,
              "ticks": ""
             }
            },
            "type": "scattercarpet"
           }
          ],
          "scattergeo": [
           {
            "marker": {
             "colorbar": {
              "outlinewidth": 0,
              "ticks": ""
             }
            },
            "type": "scattergeo"
           }
          ],
          "scattergl": [
           {
            "marker": {
             "colorbar": {
              "outlinewidth": 0,
              "ticks": ""
             }
            },
            "type": "scattergl"
           }
          ],
          "scattermap": [
           {
            "marker": {
             "colorbar": {
              "outlinewidth": 0,
              "ticks": ""
             }
            },
            "type": "scattermap"
           }
          ],
          "scattermapbox": [
           {
            "marker": {
             "colorbar": {
              "outlinewidth": 0,
              "ticks": ""
             }
            },
            "type": "scattermapbox"
           }
          ],
          "scatterpolar": [
           {
            "marker": {
             "colorbar": {
              "outlinewidth": 0,
              "ticks": ""
             }
            },
            "type": "scatterpolar"
           }
          ],
          "scatterpolargl": [
           {
            "marker": {
             "colorbar": {
              "outlinewidth": 0,
              "ticks": ""
             }
            },
            "type": "scatterpolargl"
           }
          ],
          "scatterternary": [
           {
            "marker": {
             "colorbar": {
              "outlinewidth": 0,
              "ticks": ""
             }
            },
            "type": "scatterternary"
           }
          ],
          "surface": [
           {
            "colorbar": {
             "outlinewidth": 0,
             "ticks": ""
            },
            "colorscale": [
             [
              0,
              "#0d0887"
             ],
             [
              0.1111111111111111,
              "#46039f"
             ],
             [
              0.2222222222222222,
              "#7201a8"
             ],
             [
              0.3333333333333333,
              "#9c179e"
             ],
             [
              0.4444444444444444,
              "#bd3786"
             ],
             [
              0.5555555555555556,
              "#d8576b"
             ],
             [
              0.6666666666666666,
              "#ed7953"
             ],
             [
              0.7777777777777778,
              "#fb9f3a"
             ],
             [
              0.8888888888888888,
              "#fdca26"
             ],
             [
              1,
              "#f0f921"
             ]
            ],
            "type": "surface"
           }
          ],
          "table": [
           {
            "cells": {
             "fill": {
              "color": "#EBF0F8"
             },
             "line": {
              "color": "white"
             }
            },
            "header": {
             "fill": {
              "color": "#C8D4E3"
             },
             "line": {
              "color": "white"
             }
            },
            "type": "table"
           }
          ]
         },
         "layout": {
          "annotationdefaults": {
           "arrowcolor": "#2a3f5f",
           "arrowhead": 0,
           "arrowwidth": 1
          },
          "autotypenumbers": "strict",
          "coloraxis": {
           "colorbar": {
            "outlinewidth": 0,
            "ticks": ""
           }
          },
          "colorscale": {
           "diverging": [
            [
             0,
             "#8e0152"
            ],
            [
             0.1,
             "#c51b7d"
            ],
            [
             0.2,
             "#de77ae"
            ],
            [
             0.3,
             "#f1b6da"
            ],
            [
             0.4,
             "#fde0ef"
            ],
            [
             0.5,
             "#f7f7f7"
            ],
            [
             0.6,
             "#e6f5d0"
            ],
            [
             0.7,
             "#b8e186"
            ],
            [
             0.8,
             "#7fbc41"
            ],
            [
             0.9,
             "#4d9221"
            ],
            [
             1,
             "#276419"
            ]
           ],
           "sequential": [
            [
             0,
             "#0d0887"
            ],
            [
             0.1111111111111111,
             "#46039f"
            ],
            [
             0.2222222222222222,
             "#7201a8"
            ],
            [
             0.3333333333333333,
             "#9c179e"
            ],
            [
             0.4444444444444444,
             "#bd3786"
            ],
            [
             0.5555555555555556,
             "#d8576b"
            ],
            [
             0.6666666666666666,
             "#ed7953"
            ],
            [
             0.7777777777777778,
             "#fb9f3a"
            ],
            [
             0.8888888888888888,
             "#fdca26"
            ],
            [
             1,
             "#f0f921"
            ]
           ],
           "sequentialminus": [
            [
             0,
             "#0d0887"
            ],
            [
             0.1111111111111111,
             "#46039f"
            ],
            [
             0.2222222222222222,
             "#7201a8"
            ],
            [
             0.3333333333333333,
             "#9c179e"
            ],
            [
             0.4444444444444444,
             "#bd3786"
            ],
            [
             0.5555555555555556,
             "#d8576b"
            ],
            [
             0.6666666666666666,
             "#ed7953"
            ],
            [
             0.7777777777777778,
             "#fb9f3a"
            ],
            [
             0.8888888888888888,
             "#fdca26"
            ],
            [
             1,
             "#f0f921"
            ]
           ]
          },
          "colorway": [
           "#636efa",
           "#EF553B",
           "#00cc96",
           "#ab63fa",
           "#FFA15A",
           "#19d3f3",
           "#FF6692",
           "#B6E880",
           "#FF97FF",
           "#FECB52"
          ],
          "font": {
           "color": "#2a3f5f"
          },
          "geo": {
           "bgcolor": "white",
           "lakecolor": "white",
           "landcolor": "#E5ECF6",
           "showlakes": true,
           "showland": true,
           "subunitcolor": "white"
          },
          "hoverlabel": {
           "align": "left"
          },
          "hovermode": "closest",
          "mapbox": {
           "style": "light"
          },
          "paper_bgcolor": "white",
          "plot_bgcolor": "#E5ECF6",
          "polar": {
           "angularaxis": {
            "gridcolor": "white",
            "linecolor": "white",
            "ticks": ""
           },
           "bgcolor": "#E5ECF6",
           "radialaxis": {
            "gridcolor": "white",
            "linecolor": "white",
            "ticks": ""
           }
          },
          "scene": {
           "xaxis": {
            "backgroundcolor": "#E5ECF6",
            "gridcolor": "white",
            "gridwidth": 2,
            "linecolor": "white",
            "showbackground": true,
            "ticks": "",
            "zerolinecolor": "white"
           },
           "yaxis": {
            "backgroundcolor": "#E5ECF6",
            "gridcolor": "white",
            "gridwidth": 2,
            "linecolor": "white",
            "showbackground": true,
            "ticks": "",
            "zerolinecolor": "white"
           },
           "zaxis": {
            "backgroundcolor": "#E5ECF6",
            "gridcolor": "white",
            "gridwidth": 2,
            "linecolor": "white",
            "showbackground": true,
            "ticks": "",
            "zerolinecolor": "white"
           }
          },
          "shapedefaults": {
           "line": {
            "color": "#2a3f5f"
           }
          },
          "ternary": {
           "aaxis": {
            "gridcolor": "white",
            "linecolor": "white",
            "ticks": ""
           },
           "baxis": {
            "gridcolor": "white",
            "linecolor": "white",
            "ticks": ""
           },
           "bgcolor": "#E5ECF6",
           "caxis": {
            "gridcolor": "white",
            "linecolor": "white",
            "ticks": ""
           }
          },
          "title": {
           "x": 0.05
          },
          "xaxis": {
           "automargin": true,
           "gridcolor": "white",
           "linecolor": "white",
           "ticks": "",
           "title": {
            "standoff": 15
           },
           "zerolinecolor": "white",
           "zerolinewidth": 2
          },
          "yaxis": {
           "automargin": true,
           "gridcolor": "white",
           "linecolor": "white",
           "ticks": "",
           "title": {
            "standoff": 15
           },
           "zerolinecolor": "white",
           "zerolinewidth": 2
          }
         }
        },
        "xaxis": {
         "anchor": "y",
         "domain": [
          0,
          0.48
         ],
         "title": {
          "text": "timesteps"
         }
        },
        "xaxis10": {
         "anchor": "y10",
         "domain": [
          0.5,
          0.98
         ],
         "matches": "x",
         "showticklabels": false
        },
        "xaxis11": {
         "anchor": "y11",
         "domain": [
          0,
          0.48
         ],
         "matches": "x",
         "showticklabels": false
        },
        "xaxis12": {
         "anchor": "y12",
         "domain": [
          0.5,
          0.98
         ],
         "matches": "x",
         "showticklabels": false
        },
        "xaxis2": {
         "anchor": "y2",
         "domain": [
          0.5,
          0.98
         ],
         "matches": "x",
         "title": {
          "text": "timesteps"
         }
        },
        "xaxis3": {
         "anchor": "y3",
         "domain": [
          0,
          0.48
         ],
         "matches": "x",
         "showticklabels": false
        },
        "xaxis4": {
         "anchor": "y4",
         "domain": [
          0.5,
          0.98
         ],
         "matches": "x",
         "showticklabels": false
        },
        "xaxis5": {
         "anchor": "y5",
         "domain": [
          0,
          0.48
         ],
         "matches": "x",
         "showticklabels": false
        },
        "xaxis6": {
         "anchor": "y6",
         "domain": [
          0.5,
          0.98
         ],
         "matches": "x",
         "showticklabels": false
        },
        "xaxis7": {
         "anchor": "y7",
         "domain": [
          0,
          0.48
         ],
         "matches": "x",
         "showticklabels": false
        },
        "xaxis8": {
         "anchor": "y8",
         "domain": [
          0.5,
          0.98
         ],
         "matches": "x",
         "showticklabels": false
        },
        "xaxis9": {
         "anchor": "y9",
         "domain": [
          0,
          0.48
         ],
         "matches": "x",
         "showticklabels": false
        },
        "yaxis": {
         "anchor": "x",
         "domain": [
          0,
          0.14166666666666666
         ],
         "title": {
          "text": "Flow in/out (kWh)"
         }
        },
        "yaxis10": {
         "anchor": "x10",
         "domain": [
          0.6866666666666666,
          0.8283333333333334
         ],
         "showticklabels": false
        },
        "yaxis11": {
         "anchor": "x11",
         "domain": [
          0.8583333333333333,
          1
         ],
         "title": {
          "text": "Flow in/out (kWh)"
         }
        },
        "yaxis12": {
         "anchor": "x12",
         "domain": [
          0.8583333333333333,
          1
         ],
         "showticklabels": false
        },
        "yaxis2": {
         "anchor": "x2",
         "domain": [
          0,
          0.14166666666666666
         ],
         "showticklabels": false
        },
        "yaxis3": {
         "anchor": "x3",
         "domain": [
          0.17166666666666666,
          0.31333333333333335
         ],
         "title": {
          "text": "Flow in/out (kWh)"
         }
        },
        "yaxis4": {
         "anchor": "x4",
         "domain": [
          0.17166666666666666,
          0.31333333333333335
         ],
         "showticklabels": false
        },
        "yaxis5": {
         "anchor": "x5",
         "domain": [
          0.3433333333333333,
          0.485
         ],
         "title": {
          "text": "Flow in/out (kWh)"
         }
        },
        "yaxis6": {
         "anchor": "x6",
         "domain": [
          0.3433333333333333,
          0.485
         ],
         "showticklabels": false
        },
        "yaxis7": {
         "anchor": "x7",
         "domain": [
          0.515,
          0.6566666666666667
         ],
         "title": {
          "text": "Flow in/out (kWh)"
         }
        },
        "yaxis8": {
         "anchor": "x8",
         "domain": [
          0.515,
          0.6566666666666667
         ],
         "showticklabels": false
        },
        "yaxis9": {
         "anchor": "x9",
         "domain": [
          0.6866666666666666,
          0.8283333333333334
         ],
         "title": {
          "text": "Flow in/out (kWh)"
         }
        }
       }
      }
     },
     "metadata": {},
     "output_type": "display_data"
    }
   ],
   "source": [
    "carriers = [\"heat\", \"electricity\"]\n",
    "df_flows = (\n",
    "    (model.results.flow_out.fillna(0) - model.results.flow_in.fillna(0))\n",
    "    .sel(carriers=carriers)\n",
    "    .to_series()\n",
    "    .where(lambda x: x != 0)\n",
    "    .dropna()\n",
    "    .to_frame(\"Flow in/out (kWh)\")\n",
    "    .reset_index()\n",
    ")\n",
    "df_demand = df_flows[df_flows.techs.str.contains(\"demand\")]\n",
    "df_flows_other = df_flows[~df_flows.techs.str.contains(\"demand\")]\n",
    "\n",
    "print(df_flows.head())\n",
    "\n",
    "node_order = df_flows_other.nodes.unique()\n",
    "\n",
    "fig = px.bar(\n",
    "    df_flows_other,\n",
    "    x=\"timesteps\",\n",
    "    y=\"Flow in/out (kWh)\",\n",
    "    facet_row=\"nodes\",\n",
    "    facet_col=\"carriers\",\n",
    "    color=\"techs\",\n",
    "    category_orders={\"nodes\": node_order, \"carriers\": carriers},\n",
    "    height=1000,\n",
    "    color_discrete_map=colors,\n",
    ")\n",
    "\n",
    "showlegend = True\n",
    "# we reverse the node order (`[::-1]`) because the rows are numbered from bottom to top.\n",
    "for row, node in enumerate(node_order[::-1]):\n",
    "    for col, carrier in enumerate(carriers):\n",
    "        demand_ = df_demand.loc[\n",
    "            (df_demand.nodes == node) & (df_demand.techs == f\"demand_{carrier}\"),\n",
    "            \"Flow in/out (kWh)\",\n",
    "        ]\n",
    "        if not demand_.empty:\n",
    "            fig.add_scatter(\n",
    "                x=model.results.timesteps.values,\n",
    "                y=-1 * demand_,\n",
    "                row=row + 1,\n",
    "                col=col + 1,\n",
    "                marker_color=\"black\",\n",
    "                name=\"Demand\",\n",
    "                legendgroup=\"demand\",\n",
    "                showlegend=showlegend,\n",
    "            )\n",
    "            showlegend = False\n",
    "fig.update_yaxes(matches=None)\n",
    "fig.show()"
   ]
  },
  {
   "cell_type": "code",
   "execution_count": 257,
   "id": "e8de5523",
   "metadata": {},
   "outputs": [
    {
     "name": "stdout",
     "output_type": "stream",
     "text": [
      "  nodes              techs     carriers  Flow capacity (kW)\n",
      "0    D1           heatpump  electricity           52.631579\n",
      "1    D1           heatpump         heat           50.000000\n",
      "2    D2           heatpump  electricity           52.631579\n",
      "3    D2           heatpump         heat           50.000000\n",
      "4    S1  supply_geothermal         heat          252.828685\n"
     ]
    },
    {
     "data": {
      "application/vnd.plotly.v1+json": {
       "config": {
        "plotlyServerURL": "https://plot.ly"
       },
       "data": [
        {
         "hovertemplate": "techs=heatpump<br>carriers=electricity<br>nodes=%{x}<br>Flow capacity (kW)=%{y}<extra></extra>",
         "legendgroup": "heatpump",
         "marker": {
          "color": "#8E2999",
          "pattern": {
           "shape": ""
          }
         },
         "name": "heatpump",
         "orientation": "v",
         "showlegend": true,
         "textposition": "auto",
         "type": "bar",
         "x": [
          "D1",
          "D2"
         ],
         "xaxis": "x",
         "y": {
          "bdata": "DeU1lNdQSkAN5TWU11BKQA==",
          "dtype": "f8"
         },
         "yaxis": "y"
        },
        {
         "hovertemplate": "techs=heatpump<br>carriers=heat<br>nodes=%{x}<br>Flow capacity (kW)=%{y}<extra></extra>",
         "legendgroup": "heatpump",
         "marker": {
          "color": "#8E2999",
          "pattern": {
           "shape": ""
          }
         },
         "name": "heatpump",
         "orientation": "v",
         "showlegend": false,
         "textposition": "auto",
         "type": "bar",
         "x": [
          "D1",
          "D2"
         ],
         "xaxis": "x2",
         "y": {
          "bdata": "AAAAAAAASUAAAAAAAABJQA==",
          "dtype": "f8"
         },
         "yaxis": "y2"
        },
        {
         "hovertemplate": "techs=supply_geothermal<br>carriers=heat<br>nodes=%{x}<br>Flow capacity (kW)=%{y}<extra></extra>",
         "legendgroup": "supply_geothermal",
         "marker": {
          "color": "#C98AAD",
          "pattern": {
           "shape": ""
          }
         },
         "name": "supply_geothermal",
         "orientation": "v",
         "showlegend": true,
         "textposition": "auto",
         "type": "bar",
         "x": [
          "S1"
         ],
         "xaxis": "x2",
         "y": {
          "bdata": "PgVfl4Sab0A=",
          "dtype": "f8"
         },
         "yaxis": "y2"
        },
        {
         "hovertemplate": "techs=supply_grid_power<br>carriers=electricity<br>nodes=%{x}<br>Flow capacity (kW)=%{y}<extra></extra>",
         "legendgroup": "supply_grid_power",
         "marker": {
          "color": "#C5ABE3",
          "pattern": {
           "shape": ""
          }
         },
         "name": "supply_grid_power",
         "orientation": "v",
         "showlegend": true,
         "textposition": "auto",
         "type": "bar",
         "x": [
          "S2"
         ],
         "xaxis": "x",
         "y": {
          "bdata": "wTx3AJ9mW0A=",
          "dtype": "f8"
         },
         "yaxis": "y"
        }
       ],
       "layout": {
        "annotations": [
         {
          "font": {},
          "showarrow": false,
          "text": "carriers=electricity",
          "x": 0.245,
          "xanchor": "center",
          "xref": "paper",
          "y": 1,
          "yanchor": "bottom",
          "yref": "paper"
         },
         {
          "font": {},
          "showarrow": false,
          "text": "carriers=heat",
          "x": 0.755,
          "xanchor": "center",
          "xref": "paper",
          "y": 1,
          "yanchor": "bottom",
          "yref": "paper"
         }
        ],
        "barmode": "relative",
        "legend": {
         "title": {
          "text": "techs"
         },
         "tracegroupgap": 0
        },
        "margin": {
         "t": 60
        },
        "template": {
         "data": {
          "bar": [
           {
            "error_x": {
             "color": "#2a3f5f"
            },
            "error_y": {
             "color": "#2a3f5f"
            },
            "marker": {
             "line": {
              "color": "#E5ECF6",
              "width": 0.5
             },
             "pattern": {
              "fillmode": "overlay",
              "size": 10,
              "solidity": 0.2
             }
            },
            "type": "bar"
           }
          ],
          "barpolar": [
           {
            "marker": {
             "line": {
              "color": "#E5ECF6",
              "width": 0.5
             },
             "pattern": {
              "fillmode": "overlay",
              "size": 10,
              "solidity": 0.2
             }
            },
            "type": "barpolar"
           }
          ],
          "carpet": [
           {
            "aaxis": {
             "endlinecolor": "#2a3f5f",
             "gridcolor": "white",
             "linecolor": "white",
             "minorgridcolor": "white",
             "startlinecolor": "#2a3f5f"
            },
            "baxis": {
             "endlinecolor": "#2a3f5f",
             "gridcolor": "white",
             "linecolor": "white",
             "minorgridcolor": "white",
             "startlinecolor": "#2a3f5f"
            },
            "type": "carpet"
           }
          ],
          "choropleth": [
           {
            "colorbar": {
             "outlinewidth": 0,
             "ticks": ""
            },
            "type": "choropleth"
           }
          ],
          "contour": [
           {
            "colorbar": {
             "outlinewidth": 0,
             "ticks": ""
            },
            "colorscale": [
             [
              0,
              "#0d0887"
             ],
             [
              0.1111111111111111,
              "#46039f"
             ],
             [
              0.2222222222222222,
              "#7201a8"
             ],
             [
              0.3333333333333333,
              "#9c179e"
             ],
             [
              0.4444444444444444,
              "#bd3786"
             ],
             [
              0.5555555555555556,
              "#d8576b"
             ],
             [
              0.6666666666666666,
              "#ed7953"
             ],
             [
              0.7777777777777778,
              "#fb9f3a"
             ],
             [
              0.8888888888888888,
              "#fdca26"
             ],
             [
              1,
              "#f0f921"
             ]
            ],
            "type": "contour"
           }
          ],
          "contourcarpet": [
           {
            "colorbar": {
             "outlinewidth": 0,
             "ticks": ""
            },
            "type": "contourcarpet"
           }
          ],
          "heatmap": [
           {
            "colorbar": {
             "outlinewidth": 0,
             "ticks": ""
            },
            "colorscale": [
             [
              0,
              "#0d0887"
             ],
             [
              0.1111111111111111,
              "#46039f"
             ],
             [
              0.2222222222222222,
              "#7201a8"
             ],
             [
              0.3333333333333333,
              "#9c179e"
             ],
             [
              0.4444444444444444,
              "#bd3786"
             ],
             [
              0.5555555555555556,
              "#d8576b"
             ],
             [
              0.6666666666666666,
              "#ed7953"
             ],
             [
              0.7777777777777778,
              "#fb9f3a"
             ],
             [
              0.8888888888888888,
              "#fdca26"
             ],
             [
              1,
              "#f0f921"
             ]
            ],
            "type": "heatmap"
           }
          ],
          "histogram": [
           {
            "marker": {
             "pattern": {
              "fillmode": "overlay",
              "size": 10,
              "solidity": 0.2
             }
            },
            "type": "histogram"
           }
          ],
          "histogram2d": [
           {
            "colorbar": {
             "outlinewidth": 0,
             "ticks": ""
            },
            "colorscale": [
             [
              0,
              "#0d0887"
             ],
             [
              0.1111111111111111,
              "#46039f"
             ],
             [
              0.2222222222222222,
              "#7201a8"
             ],
             [
              0.3333333333333333,
              "#9c179e"
             ],
             [
              0.4444444444444444,
              "#bd3786"
             ],
             [
              0.5555555555555556,
              "#d8576b"
             ],
             [
              0.6666666666666666,
              "#ed7953"
             ],
             [
              0.7777777777777778,
              "#fb9f3a"
             ],
             [
              0.8888888888888888,
              "#fdca26"
             ],
             [
              1,
              "#f0f921"
             ]
            ],
            "type": "histogram2d"
           }
          ],
          "histogram2dcontour": [
           {
            "colorbar": {
             "outlinewidth": 0,
             "ticks": ""
            },
            "colorscale": [
             [
              0,
              "#0d0887"
             ],
             [
              0.1111111111111111,
              "#46039f"
             ],
             [
              0.2222222222222222,
              "#7201a8"
             ],
             [
              0.3333333333333333,
              "#9c179e"
             ],
             [
              0.4444444444444444,
              "#bd3786"
             ],
             [
              0.5555555555555556,
              "#d8576b"
             ],
             [
              0.6666666666666666,
              "#ed7953"
             ],
             [
              0.7777777777777778,
              "#fb9f3a"
             ],
             [
              0.8888888888888888,
              "#fdca26"
             ],
             [
              1,
              "#f0f921"
             ]
            ],
            "type": "histogram2dcontour"
           }
          ],
          "mesh3d": [
           {
            "colorbar": {
             "outlinewidth": 0,
             "ticks": ""
            },
            "type": "mesh3d"
           }
          ],
          "parcoords": [
           {
            "line": {
             "colorbar": {
              "outlinewidth": 0,
              "ticks": ""
             }
            },
            "type": "parcoords"
           }
          ],
          "pie": [
           {
            "automargin": true,
            "type": "pie"
           }
          ],
          "scatter": [
           {
            "fillpattern": {
             "fillmode": "overlay",
             "size": 10,
             "solidity": 0.2
            },
            "type": "scatter"
           }
          ],
          "scatter3d": [
           {
            "line": {
             "colorbar": {
              "outlinewidth": 0,
              "ticks": ""
             }
            },
            "marker": {
             "colorbar": {
              "outlinewidth": 0,
              "ticks": ""
             }
            },
            "type": "scatter3d"
           }
          ],
          "scattercarpet": [
           {
            "marker": {
             "colorbar": {
              "outlinewidth": 0,
              "ticks": ""
             }
            },
            "type": "scattercarpet"
           }
          ],
          "scattergeo": [
           {
            "marker": {
             "colorbar": {
              "outlinewidth": 0,
              "ticks": ""
             }
            },
            "type": "scattergeo"
           }
          ],
          "scattergl": [
           {
            "marker": {
             "colorbar": {
              "outlinewidth": 0,
              "ticks": ""
             }
            },
            "type": "scattergl"
           }
          ],
          "scattermap": [
           {
            "marker": {
             "colorbar": {
              "outlinewidth": 0,
              "ticks": ""
             }
            },
            "type": "scattermap"
           }
          ],
          "scattermapbox": [
           {
            "marker": {
             "colorbar": {
              "outlinewidth": 0,
              "ticks": ""
             }
            },
            "type": "scattermapbox"
           }
          ],
          "scatterpolar": [
           {
            "marker": {
             "colorbar": {
              "outlinewidth": 0,
              "ticks": ""
             }
            },
            "type": "scatterpolar"
           }
          ],
          "scatterpolargl": [
           {
            "marker": {
             "colorbar": {
              "outlinewidth": 0,
              "ticks": ""
             }
            },
            "type": "scatterpolargl"
           }
          ],
          "scatterternary": [
           {
            "marker": {
             "colorbar": {
              "outlinewidth": 0,
              "ticks": ""
             }
            },
            "type": "scatterternary"
           }
          ],
          "surface": [
           {
            "colorbar": {
             "outlinewidth": 0,
             "ticks": ""
            },
            "colorscale": [
             [
              0,
              "#0d0887"
             ],
             [
              0.1111111111111111,
              "#46039f"
             ],
             [
              0.2222222222222222,
              "#7201a8"
             ],
             [
              0.3333333333333333,
              "#9c179e"
             ],
             [
              0.4444444444444444,
              "#bd3786"
             ],
             [
              0.5555555555555556,
              "#d8576b"
             ],
             [
              0.6666666666666666,
              "#ed7953"
             ],
             [
              0.7777777777777778,
              "#fb9f3a"
             ],
             [
              0.8888888888888888,
              "#fdca26"
             ],
             [
              1,
              "#f0f921"
             ]
            ],
            "type": "surface"
           }
          ],
          "table": [
           {
            "cells": {
             "fill": {
              "color": "#EBF0F8"
             },
             "line": {
              "color": "white"
             }
            },
            "header": {
             "fill": {
              "color": "#C8D4E3"
             },
             "line": {
              "color": "white"
             }
            },
            "type": "table"
           }
          ]
         },
         "layout": {
          "annotationdefaults": {
           "arrowcolor": "#2a3f5f",
           "arrowhead": 0,
           "arrowwidth": 1
          },
          "autotypenumbers": "strict",
          "coloraxis": {
           "colorbar": {
            "outlinewidth": 0,
            "ticks": ""
           }
          },
          "colorscale": {
           "diverging": [
            [
             0,
             "#8e0152"
            ],
            [
             0.1,
             "#c51b7d"
            ],
            [
             0.2,
             "#de77ae"
            ],
            [
             0.3,
             "#f1b6da"
            ],
            [
             0.4,
             "#fde0ef"
            ],
            [
             0.5,
             "#f7f7f7"
            ],
            [
             0.6,
             "#e6f5d0"
            ],
            [
             0.7,
             "#b8e186"
            ],
            [
             0.8,
             "#7fbc41"
            ],
            [
             0.9,
             "#4d9221"
            ],
            [
             1,
             "#276419"
            ]
           ],
           "sequential": [
            [
             0,
             "#0d0887"
            ],
            [
             0.1111111111111111,
             "#46039f"
            ],
            [
             0.2222222222222222,
             "#7201a8"
            ],
            [
             0.3333333333333333,
             "#9c179e"
            ],
            [
             0.4444444444444444,
             "#bd3786"
            ],
            [
             0.5555555555555556,
             "#d8576b"
            ],
            [
             0.6666666666666666,
             "#ed7953"
            ],
            [
             0.7777777777777778,
             "#fb9f3a"
            ],
            [
             0.8888888888888888,
             "#fdca26"
            ],
            [
             1,
             "#f0f921"
            ]
           ],
           "sequentialminus": [
            [
             0,
             "#0d0887"
            ],
            [
             0.1111111111111111,
             "#46039f"
            ],
            [
             0.2222222222222222,
             "#7201a8"
            ],
            [
             0.3333333333333333,
             "#9c179e"
            ],
            [
             0.4444444444444444,
             "#bd3786"
            ],
            [
             0.5555555555555556,
             "#d8576b"
            ],
            [
             0.6666666666666666,
             "#ed7953"
            ],
            [
             0.7777777777777778,
             "#fb9f3a"
            ],
            [
             0.8888888888888888,
             "#fdca26"
            ],
            [
             1,
             "#f0f921"
            ]
           ]
          },
          "colorway": [
           "#636efa",
           "#EF553B",
           "#00cc96",
           "#ab63fa",
           "#FFA15A",
           "#19d3f3",
           "#FF6692",
           "#B6E880",
           "#FF97FF",
           "#FECB52"
          ],
          "font": {
           "color": "#2a3f5f"
          },
          "geo": {
           "bgcolor": "white",
           "lakecolor": "white",
           "landcolor": "#E5ECF6",
           "showlakes": true,
           "showland": true,
           "subunitcolor": "white"
          },
          "hoverlabel": {
           "align": "left"
          },
          "hovermode": "closest",
          "mapbox": {
           "style": "light"
          },
          "paper_bgcolor": "white",
          "plot_bgcolor": "#E5ECF6",
          "polar": {
           "angularaxis": {
            "gridcolor": "white",
            "linecolor": "white",
            "ticks": ""
           },
           "bgcolor": "#E5ECF6",
           "radialaxis": {
            "gridcolor": "white",
            "linecolor": "white",
            "ticks": ""
           }
          },
          "scene": {
           "xaxis": {
            "backgroundcolor": "#E5ECF6",
            "gridcolor": "white",
            "gridwidth": 2,
            "linecolor": "white",
            "showbackground": true,
            "ticks": "",
            "zerolinecolor": "white"
           },
           "yaxis": {
            "backgroundcolor": "#E5ECF6",
            "gridcolor": "white",
            "gridwidth": 2,
            "linecolor": "white",
            "showbackground": true,
            "ticks": "",
            "zerolinecolor": "white"
           },
           "zaxis": {
            "backgroundcolor": "#E5ECF6",
            "gridcolor": "white",
            "gridwidth": 2,
            "linecolor": "white",
            "showbackground": true,
            "ticks": "",
            "zerolinecolor": "white"
           }
          },
          "shapedefaults": {
           "line": {
            "color": "#2a3f5f"
           }
          },
          "ternary": {
           "aaxis": {
            "gridcolor": "white",
            "linecolor": "white",
            "ticks": ""
           },
           "baxis": {
            "gridcolor": "white",
            "linecolor": "white",
            "ticks": ""
           },
           "bgcolor": "#E5ECF6",
           "caxis": {
            "gridcolor": "white",
            "linecolor": "white",
            "ticks": ""
           }
          },
          "title": {
           "x": 0.05
          },
          "xaxis": {
           "automargin": true,
           "gridcolor": "white",
           "linecolor": "white",
           "ticks": "",
           "title": {
            "standoff": 15
           },
           "zerolinecolor": "white",
           "zerolinewidth": 2
          },
          "yaxis": {
           "automargin": true,
           "gridcolor": "white",
           "linecolor": "white",
           "ticks": "",
           "title": {
            "standoff": 15
           },
           "zerolinecolor": "white",
           "zerolinewidth": 2
          }
         }
        },
        "xaxis": {
         "anchor": "y",
         "domain": [
          0,
          0.49
         ],
         "title": {
          "text": "nodes"
         }
        },
        "xaxis2": {
         "anchor": "y2",
         "domain": [
          0.51,
          1
         ],
         "matches": "x",
         "title": {
          "text": "nodes"
         }
        },
        "yaxis": {
         "anchor": "x",
         "domain": [
          0,
          1
         ],
         "title": {
          "text": "Flow capacity (kW)"
         }
        },
        "yaxis2": {
         "anchor": "x2",
         "domain": [
          0,
          1
         ],
         "matches": "y",
         "showticklabels": false
        }
       }
      }
     },
     "metadata": {},
     "output_type": "display_data"
    }
   ],
   "source": [
    "df_capacity = (\n",
    "    model.results.flow_cap.where(\n",
    "        ~model.inputs.base_tech.str.contains(\"demand|transmission\")\n",
    "    )\n",
    "    .to_series()\n",
    "    .where(lambda x: x != 0)\n",
    "    .dropna()\n",
    "    .to_frame(\"Flow capacity (kW)\")\n",
    "    .reset_index()\n",
    ")\n",
    "\n",
    "print(df_capacity.head())\n",
    "\n",
    "fig = px.bar(\n",
    "    df_capacity,\n",
    "    x=\"nodes\",\n",
    "    y=\"Flow capacity (kW)\",\n",
    "    color=\"techs\",\n",
    "    facet_col=\"carriers\",\n",
    "    color_discrete_map=colors,\n",
    ")\n",
    "fig.show()"
   ]
  },
  {
   "cell_type": "code",
   "execution_count": 265,
   "id": "e42a3199",
   "metadata": {},
   "outputs": [
    {
     "data": {
      "application/vnd.plotly.v1+json": {
       "config": {
        "plotlyServerURL": "https://plot.ly"
       },
       "data": [
        {
         "customdata": {
          "bdata": "gORLJFTaSkCA5EskVNpKQIDkSyRU2kpAgORLJFTaSkDBPHcAn2ZbQME8dwCfZltA",
          "dtype": "f8",
          "shape": "6, 1"
         },
         "hovertemplate": "<b>%{hovertext}</b><br><br>carriers=electricity<br>latitude=%{lat}<br>longitude=%{lon}<br>Flow capacity (kW)=%{customdata[0]}<extra></extra>",
         "hovertext": [
          "D1",
          "E1",
          "D2",
          "E1",
          "E1",
          "S2"
         ],
         "lat": {
          "bdata": "waikTkD/SUAeigJ9Iv9JQKyL22gA/0lAHooCfSL/SUAeigJ9Iv9JQFCNl24S/0lA",
          "dtype": "f8"
         },
         "legendgroup": "electricity",
         "line": {
          "color": "#636efa"
         },
         "lon": {
          "bdata": "Un5S7dNxEUCPqiaIum8RQG3n+6nxchFAj6omiLpvEUCPqiaIum8RQCGwcmiRbRFA",
          "dtype": "f8"
         },
         "mode": "lines",
         "name": "electricity",
         "showlegend": true,
         "subplot": "map",
         "type": "scattermap"
        },
        {
         "customdata": {
          "bdata": "whIuAiocWUDCEi4CKhxZQGKBvm3W3WJAYoG+bdbdYkA+BV+XhJpvQD4FX5eEmm9A",
          "dtype": "f8",
          "shape": "6, 1"
         },
         "hovertemplate": "<b>%{hovertext}</b><br><br>carriers=heat<br>latitude=%{lat}<br>longitude=%{lon}<br>Flow capacity (kW)=%{customdata[0]}<extra></extra>",
         "hovertext": [
          "D1",
          "H1",
          "D2",
          "H1",
          "H1",
          "S1"
         ],
         "lat": {
          "bdata": "waikTkD/SUAeigJ9Iv9JQKyL22gA/0lAHooCfSL/SUAeigJ9Iv9JQB5QNuUK/0lA",
          "dtype": "f8"
         },
         "legendgroup": "heat",
         "line": {
          "color": "#EF553B"
         },
         "lon": {
          "bdata": "Un5S7dNxEUCPqiaIum8RQG3n+6nxchFAj6omiLpvEUCPqiaIum8RQAaBlUOLbBFA",
          "dtype": "f8"
         },
         "mode": "lines",
         "name": "heat",
         "showlegend": true,
         "subplot": "map",
         "type": "scattermap"
        },
        {
         "customdata": {
          "bdata": "gORLJFTaSkCA5EskVNpKQIDkSyRU2kpAgORLJFTaSkDBPHcAn2ZbQME8dwCfZltA",
          "dtype": "f8",
          "shape": "6, 1"
         },
         "hovertemplate": "<b>%{hovertext}</b><br><br>carriers=electricity<br>latitude=%{lat}<br>longitude=%{lon}<br>Flow capacity (kW)=%{customdata[0]}<extra></extra>",
         "hovertext": [
          "D1",
          "E1",
          "D2",
          "E1",
          "E1",
          "S2"
         ],
         "lat": {
          "bdata": "waikTkD/SUAeigJ9Iv9JQKyL22gA/0lAHooCfSL/SUAeigJ9Iv9JQFCNl24S/0lA",
          "dtype": "f8"
         },
         "legendgroup": "electricity",
         "lon": {
          "bdata": "Un5S7dNxEUCPqiaIum8RQG3n+6nxchFAj6omiLpvEUCPqiaIum8RQCGwcmiRbRFA",
          "dtype": "f8"
         },
         "marker": {
          "color": "#636efa"
         },
         "mode": "markers",
         "name": "electricity",
         "showlegend": true,
         "subplot": "map",
         "type": "scattermap"
        },
        {
         "customdata": {
          "bdata": "whIuAiocWUDCEi4CKhxZQGKBvm3W3WJAYoG+bdbdYkA+BV+XhJpvQD4FX5eEmm9A",
          "dtype": "f8",
          "shape": "6, 1"
         },
         "hovertemplate": "<b>%{hovertext}</b><br><br>carriers=heat<br>latitude=%{lat}<br>longitude=%{lon}<br>Flow capacity (kW)=%{customdata[0]}<extra></extra>",
         "hovertext": [
          "D1",
          "H1",
          "D2",
          "H1",
          "H1",
          "S1"
         ],
         "lat": {
          "bdata": "waikTkD/SUAeigJ9Iv9JQKyL22gA/0lAHooCfSL/SUAeigJ9Iv9JQB5QNuUK/0lA",
          "dtype": "f8"
         },
         "legendgroup": "heat",
         "lon": {
          "bdata": "Un5S7dNxEUCPqiaIum8RQG3n+6nxchFAj6omiLpvEUCPqiaIum8RQAaBlUOLbBFA",
          "dtype": "f8"
         },
         "marker": {
          "color": "#EF553B"
         },
         "mode": "markers",
         "name": "heat",
         "showlegend": true,
         "subplot": "map",
         "type": "scattermap"
        }
       ],
       "layout": {
        "hoverdistance": 50,
        "map": {
         "center": {
          "lat": 51.99301666666667,
          "lon": 4.3591050000000005
         },
         "style": "open-street-map",
         "zoom": 16
        },
        "margin": {
         "b": 0,
         "l": 0,
         "r": 0,
         "t": 0
        },
        "template": {
         "data": {
          "bar": [
           {
            "error_x": {
             "color": "#2a3f5f"
            },
            "error_y": {
             "color": "#2a3f5f"
            },
            "marker": {
             "line": {
              "color": "#E5ECF6",
              "width": 0.5
             },
             "pattern": {
              "fillmode": "overlay",
              "size": 10,
              "solidity": 0.2
             }
            },
            "type": "bar"
           }
          ],
          "barpolar": [
           {
            "marker": {
             "line": {
              "color": "#E5ECF6",
              "width": 0.5
             },
             "pattern": {
              "fillmode": "overlay",
              "size": 10,
              "solidity": 0.2
             }
            },
            "type": "barpolar"
           }
          ],
          "carpet": [
           {
            "aaxis": {
             "endlinecolor": "#2a3f5f",
             "gridcolor": "white",
             "linecolor": "white",
             "minorgridcolor": "white",
             "startlinecolor": "#2a3f5f"
            },
            "baxis": {
             "endlinecolor": "#2a3f5f",
             "gridcolor": "white",
             "linecolor": "white",
             "minorgridcolor": "white",
             "startlinecolor": "#2a3f5f"
            },
            "type": "carpet"
           }
          ],
          "choropleth": [
           {
            "colorbar": {
             "outlinewidth": 0,
             "ticks": ""
            },
            "type": "choropleth"
           }
          ],
          "contour": [
           {
            "colorbar": {
             "outlinewidth": 0,
             "ticks": ""
            },
            "colorscale": [
             [
              0,
              "#0d0887"
             ],
             [
              0.1111111111111111,
              "#46039f"
             ],
             [
              0.2222222222222222,
              "#7201a8"
             ],
             [
              0.3333333333333333,
              "#9c179e"
             ],
             [
              0.4444444444444444,
              "#bd3786"
             ],
             [
              0.5555555555555556,
              "#d8576b"
             ],
             [
              0.6666666666666666,
              "#ed7953"
             ],
             [
              0.7777777777777778,
              "#fb9f3a"
             ],
             [
              0.8888888888888888,
              "#fdca26"
             ],
             [
              1,
              "#f0f921"
             ]
            ],
            "type": "contour"
           }
          ],
          "contourcarpet": [
           {
            "colorbar": {
             "outlinewidth": 0,
             "ticks": ""
            },
            "type": "contourcarpet"
           }
          ],
          "heatmap": [
           {
            "colorbar": {
             "outlinewidth": 0,
             "ticks": ""
            },
            "colorscale": [
             [
              0,
              "#0d0887"
             ],
             [
              0.1111111111111111,
              "#46039f"
             ],
             [
              0.2222222222222222,
              "#7201a8"
             ],
             [
              0.3333333333333333,
              "#9c179e"
             ],
             [
              0.4444444444444444,
              "#bd3786"
             ],
             [
              0.5555555555555556,
              "#d8576b"
             ],
             [
              0.6666666666666666,
              "#ed7953"
             ],
             [
              0.7777777777777778,
              "#fb9f3a"
             ],
             [
              0.8888888888888888,
              "#fdca26"
             ],
             [
              1,
              "#f0f921"
             ]
            ],
            "type": "heatmap"
           }
          ],
          "histogram": [
           {
            "marker": {
             "pattern": {
              "fillmode": "overlay",
              "size": 10,
              "solidity": 0.2
             }
            },
            "type": "histogram"
           }
          ],
          "histogram2d": [
           {
            "colorbar": {
             "outlinewidth": 0,
             "ticks": ""
            },
            "colorscale": [
             [
              0,
              "#0d0887"
             ],
             [
              0.1111111111111111,
              "#46039f"
             ],
             [
              0.2222222222222222,
              "#7201a8"
             ],
             [
              0.3333333333333333,
              "#9c179e"
             ],
             [
              0.4444444444444444,
              "#bd3786"
             ],
             [
              0.5555555555555556,
              "#d8576b"
             ],
             [
              0.6666666666666666,
              "#ed7953"
             ],
             [
              0.7777777777777778,
              "#fb9f3a"
             ],
             [
              0.8888888888888888,
              "#fdca26"
             ],
             [
              1,
              "#f0f921"
             ]
            ],
            "type": "histogram2d"
           }
          ],
          "histogram2dcontour": [
           {
            "colorbar": {
             "outlinewidth": 0,
             "ticks": ""
            },
            "colorscale": [
             [
              0,
              "#0d0887"
             ],
             [
              0.1111111111111111,
              "#46039f"
             ],
             [
              0.2222222222222222,
              "#7201a8"
             ],
             [
              0.3333333333333333,
              "#9c179e"
             ],
             [
              0.4444444444444444,
              "#bd3786"
             ],
             [
              0.5555555555555556,
              "#d8576b"
             ],
             [
              0.6666666666666666,
              "#ed7953"
             ],
             [
              0.7777777777777778,
              "#fb9f3a"
             ],
             [
              0.8888888888888888,
              "#fdca26"
             ],
             [
              1,
              "#f0f921"
             ]
            ],
            "type": "histogram2dcontour"
           }
          ],
          "mesh3d": [
           {
            "colorbar": {
             "outlinewidth": 0,
             "ticks": ""
            },
            "type": "mesh3d"
           }
          ],
          "parcoords": [
           {
            "line": {
             "colorbar": {
              "outlinewidth": 0,
              "ticks": ""
             }
            },
            "type": "parcoords"
           }
          ],
          "pie": [
           {
            "automargin": true,
            "type": "pie"
           }
          ],
          "scatter": [
           {
            "fillpattern": {
             "fillmode": "overlay",
             "size": 10,
             "solidity": 0.2
            },
            "type": "scatter"
           }
          ],
          "scatter3d": [
           {
            "line": {
             "colorbar": {
              "outlinewidth": 0,
              "ticks": ""
             }
            },
            "marker": {
             "colorbar": {
              "outlinewidth": 0,
              "ticks": ""
             }
            },
            "type": "scatter3d"
           }
          ],
          "scattercarpet": [
           {
            "marker": {
             "colorbar": {
              "outlinewidth": 0,
              "ticks": ""
             }
            },
            "type": "scattercarpet"
           }
          ],
          "scattergeo": [
           {
            "marker": {
             "colorbar": {
              "outlinewidth": 0,
              "ticks": ""
             }
            },
            "type": "scattergeo"
           }
          ],
          "scattergl": [
           {
            "marker": {
             "colorbar": {
              "outlinewidth": 0,
              "ticks": ""
             }
            },
            "type": "scattergl"
           }
          ],
          "scattermap": [
           {
            "marker": {
             "colorbar": {
              "outlinewidth": 0,
              "ticks": ""
             }
            },
            "type": "scattermap"
           }
          ],
          "scattermapbox": [
           {
            "marker": {
             "colorbar": {
              "outlinewidth": 0,
              "ticks": ""
             }
            },
            "type": "scattermapbox"
           }
          ],
          "scatterpolar": [
           {
            "marker": {
             "colorbar": {
              "outlinewidth": 0,
              "ticks": ""
             }
            },
            "type": "scatterpolar"
           }
          ],
          "scatterpolargl": [
           {
            "marker": {
             "colorbar": {
              "outlinewidth": 0,
              "ticks": ""
             }
            },
            "type": "scatterpolargl"
           }
          ],
          "scatterternary": [
           {
            "marker": {
             "colorbar": {
              "outlinewidth": 0,
              "ticks": ""
             }
            },
            "type": "scatterternary"
           }
          ],
          "surface": [
           {
            "colorbar": {
             "outlinewidth": 0,
             "ticks": ""
            },
            "colorscale": [
             [
              0,
              "#0d0887"
             ],
             [
              0.1111111111111111,
              "#46039f"
             ],
             [
              0.2222222222222222,
              "#7201a8"
             ],
             [
              0.3333333333333333,
              "#9c179e"
             ],
             [
              0.4444444444444444,
              "#bd3786"
             ],
             [
              0.5555555555555556,
              "#d8576b"
             ],
             [
              0.6666666666666666,
              "#ed7953"
             ],
             [
              0.7777777777777778,
              "#fb9f3a"
             ],
             [
              0.8888888888888888,
              "#fdca26"
             ],
             [
              1,
              "#f0f921"
             ]
            ],
            "type": "surface"
           }
          ],
          "table": [
           {
            "cells": {
             "fill": {
              "color": "#EBF0F8"
             },
             "line": {
              "color": "white"
             }
            },
            "header": {
             "fill": {
              "color": "#C8D4E3"
             },
             "line": {
              "color": "white"
             }
            },
            "type": "table"
           }
          ]
         },
         "layout": {
          "annotationdefaults": {
           "arrowcolor": "#2a3f5f",
           "arrowhead": 0,
           "arrowwidth": 1
          },
          "autotypenumbers": "strict",
          "coloraxis": {
           "colorbar": {
            "outlinewidth": 0,
            "ticks": ""
           }
          },
          "colorscale": {
           "diverging": [
            [
             0,
             "#8e0152"
            ],
            [
             0.1,
             "#c51b7d"
            ],
            [
             0.2,
             "#de77ae"
            ],
            [
             0.3,
             "#f1b6da"
            ],
            [
             0.4,
             "#fde0ef"
            ],
            [
             0.5,
             "#f7f7f7"
            ],
            [
             0.6,
             "#e6f5d0"
            ],
            [
             0.7,
             "#b8e186"
            ],
            [
             0.8,
             "#7fbc41"
            ],
            [
             0.9,
             "#4d9221"
            ],
            [
             1,
             "#276419"
            ]
           ],
           "sequential": [
            [
             0,
             "#0d0887"
            ],
            [
             0.1111111111111111,
             "#46039f"
            ],
            [
             0.2222222222222222,
             "#7201a8"
            ],
            [
             0.3333333333333333,
             "#9c179e"
            ],
            [
             0.4444444444444444,
             "#bd3786"
            ],
            [
             0.5555555555555556,
             "#d8576b"
            ],
            [
             0.6666666666666666,
             "#ed7953"
            ],
            [
             0.7777777777777778,
             "#fb9f3a"
            ],
            [
             0.8888888888888888,
             "#fdca26"
            ],
            [
             1,
             "#f0f921"
            ]
           ],
           "sequentialminus": [
            [
             0,
             "#0d0887"
            ],
            [
             0.1111111111111111,
             "#46039f"
            ],
            [
             0.2222222222222222,
             "#7201a8"
            ],
            [
             0.3333333333333333,
             "#9c179e"
            ],
            [
             0.4444444444444444,
             "#bd3786"
            ],
            [
             0.5555555555555556,
             "#d8576b"
            ],
            [
             0.6666666666666666,
             "#ed7953"
            ],
            [
             0.7777777777777778,
             "#fb9f3a"
            ],
            [
             0.8888888888888888,
             "#fdca26"
            ],
            [
             1,
             "#f0f921"
            ]
           ]
          },
          "colorway": [
           "#636efa",
           "#EF553B",
           "#00cc96",
           "#ab63fa",
           "#FFA15A",
           "#19d3f3",
           "#FF6692",
           "#B6E880",
           "#FF97FF",
           "#FECB52"
          ],
          "font": {
           "color": "#2a3f5f"
          },
          "geo": {
           "bgcolor": "white",
           "lakecolor": "white",
           "landcolor": "#E5ECF6",
           "showlakes": true,
           "showland": true,
           "subunitcolor": "white"
          },
          "hoverlabel": {
           "align": "left"
          },
          "hovermode": "closest",
          "mapbox": {
           "style": "light"
          },
          "paper_bgcolor": "white",
          "plot_bgcolor": "#E5ECF6",
          "polar": {
           "angularaxis": {
            "gridcolor": "white",
            "linecolor": "white",
            "ticks": ""
           },
           "bgcolor": "#E5ECF6",
           "radialaxis": {
            "gridcolor": "white",
            "linecolor": "white",
            "ticks": ""
           }
          },
          "scene": {
           "xaxis": {
            "backgroundcolor": "#E5ECF6",
            "gridcolor": "white",
            "gridwidth": 2,
            "linecolor": "white",
            "showbackground": true,
            "ticks": "",
            "zerolinecolor": "white"
           },
           "yaxis": {
            "backgroundcolor": "#E5ECF6",
            "gridcolor": "white",
            "gridwidth": 2,
            "linecolor": "white",
            "showbackground": true,
            "ticks": "",
            "zerolinecolor": "white"
           },
           "zaxis": {
            "backgroundcolor": "#E5ECF6",
            "gridcolor": "white",
            "gridwidth": 2,
            "linecolor": "white",
            "showbackground": true,
            "ticks": "",
            "zerolinecolor": "white"
           }
          },
          "shapedefaults": {
           "line": {
            "color": "#2a3f5f"
           }
          },
          "ternary": {
           "aaxis": {
            "gridcolor": "white",
            "linecolor": "white",
            "ticks": ""
           },
           "baxis": {
            "gridcolor": "white",
            "linecolor": "white",
            "ticks": ""
           },
           "bgcolor": "#E5ECF6",
           "caxis": {
            "gridcolor": "white",
            "linecolor": "white",
            "ticks": ""
           }
          },
          "title": {
           "x": 0.05
          },
          "xaxis": {
           "automargin": true,
           "gridcolor": "white",
           "linecolor": "white",
           "ticks": "",
           "title": {
            "standoff": 15
           },
           "zerolinecolor": "white",
           "zerolinewidth": 2
          },
          "yaxis": {
           "automargin": true,
           "gridcolor": "white",
           "linecolor": "white",
           "ticks": "",
           "title": {
            "standoff": 15
           },
           "zerolinecolor": "white",
           "zerolinewidth": 2
          }
         }
        }
       }
      }
     },
     "metadata": {},
     "output_type": "display_data"
    }
   ],
   "source": [
    "df_coords = model.inputs[[\"latitude\", \"longitude\"]].to_dataframe().reset_index()\n",
    "df_capacity = (\n",
    "    model.results.flow_cap.where(model.inputs.base_tech == \"transmission\")\n",
    "    .to_series()\n",
    "    .where(lambda x: x != 0)\n",
    "    .dropna()\n",
    "    .to_frame(\"Flow capacity (kW)\")\n",
    "    .reset_index()\n",
    ")\n",
    "df_capacity_coords = pd.merge(df_coords, df_capacity, left_on=\"nodes\", right_on=\"nodes\").sort_values(by=['techs'])\n",
    "fig1 = px.line_map(\n",
    "    df_capacity_coords,\n",
    "    lat=\"latitude\",\n",
    "    lon=\"longitude\",\n",
    "    color=\"carriers\",\n",
    "    hover_name=\"nodes\",\n",
    "    hover_data=\"Flow capacity (kW)\",\n",
    "    zoom=3,\n",
    "    height=2000,\n",
    ")\n",
    "fig2 = px.scatter_map(\n",
    "    df_capacity_coords,\n",
    "    lat=\"latitude\",\n",
    "    lon=\"longitude\",\n",
    "    color=\"carriers\",\n",
    "    hover_name=\"nodes\",\n",
    "    hover_data=\"Flow capacity (kW)\",\n",
    "    zoom=3,\n",
    "    height=2000,\n",
    ")\n",
    "fig=go.Figure(data = fig1.data + fig2.data)\n",
    "fig.update_layout(\n",
    "    map_style=\"open-street-map\",\n",
    "    map_zoom=16,\n",
    "    map_center_lat=df_coords.latitude.mean(),\n",
    "    map_center_lon=df_coords.longitude.mean(),\n",
    "    margin={\"r\": 0, \"t\": 0, \"l\": 0, \"b\": 0},\n",
    "    hoverdistance=50,\n",
    ")"
   ]
  }
 ],
 "metadata": {
  "kernelspec": {
   "display_name": "calliope",
   "language": "python",
   "name": "python3"
  },
  "language_info": {
   "codemirror_mode": {
    "name": "ipython",
    "version": 3
   },
   "file_extension": ".py",
   "mimetype": "text/x-python",
   "name": "python",
   "nbconvert_exporter": "python",
   "pygments_lexer": "ipython3",
   "version": "3.12.11"
  }
 },
 "nbformat": 4,
 "nbformat_minor": 5
}
