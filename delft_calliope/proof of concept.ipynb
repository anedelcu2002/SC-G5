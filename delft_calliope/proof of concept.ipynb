{
 "cells": [
  {
   "cell_type": "code",
   "execution_count": 1,
   "id": "f1f4008b",
   "metadata": {},
   "outputs": [
    {
     "name": "stdout",
     "output_type": "stream",
     "text": [
      "[2025-10-13 08:05:43] INFO     Math init | loading pre-defined math.\n",
      "[2025-10-13 08:05:43] INFO     Math init | loading math files {'storage_inter_cluster', 'spores', 'operate', 'milp', 'base'}.\n",
      "[2025-10-13 08:05:43] INFO     Model: preprocessing data\n",
      "[2025-10-13 08:05:43] INFO     Math build | building applied math with ['base'].\n",
      "[2025-10-13 08:05:44] INFO     input data `color` not defined in model math; it will not be available in the optimisation problem.\n",
      "[2025-10-13 08:05:44] INFO     input data `name` not defined in model math; it will not be available in the optimisation problem.\n",
      "[2025-10-13 08:05:44] WARNING  ModelWarning: Only one timestep defined. Inferring timestep resolution to be 1 hour\n",
      "\n",
      "[2025-10-13 08:05:44] INFO     input data `color` not defined in model math; it will not be available in the optimisation problem.\n",
      "[2025-10-13 08:05:44] INFO     input data `name` not defined in model math; it will not be available in the optimisation problem.\n",
      "[2025-10-13 08:05:44] INFO     Model: initialisation complete\n"
     ]
    }
   ],
   "source": [
    "import pandas as pd\n",
    "import plotly.express as px\n",
    "\n",
    "import calliope\n",
    "\n",
    "# We increase logging verbosity\n",
    "calliope.set_log_verbosity(\"INFO\", include_solver_output=False)\n",
    "\n",
    "model = calliope.read_yaml(\"model.yaml\")"
   ]
  },
  {
   "cell_type": "code",
   "execution_count": 2,
   "id": "545139f6",
   "metadata": {},
   "outputs": [
    {
     "data": {
      "text/html": [
       "<div><svg style=\"position: absolute; width: 0; height: 0; overflow: hidden\">\n",
       "<defs>\n",
       "<symbol id=\"icon-database\" viewBox=\"0 0 32 32\">\n",
       "<path d=\"M16 0c-8.837 0-16 2.239-16 5v4c0 2.761 7.163 5 16 5s16-2.239 16-5v-4c0-2.761-7.163-5-16-5z\"></path>\n",
       "<path d=\"M16 17c-8.837 0-16-2.239-16-5v6c0 2.761 7.163 5 16 5s16-2.239 16-5v-6c0 2.761-7.163 5-16 5z\"></path>\n",
       "<path d=\"M16 26c-8.837 0-16-2.239-16-5v6c0 2.761 7.163 5 16 5s16-2.239 16-5v-6c0 2.761-7.163 5-16 5z\"></path>\n",
       "</symbol>\n",
       "<symbol id=\"icon-file-text2\" viewBox=\"0 0 32 32\">\n",
       "<path d=\"M28.681 7.159c-0.694-0.947-1.662-2.053-2.724-3.116s-2.169-2.030-3.116-2.724c-1.612-1.182-2.393-1.319-2.841-1.319h-15.5c-1.378 0-2.5 1.121-2.5 2.5v27c0 1.378 1.122 2.5 2.5 2.5h23c1.378 0 2.5-1.122 2.5-2.5v-19.5c0-0.448-0.137-1.23-1.319-2.841zM24.543 5.457c0.959 0.959 1.712 1.825 2.268 2.543h-4.811v-4.811c0.718 0.556 1.584 1.309 2.543 2.268zM28 29.5c0 0.271-0.229 0.5-0.5 0.5h-23c-0.271 0-0.5-0.229-0.5-0.5v-27c0-0.271 0.229-0.5 0.5-0.5 0 0 15.499-0 15.5 0v7c0 0.552 0.448 1 1 1h7v19.5z\"></path>\n",
       "<path d=\"M23 26h-14c-0.552 0-1-0.448-1-1s0.448-1 1-1h14c0.552 0 1 0.448 1 1s-0.448 1-1 1z\"></path>\n",
       "<path d=\"M23 22h-14c-0.552 0-1-0.448-1-1s0.448-1 1-1h14c0.552 0 1 0.448 1 1s-0.448 1-1 1z\"></path>\n",
       "<path d=\"M23 18h-14c-0.552 0-1-0.448-1-1s0.448-1 1-1h14c0.552 0 1 0.448 1 1s-0.448 1-1 1z\"></path>\n",
       "</symbol>\n",
       "</defs>\n",
       "</svg>\n",
       "<style>/* CSS stylesheet for displaying xarray objects in jupyterlab.\n",
       " *\n",
       " */\n",
       "\n",
       ":root {\n",
       "  --xr-font-color0: var(--jp-content-font-color0, rgba(0, 0, 0, 1));\n",
       "  --xr-font-color2: var(--jp-content-font-color2, rgba(0, 0, 0, 0.54));\n",
       "  --xr-font-color3: var(--jp-content-font-color3, rgba(0, 0, 0, 0.38));\n",
       "  --xr-border-color: var(--jp-border-color2, #e0e0e0);\n",
       "  --xr-disabled-color: var(--jp-layout-color3, #bdbdbd);\n",
       "  --xr-background-color: var(--jp-layout-color0, white);\n",
       "  --xr-background-color-row-even: var(--jp-layout-color1, white);\n",
       "  --xr-background-color-row-odd: var(--jp-layout-color2, #eeeeee);\n",
       "}\n",
       "\n",
       "html[theme=dark],\n",
       "body[data-theme=dark],\n",
       "body.vscode-dark {\n",
       "  --xr-font-color0: rgba(255, 255, 255, 1);\n",
       "  --xr-font-color2: rgba(255, 255, 255, 0.54);\n",
       "  --xr-font-color3: rgba(255, 255, 255, 0.38);\n",
       "  --xr-border-color: #1F1F1F;\n",
       "  --xr-disabled-color: #515151;\n",
       "  --xr-background-color: #111111;\n",
       "  --xr-background-color-row-even: #111111;\n",
       "  --xr-background-color-row-odd: #313131;\n",
       "}\n",
       "\n",
       ".xr-wrap {\n",
       "  display: block !important;\n",
       "  min-width: 300px;\n",
       "  max-width: 700px;\n",
       "}\n",
       "\n",
       ".xr-text-repr-fallback {\n",
       "  /* fallback to plain text repr when CSS is not injected (untrusted notebook) */\n",
       "  display: none;\n",
       "}\n",
       "\n",
       ".xr-header {\n",
       "  padding-top: 6px;\n",
       "  padding-bottom: 6px;\n",
       "  margin-bottom: 4px;\n",
       "  border-bottom: solid 1px var(--xr-border-color);\n",
       "}\n",
       "\n",
       ".xr-header > div,\n",
       ".xr-header > ul {\n",
       "  display: inline;\n",
       "  margin-top: 0;\n",
       "  margin-bottom: 0;\n",
       "}\n",
       "\n",
       ".xr-obj-type,\n",
       ".xr-array-name {\n",
       "  margin-left: 2px;\n",
       "  margin-right: 10px;\n",
       "}\n",
       "\n",
       ".xr-obj-type {\n",
       "  color: var(--xr-font-color2);\n",
       "}\n",
       "\n",
       ".xr-sections {\n",
       "  padding-left: 0 !important;\n",
       "  display: grid;\n",
       "  grid-template-columns: 150px auto auto 1fr 20px 20px;\n",
       "}\n",
       "\n",
       ".xr-section-item {\n",
       "  display: contents;\n",
       "}\n",
       "\n",
       ".xr-section-item input {\n",
       "  display: none;\n",
       "}\n",
       "\n",
       ".xr-section-item input + label {\n",
       "  color: var(--xr-disabled-color);\n",
       "}\n",
       "\n",
       ".xr-section-item input:enabled + label {\n",
       "  cursor: pointer;\n",
       "  color: var(--xr-font-color2);\n",
       "}\n",
       "\n",
       ".xr-section-item input:enabled + label:hover {\n",
       "  color: var(--xr-font-color0);\n",
       "}\n",
       "\n",
       ".xr-section-summary {\n",
       "  grid-column: 1;\n",
       "  color: var(--xr-font-color2);\n",
       "  font-weight: 500;\n",
       "}\n",
       "\n",
       ".xr-section-summary > span {\n",
       "  display: inline-block;\n",
       "  padding-left: 0.5em;\n",
       "}\n",
       "\n",
       ".xr-section-summary-in:disabled + label {\n",
       "  color: var(--xr-font-color2);\n",
       "}\n",
       "\n",
       ".xr-section-summary-in + label:before {\n",
       "  display: inline-block;\n",
       "  content: '►';\n",
       "  font-size: 11px;\n",
       "  width: 15px;\n",
       "  text-align: center;\n",
       "}\n",
       "\n",
       ".xr-section-summary-in:disabled + label:before {\n",
       "  color: var(--xr-disabled-color);\n",
       "}\n",
       "\n",
       ".xr-section-summary-in:checked + label:before {\n",
       "  content: '▼';\n",
       "}\n",
       "\n",
       ".xr-section-summary-in:checked + label > span {\n",
       "  display: none;\n",
       "}\n",
       "\n",
       ".xr-section-summary,\n",
       ".xr-section-inline-details {\n",
       "  padding-top: 4px;\n",
       "  padding-bottom: 4px;\n",
       "}\n",
       "\n",
       ".xr-section-inline-details {\n",
       "  grid-column: 2 / -1;\n",
       "}\n",
       "\n",
       ".xr-section-details {\n",
       "  display: none;\n",
       "  grid-column: 1 / -1;\n",
       "  margin-bottom: 5px;\n",
       "}\n",
       "\n",
       ".xr-section-summary-in:checked ~ .xr-section-details {\n",
       "  display: contents;\n",
       "}\n",
       "\n",
       ".xr-array-wrap {\n",
       "  grid-column: 1 / -1;\n",
       "  display: grid;\n",
       "  grid-template-columns: 20px auto;\n",
       "}\n",
       "\n",
       ".xr-array-wrap > label {\n",
       "  grid-column: 1;\n",
       "  vertical-align: top;\n",
       "}\n",
       "\n",
       ".xr-preview {\n",
       "  color: var(--xr-font-color3);\n",
       "}\n",
       "\n",
       ".xr-array-preview,\n",
       ".xr-array-data {\n",
       "  padding: 0 5px !important;\n",
       "  grid-column: 2;\n",
       "}\n",
       "\n",
       ".xr-array-data,\n",
       ".xr-array-in:checked ~ .xr-array-preview {\n",
       "  display: none;\n",
       "}\n",
       "\n",
       ".xr-array-in:checked ~ .xr-array-data,\n",
       ".xr-array-preview {\n",
       "  display: inline-block;\n",
       "}\n",
       "\n",
       ".xr-dim-list {\n",
       "  display: inline-block !important;\n",
       "  list-style: none;\n",
       "  padding: 0 !important;\n",
       "  margin: 0;\n",
       "}\n",
       "\n",
       ".xr-dim-list li {\n",
       "  display: inline-block;\n",
       "  padding: 0;\n",
       "  margin: 0;\n",
       "}\n",
       "\n",
       ".xr-dim-list:before {\n",
       "  content: '(';\n",
       "}\n",
       "\n",
       ".xr-dim-list:after {\n",
       "  content: ')';\n",
       "}\n",
       "\n",
       ".xr-dim-list li:not(:last-child):after {\n",
       "  content: ',';\n",
       "  padding-right: 5px;\n",
       "}\n",
       "\n",
       ".xr-has-index {\n",
       "  font-weight: bold;\n",
       "}\n",
       "\n",
       ".xr-var-list,\n",
       ".xr-var-item {\n",
       "  display: contents;\n",
       "}\n",
       "\n",
       ".xr-var-item > div,\n",
       ".xr-var-item label,\n",
       ".xr-var-item > .xr-var-name span {\n",
       "  background-color: var(--xr-background-color-row-even);\n",
       "  margin-bottom: 0;\n",
       "}\n",
       "\n",
       ".xr-var-item > .xr-var-name:hover span {\n",
       "  padding-right: 5px;\n",
       "}\n",
       "\n",
       ".xr-var-list > li:nth-child(odd) > div,\n",
       ".xr-var-list > li:nth-child(odd) > label,\n",
       ".xr-var-list > li:nth-child(odd) > .xr-var-name span {\n",
       "  background-color: var(--xr-background-color-row-odd);\n",
       "}\n",
       "\n",
       ".xr-var-name {\n",
       "  grid-column: 1;\n",
       "}\n",
       "\n",
       ".xr-var-dims {\n",
       "  grid-column: 2;\n",
       "}\n",
       "\n",
       ".xr-var-dtype {\n",
       "  grid-column: 3;\n",
       "  text-align: right;\n",
       "  color: var(--xr-font-color2);\n",
       "}\n",
       "\n",
       ".xr-var-preview {\n",
       "  grid-column: 4;\n",
       "}\n",
       "\n",
       ".xr-index-preview {\n",
       "  grid-column: 2 / 5;\n",
       "  color: var(--xr-font-color2);\n",
       "}\n",
       "\n",
       ".xr-var-name,\n",
       ".xr-var-dims,\n",
       ".xr-var-dtype,\n",
       ".xr-preview,\n",
       ".xr-attrs dt {\n",
       "  white-space: nowrap;\n",
       "  overflow: hidden;\n",
       "  text-overflow: ellipsis;\n",
       "  padding-right: 10px;\n",
       "}\n",
       "\n",
       ".xr-var-name:hover,\n",
       ".xr-var-dims:hover,\n",
       ".xr-var-dtype:hover,\n",
       ".xr-attrs dt:hover {\n",
       "  overflow: visible;\n",
       "  width: auto;\n",
       "  z-index: 1;\n",
       "}\n",
       "\n",
       ".xr-var-attrs,\n",
       ".xr-var-data,\n",
       ".xr-index-data {\n",
       "  display: none;\n",
       "  background-color: var(--xr-background-color) !important;\n",
       "  padding-bottom: 5px !important;\n",
       "}\n",
       "\n",
       ".xr-var-attrs-in:checked ~ .xr-var-attrs,\n",
       ".xr-var-data-in:checked ~ .xr-var-data,\n",
       ".xr-index-data-in:checked ~ .xr-index-data {\n",
       "  display: block;\n",
       "}\n",
       "\n",
       ".xr-var-data > table {\n",
       "  float: right;\n",
       "}\n",
       "\n",
       ".xr-var-name span,\n",
       ".xr-var-data,\n",
       ".xr-index-name div,\n",
       ".xr-index-data,\n",
       ".xr-attrs {\n",
       "  padding-left: 25px !important;\n",
       "}\n",
       "\n",
       ".xr-attrs,\n",
       ".xr-var-attrs,\n",
       ".xr-var-data,\n",
       ".xr-index-data {\n",
       "  grid-column: 1 / -1;\n",
       "}\n",
       "\n",
       "dl.xr-attrs {\n",
       "  padding: 0;\n",
       "  margin: 0;\n",
       "  display: grid;\n",
       "  grid-template-columns: 125px auto;\n",
       "}\n",
       "\n",
       ".xr-attrs dt,\n",
       ".xr-attrs dd {\n",
       "  padding: 0;\n",
       "  margin: 0;\n",
       "  float: left;\n",
       "  padding-right: 10px;\n",
       "  width: auto;\n",
       "}\n",
       "\n",
       ".xr-attrs dt {\n",
       "  font-weight: normal;\n",
       "  grid-column: 1;\n",
       "}\n",
       "\n",
       ".xr-attrs dt:hover span {\n",
       "  display: inline-block;\n",
       "  background: var(--xr-background-color);\n",
       "  padding-right: 10px;\n",
       "}\n",
       "\n",
       ".xr-attrs dd {\n",
       "  grid-column: 2;\n",
       "  white-space: pre-wrap;\n",
       "  word-break: break-all;\n",
       "}\n",
       "\n",
       ".xr-icon-database,\n",
       ".xr-icon-file-text2,\n",
       ".xr-no-icon {\n",
       "  display: inline-block;\n",
       "  vertical-align: middle;\n",
       "  width: 1em;\n",
       "  height: 1.5em !important;\n",
       "  stroke-width: 0;\n",
       "  stroke: currentColor;\n",
       "  fill: currentColor;\n",
       "}\n",
       "</style><pre class='xr-text-repr-fallback'>&lt;xarray.Dataset&gt; Size: 2kB\n",
       "Dimensions:                     (costs: 1, techs: 9, nodes: 4, carriers: 2,\n",
       "                                 timesteps: 1)\n",
       "Coordinates:\n",
       "  * costs                       (costs) object 8B &#x27;monetary&#x27;\n",
       "  * techs                       (techs) object 72B &#x27;N1_to_X2&#x27; ... &#x27;supply_gri...\n",
       "  * carriers                    (carriers) object 16B &#x27;electricity&#x27; &#x27;heat&#x27;\n",
       "  * nodes                       (nodes) object 32B &#x27;N1&#x27; &#x27;X1&#x27; &#x27;X2&#x27; &#x27;X3&#x27;\n",
       "  * timesteps                   (timesteps) datetime64[ns] 8B 2050-01-01\n",
       "Data variables: (12/23)\n",
       "    cost_interest_rate          (costs) float64 8B 0.1\n",
       "    bigM                        float64 8B 1e+06\n",
       "    objective_cost_weights      (costs) float64 8B 1.0\n",
       "    base_tech                   (techs) object 72B &#x27;transmission&#x27; ... &#x27;supply&#x27;\n",
       "    carrier_in                  (nodes, techs, carriers) bool 72B False ... F...\n",
       "    color                       (techs) object 72B &#x27;#823739&#x27; ... &#x27;#C5ABE3&#x27;\n",
       "    ...                          ...\n",
       "    longitude                   (nodes) float64 32B 4.359 4.358 4.361 4.362\n",
       "    sink_use_equals             (timesteps, techs, nodes) float64 288B nan .....\n",
       "    definition_matrix           (nodes, techs, carriers) bool 72B False ... F...\n",
       "    distance                    (techs) float64 72B 0.1734 0.2448 ... nan nan\n",
       "    timestep_resolution         (timesteps) float64 8B 1.0\n",
       "    timestep_weights            (timesteps) float64 8B 1.0</pre><div class='xr-wrap' style='display:none'><div class='xr-header'><div class='xr-obj-type'>xarray.Dataset</div></div><ul class='xr-sections'><li class='xr-section-item'><input id='section-b06d90c1-2209-467a-a1a4-39c08cb60c59' class='xr-section-summary-in' type='checkbox' disabled ><label for='section-b06d90c1-2209-467a-a1a4-39c08cb60c59' class='xr-section-summary'  title='Expand/collapse section'>Dimensions:</label><div class='xr-section-inline-details'><ul class='xr-dim-list'><li><span class='xr-has-index'>costs</span>: 1</li><li><span class='xr-has-index'>techs</span>: 9</li><li><span class='xr-has-index'>nodes</span>: 4</li><li><span class='xr-has-index'>carriers</span>: 2</li><li><span class='xr-has-index'>timesteps</span>: 1</li></ul></div><div class='xr-section-details'></div></li><li class='xr-section-item'><input id='section-cc826cf1-6585-4e17-bdd3-4e446c285b80' class='xr-section-summary-in' type='checkbox'  checked><label for='section-cc826cf1-6585-4e17-bdd3-4e446c285b80' class='xr-section-summary' >Coordinates: <span>(5)</span></label><div class='xr-section-inline-details'></div><div class='xr-section-details'><ul class='xr-var-list'><li class='xr-var-item'><div class='xr-var-name'><span class='xr-has-index'>costs</span></div><div class='xr-var-dims'>(costs)</div><div class='xr-var-dtype'>object</div><div class='xr-var-preview xr-preview'>&#x27;monetary&#x27;</div><input id='attrs-a14e5bca-960f-426d-aaad-005fba97a6c4' class='xr-var-attrs-in' type='checkbox' disabled><label for='attrs-a14e5bca-960f-426d-aaad-005fba97a6c4' title='Show/Hide attributes'><svg class='icon xr-icon-file-text2'><use xlink:href='#icon-file-text2'></use></svg></label><input id='data-ffc3d9cb-a511-41d7-8925-6ac8e1303d41' class='xr-var-data-in' type='checkbox'><label for='data-ffc3d9cb-a511-41d7-8925-6ac8e1303d41' title='Show/Hide data repr'><svg class='icon xr-icon-database'><use xlink:href='#icon-database'></use></svg></label><div class='xr-var-attrs'><dl class='xr-attrs'></dl></div><div class='xr-var-data'><pre>array([&#x27;monetary&#x27;], dtype=object)</pre></div></li><li class='xr-var-item'><div class='xr-var-name'><span class='xr-has-index'>techs</span></div><div class='xr-var-dims'>(techs)</div><div class='xr-var-dtype'>object</div><div class='xr-var-preview xr-preview'>&#x27;N1_to_X2&#x27; ... &#x27;supply_grid_power&#x27;</div><input id='attrs-876b4206-d21c-4b70-b681-04532d50cd91' class='xr-var-attrs-in' type='checkbox' disabled><label for='attrs-876b4206-d21c-4b70-b681-04532d50cd91' title='Show/Hide attributes'><svg class='icon xr-icon-file-text2'><use xlink:href='#icon-file-text2'></use></svg></label><input id='data-411d3b9f-0b6d-4ec2-b708-8d2036e526f1' class='xr-var-data-in' type='checkbox'><label for='data-411d3b9f-0b6d-4ec2-b708-8d2036e526f1' title='Show/Hide data repr'><svg class='icon xr-icon-database'><use xlink:href='#icon-database'></use></svg></label><div class='xr-var-attrs'><dl class='xr-attrs'></dl></div><div class='xr-var-data'><pre>array([&#x27;N1_to_X2&#x27;, &#x27;N1_to_X3&#x27;, &#x27;X1_to_N1&#x27;, &#x27;X1_to_X2&#x27;, &#x27;X1_to_X3&#x27;,\n",
       "       &#x27;demand_electricity&#x27;, &#x27;demand_heat&#x27;, &#x27;supply_geothermal&#x27;,\n",
       "       &#x27;supply_grid_power&#x27;], dtype=object)</pre></div></li><li class='xr-var-item'><div class='xr-var-name'><span class='xr-has-index'>carriers</span></div><div class='xr-var-dims'>(carriers)</div><div class='xr-var-dtype'>object</div><div class='xr-var-preview xr-preview'>&#x27;electricity&#x27; &#x27;heat&#x27;</div><input id='attrs-f5e11caf-1c70-44a5-8d7f-a0a08364eff7' class='xr-var-attrs-in' type='checkbox' disabled><label for='attrs-f5e11caf-1c70-44a5-8d7f-a0a08364eff7' title='Show/Hide attributes'><svg class='icon xr-icon-file-text2'><use xlink:href='#icon-file-text2'></use></svg></label><input id='data-5af86d62-0ef0-4360-a08b-0a6e5b6b569f' class='xr-var-data-in' type='checkbox'><label for='data-5af86d62-0ef0-4360-a08b-0a6e5b6b569f' title='Show/Hide data repr'><svg class='icon xr-icon-database'><use xlink:href='#icon-database'></use></svg></label><div class='xr-var-attrs'><dl class='xr-attrs'></dl></div><div class='xr-var-data'><pre>array([&#x27;electricity&#x27;, &#x27;heat&#x27;], dtype=object)</pre></div></li><li class='xr-var-item'><div class='xr-var-name'><span class='xr-has-index'>nodes</span></div><div class='xr-var-dims'>(nodes)</div><div class='xr-var-dtype'>object</div><div class='xr-var-preview xr-preview'>&#x27;N1&#x27; &#x27;X1&#x27; &#x27;X2&#x27; &#x27;X3&#x27;</div><input id='attrs-ecffd899-41d9-4f4d-aff0-61d284749c53' class='xr-var-attrs-in' type='checkbox' disabled><label for='attrs-ecffd899-41d9-4f4d-aff0-61d284749c53' title='Show/Hide attributes'><svg class='icon xr-icon-file-text2'><use xlink:href='#icon-file-text2'></use></svg></label><input id='data-9e135396-840e-4c03-8ce1-145d2c3d3493' class='xr-var-data-in' type='checkbox'><label for='data-9e135396-840e-4c03-8ce1-145d2c3d3493' title='Show/Hide data repr'><svg class='icon xr-icon-database'><use xlink:href='#icon-database'></use></svg></label><div class='xr-var-attrs'><dl class='xr-attrs'></dl></div><div class='xr-var-data'><pre>array([&#x27;N1&#x27;, &#x27;X1&#x27;, &#x27;X2&#x27;, &#x27;X3&#x27;], dtype=object)</pre></div></li><li class='xr-var-item'><div class='xr-var-name'><span class='xr-has-index'>timesteps</span></div><div class='xr-var-dims'>(timesteps)</div><div class='xr-var-dtype'>datetime64[ns]</div><div class='xr-var-preview xr-preview'>2050-01-01</div><input id='attrs-856ffcc1-f8aa-4644-b61f-5187a13f0548' class='xr-var-attrs-in' type='checkbox' disabled><label for='attrs-856ffcc1-f8aa-4644-b61f-5187a13f0548' title='Show/Hide attributes'><svg class='icon xr-icon-file-text2'><use xlink:href='#icon-file-text2'></use></svg></label><input id='data-74777293-686c-4733-ae57-4d854d7e492e' class='xr-var-data-in' type='checkbox'><label for='data-74777293-686c-4733-ae57-4d854d7e492e' title='Show/Hide data repr'><svg class='icon xr-icon-database'><use xlink:href='#icon-database'></use></svg></label><div class='xr-var-attrs'><dl class='xr-attrs'></dl></div><div class='xr-var-data'><pre>array([&#x27;2050-01-01T00:00:00.000000000&#x27;], dtype=&#x27;datetime64[ns]&#x27;)</pre></div></li></ul></div></li><li class='xr-section-item'><input id='section-fc7c9573-641f-4e6a-ac2f-adc705f6be1c' class='xr-section-summary-in' type='checkbox'  ><label for='section-fc7c9573-641f-4e6a-ac2f-adc705f6be1c' class='xr-section-summary' >Data variables: <span>(23)</span></label><div class='xr-section-inline-details'></div><div class='xr-section-details'><ul class='xr-var-list'><li class='xr-var-item'><div class='xr-var-name'><span>cost_interest_rate</span></div><div class='xr-var-dims'>(costs)</div><div class='xr-var-dtype'>float64</div><div class='xr-var-preview xr-preview'>0.1</div><input id='attrs-d705020a-d290-485f-ba3f-c579df97f89e' class='xr-var-attrs-in' type='checkbox' ><label for='attrs-d705020a-d290-485f-ba3f-c579df97f89e' title='Show/Hide attributes'><svg class='icon xr-icon-file-text2'><use xlink:href='#icon-file-text2'></use></svg></label><input id='data-26142137-8ea1-4a7b-ab50-86519218d175' class='xr-var-data-in' type='checkbox'><label for='data-26142137-8ea1-4a7b-ab50-86519218d175' title='Show/Hide data repr'><svg class='icon xr-icon-database'><use xlink:href='#icon-database'></use></svg></label><div class='xr-var-attrs'><dl class='xr-attrs'><dt><span>title :</span></dt><dd>Interest rate.</dd><dt><span>description :</span></dt><dd>Used when computing levelized costs and technology depreciation_rate (relative to lifetime).</dd><dt><span>default :</span></dt><dd>0</dd><dt><span>resample_method :</span></dt><dd>first</dd><dt><span>unit :</span></dt><dd>unitless</dd></dl></div><div class='xr-var-data'><pre>array([0.1])</pre></div></li><li class='xr-var-item'><div class='xr-var-name'><span>bigM</span></div><div class='xr-var-dims'>()</div><div class='xr-var-dtype'>float64</div><div class='xr-var-preview xr-preview'>1e+06</div><input id='attrs-0d4470fc-04da-4176-8252-328b2d6674c2' class='xr-var-attrs-in' type='checkbox' ><label for='attrs-0d4470fc-04da-4176-8252-328b2d6674c2' title='Show/Hide attributes'><svg class='icon xr-icon-file-text2'><use xlink:href='#icon-file-text2'></use></svg></label><input id='data-8fb29b0f-024d-4152-a894-0aa9d3b0dc90' class='xr-var-data-in' type='checkbox'><label for='data-8fb29b0f-024d-4152-a894-0aa9d3b0dc90' title='Show/Hide data repr'><svg class='icon xr-icon-database'><use xlink:href='#icon-database'></use></svg></label><div class='xr-var-attrs'><dl class='xr-attrs'><dt><span>title :</span></dt><dd>Big M</dd><dt><span>description :</span></dt><dd>BigM is a large value used to define certain optimisation problems. See https://en.wikipedia.org/wiki/Big_M_method for more information. This value should be larger than the largest values that any decision variables can take, but should not be **too** large (i.e., do not set it greater than 3 orders of magnitude above the numeric range of the model). If too large, numerical problems may arise in the optimisation.</dd><dt><span>default :</span></dt><dd>1000000.0</dd><dt><span>resample_method :</span></dt><dd>first</dd><dt><span>unit :</span></dt><dd>unitless</dd></dl></div><div class='xr-var-data'><pre>array(1000000.)</pre></div></li><li class='xr-var-item'><div class='xr-var-name'><span>objective_cost_weights</span></div><div class='xr-var-dims'>(costs)</div><div class='xr-var-dtype'>float64</div><div class='xr-var-preview xr-preview'>1.0</div><input id='attrs-6c7d613f-2e1e-45c1-a8de-9a10dc0d9317' class='xr-var-attrs-in' type='checkbox' ><label for='attrs-6c7d613f-2e1e-45c1-a8de-9a10dc0d9317' title='Show/Hide attributes'><svg class='icon xr-icon-file-text2'><use xlink:href='#icon-file-text2'></use></svg></label><input id='data-616d7a62-f9f8-4131-ba4d-8de187fc548b' class='xr-var-data-in' type='checkbox'><label for='data-616d7a62-f9f8-4131-ba4d-8de187fc548b' title='Show/Hide data repr'><svg class='icon xr-icon-database'><use xlink:href='#icon-database'></use></svg></label><div class='xr-var-attrs'><dl class='xr-attrs'><dt><span>title :</span></dt><dd>Objective cost class weights.</dd><dt><span>description :</span></dt><dd>Weightings for cost classes to apply in the objective function.</dd><dt><span>default :</span></dt><dd>1</dd><dt><span>resample_method :</span></dt><dd>first</dd><dt><span>unit :</span></dt><dd>unitless</dd></dl></div><div class='xr-var-data'><pre>array([1.])</pre></div></li><li class='xr-var-item'><div class='xr-var-name'><span>base_tech</span></div><div class='xr-var-dims'>(techs)</div><div class='xr-var-dtype'>object</div><div class='xr-var-preview xr-preview'>&#x27;transmission&#x27; ... &#x27;supply&#x27;</div><input id='attrs-2f878c46-cd16-47b4-b960-174c51ede281' class='xr-var-attrs-in' type='checkbox' ><label for='attrs-2f878c46-cd16-47b4-b960-174c51ede281' title='Show/Hide attributes'><svg class='icon xr-icon-file-text2'><use xlink:href='#icon-file-text2'></use></svg></label><input id='data-3325396f-cea3-45a4-a0b2-0db6ce35efba' class='xr-var-data-in' type='checkbox'><label for='data-3325396f-cea3-45a4-a0b2-0db6ce35efba' title='Show/Hide data repr'><svg class='icon xr-icon-database'><use xlink:href='#icon-database'></use></svg></label><div class='xr-var-attrs'><dl class='xr-attrs'><dt><span>title :</span></dt><dd>Abstract base technology name.</dd><dt><span>description :</span></dt><dd>Should be the name of one of the abstract base classes, from which some initial parameter defaults will be derived and with which certain base math will be triggered.</dd><dt><span>default :</span></dt><dd>nan</dd><dt><span>dtype :</span></dt><dd>string</dd><dt><span>resample_method :</span></dt><dd>first</dd><dt><span>one_of :</span></dt><dd>[&#x27;demand&#x27;, &#x27;supply&#x27;, &#x27;conversion&#x27;, &#x27;storage&#x27;, &#x27;transmission&#x27;]</dd><dt><span>pivot_values_to_dim :</span></dt><dd>None</dd></dl></div><div class='xr-var-data'><pre>array([&#x27;transmission&#x27;, &#x27;transmission&#x27;, &#x27;transmission&#x27;, &#x27;transmission&#x27;,\n",
       "       &#x27;transmission&#x27;, &#x27;demand&#x27;, &#x27;demand&#x27;, &#x27;supply&#x27;, &#x27;supply&#x27;],\n",
       "      dtype=object)</pre></div></li><li class='xr-var-item'><div class='xr-var-name'><span>carrier_in</span></div><div class='xr-var-dims'>(nodes, techs, carriers)</div><div class='xr-var-dtype'>bool</div><div class='xr-var-preview xr-preview'>False True False ... False False</div><input id='attrs-dc3f7c69-8683-49bb-bb6a-b78d8e3bd74a' class='xr-var-attrs-in' type='checkbox' ><label for='attrs-dc3f7c69-8683-49bb-bb6a-b78d8e3bd74a' title='Show/Hide attributes'><svg class='icon xr-icon-file-text2'><use xlink:href='#icon-file-text2'></use></svg></label><input id='data-1c63d51e-071a-4a9f-8b5c-4dcfb2fbe699' class='xr-var-data-in' type='checkbox'><label for='data-1c63d51e-071a-4a9f-8b5c-4dcfb2fbe699' title='Show/Hide data repr'><svg class='icon xr-icon-database'><use xlink:href='#icon-database'></use></svg></label><div class='xr-var-attrs'><dl class='xr-attrs'><dt><span>title :</span></dt><dd></dd><dt><span>description :</span></dt><dd>Carrier(s) consumed by this technology. Only `transmission`, `conversion`, `storage`, and `demand` technologies can define this parameter</dd><dt><span>default :</span></dt><dd>False</dd><dt><span>dtype :</span></dt><dd>bool</dd><dt><span>resample_method :</span></dt><dd>first</dd><dt><span>one_of :</span></dt><dd>None</dd><dt><span>pivot_values_to_dim :</span></dt><dd>carriers</dd></dl></div><div class='xr-var-data'><pre>array([[[False,  True],\n",
       "        [False,  True],\n",
       "        [False,  True],\n",
       "        [False, False],\n",
       "        [False, False],\n",
       "        [False, False],\n",
       "        [False, False],\n",
       "        [False, False],\n",
       "        [False, False]],\n",
       "\n",
       "       [[False, False],\n",
       "        [False, False],\n",
       "        [False,  True],\n",
       "        [ True, False],\n",
       "        [ True, False],\n",
       "        [ True, False],\n",
       "        [False,  True],\n",
       "        [False, False],\n",
       "        [False, False]],\n",
       "\n",
       "       [[False,  True],\n",
       "        [False, False],\n",
       "        [False, False],\n",
       "        [ True, False],\n",
       "        [False, False],\n",
       "        [ True, False],\n",
       "        [False,  True],\n",
       "        [False, False],\n",
       "        [False, False]],\n",
       "\n",
       "       [[False, False],\n",
       "        [False,  True],\n",
       "        [False, False],\n",
       "        [False, False],\n",
       "        [ True, False],\n",
       "        [ True, False],\n",
       "        [False,  True],\n",
       "        [False, False],\n",
       "        [False, False]]])</pre></div></li><li class='xr-var-item'><div class='xr-var-name'><span>color</span></div><div class='xr-var-dims'>(techs)</div><div class='xr-var-dtype'>object</div><div class='xr-var-preview xr-preview'>&#x27;#823739&#x27; &#x27;#823739&#x27; ... &#x27;#C5ABE3&#x27;</div><input id='attrs-f5a5b4c3-7756-4f37-a804-1c108e7f1e85' class='xr-var-attrs-in' type='checkbox' disabled><label for='attrs-f5a5b4c3-7756-4f37-a804-1c108e7f1e85' title='Show/Hide attributes'><svg class='icon xr-icon-file-text2'><use xlink:href='#icon-file-text2'></use></svg></label><input id='data-3f79c286-8b73-4c74-96ac-7cd7f8ffc818' class='xr-var-data-in' type='checkbox'><label for='data-3f79c286-8b73-4c74-96ac-7cd7f8ffc818' title='Show/Hide data repr'><svg class='icon xr-icon-database'><use xlink:href='#icon-database'></use></svg></label><div class='xr-var-attrs'><dl class='xr-attrs'></dl></div><div class='xr-var-data'><pre>array([&#x27;#823739&#x27;, &#x27;#823739&#x27;, &#x27;#823739&#x27;, &#x27;#6783E3&#x27;, &#x27;#6783E3&#x27;, &#x27;#072486&#x27;,\n",
       "       &#x27;#660507&#x27;, &#x27;#C98AAD&#x27;, &#x27;#C5ABE3&#x27;], dtype=object)</pre></div></li><li class='xr-var-item'><div class='xr-var-name'><span>name</span></div><div class='xr-var-dims'>(techs)</div><div class='xr-var-dtype'>object</div><div class='xr-var-preview xr-preview'>&#x27;District heat distribution&#x27; ......</div><input id='attrs-02eadb29-4d3c-497e-99c9-755bd2d1cac3' class='xr-var-attrs-in' type='checkbox' disabled><label for='attrs-02eadb29-4d3c-497e-99c9-755bd2d1cac3' title='Show/Hide attributes'><svg class='icon xr-icon-file-text2'><use xlink:href='#icon-file-text2'></use></svg></label><input id='data-c9335049-f9df-47ad-963f-f197c5bcd38e' class='xr-var-data-in' type='checkbox'><label for='data-c9335049-f9df-47ad-963f-f197c5bcd38e' title='Show/Hide data repr'><svg class='icon xr-icon-database'><use xlink:href='#icon-database'></use></svg></label><div class='xr-var-attrs'><dl class='xr-attrs'></dl></div><div class='xr-var-data'><pre>array([&#x27;District heat distribution&#x27;, &#x27;District heat distribution&#x27;,\n",
       "       &#x27;District heat distribution&#x27;, &#x27;Electrical power distribution&#x27;,\n",
       "       &#x27;Electrical power distribution&#x27;, &#x27;Electrical demand&#x27;,\n",
       "       &#x27;Heat demand&#x27;, &#x27;Geothermal heat extraction&#x27;,\n",
       "       &#x27;National grid import&#x27;], dtype=object)</pre></div></li><li class='xr-var-item'><div class='xr-var-name'><span>carrier_out</span></div><div class='xr-var-dims'>(nodes, techs, carriers)</div><div class='xr-var-dtype'>bool</div><div class='xr-var-preview xr-preview'>False True False ... False False</div><input id='attrs-5287d001-14e5-48d0-a2c0-6e75e0e72f12' class='xr-var-attrs-in' type='checkbox' ><label for='attrs-5287d001-14e5-48d0-a2c0-6e75e0e72f12' title='Show/Hide attributes'><svg class='icon xr-icon-file-text2'><use xlink:href='#icon-file-text2'></use></svg></label><input id='data-95a18c48-8fba-4e3e-ba59-f1d99fc7215c' class='xr-var-data-in' type='checkbox'><label for='data-95a18c48-8fba-4e3e-ba59-f1d99fc7215c' title='Show/Hide data repr'><svg class='icon xr-icon-database'><use xlink:href='#icon-database'></use></svg></label><div class='xr-var-attrs'><dl class='xr-attrs'><dt><span>title :</span></dt><dd></dd><dt><span>description :</span></dt><dd>Carrier(s) produced by this technology. Only `transmission`, `conversion`, `storage`, and `supply` technologies can define this parameter</dd><dt><span>default :</span></dt><dd>False</dd><dt><span>dtype :</span></dt><dd>bool</dd><dt><span>resample_method :</span></dt><dd>first</dd><dt><span>one_of :</span></dt><dd>None</dd><dt><span>pivot_values_to_dim :</span></dt><dd>carriers</dd></dl></div><div class='xr-var-data'><pre>array([[[False,  True],\n",
       "        [False,  True],\n",
       "        [False,  True],\n",
       "        [False, False],\n",
       "        [False, False],\n",
       "        [False, False],\n",
       "        [False, False],\n",
       "        [False, False],\n",
       "        [False, False]],\n",
       "\n",
       "       [[False, False],\n",
       "        [False, False],\n",
       "        [False,  True],\n",
       "        [ True, False],\n",
       "        [ True, False],\n",
       "        [False, False],\n",
       "        [False, False],\n",
       "        [False,  True],\n",
       "        [ True, False]],\n",
       "\n",
       "       [[False,  True],\n",
       "        [False, False],\n",
       "        [False, False],\n",
       "        [ True, False],\n",
       "        [False, False],\n",
       "        [False, False],\n",
       "        [False, False],\n",
       "        [False,  True],\n",
       "        [False, False]],\n",
       "\n",
       "       [[False, False],\n",
       "        [False,  True],\n",
       "        [False, False],\n",
       "        [False, False],\n",
       "        [ True, False],\n",
       "        [False, False],\n",
       "        [False, False],\n",
       "        [False,  True],\n",
       "        [False, False]]])</pre></div></li><li class='xr-var-item'><div class='xr-var-name'><span>cost_flow_cap</span></div><div class='xr-var-dims'>(nodes, techs, costs)</div><div class='xr-var-dtype'>float64</div><div class='xr-var-preview xr-preview'>nan nan nan nan ... nan nan 1.0 nan</div><input id='attrs-ad750c24-2994-40e5-a91c-bdd74175d09b' class='xr-var-attrs-in' type='checkbox' ><label for='attrs-ad750c24-2994-40e5-a91c-bdd74175d09b' title='Show/Hide attributes'><svg class='icon xr-icon-file-text2'><use xlink:href='#icon-file-text2'></use></svg></label><input id='data-aaae457f-976d-442f-b27b-5fdd420bd9b3' class='xr-var-data-in' type='checkbox'><label for='data-aaae457f-976d-442f-b27b-5fdd420bd9b3' title='Show/Hide data repr'><svg class='icon xr-icon-database'><use xlink:href='#icon-database'></use></svg></label><div class='xr-var-attrs'><dl class='xr-attrs'><dt><span>title :</span></dt><dd>Cost of flow capacity.</dd><dt><span>description :</span></dt><dd>Cost per unit of the decision variable `flow_cap`.</dd><dt><span>default :</span></dt><dd>0</dd><dt><span>resample_method :</span></dt><dd>first</dd><dt><span>unit :</span></dt><dd>$\\frac{\\{cost}}{\\text{power}}$</dd></dl></div><div class='xr-var-data'><pre>array([[[ nan],\n",
       "        [ nan],\n",
       "        [ nan],\n",
       "        [ nan],\n",
       "        [ nan],\n",
       "        [ nan],\n",
       "        [ nan],\n",
       "        [ nan],\n",
       "        [ nan]],\n",
       "\n",
       "       [[ nan],\n",
       "        [ nan],\n",
       "        [ nan],\n",
       "        [ nan],\n",
       "        [ nan],\n",
       "        [ nan],\n",
       "        [ nan],\n",
       "        [  1.],\n",
       "        [100.]],\n",
       "\n",
       "       [[ nan],\n",
       "        [ nan],\n",
       "        [ nan],\n",
       "        [ nan],\n",
       "        [ nan],\n",
       "        [ nan],\n",
       "        [ nan],\n",
       "        [  1.],\n",
       "        [ nan]],\n",
       "\n",
       "       [[ nan],\n",
       "        [ nan],\n",
       "        [ nan],\n",
       "        [ nan],\n",
       "        [ nan],\n",
       "        [ nan],\n",
       "        [ nan],\n",
       "        [  1.],\n",
       "        [ nan]]])</pre></div></li><li class='xr-var-item'><div class='xr-var-name'><span>cost_flow_in</span></div><div class='xr-var-dims'>(techs, costs)</div><div class='xr-var-dtype'>float64</div><div class='xr-var-preview xr-preview'>nan nan nan nan nan nan nan nan 0.1</div><input id='attrs-cd1ae125-e933-4a6a-934a-409e7cd2bd16' class='xr-var-attrs-in' type='checkbox' ><label for='attrs-cd1ae125-e933-4a6a-934a-409e7cd2bd16' title='Show/Hide attributes'><svg class='icon xr-icon-file-text2'><use xlink:href='#icon-file-text2'></use></svg></label><input id='data-f02a6d6a-da80-409c-a8b4-bf80f2997c0a' class='xr-var-data-in' type='checkbox'><label for='data-f02a6d6a-da80-409c-a8b4-bf80f2997c0a' title='Show/Hide data repr'><svg class='icon xr-icon-database'><use xlink:href='#icon-database'></use></svg></label><div class='xr-var-attrs'><dl class='xr-attrs'><dt><span>title :</span></dt><dd>Carrier inflow cost.</dd><dt><span>description :</span></dt><dd>Cost per unit of `flow_in` in each timestep. Also used as the cost per unit of `source_use` in `supply` technologies.</dd><dt><span>default :</span></dt><dd>0</dd><dt><span>resample_method :</span></dt><dd>mean</dd><dt><span>unit :</span></dt><dd>$\\frac{\\{cost}}{\\text{energy}}$</dd></dl></div><div class='xr-var-data'><pre>array([[nan],\n",
       "       [nan],\n",
       "       [nan],\n",
       "       [nan],\n",
       "       [nan],\n",
       "       [nan],\n",
       "       [nan],\n",
       "       [nan],\n",
       "       [0.1]])</pre></div></li><li class='xr-var-item'><div class='xr-var-name'><span>flow_cap_max</span></div><div class='xr-var-dims'>(techs)</div><div class='xr-var-dtype'>float64</div><div class='xr-var-preview xr-preview'>2e+03 2e+03 2e+03 ... 2e+03 2e+03</div><input id='attrs-7de9406a-6add-45c9-b2b1-f38717f68db4' class='xr-var-attrs-in' type='checkbox' ><label for='attrs-7de9406a-6add-45c9-b2b1-f38717f68db4' title='Show/Hide attributes'><svg class='icon xr-icon-file-text2'><use xlink:href='#icon-file-text2'></use></svg></label><input id='data-5c1ef370-c648-4a09-8496-e5c8b61a6f17' class='xr-var-data-in' type='checkbox'><label for='data-5c1ef370-c648-4a09-8496-e5c8b61a6f17' title='Show/Hide data repr'><svg class='icon xr-icon-database'><use xlink:href='#icon-database'></use></svg></label><div class='xr-var-attrs'><dl class='xr-attrs'><dt><span>title :</span></dt><dd>Maximum rated flow capacity.</dd><dt><span>description :</span></dt><dd>Limits `flow_cap` to a maximum.</dd><dt><span>default :</span></dt><dd>inf</dd><dt><span>resample_method :</span></dt><dd>first</dd><dt><span>unit :</span></dt><dd>power.</dd></dl></div><div class='xr-var-data'><pre>array([2000., 2000., 2000., 2000., 2000.,   nan,   nan, 2000., 2000.])</pre></div></li><li class='xr-var-item'><div class='xr-var-name'><span>lifetime</span></div><div class='xr-var-dims'>(techs)</div><div class='xr-var-dtype'>float64</div><div class='xr-var-preview xr-preview'>25.0 25.0 25.0 ... nan 25.0 25.0</div><input id='attrs-40258f82-442c-4025-b8ab-022c8876a9f7' class='xr-var-attrs-in' type='checkbox' ><label for='attrs-40258f82-442c-4025-b8ab-022c8876a9f7' title='Show/Hide attributes'><svg class='icon xr-icon-file-text2'><use xlink:href='#icon-file-text2'></use></svg></label><input id='data-ff35f1d8-c091-4cd9-b4d8-8736546b5925' class='xr-var-data-in' type='checkbox'><label for='data-ff35f1d8-c091-4cd9-b4d8-8736546b5925' title='Show/Hide data repr'><svg class='icon xr-icon-database'><use xlink:href='#icon-database'></use></svg></label><div class='xr-var-attrs'><dl class='xr-attrs'><dt><span>title :</span></dt><dd>Technology lifetime</dd><dt><span>description :</span></dt><dd>Must be defined if fixed capital costs are defined. A reasonable value for many technologies is around 20-25 years.</dd><dt><span>default :</span></dt><dd>inf</dd><dt><span>resample_method :</span></dt><dd>mean</dd><dt><span>unit :</span></dt><dd>years.</dd></dl></div><div class='xr-var-data'><pre>array([25., 25., 25., 25., 25., nan, nan, 25., 25.])</pre></div></li><li class='xr-var-item'><div class='xr-var-name'><span>source_use_max</span></div><div class='xr-var-dims'>(techs)</div><div class='xr-var-dtype'>float64</div><div class='xr-var-preview xr-preview'>nan nan nan nan nan nan nan inf inf</div><input id='attrs-d46317e0-70de-4a29-8de1-7f9a6747a217' class='xr-var-attrs-in' type='checkbox' ><label for='attrs-d46317e0-70de-4a29-8de1-7f9a6747a217' title='Show/Hide attributes'><svg class='icon xr-icon-file-text2'><use xlink:href='#icon-file-text2'></use></svg></label><input id='data-a55fb32a-8180-41f7-b4d6-161eb43e56f9' class='xr-var-data-in' type='checkbox'><label for='data-a55fb32a-8180-41f7-b4d6-161eb43e56f9' title='Show/Hide data repr'><svg class='icon xr-icon-database'><use xlink:href='#icon-database'></use></svg></label><div class='xr-var-attrs'><dl class='xr-attrs'><dt><span>title :</span></dt><dd>Maximum bound on sink.</dd><dt><span>description :</span></dt><dd>Maximum sink use to remove a carrier from the system (e.g., biofuel, coal, rainfall, wind flow). Unit dictated by `source_unit`.</dd><dt><span>default :</span></dt><dd>inf</dd><dt><span>resample_method :</span></dt><dd>sum</dd><dt><span>unit :</span></dt><dd>energy | $\\frac{\\text{energy}}{\\text{power}}$ | $\\frac{\\text{energy}}{\\text{area}}$</dd></dl></div><div class='xr-var-data'><pre>array([nan, nan, nan, nan, nan, nan, nan, inf, inf])</pre></div></li><li class='xr-var-item'><div class='xr-var-name'><span>cost_flow_cap_per_distance</span></div><div class='xr-var-dims'>(techs, costs)</div><div class='xr-var-dtype'>float64</div><div class='xr-var-preview xr-preview'>0.3 0.3 0.3 0.01 ... nan nan nan</div><input id='attrs-754dd2db-ac15-431f-9811-e076269cd023' class='xr-var-attrs-in' type='checkbox' ><label for='attrs-754dd2db-ac15-431f-9811-e076269cd023' title='Show/Hide attributes'><svg class='icon xr-icon-file-text2'><use xlink:href='#icon-file-text2'></use></svg></label><input id='data-ffc92f45-1c03-42cb-8630-ffbfb9b00c20' class='xr-var-data-in' type='checkbox'><label for='data-ffc92f45-1c03-42cb-8630-ffbfb9b00c20' title='Show/Hide data repr'><svg class='icon xr-icon-database'><use xlink:href='#icon-database'></use></svg></label><div class='xr-var-attrs'><dl class='xr-attrs'><dt><span>title :</span></dt><dd>Cost of flow capacity, per unit distance</dd><dt><span>description :</span></dt><dd>Cost per unit of the decision variable `flow_cap` and per unit distance of a transmission link. Applied to transmission links only.</dd><dt><span>default :</span></dt><dd>0</dd><dt><span>resample_method :</span></dt><dd>first</dd><dt><span>unit :</span></dt><dd>$\\frac{\\{cost}}{\\text{power}\\times\\text{distance}}$</dd></dl></div><div class='xr-var-data'><pre>array([[0.3 ],\n",
       "       [0.3 ],\n",
       "       [0.3 ],\n",
       "       [0.01],\n",
       "       [0.01],\n",
       "       [ nan],\n",
       "       [ nan],\n",
       "       [ nan],\n",
       "       [ nan]])</pre></div></li><li class='xr-var-item'><div class='xr-var-name'><span>flow_out_eff</span></div><div class='xr-var-dims'>(techs)</div><div class='xr-var-dtype'>float64</div><div class='xr-var-preview xr-preview'>nan nan nan 0.98 ... nan nan nan</div><input id='attrs-008a6fcb-8116-4e50-863a-18ed5d290b3d' class='xr-var-attrs-in' type='checkbox' ><label for='attrs-008a6fcb-8116-4e50-863a-18ed5d290b3d' title='Show/Hide attributes'><svg class='icon xr-icon-file-text2'><use xlink:href='#icon-file-text2'></use></svg></label><input id='data-88fd7ce8-bd28-4252-ba63-565fe25a8a9b' class='xr-var-data-in' type='checkbox'><label for='data-88fd7ce8-bd28-4252-ba63-565fe25a8a9b' title='Show/Hide data repr'><svg class='icon xr-icon-database'><use xlink:href='#icon-database'></use></svg></label><div class='xr-var-attrs'><dl class='xr-attrs'><dt><span>title :</span></dt><dd>Outflow efficiency</dd><dt><span>description :</span></dt><dd>Conversion efficiency from the technology to `sink`/`flow_out` (tech dependent). Set as value between 1 (no loss) and 0 (all lost).</dd><dt><span>default :</span></dt><dd>1.0</dd><dt><span>resample_method :</span></dt><dd>mean</dd><dt><span>unit :</span></dt><dd>unitless.</dd></dl></div><div class='xr-var-data'><pre>array([ nan,  nan,  nan, 0.98, 0.98,  nan,  nan,  nan,  nan])</pre></div></li><li class='xr-var-item'><div class='xr-var-name'><span>flow_out_eff_per_distance</span></div><div class='xr-var-dims'>(techs)</div><div class='xr-var-dtype'>float64</div><div class='xr-var-preview xr-preview'>0.975 0.975 0.975 ... nan nan nan</div><input id='attrs-e6b53671-f724-4715-8f85-8a8504799d66' class='xr-var-attrs-in' type='checkbox' ><label for='attrs-e6b53671-f724-4715-8f85-8a8504799d66' title='Show/Hide attributes'><svg class='icon xr-icon-file-text2'><use xlink:href='#icon-file-text2'></use></svg></label><input id='data-28116642-8c05-4168-b2c8-ca35a3cd61e8' class='xr-var-data-in' type='checkbox'><label for='data-28116642-8c05-4168-b2c8-ca35a3cd61e8' title='Show/Hide data repr'><svg class='icon xr-icon-database'><use xlink:href='#icon-database'></use></svg></label><div class='xr-var-attrs'><dl class='xr-attrs'><dt><span>title :</span></dt><dd>Outflow (i.e., import from node) efficiency per distance of transmission links.</dd><dt><span>description :</span></dt><dd>Total link efficiency will be calculated as $\\text{flow\\_out\\_eff}\\times{}\\text{flow\\_out\\_eff\\_per\\_distance}^\\text{distance}$. Set as value between 1 (no loss) and 0 (all lost).</dd><dt><span>default :</span></dt><dd>1.0</dd><dt><span>resample_method :</span></dt><dd>mean</dd><dt><span>unit :</span></dt><dd>$\\frac{\\text{1}}{\\text{distance}}$</dd></dl></div><div class='xr-var-data'><pre>array([0.975, 0.975, 0.975,   nan,   nan,   nan,   nan,   nan,   nan])</pre></div></li><li class='xr-var-item'><div class='xr-var-name'><span>latitude</span></div><div class='xr-var-dims'>(nodes)</div><div class='xr-var-dtype'>float64</div><div class='xr-var-preview xr-preview'>51.99 52.0 51.99 51.99</div><input id='attrs-af38f90d-26bc-4e80-959c-e9cc3371af4f' class='xr-var-attrs-in' type='checkbox' ><label for='attrs-af38f90d-26bc-4e80-959c-e9cc3371af4f' title='Show/Hide attributes'><svg class='icon xr-icon-file-text2'><use xlink:href='#icon-file-text2'></use></svg></label><input id='data-bbd3c1df-69c1-4587-98ef-898c0ee87615' class='xr-var-data-in' type='checkbox'><label for='data-bbd3c1df-69c1-4587-98ef-898c0ee87615' title='Show/Hide data repr'><svg class='icon xr-icon-database'><use xlink:href='#icon-database'></use></svg></label><div class='xr-var-attrs'><dl class='xr-attrs'><dt><span>title :</span></dt><dd>Latitude (WGS84 / EPSG4326).</dd><dt><span>description :</span></dt><dd></dd><dt><span>default :</span></dt><dd>nan</dd><dt><span>dtype :</span></dt><dd>float</dd><dt><span>resample_method :</span></dt><dd>mean</dd><dt><span>one_of :</span></dt><dd>None</dd><dt><span>pivot_values_to_dim :</span></dt><dd>None</dd></dl></div><div class='xr-var-data'><pre>array([51.99324, 51.99673, 51.99415, 51.9922 ])</pre></div></li><li class='xr-var-item'><div class='xr-var-name'><span>longitude</span></div><div class='xr-var-dims'>(nodes)</div><div class='xr-var-dtype'>float64</div><div class='xr-var-preview xr-preview'>4.359 4.358 4.361 4.362</div><input id='attrs-3ad6afe1-9483-4204-bc54-2087ce242e9e' class='xr-var-attrs-in' type='checkbox' ><label for='attrs-3ad6afe1-9483-4204-bc54-2087ce242e9e' title='Show/Hide attributes'><svg class='icon xr-icon-file-text2'><use xlink:href='#icon-file-text2'></use></svg></label><input id='data-6f00c8d1-5e0a-4b7c-a91b-0381ba6d3294' class='xr-var-data-in' type='checkbox'><label for='data-6f00c8d1-5e0a-4b7c-a91b-0381ba6d3294' title='Show/Hide data repr'><svg class='icon xr-icon-database'><use xlink:href='#icon-database'></use></svg></label><div class='xr-var-attrs'><dl class='xr-attrs'><dt><span>title :</span></dt><dd>Longitude (WGS84 / EPSG4326).</dd><dt><span>description :</span></dt><dd></dd><dt><span>default :</span></dt><dd>nan</dd><dt><span>dtype :</span></dt><dd>float</dd><dt><span>resample_method :</span></dt><dd>mean</dd><dt><span>one_of :</span></dt><dd>None</dd><dt><span>pivot_values_to_dim :</span></dt><dd>None</dd></dl></div><div class='xr-var-data'><pre>array([4.35911, 4.3582 , 4.36116, 4.36225])</pre></div></li><li class='xr-var-item'><div class='xr-var-name'><span>sink_use_equals</span></div><div class='xr-var-dims'>(timesteps, techs, nodes)</div><div class='xr-var-dtype'>float64</div><div class='xr-var-preview xr-preview'>nan nan nan nan ... nan nan nan nan</div><input id='attrs-8e3cb452-220d-4338-9a24-0e1997b909b5' class='xr-var-attrs-in' type='checkbox' ><label for='attrs-8e3cb452-220d-4338-9a24-0e1997b909b5' title='Show/Hide attributes'><svg class='icon xr-icon-file-text2'><use xlink:href='#icon-file-text2'></use></svg></label><input id='data-a4eb022a-3120-498b-8688-989a55b1c577' class='xr-var-data-in' type='checkbox'><label for='data-a4eb022a-3120-498b-8688-989a55b1c577' title='Show/Hide data repr'><svg class='icon xr-icon-database'><use xlink:href='#icon-database'></use></svg></label><div class='xr-var-attrs'><dl class='xr-attrs'><dt><span>title :</span></dt><dd>Required sink use.</dd><dt><span>description :</span></dt><dd>Required amount of carrier removal from the system (e.g., electricity demand, transport distance). Unit dictated by `source_unit`.</dd><dt><span>default :</span></dt><dd>nan</dd><dt><span>resample_method :</span></dt><dd>sum</dd><dt><span>unit :</span></dt><dd>energy | $\\frac{\\text{energy}}{\\text{power}}$ | $\\frac{\\text{energy}}{\\text{area}}$</dd></dl></div><div class='xr-var-data'><pre>array([[[         nan,          nan,          nan,          nan],\n",
       "        [         nan,          nan,          nan,          nan],\n",
       "        [         nan,          nan,          nan,          nan],\n",
       "        [         nan,          nan,          nan,          nan],\n",
       "        [         nan,          nan,          nan,          nan],\n",
       "        [         nan,   0.63770352, 101.8098151 ,  20.59216851],\n",
       "        [         nan,   4.34848582, 128.2103003 ,  25.17394083],\n",
       "        [         nan,          nan,          nan,          nan],\n",
       "        [         nan,          nan,          nan,          nan]]])</pre></div></li><li class='xr-var-item'><div class='xr-var-name'><span>definition_matrix</span></div><div class='xr-var-dims'>(nodes, techs, carriers)</div><div class='xr-var-dtype'>bool</div><div class='xr-var-preview xr-preview'>False True False ... False False</div><input id='attrs-6bb682e7-4d29-444d-af04-e3ba3d3f047f' class='xr-var-attrs-in' type='checkbox' ><label for='attrs-6bb682e7-4d29-444d-af04-e3ba3d3f047f' title='Show/Hide attributes'><svg class='icon xr-icon-file-text2'><use xlink:href='#icon-file-text2'></use></svg></label><input id='data-25697a3e-a261-43c3-b5f7-7a2500d6a5f8' class='xr-var-data-in' type='checkbox'><label for='data-25697a3e-a261-43c3-b5f7-7a2500d6a5f8' title='Show/Hide data repr'><svg class='icon xr-icon-database'><use xlink:href='#icon-database'></use></svg></label><div class='xr-var-attrs'><dl class='xr-attrs'><dt><span>title :</span></dt><dd></dd><dt><span>description :</span></dt><dd>Whether a technology is defined with particular carriers and at a particular node.</dd><dt><span>default :</span></dt><dd>False</dd><dt><span>dtype :</span></dt><dd>bool</dd><dt><span>resample_method :</span></dt><dd>first</dd><dt><span>one_of :</span></dt><dd>None</dd><dt><span>pivot_values_to_dim :</span></dt><dd>None</dd></dl></div><div class='xr-var-data'><pre>array([[[False,  True],\n",
       "        [False,  True],\n",
       "        [False,  True],\n",
       "        [False, False],\n",
       "        [False, False],\n",
       "        [False, False],\n",
       "        [False, False],\n",
       "        [False, False],\n",
       "        [False, False]],\n",
       "\n",
       "       [[False, False],\n",
       "        [False, False],\n",
       "        [False,  True],\n",
       "        [ True, False],\n",
       "        [ True, False],\n",
       "        [ True, False],\n",
       "        [False,  True],\n",
       "        [False,  True],\n",
       "        [ True, False]],\n",
       "\n",
       "       [[False,  True],\n",
       "        [False, False],\n",
       "        [False, False],\n",
       "        [ True, False],\n",
       "        [False, False],\n",
       "        [ True, False],\n",
       "        [False,  True],\n",
       "        [False,  True],\n",
       "        [False, False]],\n",
       "\n",
       "       [[False, False],\n",
       "        [False,  True],\n",
       "        [False, False],\n",
       "        [False, False],\n",
       "        [ True, False],\n",
       "        [ True, False],\n",
       "        [False,  True],\n",
       "        [False,  True],\n",
       "        [False, False]]])</pre></div></li><li class='xr-var-item'><div class='xr-var-name'><span>distance</span></div><div class='xr-var-dims'>(techs)</div><div class='xr-var-dtype'>float64</div><div class='xr-var-preview xr-preview'>0.1734 0.2448 0.3933 ... nan nan</div><input id='attrs-61227016-66c8-4ca0-bd7f-7ae3fde90eb8' class='xr-var-attrs-in' type='checkbox' ><label for='attrs-61227016-66c8-4ca0-bd7f-7ae3fde90eb8' title='Show/Hide attributes'><svg class='icon xr-icon-file-text2'><use xlink:href='#icon-file-text2'></use></svg></label><input id='data-30654370-fda0-4bc9-8215-a3639f4f3629' class='xr-var-data-in' type='checkbox'><label for='data-30654370-fda0-4bc9-8215-a3639f4f3629' title='Show/Hide data repr'><svg class='icon xr-icon-database'><use xlink:href='#icon-database'></use></svg></label><div class='xr-var-attrs'><dl class='xr-attrs'><dt><span>title :</span></dt><dd>Distance spanned by link.</dd><dt><span>description :</span></dt><dd>Used for `..._per_distance` constraints. If not defined, it will be automatically derived from latitude/longitude of nodes in a link.</dd><dt><span>default :</span></dt><dd>1.0</dd><dt><span>resample_method :</span></dt><dd>mean</dd><dt><span>unit :</span></dt><dd>distance.</dd></dl></div><div class='xr-var-data'><pre>array([0.17343466, 0.2447656 , 0.39332085, 0.35177109, 0.57570932,\n",
       "              nan,        nan,        nan,        nan])</pre></div></li><li class='xr-var-item'><div class='xr-var-name'><span>timestep_resolution</span></div><div class='xr-var-dims'>(timesteps)</div><div class='xr-var-dtype'>float64</div><div class='xr-var-preview xr-preview'>1.0</div><input id='attrs-f225fa5b-7794-4160-8ded-38bb77d2bb5f' class='xr-var-attrs-in' type='checkbox' ><label for='attrs-f225fa5b-7794-4160-8ded-38bb77d2bb5f' title='Show/Hide attributes'><svg class='icon xr-icon-file-text2'><use xlink:href='#icon-file-text2'></use></svg></label><input id='data-bb8e0127-7592-4886-8061-ba798a6dad57' class='xr-var-data-in' type='checkbox'><label for='data-bb8e0127-7592-4886-8061-ba798a6dad57' title='Show/Hide data repr'><svg class='icon xr-icon-database'><use xlink:href='#icon-database'></use></svg></label><div class='xr-var-attrs'><dl class='xr-attrs'><dt><span>title :</span></dt><dd>Resolution per timestep.</dd><dt><span>description :</span></dt><dd></dd><dt><span>default :</span></dt><dd>1</dd><dt><span>resample_method :</span></dt><dd>sum</dd><dt><span>unit :</span></dt><dd>hours.</dd></dl></div><div class='xr-var-data'><pre>array([1.])</pre></div></li><li class='xr-var-item'><div class='xr-var-name'><span>timestep_weights</span></div><div class='xr-var-dims'>(timesteps)</div><div class='xr-var-dtype'>float64</div><div class='xr-var-preview xr-preview'>1.0</div><input id='attrs-060cf1a2-275e-4196-9caa-c0b17fbc61f4' class='xr-var-attrs-in' type='checkbox' ><label for='attrs-060cf1a2-275e-4196-9caa-c0b17fbc61f4' title='Show/Hide attributes'><svg class='icon xr-icon-file-text2'><use xlink:href='#icon-file-text2'></use></svg></label><input id='data-3bfb35d3-67e6-4f70-b186-2e45f21be676' class='xr-var-data-in' type='checkbox'><label for='data-3bfb35d3-67e6-4f70-b186-2e45f21be676' title='Show/Hide data repr'><svg class='icon xr-icon-database'><use xlink:href='#icon-database'></use></svg></label><div class='xr-var-attrs'><dl class='xr-attrs'><dt><span>title :</span></dt><dd>Weight per timestep.</dd><dt><span>description :</span></dt><dd></dd><dt><span>default :</span></dt><dd>1</dd><dt><span>resample_method :</span></dt><dd>mean</dd><dt><span>unit :</span></dt><dd>unitless.</dd></dl></div><div class='xr-var-data'><pre>array([1.])</pre></div></li></ul></div></li><li class='xr-section-item'><input id='section-e5d3894d-c993-438b-ab92-833cdec15a3c' class='xr-section-summary-in' type='checkbox'  ><label for='section-e5d3894d-c993-438b-ab92-833cdec15a3c' class='xr-section-summary' >Indexes: <span>(5)</span></label><div class='xr-section-inline-details'></div><div class='xr-section-details'><ul class='xr-var-list'><li class='xr-var-item'><div class='xr-index-name'><div>costs</div></div><div class='xr-index-preview'>PandasIndex</div><div></div><input id='index-d74d87ac-f571-4e08-9566-1ac26eeb249e' class='xr-index-data-in' type='checkbox'/><label for='index-d74d87ac-f571-4e08-9566-1ac26eeb249e' title='Show/Hide index repr'><svg class='icon xr-icon-database'><use xlink:href='#icon-database'></use></svg></label><div class='xr-index-data'><pre>PandasIndex(Index([&#x27;monetary&#x27;], dtype=&#x27;object&#x27;, name=&#x27;costs&#x27;))</pre></div></li><li class='xr-var-item'><div class='xr-index-name'><div>techs</div></div><div class='xr-index-preview'>PandasIndex</div><div></div><input id='index-e45daed9-511e-4464-9074-815299463e1a' class='xr-index-data-in' type='checkbox'/><label for='index-e45daed9-511e-4464-9074-815299463e1a' title='Show/Hide index repr'><svg class='icon xr-icon-database'><use xlink:href='#icon-database'></use></svg></label><div class='xr-index-data'><pre>PandasIndex(Index([&#x27;N1_to_X2&#x27;, &#x27;N1_to_X3&#x27;, &#x27;X1_to_N1&#x27;, &#x27;X1_to_X2&#x27;, &#x27;X1_to_X3&#x27;,\n",
       "       &#x27;demand_electricity&#x27;, &#x27;demand_heat&#x27;, &#x27;supply_geothermal&#x27;,\n",
       "       &#x27;supply_grid_power&#x27;],\n",
       "      dtype=&#x27;object&#x27;, name=&#x27;techs&#x27;))</pre></div></li><li class='xr-var-item'><div class='xr-index-name'><div>carriers</div></div><div class='xr-index-preview'>PandasIndex</div><div></div><input id='index-72420bec-67c9-40f0-b927-0832ffea064d' class='xr-index-data-in' type='checkbox'/><label for='index-72420bec-67c9-40f0-b927-0832ffea064d' title='Show/Hide index repr'><svg class='icon xr-icon-database'><use xlink:href='#icon-database'></use></svg></label><div class='xr-index-data'><pre>PandasIndex(Index([&#x27;electricity&#x27;, &#x27;heat&#x27;], dtype=&#x27;object&#x27;, name=&#x27;carriers&#x27;))</pre></div></li><li class='xr-var-item'><div class='xr-index-name'><div>nodes</div></div><div class='xr-index-preview'>PandasIndex</div><div></div><input id='index-71a481ac-440b-4210-877e-ad483924ec6f' class='xr-index-data-in' type='checkbox'/><label for='index-71a481ac-440b-4210-877e-ad483924ec6f' title='Show/Hide index repr'><svg class='icon xr-icon-database'><use xlink:href='#icon-database'></use></svg></label><div class='xr-index-data'><pre>PandasIndex(Index([&#x27;N1&#x27;, &#x27;X1&#x27;, &#x27;X2&#x27;, &#x27;X3&#x27;], dtype=&#x27;object&#x27;, name=&#x27;nodes&#x27;))</pre></div></li><li class='xr-var-item'><div class='xr-index-name'><div>timesteps</div></div><div class='xr-index-preview'>PandasIndex</div><div></div><input id='index-9f0e7d73-d2c5-4f13-8aa0-f1843cca84eb' class='xr-index-data-in' type='checkbox'/><label for='index-9f0e7d73-d2c5-4f13-8aa0-f1843cca84eb' title='Show/Hide index repr'><svg class='icon xr-icon-database'><use xlink:href='#icon-database'></use></svg></label><div class='xr-index-data'><pre>PandasIndex(DatetimeIndex([&#x27;2050-01-01&#x27;], dtype=&#x27;datetime64[ns]&#x27;, name=&#x27;timesteps&#x27;, freq=None))</pre></div></li></ul></div></li><li class='xr-section-item'><input id='section-fa93baee-dffe-478e-90be-62ede7dd23d7' class='xr-section-summary-in' type='checkbox' disabled ><label for='section-fa93baee-dffe-478e-90be-62ede7dd23d7' class='xr-section-summary'  title='Expand/collapse section'>Attributes: <span>(0)</span></label><div class='xr-section-inline-details'></div><div class='xr-section-details'><dl class='xr-attrs'></dl></div></li></ul></div></div>"
      ],
      "text/plain": [
       "<xarray.Dataset> Size: 2kB\n",
       "Dimensions:                     (costs: 1, techs: 9, nodes: 4, carriers: 2,\n",
       "                                 timesteps: 1)\n",
       "Coordinates:\n",
       "  * costs                       (costs) object 8B 'monetary'\n",
       "  * techs                       (techs) object 72B 'N1_to_X2' ... 'supply_gri...\n",
       "  * carriers                    (carriers) object 16B 'electricity' 'heat'\n",
       "  * nodes                       (nodes) object 32B 'N1' 'X1' 'X2' 'X3'\n",
       "  * timesteps                   (timesteps) datetime64[ns] 8B 2050-01-01\n",
       "Data variables: (12/23)\n",
       "    cost_interest_rate          (costs) float64 8B 0.1\n",
       "    bigM                        float64 8B 1e+06\n",
       "    objective_cost_weights      (costs) float64 8B 1.0\n",
       "    base_tech                   (techs) object 72B 'transmission' ... 'supply'\n",
       "    carrier_in                  (nodes, techs, carriers) bool 72B False ... F...\n",
       "    color                       (techs) object 72B '#823739' ... '#C5ABE3'\n",
       "    ...                          ...\n",
       "    longitude                   (nodes) float64 32B 4.359 4.358 4.361 4.362\n",
       "    sink_use_equals             (timesteps, techs, nodes) float64 288B nan .....\n",
       "    definition_matrix           (nodes, techs, carriers) bool 72B False ... F...\n",
       "    distance                    (techs) float64 72B 0.1734 0.2448 ... nan nan\n",
       "    timestep_resolution         (timesteps) float64 8B 1.0\n",
       "    timestep_weights            (timesteps) float64 8B 1.0"
      ]
     },
     "execution_count": 2,
     "metadata": {},
     "output_type": "execute_result"
    }
   ],
   "source": [
    "model.inputs"
   ]
  },
  {
   "cell_type": "code",
   "execution_count": 3,
   "id": "348792d0",
   "metadata": {},
   "outputs": [
    {
     "data": {
      "text/plain": [
       "techs\n",
       "N1_to_X2             2000.0\n",
       "N1_to_X3             2000.0\n",
       "X1_to_N1             2000.0\n",
       "X1_to_X2             2000.0\n",
       "X1_to_X3             2000.0\n",
       "supply_geothermal    2000.0\n",
       "supply_grid_power    2000.0\n",
       "Name: flow_cap_max, dtype: float64"
      ]
     },
     "execution_count": 3,
     "metadata": {},
     "output_type": "execute_result"
    }
   ],
   "source": [
    "model.inputs.flow_cap_max.to_series().dropna()"
   ]
  },
  {
   "cell_type": "code",
   "execution_count": 4,
   "id": "6ed7dc7e",
   "metadata": {},
   "outputs": [
    {
     "data": {
      "text/plain": [
       "techs               nodes\n",
       "demand_electricity  X1         0.637704\n",
       "                    X2       101.809815\n",
       "                    X3        20.592169\n",
       "demand_heat         X1         4.348486\n",
       "                    X2       128.210300\n",
       "                    X3        25.173941\n",
       "Name: sink_use_equals, dtype: float64"
      ]
     },
     "execution_count": 4,
     "metadata": {},
     "output_type": "execute_result"
    }
   ],
   "source": [
    "model.inputs.sink_use_equals.sum(\n",
    "    \"timesteps\", min_count=1, skipna=True\n",
    ").to_series().dropna()"
   ]
  },
  {
   "cell_type": "code",
   "execution_count": 5,
   "id": "f51d6f61",
   "metadata": {},
   "outputs": [
    {
     "name": "stdout",
     "output_type": "stream",
     "text": [
      "[2025-10-13 08:05:55] INFO     Model: backend build starting\n",
      "[2025-10-13 08:05:55] INFO     Optimisation Model | parameters/lookups | Generated.\n",
      "[2025-10-13 08:05:55] INFO     Optimisation Model | variables | Generated.\n",
      "[2025-10-13 08:05:56] INFO     Optimisation Model | global_expressions | Generated.\n",
      "[2025-10-13 08:05:57] INFO     Optimisation Model | constraints | Generated.\n",
      "[2025-10-13 08:05:57] INFO     Optimisation Model | piecewise_constraints | Generated.\n",
      "[2025-10-13 08:05:57] INFO     Optimisation Model | objectives | Generated.\n",
      "[2025-10-13 08:05:57] INFO     Model: backend build complete\n",
      "[2025-10-13 08:05:57] INFO     Optimisation model | starting model in base mode.\n",
      "[2025-10-13 08:05:58] INFO     Backend: solver finished running. Time since start of solving optimisation problem: 0:00:00.418106\n",
      "[2025-10-13 08:05:58] INFO     Postprocessing: applied zero threshold 1e-10 to model results.\n",
      "[2025-10-13 08:05:58] INFO     Postprocessing: ended. Time since start of solving optimisation problem: 0:00:00.473106\n",
      "[2025-10-13 08:05:58] INFO     Backend: model solve completed. Time since start of solving optimisation problem: 0:00:00.474105\n"
     ]
    }
   ],
   "source": [
    "model.build()\n",
    "model.solve()"
   ]
  },
  {
   "cell_type": "code",
   "execution_count": 6,
   "id": "140b6902",
   "metadata": {},
   "outputs": [
    {
     "data": {
      "text/html": [
       "<div><svg style=\"position: absolute; width: 0; height: 0; overflow: hidden\">\n",
       "<defs>\n",
       "<symbol id=\"icon-database\" viewBox=\"0 0 32 32\">\n",
       "<path d=\"M16 0c-8.837 0-16 2.239-16 5v4c0 2.761 7.163 5 16 5s16-2.239 16-5v-4c0-2.761-7.163-5-16-5z\"></path>\n",
       "<path d=\"M16 17c-8.837 0-16-2.239-16-5v6c0 2.761 7.163 5 16 5s16-2.239 16-5v-6c0 2.761-7.163 5-16 5z\"></path>\n",
       "<path d=\"M16 26c-8.837 0-16-2.239-16-5v6c0 2.761 7.163 5 16 5s16-2.239 16-5v-6c0 2.761-7.163 5-16 5z\"></path>\n",
       "</symbol>\n",
       "<symbol id=\"icon-file-text2\" viewBox=\"0 0 32 32\">\n",
       "<path d=\"M28.681 7.159c-0.694-0.947-1.662-2.053-2.724-3.116s-2.169-2.030-3.116-2.724c-1.612-1.182-2.393-1.319-2.841-1.319h-15.5c-1.378 0-2.5 1.121-2.5 2.5v27c0 1.378 1.122 2.5 2.5 2.5h23c1.378 0 2.5-1.122 2.5-2.5v-19.5c0-0.448-0.137-1.23-1.319-2.841zM24.543 5.457c0.959 0.959 1.712 1.825 2.268 2.543h-4.811v-4.811c0.718 0.556 1.584 1.309 2.543 2.268zM28 29.5c0 0.271-0.229 0.5-0.5 0.5h-23c-0.271 0-0.5-0.229-0.5-0.5v-27c0-0.271 0.229-0.5 0.5-0.5 0 0 15.499-0 15.5 0v7c0 0.552 0.448 1 1 1h7v19.5z\"></path>\n",
       "<path d=\"M23 26h-14c-0.552 0-1-0.448-1-1s0.448-1 1-1h14c0.552 0 1 0.448 1 1s-0.448 1-1 1z\"></path>\n",
       "<path d=\"M23 22h-14c-0.552 0-1-0.448-1-1s0.448-1 1-1h14c0.552 0 1 0.448 1 1s-0.448 1-1 1z\"></path>\n",
       "<path d=\"M23 18h-14c-0.552 0-1-0.448-1-1s0.448-1 1-1h14c0.552 0 1 0.448 1 1s-0.448 1-1 1z\"></path>\n",
       "</symbol>\n",
       "</defs>\n",
       "</svg>\n",
       "<style>/* CSS stylesheet for displaying xarray objects in jupyterlab.\n",
       " *\n",
       " */\n",
       "\n",
       ":root {\n",
       "  --xr-font-color0: var(--jp-content-font-color0, rgba(0, 0, 0, 1));\n",
       "  --xr-font-color2: var(--jp-content-font-color2, rgba(0, 0, 0, 0.54));\n",
       "  --xr-font-color3: var(--jp-content-font-color3, rgba(0, 0, 0, 0.38));\n",
       "  --xr-border-color: var(--jp-border-color2, #e0e0e0);\n",
       "  --xr-disabled-color: var(--jp-layout-color3, #bdbdbd);\n",
       "  --xr-background-color: var(--jp-layout-color0, white);\n",
       "  --xr-background-color-row-even: var(--jp-layout-color1, white);\n",
       "  --xr-background-color-row-odd: var(--jp-layout-color2, #eeeeee);\n",
       "}\n",
       "\n",
       "html[theme=dark],\n",
       "body[data-theme=dark],\n",
       "body.vscode-dark {\n",
       "  --xr-font-color0: rgba(255, 255, 255, 1);\n",
       "  --xr-font-color2: rgba(255, 255, 255, 0.54);\n",
       "  --xr-font-color3: rgba(255, 255, 255, 0.38);\n",
       "  --xr-border-color: #1F1F1F;\n",
       "  --xr-disabled-color: #515151;\n",
       "  --xr-background-color: #111111;\n",
       "  --xr-background-color-row-even: #111111;\n",
       "  --xr-background-color-row-odd: #313131;\n",
       "}\n",
       "\n",
       ".xr-wrap {\n",
       "  display: block !important;\n",
       "  min-width: 300px;\n",
       "  max-width: 700px;\n",
       "}\n",
       "\n",
       ".xr-text-repr-fallback {\n",
       "  /* fallback to plain text repr when CSS is not injected (untrusted notebook) */\n",
       "  display: none;\n",
       "}\n",
       "\n",
       ".xr-header {\n",
       "  padding-top: 6px;\n",
       "  padding-bottom: 6px;\n",
       "  margin-bottom: 4px;\n",
       "  border-bottom: solid 1px var(--xr-border-color);\n",
       "}\n",
       "\n",
       ".xr-header > div,\n",
       ".xr-header > ul {\n",
       "  display: inline;\n",
       "  margin-top: 0;\n",
       "  margin-bottom: 0;\n",
       "}\n",
       "\n",
       ".xr-obj-type,\n",
       ".xr-array-name {\n",
       "  margin-left: 2px;\n",
       "  margin-right: 10px;\n",
       "}\n",
       "\n",
       ".xr-obj-type {\n",
       "  color: var(--xr-font-color2);\n",
       "}\n",
       "\n",
       ".xr-sections {\n",
       "  padding-left: 0 !important;\n",
       "  display: grid;\n",
       "  grid-template-columns: 150px auto auto 1fr 20px 20px;\n",
       "}\n",
       "\n",
       ".xr-section-item {\n",
       "  display: contents;\n",
       "}\n",
       "\n",
       ".xr-section-item input {\n",
       "  display: none;\n",
       "}\n",
       "\n",
       ".xr-section-item input + label {\n",
       "  color: var(--xr-disabled-color);\n",
       "}\n",
       "\n",
       ".xr-section-item input:enabled + label {\n",
       "  cursor: pointer;\n",
       "  color: var(--xr-font-color2);\n",
       "}\n",
       "\n",
       ".xr-section-item input:enabled + label:hover {\n",
       "  color: var(--xr-font-color0);\n",
       "}\n",
       "\n",
       ".xr-section-summary {\n",
       "  grid-column: 1;\n",
       "  color: var(--xr-font-color2);\n",
       "  font-weight: 500;\n",
       "}\n",
       "\n",
       ".xr-section-summary > span {\n",
       "  display: inline-block;\n",
       "  padding-left: 0.5em;\n",
       "}\n",
       "\n",
       ".xr-section-summary-in:disabled + label {\n",
       "  color: var(--xr-font-color2);\n",
       "}\n",
       "\n",
       ".xr-section-summary-in + label:before {\n",
       "  display: inline-block;\n",
       "  content: '►';\n",
       "  font-size: 11px;\n",
       "  width: 15px;\n",
       "  text-align: center;\n",
       "}\n",
       "\n",
       ".xr-section-summary-in:disabled + label:before {\n",
       "  color: var(--xr-disabled-color);\n",
       "}\n",
       "\n",
       ".xr-section-summary-in:checked + label:before {\n",
       "  content: '▼';\n",
       "}\n",
       "\n",
       ".xr-section-summary-in:checked + label > span {\n",
       "  display: none;\n",
       "}\n",
       "\n",
       ".xr-section-summary,\n",
       ".xr-section-inline-details {\n",
       "  padding-top: 4px;\n",
       "  padding-bottom: 4px;\n",
       "}\n",
       "\n",
       ".xr-section-inline-details {\n",
       "  grid-column: 2 / -1;\n",
       "}\n",
       "\n",
       ".xr-section-details {\n",
       "  display: none;\n",
       "  grid-column: 1 / -1;\n",
       "  margin-bottom: 5px;\n",
       "}\n",
       "\n",
       ".xr-section-summary-in:checked ~ .xr-section-details {\n",
       "  display: contents;\n",
       "}\n",
       "\n",
       ".xr-array-wrap {\n",
       "  grid-column: 1 / -1;\n",
       "  display: grid;\n",
       "  grid-template-columns: 20px auto;\n",
       "}\n",
       "\n",
       ".xr-array-wrap > label {\n",
       "  grid-column: 1;\n",
       "  vertical-align: top;\n",
       "}\n",
       "\n",
       ".xr-preview {\n",
       "  color: var(--xr-font-color3);\n",
       "}\n",
       "\n",
       ".xr-array-preview,\n",
       ".xr-array-data {\n",
       "  padding: 0 5px !important;\n",
       "  grid-column: 2;\n",
       "}\n",
       "\n",
       ".xr-array-data,\n",
       ".xr-array-in:checked ~ .xr-array-preview {\n",
       "  display: none;\n",
       "}\n",
       "\n",
       ".xr-array-in:checked ~ .xr-array-data,\n",
       ".xr-array-preview {\n",
       "  display: inline-block;\n",
       "}\n",
       "\n",
       ".xr-dim-list {\n",
       "  display: inline-block !important;\n",
       "  list-style: none;\n",
       "  padding: 0 !important;\n",
       "  margin: 0;\n",
       "}\n",
       "\n",
       ".xr-dim-list li {\n",
       "  display: inline-block;\n",
       "  padding: 0;\n",
       "  margin: 0;\n",
       "}\n",
       "\n",
       ".xr-dim-list:before {\n",
       "  content: '(';\n",
       "}\n",
       "\n",
       ".xr-dim-list:after {\n",
       "  content: ')';\n",
       "}\n",
       "\n",
       ".xr-dim-list li:not(:last-child):after {\n",
       "  content: ',';\n",
       "  padding-right: 5px;\n",
       "}\n",
       "\n",
       ".xr-has-index {\n",
       "  font-weight: bold;\n",
       "}\n",
       "\n",
       ".xr-var-list,\n",
       ".xr-var-item {\n",
       "  display: contents;\n",
       "}\n",
       "\n",
       ".xr-var-item > div,\n",
       ".xr-var-item label,\n",
       ".xr-var-item > .xr-var-name span {\n",
       "  background-color: var(--xr-background-color-row-even);\n",
       "  margin-bottom: 0;\n",
       "}\n",
       "\n",
       ".xr-var-item > .xr-var-name:hover span {\n",
       "  padding-right: 5px;\n",
       "}\n",
       "\n",
       ".xr-var-list > li:nth-child(odd) > div,\n",
       ".xr-var-list > li:nth-child(odd) > label,\n",
       ".xr-var-list > li:nth-child(odd) > .xr-var-name span {\n",
       "  background-color: var(--xr-background-color-row-odd);\n",
       "}\n",
       "\n",
       ".xr-var-name {\n",
       "  grid-column: 1;\n",
       "}\n",
       "\n",
       ".xr-var-dims {\n",
       "  grid-column: 2;\n",
       "}\n",
       "\n",
       ".xr-var-dtype {\n",
       "  grid-column: 3;\n",
       "  text-align: right;\n",
       "  color: var(--xr-font-color2);\n",
       "}\n",
       "\n",
       ".xr-var-preview {\n",
       "  grid-column: 4;\n",
       "}\n",
       "\n",
       ".xr-index-preview {\n",
       "  grid-column: 2 / 5;\n",
       "  color: var(--xr-font-color2);\n",
       "}\n",
       "\n",
       ".xr-var-name,\n",
       ".xr-var-dims,\n",
       ".xr-var-dtype,\n",
       ".xr-preview,\n",
       ".xr-attrs dt {\n",
       "  white-space: nowrap;\n",
       "  overflow: hidden;\n",
       "  text-overflow: ellipsis;\n",
       "  padding-right: 10px;\n",
       "}\n",
       "\n",
       ".xr-var-name:hover,\n",
       ".xr-var-dims:hover,\n",
       ".xr-var-dtype:hover,\n",
       ".xr-attrs dt:hover {\n",
       "  overflow: visible;\n",
       "  width: auto;\n",
       "  z-index: 1;\n",
       "}\n",
       "\n",
       ".xr-var-attrs,\n",
       ".xr-var-data,\n",
       ".xr-index-data {\n",
       "  display: none;\n",
       "  background-color: var(--xr-background-color) !important;\n",
       "  padding-bottom: 5px !important;\n",
       "}\n",
       "\n",
       ".xr-var-attrs-in:checked ~ .xr-var-attrs,\n",
       ".xr-var-data-in:checked ~ .xr-var-data,\n",
       ".xr-index-data-in:checked ~ .xr-index-data {\n",
       "  display: block;\n",
       "}\n",
       "\n",
       ".xr-var-data > table {\n",
       "  float: right;\n",
       "}\n",
       "\n",
       ".xr-var-name span,\n",
       ".xr-var-data,\n",
       ".xr-index-name div,\n",
       ".xr-index-data,\n",
       ".xr-attrs {\n",
       "  padding-left: 25px !important;\n",
       "}\n",
       "\n",
       ".xr-attrs,\n",
       ".xr-var-attrs,\n",
       ".xr-var-data,\n",
       ".xr-index-data {\n",
       "  grid-column: 1 / -1;\n",
       "}\n",
       "\n",
       "dl.xr-attrs {\n",
       "  padding: 0;\n",
       "  margin: 0;\n",
       "  display: grid;\n",
       "  grid-template-columns: 125px auto;\n",
       "}\n",
       "\n",
       ".xr-attrs dt,\n",
       ".xr-attrs dd {\n",
       "  padding: 0;\n",
       "  margin: 0;\n",
       "  float: left;\n",
       "  padding-right: 10px;\n",
       "  width: auto;\n",
       "}\n",
       "\n",
       ".xr-attrs dt {\n",
       "  font-weight: normal;\n",
       "  grid-column: 1;\n",
       "}\n",
       "\n",
       ".xr-attrs dt:hover span {\n",
       "  display: inline-block;\n",
       "  background: var(--xr-background-color);\n",
       "  padding-right: 10px;\n",
       "}\n",
       "\n",
       ".xr-attrs dd {\n",
       "  grid-column: 2;\n",
       "  white-space: pre-wrap;\n",
       "  word-break: break-all;\n",
       "}\n",
       "\n",
       ".xr-icon-database,\n",
       ".xr-icon-file-text2,\n",
       ".xr-no-icon {\n",
       "  display: inline-block;\n",
       "  vertical-align: middle;\n",
       "  width: 1em;\n",
       "  height: 1.5em !important;\n",
       "  stroke-width: 0;\n",
       "  stroke: currentColor;\n",
       "  fill: currentColor;\n",
       "}\n",
       "</style><pre class='xr-text-repr-fallback'>&lt;xarray.Dataset&gt; Size: 6kB\n",
       "Dimensions:                     (nodes: 4, techs: 9, carriers: 2, timesteps: 1,\n",
       "                                 costs: 1)\n",
       "Coordinates:\n",
       "  * techs                       (techs) object 72B &#x27;N1_to_X2&#x27; ... &#x27;supply_gri...\n",
       "  * nodes                       (nodes) object 32B &#x27;N1&#x27; &#x27;X1&#x27; &#x27;X2&#x27; &#x27;X3&#x27;\n",
       "  * carriers                    (carriers) object 16B &#x27;electricity&#x27; &#x27;heat&#x27;\n",
       "  * timesteps                   (timesteps) datetime64[ns] 8B 2050-01-01\n",
       "  * costs                       (costs) object 8B &#x27;monetary&#x27;\n",
       "Data variables: (12/21)\n",
       "    flow_cap                    (nodes, techs, carriers) float64 576B nan ......\n",
       "    link_flow_cap               (techs) float64 72B 0.0 0.0 0.0 ... nan nan nan\n",
       "    flow_out                    (nodes, techs, carriers, timesteps) float64 576B ...\n",
       "    flow_in                     (nodes, techs, carriers, timesteps) float64 576B ...\n",
       "    source_use                  (nodes, techs, timesteps) float64 288B nan .....\n",
       "    source_cap                  (nodes, techs) float64 288B nan nan ... nan\n",
       "    ...                          ...\n",
       "    min_cost_optimisation       float64 8B 12.71\n",
       "    capacity_factor             (nodes, techs, carriers, timesteps) float64 576B ...\n",
       "    systemwide_capacity_factor  (techs, carriers) float64 144B 0.0 0.0 ... 0.0\n",
       "    systemwide_levelised_cost   (techs, costs, carriers) float64 144B nan ......\n",
       "    total_levelised_cost        (costs, carriers) float64 16B 0.1013 0.0806\n",
       "    unmet_sum                   (nodes, carriers, timesteps) float64 64B nan ...</pre><div class='xr-wrap' style='display:none'><div class='xr-header'><div class='xr-obj-type'>xarray.Dataset</div></div><ul class='xr-sections'><li class='xr-section-item'><input id='section-9806f14b-b7da-4695-bd3b-b901d9d708a9' class='xr-section-summary-in' type='checkbox' disabled ><label for='section-9806f14b-b7da-4695-bd3b-b901d9d708a9' class='xr-section-summary'  title='Expand/collapse section'>Dimensions:</label><div class='xr-section-inline-details'><ul class='xr-dim-list'><li><span class='xr-has-index'>nodes</span>: 4</li><li><span class='xr-has-index'>techs</span>: 9</li><li><span class='xr-has-index'>carriers</span>: 2</li><li><span class='xr-has-index'>timesteps</span>: 1</li><li><span class='xr-has-index'>costs</span>: 1</li></ul></div><div class='xr-section-details'></div></li><li class='xr-section-item'><input id='section-3dc96835-f0a4-4612-8aa5-ff61b63ae6b7' class='xr-section-summary-in' type='checkbox'  checked><label for='section-3dc96835-f0a4-4612-8aa5-ff61b63ae6b7' class='xr-section-summary' >Coordinates: <span>(5)</span></label><div class='xr-section-inline-details'></div><div class='xr-section-details'><ul class='xr-var-list'><li class='xr-var-item'><div class='xr-var-name'><span class='xr-has-index'>techs</span></div><div class='xr-var-dims'>(techs)</div><div class='xr-var-dtype'>object</div><div class='xr-var-preview xr-preview'>&#x27;N1_to_X2&#x27; ... &#x27;supply_grid_power&#x27;</div><input id='attrs-8c394123-536b-4cfe-9060-c4b51273737a' class='xr-var-attrs-in' type='checkbox' disabled><label for='attrs-8c394123-536b-4cfe-9060-c4b51273737a' title='Show/Hide attributes'><svg class='icon xr-icon-file-text2'><use xlink:href='#icon-file-text2'></use></svg></label><input id='data-848d2487-608d-4d89-8eed-66f29db78d99' class='xr-var-data-in' type='checkbox'><label for='data-848d2487-608d-4d89-8eed-66f29db78d99' title='Show/Hide data repr'><svg class='icon xr-icon-database'><use xlink:href='#icon-database'></use></svg></label><div class='xr-var-attrs'><dl class='xr-attrs'></dl></div><div class='xr-var-data'><pre>array([&#x27;N1_to_X2&#x27;, &#x27;N1_to_X3&#x27;, &#x27;X1_to_N1&#x27;, &#x27;X1_to_X2&#x27;, &#x27;X1_to_X3&#x27;,\n",
       "       &#x27;demand_electricity&#x27;, &#x27;demand_heat&#x27;, &#x27;supply_geothermal&#x27;,\n",
       "       &#x27;supply_grid_power&#x27;], dtype=object)</pre></div></li><li class='xr-var-item'><div class='xr-var-name'><span class='xr-has-index'>nodes</span></div><div class='xr-var-dims'>(nodes)</div><div class='xr-var-dtype'>object</div><div class='xr-var-preview xr-preview'>&#x27;N1&#x27; &#x27;X1&#x27; &#x27;X2&#x27; &#x27;X3&#x27;</div><input id='attrs-7ea74a9e-f441-4977-9c7d-90b323ec17f7' class='xr-var-attrs-in' type='checkbox' disabled><label for='attrs-7ea74a9e-f441-4977-9c7d-90b323ec17f7' title='Show/Hide attributes'><svg class='icon xr-icon-file-text2'><use xlink:href='#icon-file-text2'></use></svg></label><input id='data-76eb7651-8698-417b-83cf-3f7d00f76acc' class='xr-var-data-in' type='checkbox'><label for='data-76eb7651-8698-417b-83cf-3f7d00f76acc' title='Show/Hide data repr'><svg class='icon xr-icon-database'><use xlink:href='#icon-database'></use></svg></label><div class='xr-var-attrs'><dl class='xr-attrs'></dl></div><div class='xr-var-data'><pre>array([&#x27;N1&#x27;, &#x27;X1&#x27;, &#x27;X2&#x27;, &#x27;X3&#x27;], dtype=object)</pre></div></li><li class='xr-var-item'><div class='xr-var-name'><span class='xr-has-index'>carriers</span></div><div class='xr-var-dims'>(carriers)</div><div class='xr-var-dtype'>object</div><div class='xr-var-preview xr-preview'>&#x27;electricity&#x27; &#x27;heat&#x27;</div><input id='attrs-60ca7e0d-0bce-4a20-9418-eb2f802e70fd' class='xr-var-attrs-in' type='checkbox' disabled><label for='attrs-60ca7e0d-0bce-4a20-9418-eb2f802e70fd' title='Show/Hide attributes'><svg class='icon xr-icon-file-text2'><use xlink:href='#icon-file-text2'></use></svg></label><input id='data-28c7e451-7576-4480-a49c-7f51950ecf01' class='xr-var-data-in' type='checkbox'><label for='data-28c7e451-7576-4480-a49c-7f51950ecf01' title='Show/Hide data repr'><svg class='icon xr-icon-database'><use xlink:href='#icon-database'></use></svg></label><div class='xr-var-attrs'><dl class='xr-attrs'></dl></div><div class='xr-var-data'><pre>array([&#x27;electricity&#x27;, &#x27;heat&#x27;], dtype=object)</pre></div></li><li class='xr-var-item'><div class='xr-var-name'><span class='xr-has-index'>timesteps</span></div><div class='xr-var-dims'>(timesteps)</div><div class='xr-var-dtype'>datetime64[ns]</div><div class='xr-var-preview xr-preview'>2050-01-01</div><input id='attrs-e40f5289-111d-4788-96a4-35f08a620161' class='xr-var-attrs-in' type='checkbox' disabled><label for='attrs-e40f5289-111d-4788-96a4-35f08a620161' title='Show/Hide attributes'><svg class='icon xr-icon-file-text2'><use xlink:href='#icon-file-text2'></use></svg></label><input id='data-510928b4-7ab1-451c-a797-ecb7ed70b0fb' class='xr-var-data-in' type='checkbox'><label for='data-510928b4-7ab1-451c-a797-ecb7ed70b0fb' title='Show/Hide data repr'><svg class='icon xr-icon-database'><use xlink:href='#icon-database'></use></svg></label><div class='xr-var-attrs'><dl class='xr-attrs'></dl></div><div class='xr-var-data'><pre>array([&#x27;2050-01-01T00:00:00.000000000&#x27;], dtype=&#x27;datetime64[ns]&#x27;)</pre></div></li><li class='xr-var-item'><div class='xr-var-name'><span class='xr-has-index'>costs</span></div><div class='xr-var-dims'>(costs)</div><div class='xr-var-dtype'>object</div><div class='xr-var-preview xr-preview'>&#x27;monetary&#x27;</div><input id='attrs-0a7bba38-5a7e-43c2-820a-1114aafdb596' class='xr-var-attrs-in' type='checkbox' disabled><label for='attrs-0a7bba38-5a7e-43c2-820a-1114aafdb596' title='Show/Hide attributes'><svg class='icon xr-icon-file-text2'><use xlink:href='#icon-file-text2'></use></svg></label><input id='data-704755a3-5b21-4319-8097-a31469c971b4' class='xr-var-data-in' type='checkbox'><label for='data-704755a3-5b21-4319-8097-a31469c971b4' title='Show/Hide data repr'><svg class='icon xr-icon-database'><use xlink:href='#icon-database'></use></svg></label><div class='xr-var-attrs'><dl class='xr-attrs'></dl></div><div class='xr-var-data'><pre>array([&#x27;monetary&#x27;], dtype=object)</pre></div></li></ul></div></li><li class='xr-section-item'><input id='section-adcf70eb-01a6-47ee-ae17-dce2f35282ed' class='xr-section-summary-in' type='checkbox'  ><label for='section-adcf70eb-01a6-47ee-ae17-dce2f35282ed' class='xr-section-summary' >Data variables: <span>(21)</span></label><div class='xr-section-inline-details'></div><div class='xr-section-details'><ul class='xr-var-list'><li class='xr-var-item'><div class='xr-var-name'><span>flow_cap</span></div><div class='xr-var-dims'>(nodes, techs, carriers)</div><div class='xr-var-dtype'>float64</div><div class='xr-var-preview xr-preview'>nan 0.0 nan 0.0 ... 25.17 nan nan</div><input id='attrs-906fd24e-9760-46c5-8e7c-92c98c088407' class='xr-var-attrs-in' type='checkbox' disabled><label for='attrs-906fd24e-9760-46c5-8e7c-92c98c088407' title='Show/Hide attributes'><svg class='icon xr-icon-file-text2'><use xlink:href='#icon-file-text2'></use></svg></label><input id='data-df998df4-d880-42b1-afa1-22ecfe1a1b86' class='xr-var-data-in' type='checkbox'><label for='data-df998df4-d880-42b1-afa1-22ecfe1a1b86' title='Show/Hide data repr'><svg class='icon xr-icon-database'><use xlink:href='#icon-database'></use></svg></label><div class='xr-var-attrs'><dl class='xr-attrs'></dl></div><div class='xr-var-data'><pre>array([[[         nan,   0.        ],\n",
       "        [         nan,   0.        ],\n",
       "        [         nan,   0.        ],\n",
       "        [         nan,          nan],\n",
       "        [         nan,          nan],\n",
       "        [         nan,          nan],\n",
       "        [         nan,          nan],\n",
       "        [         nan,          nan],\n",
       "        [         nan,          nan]],\n",
       "\n",
       "       [[         nan,          nan],\n",
       "        [         nan,          nan],\n",
       "        [         nan,   0.        ],\n",
       "        [103.88756643,          nan],\n",
       "        [ 21.01241685,          nan],\n",
       "        [  0.63770352,          nan],\n",
       "        [         nan,   4.34848582],\n",
       "        [         nan,   4.34848582],\n",
       "        [125.5376868 ,          nan]],\n",
       "\n",
       "       [[         nan,   0.        ],\n",
       "        [         nan,          nan],\n",
       "        [         nan,          nan],\n",
       "        [103.88756643,          nan],\n",
       "        [         nan,          nan],\n",
       "        [101.8098151 ,          nan],\n",
       "        [         nan, 128.2103003 ],\n",
       "        [         nan, 128.2103003 ],\n",
       "        [         nan,          nan]],\n",
       "\n",
       "       [[         nan,          nan],\n",
       "        [         nan,   0.        ],\n",
       "        [         nan,          nan],\n",
       "        [         nan,          nan],\n",
       "        [ 21.01241685,          nan],\n",
       "        [ 20.59216851,          nan],\n",
       "        [         nan,  25.17394083],\n",
       "        [         nan,  25.17394083],\n",
       "        [         nan,          nan]]])</pre></div></li><li class='xr-var-item'><div class='xr-var-name'><span>link_flow_cap</span></div><div class='xr-var-dims'>(techs)</div><div class='xr-var-dtype'>float64</div><div class='xr-var-preview xr-preview'>0.0 0.0 0.0 103.9 ... nan nan nan</div><input id='attrs-f1bcff42-040a-4fc3-b8fa-e467e4c172ee' class='xr-var-attrs-in' type='checkbox' disabled><label for='attrs-f1bcff42-040a-4fc3-b8fa-e467e4c172ee' title='Show/Hide attributes'><svg class='icon xr-icon-file-text2'><use xlink:href='#icon-file-text2'></use></svg></label><input id='data-b2b1e84d-fba1-4506-aea8-bf2a26a2c2bb' class='xr-var-data-in' type='checkbox'><label for='data-b2b1e84d-fba1-4506-aea8-bf2a26a2c2bb' title='Show/Hide data repr'><svg class='icon xr-icon-database'><use xlink:href='#icon-database'></use></svg></label><div class='xr-var-attrs'><dl class='xr-attrs'></dl></div><div class='xr-var-data'><pre>array([  0.        ,   0.        ,   0.        , 103.88756643,\n",
       "        21.01241685,          nan,          nan,          nan,\n",
       "                nan])</pre></div></li><li class='xr-var-item'><div class='xr-var-name'><span>flow_out</span></div><div class='xr-var-dims'>(nodes, techs, carriers, timesteps)</div><div class='xr-var-dtype'>float64</div><div class='xr-var-preview xr-preview'>nan 0.0 nan 0.0 ... 25.17 nan nan</div><input id='attrs-05e87670-7f1e-4c09-a6ec-cc378a5fe033' class='xr-var-attrs-in' type='checkbox' disabled><label for='attrs-05e87670-7f1e-4c09-a6ec-cc378a5fe033' title='Show/Hide attributes'><svg class='icon xr-icon-file-text2'><use xlink:href='#icon-file-text2'></use></svg></label><input id='data-17601921-fcf7-4961-95d1-68ca770be631' class='xr-var-data-in' type='checkbox'><label for='data-17601921-fcf7-4961-95d1-68ca770be631' title='Show/Hide data repr'><svg class='icon xr-icon-database'><use xlink:href='#icon-database'></use></svg></label><div class='xr-var-attrs'><dl class='xr-attrs'></dl></div><div class='xr-var-data'><pre>array([[[[         nan],\n",
       "         [  0.        ]],\n",
       "\n",
       "        [[         nan],\n",
       "         [  0.        ]],\n",
       "\n",
       "        [[         nan],\n",
       "         [  0.        ]],\n",
       "\n",
       "        [[         nan],\n",
       "         [         nan]],\n",
       "\n",
       "        [[         nan],\n",
       "         [         nan]],\n",
       "\n",
       "        [[         nan],\n",
       "         [         nan]],\n",
       "\n",
       "        [[         nan],\n",
       "         [         nan]],\n",
       "...\n",
       "        [[         nan],\n",
       "         [         nan]],\n",
       "\n",
       "        [[         nan],\n",
       "         [         nan]],\n",
       "\n",
       "        [[ 20.59216851],\n",
       "         [         nan]],\n",
       "\n",
       "        [[         nan],\n",
       "         [         nan]],\n",
       "\n",
       "        [[         nan],\n",
       "         [         nan]],\n",
       "\n",
       "        [[         nan],\n",
       "         [ 25.17394083]],\n",
       "\n",
       "        [[         nan],\n",
       "         [         nan]]]])</pre></div></li><li class='xr-var-item'><div class='xr-var-name'><span>flow_in</span></div><div class='xr-var-dims'>(nodes, techs, carriers, timesteps)</div><div class='xr-var-dtype'>float64</div><div class='xr-var-preview xr-preview'>nan 0.0 nan 0.0 ... nan nan nan nan</div><input id='attrs-1596140c-5fa0-4748-ba63-c9e89922fd9f' class='xr-var-attrs-in' type='checkbox' disabled><label for='attrs-1596140c-5fa0-4748-ba63-c9e89922fd9f' title='Show/Hide attributes'><svg class='icon xr-icon-file-text2'><use xlink:href='#icon-file-text2'></use></svg></label><input id='data-23ebd625-972b-43c8-be4f-7b020be8092f' class='xr-var-data-in' type='checkbox'><label for='data-23ebd625-972b-43c8-be4f-7b020be8092f' title='Show/Hide data repr'><svg class='icon xr-icon-database'><use xlink:href='#icon-database'></use></svg></label><div class='xr-var-attrs'><dl class='xr-attrs'></dl></div><div class='xr-var-data'><pre>array([[[[         nan],\n",
       "         [  0.        ]],\n",
       "\n",
       "        [[         nan],\n",
       "         [  0.        ]],\n",
       "\n",
       "        [[         nan],\n",
       "         [  0.        ]],\n",
       "\n",
       "        [[         nan],\n",
       "         [         nan]],\n",
       "\n",
       "        [[         nan],\n",
       "         [         nan]],\n",
       "\n",
       "        [[         nan],\n",
       "         [         nan]],\n",
       "\n",
       "        [[         nan],\n",
       "         [         nan]],\n",
       "...\n",
       "        [[         nan],\n",
       "         [         nan]],\n",
       "\n",
       "        [[         nan],\n",
       "         [         nan]],\n",
       "\n",
       "        [[  0.        ],\n",
       "         [         nan]],\n",
       "\n",
       "        [[ 20.59216851],\n",
       "         [         nan]],\n",
       "\n",
       "        [[         nan],\n",
       "         [ 25.17394083]],\n",
       "\n",
       "        [[         nan],\n",
       "         [         nan]],\n",
       "\n",
       "        [[         nan],\n",
       "         [         nan]]]])</pre></div></li><li class='xr-var-item'><div class='xr-var-name'><span>source_use</span></div><div class='xr-var-dims'>(nodes, techs, timesteps)</div><div class='xr-var-dtype'>float64</div><div class='xr-var-preview xr-preview'>nan nan nan nan ... nan 25.17 nan</div><input id='attrs-8057533f-0b81-4af3-b6a9-a9ec7ad3bb59' class='xr-var-attrs-in' type='checkbox' disabled><label for='attrs-8057533f-0b81-4af3-b6a9-a9ec7ad3bb59' title='Show/Hide attributes'><svg class='icon xr-icon-file-text2'><use xlink:href='#icon-file-text2'></use></svg></label><input id='data-4b02a547-9022-41de-93cc-cb8bd56008d5' class='xr-var-data-in' type='checkbox'><label for='data-4b02a547-9022-41de-93cc-cb8bd56008d5' title='Show/Hide data repr'><svg class='icon xr-icon-database'><use xlink:href='#icon-database'></use></svg></label><div class='xr-var-attrs'><dl class='xr-attrs'></dl></div><div class='xr-var-data'><pre>array([[[         nan],\n",
       "        [         nan],\n",
       "        [         nan],\n",
       "        [         nan],\n",
       "        [         nan],\n",
       "        [         nan],\n",
       "        [         nan],\n",
       "        [         nan],\n",
       "        [         nan]],\n",
       "\n",
       "       [[         nan],\n",
       "        [         nan],\n",
       "        [         nan],\n",
       "        [         nan],\n",
       "        [         nan],\n",
       "        [         nan],\n",
       "        [         nan],\n",
       "        [  4.34848582],\n",
       "        [125.5376868 ]],\n",
       "\n",
       "       [[         nan],\n",
       "        [         nan],\n",
       "        [         nan],\n",
       "        [         nan],\n",
       "        [         nan],\n",
       "        [         nan],\n",
       "        [         nan],\n",
       "        [128.2103003 ],\n",
       "        [         nan]],\n",
       "\n",
       "       [[         nan],\n",
       "        [         nan],\n",
       "        [         nan],\n",
       "        [         nan],\n",
       "        [         nan],\n",
       "        [         nan],\n",
       "        [         nan],\n",
       "        [ 25.17394083],\n",
       "        [         nan]]])</pre></div></li><li class='xr-var-item'><div class='xr-var-name'><span>source_cap</span></div><div class='xr-var-dims'>(nodes, techs)</div><div class='xr-var-dtype'>float64</div><div class='xr-var-preview xr-preview'>nan nan nan nan ... nan 25.17 nan</div><input id='attrs-b398a4aa-3034-4a9a-abeb-51a458dc2016' class='xr-var-attrs-in' type='checkbox' disabled><label for='attrs-b398a4aa-3034-4a9a-abeb-51a458dc2016' title='Show/Hide attributes'><svg class='icon xr-icon-file-text2'><use xlink:href='#icon-file-text2'></use></svg></label><input id='data-b2b45279-0f5f-469c-b2c5-5be84df04b82' class='xr-var-data-in' type='checkbox'><label for='data-b2b45279-0f5f-469c-b2c5-5be84df04b82' title='Show/Hide data repr'><svg class='icon xr-icon-database'><use xlink:href='#icon-database'></use></svg></label><div class='xr-var-attrs'><dl class='xr-attrs'></dl></div><div class='xr-var-data'><pre>array([[         nan,          nan,          nan,          nan,\n",
       "                 nan,          nan,          nan,          nan,\n",
       "                 nan],\n",
       "       [         nan,          nan,          nan,          nan,\n",
       "                 nan,          nan,          nan,   4.34848582,\n",
       "        125.5376868 ],\n",
       "       [         nan,          nan,          nan,          nan,\n",
       "                 nan,          nan,          nan, 128.2103003 ,\n",
       "                 nan],\n",
       "       [         nan,          nan,          nan,          nan,\n",
       "                 nan,          nan,          nan,  25.17394083,\n",
       "                 nan]])</pre></div></li><li class='xr-var-item'><div class='xr-var-name'><span>unmet_demand</span></div><div class='xr-var-dims'>(nodes, carriers, timesteps)</div><div class='xr-var-dtype'>float64</div><div class='xr-var-preview xr-preview'>nan 0.0 0.0 0.0 0.0 0.0 0.0 0.0</div><input id='attrs-2b05a17c-c5b3-4d01-b13d-266998cf9621' class='xr-var-attrs-in' type='checkbox' disabled><label for='attrs-2b05a17c-c5b3-4d01-b13d-266998cf9621' title='Show/Hide attributes'><svg class='icon xr-icon-file-text2'><use xlink:href='#icon-file-text2'></use></svg></label><input id='data-f4d25cc6-b748-4f90-8f23-e2194bcfb1d5' class='xr-var-data-in' type='checkbox'><label for='data-f4d25cc6-b748-4f90-8f23-e2194bcfb1d5' title='Show/Hide data repr'><svg class='icon xr-icon-database'><use xlink:href='#icon-database'></use></svg></label><div class='xr-var-attrs'><dl class='xr-attrs'></dl></div><div class='xr-var-data'><pre>array([[[nan],\n",
       "        [ 0.]],\n",
       "\n",
       "       [[ 0.],\n",
       "        [ 0.]],\n",
       "\n",
       "       [[ 0.],\n",
       "        [ 0.]],\n",
       "\n",
       "       [[ 0.],\n",
       "        [ 0.]]])</pre></div></li><li class='xr-var-item'><div class='xr-var-name'><span>unused_supply</span></div><div class='xr-var-dims'>(nodes, carriers, timesteps)</div><div class='xr-var-dtype'>float64</div><div class='xr-var-preview xr-preview'>nan 0.0 0.0 0.0 0.0 0.0 0.0 0.0</div><input id='attrs-187bfe56-fa7d-40b7-8073-92f3f95c8374' class='xr-var-attrs-in' type='checkbox' disabled><label for='attrs-187bfe56-fa7d-40b7-8073-92f3f95c8374' title='Show/Hide attributes'><svg class='icon xr-icon-file-text2'><use xlink:href='#icon-file-text2'></use></svg></label><input id='data-99dea1bb-b882-42b5-a43a-2e377f18bbe1' class='xr-var-data-in' type='checkbox'><label for='data-99dea1bb-b882-42b5-a43a-2e377f18bbe1' title='Show/Hide data repr'><svg class='icon xr-icon-database'><use xlink:href='#icon-database'></use></svg></label><div class='xr-var-attrs'><dl class='xr-attrs'></dl></div><div class='xr-var-data'><pre>array([[[nan],\n",
       "        [ 0.]],\n",
       "\n",
       "       [[ 0.],\n",
       "        [ 0.]],\n",
       "\n",
       "       [[ 0.],\n",
       "        [ 0.]],\n",
       "\n",
       "       [[ 0.],\n",
       "        [ 0.]]])</pre></div></li><li class='xr-var-item'><div class='xr-var-name'><span>flow_out_inc_eff</span></div><div class='xr-var-dims'>(nodes, techs, carriers, timesteps)</div><div class='xr-var-dtype'>float64</div><div class='xr-var-preview xr-preview'>nan 0.0 nan 0.0 ... 25.17 nan nan</div><input id='attrs-3804cee5-4c25-4f16-87b2-6b699a6b4176' class='xr-var-attrs-in' type='checkbox' disabled><label for='attrs-3804cee5-4c25-4f16-87b2-6b699a6b4176' title='Show/Hide attributes'><svg class='icon xr-icon-file-text2'><use xlink:href='#icon-file-text2'></use></svg></label><input id='data-b682ad32-a70d-484c-a5e4-7cc3b3289feb' class='xr-var-data-in' type='checkbox'><label for='data-b682ad32-a70d-484c-a5e4-7cc3b3289feb' title='Show/Hide data repr'><svg class='icon xr-icon-database'><use xlink:href='#icon-database'></use></svg></label><div class='xr-var-attrs'><dl class='xr-attrs'></dl></div><div class='xr-var-data'><pre>array([[[[         nan],\n",
       "         [  0.        ]],\n",
       "\n",
       "        [[         nan],\n",
       "         [  0.        ]],\n",
       "\n",
       "        [[         nan],\n",
       "         [  0.        ]],\n",
       "\n",
       "        [[         nan],\n",
       "         [         nan]],\n",
       "\n",
       "        [[         nan],\n",
       "         [         nan]],\n",
       "\n",
       "        [[         nan],\n",
       "         [         nan]],\n",
       "\n",
       "        [[         nan],\n",
       "         [         nan]],\n",
       "...\n",
       "        [[         nan],\n",
       "         [         nan]],\n",
       "\n",
       "        [[         nan],\n",
       "         [         nan]],\n",
       "\n",
       "        [[ 21.01241685],\n",
       "         [         nan]],\n",
       "\n",
       "        [[         nan],\n",
       "         [         nan]],\n",
       "\n",
       "        [[         nan],\n",
       "         [         nan]],\n",
       "\n",
       "        [[         nan],\n",
       "         [ 25.17394083]],\n",
       "\n",
       "        [[         nan],\n",
       "         [         nan]]]])</pre></div></li><li class='xr-var-item'><div class='xr-var-name'><span>flow_in_inc_eff</span></div><div class='xr-var-dims'>(nodes, techs, carriers, timesteps)</div><div class='xr-var-dtype'>float64</div><div class='xr-var-preview xr-preview'>nan 0.0 nan 0.0 ... nan nan nan nan</div><input id='attrs-79bca06f-c149-42ad-ad99-b4e645d8fcd6' class='xr-var-attrs-in' type='checkbox' disabled><label for='attrs-79bca06f-c149-42ad-ad99-b4e645d8fcd6' title='Show/Hide attributes'><svg class='icon xr-icon-file-text2'><use xlink:href='#icon-file-text2'></use></svg></label><input id='data-160e2d17-c6c8-4a82-ae83-7d3ff8252289' class='xr-var-data-in' type='checkbox'><label for='data-160e2d17-c6c8-4a82-ae83-7d3ff8252289' title='Show/Hide data repr'><svg class='icon xr-icon-database'><use xlink:href='#icon-database'></use></svg></label><div class='xr-var-attrs'><dl class='xr-attrs'></dl></div><div class='xr-var-data'><pre>array([[[[         nan],\n",
       "         [  0.        ]],\n",
       "\n",
       "        [[         nan],\n",
       "         [  0.        ]],\n",
       "\n",
       "        [[         nan],\n",
       "         [  0.        ]],\n",
       "\n",
       "        [[         nan],\n",
       "         [         nan]],\n",
       "\n",
       "        [[         nan],\n",
       "         [         nan]],\n",
       "\n",
       "        [[         nan],\n",
       "         [         nan]],\n",
       "\n",
       "        [[         nan],\n",
       "         [         nan]],\n",
       "...\n",
       "        [[         nan],\n",
       "         [         nan]],\n",
       "\n",
       "        [[         nan],\n",
       "         [         nan]],\n",
       "\n",
       "        [[  0.        ],\n",
       "         [         nan]],\n",
       "\n",
       "        [[ 20.59216851],\n",
       "         [         nan]],\n",
       "\n",
       "        [[         nan],\n",
       "         [ 25.17394083]],\n",
       "\n",
       "        [[         nan],\n",
       "         [         nan]],\n",
       "\n",
       "        [[         nan],\n",
       "         [         nan]]]])</pre></div></li><li class='xr-var-item'><div class='xr-var-name'><span>cost_operation_variable</span></div><div class='xr-var-dims'>(nodes, techs, costs, timesteps)</div><div class='xr-var-dtype'>float64</div><div class='xr-var-preview xr-preview'>nan nan nan nan ... nan nan nan nan</div><input id='attrs-ee482538-4386-4af3-ade3-6e2cbb84eaae' class='xr-var-attrs-in' type='checkbox' disabled><label for='attrs-ee482538-4386-4af3-ade3-6e2cbb84eaae' title='Show/Hide attributes'><svg class='icon xr-icon-file-text2'><use xlink:href='#icon-file-text2'></use></svg></label><input id='data-bed3c849-80e1-465c-88e6-c255f3cf27fb' class='xr-var-data-in' type='checkbox'><label for='data-bed3c849-80e1-465c-88e6-c255f3cf27fb' title='Show/Hide data repr'><svg class='icon xr-icon-database'><use xlink:href='#icon-database'></use></svg></label><div class='xr-var-attrs'><dl class='xr-attrs'></dl></div><div class='xr-var-data'><pre>array([[[[        nan]],\n",
       "\n",
       "        [[        nan]],\n",
       "\n",
       "        [[        nan]],\n",
       "\n",
       "        [[        nan]],\n",
       "\n",
       "        [[        nan]],\n",
       "\n",
       "        [[        nan]],\n",
       "\n",
       "        [[        nan]],\n",
       "\n",
       "        [[        nan]],\n",
       "\n",
       "        [[        nan]]],\n",
       "\n",
       "\n",
       "       [[[        nan]],\n",
       "...\n",
       "        [[        nan]]],\n",
       "\n",
       "\n",
       "       [[[        nan]],\n",
       "\n",
       "        [[        nan]],\n",
       "\n",
       "        [[        nan]],\n",
       "\n",
       "        [[        nan]],\n",
       "\n",
       "        [[        nan]],\n",
       "\n",
       "        [[        nan]],\n",
       "\n",
       "        [[        nan]],\n",
       "\n",
       "        [[        nan]],\n",
       "\n",
       "        [[        nan]]]])</pre></div></li><li class='xr-var-item'><div class='xr-var-name'><span>cost_investment_flow_cap</span></div><div class='xr-var-dims'>(nodes, techs, carriers, costs)</div><div class='xr-var-dtype'>float64</div><div class='xr-var-preview xr-preview'>nan 0.0 nan 0.0 ... 25.17 nan nan</div><input id='attrs-0b3f8c22-8c4c-4c3b-8588-d14f8f1776ca' class='xr-var-attrs-in' type='checkbox' disabled><label for='attrs-0b3f8c22-8c4c-4c3b-8588-d14f8f1776ca' title='Show/Hide attributes'><svg class='icon xr-icon-file-text2'><use xlink:href='#icon-file-text2'></use></svg></label><input id='data-85c8205c-da40-4e2b-a860-98b2506d7e2d' class='xr-var-data-in' type='checkbox'><label for='data-85c8205c-da40-4e2b-a860-98b2506d7e2d' title='Show/Hide data repr'><svg class='icon xr-icon-database'><use xlink:href='#icon-database'></use></svg></label><div class='xr-var-attrs'><dl class='xr-attrs'></dl></div><div class='xr-var-data'><pre>array([[[[           nan],\n",
       "         [0.00000000e+00]],\n",
       "\n",
       "        [[           nan],\n",
       "         [0.00000000e+00]],\n",
       "\n",
       "        [[           nan],\n",
       "         [0.00000000e+00]],\n",
       "\n",
       "        [[           nan],\n",
       "         [           nan]],\n",
       "\n",
       "        [[           nan],\n",
       "         [           nan]],\n",
       "\n",
       "        [[           nan],\n",
       "         [           nan]],\n",
       "\n",
       "        [[           nan],\n",
       "         [           nan]],\n",
       "...\n",
       "        [[           nan],\n",
       "         [           nan]],\n",
       "\n",
       "        [[           nan],\n",
       "         [           nan]],\n",
       "\n",
       "        [[6.04852212e-02],\n",
       "         [           nan]],\n",
       "\n",
       "        [[           nan],\n",
       "         [           nan]],\n",
       "\n",
       "        [[           nan],\n",
       "         [           nan]],\n",
       "\n",
       "        [[           nan],\n",
       "         [2.51739408e+01]],\n",
       "\n",
       "        [[           nan],\n",
       "         [           nan]]]])</pre></div></li><li class='xr-var-item'><div class='xr-var-name'><span>cost_investment</span></div><div class='xr-var-dims'>(nodes, techs, costs)</div><div class='xr-var-dtype'>float64</div><div class='xr-var-preview xr-preview'>0.0 0.0 0.0 nan ... nan 25.17 nan</div><input id='attrs-13fc2168-b955-45ba-8e6f-81784c9c0cd6' class='xr-var-attrs-in' type='checkbox' disabled><label for='attrs-13fc2168-b955-45ba-8e6f-81784c9c0cd6' title='Show/Hide attributes'><svg class='icon xr-icon-file-text2'><use xlink:href='#icon-file-text2'></use></svg></label><input id='data-5283a18f-dbd0-415e-81d9-2c8089ae099a' class='xr-var-data-in' type='checkbox'><label for='data-5283a18f-dbd0-415e-81d9-2c8089ae099a' title='Show/Hide data repr'><svg class='icon xr-icon-database'><use xlink:href='#icon-database'></use></svg></label><div class='xr-var-attrs'><dl class='xr-attrs'></dl></div><div class='xr-var-data'><pre>array([[[0.00000000e+00],\n",
       "        [0.00000000e+00],\n",
       "        [0.00000000e+00],\n",
       "        [           nan],\n",
       "        [           nan],\n",
       "        [           nan],\n",
       "        [           nan],\n",
       "        [           nan],\n",
       "        [           nan]],\n",
       "\n",
       "       [[           nan],\n",
       "        [           nan],\n",
       "        [0.00000000e+00],\n",
       "        [1.82723211e-01],\n",
       "        [6.04852212e-02],\n",
       "        [           nan],\n",
       "        [           nan],\n",
       "        [4.34848582e+00],\n",
       "        [1.25537687e+04]],\n",
       "\n",
       "       [[0.00000000e+00],\n",
       "        [           nan],\n",
       "        [           nan],\n",
       "        [1.82723211e-01],\n",
       "        [           nan],\n",
       "        [           nan],\n",
       "        [           nan],\n",
       "        [1.28210300e+02],\n",
       "        [           nan]],\n",
       "\n",
       "       [[           nan],\n",
       "        [0.00000000e+00],\n",
       "        [           nan],\n",
       "        [           nan],\n",
       "        [6.04852212e-02],\n",
       "        [           nan],\n",
       "        [           nan],\n",
       "        [2.51739408e+01],\n",
       "        [           nan]]])</pre></div></li><li class='xr-var-item'><div class='xr-var-name'><span>cost_investment_annualised</span></div><div class='xr-var-dims'>(nodes, techs, costs)</div><div class='xr-var-dtype'>float64</div><div class='xr-var-preview xr-preview'>0.0 0.0 0.0 ... nan 0.0003166 nan</div><input id='attrs-89a9aac9-5d46-4db6-8e71-a2d0c4e0c06d' class='xr-var-attrs-in' type='checkbox' disabled><label for='attrs-89a9aac9-5d46-4db6-8e71-a2d0c4e0c06d' title='Show/Hide attributes'><svg class='icon xr-icon-file-text2'><use xlink:href='#icon-file-text2'></use></svg></label><input id='data-2224770e-ac18-4a92-b0ed-0097e2614506' class='xr-var-data-in' type='checkbox'><label for='data-2224770e-ac18-4a92-b0ed-0097e2614506' title='Show/Hide data repr'><svg class='icon xr-icon-database'><use xlink:href='#icon-database'></use></svg></label><div class='xr-var-attrs'><dl class='xr-attrs'></dl></div><div class='xr-var-data'><pre>array([[[0.00000000e+00],\n",
       "        [0.00000000e+00],\n",
       "        [0.00000000e+00],\n",
       "        [           nan],\n",
       "        [           nan],\n",
       "        [           nan],\n",
       "        [           nan],\n",
       "        [           nan],\n",
       "        [           nan]],\n",
       "\n",
       "       [[           nan],\n",
       "        [           nan],\n",
       "        [0.00000000e+00],\n",
       "        [2.29797534e-06],\n",
       "        [7.60678106e-07],\n",
       "        [           nan],\n",
       "        [           nan],\n",
       "        [5.46877055e-05],\n",
       "        [1.57879508e-01]],\n",
       "\n",
       "       [[0.00000000e+00],\n",
       "        [           nan],\n",
       "        [           nan],\n",
       "        [2.29797534e-06],\n",
       "        [           nan],\n",
       "        [           nan],\n",
       "        [           nan],\n",
       "        [1.61240658e-03],\n",
       "        [           nan]],\n",
       "\n",
       "       [[           nan],\n",
       "        [0.00000000e+00],\n",
       "        [           nan],\n",
       "        [           nan],\n",
       "        [7.60678106e-07],\n",
       "        [           nan],\n",
       "        [           nan],\n",
       "        [3.16594125e-04],\n",
       "        [           nan]]])</pre></div></li><li class='xr-var-item'><div class='xr-var-name'><span>cost</span></div><div class='xr-var-dims'>(nodes, techs, costs)</div><div class='xr-var-dtype'>float64</div><div class='xr-var-preview xr-preview'>0.0 0.0 0.0 ... nan 0.0003166 nan</div><input id='attrs-195e35e5-5f77-4acc-97e2-ad49c3386f2a' class='xr-var-attrs-in' type='checkbox' disabled><label for='attrs-195e35e5-5f77-4acc-97e2-ad49c3386f2a' title='Show/Hide attributes'><svg class='icon xr-icon-file-text2'><use xlink:href='#icon-file-text2'></use></svg></label><input id='data-94a20e8d-6f13-4224-939f-b1f3bc2d3346' class='xr-var-data-in' type='checkbox'><label for='data-94a20e8d-6f13-4224-939f-b1f3bc2d3346' title='Show/Hide data repr'><svg class='icon xr-icon-database'><use xlink:href='#icon-database'></use></svg></label><div class='xr-var-attrs'><dl class='xr-attrs'></dl></div><div class='xr-var-data'><pre>array([[[0.00000000e+00],\n",
       "        [0.00000000e+00],\n",
       "        [0.00000000e+00],\n",
       "        [           nan],\n",
       "        [           nan],\n",
       "        [           nan],\n",
       "        [           nan],\n",
       "        [           nan],\n",
       "        [           nan]],\n",
       "\n",
       "       [[           nan],\n",
       "        [           nan],\n",
       "        [0.00000000e+00],\n",
       "        [2.29797534e-06],\n",
       "        [7.60678106e-07],\n",
       "        [           nan],\n",
       "        [           nan],\n",
       "        [5.46877055e-05],\n",
       "        [1.27116482e+01]],\n",
       "\n",
       "       [[0.00000000e+00],\n",
       "        [           nan],\n",
       "        [           nan],\n",
       "        [2.29797534e-06],\n",
       "        [           nan],\n",
       "        [           nan],\n",
       "        [           nan],\n",
       "        [1.61240658e-03],\n",
       "        [           nan]],\n",
       "\n",
       "       [[           nan],\n",
       "        [0.00000000e+00],\n",
       "        [           nan],\n",
       "        [           nan],\n",
       "        [7.60678106e-07],\n",
       "        [           nan],\n",
       "        [           nan],\n",
       "        [3.16594125e-04],\n",
       "        [           nan]]])</pre></div></li><li class='xr-var-item'><div class='xr-var-name'><span>min_cost_optimisation</span></div><div class='xr-var-dims'>()</div><div class='xr-var-dtype'>float64</div><div class='xr-var-preview xr-preview'>12.71</div><input id='attrs-a19914c4-5797-4005-8fde-3fa028537b50' class='xr-var-attrs-in' type='checkbox' disabled><label for='attrs-a19914c4-5797-4005-8fde-3fa028537b50' title='Show/Hide attributes'><svg class='icon xr-icon-file-text2'><use xlink:href='#icon-file-text2'></use></svg></label><input id='data-496c4112-7edb-4b08-a127-d612212b89a2' class='xr-var-data-in' type='checkbox'><label for='data-496c4112-7edb-4b08-a127-d612212b89a2' title='Show/Hide data repr'><svg class='icon xr-icon-database'><use xlink:href='#icon-database'></use></svg></label><div class='xr-var-attrs'><dl class='xr-attrs'></dl></div><div class='xr-var-data'><pre>array(12.71363799)</pre></div></li><li class='xr-var-item'><div class='xr-var-name'><span>capacity_factor</span></div><div class='xr-var-dims'>(nodes, techs, carriers, timesteps)</div><div class='xr-var-dtype'>float64</div><div class='xr-var-preview xr-preview'>nan nan nan nan ... nan 1.0 nan nan</div><input id='attrs-cdb2dc27-f8bf-4a71-a9fa-4ab624730053' class='xr-var-attrs-in' type='checkbox' disabled><label for='attrs-cdb2dc27-f8bf-4a71-a9fa-4ab624730053' title='Show/Hide attributes'><svg class='icon xr-icon-file-text2'><use xlink:href='#icon-file-text2'></use></svg></label><input id='data-4bc358ff-c5ed-4ed8-893b-091b691f88ca' class='xr-var-data-in' type='checkbox'><label for='data-4bc358ff-c5ed-4ed8-893b-091b691f88ca' title='Show/Hide data repr'><svg class='icon xr-icon-database'><use xlink:href='#icon-database'></use></svg></label><div class='xr-var-attrs'><dl class='xr-attrs'></dl></div><div class='xr-var-data'><pre>array([[[[ nan],\n",
       "         [ nan]],\n",
       "\n",
       "        [[ nan],\n",
       "         [ nan]],\n",
       "\n",
       "        [[ nan],\n",
       "         [ nan]],\n",
       "\n",
       "        [[ nan],\n",
       "         [ nan]],\n",
       "\n",
       "        [[ nan],\n",
       "         [ nan]],\n",
       "\n",
       "        [[ nan],\n",
       "         [ nan]],\n",
       "\n",
       "        [[ nan],\n",
       "         [ nan]],\n",
       "...\n",
       "        [[ nan],\n",
       "         [ nan]],\n",
       "\n",
       "        [[ nan],\n",
       "         [ nan]],\n",
       "\n",
       "        [[0.98],\n",
       "         [ nan]],\n",
       "\n",
       "        [[ nan],\n",
       "         [ nan]],\n",
       "\n",
       "        [[ nan],\n",
       "         [ nan]],\n",
       "\n",
       "        [[ nan],\n",
       "         [1.  ]],\n",
       "\n",
       "        [[ nan],\n",
       "         [ nan]]]])</pre></div></li><li class='xr-var-item'><div class='xr-var-name'><span>systemwide_capacity_factor</span></div><div class='xr-var-dims'>(techs, carriers)</div><div class='xr-var-dtype'>float64</div><div class='xr-var-preview xr-preview'>0.0 0.0 0.0 0.0 ... 0.0 1.0 1.0 0.0</div><input id='attrs-5f8c86d3-5969-4d8e-ae76-d22331aa3afd' class='xr-var-attrs-in' type='checkbox' disabled><label for='attrs-5f8c86d3-5969-4d8e-ae76-d22331aa3afd' title='Show/Hide attributes'><svg class='icon xr-icon-file-text2'><use xlink:href='#icon-file-text2'></use></svg></label><input id='data-4561540d-3a05-43bb-bba3-706a83578d9d' class='xr-var-data-in' type='checkbox'><label for='data-4561540d-3a05-43bb-bba3-706a83578d9d' title='Show/Hide data repr'><svg class='icon xr-icon-database'><use xlink:href='#icon-database'></use></svg></label><div class='xr-var-attrs'><dl class='xr-attrs'></dl></div><div class='xr-var-data'><pre>array([[0.  , 0.  ],\n",
       "       [0.  , 0.  ],\n",
       "       [0.  , 0.  ],\n",
       "       [0.49, 0.  ],\n",
       "       [0.49, 0.  ],\n",
       "       [0.  , 0.  ],\n",
       "       [0.  , 0.  ],\n",
       "       [0.  , 1.  ],\n",
       "       [1.  , 0.  ]])</pre></div></li><li class='xr-var-item'><div class='xr-var-name'><span>systemwide_levelised_cost</span></div><div class='xr-var-dims'>(techs, costs, carriers)</div><div class='xr-var-dtype'>float64</div><div class='xr-var-preview xr-preview'>nan nan nan ... 0.1013 nan</div><input id='attrs-5a31101f-3db3-42c2-a847-d2d868adfe23' class='xr-var-attrs-in' type='checkbox' disabled><label for='attrs-5a31101f-3db3-42c2-a847-d2d868adfe23' title='Show/Hide attributes'><svg class='icon xr-icon-file-text2'><use xlink:href='#icon-file-text2'></use></svg></label><input id='data-bf168aad-0791-44e9-829d-351f6b108cee' class='xr-var-data-in' type='checkbox'><label for='data-bf168aad-0791-44e9-829d-351f6b108cee' title='Show/Hide data repr'><svg class='icon xr-icon-database'><use xlink:href='#icon-database'></use></svg></label><div class='xr-var-attrs'><dl class='xr-attrs'></dl></div><div class='xr-var-data'><pre>array([[[           nan,            nan]],\n",
       "\n",
       "       [[           nan,            nan]],\n",
       "\n",
       "       [[           nan,            nan]],\n",
       "\n",
       "       [[4.51425107e-08,            nan]],\n",
       "\n",
       "       [[7.38803304e-08,            nan]],\n",
       "\n",
       "       [[           nan,            nan]],\n",
       "\n",
       "       [[           nan,            nan]],\n",
       "\n",
       "       [[           nan, 1.25762639e-05]],\n",
       "\n",
       "       [[1.01257626e-01,            nan]]])</pre></div></li><li class='xr-var-item'><div class='xr-var-name'><span>total_levelised_cost</span></div><div class='xr-var-dims'>(costs, carriers)</div><div class='xr-var-dtype'>float64</div><div class='xr-var-preview xr-preview'>0.1013 0.0806</div><input id='attrs-b0057ea3-08ed-48aa-b18c-139aa32df5e5' class='xr-var-attrs-in' type='checkbox' disabled><label for='attrs-b0057ea3-08ed-48aa-b18c-139aa32df5e5' title='Show/Hide attributes'><svg class='icon xr-icon-file-text2'><use xlink:href='#icon-file-text2'></use></svg></label><input id='data-0e87fb39-c060-454e-a703-11a8137b217b' class='xr-var-data-in' type='checkbox'><label for='data-0e87fb39-c060-454e-a703-11a8137b217b' title='Show/Hide data repr'><svg class='icon xr-icon-database'><use xlink:href='#icon-database'></use></svg></label><div class='xr-var-attrs'><dl class='xr-attrs'></dl></div><div class='xr-var-data'><pre>array([[0.10127348, 0.08060241]])</pre></div></li><li class='xr-var-item'><div class='xr-var-name'><span>unmet_sum</span></div><div class='xr-var-dims'>(nodes, carriers, timesteps)</div><div class='xr-var-dtype'>float64</div><div class='xr-var-preview xr-preview'>nan 0.0 0.0 0.0 0.0 0.0 0.0 0.0</div><input id='attrs-797c4b24-d6dd-4ea3-a56a-87050561acdd' class='xr-var-attrs-in' type='checkbox' disabled><label for='attrs-797c4b24-d6dd-4ea3-a56a-87050561acdd' title='Show/Hide attributes'><svg class='icon xr-icon-file-text2'><use xlink:href='#icon-file-text2'></use></svg></label><input id='data-036efeb7-98bb-4b33-aa1c-b49143773817' class='xr-var-data-in' type='checkbox'><label for='data-036efeb7-98bb-4b33-aa1c-b49143773817' title='Show/Hide data repr'><svg class='icon xr-icon-database'><use xlink:href='#icon-database'></use></svg></label><div class='xr-var-attrs'><dl class='xr-attrs'></dl></div><div class='xr-var-data'><pre>array([[[nan],\n",
       "        [ 0.]],\n",
       "\n",
       "       [[ 0.],\n",
       "        [ 0.]],\n",
       "\n",
       "       [[ 0.],\n",
       "        [ 0.]],\n",
       "\n",
       "       [[ 0.],\n",
       "        [ 0.]]])</pre></div></li></ul></div></li><li class='xr-section-item'><input id='section-f3628cc2-ecf5-43af-b073-d06585cd5138' class='xr-section-summary-in' type='checkbox'  ><label for='section-f3628cc2-ecf5-43af-b073-d06585cd5138' class='xr-section-summary' >Indexes: <span>(5)</span></label><div class='xr-section-inline-details'></div><div class='xr-section-details'><ul class='xr-var-list'><li class='xr-var-item'><div class='xr-index-name'><div>techs</div></div><div class='xr-index-preview'>PandasIndex</div><div></div><input id='index-ba0ef39b-24a6-47b7-82a9-8537944f7afd' class='xr-index-data-in' type='checkbox'/><label for='index-ba0ef39b-24a6-47b7-82a9-8537944f7afd' title='Show/Hide index repr'><svg class='icon xr-icon-database'><use xlink:href='#icon-database'></use></svg></label><div class='xr-index-data'><pre>PandasIndex(Index([&#x27;N1_to_X2&#x27;, &#x27;N1_to_X3&#x27;, &#x27;X1_to_N1&#x27;, &#x27;X1_to_X2&#x27;, &#x27;X1_to_X3&#x27;,\n",
       "       &#x27;demand_electricity&#x27;, &#x27;demand_heat&#x27;, &#x27;supply_geothermal&#x27;,\n",
       "       &#x27;supply_grid_power&#x27;],\n",
       "      dtype=&#x27;object&#x27;, name=&#x27;techs&#x27;))</pre></div></li><li class='xr-var-item'><div class='xr-index-name'><div>nodes</div></div><div class='xr-index-preview'>PandasIndex</div><div></div><input id='index-ad3955e2-ac3e-4c07-b518-5625bedcb7ce' class='xr-index-data-in' type='checkbox'/><label for='index-ad3955e2-ac3e-4c07-b518-5625bedcb7ce' title='Show/Hide index repr'><svg class='icon xr-icon-database'><use xlink:href='#icon-database'></use></svg></label><div class='xr-index-data'><pre>PandasIndex(Index([&#x27;N1&#x27;, &#x27;X1&#x27;, &#x27;X2&#x27;, &#x27;X3&#x27;], dtype=&#x27;object&#x27;, name=&#x27;nodes&#x27;))</pre></div></li><li class='xr-var-item'><div class='xr-index-name'><div>carriers</div></div><div class='xr-index-preview'>PandasIndex</div><div></div><input id='index-7260b3ce-5430-4b2c-b2f4-b573fcad7c5f' class='xr-index-data-in' type='checkbox'/><label for='index-7260b3ce-5430-4b2c-b2f4-b573fcad7c5f' title='Show/Hide index repr'><svg class='icon xr-icon-database'><use xlink:href='#icon-database'></use></svg></label><div class='xr-index-data'><pre>PandasIndex(Index([&#x27;electricity&#x27;, &#x27;heat&#x27;], dtype=&#x27;object&#x27;, name=&#x27;carriers&#x27;))</pre></div></li><li class='xr-var-item'><div class='xr-index-name'><div>timesteps</div></div><div class='xr-index-preview'>PandasIndex</div><div></div><input id='index-27d8e577-e86f-4bf5-aee4-abc4b59151db' class='xr-index-data-in' type='checkbox'/><label for='index-27d8e577-e86f-4bf5-aee4-abc4b59151db' title='Show/Hide index repr'><svg class='icon xr-icon-database'><use xlink:href='#icon-database'></use></svg></label><div class='xr-index-data'><pre>PandasIndex(DatetimeIndex([&#x27;2050-01-01&#x27;], dtype=&#x27;datetime64[ns]&#x27;, name=&#x27;timesteps&#x27;, freq=None))</pre></div></li><li class='xr-var-item'><div class='xr-index-name'><div>costs</div></div><div class='xr-index-preview'>PandasIndex</div><div></div><input id='index-b1e589e8-e3e3-4ce4-ad4b-2172484298bf' class='xr-index-data-in' type='checkbox'/><label for='index-b1e589e8-e3e3-4ce4-ad4b-2172484298bf' title='Show/Hide index repr'><svg class='icon xr-icon-database'><use xlink:href='#icon-database'></use></svg></label><div class='xr-index-data'><pre>PandasIndex(Index([&#x27;monetary&#x27;], dtype=&#x27;object&#x27;, name=&#x27;costs&#x27;))</pre></div></li></ul></div></li><li class='xr-section-item'><input id='section-b7caaf97-1985-4dea-b6f8-2cd0dafc0823' class='xr-section-summary-in' type='checkbox' disabled ><label for='section-b7caaf97-1985-4dea-b6f8-2cd0dafc0823' class='xr-section-summary'  title='Expand/collapse section'>Attributes: <span>(0)</span></label><div class='xr-section-inline-details'></div><div class='xr-section-details'><dl class='xr-attrs'></dl></div></li></ul></div></div>"
      ],
      "text/plain": [
       "<xarray.Dataset> Size: 6kB\n",
       "Dimensions:                     (nodes: 4, techs: 9, carriers: 2, timesteps: 1,\n",
       "                                 costs: 1)\n",
       "Coordinates:\n",
       "  * techs                       (techs) object 72B 'N1_to_X2' ... 'supply_gri...\n",
       "  * nodes                       (nodes) object 32B 'N1' 'X1' 'X2' 'X3'\n",
       "  * carriers                    (carriers) object 16B 'electricity' 'heat'\n",
       "  * timesteps                   (timesteps) datetime64[ns] 8B 2050-01-01\n",
       "  * costs                       (costs) object 8B 'monetary'\n",
       "Data variables: (12/21)\n",
       "    flow_cap                    (nodes, techs, carriers) float64 576B nan ......\n",
       "    link_flow_cap               (techs) float64 72B 0.0 0.0 0.0 ... nan nan nan\n",
       "    flow_out                    (nodes, techs, carriers, timesteps) float64 576B ...\n",
       "    flow_in                     (nodes, techs, carriers, timesteps) float64 576B ...\n",
       "    source_use                  (nodes, techs, timesteps) float64 288B nan .....\n",
       "    source_cap                  (nodes, techs) float64 288B nan nan ... nan\n",
       "    ...                          ...\n",
       "    min_cost_optimisation       float64 8B 12.71\n",
       "    capacity_factor             (nodes, techs, carriers, timesteps) float64 576B ...\n",
       "    systemwide_capacity_factor  (techs, carriers) float64 144B 0.0 0.0 ... 0.0\n",
       "    systemwide_levelised_cost   (techs, costs, carriers) float64 144B nan ......\n",
       "    total_levelised_cost        (costs, carriers) float64 16B 0.1013 0.0806\n",
       "    unmet_sum                   (nodes, carriers, timesteps) float64 64B nan ..."
      ]
     },
     "execution_count": 6,
     "metadata": {},
     "output_type": "execute_result"
    }
   ],
   "source": [
    "model.results"
   ]
  },
  {
   "cell_type": "code",
   "execution_count": 7,
   "id": "8dfe29ad",
   "metadata": {},
   "outputs": [
    {
     "data": {
      "text/html": [
       "<div>\n",
       "<style scoped>\n",
       "    .dataframe tbody tr th:only-of-type {\n",
       "        vertical-align: middle;\n",
       "    }\n",
       "\n",
       "    .dataframe tbody tr th {\n",
       "        vertical-align: top;\n",
       "    }\n",
       "\n",
       "    .dataframe thead th {\n",
       "        text-align: right;\n",
       "    }\n",
       "</style>\n",
       "<table border=\"1\" class=\"dataframe\">\n",
       "  <thead>\n",
       "    <tr style=\"text-align: right;\">\n",
       "      <th>techs</th>\n",
       "      <th>N1_to_X2</th>\n",
       "      <th>N1_to_X3</th>\n",
       "      <th>X1_to_N1</th>\n",
       "      <th>supply_geothermal</th>\n",
       "    </tr>\n",
       "    <tr>\n",
       "      <th>timesteps</th>\n",
       "      <th></th>\n",
       "      <th></th>\n",
       "      <th></th>\n",
       "      <th></th>\n",
       "    </tr>\n",
       "  </thead>\n",
       "  <tbody>\n",
       "    <tr>\n",
       "      <th>2050-01-01</th>\n",
       "      <td>0.0</td>\n",
       "      <td>0.0</td>\n",
       "      <td>0.0</td>\n",
       "      <td>157.732727</td>\n",
       "    </tr>\n",
       "  </tbody>\n",
       "</table>\n",
       "</div>"
      ],
      "text/plain": [
       "techs       N1_to_X2  N1_to_X3  X1_to_N1  supply_geothermal\n",
       "timesteps                                                  \n",
       "2050-01-01       0.0       0.0       0.0         157.732727"
      ]
     },
     "execution_count": 7,
     "metadata": {},
     "output_type": "execute_result"
    }
   ],
   "source": [
    "df_heat = (\n",
    "    model.results.flow_out.sel(carriers=\"heat\")\n",
    "    .sum(\"nodes\", min_count=1, skipna=True)\n",
    "    .to_series()\n",
    "    .dropna()\n",
    "    .unstack(\"techs\")\n",
    ")\n",
    "\n",
    "df_heat.head()"
   ]
  },
  {
   "cell_type": "code",
   "execution_count": 8,
   "id": "476767d1",
   "metadata": {},
   "outputs": [
    {
     "data": {
      "text/plain": [
       "nodes  techs     costs   \n",
       "N1     N1_to_X2  monetary    0.000000\n",
       "       N1_to_X3  monetary    0.000000\n",
       "       X1_to_N1  monetary    0.000000\n",
       "X1     X1_to_N1  monetary    0.000000\n",
       "       X1_to_X2  monetary    0.000002\n",
       "Name: cost, dtype: float64"
      ]
     },
     "execution_count": 8,
     "metadata": {},
     "output_type": "execute_result"
    }
   ],
   "source": [
    "costs = model.results.cost.to_series().dropna()\n",
    "costs.head()"
   ]
  },
  {
   "cell_type": "code",
   "execution_count": 9,
   "id": "6bc89a87",
   "metadata": {},
   "outputs": [
    {
     "data": {
      "text/plain": [
       "techs              costs   \n",
       "X1_to_X2           monetary    4.514251e-08\n",
       "X1_to_X3           monetary    7.388033e-08\n",
       "supply_grid_power  monetary    1.012576e-01\n",
       "Name: systemwide_levelised_cost, dtype: float64"
      ]
     },
     "execution_count": 9,
     "metadata": {},
     "output_type": "execute_result"
    }
   ],
   "source": [
    "lcoes = (\n",
    "    model.results.systemwide_levelised_cost.sel(carriers=\"electricity\")\n",
    "    .to_series()\n",
    "    .dropna()\n",
    ")\n",
    "lcoes.head()"
   ]
  },
  {
   "cell_type": "code",
   "execution_count": 10,
   "id": "799372f7",
   "metadata": {},
   "outputs": [
    {
     "name": "stdout",
     "output_type": "stream",
     "text": [
      "                techs  timesteps  Flow in/out (kWh)\n",
      "0            X1_to_X2 2050-01-01          -2.077751\n",
      "1            X1_to_X3 2050-01-01          -0.420248\n",
      "2  demand_electricity 2050-01-01        -123.039687\n",
      "3   supply_grid_power 2050-01-01         125.537687\n"
     ]
    },
    {
     "data": {
      "application/vnd.plotly.v1+json": {
       "config": {
        "plotlyServerURL": "https://plot.ly"
       },
       "data": [
        {
         "hovertemplate": "techs=X1_to_X2<br>timesteps=%{x}<br>Flow in/out (kWh)=%{y}<extra></extra>",
         "legendgroup": "X1_to_X2",
         "marker": {
          "color": "#6783E3",
          "pattern": {
           "shape": ""
          }
         },
         "name": "X1_to_X2",
         "orientation": "v",
         "showlegend": true,
         "textposition": "auto",
         "type": "bar",
         "x": [
          "2050-01-01T00:00:00.000000000"
         ],
         "xaxis": "x",
         "y": {
          "bdata": "oHqrFjyfAMA=",
          "dtype": "f8"
         },
         "yaxis": "y"
        },
        {
         "hovertemplate": "techs=X1_to_X3<br>timesteps=%{x}<br>Flow in/out (kWh)=%{y}<extra></extra>",
         "legendgroup": "X1_to_X3",
         "marker": {
          "color": "#6783E3",
          "pattern": {
           "shape": ""
          }
         },
         "name": "X1_to_X3",
         "orientation": "v",
         "showlegend": true,
         "textposition": "auto",
         "type": "bar",
         "x": [
          "2050-01-01T00:00:00.000000000"
         ],
         "xaxis": "x",
         "y": {
          "bdata": "gG3WR1nl2r8=",
          "dtype": "f8"
         },
         "yaxis": "y"
        },
        {
         "hovertemplate": "techs=supply_grid_power<br>timesteps=%{x}<br>Flow in/out (kWh)=%{y}<extra></extra>",
         "legendgroup": "supply_grid_power",
         "marker": {
          "color": "#C5ABE3",
          "pattern": {
           "shape": ""
          }
         },
         "name": "supply_grid_power",
         "orientation": "v",
         "showlegend": true,
         "textposition": "auto",
         "type": "bar",
         "x": [
          "2050-01-01T00:00:00.000000000"
         ],
         "xaxis": "x",
         "y": {
          "bdata": "6MXjdWliX0A=",
          "dtype": "f8"
         },
         "yaxis": "y"
        },
        {
         "marker": {
          "color": "black"
         },
         "name": "demand",
         "type": "scatter",
         "x": [
          "2050-01-01T00:00:00.000000000"
         ],
         "y": {
          "bdata": "ppPmO4rCXkA=",
          "dtype": "f8"
         }
        }
       ],
       "layout": {
        "barmode": "relative",
        "legend": {
         "title": {
          "text": "techs"
         },
         "tracegroupgap": 0
        },
        "margin": {
         "t": 60
        },
        "template": {
         "data": {
          "bar": [
           {
            "error_x": {
             "color": "#2a3f5f"
            },
            "error_y": {
             "color": "#2a3f5f"
            },
            "marker": {
             "line": {
              "color": "#E5ECF6",
              "width": 0.5
             },
             "pattern": {
              "fillmode": "overlay",
              "size": 10,
              "solidity": 0.2
             }
            },
            "type": "bar"
           }
          ],
          "barpolar": [
           {
            "marker": {
             "line": {
              "color": "#E5ECF6",
              "width": 0.5
             },
             "pattern": {
              "fillmode": "overlay",
              "size": 10,
              "solidity": 0.2
             }
            },
            "type": "barpolar"
           }
          ],
          "carpet": [
           {
            "aaxis": {
             "endlinecolor": "#2a3f5f",
             "gridcolor": "white",
             "linecolor": "white",
             "minorgridcolor": "white",
             "startlinecolor": "#2a3f5f"
            },
            "baxis": {
             "endlinecolor": "#2a3f5f",
             "gridcolor": "white",
             "linecolor": "white",
             "minorgridcolor": "white",
             "startlinecolor": "#2a3f5f"
            },
            "type": "carpet"
           }
          ],
          "choropleth": [
           {
            "colorbar": {
             "outlinewidth": 0,
             "ticks": ""
            },
            "type": "choropleth"
           }
          ],
          "contour": [
           {
            "colorbar": {
             "outlinewidth": 0,
             "ticks": ""
            },
            "colorscale": [
             [
              0,
              "#0d0887"
             ],
             [
              0.1111111111111111,
              "#46039f"
             ],
             [
              0.2222222222222222,
              "#7201a8"
             ],
             [
              0.3333333333333333,
              "#9c179e"
             ],
             [
              0.4444444444444444,
              "#bd3786"
             ],
             [
              0.5555555555555556,
              "#d8576b"
             ],
             [
              0.6666666666666666,
              "#ed7953"
             ],
             [
              0.7777777777777778,
              "#fb9f3a"
             ],
             [
              0.8888888888888888,
              "#fdca26"
             ],
             [
              1,
              "#f0f921"
             ]
            ],
            "type": "contour"
           }
          ],
          "contourcarpet": [
           {
            "colorbar": {
             "outlinewidth": 0,
             "ticks": ""
            },
            "type": "contourcarpet"
           }
          ],
          "heatmap": [
           {
            "colorbar": {
             "outlinewidth": 0,
             "ticks": ""
            },
            "colorscale": [
             [
              0,
              "#0d0887"
             ],
             [
              0.1111111111111111,
              "#46039f"
             ],
             [
              0.2222222222222222,
              "#7201a8"
             ],
             [
              0.3333333333333333,
              "#9c179e"
             ],
             [
              0.4444444444444444,
              "#bd3786"
             ],
             [
              0.5555555555555556,
              "#d8576b"
             ],
             [
              0.6666666666666666,
              "#ed7953"
             ],
             [
              0.7777777777777778,
              "#fb9f3a"
             ],
             [
              0.8888888888888888,
              "#fdca26"
             ],
             [
              1,
              "#f0f921"
             ]
            ],
            "type": "heatmap"
           }
          ],
          "histogram": [
           {
            "marker": {
             "pattern": {
              "fillmode": "overlay",
              "size": 10,
              "solidity": 0.2
             }
            },
            "type": "histogram"
           }
          ],
          "histogram2d": [
           {
            "colorbar": {
             "outlinewidth": 0,
             "ticks": ""
            },
            "colorscale": [
             [
              0,
              "#0d0887"
             ],
             [
              0.1111111111111111,
              "#46039f"
             ],
             [
              0.2222222222222222,
              "#7201a8"
             ],
             [
              0.3333333333333333,
              "#9c179e"
             ],
             [
              0.4444444444444444,
              "#bd3786"
             ],
             [
              0.5555555555555556,
              "#d8576b"
             ],
             [
              0.6666666666666666,
              "#ed7953"
             ],
             [
              0.7777777777777778,
              "#fb9f3a"
             ],
             [
              0.8888888888888888,
              "#fdca26"
             ],
             [
              1,
              "#f0f921"
             ]
            ],
            "type": "histogram2d"
           }
          ],
          "histogram2dcontour": [
           {
            "colorbar": {
             "outlinewidth": 0,
             "ticks": ""
            },
            "colorscale": [
             [
              0,
              "#0d0887"
             ],
             [
              0.1111111111111111,
              "#46039f"
             ],
             [
              0.2222222222222222,
              "#7201a8"
             ],
             [
              0.3333333333333333,
              "#9c179e"
             ],
             [
              0.4444444444444444,
              "#bd3786"
             ],
             [
              0.5555555555555556,
              "#d8576b"
             ],
             [
              0.6666666666666666,
              "#ed7953"
             ],
             [
              0.7777777777777778,
              "#fb9f3a"
             ],
             [
              0.8888888888888888,
              "#fdca26"
             ],
             [
              1,
              "#f0f921"
             ]
            ],
            "type": "histogram2dcontour"
           }
          ],
          "mesh3d": [
           {
            "colorbar": {
             "outlinewidth": 0,
             "ticks": ""
            },
            "type": "mesh3d"
           }
          ],
          "parcoords": [
           {
            "line": {
             "colorbar": {
              "outlinewidth": 0,
              "ticks": ""
             }
            },
            "type": "parcoords"
           }
          ],
          "pie": [
           {
            "automargin": true,
            "type": "pie"
           }
          ],
          "scatter": [
           {
            "fillpattern": {
             "fillmode": "overlay",
             "size": 10,
             "solidity": 0.2
            },
            "type": "scatter"
           }
          ],
          "scatter3d": [
           {
            "line": {
             "colorbar": {
              "outlinewidth": 0,
              "ticks": ""
             }
            },
            "marker": {
             "colorbar": {
              "outlinewidth": 0,
              "ticks": ""
             }
            },
            "type": "scatter3d"
           }
          ],
          "scattercarpet": [
           {
            "marker": {
             "colorbar": {
              "outlinewidth": 0,
              "ticks": ""
             }
            },
            "type": "scattercarpet"
           }
          ],
          "scattergeo": [
           {
            "marker": {
             "colorbar": {
              "outlinewidth": 0,
              "ticks": ""
             }
            },
            "type": "scattergeo"
           }
          ],
          "scattergl": [
           {
            "marker": {
             "colorbar": {
              "outlinewidth": 0,
              "ticks": ""
             }
            },
            "type": "scattergl"
           }
          ],
          "scattermap": [
           {
            "marker": {
             "colorbar": {
              "outlinewidth": 0,
              "ticks": ""
             }
            },
            "type": "scattermap"
           }
          ],
          "scattermapbox": [
           {
            "marker": {
             "colorbar": {
              "outlinewidth": 0,
              "ticks": ""
             }
            },
            "type": "scattermapbox"
           }
          ],
          "scatterpolar": [
           {
            "marker": {
             "colorbar": {
              "outlinewidth": 0,
              "ticks": ""
             }
            },
            "type": "scatterpolar"
           }
          ],
          "scatterpolargl": [
           {
            "marker": {
             "colorbar": {
              "outlinewidth": 0,
              "ticks": ""
             }
            },
            "type": "scatterpolargl"
           }
          ],
          "scatterternary": [
           {
            "marker": {
             "colorbar": {
              "outlinewidth": 0,
              "ticks": ""
             }
            },
            "type": "scatterternary"
           }
          ],
          "surface": [
           {
            "colorbar": {
             "outlinewidth": 0,
             "ticks": ""
            },
            "colorscale": [
             [
              0,
              "#0d0887"
             ],
             [
              0.1111111111111111,
              "#46039f"
             ],
             [
              0.2222222222222222,
              "#7201a8"
             ],
             [
              0.3333333333333333,
              "#9c179e"
             ],
             [
              0.4444444444444444,
              "#bd3786"
             ],
             [
              0.5555555555555556,
              "#d8576b"
             ],
             [
              0.6666666666666666,
              "#ed7953"
             ],
             [
              0.7777777777777778,
              "#fb9f3a"
             ],
             [
              0.8888888888888888,
              "#fdca26"
             ],
             [
              1,
              "#f0f921"
             ]
            ],
            "type": "surface"
           }
          ],
          "table": [
           {
            "cells": {
             "fill": {
              "color": "#EBF0F8"
             },
             "line": {
              "color": "white"
             }
            },
            "header": {
             "fill": {
              "color": "#C8D4E3"
             },
             "line": {
              "color": "white"
             }
            },
            "type": "table"
           }
          ]
         },
         "layout": {
          "annotationdefaults": {
           "arrowcolor": "#2a3f5f",
           "arrowhead": 0,
           "arrowwidth": 1
          },
          "autotypenumbers": "strict",
          "coloraxis": {
           "colorbar": {
            "outlinewidth": 0,
            "ticks": ""
           }
          },
          "colorscale": {
           "diverging": [
            [
             0,
             "#8e0152"
            ],
            [
             0.1,
             "#c51b7d"
            ],
            [
             0.2,
             "#de77ae"
            ],
            [
             0.3,
             "#f1b6da"
            ],
            [
             0.4,
             "#fde0ef"
            ],
            [
             0.5,
             "#f7f7f7"
            ],
            [
             0.6,
             "#e6f5d0"
            ],
            [
             0.7,
             "#b8e186"
            ],
            [
             0.8,
             "#7fbc41"
            ],
            [
             0.9,
             "#4d9221"
            ],
            [
             1,
             "#276419"
            ]
           ],
           "sequential": [
            [
             0,
             "#0d0887"
            ],
            [
             0.1111111111111111,
             "#46039f"
            ],
            [
             0.2222222222222222,
             "#7201a8"
            ],
            [
             0.3333333333333333,
             "#9c179e"
            ],
            [
             0.4444444444444444,
             "#bd3786"
            ],
            [
             0.5555555555555556,
             "#d8576b"
            ],
            [
             0.6666666666666666,
             "#ed7953"
            ],
            [
             0.7777777777777778,
             "#fb9f3a"
            ],
            [
             0.8888888888888888,
             "#fdca26"
            ],
            [
             1,
             "#f0f921"
            ]
           ],
           "sequentialminus": [
            [
             0,
             "#0d0887"
            ],
            [
             0.1111111111111111,
             "#46039f"
            ],
            [
             0.2222222222222222,
             "#7201a8"
            ],
            [
             0.3333333333333333,
             "#9c179e"
            ],
            [
             0.4444444444444444,
             "#bd3786"
            ],
            [
             0.5555555555555556,
             "#d8576b"
            ],
            [
             0.6666666666666666,
             "#ed7953"
            ],
            [
             0.7777777777777778,
             "#fb9f3a"
            ],
            [
             0.8888888888888888,
             "#fdca26"
            ],
            [
             1,
             "#f0f921"
            ]
           ]
          },
          "colorway": [
           "#636efa",
           "#EF553B",
           "#00cc96",
           "#ab63fa",
           "#FFA15A",
           "#19d3f3",
           "#FF6692",
           "#B6E880",
           "#FF97FF",
           "#FECB52"
          ],
          "font": {
           "color": "#2a3f5f"
          },
          "geo": {
           "bgcolor": "white",
           "lakecolor": "white",
           "landcolor": "#E5ECF6",
           "showlakes": true,
           "showland": true,
           "subunitcolor": "white"
          },
          "hoverlabel": {
           "align": "left"
          },
          "hovermode": "closest",
          "mapbox": {
           "style": "light"
          },
          "paper_bgcolor": "white",
          "plot_bgcolor": "#E5ECF6",
          "polar": {
           "angularaxis": {
            "gridcolor": "white",
            "linecolor": "white",
            "ticks": ""
           },
           "bgcolor": "#E5ECF6",
           "radialaxis": {
            "gridcolor": "white",
            "linecolor": "white",
            "ticks": ""
           }
          },
          "scene": {
           "xaxis": {
            "backgroundcolor": "#E5ECF6",
            "gridcolor": "white",
            "gridwidth": 2,
            "linecolor": "white",
            "showbackground": true,
            "ticks": "",
            "zerolinecolor": "white"
           },
           "yaxis": {
            "backgroundcolor": "#E5ECF6",
            "gridcolor": "white",
            "gridwidth": 2,
            "linecolor": "white",
            "showbackground": true,
            "ticks": "",
            "zerolinecolor": "white"
           },
           "zaxis": {
            "backgroundcolor": "#E5ECF6",
            "gridcolor": "white",
            "gridwidth": 2,
            "linecolor": "white",
            "showbackground": true,
            "ticks": "",
            "zerolinecolor": "white"
           }
          },
          "shapedefaults": {
           "line": {
            "color": "#2a3f5f"
           }
          },
          "ternary": {
           "aaxis": {
            "gridcolor": "white",
            "linecolor": "white",
            "ticks": ""
           },
           "baxis": {
            "gridcolor": "white",
            "linecolor": "white",
            "ticks": ""
           },
           "bgcolor": "#E5ECF6",
           "caxis": {
            "gridcolor": "white",
            "linecolor": "white",
            "ticks": ""
           }
          },
          "title": {
           "x": 0.05
          },
          "xaxis": {
           "automargin": true,
           "gridcolor": "white",
           "linecolor": "white",
           "ticks": "",
           "title": {
            "standoff": 15
           },
           "zerolinecolor": "white",
           "zerolinewidth": 2
          },
          "yaxis": {
           "automargin": true,
           "gridcolor": "white",
           "linecolor": "white",
           "ticks": "",
           "title": {
            "standoff": 15
           },
           "zerolinecolor": "white",
           "zerolinewidth": 2
          }
         }
        },
        "xaxis": {
         "anchor": "y",
         "domain": [
          0,
          1
         ],
         "title": {
          "text": "timesteps"
         }
        },
        "yaxis": {
         "anchor": "x",
         "domain": [
          0,
          1
         ],
         "title": {
          "text": "Flow in/out (kWh)"
         }
        }
       }
      }
     },
     "metadata": {},
     "output_type": "display_data"
    }
   ],
   "source": [
    "# We set the color mapping to use in all our plots by extracting the colors defined in the technology definitions of our model.\n",
    "colors = model.inputs.color.to_series().to_dict()\n",
    "\n",
    "df_electricity = (\n",
    "    (model.results.flow_out.fillna(0) - model.results.flow_in.fillna(0))\n",
    "    .sel(carriers=\"electricity\")\n",
    "    .sum(\"nodes\")\n",
    "    .to_series()\n",
    "    .where(lambda x: x != 0)\n",
    "    .dropna()\n",
    "    .to_frame(\"Flow in/out (kWh)\")\n",
    "    .reset_index()\n",
    ")\n",
    "df_electricity_demand = df_electricity[df_electricity.techs == \"demand_electricity\"]\n",
    "df_electricity_other = df_electricity[df_electricity.techs != \"demand_electricity\"]\n",
    "\n",
    "print(df_electricity.head())\n",
    "\n",
    "fig1 = px.bar(\n",
    "    df_electricity_other,\n",
    "    x=\"timesteps\",\n",
    "    y=\"Flow in/out (kWh)\",\n",
    "    color=\"techs\",\n",
    "    color_discrete_map=colors,\n",
    ")\n",
    "fig1.add_scatter(\n",
    "    x=df_electricity_demand.timesteps,\n",
    "    y=-1 * df_electricity_demand[\"Flow in/out (kWh)\"],\n",
    "    marker_color=\"black\",\n",
    "    name=\"demand\",\n",
    ")"
   ]
  },
  {
   "cell_type": "code",
   "execution_count": 49,
   "id": "08df8cff",
   "metadata": {},
   "outputs": [
    {
     "name": "stdout",
     "output_type": "stream",
     "text": [
      "  nodes     techs     carriers  timesteps  Flow in/out (kWh)\n",
      "0    N1  N1_to_X2         heat 2050-01-01         -89.054191\n",
      "1    N1  X1_to_N1         heat 2050-01-01          89.054191\n",
      "2    X1  X1_to_N1         heat 2050-01-01         -96.081664\n",
      "3    X1  X1_to_X2  electricity 2050-01-01        -103.887566\n",
      "4    X1  X1_to_X3  electricity 2050-01-01         -21.012417\n"
     ]
    },
    {
     "data": {
      "application/vnd.plotly.v1+json": {
       "config": {
        "plotlyServerURL": "https://plot.ly"
       },
       "data": [
        {
         "hovertemplate": "techs=N1_to_X2<br>nodes=N1<br>carriers=heat<br>timesteps=%{x}<br>Flow in/out (kWh)=%{y}<extra></extra>",
         "legendgroup": "N1_to_X2",
         "marker": {
          "color": "#823739",
          "pattern": {
           "shape": ""
          }
         },
         "name": "N1_to_X2",
         "orientation": "v",
         "showlegend": true,
         "textposition": "auto",
         "type": "bar",
         "x": [
          "2050-01-01T00:00:00.000000000"
         ],
         "xaxis": "x7",
         "y": {
          "bdata": "SxU33HdDVsA=",
          "dtype": "f8"
         },
         "yaxis": "y7"
        },
        {
         "hovertemplate": "techs=X1_to_N1<br>nodes=N1<br>carriers=heat<br>timesteps=%{x}<br>Flow in/out (kWh)=%{y}<extra></extra>",
         "legendgroup": "X1_to_N1",
         "marker": {
          "color": "#823739",
          "pattern": {
           "shape": ""
          }
         },
         "name": "X1_to_N1",
         "orientation": "v",
         "showlegend": true,
         "textposition": "auto",
         "type": "bar",
         "x": [
          "2050-01-01T00:00:00.000000000"
         ],
         "xaxis": "x7",
         "y": {
          "bdata": "ShU33HdDVkA=",
          "dtype": "f8"
         },
         "yaxis": "y7"
        },
        {
         "hovertemplate": "techs=X1_to_N1<br>nodes=X1<br>carriers=heat<br>timesteps=%{x}<br>Flow in/out (kWh)=%{y}<extra></extra>",
         "legendgroup": "X1_to_N1",
         "marker": {
          "color": "#823739",
          "pattern": {
           "shape": ""
          }
         },
         "name": "X1_to_N1",
         "orientation": "v",
         "showlegend": false,
         "textposition": "auto",
         "type": "bar",
         "x": [
          "2050-01-01T00:00:00.000000000"
         ],
         "xaxis": "x5",
         "y": {
          "bdata": "9LcG+jkFWMA=",
          "dtype": "f8"
         },
         "yaxis": "y5"
        },
        {
         "hovertemplate": "techs=chp<br>nodes=X1<br>carriers=heat<br>timesteps=%{x}<br>Flow in/out (kWh)=%{y}<extra></extra>",
         "legendgroup": "chp",
         "marker": {
          "color": "#E4AB97",
          "pattern": {
           "shape": ""
          }
         },
         "name": "chp",
         "orientation": "v",
         "showlegend": true,
         "textposition": "auto",
         "type": "bar",
         "x": [
          "2050-01-01T00:00:00.000000000"
         ],
         "xaxis": "x5",
         "y": {
          "bdata": "ugSDkYcbWUA=",
          "dtype": "f8"
         },
         "yaxis": "y5"
        },
        {
         "hovertemplate": "techs=X1_to_X2<br>nodes=X1<br>carriers=electricity<br>timesteps=%{x}<br>Flow in/out (kWh)=%{y}<extra></extra>",
         "legendgroup": "X1_to_X2",
         "marker": {
          "color": "#6783E3",
          "pattern": {
           "shape": ""
          }
         },
         "name": "X1_to_X2",
         "orientation": "v",
         "showlegend": true,
         "textposition": "auto",
         "type": "bar",
         "x": [
          "2050-01-01T00:00:00.000000000"
         ],
         "xaxis": "x6",
         "y": {
          "bdata": "eu9r4834WcA=",
          "dtype": "f8"
         },
         "yaxis": "y6"
        },
        {
         "hovertemplate": "techs=X1_to_X3<br>nodes=X1<br>carriers=electricity<br>timesteps=%{x}<br>Flow in/out (kWh)=%{y}<extra></extra>",
         "legendgroup": "X1_to_X3",
         "marker": {
          "color": "#6783E3",
          "pattern": {
           "shape": ""
          }
         },
         "name": "X1_to_X3",
         "orientation": "v",
         "showlegend": true,
         "textposition": "auto",
         "type": "bar",
         "x": [
          "2050-01-01T00:00:00.000000000"
         ],
         "xaxis": "x6",
         "y": {
          "bdata": "gIUfwC0DNcA=",
          "dtype": "f8"
         },
         "yaxis": "y6"
        },
        {
         "hovertemplate": "techs=chp<br>nodes=X1<br>carriers=electricity<br>timesteps=%{x}<br>Flow in/out (kWh)=%{y}<extra></extra>",
         "legendgroup": "chp",
         "marker": {
          "color": "#E4AB97",
          "pattern": {
           "shape": ""
          }
         },
         "name": "chp",
         "orientation": "v",
         "showlegend": false,
         "textposition": "auto",
         "type": "bar",
         "x": [
          "2050-01-01T00:00:00.000000000"
         ],
         "xaxis": "x6",
         "y": {
          "bdata": "6MXjdWliX0A=",
          "dtype": "f8"
         },
         "yaxis": "y6"
        },
        {
         "hovertemplate": "techs=N1_to_X2<br>nodes=X2<br>carriers=heat<br>timesteps=%{x}<br>Flow in/out (kWh)=%{y}<extra></extra>",
         "legendgroup": "N1_to_X2",
         "marker": {
          "color": "#823739",
          "pattern": {
           "shape": ""
          }
         },
         "name": "N1_to_X2",
         "orientation": "v",
         "showlegend": false,
         "textposition": "auto",
         "type": "bar",
         "x": [
          "2050-01-01T00:00:00.000000000"
         ],
         "xaxis": "x3",
         "y": {
          "bdata": "NBp/BJuiVEA=",
          "dtype": "f8"
         },
         "yaxis": "y3"
        },
        {
         "hovertemplate": "techs=boiler<br>nodes=X2<br>carriers=heat<br>timesteps=%{x}<br>Flow in/out (kWh)=%{y}<extra></extra>",
         "legendgroup": "boiler",
         "marker": {
          "color": "#8E2999",
          "pattern": {
           "shape": ""
          }
         },
         "name": "boiler",
         "orientation": "v",
         "showlegend": true,
         "textposition": "auto",
         "type": "bar",
         "x": [
          "2050-01-01T00:00:00.000000000"
         ],
         "xaxis": "x3",
         "y": {
          "bdata": "/DbJFbXVRkA=",
          "dtype": "f8"
         },
         "yaxis": "y3"
        },
        {
         "hovertemplate": "techs=X1_to_X2<br>nodes=X2<br>carriers=electricity<br>timesteps=%{x}<br>Flow in/out (kWh)=%{y}<extra></extra>",
         "legendgroup": "X1_to_X2",
         "marker": {
          "color": "#6783E3",
          "pattern": {
           "shape": ""
          }
         },
         "name": "X1_to_X2",
         "orientation": "v",
         "showlegend": false,
         "textposition": "auto",
         "type": "bar",
         "x": [
          "2050-01-01T00:00:00.000000000"
         ],
         "xaxis": "x4",
         "y": {
          "bdata": "pZO2AtRzWUA=",
          "dtype": "f8"
         },
         "yaxis": "y4"
        },
        {
         "hovertemplate": "techs=boiler<br>nodes=X3<br>carriers=heat<br>timesteps=%{x}<br>Flow in/out (kWh)=%{y}<extra></extra>",
         "legendgroup": "boiler",
         "marker": {
          "color": "#8E2999",
          "pattern": {
           "shape": ""
          }
         },
         "name": "boiler",
         "orientation": "v",
         "showlegend": false,
         "textposition": "auto",
         "type": "bar",
         "x": [
          "2050-01-01T00:00:00.000000000"
         ],
         "xaxis": "x",
         "y": {
          "bdata": "AkrgYocsOUA=",
          "dtype": "f8"
         },
         "yaxis": "y"
        },
        {
         "hovertemplate": "techs=X1_to_X3<br>nodes=X3<br>carriers=electricity<br>timesteps=%{x}<br>Flow in/out (kWh)=%{y}<extra></extra>",
         "legendgroup": "X1_to_X3",
         "marker": {
          "color": "#6783E3",
          "pattern": {
           "shape": ""
          }
         },
         "name": "X1_to_X3",
         "orientation": "v",
         "showlegend": false,
         "textposition": "auto",
         "type": "bar",
         "x": [
          "2050-01-01T00:00:00.000000000"
         ],
         "xaxis": "x2",
         "y": {
          "bdata": "yisAW5iXNEA=",
          "dtype": "f8"
         },
         "yaxis": "y2"
        },
        {
         "legendgroup": "demand",
         "marker": {
          "color": "black"
         },
         "name": "Demand",
         "showlegend": true,
         "type": "scatter",
         "x": [
          "2050-01-01T00:00:00.000000000"
         ],
         "xaxis": "x",
         "y": {
          "bdata": "AkrgYocsOUA=",
          "dtype": "f8"
         },
         "yaxis": "y"
        },
        {
         "legendgroup": "demand",
         "marker": {
          "color": "black"
         },
         "name": "Demand",
         "showlegend": false,
         "type": "scatter",
         "x": [
          "2050-01-01T00:00:00.000000000"
         ],
         "xaxis": "x2",
         "y": {
          "bdata": "yisAW5iXNEA=",
          "dtype": "f8"
         },
         "yaxis": "y2"
        },
        {
         "legendgroup": "demand",
         "marker": {
          "color": "black"
         },
         "name": "Demand",
         "showlegend": false,
         "type": "scatter",
         "x": [
          "2050-01-01T00:00:00.000000000"
         ],
         "xaxis": "x3",
         "y": {
          "bdata": "2dqxx7oGYEA=",
          "dtype": "f8"
         },
         "yaxis": "y3"
        },
        {
         "legendgroup": "demand",
         "marker": {
          "color": "black"
         },
         "name": "Demand",
         "showlegend": false,
         "type": "scatter",
         "x": [
          "2050-01-01T00:00:00.000000000"
         ],
         "xaxis": "x4",
         "y": {
          "bdata": "pZO2AtRzWUA=",
          "dtype": "f8"
         },
         "yaxis": "y4"
        },
        {
         "legendgroup": "demand",
         "marker": {
          "color": "black"
         },
         "name": "Demand",
         "showlegend": false,
         "type": "scatter",
         "x": [
          "2050-01-01T00:00:00.000000000"
         ],
         "xaxis": "x5",
         "y": {
          "bdata": "Z8zEd9lkEUA=",
          "dtype": "f8"
         },
         "yaxis": "y5"
        },
        {
         "legendgroup": "demand",
         "marker": {
          "color": "black"
         },
         "name": "Demand",
         "showlegend": false,
         "type": "scatter",
         "x": [
          "2050-01-01T00:00:00.000000000"
         ],
         "xaxis": "x6",
         "y": {
          "bdata": "CYf6NxFo5D8=",
          "dtype": "f8"
         },
         "yaxis": "y6"
        }
       ],
       "layout": {
        "annotations": [
         {
          "font": {},
          "showarrow": false,
          "text": "carriers=heat",
          "x": 0.24,
          "xanchor": "center",
          "xref": "paper",
          "y": 1,
          "yanchor": "bottom",
          "yref": "paper"
         },
         {
          "font": {},
          "showarrow": false,
          "text": "carriers=electricity",
          "x": 0.74,
          "xanchor": "center",
          "xref": "paper",
          "y": 1,
          "yanchor": "bottom",
          "yref": "paper"
         },
         {
          "font": {},
          "showarrow": false,
          "text": "nodes=X3",
          "textangle": 90,
          "x": 0.98,
          "xanchor": "left",
          "xref": "paper",
          "y": 0.11375,
          "yanchor": "middle",
          "yref": "paper"
         },
         {
          "font": {},
          "showarrow": false,
          "text": "nodes=X2",
          "textangle": 90,
          "x": 0.98,
          "xanchor": "left",
          "xref": "paper",
          "y": 0.37124999999999997,
          "yanchor": "middle",
          "yref": "paper"
         },
         {
          "font": {},
          "showarrow": false,
          "text": "nodes=X1",
          "textangle": 90,
          "x": 0.98,
          "xanchor": "left",
          "xref": "paper",
          "y": 0.62875,
          "yanchor": "middle",
          "yref": "paper"
         },
         {
          "font": {},
          "showarrow": false,
          "text": "nodes=N1",
          "textangle": 90,
          "x": 0.98,
          "xanchor": "left",
          "xref": "paper",
          "y": 0.88625,
          "yanchor": "middle",
          "yref": "paper"
         }
        ],
        "barmode": "relative",
        "height": 1000,
        "legend": {
         "title": {
          "text": "techs"
         },
         "tracegroupgap": 0
        },
        "margin": {
         "t": 60
        },
        "template": {
         "data": {
          "bar": [
           {
            "error_x": {
             "color": "#2a3f5f"
            },
            "error_y": {
             "color": "#2a3f5f"
            },
            "marker": {
             "line": {
              "color": "#E5ECF6",
              "width": 0.5
             },
             "pattern": {
              "fillmode": "overlay",
              "size": 10,
              "solidity": 0.2
             }
            },
            "type": "bar"
           }
          ],
          "barpolar": [
           {
            "marker": {
             "line": {
              "color": "#E5ECF6",
              "width": 0.5
             },
             "pattern": {
              "fillmode": "overlay",
              "size": 10,
              "solidity": 0.2
             }
            },
            "type": "barpolar"
           }
          ],
          "carpet": [
           {
            "aaxis": {
             "endlinecolor": "#2a3f5f",
             "gridcolor": "white",
             "linecolor": "white",
             "minorgridcolor": "white",
             "startlinecolor": "#2a3f5f"
            },
            "baxis": {
             "endlinecolor": "#2a3f5f",
             "gridcolor": "white",
             "linecolor": "white",
             "minorgridcolor": "white",
             "startlinecolor": "#2a3f5f"
            },
            "type": "carpet"
           }
          ],
          "choropleth": [
           {
            "colorbar": {
             "outlinewidth": 0,
             "ticks": ""
            },
            "type": "choropleth"
           }
          ],
          "contour": [
           {
            "colorbar": {
             "outlinewidth": 0,
             "ticks": ""
            },
            "colorscale": [
             [
              0,
              "#0d0887"
             ],
             [
              0.1111111111111111,
              "#46039f"
             ],
             [
              0.2222222222222222,
              "#7201a8"
             ],
             [
              0.3333333333333333,
              "#9c179e"
             ],
             [
              0.4444444444444444,
              "#bd3786"
             ],
             [
              0.5555555555555556,
              "#d8576b"
             ],
             [
              0.6666666666666666,
              "#ed7953"
             ],
             [
              0.7777777777777778,
              "#fb9f3a"
             ],
             [
              0.8888888888888888,
              "#fdca26"
             ],
             [
              1,
              "#f0f921"
             ]
            ],
            "type": "contour"
           }
          ],
          "contourcarpet": [
           {
            "colorbar": {
             "outlinewidth": 0,
             "ticks": ""
            },
            "type": "contourcarpet"
           }
          ],
          "heatmap": [
           {
            "colorbar": {
             "outlinewidth": 0,
             "ticks": ""
            },
            "colorscale": [
             [
              0,
              "#0d0887"
             ],
             [
              0.1111111111111111,
              "#46039f"
             ],
             [
              0.2222222222222222,
              "#7201a8"
             ],
             [
              0.3333333333333333,
              "#9c179e"
             ],
             [
              0.4444444444444444,
              "#bd3786"
             ],
             [
              0.5555555555555556,
              "#d8576b"
             ],
             [
              0.6666666666666666,
              "#ed7953"
             ],
             [
              0.7777777777777778,
              "#fb9f3a"
             ],
             [
              0.8888888888888888,
              "#fdca26"
             ],
             [
              1,
              "#f0f921"
             ]
            ],
            "type": "heatmap"
           }
          ],
          "histogram": [
           {
            "marker": {
             "pattern": {
              "fillmode": "overlay",
              "size": 10,
              "solidity": 0.2
             }
            },
            "type": "histogram"
           }
          ],
          "histogram2d": [
           {
            "colorbar": {
             "outlinewidth": 0,
             "ticks": ""
            },
            "colorscale": [
             [
              0,
              "#0d0887"
             ],
             [
              0.1111111111111111,
              "#46039f"
             ],
             [
              0.2222222222222222,
              "#7201a8"
             ],
             [
              0.3333333333333333,
              "#9c179e"
             ],
             [
              0.4444444444444444,
              "#bd3786"
             ],
             [
              0.5555555555555556,
              "#d8576b"
             ],
             [
              0.6666666666666666,
              "#ed7953"
             ],
             [
              0.7777777777777778,
              "#fb9f3a"
             ],
             [
              0.8888888888888888,
              "#fdca26"
             ],
             [
              1,
              "#f0f921"
             ]
            ],
            "type": "histogram2d"
           }
          ],
          "histogram2dcontour": [
           {
            "colorbar": {
             "outlinewidth": 0,
             "ticks": ""
            },
            "colorscale": [
             [
              0,
              "#0d0887"
             ],
             [
              0.1111111111111111,
              "#46039f"
             ],
             [
              0.2222222222222222,
              "#7201a8"
             ],
             [
              0.3333333333333333,
              "#9c179e"
             ],
             [
              0.4444444444444444,
              "#bd3786"
             ],
             [
              0.5555555555555556,
              "#d8576b"
             ],
             [
              0.6666666666666666,
              "#ed7953"
             ],
             [
              0.7777777777777778,
              "#fb9f3a"
             ],
             [
              0.8888888888888888,
              "#fdca26"
             ],
             [
              1,
              "#f0f921"
             ]
            ],
            "type": "histogram2dcontour"
           }
          ],
          "mesh3d": [
           {
            "colorbar": {
             "outlinewidth": 0,
             "ticks": ""
            },
            "type": "mesh3d"
           }
          ],
          "parcoords": [
           {
            "line": {
             "colorbar": {
              "outlinewidth": 0,
              "ticks": ""
             }
            },
            "type": "parcoords"
           }
          ],
          "pie": [
           {
            "automargin": true,
            "type": "pie"
           }
          ],
          "scatter": [
           {
            "fillpattern": {
             "fillmode": "overlay",
             "size": 10,
             "solidity": 0.2
            },
            "type": "scatter"
           }
          ],
          "scatter3d": [
           {
            "line": {
             "colorbar": {
              "outlinewidth": 0,
              "ticks": ""
             }
            },
            "marker": {
             "colorbar": {
              "outlinewidth": 0,
              "ticks": ""
             }
            },
            "type": "scatter3d"
           }
          ],
          "scattercarpet": [
           {
            "marker": {
             "colorbar": {
              "outlinewidth": 0,
              "ticks": ""
             }
            },
            "type": "scattercarpet"
           }
          ],
          "scattergeo": [
           {
            "marker": {
             "colorbar": {
              "outlinewidth": 0,
              "ticks": ""
             }
            },
            "type": "scattergeo"
           }
          ],
          "scattergl": [
           {
            "marker": {
             "colorbar": {
              "outlinewidth": 0,
              "ticks": ""
             }
            },
            "type": "scattergl"
           }
          ],
          "scattermap": [
           {
            "marker": {
             "colorbar": {
              "outlinewidth": 0,
              "ticks": ""
             }
            },
            "type": "scattermap"
           }
          ],
          "scattermapbox": [
           {
            "marker": {
             "colorbar": {
              "outlinewidth": 0,
              "ticks": ""
             }
            },
            "type": "scattermapbox"
           }
          ],
          "scatterpolar": [
           {
            "marker": {
             "colorbar": {
              "outlinewidth": 0,
              "ticks": ""
             }
            },
            "type": "scatterpolar"
           }
          ],
          "scatterpolargl": [
           {
            "marker": {
             "colorbar": {
              "outlinewidth": 0,
              "ticks": ""
             }
            },
            "type": "scatterpolargl"
           }
          ],
          "scatterternary": [
           {
            "marker": {
             "colorbar": {
              "outlinewidth": 0,
              "ticks": ""
             }
            },
            "type": "scatterternary"
           }
          ],
          "surface": [
           {
            "colorbar": {
             "outlinewidth": 0,
             "ticks": ""
            },
            "colorscale": [
             [
              0,
              "#0d0887"
             ],
             [
              0.1111111111111111,
              "#46039f"
             ],
             [
              0.2222222222222222,
              "#7201a8"
             ],
             [
              0.3333333333333333,
              "#9c179e"
             ],
             [
              0.4444444444444444,
              "#bd3786"
             ],
             [
              0.5555555555555556,
              "#d8576b"
             ],
             [
              0.6666666666666666,
              "#ed7953"
             ],
             [
              0.7777777777777778,
              "#fb9f3a"
             ],
             [
              0.8888888888888888,
              "#fdca26"
             ],
             [
              1,
              "#f0f921"
             ]
            ],
            "type": "surface"
           }
          ],
          "table": [
           {
            "cells": {
             "fill": {
              "color": "#EBF0F8"
             },
             "line": {
              "color": "white"
             }
            },
            "header": {
             "fill": {
              "color": "#C8D4E3"
             },
             "line": {
              "color": "white"
             }
            },
            "type": "table"
           }
          ]
         },
         "layout": {
          "annotationdefaults": {
           "arrowcolor": "#2a3f5f",
           "arrowhead": 0,
           "arrowwidth": 1
          },
          "autotypenumbers": "strict",
          "coloraxis": {
           "colorbar": {
            "outlinewidth": 0,
            "ticks": ""
           }
          },
          "colorscale": {
           "diverging": [
            [
             0,
             "#8e0152"
            ],
            [
             0.1,
             "#c51b7d"
            ],
            [
             0.2,
             "#de77ae"
            ],
            [
             0.3,
             "#f1b6da"
            ],
            [
             0.4,
             "#fde0ef"
            ],
            [
             0.5,
             "#f7f7f7"
            ],
            [
             0.6,
             "#e6f5d0"
            ],
            [
             0.7,
             "#b8e186"
            ],
            [
             0.8,
             "#7fbc41"
            ],
            [
             0.9,
             "#4d9221"
            ],
            [
             1,
             "#276419"
            ]
           ],
           "sequential": [
            [
             0,
             "#0d0887"
            ],
            [
             0.1111111111111111,
             "#46039f"
            ],
            [
             0.2222222222222222,
             "#7201a8"
            ],
            [
             0.3333333333333333,
             "#9c179e"
            ],
            [
             0.4444444444444444,
             "#bd3786"
            ],
            [
             0.5555555555555556,
             "#d8576b"
            ],
            [
             0.6666666666666666,
             "#ed7953"
            ],
            [
             0.7777777777777778,
             "#fb9f3a"
            ],
            [
             0.8888888888888888,
             "#fdca26"
            ],
            [
             1,
             "#f0f921"
            ]
           ],
           "sequentialminus": [
            [
             0,
             "#0d0887"
            ],
            [
             0.1111111111111111,
             "#46039f"
            ],
            [
             0.2222222222222222,
             "#7201a8"
            ],
            [
             0.3333333333333333,
             "#9c179e"
            ],
            [
             0.4444444444444444,
             "#bd3786"
            ],
            [
             0.5555555555555556,
             "#d8576b"
            ],
            [
             0.6666666666666666,
             "#ed7953"
            ],
            [
             0.7777777777777778,
             "#fb9f3a"
            ],
            [
             0.8888888888888888,
             "#fdca26"
            ],
            [
             1,
             "#f0f921"
            ]
           ]
          },
          "colorway": [
           "#636efa",
           "#EF553B",
           "#00cc96",
           "#ab63fa",
           "#FFA15A",
           "#19d3f3",
           "#FF6692",
           "#B6E880",
           "#FF97FF",
           "#FECB52"
          ],
          "font": {
           "color": "#2a3f5f"
          },
          "geo": {
           "bgcolor": "white",
           "lakecolor": "white",
           "landcolor": "#E5ECF6",
           "showlakes": true,
           "showland": true,
           "subunitcolor": "white"
          },
          "hoverlabel": {
           "align": "left"
          },
          "hovermode": "closest",
          "mapbox": {
           "style": "light"
          },
          "paper_bgcolor": "white",
          "plot_bgcolor": "#E5ECF6",
          "polar": {
           "angularaxis": {
            "gridcolor": "white",
            "linecolor": "white",
            "ticks": ""
           },
           "bgcolor": "#E5ECF6",
           "radialaxis": {
            "gridcolor": "white",
            "linecolor": "white",
            "ticks": ""
           }
          },
          "scene": {
           "xaxis": {
            "backgroundcolor": "#E5ECF6",
            "gridcolor": "white",
            "gridwidth": 2,
            "linecolor": "white",
            "showbackground": true,
            "ticks": "",
            "zerolinecolor": "white"
           },
           "yaxis": {
            "backgroundcolor": "#E5ECF6",
            "gridcolor": "white",
            "gridwidth": 2,
            "linecolor": "white",
            "showbackground": true,
            "ticks": "",
            "zerolinecolor": "white"
           },
           "zaxis": {
            "backgroundcolor": "#E5ECF6",
            "gridcolor": "white",
            "gridwidth": 2,
            "linecolor": "white",
            "showbackground": true,
            "ticks": "",
            "zerolinecolor": "white"
           }
          },
          "shapedefaults": {
           "line": {
            "color": "#2a3f5f"
           }
          },
          "ternary": {
           "aaxis": {
            "gridcolor": "white",
            "linecolor": "white",
            "ticks": ""
           },
           "baxis": {
            "gridcolor": "white",
            "linecolor": "white",
            "ticks": ""
           },
           "bgcolor": "#E5ECF6",
           "caxis": {
            "gridcolor": "white",
            "linecolor": "white",
            "ticks": ""
           }
          },
          "title": {
           "x": 0.05
          },
          "xaxis": {
           "automargin": true,
           "gridcolor": "white",
           "linecolor": "white",
           "ticks": "",
           "title": {
            "standoff": 15
           },
           "zerolinecolor": "white",
           "zerolinewidth": 2
          },
          "yaxis": {
           "automargin": true,
           "gridcolor": "white",
           "linecolor": "white",
           "ticks": "",
           "title": {
            "standoff": 15
           },
           "zerolinecolor": "white",
           "zerolinewidth": 2
          }
         }
        },
        "xaxis": {
         "anchor": "y",
         "domain": [
          0,
          0.48
         ],
         "title": {
          "text": "timesteps"
         }
        },
        "xaxis2": {
         "anchor": "y2",
         "domain": [
          0.5,
          0.98
         ],
         "matches": "x",
         "title": {
          "text": "timesteps"
         }
        },
        "xaxis3": {
         "anchor": "y3",
         "domain": [
          0,
          0.48
         ],
         "matches": "x",
         "showticklabels": false
        },
        "xaxis4": {
         "anchor": "y4",
         "domain": [
          0.5,
          0.98
         ],
         "matches": "x",
         "showticklabels": false
        },
        "xaxis5": {
         "anchor": "y5",
         "domain": [
          0,
          0.48
         ],
         "matches": "x",
         "showticklabels": false
        },
        "xaxis6": {
         "anchor": "y6",
         "domain": [
          0.5,
          0.98
         ],
         "matches": "x",
         "showticklabels": false
        },
        "xaxis7": {
         "anchor": "y7",
         "domain": [
          0,
          0.48
         ],
         "matches": "x",
         "showticklabels": false
        },
        "xaxis8": {
         "anchor": "y8",
         "domain": [
          0.5,
          0.98
         ],
         "matches": "x",
         "showticklabels": false
        },
        "yaxis": {
         "anchor": "x",
         "domain": [
          0,
          0.2275
         ],
         "title": {
          "text": "Flow in/out (kWh)"
         }
        },
        "yaxis2": {
         "anchor": "x2",
         "domain": [
          0,
          0.2275
         ],
         "showticklabels": false
        },
        "yaxis3": {
         "anchor": "x3",
         "domain": [
          0.2575,
          0.485
         ],
         "title": {
          "text": "Flow in/out (kWh)"
         }
        },
        "yaxis4": {
         "anchor": "x4",
         "domain": [
          0.2575,
          0.485
         ],
         "showticklabels": false
        },
        "yaxis5": {
         "anchor": "x5",
         "domain": [
          0.515,
          0.7425
         ],
         "title": {
          "text": "Flow in/out (kWh)"
         }
        },
        "yaxis6": {
         "anchor": "x6",
         "domain": [
          0.515,
          0.7425
         ],
         "showticklabels": false
        },
        "yaxis7": {
         "anchor": "x7",
         "domain": [
          0.7725,
          1
         ],
         "title": {
          "text": "Flow in/out (kWh)"
         }
        },
        "yaxis8": {
         "anchor": "x8",
         "domain": [
          0.7725,
          1
         ],
         "showticklabels": false
        }
       }
      }
     },
     "metadata": {},
     "output_type": "display_data"
    }
   ],
   "source": [
    "carriers = [\"heat\", \"electricity\"]\n",
    "df_flows = (\n",
    "    (model.results.flow_out.fillna(0) - model.results.flow_in.fillna(0))\n",
    "    .sel(carriers=carriers)\n",
    "    .to_series()\n",
    "    .where(lambda x: x != 0)\n",
    "    .dropna()\n",
    "    .to_frame(\"Flow in/out (kWh)\")\n",
    "    .reset_index()\n",
    ")\n",
    "df_demand = df_flows[df_flows.techs.str.contains(\"demand\")]\n",
    "df_flows_other = df_flows[~df_flows.techs.str.contains(\"demand\")]\n",
    "\n",
    "print(df_flows.head())\n",
    "\n",
    "node_order = df_flows_other.nodes.unique()\n",
    "\n",
    "fig = px.bar(\n",
    "    df_flows_other,\n",
    "    x=\"timesteps\",\n",
    "    y=\"Flow in/out (kWh)\",\n",
    "    facet_row=\"nodes\",\n",
    "    facet_col=\"carriers\",\n",
    "    color=\"techs\",\n",
    "    category_orders={\"nodes\": node_order, \"carriers\": carriers},\n",
    "    height=1000,\n",
    "    color_discrete_map=colors,\n",
    ")\n",
    "\n",
    "showlegend = True\n",
    "# we reverse the node order (`[::-1]`) because the rows are numbered from bottom to top.\n",
    "for row, node in enumerate(node_order[::-1]):\n",
    "    for col, carrier in enumerate(carriers):\n",
    "        demand_ = df_demand.loc[\n",
    "            (df_demand.nodes == node) & (df_demand.techs == f\"demand_{carrier}\"),\n",
    "            \"Flow in/out (kWh)\",\n",
    "        ]\n",
    "        if not demand_.empty:\n",
    "            fig.add_scatter(\n",
    "                x=model.results.timesteps.values,\n",
    "                y=-1 * demand_,\n",
    "                row=row + 1,\n",
    "                col=col + 1,\n",
    "                marker_color=\"black\",\n",
    "                name=\"Demand\",\n",
    "                legendgroup=\"demand\",\n",
    "                showlegend=showlegend,\n",
    "            )\n",
    "            showlegend = False\n",
    "fig.update_yaxes(matches=None)\n",
    "fig.show()"
   ]
  },
  {
   "cell_type": "code",
   "execution_count": 50,
   "id": "e8de5523",
   "metadata": {},
   "outputs": [
    {
     "name": "stdout",
     "output_type": "stream",
     "text": [
      "  nodes       techs     carriers  Flow capacity (kW)\n",
      "0    X1         chp  electricity          125.537687\n",
      "1    X1         chp          gas          309.969597\n",
      "2    X1         chp         heat          100.430149\n",
      "3    X1  supply_gas          gas          309.969597\n",
      "4    X2      boiler          gas           53.728928\n"
     ]
    },
    {
     "data": {
      "application/vnd.plotly.v1+json": {
       "config": {
        "plotlyServerURL": "https://plot.ly"
       },
       "data": [
        {
         "hovertemplate": "techs=chp<br>carriers=electricity<br>nodes=%{x}<br>Flow capacity (kW)=%{y}<extra></extra>",
         "legendgroup": "chp",
         "marker": {
          "color": "#E4AB97",
          "pattern": {
           "shape": ""
          }
         },
         "name": "chp",
         "orientation": "v",
         "showlegend": true,
         "textposition": "auto",
         "type": "bar",
         "x": [
          "X1"
         ],
         "xaxis": "x",
         "y": {
          "bdata": "6MXjdWliX0A=",
          "dtype": "f8"
         },
         "yaxis": "y"
        },
        {
         "hovertemplate": "techs=chp<br>carriers=gas<br>nodes=%{x}<br>Flow capacity (kW)=%{y}<extra></extra>",
         "legendgroup": "chp",
         "marker": {
          "color": "#E4AB97",
          "pattern": {
           "shape": ""
          }
         },
         "name": "chp",
         "orientation": "v",
         "showlegend": false,
         "textposition": "auto",
         "type": "bar",
         "x": [
          "X1"
         ],
         "xaxis": "x2",
         "y": {
          "bdata": "LckteINfc0A=",
          "dtype": "f8"
         },
         "yaxis": "y2"
        },
        {
         "hovertemplate": "techs=chp<br>carriers=heat<br>nodes=%{x}<br>Flow capacity (kW)=%{y}<extra></extra>",
         "legendgroup": "chp",
         "marker": {
          "color": "#E4AB97",
          "pattern": {
           "shape": ""
          }
         },
         "name": "chp",
         "orientation": "v",
         "showlegend": false,
         "textposition": "auto",
         "type": "bar",
         "x": [
          "X1"
         ],
         "xaxis": "x3",
         "y": {
          "bdata": "ugSDkYcbWUA=",
          "dtype": "f8"
         },
         "yaxis": "y3"
        },
        {
         "hovertemplate": "techs=supply_gas<br>carriers=gas<br>nodes=%{x}<br>Flow capacity (kW)=%{y}<extra></extra>",
         "legendgroup": "supply_gas",
         "marker": {
          "color": "#C98AAD",
          "pattern": {
           "shape": ""
          }
         },
         "name": "supply_gas",
         "orientation": "v",
         "showlegend": true,
         "textposition": "auto",
         "type": "bar",
         "x": [
          "X1",
          "X2",
          "X3"
         ],
         "xaxis": "x2",
         "y": {
          "bdata": "LckteINfc0BH1wqDTd1KQOUpU3TMnT1A",
          "dtype": "f8"
         },
         "yaxis": "y2"
        },
        {
         "hovertemplate": "techs=boiler<br>carriers=gas<br>nodes=%{x}<br>Flow capacity (kW)=%{y}<extra></extra>",
         "legendgroup": "boiler",
         "marker": {
          "color": "#8E2999",
          "pattern": {
           "shape": ""
          }
         },
         "name": "boiler",
         "orientation": "v",
         "showlegend": true,
         "textposition": "auto",
         "type": "bar",
         "x": [
          "X2",
          "X3"
         ],
         "xaxis": "x2",
         "y": {
          "bdata": "R9cKg03dSkDlKVN0zJ09QA==",
          "dtype": "f8"
         },
         "yaxis": "y2"
        },
        {
         "hovertemplate": "techs=boiler<br>carriers=heat<br>nodes=%{x}<br>Flow capacity (kW)=%{y}<extra></extra>",
         "legendgroup": "boiler",
         "marker": {
          "color": "#8E2999",
          "pattern": {
           "shape": ""
          }
         },
         "name": "boiler",
         "orientation": "v",
         "showlegend": false,
         "textposition": "auto",
         "type": "bar",
         "x": [
          "X2",
          "X3"
         ],
         "xaxis": "x3",
         "y": {
          "bdata": "/DbJFbXVRkACSuBihyw5QA==",
          "dtype": "f8"
         },
         "yaxis": "y3"
        }
       ],
       "layout": {
        "annotations": [
         {
          "font": {},
          "showarrow": false,
          "text": "carriers=electricity",
          "x": 0.15999999999999998,
          "xanchor": "center",
          "xref": "paper",
          "y": 1,
          "yanchor": "bottom",
          "yref": "paper"
         },
         {
          "font": {},
          "showarrow": false,
          "text": "carriers=gas",
          "x": 0.49999999999999994,
          "xanchor": "center",
          "xref": "paper",
          "y": 1,
          "yanchor": "bottom",
          "yref": "paper"
         },
         {
          "font": {},
          "showarrow": false,
          "text": "carriers=heat",
          "x": 0.8399999999999999,
          "xanchor": "center",
          "xref": "paper",
          "y": 1,
          "yanchor": "bottom",
          "yref": "paper"
         }
        ],
        "barmode": "relative",
        "legend": {
         "title": {
          "text": "techs"
         },
         "tracegroupgap": 0
        },
        "margin": {
         "t": 60
        },
        "template": {
         "data": {
          "bar": [
           {
            "error_x": {
             "color": "#2a3f5f"
            },
            "error_y": {
             "color": "#2a3f5f"
            },
            "marker": {
             "line": {
              "color": "#E5ECF6",
              "width": 0.5
             },
             "pattern": {
              "fillmode": "overlay",
              "size": 10,
              "solidity": 0.2
             }
            },
            "type": "bar"
           }
          ],
          "barpolar": [
           {
            "marker": {
             "line": {
              "color": "#E5ECF6",
              "width": 0.5
             },
             "pattern": {
              "fillmode": "overlay",
              "size": 10,
              "solidity": 0.2
             }
            },
            "type": "barpolar"
           }
          ],
          "carpet": [
           {
            "aaxis": {
             "endlinecolor": "#2a3f5f",
             "gridcolor": "white",
             "linecolor": "white",
             "minorgridcolor": "white",
             "startlinecolor": "#2a3f5f"
            },
            "baxis": {
             "endlinecolor": "#2a3f5f",
             "gridcolor": "white",
             "linecolor": "white",
             "minorgridcolor": "white",
             "startlinecolor": "#2a3f5f"
            },
            "type": "carpet"
           }
          ],
          "choropleth": [
           {
            "colorbar": {
             "outlinewidth": 0,
             "ticks": ""
            },
            "type": "choropleth"
           }
          ],
          "contour": [
           {
            "colorbar": {
             "outlinewidth": 0,
             "ticks": ""
            },
            "colorscale": [
             [
              0,
              "#0d0887"
             ],
             [
              0.1111111111111111,
              "#46039f"
             ],
             [
              0.2222222222222222,
              "#7201a8"
             ],
             [
              0.3333333333333333,
              "#9c179e"
             ],
             [
              0.4444444444444444,
              "#bd3786"
             ],
             [
              0.5555555555555556,
              "#d8576b"
             ],
             [
              0.6666666666666666,
              "#ed7953"
             ],
             [
              0.7777777777777778,
              "#fb9f3a"
             ],
             [
              0.8888888888888888,
              "#fdca26"
             ],
             [
              1,
              "#f0f921"
             ]
            ],
            "type": "contour"
           }
          ],
          "contourcarpet": [
           {
            "colorbar": {
             "outlinewidth": 0,
             "ticks": ""
            },
            "type": "contourcarpet"
           }
          ],
          "heatmap": [
           {
            "colorbar": {
             "outlinewidth": 0,
             "ticks": ""
            },
            "colorscale": [
             [
              0,
              "#0d0887"
             ],
             [
              0.1111111111111111,
              "#46039f"
             ],
             [
              0.2222222222222222,
              "#7201a8"
             ],
             [
              0.3333333333333333,
              "#9c179e"
             ],
             [
              0.4444444444444444,
              "#bd3786"
             ],
             [
              0.5555555555555556,
              "#d8576b"
             ],
             [
              0.6666666666666666,
              "#ed7953"
             ],
             [
              0.7777777777777778,
              "#fb9f3a"
             ],
             [
              0.8888888888888888,
              "#fdca26"
             ],
             [
              1,
              "#f0f921"
             ]
            ],
            "type": "heatmap"
           }
          ],
          "histogram": [
           {
            "marker": {
             "pattern": {
              "fillmode": "overlay",
              "size": 10,
              "solidity": 0.2
             }
            },
            "type": "histogram"
           }
          ],
          "histogram2d": [
           {
            "colorbar": {
             "outlinewidth": 0,
             "ticks": ""
            },
            "colorscale": [
             [
              0,
              "#0d0887"
             ],
             [
              0.1111111111111111,
              "#46039f"
             ],
             [
              0.2222222222222222,
              "#7201a8"
             ],
             [
              0.3333333333333333,
              "#9c179e"
             ],
             [
              0.4444444444444444,
              "#bd3786"
             ],
             [
              0.5555555555555556,
              "#d8576b"
             ],
             [
              0.6666666666666666,
              "#ed7953"
             ],
             [
              0.7777777777777778,
              "#fb9f3a"
             ],
             [
              0.8888888888888888,
              "#fdca26"
             ],
             [
              1,
              "#f0f921"
             ]
            ],
            "type": "histogram2d"
           }
          ],
          "histogram2dcontour": [
           {
            "colorbar": {
             "outlinewidth": 0,
             "ticks": ""
            },
            "colorscale": [
             [
              0,
              "#0d0887"
             ],
             [
              0.1111111111111111,
              "#46039f"
             ],
             [
              0.2222222222222222,
              "#7201a8"
             ],
             [
              0.3333333333333333,
              "#9c179e"
             ],
             [
              0.4444444444444444,
              "#bd3786"
             ],
             [
              0.5555555555555556,
              "#d8576b"
             ],
             [
              0.6666666666666666,
              "#ed7953"
             ],
             [
              0.7777777777777778,
              "#fb9f3a"
             ],
             [
              0.8888888888888888,
              "#fdca26"
             ],
             [
              1,
              "#f0f921"
             ]
            ],
            "type": "histogram2dcontour"
           }
          ],
          "mesh3d": [
           {
            "colorbar": {
             "outlinewidth": 0,
             "ticks": ""
            },
            "type": "mesh3d"
           }
          ],
          "parcoords": [
           {
            "line": {
             "colorbar": {
              "outlinewidth": 0,
              "ticks": ""
             }
            },
            "type": "parcoords"
           }
          ],
          "pie": [
           {
            "automargin": true,
            "type": "pie"
           }
          ],
          "scatter": [
           {
            "fillpattern": {
             "fillmode": "overlay",
             "size": 10,
             "solidity": 0.2
            },
            "type": "scatter"
           }
          ],
          "scatter3d": [
           {
            "line": {
             "colorbar": {
              "outlinewidth": 0,
              "ticks": ""
             }
            },
            "marker": {
             "colorbar": {
              "outlinewidth": 0,
              "ticks": ""
             }
            },
            "type": "scatter3d"
           }
          ],
          "scattercarpet": [
           {
            "marker": {
             "colorbar": {
              "outlinewidth": 0,
              "ticks": ""
             }
            },
            "type": "scattercarpet"
           }
          ],
          "scattergeo": [
           {
            "marker": {
             "colorbar": {
              "outlinewidth": 0,
              "ticks": ""
             }
            },
            "type": "scattergeo"
           }
          ],
          "scattergl": [
           {
            "marker": {
             "colorbar": {
              "outlinewidth": 0,
              "ticks": ""
             }
            },
            "type": "scattergl"
           }
          ],
          "scattermap": [
           {
            "marker": {
             "colorbar": {
              "outlinewidth": 0,
              "ticks": ""
             }
            },
            "type": "scattermap"
           }
          ],
          "scattermapbox": [
           {
            "marker": {
             "colorbar": {
              "outlinewidth": 0,
              "ticks": ""
             }
            },
            "type": "scattermapbox"
           }
          ],
          "scatterpolar": [
           {
            "marker": {
             "colorbar": {
              "outlinewidth": 0,
              "ticks": ""
             }
            },
            "type": "scatterpolar"
           }
          ],
          "scatterpolargl": [
           {
            "marker": {
             "colorbar": {
              "outlinewidth": 0,
              "ticks": ""
             }
            },
            "type": "scatterpolargl"
           }
          ],
          "scatterternary": [
           {
            "marker": {
             "colorbar": {
              "outlinewidth": 0,
              "ticks": ""
             }
            },
            "type": "scatterternary"
           }
          ],
          "surface": [
           {
            "colorbar": {
             "outlinewidth": 0,
             "ticks": ""
            },
            "colorscale": [
             [
              0,
              "#0d0887"
             ],
             [
              0.1111111111111111,
              "#46039f"
             ],
             [
              0.2222222222222222,
              "#7201a8"
             ],
             [
              0.3333333333333333,
              "#9c179e"
             ],
             [
              0.4444444444444444,
              "#bd3786"
             ],
             [
              0.5555555555555556,
              "#d8576b"
             ],
             [
              0.6666666666666666,
              "#ed7953"
             ],
             [
              0.7777777777777778,
              "#fb9f3a"
             ],
             [
              0.8888888888888888,
              "#fdca26"
             ],
             [
              1,
              "#f0f921"
             ]
            ],
            "type": "surface"
           }
          ],
          "table": [
           {
            "cells": {
             "fill": {
              "color": "#EBF0F8"
             },
             "line": {
              "color": "white"
             }
            },
            "header": {
             "fill": {
              "color": "#C8D4E3"
             },
             "line": {
              "color": "white"
             }
            },
            "type": "table"
           }
          ]
         },
         "layout": {
          "annotationdefaults": {
           "arrowcolor": "#2a3f5f",
           "arrowhead": 0,
           "arrowwidth": 1
          },
          "autotypenumbers": "strict",
          "coloraxis": {
           "colorbar": {
            "outlinewidth": 0,
            "ticks": ""
           }
          },
          "colorscale": {
           "diverging": [
            [
             0,
             "#8e0152"
            ],
            [
             0.1,
             "#c51b7d"
            ],
            [
             0.2,
             "#de77ae"
            ],
            [
             0.3,
             "#f1b6da"
            ],
            [
             0.4,
             "#fde0ef"
            ],
            [
             0.5,
             "#f7f7f7"
            ],
            [
             0.6,
             "#e6f5d0"
            ],
            [
             0.7,
             "#b8e186"
            ],
            [
             0.8,
             "#7fbc41"
            ],
            [
             0.9,
             "#4d9221"
            ],
            [
             1,
             "#276419"
            ]
           ],
           "sequential": [
            [
             0,
             "#0d0887"
            ],
            [
             0.1111111111111111,
             "#46039f"
            ],
            [
             0.2222222222222222,
             "#7201a8"
            ],
            [
             0.3333333333333333,
             "#9c179e"
            ],
            [
             0.4444444444444444,
             "#bd3786"
            ],
            [
             0.5555555555555556,
             "#d8576b"
            ],
            [
             0.6666666666666666,
             "#ed7953"
            ],
            [
             0.7777777777777778,
             "#fb9f3a"
            ],
            [
             0.8888888888888888,
             "#fdca26"
            ],
            [
             1,
             "#f0f921"
            ]
           ],
           "sequentialminus": [
            [
             0,
             "#0d0887"
            ],
            [
             0.1111111111111111,
             "#46039f"
            ],
            [
             0.2222222222222222,
             "#7201a8"
            ],
            [
             0.3333333333333333,
             "#9c179e"
            ],
            [
             0.4444444444444444,
             "#bd3786"
            ],
            [
             0.5555555555555556,
             "#d8576b"
            ],
            [
             0.6666666666666666,
             "#ed7953"
            ],
            [
             0.7777777777777778,
             "#fb9f3a"
            ],
            [
             0.8888888888888888,
             "#fdca26"
            ],
            [
             1,
             "#f0f921"
            ]
           ]
          },
          "colorway": [
           "#636efa",
           "#EF553B",
           "#00cc96",
           "#ab63fa",
           "#FFA15A",
           "#19d3f3",
           "#FF6692",
           "#B6E880",
           "#FF97FF",
           "#FECB52"
          ],
          "font": {
           "color": "#2a3f5f"
          },
          "geo": {
           "bgcolor": "white",
           "lakecolor": "white",
           "landcolor": "#E5ECF6",
           "showlakes": true,
           "showland": true,
           "subunitcolor": "white"
          },
          "hoverlabel": {
           "align": "left"
          },
          "hovermode": "closest",
          "mapbox": {
           "style": "light"
          },
          "paper_bgcolor": "white",
          "plot_bgcolor": "#E5ECF6",
          "polar": {
           "angularaxis": {
            "gridcolor": "white",
            "linecolor": "white",
            "ticks": ""
           },
           "bgcolor": "#E5ECF6",
           "radialaxis": {
            "gridcolor": "white",
            "linecolor": "white",
            "ticks": ""
           }
          },
          "scene": {
           "xaxis": {
            "backgroundcolor": "#E5ECF6",
            "gridcolor": "white",
            "gridwidth": 2,
            "linecolor": "white",
            "showbackground": true,
            "ticks": "",
            "zerolinecolor": "white"
           },
           "yaxis": {
            "backgroundcolor": "#E5ECF6",
            "gridcolor": "white",
            "gridwidth": 2,
            "linecolor": "white",
            "showbackground": true,
            "ticks": "",
            "zerolinecolor": "white"
           },
           "zaxis": {
            "backgroundcolor": "#E5ECF6",
            "gridcolor": "white",
            "gridwidth": 2,
            "linecolor": "white",
            "showbackground": true,
            "ticks": "",
            "zerolinecolor": "white"
           }
          },
          "shapedefaults": {
           "line": {
            "color": "#2a3f5f"
           }
          },
          "ternary": {
           "aaxis": {
            "gridcolor": "white",
            "linecolor": "white",
            "ticks": ""
           },
           "baxis": {
            "gridcolor": "white",
            "linecolor": "white",
            "ticks": ""
           },
           "bgcolor": "#E5ECF6",
           "caxis": {
            "gridcolor": "white",
            "linecolor": "white",
            "ticks": ""
           }
          },
          "title": {
           "x": 0.05
          },
          "xaxis": {
           "automargin": true,
           "gridcolor": "white",
           "linecolor": "white",
           "ticks": "",
           "title": {
            "standoff": 15
           },
           "zerolinecolor": "white",
           "zerolinewidth": 2
          },
          "yaxis": {
           "automargin": true,
           "gridcolor": "white",
           "linecolor": "white",
           "ticks": "",
           "title": {
            "standoff": 15
           },
           "zerolinecolor": "white",
           "zerolinewidth": 2
          }
         }
        },
        "xaxis": {
         "anchor": "y",
         "domain": [
          0,
          0.31999999999999995
         ],
         "title": {
          "text": "nodes"
         }
        },
        "xaxis2": {
         "anchor": "y2",
         "domain": [
          0.33999999999999997,
          0.6599999999999999
         ],
         "matches": "x",
         "title": {
          "text": "nodes"
         }
        },
        "xaxis3": {
         "anchor": "y3",
         "domain": [
          0.6799999999999999,
          0.9999999999999999
         ],
         "matches": "x",
         "title": {
          "text": "nodes"
         }
        },
        "yaxis": {
         "anchor": "x",
         "domain": [
          0,
          1
         ],
         "title": {
          "text": "Flow capacity (kW)"
         }
        },
        "yaxis2": {
         "anchor": "x2",
         "domain": [
          0,
          1
         ],
         "matches": "y",
         "showticklabels": false
        },
        "yaxis3": {
         "anchor": "x3",
         "domain": [
          0,
          1
         ],
         "matches": "y",
         "showticklabels": false
        }
       }
      }
     },
     "metadata": {},
     "output_type": "display_data"
    }
   ],
   "source": [
    "df_capacity = (\n",
    "    model.results.flow_cap.where(\n",
    "        ~model.inputs.base_tech.str.contains(\"demand|transmission\")\n",
    "    )\n",
    "    .to_series()\n",
    "    .where(lambda x: x != 0)\n",
    "    .dropna()\n",
    "    .to_frame(\"Flow capacity (kW)\")\n",
    "    .reset_index()\n",
    ")\n",
    "\n",
    "print(df_capacity.head())\n",
    "\n",
    "fig = px.bar(\n",
    "    df_capacity,\n",
    "    x=\"nodes\",\n",
    "    y=\"Flow capacity (kW)\",\n",
    "    color=\"techs\",\n",
    "    facet_col=\"carriers\",\n",
    "    color_discrete_map=colors,\n",
    ")\n",
    "fig.show()"
   ]
  },
  {
   "cell_type": "code",
   "execution_count": 66,
   "id": "e42a3199",
   "metadata": {},
   "outputs": [
    {
     "data": {
      "application/vnd.plotly.v1+json": {
       "config": {
        "plotlyServerURL": "https://plot.ly"
       },
       "data": [
        {
         "customdata": {
          "bdata": "SxU33HdDVkD0twb6OQVYQPS3Bvo5BVhASxU33HdDVkA=",
          "dtype": "f8",
          "shape": "4, 1"
         },
         "hovertemplate": "<b>%{hovertext}</b><br><br>carriers=heat<br>latitude=%{lat}<br>longitude=%{lon}<br>Flow capacity (kW)=%{customdata[0]}<extra></extra>",
         "hovertext": [
          "N1",
          "N1",
          "X1",
          "X2"
         ],
         "lat": {
          "bdata": "HooCfSL/SUAeigJ9Iv9JQJZ4QNmU/0lAwaikTkD/SUA=",
          "dtype": "f8"
         },
         "legendgroup": "heat",
         "line": {
          "color": "#636efa"
         },
         "lon": {
          "bdata": "j6omiLpvEUCPqiaIum8RQHS1FfvLbhFAUn5S7dNxEUA=",
          "dtype": "f8"
         },
         "mode": "lines",
         "name": "heat",
         "showlegend": true,
         "subplot": "map",
         "type": "scattermap"
        },
        {
         "customdata": {
          "bdata": "eu9r4834WUCAhR/ALQM1QHrva+PN+FlAgIUfwC0DNUA=",
          "dtype": "f8",
          "shape": "4, 1"
         },
         "hovertemplate": "<b>%{hovertext}</b><br><br>carriers=electricity<br>latitude=%{lat}<br>longitude=%{lon}<br>Flow capacity (kW)=%{customdata[0]}<extra></extra>",
         "hovertext": [
          "X1",
          "X1",
          "X2",
          "X3"
         ],
         "lat": {
          "bdata": "lnhA2ZT/SUCWeEDZlP9JQMGopE5A/0lArIvbaAD/SUA=",
          "dtype": "f8"
         },
         "legendgroup": "electricity",
         "line": {
          "color": "#EF553B"
         },
         "lon": {
          "bdata": "dLUV+8tuEUB0tRX7y24RQFJ+Uu3TcRFAbef7qfFyEUA=",
          "dtype": "f8"
         },
         "mode": "lines",
         "name": "electricity",
         "showlegend": true,
         "subplot": "map",
         "type": "scattermap"
        }
       ],
       "layout": {
        "height": 1200,
        "hoverdistance": 50,
        "legend": {
         "title": {
          "text": "carriers"
         },
         "tracegroupgap": 0
        },
        "map": {
         "center": {
          "lat": 51.99408,
          "lon": 4.360180000000001
         },
         "domain": {
          "x": [
           0,
           1
          ],
          "y": [
           0,
           1
          ]
         },
         "style": "open-street-map",
         "zoom": 16.2
        },
        "mapbox": {
         "center": {
          "lat": 51.99464625,
          "lon": 4.359673750000001
         },
         "zoom": 3
        },
        "margin": {
         "b": 0,
         "l": 0,
         "r": 0,
         "t": 0
        },
        "template": {
         "data": {
          "bar": [
           {
            "error_x": {
             "color": "#2a3f5f"
            },
            "error_y": {
             "color": "#2a3f5f"
            },
            "marker": {
             "line": {
              "color": "#E5ECF6",
              "width": 0.5
             },
             "pattern": {
              "fillmode": "overlay",
              "size": 10,
              "solidity": 0.2
             }
            },
            "type": "bar"
           }
          ],
          "barpolar": [
           {
            "marker": {
             "line": {
              "color": "#E5ECF6",
              "width": 0.5
             },
             "pattern": {
              "fillmode": "overlay",
              "size": 10,
              "solidity": 0.2
             }
            },
            "type": "barpolar"
           }
          ],
          "carpet": [
           {
            "aaxis": {
             "endlinecolor": "#2a3f5f",
             "gridcolor": "white",
             "linecolor": "white",
             "minorgridcolor": "white",
             "startlinecolor": "#2a3f5f"
            },
            "baxis": {
             "endlinecolor": "#2a3f5f",
             "gridcolor": "white",
             "linecolor": "white",
             "minorgridcolor": "white",
             "startlinecolor": "#2a3f5f"
            },
            "type": "carpet"
           }
          ],
          "choropleth": [
           {
            "colorbar": {
             "outlinewidth": 0,
             "ticks": ""
            },
            "type": "choropleth"
           }
          ],
          "contour": [
           {
            "colorbar": {
             "outlinewidth": 0,
             "ticks": ""
            },
            "colorscale": [
             [
              0,
              "#0d0887"
             ],
             [
              0.1111111111111111,
              "#46039f"
             ],
             [
              0.2222222222222222,
              "#7201a8"
             ],
             [
              0.3333333333333333,
              "#9c179e"
             ],
             [
              0.4444444444444444,
              "#bd3786"
             ],
             [
              0.5555555555555556,
              "#d8576b"
             ],
             [
              0.6666666666666666,
              "#ed7953"
             ],
             [
              0.7777777777777778,
              "#fb9f3a"
             ],
             [
              0.8888888888888888,
              "#fdca26"
             ],
             [
              1,
              "#f0f921"
             ]
            ],
            "type": "contour"
           }
          ],
          "contourcarpet": [
           {
            "colorbar": {
             "outlinewidth": 0,
             "ticks": ""
            },
            "type": "contourcarpet"
           }
          ],
          "heatmap": [
           {
            "colorbar": {
             "outlinewidth": 0,
             "ticks": ""
            },
            "colorscale": [
             [
              0,
              "#0d0887"
             ],
             [
              0.1111111111111111,
              "#46039f"
             ],
             [
              0.2222222222222222,
              "#7201a8"
             ],
             [
              0.3333333333333333,
              "#9c179e"
             ],
             [
              0.4444444444444444,
              "#bd3786"
             ],
             [
              0.5555555555555556,
              "#d8576b"
             ],
             [
              0.6666666666666666,
              "#ed7953"
             ],
             [
              0.7777777777777778,
              "#fb9f3a"
             ],
             [
              0.8888888888888888,
              "#fdca26"
             ],
             [
              1,
              "#f0f921"
             ]
            ],
            "type": "heatmap"
           }
          ],
          "histogram": [
           {
            "marker": {
             "pattern": {
              "fillmode": "overlay",
              "size": 10,
              "solidity": 0.2
             }
            },
            "type": "histogram"
           }
          ],
          "histogram2d": [
           {
            "colorbar": {
             "outlinewidth": 0,
             "ticks": ""
            },
            "colorscale": [
             [
              0,
              "#0d0887"
             ],
             [
              0.1111111111111111,
              "#46039f"
             ],
             [
              0.2222222222222222,
              "#7201a8"
             ],
             [
              0.3333333333333333,
              "#9c179e"
             ],
             [
              0.4444444444444444,
              "#bd3786"
             ],
             [
              0.5555555555555556,
              "#d8576b"
             ],
             [
              0.6666666666666666,
              "#ed7953"
             ],
             [
              0.7777777777777778,
              "#fb9f3a"
             ],
             [
              0.8888888888888888,
              "#fdca26"
             ],
             [
              1,
              "#f0f921"
             ]
            ],
            "type": "histogram2d"
           }
          ],
          "histogram2dcontour": [
           {
            "colorbar": {
             "outlinewidth": 0,
             "ticks": ""
            },
            "colorscale": [
             [
              0,
              "#0d0887"
             ],
             [
              0.1111111111111111,
              "#46039f"
             ],
             [
              0.2222222222222222,
              "#7201a8"
             ],
             [
              0.3333333333333333,
              "#9c179e"
             ],
             [
              0.4444444444444444,
              "#bd3786"
             ],
             [
              0.5555555555555556,
              "#d8576b"
             ],
             [
              0.6666666666666666,
              "#ed7953"
             ],
             [
              0.7777777777777778,
              "#fb9f3a"
             ],
             [
              0.8888888888888888,
              "#fdca26"
             ],
             [
              1,
              "#f0f921"
             ]
            ],
            "type": "histogram2dcontour"
           }
          ],
          "mesh3d": [
           {
            "colorbar": {
             "outlinewidth": 0,
             "ticks": ""
            },
            "type": "mesh3d"
           }
          ],
          "parcoords": [
           {
            "line": {
             "colorbar": {
              "outlinewidth": 0,
              "ticks": ""
             }
            },
            "type": "parcoords"
           }
          ],
          "pie": [
           {
            "automargin": true,
            "type": "pie"
           }
          ],
          "scatter": [
           {
            "fillpattern": {
             "fillmode": "overlay",
             "size": 10,
             "solidity": 0.2
            },
            "type": "scatter"
           }
          ],
          "scatter3d": [
           {
            "line": {
             "colorbar": {
              "outlinewidth": 0,
              "ticks": ""
             }
            },
            "marker": {
             "colorbar": {
              "outlinewidth": 0,
              "ticks": ""
             }
            },
            "type": "scatter3d"
           }
          ],
          "scattercarpet": [
           {
            "marker": {
             "colorbar": {
              "outlinewidth": 0,
              "ticks": ""
             }
            },
            "type": "scattercarpet"
           }
          ],
          "scattergeo": [
           {
            "marker": {
             "colorbar": {
              "outlinewidth": 0,
              "ticks": ""
             }
            },
            "type": "scattergeo"
           }
          ],
          "scattergl": [
           {
            "marker": {
             "colorbar": {
              "outlinewidth": 0,
              "ticks": ""
             }
            },
            "type": "scattergl"
           }
          ],
          "scattermap": [
           {
            "marker": {
             "colorbar": {
              "outlinewidth": 0,
              "ticks": ""
             }
            },
            "type": "scattermap"
           }
          ],
          "scattermapbox": [
           {
            "marker": {
             "colorbar": {
              "outlinewidth": 0,
              "ticks": ""
             }
            },
            "type": "scattermapbox"
           }
          ],
          "scatterpolar": [
           {
            "marker": {
             "colorbar": {
              "outlinewidth": 0,
              "ticks": ""
             }
            },
            "type": "scatterpolar"
           }
          ],
          "scatterpolargl": [
           {
            "marker": {
             "colorbar": {
              "outlinewidth": 0,
              "ticks": ""
             }
            },
            "type": "scatterpolargl"
           }
          ],
          "scatterternary": [
           {
            "marker": {
             "colorbar": {
              "outlinewidth": 0,
              "ticks": ""
             }
            },
            "type": "scatterternary"
           }
          ],
          "surface": [
           {
            "colorbar": {
             "outlinewidth": 0,
             "ticks": ""
            },
            "colorscale": [
             [
              0,
              "#0d0887"
             ],
             [
              0.1111111111111111,
              "#46039f"
             ],
             [
              0.2222222222222222,
              "#7201a8"
             ],
             [
              0.3333333333333333,
              "#9c179e"
             ],
             [
              0.4444444444444444,
              "#bd3786"
             ],
             [
              0.5555555555555556,
              "#d8576b"
             ],
             [
              0.6666666666666666,
              "#ed7953"
             ],
             [
              0.7777777777777778,
              "#fb9f3a"
             ],
             [
              0.8888888888888888,
              "#fdca26"
             ],
             [
              1,
              "#f0f921"
             ]
            ],
            "type": "surface"
           }
          ],
          "table": [
           {
            "cells": {
             "fill": {
              "color": "#EBF0F8"
             },
             "line": {
              "color": "white"
             }
            },
            "header": {
             "fill": {
              "color": "#C8D4E3"
             },
             "line": {
              "color": "white"
             }
            },
            "type": "table"
           }
          ]
         },
         "layout": {
          "annotationdefaults": {
           "arrowcolor": "#2a3f5f",
           "arrowhead": 0,
           "arrowwidth": 1
          },
          "autotypenumbers": "strict",
          "coloraxis": {
           "colorbar": {
            "outlinewidth": 0,
            "ticks": ""
           }
          },
          "colorscale": {
           "diverging": [
            [
             0,
             "#8e0152"
            ],
            [
             0.1,
             "#c51b7d"
            ],
            [
             0.2,
             "#de77ae"
            ],
            [
             0.3,
             "#f1b6da"
            ],
            [
             0.4,
             "#fde0ef"
            ],
            [
             0.5,
             "#f7f7f7"
            ],
            [
             0.6,
             "#e6f5d0"
            ],
            [
             0.7,
             "#b8e186"
            ],
            [
             0.8,
             "#7fbc41"
            ],
            [
             0.9,
             "#4d9221"
            ],
            [
             1,
             "#276419"
            ]
           ],
           "sequential": [
            [
             0,
             "#0d0887"
            ],
            [
             0.1111111111111111,
             "#46039f"
            ],
            [
             0.2222222222222222,
             "#7201a8"
            ],
            [
             0.3333333333333333,
             "#9c179e"
            ],
            [
             0.4444444444444444,
             "#bd3786"
            ],
            [
             0.5555555555555556,
             "#d8576b"
            ],
            [
             0.6666666666666666,
             "#ed7953"
            ],
            [
             0.7777777777777778,
             "#fb9f3a"
            ],
            [
             0.8888888888888888,
             "#fdca26"
            ],
            [
             1,
             "#f0f921"
            ]
           ],
           "sequentialminus": [
            [
             0,
             "#0d0887"
            ],
            [
             0.1111111111111111,
             "#46039f"
            ],
            [
             0.2222222222222222,
             "#7201a8"
            ],
            [
             0.3333333333333333,
             "#9c179e"
            ],
            [
             0.4444444444444444,
             "#bd3786"
            ],
            [
             0.5555555555555556,
             "#d8576b"
            ],
            [
             0.6666666666666666,
             "#ed7953"
            ],
            [
             0.7777777777777778,
             "#fb9f3a"
            ],
            [
             0.8888888888888888,
             "#fdca26"
            ],
            [
             1,
             "#f0f921"
            ]
           ]
          },
          "colorway": [
           "#636efa",
           "#EF553B",
           "#00cc96",
           "#ab63fa",
           "#FFA15A",
           "#19d3f3",
           "#FF6692",
           "#B6E880",
           "#FF97FF",
           "#FECB52"
          ],
          "font": {
           "color": "#2a3f5f"
          },
          "geo": {
           "bgcolor": "white",
           "lakecolor": "white",
           "landcolor": "#E5ECF6",
           "showlakes": true,
           "showland": true,
           "subunitcolor": "white"
          },
          "hoverlabel": {
           "align": "left"
          },
          "hovermode": "closest",
          "mapbox": {
           "style": "light"
          },
          "paper_bgcolor": "white",
          "plot_bgcolor": "#E5ECF6",
          "polar": {
           "angularaxis": {
            "gridcolor": "white",
            "linecolor": "white",
            "ticks": ""
           },
           "bgcolor": "#E5ECF6",
           "radialaxis": {
            "gridcolor": "white",
            "linecolor": "white",
            "ticks": ""
           }
          },
          "scene": {
           "xaxis": {
            "backgroundcolor": "#E5ECF6",
            "gridcolor": "white",
            "gridwidth": 2,
            "linecolor": "white",
            "showbackground": true,
            "ticks": "",
            "zerolinecolor": "white"
           },
           "yaxis": {
            "backgroundcolor": "#E5ECF6",
            "gridcolor": "white",
            "gridwidth": 2,
            "linecolor": "white",
            "showbackground": true,
            "ticks": "",
            "zerolinecolor": "white"
           },
           "zaxis": {
            "backgroundcolor": "#E5ECF6",
            "gridcolor": "white",
            "gridwidth": 2,
            "linecolor": "white",
            "showbackground": true,
            "ticks": "",
            "zerolinecolor": "white"
           }
          },
          "shapedefaults": {
           "line": {
            "color": "#2a3f5f"
           }
          },
          "ternary": {
           "aaxis": {
            "gridcolor": "white",
            "linecolor": "white",
            "ticks": ""
           },
           "baxis": {
            "gridcolor": "white",
            "linecolor": "white",
            "ticks": ""
           },
           "bgcolor": "#E5ECF6",
           "caxis": {
            "gridcolor": "white",
            "linecolor": "white",
            "ticks": ""
           }
          },
          "title": {
           "x": 0.05
          },
          "xaxis": {
           "automargin": true,
           "gridcolor": "white",
           "linecolor": "white",
           "ticks": "",
           "title": {
            "standoff": 15
           },
           "zerolinecolor": "white",
           "zerolinewidth": 2
          },
          "yaxis": {
           "automargin": true,
           "gridcolor": "white",
           "linecolor": "white",
           "ticks": "",
           "title": {
            "standoff": 15
           },
           "zerolinecolor": "white",
           "zerolinewidth": 2
          }
         }
        }
       }
      }
     },
     "metadata": {},
     "output_type": "display_data"
    }
   ],
   "source": [
    "df_coords = model.inputs[[\"latitude\", \"longitude\"]].to_dataframe().reset_index()\n",
    "df_capacity = (\n",
    "    model.results.flow_cap.where(model.inputs.base_tech == \"transmission\")\n",
    "    .to_series()\n",
    "    .where(lambda x: x != 0)\n",
    "    .dropna()\n",
    "    .to_frame(\"Flow capacity (kW)\")\n",
    "    .reset_index()\n",
    ")\n",
    "df_capacity_coords = pd.merge(df_coords, df_capacity, left_on=\"nodes\", right_on=\"nodes\")\n",
    "\n",
    "fig = px.line_map(\n",
    "    df_capacity_coords,\n",
    "    lat=\"latitude\",\n",
    "    lon=\"longitude\",\n",
    "    color=\"carriers\",\n",
    "    hover_name=\"nodes\",\n",
    "    hover_data=\"Flow capacity (kW)\",\n",
    "    zoom=3,\n",
    "    height=1200,\n",
    ")\n",
    "fig.update_layout(\n",
    "    map_style=\"open-street-map\",\n",
    "    map_zoom=16.2,\n",
    "    map_center_lat=df_coords.latitude.mean(),\n",
    "    map_center_lon=df_coords.longitude.mean(),\n",
    "    margin={\"r\": 0, \"t\": 0, \"l\": 0, \"b\": 0},\n",
    "    hoverdistance=50,\n",
    ")"
   ]
  }
 ],
 "metadata": {
  "kernelspec": {
   "display_name": "calliope",
   "language": "python",
   "name": "python3"
  },
  "language_info": {
   "codemirror_mode": {
    "name": "ipython",
    "version": 3
   },
   "file_extension": ".py",
   "mimetype": "text/x-python",
   "name": "python",
   "nbconvert_exporter": "python",
   "pygments_lexer": "ipython3",
   "version": "3.12.11"
  }
 },
 "nbformat": 4,
 "nbformat_minor": 5
}
