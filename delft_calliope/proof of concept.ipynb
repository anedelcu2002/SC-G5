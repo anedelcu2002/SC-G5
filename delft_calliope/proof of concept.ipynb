{
 "cells": [
  {
   "cell_type": "code",
   "execution_count": 39,
   "id": "f1f4008b",
   "metadata": {},
   "outputs": [
    {
     "name": "stdout",
     "output_type": "stream",
     "text": [
      "[2025-10-11 00:05:39] INFO     Math init | loading pre-defined math.\n",
      "[2025-10-11 00:05:39] INFO     Math init | loading math files {'additional_math', 'operate', 'storage_inter_cluster', 'spores', 'base', 'milp'}.\n",
      "[2025-10-11 00:05:39] INFO     Model: preprocessing data\n",
      "[2025-10-11 00:05:39] INFO     Math build | building applied math with ['base', 'additional_math'].\n",
      "[2025-10-11 00:05:40] INFO     input data `color` not defined in model math; it will not be available in the optimisation problem.\n",
      "[2025-10-11 00:05:40] INFO     input data `name` not defined in model math; it will not be available in the optimisation problem.\n",
      "[2025-10-11 00:05:40] WARNING  ModelWarning: Only one timestep defined. Inferring timestep resolution to be 1 hour\n",
      "\n",
      "[2025-10-11 00:05:40] INFO     input data `color` not defined in model math; it will not be available in the optimisation problem.\n",
      "[2025-10-11 00:05:40] INFO     input data `name` not defined in model math; it will not be available in the optimisation problem.\n",
      "[2025-10-11 00:05:40] INFO     Model: initialisation complete\n"
     ]
    }
   ],
   "source": [
    "import pandas as pd\n",
    "import plotly.express as px\n",
    "\n",
    "import calliope\n",
    "\n",
    "# We increase logging verbosity\n",
    "calliope.set_log_verbosity(\"INFO\", include_solver_output=False)\n",
    "\n",
    "model = calliope.read_yaml(\"model.yaml\")"
   ]
  },
  {
   "cell_type": "code",
   "execution_count": 40,
   "id": "545139f6",
   "metadata": {},
   "outputs": [
    {
     "data": {
      "text/html": [
       "<div><svg style=\"position: absolute; width: 0; height: 0; overflow: hidden\">\n",
       "<defs>\n",
       "<symbol id=\"icon-database\" viewBox=\"0 0 32 32\">\n",
       "<path d=\"M16 0c-8.837 0-16 2.239-16 5v4c0 2.761 7.163 5 16 5s16-2.239 16-5v-4c0-2.761-7.163-5-16-5z\"></path>\n",
       "<path d=\"M16 17c-8.837 0-16-2.239-16-5v6c0 2.761 7.163 5 16 5s16-2.239 16-5v-6c0 2.761-7.163 5-16 5z\"></path>\n",
       "<path d=\"M16 26c-8.837 0-16-2.239-16-5v6c0 2.761 7.163 5 16 5s16-2.239 16-5v-6c0 2.761-7.163 5-16 5z\"></path>\n",
       "</symbol>\n",
       "<symbol id=\"icon-file-text2\" viewBox=\"0 0 32 32\">\n",
       "<path d=\"M28.681 7.159c-0.694-0.947-1.662-2.053-2.724-3.116s-2.169-2.030-3.116-2.724c-1.612-1.182-2.393-1.319-2.841-1.319h-15.5c-1.378 0-2.5 1.121-2.5 2.5v27c0 1.378 1.122 2.5 2.5 2.5h23c1.378 0 2.5-1.122 2.5-2.5v-19.5c0-0.448-0.137-1.23-1.319-2.841zM24.543 5.457c0.959 0.959 1.712 1.825 2.268 2.543h-4.811v-4.811c0.718 0.556 1.584 1.309 2.543 2.268zM28 29.5c0 0.271-0.229 0.5-0.5 0.5h-23c-0.271 0-0.5-0.229-0.5-0.5v-27c0-0.271 0.229-0.5 0.5-0.5 0 0 15.499-0 15.5 0v7c0 0.552 0.448 1 1 1h7v19.5z\"></path>\n",
       "<path d=\"M23 26h-14c-0.552 0-1-0.448-1-1s0.448-1 1-1h14c0.552 0 1 0.448 1 1s-0.448 1-1 1z\"></path>\n",
       "<path d=\"M23 22h-14c-0.552 0-1-0.448-1-1s0.448-1 1-1h14c0.552 0 1 0.448 1 1s-0.448 1-1 1z\"></path>\n",
       "<path d=\"M23 18h-14c-0.552 0-1-0.448-1-1s0.448-1 1-1h14c0.552 0 1 0.448 1 1s-0.448 1-1 1z\"></path>\n",
       "</symbol>\n",
       "</defs>\n",
       "</svg>\n",
       "<style>/* CSS stylesheet for displaying xarray objects in jupyterlab.\n",
       " *\n",
       " */\n",
       "\n",
       ":root {\n",
       "  --xr-font-color0: var(--jp-content-font-color0, rgba(0, 0, 0, 1));\n",
       "  --xr-font-color2: var(--jp-content-font-color2, rgba(0, 0, 0, 0.54));\n",
       "  --xr-font-color3: var(--jp-content-font-color3, rgba(0, 0, 0, 0.38));\n",
       "  --xr-border-color: var(--jp-border-color2, #e0e0e0);\n",
       "  --xr-disabled-color: var(--jp-layout-color3, #bdbdbd);\n",
       "  --xr-background-color: var(--jp-layout-color0, white);\n",
       "  --xr-background-color-row-even: var(--jp-layout-color1, white);\n",
       "  --xr-background-color-row-odd: var(--jp-layout-color2, #eeeeee);\n",
       "}\n",
       "\n",
       "html[theme=dark],\n",
       "body[data-theme=dark],\n",
       "body.vscode-dark {\n",
       "  --xr-font-color0: rgba(255, 255, 255, 1);\n",
       "  --xr-font-color2: rgba(255, 255, 255, 0.54);\n",
       "  --xr-font-color3: rgba(255, 255, 255, 0.38);\n",
       "  --xr-border-color: #1F1F1F;\n",
       "  --xr-disabled-color: #515151;\n",
       "  --xr-background-color: #111111;\n",
       "  --xr-background-color-row-even: #111111;\n",
       "  --xr-background-color-row-odd: #313131;\n",
       "}\n",
       "\n",
       ".xr-wrap {\n",
       "  display: block !important;\n",
       "  min-width: 300px;\n",
       "  max-width: 700px;\n",
       "}\n",
       "\n",
       ".xr-text-repr-fallback {\n",
       "  /* fallback to plain text repr when CSS is not injected (untrusted notebook) */\n",
       "  display: none;\n",
       "}\n",
       "\n",
       ".xr-header {\n",
       "  padding-top: 6px;\n",
       "  padding-bottom: 6px;\n",
       "  margin-bottom: 4px;\n",
       "  border-bottom: solid 1px var(--xr-border-color);\n",
       "}\n",
       "\n",
       ".xr-header > div,\n",
       ".xr-header > ul {\n",
       "  display: inline;\n",
       "  margin-top: 0;\n",
       "  margin-bottom: 0;\n",
       "}\n",
       "\n",
       ".xr-obj-type,\n",
       ".xr-array-name {\n",
       "  margin-left: 2px;\n",
       "  margin-right: 10px;\n",
       "}\n",
       "\n",
       ".xr-obj-type {\n",
       "  color: var(--xr-font-color2);\n",
       "}\n",
       "\n",
       ".xr-sections {\n",
       "  padding-left: 0 !important;\n",
       "  display: grid;\n",
       "  grid-template-columns: 150px auto auto 1fr 20px 20px;\n",
       "}\n",
       "\n",
       ".xr-section-item {\n",
       "  display: contents;\n",
       "}\n",
       "\n",
       ".xr-section-item input {\n",
       "  display: none;\n",
       "}\n",
       "\n",
       ".xr-section-item input + label {\n",
       "  color: var(--xr-disabled-color);\n",
       "}\n",
       "\n",
       ".xr-section-item input:enabled + label {\n",
       "  cursor: pointer;\n",
       "  color: var(--xr-font-color2);\n",
       "}\n",
       "\n",
       ".xr-section-item input:enabled + label:hover {\n",
       "  color: var(--xr-font-color0);\n",
       "}\n",
       "\n",
       ".xr-section-summary {\n",
       "  grid-column: 1;\n",
       "  color: var(--xr-font-color2);\n",
       "  font-weight: 500;\n",
       "}\n",
       "\n",
       ".xr-section-summary > span {\n",
       "  display: inline-block;\n",
       "  padding-left: 0.5em;\n",
       "}\n",
       "\n",
       ".xr-section-summary-in:disabled + label {\n",
       "  color: var(--xr-font-color2);\n",
       "}\n",
       "\n",
       ".xr-section-summary-in + label:before {\n",
       "  display: inline-block;\n",
       "  content: '►';\n",
       "  font-size: 11px;\n",
       "  width: 15px;\n",
       "  text-align: center;\n",
       "}\n",
       "\n",
       ".xr-section-summary-in:disabled + label:before {\n",
       "  color: var(--xr-disabled-color);\n",
       "}\n",
       "\n",
       ".xr-section-summary-in:checked + label:before {\n",
       "  content: '▼';\n",
       "}\n",
       "\n",
       ".xr-section-summary-in:checked + label > span {\n",
       "  display: none;\n",
       "}\n",
       "\n",
       ".xr-section-summary,\n",
       ".xr-section-inline-details {\n",
       "  padding-top: 4px;\n",
       "  padding-bottom: 4px;\n",
       "}\n",
       "\n",
       ".xr-section-inline-details {\n",
       "  grid-column: 2 / -1;\n",
       "}\n",
       "\n",
       ".xr-section-details {\n",
       "  display: none;\n",
       "  grid-column: 1 / -1;\n",
       "  margin-bottom: 5px;\n",
       "}\n",
       "\n",
       ".xr-section-summary-in:checked ~ .xr-section-details {\n",
       "  display: contents;\n",
       "}\n",
       "\n",
       ".xr-array-wrap {\n",
       "  grid-column: 1 / -1;\n",
       "  display: grid;\n",
       "  grid-template-columns: 20px auto;\n",
       "}\n",
       "\n",
       ".xr-array-wrap > label {\n",
       "  grid-column: 1;\n",
       "  vertical-align: top;\n",
       "}\n",
       "\n",
       ".xr-preview {\n",
       "  color: var(--xr-font-color3);\n",
       "}\n",
       "\n",
       ".xr-array-preview,\n",
       ".xr-array-data {\n",
       "  padding: 0 5px !important;\n",
       "  grid-column: 2;\n",
       "}\n",
       "\n",
       ".xr-array-data,\n",
       ".xr-array-in:checked ~ .xr-array-preview {\n",
       "  display: none;\n",
       "}\n",
       "\n",
       ".xr-array-in:checked ~ .xr-array-data,\n",
       ".xr-array-preview {\n",
       "  display: inline-block;\n",
       "}\n",
       "\n",
       ".xr-dim-list {\n",
       "  display: inline-block !important;\n",
       "  list-style: none;\n",
       "  padding: 0 !important;\n",
       "  margin: 0;\n",
       "}\n",
       "\n",
       ".xr-dim-list li {\n",
       "  display: inline-block;\n",
       "  padding: 0;\n",
       "  margin: 0;\n",
       "}\n",
       "\n",
       ".xr-dim-list:before {\n",
       "  content: '(';\n",
       "}\n",
       "\n",
       ".xr-dim-list:after {\n",
       "  content: ')';\n",
       "}\n",
       "\n",
       ".xr-dim-list li:not(:last-child):after {\n",
       "  content: ',';\n",
       "  padding-right: 5px;\n",
       "}\n",
       "\n",
       ".xr-has-index {\n",
       "  font-weight: bold;\n",
       "}\n",
       "\n",
       ".xr-var-list,\n",
       ".xr-var-item {\n",
       "  display: contents;\n",
       "}\n",
       "\n",
       ".xr-var-item > div,\n",
       ".xr-var-item label,\n",
       ".xr-var-item > .xr-var-name span {\n",
       "  background-color: var(--xr-background-color-row-even);\n",
       "  margin-bottom: 0;\n",
       "}\n",
       "\n",
       ".xr-var-item > .xr-var-name:hover span {\n",
       "  padding-right: 5px;\n",
       "}\n",
       "\n",
       ".xr-var-list > li:nth-child(odd) > div,\n",
       ".xr-var-list > li:nth-child(odd) > label,\n",
       ".xr-var-list > li:nth-child(odd) > .xr-var-name span {\n",
       "  background-color: var(--xr-background-color-row-odd);\n",
       "}\n",
       "\n",
       ".xr-var-name {\n",
       "  grid-column: 1;\n",
       "}\n",
       "\n",
       ".xr-var-dims {\n",
       "  grid-column: 2;\n",
       "}\n",
       "\n",
       ".xr-var-dtype {\n",
       "  grid-column: 3;\n",
       "  text-align: right;\n",
       "  color: var(--xr-font-color2);\n",
       "}\n",
       "\n",
       ".xr-var-preview {\n",
       "  grid-column: 4;\n",
       "}\n",
       "\n",
       ".xr-index-preview {\n",
       "  grid-column: 2 / 5;\n",
       "  color: var(--xr-font-color2);\n",
       "}\n",
       "\n",
       ".xr-var-name,\n",
       ".xr-var-dims,\n",
       ".xr-var-dtype,\n",
       ".xr-preview,\n",
       ".xr-attrs dt {\n",
       "  white-space: nowrap;\n",
       "  overflow: hidden;\n",
       "  text-overflow: ellipsis;\n",
       "  padding-right: 10px;\n",
       "}\n",
       "\n",
       ".xr-var-name:hover,\n",
       ".xr-var-dims:hover,\n",
       ".xr-var-dtype:hover,\n",
       ".xr-attrs dt:hover {\n",
       "  overflow: visible;\n",
       "  width: auto;\n",
       "  z-index: 1;\n",
       "}\n",
       "\n",
       ".xr-var-attrs,\n",
       ".xr-var-data,\n",
       ".xr-index-data {\n",
       "  display: none;\n",
       "  background-color: var(--xr-background-color) !important;\n",
       "  padding-bottom: 5px !important;\n",
       "}\n",
       "\n",
       ".xr-var-attrs-in:checked ~ .xr-var-attrs,\n",
       ".xr-var-data-in:checked ~ .xr-var-data,\n",
       ".xr-index-data-in:checked ~ .xr-index-data {\n",
       "  display: block;\n",
       "}\n",
       "\n",
       ".xr-var-data > table {\n",
       "  float: right;\n",
       "}\n",
       "\n",
       ".xr-var-name span,\n",
       ".xr-var-data,\n",
       ".xr-index-name div,\n",
       ".xr-index-data,\n",
       ".xr-attrs {\n",
       "  padding-left: 25px !important;\n",
       "}\n",
       "\n",
       ".xr-attrs,\n",
       ".xr-var-attrs,\n",
       ".xr-var-data,\n",
       ".xr-index-data {\n",
       "  grid-column: 1 / -1;\n",
       "}\n",
       "\n",
       "dl.xr-attrs {\n",
       "  padding: 0;\n",
       "  margin: 0;\n",
       "  display: grid;\n",
       "  grid-template-columns: 125px auto;\n",
       "}\n",
       "\n",
       ".xr-attrs dt,\n",
       ".xr-attrs dd {\n",
       "  padding: 0;\n",
       "  margin: 0;\n",
       "  float: left;\n",
       "  padding-right: 10px;\n",
       "  width: auto;\n",
       "}\n",
       "\n",
       ".xr-attrs dt {\n",
       "  font-weight: normal;\n",
       "  grid-column: 1;\n",
       "}\n",
       "\n",
       ".xr-attrs dt:hover span {\n",
       "  display: inline-block;\n",
       "  background: var(--xr-background-color);\n",
       "  padding-right: 10px;\n",
       "}\n",
       "\n",
       ".xr-attrs dd {\n",
       "  grid-column: 2;\n",
       "  white-space: pre-wrap;\n",
       "  word-break: break-all;\n",
       "}\n",
       "\n",
       ".xr-icon-database,\n",
       ".xr-icon-file-text2,\n",
       ".xr-no-icon {\n",
       "  display: inline-block;\n",
       "  vertical-align: middle;\n",
       "  width: 1em;\n",
       "  height: 1.5em !important;\n",
       "  stroke-width: 0;\n",
       "  stroke: currentColor;\n",
       "  fill: currentColor;\n",
       "}\n",
       "</style><pre class='xr-text-repr-fallback'>&lt;xarray.Dataset&gt; Size: 8kB\n",
       "Dimensions:                     (costs: 1, techs: 12, carriers: 3, nodes: 4,\n",
       "                                 timesteps: 1)\n",
       "Coordinates:\n",
       "  * costs                       (costs) object 8B &#x27;monetary&#x27;\n",
       "  * techs                       (techs) object 96B &#x27;N1_to_X2&#x27; ... &#x27;supply_gri...\n",
       "  * carriers                    (carriers) object 24B &#x27;electricity&#x27; &#x27;gas&#x27; &#x27;heat&#x27;\n",
       "  * nodes                       (nodes) object 32B &#x27;N1&#x27; &#x27;X1&#x27; &#x27;X2&#x27; &#x27;X3&#x27;\n",
       "  * timesteps                   (timesteps) datetime64[ns] 8B 2050-01-01\n",
       "Data variables: (12/34)\n",
       "    cost_interest_rate          (costs) float64 8B 0.1\n",
       "    bigM                        float64 8B 1e+06\n",
       "    objective_cost_weights      (costs) float64 8B 1.0\n",
       "    base_tech                   (techs) object 96B &#x27;transmission&#x27; ... &#x27;supply&#x27;\n",
       "    carrier_export              (techs, carriers) bool 36B False False ... False\n",
       "    carrier_in                  (nodes, techs, carriers) bool 144B False ... ...\n",
       "    ...                          ...\n",
       "    longitude                   (nodes) float64 32B 4.359 4.358 4.361 4.362\n",
       "    source_use_equals           (techs, timesteps) float64 96B nan nan ... nan\n",
       "    sink_use_equals             (timesteps, techs, nodes) float64 384B nan .....\n",
       "    definition_matrix           (nodes, techs, carriers) bool 144B False ... ...\n",
       "    timestep_resolution         (timesteps) float64 8B 1.0\n",
       "    timestep_weights            (timesteps) float64 8B 1.0</pre><div class='xr-wrap' style='display:none'><div class='xr-header'><div class='xr-obj-type'>xarray.Dataset</div></div><ul class='xr-sections'><li class='xr-section-item'><input id='section-daf9b9b4-a4fd-4f88-9f2a-ba8111a8176b' class='xr-section-summary-in' type='checkbox' disabled ><label for='section-daf9b9b4-a4fd-4f88-9f2a-ba8111a8176b' class='xr-section-summary'  title='Expand/collapse section'>Dimensions:</label><div class='xr-section-inline-details'><ul class='xr-dim-list'><li><span class='xr-has-index'>costs</span>: 1</li><li><span class='xr-has-index'>techs</span>: 12</li><li><span class='xr-has-index'>carriers</span>: 3</li><li><span class='xr-has-index'>nodes</span>: 4</li><li><span class='xr-has-index'>timesteps</span>: 1</li></ul></div><div class='xr-section-details'></div></li><li class='xr-section-item'><input id='section-1a7280e1-40d0-4b84-a9f4-49d89f222d95' class='xr-section-summary-in' type='checkbox'  checked><label for='section-1a7280e1-40d0-4b84-a9f4-49d89f222d95' class='xr-section-summary' >Coordinates: <span>(5)</span></label><div class='xr-section-inline-details'></div><div class='xr-section-details'><ul class='xr-var-list'><li class='xr-var-item'><div class='xr-var-name'><span class='xr-has-index'>costs</span></div><div class='xr-var-dims'>(costs)</div><div class='xr-var-dtype'>object</div><div class='xr-var-preview xr-preview'>&#x27;monetary&#x27;</div><input id='attrs-7169a8cb-35dc-4f5c-90d4-acef79b87e7a' class='xr-var-attrs-in' type='checkbox' disabled><label for='attrs-7169a8cb-35dc-4f5c-90d4-acef79b87e7a' title='Show/Hide attributes'><svg class='icon xr-icon-file-text2'><use xlink:href='#icon-file-text2'></use></svg></label><input id='data-f55800f9-111f-4e37-bae9-420e412accb2' class='xr-var-data-in' type='checkbox'><label for='data-f55800f9-111f-4e37-bae9-420e412accb2' title='Show/Hide data repr'><svg class='icon xr-icon-database'><use xlink:href='#icon-database'></use></svg></label><div class='xr-var-attrs'><dl class='xr-attrs'></dl></div><div class='xr-var-data'><pre>array([&#x27;monetary&#x27;], dtype=object)</pre></div></li><li class='xr-var-item'><div class='xr-var-name'><span class='xr-has-index'>techs</span></div><div class='xr-var-dims'>(techs)</div><div class='xr-var-dtype'>object</div><div class='xr-var-preview xr-preview'>&#x27;N1_to_X2&#x27; ... &#x27;supply_grid_power&#x27;</div><input id='attrs-fbbf3b04-9c03-49bc-ac4f-886b6a45d990' class='xr-var-attrs-in' type='checkbox' disabled><label for='attrs-fbbf3b04-9c03-49bc-ac4f-886b6a45d990' title='Show/Hide attributes'><svg class='icon xr-icon-file-text2'><use xlink:href='#icon-file-text2'></use></svg></label><input id='data-b816913f-c565-4ca1-8a28-882ba57c066a' class='xr-var-data-in' type='checkbox'><label for='data-b816913f-c565-4ca1-8a28-882ba57c066a' title='Show/Hide data repr'><svg class='icon xr-icon-database'><use xlink:href='#icon-database'></use></svg></label><div class='xr-var-attrs'><dl class='xr-attrs'></dl></div><div class='xr-var-data'><pre>array([&#x27;N1_to_X2&#x27;, &#x27;N1_to_X3&#x27;, &#x27;X1_to_N1&#x27;, &#x27;X1_to_X2&#x27;, &#x27;X1_to_X3&#x27;, &#x27;boiler&#x27;,\n",
       "       &#x27;chp&#x27;, &#x27;demand_electricity&#x27;, &#x27;demand_heat&#x27;, &#x27;pv&#x27;, &#x27;supply_gas&#x27;,\n",
       "       &#x27;supply_grid_power&#x27;], dtype=object)</pre></div></li><li class='xr-var-item'><div class='xr-var-name'><span class='xr-has-index'>carriers</span></div><div class='xr-var-dims'>(carriers)</div><div class='xr-var-dtype'>object</div><div class='xr-var-preview xr-preview'>&#x27;electricity&#x27; &#x27;gas&#x27; &#x27;heat&#x27;</div><input id='attrs-b9059222-0674-48a5-a0a7-f34e1fd2ea52' class='xr-var-attrs-in' type='checkbox' disabled><label for='attrs-b9059222-0674-48a5-a0a7-f34e1fd2ea52' title='Show/Hide attributes'><svg class='icon xr-icon-file-text2'><use xlink:href='#icon-file-text2'></use></svg></label><input id='data-31cb677b-1550-4e45-bbf7-3a46734a7a1d' class='xr-var-data-in' type='checkbox'><label for='data-31cb677b-1550-4e45-bbf7-3a46734a7a1d' title='Show/Hide data repr'><svg class='icon xr-icon-database'><use xlink:href='#icon-database'></use></svg></label><div class='xr-var-attrs'><dl class='xr-attrs'></dl></div><div class='xr-var-data'><pre>array([&#x27;electricity&#x27;, &#x27;gas&#x27;, &#x27;heat&#x27;], dtype=object)</pre></div></li><li class='xr-var-item'><div class='xr-var-name'><span class='xr-has-index'>nodes</span></div><div class='xr-var-dims'>(nodes)</div><div class='xr-var-dtype'>object</div><div class='xr-var-preview xr-preview'>&#x27;N1&#x27; &#x27;X1&#x27; &#x27;X2&#x27; &#x27;X3&#x27;</div><input id='attrs-18e16306-8c28-4c32-b25b-0c84e7198b2c' class='xr-var-attrs-in' type='checkbox' disabled><label for='attrs-18e16306-8c28-4c32-b25b-0c84e7198b2c' title='Show/Hide attributes'><svg class='icon xr-icon-file-text2'><use xlink:href='#icon-file-text2'></use></svg></label><input id='data-848760dc-e53c-4469-9309-8aa72a8523ab' class='xr-var-data-in' type='checkbox'><label for='data-848760dc-e53c-4469-9309-8aa72a8523ab' title='Show/Hide data repr'><svg class='icon xr-icon-database'><use xlink:href='#icon-database'></use></svg></label><div class='xr-var-attrs'><dl class='xr-attrs'></dl></div><div class='xr-var-data'><pre>array([&#x27;N1&#x27;, &#x27;X1&#x27;, &#x27;X2&#x27;, &#x27;X3&#x27;], dtype=object)</pre></div></li><li class='xr-var-item'><div class='xr-var-name'><span class='xr-has-index'>timesteps</span></div><div class='xr-var-dims'>(timesteps)</div><div class='xr-var-dtype'>datetime64[ns]</div><div class='xr-var-preview xr-preview'>2050-01-01</div><input id='attrs-cec686c3-bdc3-4064-9411-c23912301d70' class='xr-var-attrs-in' type='checkbox' disabled><label for='attrs-cec686c3-bdc3-4064-9411-c23912301d70' title='Show/Hide attributes'><svg class='icon xr-icon-file-text2'><use xlink:href='#icon-file-text2'></use></svg></label><input id='data-d9f370fd-af93-489e-bc4d-9980ab2f4f83' class='xr-var-data-in' type='checkbox'><label for='data-d9f370fd-af93-489e-bc4d-9980ab2f4f83' title='Show/Hide data repr'><svg class='icon xr-icon-database'><use xlink:href='#icon-database'></use></svg></label><div class='xr-var-attrs'><dl class='xr-attrs'></dl></div><div class='xr-var-data'><pre>array([&#x27;2050-01-01T00:00:00.000000000&#x27;], dtype=&#x27;datetime64[ns]&#x27;)</pre></div></li></ul></div></li><li class='xr-section-item'><input id='section-ae80a18e-9c06-4ef9-8956-b20b810bcead' class='xr-section-summary-in' type='checkbox'  ><label for='section-ae80a18e-9c06-4ef9-8956-b20b810bcead' class='xr-section-summary' >Data variables: <span>(34)</span></label><div class='xr-section-inline-details'></div><div class='xr-section-details'><ul class='xr-var-list'><li class='xr-var-item'><div class='xr-var-name'><span>cost_interest_rate</span></div><div class='xr-var-dims'>(costs)</div><div class='xr-var-dtype'>float64</div><div class='xr-var-preview xr-preview'>0.1</div><input id='attrs-88972ea7-fce7-46eb-a5f3-cf6b802a78e9' class='xr-var-attrs-in' type='checkbox' ><label for='attrs-88972ea7-fce7-46eb-a5f3-cf6b802a78e9' title='Show/Hide attributes'><svg class='icon xr-icon-file-text2'><use xlink:href='#icon-file-text2'></use></svg></label><input id='data-b4bcdaa8-55e5-4410-9de3-e3b16c43e3e9' class='xr-var-data-in' type='checkbox'><label for='data-b4bcdaa8-55e5-4410-9de3-e3b16c43e3e9' title='Show/Hide data repr'><svg class='icon xr-icon-database'><use xlink:href='#icon-database'></use></svg></label><div class='xr-var-attrs'><dl class='xr-attrs'><dt><span>title :</span></dt><dd>Interest rate.</dd><dt><span>description :</span></dt><dd>Used when computing levelized costs and technology depreciation_rate (relative to lifetime).</dd><dt><span>default :</span></dt><dd>0</dd><dt><span>resample_method :</span></dt><dd>first</dd><dt><span>unit :</span></dt><dd>unitless</dd></dl></div><div class='xr-var-data'><pre>array([0.1])</pre></div></li><li class='xr-var-item'><div class='xr-var-name'><span>bigM</span></div><div class='xr-var-dims'>()</div><div class='xr-var-dtype'>float64</div><div class='xr-var-preview xr-preview'>1e+06</div><input id='attrs-48e0b3c9-aee4-4368-a228-af5c270253f6' class='xr-var-attrs-in' type='checkbox' ><label for='attrs-48e0b3c9-aee4-4368-a228-af5c270253f6' title='Show/Hide attributes'><svg class='icon xr-icon-file-text2'><use xlink:href='#icon-file-text2'></use></svg></label><input id='data-e008bebf-eeac-499c-8cc4-929e48a566c8' class='xr-var-data-in' type='checkbox'><label for='data-e008bebf-eeac-499c-8cc4-929e48a566c8' title='Show/Hide data repr'><svg class='icon xr-icon-database'><use xlink:href='#icon-database'></use></svg></label><div class='xr-var-attrs'><dl class='xr-attrs'><dt><span>title :</span></dt><dd>Big M</dd><dt><span>description :</span></dt><dd>BigM is a large value used to define certain optimisation problems. See https://en.wikipedia.org/wiki/Big_M_method for more information. This value should be larger than the largest values that any decision variables can take, but should not be **too** large (i.e., do not set it greater than 3 orders of magnitude above the numeric range of the model). If too large, numerical problems may arise in the optimisation.</dd><dt><span>default :</span></dt><dd>1000000.0</dd><dt><span>resample_method :</span></dt><dd>first</dd><dt><span>unit :</span></dt><dd>unitless</dd></dl></div><div class='xr-var-data'><pre>array(1000000.)</pre></div></li><li class='xr-var-item'><div class='xr-var-name'><span>objective_cost_weights</span></div><div class='xr-var-dims'>(costs)</div><div class='xr-var-dtype'>float64</div><div class='xr-var-preview xr-preview'>1.0</div><input id='attrs-5f94963d-19ea-444c-9b44-bf5f823ed61a' class='xr-var-attrs-in' type='checkbox' ><label for='attrs-5f94963d-19ea-444c-9b44-bf5f823ed61a' title='Show/Hide attributes'><svg class='icon xr-icon-file-text2'><use xlink:href='#icon-file-text2'></use></svg></label><input id='data-c8e58a66-bc73-4f01-9f0f-024edaec06f1' class='xr-var-data-in' type='checkbox'><label for='data-c8e58a66-bc73-4f01-9f0f-024edaec06f1' title='Show/Hide data repr'><svg class='icon xr-icon-database'><use xlink:href='#icon-database'></use></svg></label><div class='xr-var-attrs'><dl class='xr-attrs'><dt><span>title :</span></dt><dd>Objective cost class weights.</dd><dt><span>description :</span></dt><dd>Weightings for cost classes to apply in the objective function.</dd><dt><span>default :</span></dt><dd>1</dd><dt><span>resample_method :</span></dt><dd>first</dd><dt><span>unit :</span></dt><dd>unitless</dd></dl></div><div class='xr-var-data'><pre>array([1.])</pre></div></li><li class='xr-var-item'><div class='xr-var-name'><span>base_tech</span></div><div class='xr-var-dims'>(techs)</div><div class='xr-var-dtype'>object</div><div class='xr-var-preview xr-preview'>&#x27;transmission&#x27; ... &#x27;supply&#x27;</div><input id='attrs-a6cdb496-a2df-45dd-88a9-14f4c2edb5f7' class='xr-var-attrs-in' type='checkbox' ><label for='attrs-a6cdb496-a2df-45dd-88a9-14f4c2edb5f7' title='Show/Hide attributes'><svg class='icon xr-icon-file-text2'><use xlink:href='#icon-file-text2'></use></svg></label><input id='data-73c2cd83-7af6-435e-b5cc-7ec02f8e2ba8' class='xr-var-data-in' type='checkbox'><label for='data-73c2cd83-7af6-435e-b5cc-7ec02f8e2ba8' title='Show/Hide data repr'><svg class='icon xr-icon-database'><use xlink:href='#icon-database'></use></svg></label><div class='xr-var-attrs'><dl class='xr-attrs'><dt><span>title :</span></dt><dd>Abstract base technology name.</dd><dt><span>description :</span></dt><dd>Should be the name of one of the abstract base classes, from which some initial parameter defaults will be derived and with which certain base math will be triggered.</dd><dt><span>default :</span></dt><dd>nan</dd><dt><span>dtype :</span></dt><dd>string</dd><dt><span>resample_method :</span></dt><dd>first</dd><dt><span>one_of :</span></dt><dd>[&#x27;demand&#x27;, &#x27;supply&#x27;, &#x27;conversion&#x27;, &#x27;storage&#x27;, &#x27;transmission&#x27;]</dd><dt><span>pivot_values_to_dim :</span></dt><dd>None</dd></dl></div><div class='xr-var-data'><pre>array([&#x27;transmission&#x27;, &#x27;transmission&#x27;, &#x27;transmission&#x27;, &#x27;transmission&#x27;,\n",
       "       &#x27;transmission&#x27;, &#x27;conversion&#x27;, &#x27;conversion&#x27;, &#x27;demand&#x27;, &#x27;demand&#x27;,\n",
       "       &#x27;supply&#x27;, &#x27;supply&#x27;, &#x27;supply&#x27;], dtype=object)</pre></div></li><li class='xr-var-item'><div class='xr-var-name'><span>carrier_export</span></div><div class='xr-var-dims'>(techs, carriers)</div><div class='xr-var-dtype'>bool</div><div class='xr-var-preview xr-preview'>False False False ... False False</div><input id='attrs-041113dd-f6d8-419e-8b5f-37c81f7d179c' class='xr-var-attrs-in' type='checkbox' ><label for='attrs-041113dd-f6d8-419e-8b5f-37c81f7d179c' title='Show/Hide attributes'><svg class='icon xr-icon-file-text2'><use xlink:href='#icon-file-text2'></use></svg></label><input id='data-4101eddb-6893-41ea-8b0c-aa9eeb41e118' class='xr-var-data-in' type='checkbox'><label for='data-4101eddb-6893-41ea-8b0c-aa9eeb41e118' title='Show/Hide data repr'><svg class='icon xr-icon-database'><use xlink:href='#icon-database'></use></svg></label><div class='xr-var-attrs'><dl class='xr-attrs'><dt><span>title :</span></dt><dd></dd><dt><span>description :</span></dt><dd>Carrier(s) produced by this technology that can be exported out of the system boundaries without having to go to a pre-defined `sink` (i.e., via a `demand` technology). Must be a subset of `carrier_out`.</dd><dt><span>default :</span></dt><dd>False</dd><dt><span>dtype :</span></dt><dd>bool</dd><dt><span>resample_method :</span></dt><dd>first</dd><dt><span>one_of :</span></dt><dd>None</dd><dt><span>pivot_values_to_dim :</span></dt><dd>carriers</dd></dl></div><div class='xr-var-data'><pre>array([[False, False, False],\n",
       "       [False, False, False],\n",
       "       [False, False, False],\n",
       "       [False, False, False],\n",
       "       [False, False, False],\n",
       "       [False, False, False],\n",
       "       [ True, False, False],\n",
       "       [False, False, False],\n",
       "       [False, False, False],\n",
       "       [ True, False, False],\n",
       "       [False, False, False],\n",
       "       [False, False, False]])</pre></div></li><li class='xr-var-item'><div class='xr-var-name'><span>carrier_in</span></div><div class='xr-var-dims'>(nodes, techs, carriers)</div><div class='xr-var-dtype'>bool</div><div class='xr-var-preview xr-preview'>False False True ... False False</div><input id='attrs-bbed87c2-7702-484b-b44d-7b0fd3ea1ded' class='xr-var-attrs-in' type='checkbox' ><label for='attrs-bbed87c2-7702-484b-b44d-7b0fd3ea1ded' title='Show/Hide attributes'><svg class='icon xr-icon-file-text2'><use xlink:href='#icon-file-text2'></use></svg></label><input id='data-6b91428d-cf9b-402d-a5e7-71465188dcbc' class='xr-var-data-in' type='checkbox'><label for='data-6b91428d-cf9b-402d-a5e7-71465188dcbc' title='Show/Hide data repr'><svg class='icon xr-icon-database'><use xlink:href='#icon-database'></use></svg></label><div class='xr-var-attrs'><dl class='xr-attrs'><dt><span>title :</span></dt><dd></dd><dt><span>description :</span></dt><dd>Carrier(s) consumed by this technology. Only `transmission`, `conversion`, `storage`, and `demand` technologies can define this parameter</dd><dt><span>default :</span></dt><dd>False</dd><dt><span>dtype :</span></dt><dd>bool</dd><dt><span>resample_method :</span></dt><dd>first</dd><dt><span>one_of :</span></dt><dd>None</dd><dt><span>pivot_values_to_dim :</span></dt><dd>carriers</dd></dl></div><div class='xr-var-data'><pre>array([[[False, False,  True],\n",
       "        [False, False,  True],\n",
       "        [False, False,  True],\n",
       "        [False, False, False],\n",
       "        [False, False, False],\n",
       "        [False, False, False],\n",
       "        [False, False, False],\n",
       "        [False, False, False],\n",
       "        [False, False, False],\n",
       "        [False, False, False],\n",
       "        [False, False, False],\n",
       "        [False, False, False]],\n",
       "\n",
       "       [[False, False, False],\n",
       "        [False, False, False],\n",
       "        [False, False,  True],\n",
       "        [ True, False, False],\n",
       "        [ True, False, False],\n",
       "        [False, False, False],\n",
       "        [False,  True, False],\n",
       "...\n",
       "        [False,  True, False],\n",
       "        [False, False, False],\n",
       "        [ True, False, False],\n",
       "        [False, False,  True],\n",
       "        [False, False, False],\n",
       "        [False, False, False],\n",
       "        [False, False, False]],\n",
       "\n",
       "       [[False, False, False],\n",
       "        [False, False,  True],\n",
       "        [False, False, False],\n",
       "        [False, False, False],\n",
       "        [ True, False, False],\n",
       "        [False,  True, False],\n",
       "        [False, False, False],\n",
       "        [ True, False, False],\n",
       "        [False, False,  True],\n",
       "        [False, False, False],\n",
       "        [False, False, False],\n",
       "        [False, False, False]]])</pre></div></li><li class='xr-var-item'><div class='xr-var-name'><span>carrier_out</span></div><div class='xr-var-dims'>(nodes, techs, carriers)</div><div class='xr-var-dtype'>bool</div><div class='xr-var-preview xr-preview'>False False True ... False False</div><input id='attrs-53b219fb-2f21-4b93-89dc-30f4de382338' class='xr-var-attrs-in' type='checkbox' ><label for='attrs-53b219fb-2f21-4b93-89dc-30f4de382338' title='Show/Hide attributes'><svg class='icon xr-icon-file-text2'><use xlink:href='#icon-file-text2'></use></svg></label><input id='data-0c06d7d4-be05-4108-a732-aaab8a4f3827' class='xr-var-data-in' type='checkbox'><label for='data-0c06d7d4-be05-4108-a732-aaab8a4f3827' title='Show/Hide data repr'><svg class='icon xr-icon-database'><use xlink:href='#icon-database'></use></svg></label><div class='xr-var-attrs'><dl class='xr-attrs'><dt><span>title :</span></dt><dd></dd><dt><span>description :</span></dt><dd>Carrier(s) produced by this technology. Only `transmission`, `conversion`, `storage`, and `supply` technologies can define this parameter</dd><dt><span>default :</span></dt><dd>False</dd><dt><span>dtype :</span></dt><dd>bool</dd><dt><span>resample_method :</span></dt><dd>first</dd><dt><span>one_of :</span></dt><dd>None</dd><dt><span>pivot_values_to_dim :</span></dt><dd>carriers</dd></dl></div><div class='xr-var-data'><pre>array([[[False, False,  True],\n",
       "        [False, False,  True],\n",
       "        [False, False,  True],\n",
       "        [False, False, False],\n",
       "        [False, False, False],\n",
       "        [False, False, False],\n",
       "        [False, False, False],\n",
       "        [False, False, False],\n",
       "        [False, False, False],\n",
       "        [False, False, False],\n",
       "        [False, False, False],\n",
       "        [False, False, False]],\n",
       "\n",
       "       [[False, False, False],\n",
       "        [False, False, False],\n",
       "        [False, False,  True],\n",
       "        [ True, False, False],\n",
       "        [ True, False, False],\n",
       "        [False, False, False],\n",
       "        [ True, False,  True],\n",
       "...\n",
       "        [False, False,  True],\n",
       "        [False, False, False],\n",
       "        [False, False, False],\n",
       "        [False, False, False],\n",
       "        [ True, False, False],\n",
       "        [False,  True, False],\n",
       "        [False, False, False]],\n",
       "\n",
       "       [[False, False, False],\n",
       "        [False, False,  True],\n",
       "        [False, False, False],\n",
       "        [False, False, False],\n",
       "        [ True, False, False],\n",
       "        [False, False,  True],\n",
       "        [False, False, False],\n",
       "        [False, False, False],\n",
       "        [False, False, False],\n",
       "        [ True, False, False],\n",
       "        [False,  True, False],\n",
       "        [False, False, False]]])</pre></div></li><li class='xr-var-item'><div class='xr-var-name'><span>color</span></div><div class='xr-var-dims'>(techs)</div><div class='xr-var-dtype'>object</div><div class='xr-var-preview xr-preview'>&#x27;#823739&#x27; &#x27;#823739&#x27; ... &#x27;#C5ABE3&#x27;</div><input id='attrs-33a9dbce-be01-4bdf-aeef-f2a6b68a7a1c' class='xr-var-attrs-in' type='checkbox' disabled><label for='attrs-33a9dbce-be01-4bdf-aeef-f2a6b68a7a1c' title='Show/Hide attributes'><svg class='icon xr-icon-file-text2'><use xlink:href='#icon-file-text2'></use></svg></label><input id='data-6bc62728-b076-4c29-9275-d41830490fff' class='xr-var-data-in' type='checkbox'><label for='data-6bc62728-b076-4c29-9275-d41830490fff' title='Show/Hide data repr'><svg class='icon xr-icon-database'><use xlink:href='#icon-database'></use></svg></label><div class='xr-var-attrs'><dl class='xr-attrs'></dl></div><div class='xr-var-data'><pre>array([&#x27;#823739&#x27;, &#x27;#823739&#x27;, &#x27;#823739&#x27;, &#x27;#6783E3&#x27;, &#x27;#6783E3&#x27;, &#x27;#8E2999&#x27;,\n",
       "       &#x27;#E4AB97&#x27;, &#x27;#072486&#x27;, &#x27;#660507&#x27;, &#x27;#F9D956&#x27;, &#x27;#C98AAD&#x27;, &#x27;#C5ABE3&#x27;],\n",
       "      dtype=object)</pre></div></li><li class='xr-var-item'><div class='xr-var-name'><span>cost_flow_cap</span></div><div class='xr-var-dims'>(nodes, techs, costs, carriers)</div><div class='xr-var-dtype'>float64</div><div class='xr-var-preview xr-preview'>nan nan nan nan ... nan nan nan nan</div><input id='attrs-fe7aaa22-5cf1-4377-a445-ec8ad89d4259' class='xr-var-attrs-in' type='checkbox' ><label for='attrs-fe7aaa22-5cf1-4377-a445-ec8ad89d4259' title='Show/Hide attributes'><svg class='icon xr-icon-file-text2'><use xlink:href='#icon-file-text2'></use></svg></label><input id='data-938c01c5-2dc4-4801-97c9-70904de80622' class='xr-var-data-in' type='checkbox'><label for='data-938c01c5-2dc4-4801-97c9-70904de80622' title='Show/Hide data repr'><svg class='icon xr-icon-database'><use xlink:href='#icon-database'></use></svg></label><div class='xr-var-attrs'><dl class='xr-attrs'><dt><span>title :</span></dt><dd>Cost of flow capacity.</dd><dt><span>description :</span></dt><dd>Cost per unit of the decision variable `flow_cap`.</dd><dt><span>default :</span></dt><dd>0</dd><dt><span>resample_method :</span></dt><dd>first</dd><dt><span>unit :</span></dt><dd>$\\frac{\\{cost}}{\\text{power}}$</dd></dl></div><div class='xr-var-data'><pre>array([[[[     nan,      nan,      nan]],\n",
       "\n",
       "        [[     nan,      nan,      nan]],\n",
       "\n",
       "        [[     nan,      nan,      nan]],\n",
       "\n",
       "        [[     nan,      nan,      nan]],\n",
       "\n",
       "        [[     nan,      nan,      nan]],\n",
       "\n",
       "        [[     nan,      nan,      nan]],\n",
       "\n",
       "        [[     nan,      nan,      nan]],\n",
       "\n",
       "        [[     nan,      nan,      nan]],\n",
       "\n",
       "        [[     nan,      nan,      nan]],\n",
       "\n",
       "        [[     nan,      nan,      nan]],\n",
       "\n",
       "...\n",
       "\n",
       "        [[     nan,      nan,      nan]],\n",
       "\n",
       "        [[     nan,      nan,      nan]],\n",
       "\n",
       "        [[     nan,      nan,      nan]],\n",
       "\n",
       "        [[     nan,      nan, 7.80e+01]],\n",
       "\n",
       "        [[     nan,      nan,      nan]],\n",
       "\n",
       "        [[     nan,      nan,      nan]],\n",
       "\n",
       "        [[     nan,      nan,      nan]],\n",
       "\n",
       "        [[1.35e+03,      nan,      nan]],\n",
       "\n",
       "        [[     nan, 1.00e+00,      nan]],\n",
       "\n",
       "        [[     nan,      nan,      nan]]]])</pre></div></li><li class='xr-var-item'><div class='xr-var-name'><span>cost_flow_out</span></div><div class='xr-var-dims'>(techs, costs, carriers, nodes)</div><div class='xr-var-dtype'>float64</div><div class='xr-var-preview xr-preview'>nan nan nan nan ... nan nan nan nan</div><input id='attrs-3718ea47-d227-4dc2-8f71-42530bebbbd6' class='xr-var-attrs-in' type='checkbox' ><label for='attrs-3718ea47-d227-4dc2-8f71-42530bebbbd6' title='Show/Hide attributes'><svg class='icon xr-icon-file-text2'><use xlink:href='#icon-file-text2'></use></svg></label><input id='data-ab19ce5a-0ec0-4169-8916-d96099975c74' class='xr-var-data-in' type='checkbox'><label for='data-ab19ce5a-0ec0-4169-8916-d96099975c74' title='Show/Hide data repr'><svg class='icon xr-icon-database'><use xlink:href='#icon-database'></use></svg></label><div class='xr-var-attrs'><dl class='xr-attrs'><dt><span>title :</span></dt><dd>Carrier outflow cost</dd><dt><span>description :</span></dt><dd>Cost per unit of `flow_out` in each timestep.</dd><dt><span>default :</span></dt><dd>0</dd><dt><span>resample_method :</span></dt><dd>mean</dd><dt><span>unit :</span></dt><dd>$\\frac{\\{cost}}{\\text{energy}}$</dd></dl></div><div class='xr-var-data'><pre>array([[[[    nan,     nan,     nan,     nan],\n",
       "         [    nan,     nan,     nan,     nan],\n",
       "         [    nan,     nan,     nan,     nan]]],\n",
       "\n",
       "\n",
       "       [[[    nan,     nan,     nan,     nan],\n",
       "         [    nan,     nan,     nan,     nan],\n",
       "         [    nan,     nan,     nan,     nan]]],\n",
       "\n",
       "\n",
       "       [[[    nan,     nan,     nan,     nan],\n",
       "         [    nan,     nan,     nan,     nan],\n",
       "         [    nan,     nan,     nan,     nan]]],\n",
       "\n",
       "\n",
       "       [[[    nan,     nan,     nan,     nan],\n",
       "         [    nan,     nan,     nan,     nan],\n",
       "         [    nan,     nan,     nan,     nan]]],\n",
       "\n",
       "\n",
       "...\n",
       "\n",
       "\n",
       "       [[[    nan,     nan,     nan,     nan],\n",
       "         [    nan,     nan,     nan,     nan],\n",
       "         [    nan,     nan,     nan,     nan]]],\n",
       "\n",
       "\n",
       "       [[[    nan,     nan, -0.0203,     nan],\n",
       "         [    nan,     nan,     nan,     nan],\n",
       "         [    nan,     nan,     nan,     nan]]],\n",
       "\n",
       "\n",
       "       [[[    nan,     nan,     nan,     nan],\n",
       "         [    nan,     nan,     nan,     nan],\n",
       "         [    nan,     nan,     nan,     nan]]],\n",
       "\n",
       "\n",
       "       [[[    nan,     nan,     nan,     nan],\n",
       "         [    nan,     nan,     nan,     nan],\n",
       "         [    nan,     nan,     nan,     nan]]]])</pre></div></li><li class='xr-var-item'><div class='xr-var-name'><span>flow_cap_max</span></div><div class='xr-var-dims'>(techs, carriers, nodes)</div><div class='xr-var-dtype'>float64</div><div class='xr-var-preview xr-preview'>nan nan nan nan ... nan nan nan nan</div><input id='attrs-3911b757-6523-4e92-9d8f-02fa53b3ae26' class='xr-var-attrs-in' type='checkbox' ><label for='attrs-3911b757-6523-4e92-9d8f-02fa53b3ae26' title='Show/Hide attributes'><svg class='icon xr-icon-file-text2'><use xlink:href='#icon-file-text2'></use></svg></label><input id='data-666bacc2-5d32-4624-8225-c2b2b364a56a' class='xr-var-data-in' type='checkbox'><label for='data-666bacc2-5d32-4624-8225-c2b2b364a56a' title='Show/Hide data repr'><svg class='icon xr-icon-database'><use xlink:href='#icon-database'></use></svg></label><div class='xr-var-attrs'><dl class='xr-attrs'><dt><span>title :</span></dt><dd>Maximum rated flow capacity.</dd><dt><span>description :</span></dt><dd>Limits `flow_cap` to a maximum.</dd><dt><span>default :</span></dt><dd>inf</dd><dt><span>resample_method :</span></dt><dd>first</dd><dt><span>unit :</span></dt><dd>power.</dd></dl></div><div class='xr-var-data'><pre>array([[[  nan,   nan,   nan,   nan],\n",
       "        [  nan,   nan,   nan,   nan],\n",
       "        [2000.,   nan, 2000.,   nan]],\n",
       "\n",
       "       [[  nan,   nan,   nan,   nan],\n",
       "        [  nan,   nan,   nan,   nan],\n",
       "        [2000.,   nan,   nan, 2000.]],\n",
       "\n",
       "       [[  nan,   nan,   nan,   nan],\n",
       "        [  nan,   nan,   nan,   nan],\n",
       "        [2000., 2000.,   nan,   nan]],\n",
       "\n",
       "       [[  nan, 2000., 2000.,   nan],\n",
       "        [  nan,   nan,   nan,   nan],\n",
       "        [  nan,   nan,   nan,   nan]],\n",
       "\n",
       "       [[  nan, 2000.,   nan, 2000.],\n",
       "        [  nan,   nan,   nan,   nan],\n",
       "        [  nan,   nan,   nan,   nan]],\n",
       "\n",
       "...\n",
       "\n",
       "       [[  nan,   nan,   nan,   nan],\n",
       "        [  nan,   nan,   nan,   nan],\n",
       "        [  nan,   nan,   nan,   nan]],\n",
       "\n",
       "       [[  nan,   nan,   nan,   nan],\n",
       "        [  nan,   nan,   nan,   nan],\n",
       "        [  nan,   nan,   nan,   nan]],\n",
       "\n",
       "       [[  nan,  250.,  250.,   50.],\n",
       "        [  nan,   nan,   nan,   nan],\n",
       "        [  nan,   nan,   nan,   nan]],\n",
       "\n",
       "       [[  nan,   nan,   nan,   nan],\n",
       "        [  nan, 2000., 2000., 2000.],\n",
       "        [  nan,   nan,   nan,   nan]],\n",
       "\n",
       "       [[  nan, 2000.,   nan,   nan],\n",
       "        [  nan,   nan,   nan,   nan],\n",
       "        [  nan,   nan,   nan,   nan]]])</pre></div></li><li class='xr-var-item'><div class='xr-var-name'><span>flow_out_eff</span></div><div class='xr-var-dims'>(techs, carriers)</div><div class='xr-var-dtype'>float64</div><div class='xr-var-preview xr-preview'>nan nan nan nan ... nan nan nan nan</div><input id='attrs-d58f2bed-32e7-404e-8d7e-945549d891fc' class='xr-var-attrs-in' type='checkbox' ><label for='attrs-d58f2bed-32e7-404e-8d7e-945549d891fc' title='Show/Hide attributes'><svg class='icon xr-icon-file-text2'><use xlink:href='#icon-file-text2'></use></svg></label><input id='data-3987fdba-06a3-4814-b0ec-7aa3119ba2bc' class='xr-var-data-in' type='checkbox'><label for='data-3987fdba-06a3-4814-b0ec-7aa3119ba2bc' title='Show/Hide data repr'><svg class='icon xr-icon-database'><use xlink:href='#icon-database'></use></svg></label><div class='xr-var-attrs'><dl class='xr-attrs'><dt><span>title :</span></dt><dd>Outflow efficiency</dd><dt><span>description :</span></dt><dd>Conversion efficiency from the technology to `sink`/`flow_out` (tech dependent). Set as value between 1 (no loss) and 0 (all lost).</dd><dt><span>default :</span></dt><dd>1.0</dd><dt><span>resample_method :</span></dt><dd>mean</dd><dt><span>unit :</span></dt><dd>unitless.</dd></dl></div><div class='xr-var-data'><pre>array([[  nan,   nan,   nan],\n",
       "       [  nan,   nan,   nan],\n",
       "       [  nan,   nan,   nan],\n",
       "       [0.98 ,   nan,   nan],\n",
       "       [0.98 ,   nan,   nan],\n",
       "       [  nan, 0.85 , 0.85 ],\n",
       "       [0.405,   nan,   nan],\n",
       "       [  nan,   nan,   nan],\n",
       "       [  nan,   nan,   nan],\n",
       "       [  nan,   nan,   nan],\n",
       "       [  nan,   nan,   nan],\n",
       "       [  nan,   nan,   nan]])</pre></div></li><li class='xr-var-item'><div class='xr-var-name'><span>heat_to_power_ratio</span></div><div class='xr-var-dims'>(techs)</div><div class='xr-var-dtype'>float64</div><div class='xr-var-preview xr-preview'>nan nan nan nan ... nan nan nan nan</div><input id='attrs-82c21b0f-4066-465d-b771-590abdd538fb' class='xr-var-attrs-in' type='checkbox' ><label for='attrs-82c21b0f-4066-465d-b771-590abdd538fb' title='Show/Hide attributes'><svg class='icon xr-icon-file-text2'><use xlink:href='#icon-file-text2'></use></svg></label><input id='data-2d0c604f-b8f0-49ed-b214-e82e96a2c7a0' class='xr-var-data-in' type='checkbox'><label for='data-2d0c604f-b8f0-49ed-b214-e82e96a2c7a0' title='Show/Hide data repr'><svg class='icon xr-icon-database'><use xlink:href='#icon-database'></use></svg></label><div class='xr-var-attrs'><dl class='xr-attrs'><dt><span>title :</span></dt><dd>Heat to power ratio for CHP</dd><dt><span>description :</span></dt><dd>Ratio of heat output to electricity output for combined heat and power (CHP) technology.</dd><dt><span>default :</span></dt><dd>1</dd><dt><span>resample_method :</span></dt><dd>first</dd><dt><span>unit :</span></dt><dd></dd></dl></div><div class='xr-var-data'><pre>array([nan, nan, nan, nan, nan, nan, 0.8, nan, nan, nan, nan, nan])</pre></div></li><li class='xr-var-item'><div class='xr-var-name'><span>lifetime</span></div><div class='xr-var-dims'>(techs)</div><div class='xr-var-dtype'>float64</div><div class='xr-var-preview xr-preview'>25.0 25.0 25.0 ... 25.0 25.0 25.0</div><input id='attrs-33a2f35c-079c-48e2-9b70-9124878de83b' class='xr-var-attrs-in' type='checkbox' ><label for='attrs-33a2f35c-079c-48e2-9b70-9124878de83b' title='Show/Hide attributes'><svg class='icon xr-icon-file-text2'><use xlink:href='#icon-file-text2'></use></svg></label><input id='data-9ef1a8f8-57db-4947-ac41-8f307961e6ef' class='xr-var-data-in' type='checkbox'><label for='data-9ef1a8f8-57db-4947-ac41-8f307961e6ef' title='Show/Hide data repr'><svg class='icon xr-icon-database'><use xlink:href='#icon-database'></use></svg></label><div class='xr-var-attrs'><dl class='xr-attrs'><dt><span>title :</span></dt><dd>Technology lifetime</dd><dt><span>description :</span></dt><dd>Must be defined if fixed capital costs are defined. A reasonable value for many technologies is around 20-25 years.</dd><dt><span>default :</span></dt><dd>inf</dd><dt><span>resample_method :</span></dt><dd>mean</dd><dt><span>unit :</span></dt><dd>years.</dd></dl></div><div class='xr-var-data'><pre>array([25., 25., 25., 25., 25., 25., 25., nan, nan, 25., 25., 25.])</pre></div></li><li class='xr-var-item'><div class='xr-var-name'><span>name</span></div><div class='xr-var-dims'>(techs)</div><div class='xr-var-dtype'>object</div><div class='xr-var-preview xr-preview'>&#x27;District heat distribution&#x27; ......</div><input id='attrs-e16621d9-6d18-471c-9e18-b4135a321d5e' class='xr-var-attrs-in' type='checkbox' disabled><label for='attrs-e16621d9-6d18-471c-9e18-b4135a321d5e' title='Show/Hide attributes'><svg class='icon xr-icon-file-text2'><use xlink:href='#icon-file-text2'></use></svg></label><input id='data-7b754811-14a8-4976-91f7-57693ccca7ff' class='xr-var-data-in' type='checkbox'><label for='data-7b754811-14a8-4976-91f7-57693ccca7ff' title='Show/Hide data repr'><svg class='icon xr-icon-database'><use xlink:href='#icon-database'></use></svg></label><div class='xr-var-attrs'><dl class='xr-attrs'></dl></div><div class='xr-var-data'><pre>array([&#x27;District heat distribution&#x27;, &#x27;District heat distribution&#x27;,\n",
       "       &#x27;District heat distribution&#x27;, &#x27;Electrical power distribution&#x27;,\n",
       "       &#x27;Electrical power distribution&#x27;, &#x27;Natural gas boiler&#x27;,\n",
       "       &#x27;Combined heat and power&#x27;, &#x27;Electrical demand&#x27;, &#x27;Heat demand&#x27;,\n",
       "       &#x27;Solar photovoltaic power&#x27;, &#x27;Natural gas import&#x27;,\n",
       "       &#x27;National grid import&#x27;], dtype=object)</pre></div></li><li class='xr-var-item'><div class='xr-var-name'><span>area_use_max</span></div><div class='xr-var-dims'>(techs)</div><div class='xr-var-dtype'>float64</div><div class='xr-var-preview xr-preview'>nan nan nan nan ... 1.5e+03 nan nan</div><input id='attrs-bb6863e9-e2be-4e73-b6c2-9743475c5291' class='xr-var-attrs-in' type='checkbox' ><label for='attrs-bb6863e9-e2be-4e73-b6c2-9743475c5291' title='Show/Hide attributes'><svg class='icon xr-icon-file-text2'><use xlink:href='#icon-file-text2'></use></svg></label><input id='data-9b1e82ca-dcea-4566-b28a-4fee09aaa1f2' class='xr-var-data-in' type='checkbox'><label for='data-9b1e82ca-dcea-4566-b28a-4fee09aaa1f2' title='Show/Hide data repr'><svg class='icon xr-icon-database'><use xlink:href='#icon-database'></use></svg></label><div class='xr-var-attrs'><dl class='xr-attrs'><dt><span>title :</span></dt><dd>Maximum usable area.</dd><dt><span>description :</span></dt><dd>If set to a finite value, limits the upper bound of the `area_use` decision variable to this value.</dd><dt><span>default :</span></dt><dd>inf</dd><dt><span>resample_method :</span></dt><dd>first</dd><dt><span>unit :</span></dt><dd>$\\text{area}$</dd></dl></div><div class='xr-var-data'><pre>array([  nan,   nan,   nan,   nan,   nan,   nan,   nan,   nan,   nan,\n",
       "       1500.,   nan,   nan])</pre></div></li><li class='xr-var-item'><div class='xr-var-name'><span>area_use_per_flow_cap</span></div><div class='xr-var-dims'>(techs)</div><div class='xr-var-dtype'>float64</div><div class='xr-var-preview xr-preview'>nan nan nan nan ... nan 7.0 nan nan</div><input id='attrs-28aec8c6-efe0-4937-9946-1399e1f53fd2' class='xr-var-attrs-in' type='checkbox' ><label for='attrs-28aec8c6-efe0-4937-9946-1399e1f53fd2' title='Show/Hide attributes'><svg class='icon xr-icon-file-text2'><use xlink:href='#icon-file-text2'></use></svg></label><input id='data-3601d959-68d9-4304-bd5d-de8edeafe3f5' class='xr-var-data-in' type='checkbox'><label for='data-3601d959-68d9-4304-bd5d-de8edeafe3f5' title='Show/Hide data repr'><svg class='icon xr-icon-database'><use xlink:href='#icon-database'></use></svg></label><div class='xr-var-attrs'><dl class='xr-attrs'><dt><span>title :</span></dt><dd>Area use per flow capacity</dd><dt><span>description :</span></dt><dd>If set, forces `area_use` to follow `flow_cap` with the given numerical ratio (e.g. setting to 1.5 means that `area_use == 1.5 * flow_cap`).</dd><dt><span>default :</span></dt><dd>nan</dd><dt><span>resample_method :</span></dt><dd>first</dd><dt><span>unit :</span></dt><dd>$\\frac{\\text{area}}{\\text{power}}$</dd></dl></div><div class='xr-var-data'><pre>array([nan, nan, nan, nan, nan, nan, nan, nan, nan,  7., nan, nan])</pre></div></li><li class='xr-var-item'><div class='xr-var-name'><span>flow_out_parasitic_eff</span></div><div class='xr-var-dims'>(techs)</div><div class='xr-var-dtype'>float64</div><div class='xr-var-preview xr-preview'>nan nan nan nan ... 0.85 nan nan</div><input id='attrs-15d55a7b-4770-44f7-be9a-d2e5da6863c5' class='xr-var-attrs-in' type='checkbox' ><label for='attrs-15d55a7b-4770-44f7-be9a-d2e5da6863c5' title='Show/Hide attributes'><svg class='icon xr-icon-file-text2'><use xlink:href='#icon-file-text2'></use></svg></label><input id='data-4506affd-605a-4329-baaa-3b14f6c61135' class='xr-var-data-in' type='checkbox'><label for='data-4506affd-605a-4329-baaa-3b14f6c61135' title='Show/Hide data repr'><svg class='icon xr-icon-database'><use xlink:href='#icon-database'></use></svg></label><div class='xr-var-attrs'><dl class='xr-attrs'><dt><span>title :</span></dt><dd>Plant parasitic efficiency</dd><dt><span>description :</span></dt><dd>Additional losses as flow gets transferred from the plant to the carrier, e.g. due to plant parasitic consumption. Set as value between 1 (no loss) and 0 (all lost).</dd><dt><span>default :</span></dt><dd>1.0</dd><dt><span>resample_method :</span></dt><dd>mean</dd><dt><span>unit :</span></dt><dd>unitless.</dd></dl></div><div class='xr-var-data'><pre>array([ nan,  nan,  nan,  nan,  nan,  nan,  nan,  nan,  nan, 0.85,  nan,\n",
       "        nan])</pre></div></li><li class='xr-var-item'><div class='xr-var-name'><span>source_unit</span></div><div class='xr-var-dims'>(techs)</div><div class='xr-var-dtype'>object</div><div class='xr-var-preview xr-preview'>nan nan nan ... &#x27;per_area&#x27; nan nan</div><input id='attrs-9c68bdf2-90d8-4290-b12e-5ac3c637ba8c' class='xr-var-attrs-in' type='checkbox' ><label for='attrs-9c68bdf2-90d8-4290-b12e-5ac3c637ba8c' title='Show/Hide attributes'><svg class='icon xr-icon-file-text2'><use xlink:href='#icon-file-text2'></use></svg></label><input id='data-d80e184d-ec9d-4648-a6b5-6d1f616e190a' class='xr-var-data-in' type='checkbox'><label for='data-d80e184d-ec9d-4648-a6b5-6d1f616e190a' title='Show/Hide data repr'><svg class='icon xr-icon-database'><use xlink:href='#icon-database'></use></svg></label><div class='xr-var-attrs'><dl class='xr-attrs'><dt><span>title :</span></dt><dd>Source unit</dd><dt><span>description :</span></dt><dd>Sets the unit of `Source` to either `absolute` (unit: `energy`), `per_area` (unit: `energy/area`), or `per_cap` (unit: `energy/power`). `per_area` uses the `area_use` decision variable to scale the source while `per_cap` uses the `flow_cap` decision variable.</dd><dt><span>default :</span></dt><dd>absolute</dd><dt><span>dtype :</span></dt><dd>string</dd><dt><span>resample_method :</span></dt><dd>first</dd><dt><span>one_of :</span></dt><dd>[&#x27;absolute&#x27;, &#x27;per_area&#x27;, &#x27;per_cap&#x27;]</dd><dt><span>pivot_values_to_dim :</span></dt><dd>None</dd></dl></div><div class='xr-var-data'><pre>array([nan, nan, nan, nan, nan, nan, nan, nan, nan, &#x27;per_area&#x27;, nan, nan],\n",
       "      dtype=object)</pre></div></li><li class='xr-var-item'><div class='xr-var-name'><span>cost_flow_in</span></div><div class='xr-var-dims'>(techs, costs)</div><div class='xr-var-dtype'>float64</div><div class='xr-var-preview xr-preview'>nan nan nan nan ... nan 0.025 0.1</div><input id='attrs-48b38934-abd1-408a-978f-d3406fd72a90' class='xr-var-attrs-in' type='checkbox' ><label for='attrs-48b38934-abd1-408a-978f-d3406fd72a90' title='Show/Hide attributes'><svg class='icon xr-icon-file-text2'><use xlink:href='#icon-file-text2'></use></svg></label><input id='data-0657535c-b38b-4de1-98bd-b24a14b8da91' class='xr-var-data-in' type='checkbox'><label for='data-0657535c-b38b-4de1-98bd-b24a14b8da91' title='Show/Hide data repr'><svg class='icon xr-icon-database'><use xlink:href='#icon-database'></use></svg></label><div class='xr-var-attrs'><dl class='xr-attrs'><dt><span>title :</span></dt><dd>Carrier inflow cost.</dd><dt><span>description :</span></dt><dd>Cost per unit of `flow_in` in each timestep. Also used as the cost per unit of `source_use` in `supply` technologies.</dd><dt><span>default :</span></dt><dd>0</dd><dt><span>resample_method :</span></dt><dd>mean</dd><dt><span>unit :</span></dt><dd>$\\frac{\\{cost}}{\\text{energy}}$</dd></dl></div><div class='xr-var-data'><pre>array([[  nan],\n",
       "       [  nan],\n",
       "       [  nan],\n",
       "       [  nan],\n",
       "       [  nan],\n",
       "       [0.004],\n",
       "       [  nan],\n",
       "       [  nan],\n",
       "       [  nan],\n",
       "       [  nan],\n",
       "       [0.025],\n",
       "       [0.1  ]])</pre></div></li><li class='xr-var-item'><div class='xr-var-name'><span>source_use_max</span></div><div class='xr-var-dims'>(techs)</div><div class='xr-var-dtype'>float64</div><div class='xr-var-preview xr-preview'>nan nan nan nan ... nan nan inf inf</div><input id='attrs-7e3407b7-0863-43df-a108-1691334f5f42' class='xr-var-attrs-in' type='checkbox' ><label for='attrs-7e3407b7-0863-43df-a108-1691334f5f42' title='Show/Hide attributes'><svg class='icon xr-icon-file-text2'><use xlink:href='#icon-file-text2'></use></svg></label><input id='data-424b0159-28b8-43a8-98e3-089aa4eaecc5' class='xr-var-data-in' type='checkbox'><label for='data-424b0159-28b8-43a8-98e3-089aa4eaecc5' title='Show/Hide data repr'><svg class='icon xr-icon-database'><use xlink:href='#icon-database'></use></svg></label><div class='xr-var-attrs'><dl class='xr-attrs'><dt><span>title :</span></dt><dd>Maximum bound on sink.</dd><dt><span>description :</span></dt><dd>Maximum sink use to remove a carrier from the system (e.g., biofuel, coal, rainfall, wind flow). Unit dictated by `source_unit`.</dd><dt><span>default :</span></dt><dd>inf</dd><dt><span>resample_method :</span></dt><dd>sum</dd><dt><span>unit :</span></dt><dd>energy | $\\frac{\\text{energy}}{\\text{power}}$ | $\\frac{\\text{energy}}{\\text{area}}$</dd></dl></div><div class='xr-var-data'><pre>array([nan, nan, nan, nan, nan, nan, nan, nan, nan, nan, inf, inf])</pre></div></li><li class='xr-var-item'><div class='xr-var-name'><span>cost_flow_cap_per_distance</span></div><div class='xr-var-dims'>(techs, costs)</div><div class='xr-var-dtype'>float64</div><div class='xr-var-preview xr-preview'>0.3 0.3 0.3 0.01 ... nan nan nan</div><input id='attrs-9cdc9b39-8e7f-4ab8-b549-ca4a9deb34ff' class='xr-var-attrs-in' type='checkbox' ><label for='attrs-9cdc9b39-8e7f-4ab8-b549-ca4a9deb34ff' title='Show/Hide attributes'><svg class='icon xr-icon-file-text2'><use xlink:href='#icon-file-text2'></use></svg></label><input id='data-aeeeaf9c-46e9-4df5-8438-b57842a3620a' class='xr-var-data-in' type='checkbox'><label for='data-aeeeaf9c-46e9-4df5-8438-b57842a3620a' title='Show/Hide data repr'><svg class='icon xr-icon-database'><use xlink:href='#icon-database'></use></svg></label><div class='xr-var-attrs'><dl class='xr-attrs'><dt><span>title :</span></dt><dd>Cost of flow capacity, per unit distance</dd><dt><span>description :</span></dt><dd>Cost per unit of the decision variable `flow_cap` and per unit distance of a transmission link. Applied to transmission links only.</dd><dt><span>default :</span></dt><dd>0</dd><dt><span>resample_method :</span></dt><dd>first</dd><dt><span>unit :</span></dt><dd>$\\frac{\\{cost}}{\\text{power}\\times\\text{distance}}$</dd></dl></div><div class='xr-var-data'><pre>array([[0.3 ],\n",
       "       [0.3 ],\n",
       "       [0.3 ],\n",
       "       [0.01],\n",
       "       [0.01],\n",
       "       [ nan],\n",
       "       [ nan],\n",
       "       [ nan],\n",
       "       [ nan],\n",
       "       [ nan],\n",
       "       [ nan],\n",
       "       [ nan]])</pre></div></li><li class='xr-var-item'><div class='xr-var-name'><span>distance</span></div><div class='xr-var-dims'>(techs)</div><div class='xr-var-dtype'>float64</div><div class='xr-var-preview xr-preview'>3.0 4.0 3.0 10.0 ... nan nan nan</div><input id='attrs-3a95f109-eb9d-4959-b7ab-d1ff458faac5' class='xr-var-attrs-in' type='checkbox' ><label for='attrs-3a95f109-eb9d-4959-b7ab-d1ff458faac5' title='Show/Hide attributes'><svg class='icon xr-icon-file-text2'><use xlink:href='#icon-file-text2'></use></svg></label><input id='data-71cbbf79-2e16-45ae-923c-3aaef03da145' class='xr-var-data-in' type='checkbox'><label for='data-71cbbf79-2e16-45ae-923c-3aaef03da145' title='Show/Hide data repr'><svg class='icon xr-icon-database'><use xlink:href='#icon-database'></use></svg></label><div class='xr-var-attrs'><dl class='xr-attrs'><dt><span>title :</span></dt><dd>Distance spanned by link.</dd><dt><span>description :</span></dt><dd>Used for `..._per_distance` constraints. If not defined, it will be automatically derived from latitude/longitude of nodes in a link.</dd><dt><span>default :</span></dt><dd>1.0</dd><dt><span>resample_method :</span></dt><dd>mean</dd><dt><span>unit :</span></dt><dd>distance.</dd></dl></div><div class='xr-var-data'><pre>array([ 3.,  4.,  3., 10.,  5., nan, nan, nan, nan, nan, nan, nan])</pre></div></li><li class='xr-var-item'><div class='xr-var-name'><span>flow_out_eff_per_distance</span></div><div class='xr-var-dims'>(techs)</div><div class='xr-var-dtype'>float64</div><div class='xr-var-preview xr-preview'>0.975 0.975 0.975 ... nan nan nan</div><input id='attrs-ec8da68a-5034-4c25-82ea-840a5b571b21' class='xr-var-attrs-in' type='checkbox' ><label for='attrs-ec8da68a-5034-4c25-82ea-840a5b571b21' title='Show/Hide attributes'><svg class='icon xr-icon-file-text2'><use xlink:href='#icon-file-text2'></use></svg></label><input id='data-508071c6-3240-486d-b8c7-2333a90da7be' class='xr-var-data-in' type='checkbox'><label for='data-508071c6-3240-486d-b8c7-2333a90da7be' title='Show/Hide data repr'><svg class='icon xr-icon-database'><use xlink:href='#icon-database'></use></svg></label><div class='xr-var-attrs'><dl class='xr-attrs'><dt><span>title :</span></dt><dd>Outflow (i.e., import from node) efficiency per distance of transmission links.</dd><dt><span>description :</span></dt><dd>Total link efficiency will be calculated as $\\text{flow\\_out\\_eff}\\times{}\\text{flow\\_out\\_eff\\_per\\_distance}^\\text{distance}$. Set as value between 1 (no loss) and 0 (all lost).</dd><dt><span>default :</span></dt><dd>1.0</dd><dt><span>resample_method :</span></dt><dd>mean</dd><dt><span>unit :</span></dt><dd>$\\frac{\\text{1}}{\\text{distance}}$</dd></dl></div><div class='xr-var-data'><pre>array([0.975, 0.975, 0.975,   nan,   nan,   nan,   nan,   nan,   nan,\n",
       "         nan,   nan,   nan])</pre></div></li><li class='xr-var-item'><div class='xr-var-name'><span>cost_export</span></div><div class='xr-var-dims'>(nodes, techs, costs, carriers, timesteps)</div><div class='xr-var-dtype'>float64</div><div class='xr-var-preview xr-preview'>nan nan nan nan ... nan nan nan nan</div><input id='attrs-a72dc332-ae84-41d1-bef8-6ed342f6fc6e' class='xr-var-attrs-in' type='checkbox' ><label for='attrs-a72dc332-ae84-41d1-bef8-6ed342f6fc6e' title='Show/Hide attributes'><svg class='icon xr-icon-file-text2'><use xlink:href='#icon-file-text2'></use></svg></label><input id='data-faebb777-2248-4438-b1e8-06d9738e1522' class='xr-var-data-in' type='checkbox'><label for='data-faebb777-2248-4438-b1e8-06d9738e1522' title='Show/Hide data repr'><svg class='icon xr-icon-database'><use xlink:href='#icon-database'></use></svg></label><div class='xr-var-attrs'><dl class='xr-attrs'><dt><span>title :</span></dt><dd>Carrier export cost.</dd><dt><span>description :</span></dt><dd>Cost per unit of `flow_export` in each timestep. Usually used in the negative sense, as a subsidy.</dd><dt><span>default :</span></dt><dd>0</dd><dt><span>resample_method :</span></dt><dd>mean</dd><dt><span>unit :</span></dt><dd>$\\frac{\\{cost}}{\\text{energy}}$</dd></dl></div><div class='xr-var-data'><pre>array([[[[[      nan],\n",
       "          [      nan],\n",
       "          [      nan]]],\n",
       "\n",
       "\n",
       "        [[[      nan],\n",
       "          [      nan],\n",
       "          [      nan]]],\n",
       "\n",
       "\n",
       "        [[[      nan],\n",
       "          [      nan],\n",
       "          [      nan]]],\n",
       "\n",
       "\n",
       "        [[[      nan],\n",
       "          [      nan],\n",
       "          [      nan]]],\n",
       "\n",
       "\n",
       "...\n",
       "\n",
       "\n",
       "        [[[      nan],\n",
       "          [      nan],\n",
       "          [      nan]]],\n",
       "\n",
       "\n",
       "        [[[      nan],\n",
       "          [      nan],\n",
       "          [      nan]]],\n",
       "\n",
       "\n",
       "        [[[      nan],\n",
       "          [      nan],\n",
       "          [      nan]]],\n",
       "\n",
       "\n",
       "        [[[      nan],\n",
       "          [      nan],\n",
       "          [      nan]]]]])</pre></div></li><li class='xr-var-item'><div class='xr-var-name'><span>cost_om_annual</span></div><div class='xr-var-dims'>(nodes, techs, costs)</div><div class='xr-var-dtype'>float64</div><div class='xr-var-preview xr-preview'>nan nan nan nan ... -80.5 nan nan</div><input id='attrs-c761611f-8fae-4cc9-9854-93569b8d0596' class='xr-var-attrs-in' type='checkbox' ><label for='attrs-c761611f-8fae-4cc9-9854-93569b8d0596' title='Show/Hide attributes'><svg class='icon xr-icon-file-text2'><use xlink:href='#icon-file-text2'></use></svg></label><input id='data-5407f44f-5eae-4ae0-8039-362179de335f' class='xr-var-data-in' type='checkbox'><label for='data-5407f44f-5eae-4ae0-8039-362179de335f' title='Show/Hide data repr'><svg class='icon xr-icon-database'><use xlink:href='#icon-database'></use></svg></label><div class='xr-var-attrs'><dl class='xr-attrs'><dt><span>title :</span></dt><dd>Annual O&amp;M costs</dd><dt><span>description :</span></dt><dd>Annual costs applied per unit `flow_cap`. These costs are not subject to being recalculated relative to technology lifetime, only scaled to reflect the fraction of one year that the model represents (e.g., 7 days ~= 0.02 of a year).</dd><dt><span>default :</span></dt><dd>0</dd><dt><span>resample_method :</span></dt><dd>first</dd><dt><span>unit :</span></dt><dd>$\\frac{\\{cost}}{\\text{power}}$</dd></dl></div><div class='xr-var-data'><pre>array([[[  nan],\n",
       "        [  nan],\n",
       "        [  nan],\n",
       "        [  nan],\n",
       "        [  nan],\n",
       "        [  nan],\n",
       "        [  nan],\n",
       "        [  nan],\n",
       "        [  nan],\n",
       "        [  nan],\n",
       "        [  nan],\n",
       "        [  nan]],\n",
       "\n",
       "       [[  nan],\n",
       "        [  nan],\n",
       "        [  nan],\n",
       "        [  nan],\n",
       "        [  nan],\n",
       "        [  nan],\n",
       "        [  nan],\n",
       "...\n",
       "        [  nan],\n",
       "        [  nan],\n",
       "        [  nan],\n",
       "        [  nan],\n",
       "        [  nan],\n",
       "        [  nan],\n",
       "        [  nan]],\n",
       "\n",
       "       [[  nan],\n",
       "        [  nan],\n",
       "        [  nan],\n",
       "        [  nan],\n",
       "        [  nan],\n",
       "        [  nan],\n",
       "        [  nan],\n",
       "        [  nan],\n",
       "        [  nan],\n",
       "        [-80.5],\n",
       "        [  nan],\n",
       "        [  nan]]])</pre></div></li><li class='xr-var-item'><div class='xr-var-name'><span>available_area</span></div><div class='xr-var-dims'>(nodes)</div><div class='xr-var-dtype'>float64</div><div class='xr-var-preview xr-preview'>nan 500.0 1.3e+03 900.0</div><input id='attrs-bd895ca4-515a-4320-adfa-e992a3b11e08' class='xr-var-attrs-in' type='checkbox' ><label for='attrs-bd895ca4-515a-4320-adfa-e992a3b11e08' title='Show/Hide attributes'><svg class='icon xr-icon-file-text2'><use xlink:href='#icon-file-text2'></use></svg></label><input id='data-e0d005c0-740e-41e9-971a-bbfb9021e0ac' class='xr-var-data-in' type='checkbox'><label for='data-e0d005c0-740e-41e9-971a-bbfb9021e0ac' title='Show/Hide data repr'><svg class='icon xr-icon-database'><use xlink:href='#icon-database'></use></svg></label><div class='xr-var-attrs'><dl class='xr-attrs'><dt><span>title :</span></dt><dd>Available area</dd><dt><span>description :</span></dt><dd>Available area for resource area use by all technologies at a node.</dd><dt><span>default :</span></dt><dd>inf</dd><dt><span>resample_method :</span></dt><dd>mean</dd><dt><span>unit :</span></dt><dd>area.</dd></dl></div><div class='xr-var-data'><pre>array([  nan,  500., 1300.,  900.])</pre></div></li><li class='xr-var-item'><div class='xr-var-name'><span>latitude</span></div><div class='xr-var-dims'>(nodes)</div><div class='xr-var-dtype'>float64</div><div class='xr-var-preview xr-preview'>51.99 52.0 51.99 51.99</div><input id='attrs-06e7d862-154f-4a44-bb2c-0a217579ba71' class='xr-var-attrs-in' type='checkbox' ><label for='attrs-06e7d862-154f-4a44-bb2c-0a217579ba71' title='Show/Hide attributes'><svg class='icon xr-icon-file-text2'><use xlink:href='#icon-file-text2'></use></svg></label><input id='data-34753643-888f-41a7-a05b-0def528989d4' class='xr-var-data-in' type='checkbox'><label for='data-34753643-888f-41a7-a05b-0def528989d4' title='Show/Hide data repr'><svg class='icon xr-icon-database'><use xlink:href='#icon-database'></use></svg></label><div class='xr-var-attrs'><dl class='xr-attrs'><dt><span>title :</span></dt><dd>Latitude (WGS84 / EPSG4326).</dd><dt><span>description :</span></dt><dd></dd><dt><span>default :</span></dt><dd>nan</dd><dt><span>dtype :</span></dt><dd>float</dd><dt><span>resample_method :</span></dt><dd>mean</dd><dt><span>one_of :</span></dt><dd>None</dd><dt><span>pivot_values_to_dim :</span></dt><dd>None</dd></dl></div><div class='xr-var-data'><pre>array([51.99324, 51.99673, 51.99415, 51.9922 ])</pre></div></li><li class='xr-var-item'><div class='xr-var-name'><span>longitude</span></div><div class='xr-var-dims'>(nodes)</div><div class='xr-var-dtype'>float64</div><div class='xr-var-preview xr-preview'>4.359 4.358 4.361 4.362</div><input id='attrs-c8a71822-79e7-4ff6-963c-abbc10262aca' class='xr-var-attrs-in' type='checkbox' ><label for='attrs-c8a71822-79e7-4ff6-963c-abbc10262aca' title='Show/Hide attributes'><svg class='icon xr-icon-file-text2'><use xlink:href='#icon-file-text2'></use></svg></label><input id='data-65192e27-86bf-4e91-a1f9-f05917bc3b4f' class='xr-var-data-in' type='checkbox'><label for='data-65192e27-86bf-4e91-a1f9-f05917bc3b4f' title='Show/Hide data repr'><svg class='icon xr-icon-database'><use xlink:href='#icon-database'></use></svg></label><div class='xr-var-attrs'><dl class='xr-attrs'><dt><span>title :</span></dt><dd>Longitude (WGS84 / EPSG4326).</dd><dt><span>description :</span></dt><dd></dd><dt><span>default :</span></dt><dd>nan</dd><dt><span>dtype :</span></dt><dd>float</dd><dt><span>resample_method :</span></dt><dd>mean</dd><dt><span>one_of :</span></dt><dd>None</dd><dt><span>pivot_values_to_dim :</span></dt><dd>None</dd></dl></div><div class='xr-var-data'><pre>array([4.35911, 4.3582 , 4.36116, 4.36225])</pre></div></li><li class='xr-var-item'><div class='xr-var-name'><span>source_use_equals</span></div><div class='xr-var-dims'>(techs, timesteps)</div><div class='xr-var-dtype'>float64</div><div class='xr-var-preview xr-preview'>nan nan nan nan ... nan 0.0 nan nan</div><input id='attrs-c387e1a9-3e63-4d96-a43c-11168b847f3c' class='xr-var-attrs-in' type='checkbox' ><label for='attrs-c387e1a9-3e63-4d96-a43c-11168b847f3c' title='Show/Hide attributes'><svg class='icon xr-icon-file-text2'><use xlink:href='#icon-file-text2'></use></svg></label><input id='data-f1f2993c-74f6-416c-b18f-83a254706bd4' class='xr-var-data-in' type='checkbox'><label for='data-f1f2993c-74f6-416c-b18f-83a254706bd4' title='Show/Hide data repr'><svg class='icon xr-icon-database'><use xlink:href='#icon-database'></use></svg></label><div class='xr-var-attrs'><dl class='xr-attrs'><dt><span>title :</span></dt><dd>Required sink use.</dd><dt><span>description :</span></dt><dd>Required amount of carrier removal from the system (e.g., biofuel, coal, rainfall, wind flow). Unit dictated by `source_unit`.</dd><dt><span>default :</span></dt><dd>nan</dd><dt><span>resample_method :</span></dt><dd>sum</dd><dt><span>unit :</span></dt><dd>energy | $\\frac{\\text{energy}}{\\text{power}}$ | $\\frac{\\text{energy}}{\\text{area}}$</dd></dl></div><div class='xr-var-data'><pre>array([[nan],\n",
       "       [nan],\n",
       "       [nan],\n",
       "       [nan],\n",
       "       [nan],\n",
       "       [nan],\n",
       "       [nan],\n",
       "       [nan],\n",
       "       [nan],\n",
       "       [ 0.],\n",
       "       [nan],\n",
       "       [nan]])</pre></div></li><li class='xr-var-item'><div class='xr-var-name'><span>sink_use_equals</span></div><div class='xr-var-dims'>(timesteps, techs, nodes)</div><div class='xr-var-dtype'>float64</div><div class='xr-var-preview xr-preview'>nan nan nan nan ... nan nan nan nan</div><input id='attrs-6095b34c-f169-4c1b-99b9-cb617b78c481' class='xr-var-attrs-in' type='checkbox' ><label for='attrs-6095b34c-f169-4c1b-99b9-cb617b78c481' title='Show/Hide attributes'><svg class='icon xr-icon-file-text2'><use xlink:href='#icon-file-text2'></use></svg></label><input id='data-848d96b6-f5d5-47aa-b0ba-7ffc3dae18dd' class='xr-var-data-in' type='checkbox'><label for='data-848d96b6-f5d5-47aa-b0ba-7ffc3dae18dd' title='Show/Hide data repr'><svg class='icon xr-icon-database'><use xlink:href='#icon-database'></use></svg></label><div class='xr-var-attrs'><dl class='xr-attrs'><dt><span>title :</span></dt><dd>Required sink use.</dd><dt><span>description :</span></dt><dd>Required amount of carrier removal from the system (e.g., electricity demand, transport distance). Unit dictated by `source_unit`.</dd><dt><span>default :</span></dt><dd>nan</dd><dt><span>resample_method :</span></dt><dd>sum</dd><dt><span>unit :</span></dt><dd>energy | $\\frac{\\text{energy}}{\\text{power}}$ | $\\frac{\\text{energy}}{\\text{area}}$</dd></dl></div><div class='xr-var-data'><pre>array([[[         nan,          nan,          nan,          nan],\n",
       "        [         nan,          nan,          nan,          nan],\n",
       "        [         nan,          nan,          nan,          nan],\n",
       "        [         nan,          nan,          nan,          nan],\n",
       "        [         nan,          nan,          nan,          nan],\n",
       "        [         nan,          nan,          nan,          nan],\n",
       "        [         nan,          nan,          nan,          nan],\n",
       "        [         nan,   0.63770352, 101.8098151 ,  20.59216851],\n",
       "        [         nan,   4.34848582, 128.2103003 ,  25.17394083],\n",
       "        [         nan,          nan,          nan,          nan],\n",
       "        [         nan,          nan,          nan,          nan],\n",
       "        [         nan,          nan,          nan,          nan]]])</pre></div></li><li class='xr-var-item'><div class='xr-var-name'><span>definition_matrix</span></div><div class='xr-var-dims'>(nodes, techs, carriers)</div><div class='xr-var-dtype'>bool</div><div class='xr-var-preview xr-preview'>False False True ... False False</div><input id='attrs-e0752c8c-1c46-43db-992e-fadef9ca9a2d' class='xr-var-attrs-in' type='checkbox' ><label for='attrs-e0752c8c-1c46-43db-992e-fadef9ca9a2d' title='Show/Hide attributes'><svg class='icon xr-icon-file-text2'><use xlink:href='#icon-file-text2'></use></svg></label><input id='data-e75f6edf-aeab-42de-afb4-fb8af8140a62' class='xr-var-data-in' type='checkbox'><label for='data-e75f6edf-aeab-42de-afb4-fb8af8140a62' title='Show/Hide data repr'><svg class='icon xr-icon-database'><use xlink:href='#icon-database'></use></svg></label><div class='xr-var-attrs'><dl class='xr-attrs'><dt><span>title :</span></dt><dd></dd><dt><span>description :</span></dt><dd>Whether a technology is defined with particular carriers and at a particular node.</dd><dt><span>default :</span></dt><dd>False</dd><dt><span>dtype :</span></dt><dd>bool</dd><dt><span>resample_method :</span></dt><dd>first</dd><dt><span>one_of :</span></dt><dd>None</dd><dt><span>pivot_values_to_dim :</span></dt><dd>None</dd></dl></div><div class='xr-var-data'><pre>array([[[False, False,  True],\n",
       "        [False, False,  True],\n",
       "        [False, False,  True],\n",
       "        [False, False, False],\n",
       "        [False, False, False],\n",
       "        [False, False, False],\n",
       "        [False, False, False],\n",
       "        [False, False, False],\n",
       "        [False, False, False],\n",
       "        [False, False, False],\n",
       "        [False, False, False],\n",
       "        [False, False, False]],\n",
       "\n",
       "       [[False, False, False],\n",
       "        [False, False, False],\n",
       "        [False, False,  True],\n",
       "        [ True, False, False],\n",
       "        [ True, False, False],\n",
       "        [False, False, False],\n",
       "        [ True,  True,  True],\n",
       "...\n",
       "        [False,  True,  True],\n",
       "        [False, False, False],\n",
       "        [ True, False, False],\n",
       "        [False, False,  True],\n",
       "        [ True, False, False],\n",
       "        [False,  True, False],\n",
       "        [False, False, False]],\n",
       "\n",
       "       [[False, False, False],\n",
       "        [False, False,  True],\n",
       "        [False, False, False],\n",
       "        [False, False, False],\n",
       "        [ True, False, False],\n",
       "        [False,  True,  True],\n",
       "        [False, False, False],\n",
       "        [ True, False, False],\n",
       "        [False, False,  True],\n",
       "        [ True, False, False],\n",
       "        [False,  True, False],\n",
       "        [False, False, False]]])</pre></div></li><li class='xr-var-item'><div class='xr-var-name'><span>timestep_resolution</span></div><div class='xr-var-dims'>(timesteps)</div><div class='xr-var-dtype'>float64</div><div class='xr-var-preview xr-preview'>1.0</div><input id='attrs-342112b3-cf1f-4e1e-9d44-7688cbc38827' class='xr-var-attrs-in' type='checkbox' ><label for='attrs-342112b3-cf1f-4e1e-9d44-7688cbc38827' title='Show/Hide attributes'><svg class='icon xr-icon-file-text2'><use xlink:href='#icon-file-text2'></use></svg></label><input id='data-3e50fbb1-0f4b-4174-919c-4b8f4c968396' class='xr-var-data-in' type='checkbox'><label for='data-3e50fbb1-0f4b-4174-919c-4b8f4c968396' title='Show/Hide data repr'><svg class='icon xr-icon-database'><use xlink:href='#icon-database'></use></svg></label><div class='xr-var-attrs'><dl class='xr-attrs'><dt><span>title :</span></dt><dd>Resolution per timestep.</dd><dt><span>description :</span></dt><dd></dd><dt><span>default :</span></dt><dd>1</dd><dt><span>resample_method :</span></dt><dd>sum</dd><dt><span>unit :</span></dt><dd>hours.</dd></dl></div><div class='xr-var-data'><pre>array([1.])</pre></div></li><li class='xr-var-item'><div class='xr-var-name'><span>timestep_weights</span></div><div class='xr-var-dims'>(timesteps)</div><div class='xr-var-dtype'>float64</div><div class='xr-var-preview xr-preview'>1.0</div><input id='attrs-a8d401b5-7fbe-4196-810a-d66d7e614c21' class='xr-var-attrs-in' type='checkbox' ><label for='attrs-a8d401b5-7fbe-4196-810a-d66d7e614c21' title='Show/Hide attributes'><svg class='icon xr-icon-file-text2'><use xlink:href='#icon-file-text2'></use></svg></label><input id='data-f02f5c31-874e-43fd-9f6c-94497a3ce60c' class='xr-var-data-in' type='checkbox'><label for='data-f02f5c31-874e-43fd-9f6c-94497a3ce60c' title='Show/Hide data repr'><svg class='icon xr-icon-database'><use xlink:href='#icon-database'></use></svg></label><div class='xr-var-attrs'><dl class='xr-attrs'><dt><span>title :</span></dt><dd>Weight per timestep.</dd><dt><span>description :</span></dt><dd></dd><dt><span>default :</span></dt><dd>1</dd><dt><span>resample_method :</span></dt><dd>mean</dd><dt><span>unit :</span></dt><dd>unitless.</dd></dl></div><div class='xr-var-data'><pre>array([1.])</pre></div></li></ul></div></li><li class='xr-section-item'><input id='section-b7f6668c-bf2f-4dc8-afcc-06551a635935' class='xr-section-summary-in' type='checkbox'  ><label for='section-b7f6668c-bf2f-4dc8-afcc-06551a635935' class='xr-section-summary' >Indexes: <span>(5)</span></label><div class='xr-section-inline-details'></div><div class='xr-section-details'><ul class='xr-var-list'><li class='xr-var-item'><div class='xr-index-name'><div>costs</div></div><div class='xr-index-preview'>PandasIndex</div><div></div><input id='index-e4356e6b-98c4-454c-be4d-c627b432ada8' class='xr-index-data-in' type='checkbox'/><label for='index-e4356e6b-98c4-454c-be4d-c627b432ada8' title='Show/Hide index repr'><svg class='icon xr-icon-database'><use xlink:href='#icon-database'></use></svg></label><div class='xr-index-data'><pre>PandasIndex(Index([&#x27;monetary&#x27;], dtype=&#x27;object&#x27;, name=&#x27;costs&#x27;))</pre></div></li><li class='xr-var-item'><div class='xr-index-name'><div>techs</div></div><div class='xr-index-preview'>PandasIndex</div><div></div><input id='index-78abf044-16ef-4ef6-a5d1-52d1c2945075' class='xr-index-data-in' type='checkbox'/><label for='index-78abf044-16ef-4ef6-a5d1-52d1c2945075' title='Show/Hide index repr'><svg class='icon xr-icon-database'><use xlink:href='#icon-database'></use></svg></label><div class='xr-index-data'><pre>PandasIndex(Index([&#x27;N1_to_X2&#x27;, &#x27;N1_to_X3&#x27;, &#x27;X1_to_N1&#x27;, &#x27;X1_to_X2&#x27;, &#x27;X1_to_X3&#x27;, &#x27;boiler&#x27;,\n",
       "       &#x27;chp&#x27;, &#x27;demand_electricity&#x27;, &#x27;demand_heat&#x27;, &#x27;pv&#x27;, &#x27;supply_gas&#x27;,\n",
       "       &#x27;supply_grid_power&#x27;],\n",
       "      dtype=&#x27;object&#x27;, name=&#x27;techs&#x27;))</pre></div></li><li class='xr-var-item'><div class='xr-index-name'><div>carriers</div></div><div class='xr-index-preview'>PandasIndex</div><div></div><input id='index-5e0c12c0-5c2e-4c1b-b46f-9e35ba4866cc' class='xr-index-data-in' type='checkbox'/><label for='index-5e0c12c0-5c2e-4c1b-b46f-9e35ba4866cc' title='Show/Hide index repr'><svg class='icon xr-icon-database'><use xlink:href='#icon-database'></use></svg></label><div class='xr-index-data'><pre>PandasIndex(Index([&#x27;electricity&#x27;, &#x27;gas&#x27;, &#x27;heat&#x27;], dtype=&#x27;object&#x27;, name=&#x27;carriers&#x27;))</pre></div></li><li class='xr-var-item'><div class='xr-index-name'><div>nodes</div></div><div class='xr-index-preview'>PandasIndex</div><div></div><input id='index-2e05dca3-c409-4407-a2d6-6a70a291d92b' class='xr-index-data-in' type='checkbox'/><label for='index-2e05dca3-c409-4407-a2d6-6a70a291d92b' title='Show/Hide index repr'><svg class='icon xr-icon-database'><use xlink:href='#icon-database'></use></svg></label><div class='xr-index-data'><pre>PandasIndex(Index([&#x27;N1&#x27;, &#x27;X1&#x27;, &#x27;X2&#x27;, &#x27;X3&#x27;], dtype=&#x27;object&#x27;, name=&#x27;nodes&#x27;))</pre></div></li><li class='xr-var-item'><div class='xr-index-name'><div>timesteps</div></div><div class='xr-index-preview'>PandasIndex</div><div></div><input id='index-12399dd1-0b1e-4057-afbf-e02590363e6f' class='xr-index-data-in' type='checkbox'/><label for='index-12399dd1-0b1e-4057-afbf-e02590363e6f' title='Show/Hide index repr'><svg class='icon xr-icon-database'><use xlink:href='#icon-database'></use></svg></label><div class='xr-index-data'><pre>PandasIndex(DatetimeIndex([&#x27;2050-01-01&#x27;], dtype=&#x27;datetime64[ns]&#x27;, name=&#x27;timesteps&#x27;, freq=None))</pre></div></li></ul></div></li><li class='xr-section-item'><input id='section-542d0a96-b5d4-4589-9c17-0e68c0f80c82' class='xr-section-summary-in' type='checkbox' disabled ><label for='section-542d0a96-b5d4-4589-9c17-0e68c0f80c82' class='xr-section-summary'  title='Expand/collapse section'>Attributes: <span>(0)</span></label><div class='xr-section-inline-details'></div><div class='xr-section-details'><dl class='xr-attrs'></dl></div></li></ul></div></div>"
      ],
      "text/plain": [
       "<xarray.Dataset> Size: 8kB\n",
       "Dimensions:                     (costs: 1, techs: 12, carriers: 3, nodes: 4,\n",
       "                                 timesteps: 1)\n",
       "Coordinates:\n",
       "  * costs                       (costs) object 8B 'monetary'\n",
       "  * techs                       (techs) object 96B 'N1_to_X2' ... 'supply_gri...\n",
       "  * carriers                    (carriers) object 24B 'electricity' 'gas' 'heat'\n",
       "  * nodes                       (nodes) object 32B 'N1' 'X1' 'X2' 'X3'\n",
       "  * timesteps                   (timesteps) datetime64[ns] 8B 2050-01-01\n",
       "Data variables: (12/34)\n",
       "    cost_interest_rate          (costs) float64 8B 0.1\n",
       "    bigM                        float64 8B 1e+06\n",
       "    objective_cost_weights      (costs) float64 8B 1.0\n",
       "    base_tech                   (techs) object 96B 'transmission' ... 'supply'\n",
       "    carrier_export              (techs, carriers) bool 36B False False ... False\n",
       "    carrier_in                  (nodes, techs, carriers) bool 144B False ... ...\n",
       "    ...                          ...\n",
       "    longitude                   (nodes) float64 32B 4.359 4.358 4.361 4.362\n",
       "    source_use_equals           (techs, timesteps) float64 96B nan nan ... nan\n",
       "    sink_use_equals             (timesteps, techs, nodes) float64 384B nan .....\n",
       "    definition_matrix           (nodes, techs, carriers) bool 144B False ... ...\n",
       "    timestep_resolution         (timesteps) float64 8B 1.0\n",
       "    timestep_weights            (timesteps) float64 8B 1.0"
      ]
     },
     "execution_count": 40,
     "metadata": {},
     "output_type": "execute_result"
    }
   ],
   "source": [
    "model.inputs"
   ]
  },
  {
   "cell_type": "code",
   "execution_count": 41,
   "id": "348792d0",
   "metadata": {},
   "outputs": [
    {
     "data": {
      "text/plain": [
       "techs              carriers     nodes\n",
       "N1_to_X2           heat         N1       2000.0\n",
       "                                X2       2000.0\n",
       "N1_to_X3           heat         N1       2000.0\n",
       "                                X3       2000.0\n",
       "X1_to_N1           heat         N1       2000.0\n",
       "                                X1       2000.0\n",
       "X1_to_X2           electricity  X1       2000.0\n",
       "                                X2       2000.0\n",
       "X1_to_X3           electricity  X1       2000.0\n",
       "                                X3       2000.0\n",
       "boiler             heat         X2        600.0\n",
       "                                X3        600.0\n",
       "chp                electricity  X1       1500.0\n",
       "pv                 electricity  X1        250.0\n",
       "                                X2        250.0\n",
       "                                X3         50.0\n",
       "supply_gas         gas          X1       2000.0\n",
       "                                X2       2000.0\n",
       "                                X3       2000.0\n",
       "supply_grid_power  electricity  X1       2000.0\n",
       "Name: flow_cap_max, dtype: float64"
      ]
     },
     "execution_count": 41,
     "metadata": {},
     "output_type": "execute_result"
    }
   ],
   "source": [
    "model.inputs.flow_cap_max.to_series().dropna()"
   ]
  },
  {
   "cell_type": "code",
   "execution_count": 42,
   "id": "6ed7dc7e",
   "metadata": {},
   "outputs": [
    {
     "data": {
      "text/plain": [
       "techs               nodes\n",
       "demand_electricity  X1         0.637704\n",
       "                    X2       101.809815\n",
       "                    X3        20.592169\n",
       "demand_heat         X1         4.348486\n",
       "                    X2       128.210300\n",
       "                    X3        25.173941\n",
       "Name: sink_use_equals, dtype: float64"
      ]
     },
     "execution_count": 42,
     "metadata": {},
     "output_type": "execute_result"
    }
   ],
   "source": [
    "model.inputs.sink_use_equals.sum(\n",
    "    \"timesteps\", min_count=1, skipna=True\n",
    ").to_series().dropna()"
   ]
  },
  {
   "cell_type": "code",
   "execution_count": 43,
   "id": "f51d6f61",
   "metadata": {},
   "outputs": [
    {
     "name": "stdout",
     "output_type": "stream",
     "text": [
      "[2025-10-11 00:05:49] INFO     Model: backend build starting\n",
      "[2025-10-11 00:05:49] INFO     Optimisation Model | parameters/lookups | Generated.\n",
      "[2025-10-11 00:05:49] INFO     Optimisation Model | variables | Generated.\n",
      "[2025-10-11 00:05:50] INFO     Optimisation Model | global_expressions | Generated.\n",
      "[2025-10-11 00:05:52] INFO     Optimisation Model | constraints | Generated.\n",
      "[2025-10-11 00:05:52] INFO     Optimisation Model | piecewise_constraints | Generated.\n",
      "[2025-10-11 00:05:52] INFO     Optimisation Model | objectives | Generated.\n",
      "[2025-10-11 00:05:52] INFO     Model: backend build complete\n",
      "[2025-10-11 00:05:52] INFO     Optimisation model | starting model in base mode.\n",
      "[2025-10-11 00:05:52] INFO     Backend: solver finished running. Time since start of solving optimisation problem: 0:00:00.211227\n",
      "[2025-10-11 00:05:52] INFO     Postprocessing: applied zero threshold 1e-10 to model results.\n",
      "[2025-10-11 00:05:52] INFO     Postprocessing: ended. Time since start of solving optimisation problem: 0:00:00.282250\n",
      "[2025-10-11 00:05:52] INFO     Backend: model solve completed. Time since start of solving optimisation problem: 0:00:00.283251\n"
     ]
    }
   ],
   "source": [
    "model.build()\n",
    "model.solve()"
   ]
  },
  {
   "cell_type": "code",
   "execution_count": 44,
   "id": "140b6902",
   "metadata": {},
   "outputs": [
    {
     "data": {
      "text/html": [
       "<div><svg style=\"position: absolute; width: 0; height: 0; overflow: hidden\">\n",
       "<defs>\n",
       "<symbol id=\"icon-database\" viewBox=\"0 0 32 32\">\n",
       "<path d=\"M16 0c-8.837 0-16 2.239-16 5v4c0 2.761 7.163 5 16 5s16-2.239 16-5v-4c0-2.761-7.163-5-16-5z\"></path>\n",
       "<path d=\"M16 17c-8.837 0-16-2.239-16-5v6c0 2.761 7.163 5 16 5s16-2.239 16-5v-6c0 2.761-7.163 5-16 5z\"></path>\n",
       "<path d=\"M16 26c-8.837 0-16-2.239-16-5v6c0 2.761 7.163 5 16 5s16-2.239 16-5v-6c0 2.761-7.163 5-16 5z\"></path>\n",
       "</symbol>\n",
       "<symbol id=\"icon-file-text2\" viewBox=\"0 0 32 32\">\n",
       "<path d=\"M28.681 7.159c-0.694-0.947-1.662-2.053-2.724-3.116s-2.169-2.030-3.116-2.724c-1.612-1.182-2.393-1.319-2.841-1.319h-15.5c-1.378 0-2.5 1.121-2.5 2.5v27c0 1.378 1.122 2.5 2.5 2.5h23c1.378 0 2.5-1.122 2.5-2.5v-19.5c0-0.448-0.137-1.23-1.319-2.841zM24.543 5.457c0.959 0.959 1.712 1.825 2.268 2.543h-4.811v-4.811c0.718 0.556 1.584 1.309 2.543 2.268zM28 29.5c0 0.271-0.229 0.5-0.5 0.5h-23c-0.271 0-0.5-0.229-0.5-0.5v-27c0-0.271 0.229-0.5 0.5-0.5 0 0 15.499-0 15.5 0v7c0 0.552 0.448 1 1 1h7v19.5z\"></path>\n",
       "<path d=\"M23 26h-14c-0.552 0-1-0.448-1-1s0.448-1 1-1h14c0.552 0 1 0.448 1 1s-0.448 1-1 1z\"></path>\n",
       "<path d=\"M23 22h-14c-0.552 0-1-0.448-1-1s0.448-1 1-1h14c0.552 0 1 0.448 1 1s-0.448 1-1 1z\"></path>\n",
       "<path d=\"M23 18h-14c-0.552 0-1-0.448-1-1s0.448-1 1-1h14c0.552 0 1 0.448 1 1s-0.448 1-1 1z\"></path>\n",
       "</symbol>\n",
       "</defs>\n",
       "</svg>\n",
       "<style>/* CSS stylesheet for displaying xarray objects in jupyterlab.\n",
       " *\n",
       " */\n",
       "\n",
       ":root {\n",
       "  --xr-font-color0: var(--jp-content-font-color0, rgba(0, 0, 0, 1));\n",
       "  --xr-font-color2: var(--jp-content-font-color2, rgba(0, 0, 0, 0.54));\n",
       "  --xr-font-color3: var(--jp-content-font-color3, rgba(0, 0, 0, 0.38));\n",
       "  --xr-border-color: var(--jp-border-color2, #e0e0e0);\n",
       "  --xr-disabled-color: var(--jp-layout-color3, #bdbdbd);\n",
       "  --xr-background-color: var(--jp-layout-color0, white);\n",
       "  --xr-background-color-row-even: var(--jp-layout-color1, white);\n",
       "  --xr-background-color-row-odd: var(--jp-layout-color2, #eeeeee);\n",
       "}\n",
       "\n",
       "html[theme=dark],\n",
       "body[data-theme=dark],\n",
       "body.vscode-dark {\n",
       "  --xr-font-color0: rgba(255, 255, 255, 1);\n",
       "  --xr-font-color2: rgba(255, 255, 255, 0.54);\n",
       "  --xr-font-color3: rgba(255, 255, 255, 0.38);\n",
       "  --xr-border-color: #1F1F1F;\n",
       "  --xr-disabled-color: #515151;\n",
       "  --xr-background-color: #111111;\n",
       "  --xr-background-color-row-even: #111111;\n",
       "  --xr-background-color-row-odd: #313131;\n",
       "}\n",
       "\n",
       ".xr-wrap {\n",
       "  display: block !important;\n",
       "  min-width: 300px;\n",
       "  max-width: 700px;\n",
       "}\n",
       "\n",
       ".xr-text-repr-fallback {\n",
       "  /* fallback to plain text repr when CSS is not injected (untrusted notebook) */\n",
       "  display: none;\n",
       "}\n",
       "\n",
       ".xr-header {\n",
       "  padding-top: 6px;\n",
       "  padding-bottom: 6px;\n",
       "  margin-bottom: 4px;\n",
       "  border-bottom: solid 1px var(--xr-border-color);\n",
       "}\n",
       "\n",
       ".xr-header > div,\n",
       ".xr-header > ul {\n",
       "  display: inline;\n",
       "  margin-top: 0;\n",
       "  margin-bottom: 0;\n",
       "}\n",
       "\n",
       ".xr-obj-type,\n",
       ".xr-array-name {\n",
       "  margin-left: 2px;\n",
       "  margin-right: 10px;\n",
       "}\n",
       "\n",
       ".xr-obj-type {\n",
       "  color: var(--xr-font-color2);\n",
       "}\n",
       "\n",
       ".xr-sections {\n",
       "  padding-left: 0 !important;\n",
       "  display: grid;\n",
       "  grid-template-columns: 150px auto auto 1fr 20px 20px;\n",
       "}\n",
       "\n",
       ".xr-section-item {\n",
       "  display: contents;\n",
       "}\n",
       "\n",
       ".xr-section-item input {\n",
       "  display: none;\n",
       "}\n",
       "\n",
       ".xr-section-item input + label {\n",
       "  color: var(--xr-disabled-color);\n",
       "}\n",
       "\n",
       ".xr-section-item input:enabled + label {\n",
       "  cursor: pointer;\n",
       "  color: var(--xr-font-color2);\n",
       "}\n",
       "\n",
       ".xr-section-item input:enabled + label:hover {\n",
       "  color: var(--xr-font-color0);\n",
       "}\n",
       "\n",
       ".xr-section-summary {\n",
       "  grid-column: 1;\n",
       "  color: var(--xr-font-color2);\n",
       "  font-weight: 500;\n",
       "}\n",
       "\n",
       ".xr-section-summary > span {\n",
       "  display: inline-block;\n",
       "  padding-left: 0.5em;\n",
       "}\n",
       "\n",
       ".xr-section-summary-in:disabled + label {\n",
       "  color: var(--xr-font-color2);\n",
       "}\n",
       "\n",
       ".xr-section-summary-in + label:before {\n",
       "  display: inline-block;\n",
       "  content: '►';\n",
       "  font-size: 11px;\n",
       "  width: 15px;\n",
       "  text-align: center;\n",
       "}\n",
       "\n",
       ".xr-section-summary-in:disabled + label:before {\n",
       "  color: var(--xr-disabled-color);\n",
       "}\n",
       "\n",
       ".xr-section-summary-in:checked + label:before {\n",
       "  content: '▼';\n",
       "}\n",
       "\n",
       ".xr-section-summary-in:checked + label > span {\n",
       "  display: none;\n",
       "}\n",
       "\n",
       ".xr-section-summary,\n",
       ".xr-section-inline-details {\n",
       "  padding-top: 4px;\n",
       "  padding-bottom: 4px;\n",
       "}\n",
       "\n",
       ".xr-section-inline-details {\n",
       "  grid-column: 2 / -1;\n",
       "}\n",
       "\n",
       ".xr-section-details {\n",
       "  display: none;\n",
       "  grid-column: 1 / -1;\n",
       "  margin-bottom: 5px;\n",
       "}\n",
       "\n",
       ".xr-section-summary-in:checked ~ .xr-section-details {\n",
       "  display: contents;\n",
       "}\n",
       "\n",
       ".xr-array-wrap {\n",
       "  grid-column: 1 / -1;\n",
       "  display: grid;\n",
       "  grid-template-columns: 20px auto;\n",
       "}\n",
       "\n",
       ".xr-array-wrap > label {\n",
       "  grid-column: 1;\n",
       "  vertical-align: top;\n",
       "}\n",
       "\n",
       ".xr-preview {\n",
       "  color: var(--xr-font-color3);\n",
       "}\n",
       "\n",
       ".xr-array-preview,\n",
       ".xr-array-data {\n",
       "  padding: 0 5px !important;\n",
       "  grid-column: 2;\n",
       "}\n",
       "\n",
       ".xr-array-data,\n",
       ".xr-array-in:checked ~ .xr-array-preview {\n",
       "  display: none;\n",
       "}\n",
       "\n",
       ".xr-array-in:checked ~ .xr-array-data,\n",
       ".xr-array-preview {\n",
       "  display: inline-block;\n",
       "}\n",
       "\n",
       ".xr-dim-list {\n",
       "  display: inline-block !important;\n",
       "  list-style: none;\n",
       "  padding: 0 !important;\n",
       "  margin: 0;\n",
       "}\n",
       "\n",
       ".xr-dim-list li {\n",
       "  display: inline-block;\n",
       "  padding: 0;\n",
       "  margin: 0;\n",
       "}\n",
       "\n",
       ".xr-dim-list:before {\n",
       "  content: '(';\n",
       "}\n",
       "\n",
       ".xr-dim-list:after {\n",
       "  content: ')';\n",
       "}\n",
       "\n",
       ".xr-dim-list li:not(:last-child):after {\n",
       "  content: ',';\n",
       "  padding-right: 5px;\n",
       "}\n",
       "\n",
       ".xr-has-index {\n",
       "  font-weight: bold;\n",
       "}\n",
       "\n",
       ".xr-var-list,\n",
       ".xr-var-item {\n",
       "  display: contents;\n",
       "}\n",
       "\n",
       ".xr-var-item > div,\n",
       ".xr-var-item label,\n",
       ".xr-var-item > .xr-var-name span {\n",
       "  background-color: var(--xr-background-color-row-even);\n",
       "  margin-bottom: 0;\n",
       "}\n",
       "\n",
       ".xr-var-item > .xr-var-name:hover span {\n",
       "  padding-right: 5px;\n",
       "}\n",
       "\n",
       ".xr-var-list > li:nth-child(odd) > div,\n",
       ".xr-var-list > li:nth-child(odd) > label,\n",
       ".xr-var-list > li:nth-child(odd) > .xr-var-name span {\n",
       "  background-color: var(--xr-background-color-row-odd);\n",
       "}\n",
       "\n",
       ".xr-var-name {\n",
       "  grid-column: 1;\n",
       "}\n",
       "\n",
       ".xr-var-dims {\n",
       "  grid-column: 2;\n",
       "}\n",
       "\n",
       ".xr-var-dtype {\n",
       "  grid-column: 3;\n",
       "  text-align: right;\n",
       "  color: var(--xr-font-color2);\n",
       "}\n",
       "\n",
       ".xr-var-preview {\n",
       "  grid-column: 4;\n",
       "}\n",
       "\n",
       ".xr-index-preview {\n",
       "  grid-column: 2 / 5;\n",
       "  color: var(--xr-font-color2);\n",
       "}\n",
       "\n",
       ".xr-var-name,\n",
       ".xr-var-dims,\n",
       ".xr-var-dtype,\n",
       ".xr-preview,\n",
       ".xr-attrs dt {\n",
       "  white-space: nowrap;\n",
       "  overflow: hidden;\n",
       "  text-overflow: ellipsis;\n",
       "  padding-right: 10px;\n",
       "}\n",
       "\n",
       ".xr-var-name:hover,\n",
       ".xr-var-dims:hover,\n",
       ".xr-var-dtype:hover,\n",
       ".xr-attrs dt:hover {\n",
       "  overflow: visible;\n",
       "  width: auto;\n",
       "  z-index: 1;\n",
       "}\n",
       "\n",
       ".xr-var-attrs,\n",
       ".xr-var-data,\n",
       ".xr-index-data {\n",
       "  display: none;\n",
       "  background-color: var(--xr-background-color) !important;\n",
       "  padding-bottom: 5px !important;\n",
       "}\n",
       "\n",
       ".xr-var-attrs-in:checked ~ .xr-var-attrs,\n",
       ".xr-var-data-in:checked ~ .xr-var-data,\n",
       ".xr-index-data-in:checked ~ .xr-index-data {\n",
       "  display: block;\n",
       "}\n",
       "\n",
       ".xr-var-data > table {\n",
       "  float: right;\n",
       "}\n",
       "\n",
       ".xr-var-name span,\n",
       ".xr-var-data,\n",
       ".xr-index-name div,\n",
       ".xr-index-data,\n",
       ".xr-attrs {\n",
       "  padding-left: 25px !important;\n",
       "}\n",
       "\n",
       ".xr-attrs,\n",
       ".xr-var-attrs,\n",
       ".xr-var-data,\n",
       ".xr-index-data {\n",
       "  grid-column: 1 / -1;\n",
       "}\n",
       "\n",
       "dl.xr-attrs {\n",
       "  padding: 0;\n",
       "  margin: 0;\n",
       "  display: grid;\n",
       "  grid-template-columns: 125px auto;\n",
       "}\n",
       "\n",
       ".xr-attrs dt,\n",
       ".xr-attrs dd {\n",
       "  padding: 0;\n",
       "  margin: 0;\n",
       "  float: left;\n",
       "  padding-right: 10px;\n",
       "  width: auto;\n",
       "}\n",
       "\n",
       ".xr-attrs dt {\n",
       "  font-weight: normal;\n",
       "  grid-column: 1;\n",
       "}\n",
       "\n",
       ".xr-attrs dt:hover span {\n",
       "  display: inline-block;\n",
       "  background: var(--xr-background-color);\n",
       "  padding-right: 10px;\n",
       "}\n",
       "\n",
       ".xr-attrs dd {\n",
       "  grid-column: 2;\n",
       "  white-space: pre-wrap;\n",
       "  word-break: break-all;\n",
       "}\n",
       "\n",
       ".xr-icon-database,\n",
       ".xr-icon-file-text2,\n",
       ".xr-no-icon {\n",
       "  display: inline-block;\n",
       "  vertical-align: middle;\n",
       "  width: 1em;\n",
       "  height: 1.5em !important;\n",
       "  stroke-width: 0;\n",
       "  stroke: currentColor;\n",
       "  fill: currentColor;\n",
       "}\n",
       "</style><pre class='xr-text-repr-fallback'>&lt;xarray.Dataset&gt; Size: 13kB\n",
       "Dimensions:                     (nodes: 4, techs: 12, carriers: 3,\n",
       "                                 timesteps: 1, costs: 1)\n",
       "Coordinates:\n",
       "  * techs                       (techs) object 96B &#x27;N1_to_X2&#x27; ... &#x27;supply_gri...\n",
       "  * nodes                       (nodes) object 32B &#x27;N1&#x27; &#x27;X1&#x27; &#x27;X2&#x27; &#x27;X3&#x27;\n",
       "  * carriers                    (carriers) object 24B &#x27;electricity&#x27; &#x27;gas&#x27; &#x27;heat&#x27;\n",
       "  * timesteps                   (timesteps) datetime64[ns] 8B 2050-01-01\n",
       "  * costs                       (costs) object 8B &#x27;monetary&#x27;\n",
       "Data variables: (12/24)\n",
       "    flow_cap                    (nodes, techs, carriers) float64 1kB nan ... nan\n",
       "    link_flow_cap               (techs) float64 96B 89.05 0.0 96.08 ... nan nan\n",
       "    flow_out                    (nodes, techs, carriers, timesteps) float64 1kB ...\n",
       "    flow_in                     (nodes, techs, carriers, timesteps) float64 1kB ...\n",
       "    flow_export                 (nodes, techs, carriers, timesteps) float64 1kB ...\n",
       "    area_use                    (nodes, techs) float64 384B nan nan ... nan nan\n",
       "    ...                          ...\n",
       "    min_cost_optimisation       float64 8B 11.91\n",
       "    capacity_factor             (nodes, techs, carriers, timesteps) float64 1kB ...\n",
       "    systemwide_capacity_factor  (techs, carriers) float64 288B 0.0 0.0 ... 0.0\n",
       "    systemwide_levelised_cost   (techs, costs, carriers) float64 288B nan ......\n",
       "    total_levelised_cost        (costs, carriers) float64 24B 0.09487 ... 0.0...\n",
       "    unmet_sum                   (nodes, carriers, timesteps) float64 96B nan ...</pre><div class='xr-wrap' style='display:none'><div class='xr-header'><div class='xr-obj-type'>xarray.Dataset</div></div><ul class='xr-sections'><li class='xr-section-item'><input id='section-1bb01fc2-c9ad-481d-bb3b-e15d1649f51b' class='xr-section-summary-in' type='checkbox' disabled ><label for='section-1bb01fc2-c9ad-481d-bb3b-e15d1649f51b' class='xr-section-summary'  title='Expand/collapse section'>Dimensions:</label><div class='xr-section-inline-details'><ul class='xr-dim-list'><li><span class='xr-has-index'>nodes</span>: 4</li><li><span class='xr-has-index'>techs</span>: 12</li><li><span class='xr-has-index'>carriers</span>: 3</li><li><span class='xr-has-index'>timesteps</span>: 1</li><li><span class='xr-has-index'>costs</span>: 1</li></ul></div><div class='xr-section-details'></div></li><li class='xr-section-item'><input id='section-cab0eeca-8eb9-4d28-a1c8-cd45f3f35de7' class='xr-section-summary-in' type='checkbox'  checked><label for='section-cab0eeca-8eb9-4d28-a1c8-cd45f3f35de7' class='xr-section-summary' >Coordinates: <span>(5)</span></label><div class='xr-section-inline-details'></div><div class='xr-section-details'><ul class='xr-var-list'><li class='xr-var-item'><div class='xr-var-name'><span class='xr-has-index'>techs</span></div><div class='xr-var-dims'>(techs)</div><div class='xr-var-dtype'>object</div><div class='xr-var-preview xr-preview'>&#x27;N1_to_X2&#x27; ... &#x27;supply_grid_power&#x27;</div><input id='attrs-0e79e795-0a41-407e-89c1-0fadaa3db175' class='xr-var-attrs-in' type='checkbox' disabled><label for='attrs-0e79e795-0a41-407e-89c1-0fadaa3db175' title='Show/Hide attributes'><svg class='icon xr-icon-file-text2'><use xlink:href='#icon-file-text2'></use></svg></label><input id='data-723cad8f-03af-4604-b0e0-2fe0bd4eac37' class='xr-var-data-in' type='checkbox'><label for='data-723cad8f-03af-4604-b0e0-2fe0bd4eac37' title='Show/Hide data repr'><svg class='icon xr-icon-database'><use xlink:href='#icon-database'></use></svg></label><div class='xr-var-attrs'><dl class='xr-attrs'></dl></div><div class='xr-var-data'><pre>array([&#x27;N1_to_X2&#x27;, &#x27;N1_to_X3&#x27;, &#x27;X1_to_N1&#x27;, &#x27;X1_to_X2&#x27;, &#x27;X1_to_X3&#x27;, &#x27;boiler&#x27;,\n",
       "       &#x27;chp&#x27;, &#x27;demand_electricity&#x27;, &#x27;demand_heat&#x27;, &#x27;pv&#x27;, &#x27;supply_gas&#x27;,\n",
       "       &#x27;supply_grid_power&#x27;], dtype=object)</pre></div></li><li class='xr-var-item'><div class='xr-var-name'><span class='xr-has-index'>nodes</span></div><div class='xr-var-dims'>(nodes)</div><div class='xr-var-dtype'>object</div><div class='xr-var-preview xr-preview'>&#x27;N1&#x27; &#x27;X1&#x27; &#x27;X2&#x27; &#x27;X3&#x27;</div><input id='attrs-82efcfff-9e51-463d-9865-c6bb0eeea329' class='xr-var-attrs-in' type='checkbox' disabled><label for='attrs-82efcfff-9e51-463d-9865-c6bb0eeea329' title='Show/Hide attributes'><svg class='icon xr-icon-file-text2'><use xlink:href='#icon-file-text2'></use></svg></label><input id='data-a841bdef-2d74-4fa1-8ff9-9666c5107127' class='xr-var-data-in' type='checkbox'><label for='data-a841bdef-2d74-4fa1-8ff9-9666c5107127' title='Show/Hide data repr'><svg class='icon xr-icon-database'><use xlink:href='#icon-database'></use></svg></label><div class='xr-var-attrs'><dl class='xr-attrs'></dl></div><div class='xr-var-data'><pre>array([&#x27;N1&#x27;, &#x27;X1&#x27;, &#x27;X2&#x27;, &#x27;X3&#x27;], dtype=object)</pre></div></li><li class='xr-var-item'><div class='xr-var-name'><span class='xr-has-index'>carriers</span></div><div class='xr-var-dims'>(carriers)</div><div class='xr-var-dtype'>object</div><div class='xr-var-preview xr-preview'>&#x27;electricity&#x27; &#x27;gas&#x27; &#x27;heat&#x27;</div><input id='attrs-0c4d9f49-4478-4060-b7ce-1548310a4bdf' class='xr-var-attrs-in' type='checkbox' disabled><label for='attrs-0c4d9f49-4478-4060-b7ce-1548310a4bdf' title='Show/Hide attributes'><svg class='icon xr-icon-file-text2'><use xlink:href='#icon-file-text2'></use></svg></label><input id='data-68daa886-6813-4dfd-b6d9-0a29aa6830a7' class='xr-var-data-in' type='checkbox'><label for='data-68daa886-6813-4dfd-b6d9-0a29aa6830a7' title='Show/Hide data repr'><svg class='icon xr-icon-database'><use xlink:href='#icon-database'></use></svg></label><div class='xr-var-attrs'><dl class='xr-attrs'></dl></div><div class='xr-var-data'><pre>array([&#x27;electricity&#x27;, &#x27;gas&#x27;, &#x27;heat&#x27;], dtype=object)</pre></div></li><li class='xr-var-item'><div class='xr-var-name'><span class='xr-has-index'>timesteps</span></div><div class='xr-var-dims'>(timesteps)</div><div class='xr-var-dtype'>datetime64[ns]</div><div class='xr-var-preview xr-preview'>2050-01-01</div><input id='attrs-97e90bce-f25f-4d0d-90dd-4d1cfe295e5a' class='xr-var-attrs-in' type='checkbox' disabled><label for='attrs-97e90bce-f25f-4d0d-90dd-4d1cfe295e5a' title='Show/Hide attributes'><svg class='icon xr-icon-file-text2'><use xlink:href='#icon-file-text2'></use></svg></label><input id='data-aac7d060-6d4b-4c8c-8b57-e8f2c28aae17' class='xr-var-data-in' type='checkbox'><label for='data-aac7d060-6d4b-4c8c-8b57-e8f2c28aae17' title='Show/Hide data repr'><svg class='icon xr-icon-database'><use xlink:href='#icon-database'></use></svg></label><div class='xr-var-attrs'><dl class='xr-attrs'></dl></div><div class='xr-var-data'><pre>array([&#x27;2050-01-01T00:00:00.000000000&#x27;], dtype=&#x27;datetime64[ns]&#x27;)</pre></div></li><li class='xr-var-item'><div class='xr-var-name'><span class='xr-has-index'>costs</span></div><div class='xr-var-dims'>(costs)</div><div class='xr-var-dtype'>object</div><div class='xr-var-preview xr-preview'>&#x27;monetary&#x27;</div><input id='attrs-8c395646-710b-4b93-aaa7-4369a15d2872' class='xr-var-attrs-in' type='checkbox' disabled><label for='attrs-8c395646-710b-4b93-aaa7-4369a15d2872' title='Show/Hide attributes'><svg class='icon xr-icon-file-text2'><use xlink:href='#icon-file-text2'></use></svg></label><input id='data-580ab767-5e3e-4037-9d0f-93a335e4562c' class='xr-var-data-in' type='checkbox'><label for='data-580ab767-5e3e-4037-9d0f-93a335e4562c' title='Show/Hide data repr'><svg class='icon xr-icon-database'><use xlink:href='#icon-database'></use></svg></label><div class='xr-var-attrs'><dl class='xr-attrs'></dl></div><div class='xr-var-data'><pre>array([&#x27;monetary&#x27;], dtype=object)</pre></div></li></ul></div></li><li class='xr-section-item'><input id='section-2739c635-94cc-4074-ae40-ac61e2d26c2c' class='xr-section-summary-in' type='checkbox'  ><label for='section-2739c635-94cc-4074-ae40-ac61e2d26c2c' class='xr-section-summary' >Data variables: <span>(24)</span></label><div class='xr-section-inline-details'></div><div class='xr-section-details'><ul class='xr-var-list'><li class='xr-var-item'><div class='xr-var-name'><span>flow_cap</span></div><div class='xr-var-dims'>(nodes, techs, carriers)</div><div class='xr-var-dtype'>float64</div><div class='xr-var-preview xr-preview'>nan nan 89.05 nan ... nan nan nan</div><input id='attrs-f3cb941b-55fa-452e-9b1b-8d406f669283' class='xr-var-attrs-in' type='checkbox' disabled><label for='attrs-f3cb941b-55fa-452e-9b1b-8d406f669283' title='Show/Hide attributes'><svg class='icon xr-icon-file-text2'><use xlink:href='#icon-file-text2'></use></svg></label><input id='data-bc3f97c6-ed84-4fd9-ac9e-49487fbfacee' class='xr-var-data-in' type='checkbox'><label for='data-bc3f97c6-ed84-4fd9-ac9e-49487fbfacee' title='Show/Hide data repr'><svg class='icon xr-icon-database'><use xlink:href='#icon-database'></use></svg></label><div class='xr-var-attrs'><dl class='xr-attrs'></dl></div><div class='xr-var-data'><pre>array([[[         nan,          nan,  89.05419069],\n",
       "        [         nan,          nan,   0.        ],\n",
       "        [         nan,          nan,  96.08166361],\n",
       "        [         nan,          nan,          nan],\n",
       "        [         nan,          nan,          nan],\n",
       "        [         nan,          nan,          nan],\n",
       "        [         nan,          nan,          nan],\n",
       "        [         nan,          nan,          nan],\n",
       "        [         nan,          nan,          nan],\n",
       "        [         nan,          nan,          nan],\n",
       "        [         nan,          nan,          nan],\n",
       "        [         nan,          nan,          nan]],\n",
       "\n",
       "       [[         nan,          nan,          nan],\n",
       "        [         nan,          nan,          nan],\n",
       "        [         nan,          nan,  96.08166361],\n",
       "        [103.88756643,          nan,          nan],\n",
       "        [ 21.01241685,          nan,          nan],\n",
       "        [         nan,          nan,          nan],\n",
       "        [125.5376868 , 309.96959703, 100.43014944],\n",
       "...\n",
       "        [         nan,  53.72892797,  45.66958878],\n",
       "        [         nan,          nan,          nan],\n",
       "        [101.8098151 ,          nan,          nan],\n",
       "        [         nan,          nan, 128.2103003 ],\n",
       "        [  0.        ,          nan,          nan],\n",
       "        [         nan,  53.72892797,          nan],\n",
       "        [         nan,          nan,          nan]],\n",
       "\n",
       "       [[         nan,          nan,          nan],\n",
       "        [         nan,          nan,   0.        ],\n",
       "        [         nan,          nan,          nan],\n",
       "        [         nan,          nan,          nan],\n",
       "        [ 21.01241685,          nan,          nan],\n",
       "        [         nan,  29.61640098,  25.17394083],\n",
       "        [         nan,          nan,          nan],\n",
       "        [ 20.59216851,          nan,          nan],\n",
       "        [         nan,          nan,  25.17394083],\n",
       "        [  0.        ,          nan,          nan],\n",
       "        [         nan,  29.61640098,          nan],\n",
       "        [         nan,          nan,          nan]]])</pre></div></li><li class='xr-var-item'><div class='xr-var-name'><span>link_flow_cap</span></div><div class='xr-var-dims'>(techs)</div><div class='xr-var-dtype'>float64</div><div class='xr-var-preview xr-preview'>89.05 0.0 96.08 ... nan nan nan</div><input id='attrs-3d2cc301-8a53-4d80-b641-2bee2b5d423b' class='xr-var-attrs-in' type='checkbox' disabled><label for='attrs-3d2cc301-8a53-4d80-b641-2bee2b5d423b' title='Show/Hide attributes'><svg class='icon xr-icon-file-text2'><use xlink:href='#icon-file-text2'></use></svg></label><input id='data-1b020ee0-6e4e-46f8-945c-dc27d5ed3561' class='xr-var-data-in' type='checkbox'><label for='data-1b020ee0-6e4e-46f8-945c-dc27d5ed3561' title='Show/Hide data repr'><svg class='icon xr-icon-database'><use xlink:href='#icon-database'></use></svg></label><div class='xr-var-attrs'><dl class='xr-attrs'></dl></div><div class='xr-var-data'><pre>array([ 89.05419069,   0.        ,  96.08166361, 103.88756643,\n",
       "        21.01241685,          nan,          nan,          nan,\n",
       "                nan,          nan,          nan,          nan])</pre></div></li><li class='xr-var-item'><div class='xr-var-name'><span>flow_out</span></div><div class='xr-var-dims'>(nodes, techs, carriers, timesteps)</div><div class='xr-var-dtype'>float64</div><div class='xr-var-preview xr-preview'>nan nan 0.0 nan ... nan nan nan nan</div><input id='attrs-047e6978-7f0f-4bb3-a951-7288cd2b8a24' class='xr-var-attrs-in' type='checkbox' disabled><label for='attrs-047e6978-7f0f-4bb3-a951-7288cd2b8a24' title='Show/Hide attributes'><svg class='icon xr-icon-file-text2'><use xlink:href='#icon-file-text2'></use></svg></label><input id='data-f518c4b4-87dd-486b-bd83-90b67ae67dee' class='xr-var-data-in' type='checkbox'><label for='data-f518c4b4-87dd-486b-bd83-90b67ae67dee' title='Show/Hide data repr'><svg class='icon xr-icon-database'><use xlink:href='#icon-database'></use></svg></label><div class='xr-var-attrs'><dl class='xr-attrs'></dl></div><div class='xr-var-data'><pre>array([[[[         nan],\n",
       "         [         nan],\n",
       "         [  0.        ]],\n",
       "\n",
       "        [[         nan],\n",
       "         [         nan],\n",
       "         [  0.        ]],\n",
       "\n",
       "        [[         nan],\n",
       "         [         nan],\n",
       "         [ 89.05419069]],\n",
       "\n",
       "        [[         nan],\n",
       "         [         nan],\n",
       "         [         nan]],\n",
       "\n",
       "        [[         nan],\n",
       "         [         nan],\n",
       "         [         nan]],\n",
       "\n",
       "...\n",
       "\n",
       "        [[         nan],\n",
       "         [         nan],\n",
       "         [         nan]],\n",
       "\n",
       "        [[         nan],\n",
       "         [         nan],\n",
       "         [         nan]],\n",
       "\n",
       "        [[  0.        ],\n",
       "         [         nan],\n",
       "         [         nan]],\n",
       "\n",
       "        [[         nan],\n",
       "         [ 29.61640098],\n",
       "         [         nan]],\n",
       "\n",
       "        [[         nan],\n",
       "         [         nan],\n",
       "         [         nan]]]])</pre></div></li><li class='xr-var-item'><div class='xr-var-name'><span>flow_in</span></div><div class='xr-var-dims'>(nodes, techs, carriers, timesteps)</div><div class='xr-var-dtype'>float64</div><div class='xr-var-preview xr-preview'>nan nan 89.05 nan ... nan nan nan</div><input id='attrs-3414c001-44f8-4983-93f3-d581272c62b7' class='xr-var-attrs-in' type='checkbox' disabled><label for='attrs-3414c001-44f8-4983-93f3-d581272c62b7' title='Show/Hide attributes'><svg class='icon xr-icon-file-text2'><use xlink:href='#icon-file-text2'></use></svg></label><input id='data-2d49282c-03d9-46b3-aa9f-c34b5a02795b' class='xr-var-data-in' type='checkbox'><label for='data-2d49282c-03d9-46b3-aa9f-c34b5a02795b' title='Show/Hide data repr'><svg class='icon xr-icon-database'><use xlink:href='#icon-database'></use></svg></label><div class='xr-var-attrs'><dl class='xr-attrs'></dl></div><div class='xr-var-data'><pre>array([[[[         nan],\n",
       "         [         nan],\n",
       "         [ 89.05419069]],\n",
       "\n",
       "        [[         nan],\n",
       "         [         nan],\n",
       "         [  0.        ]],\n",
       "\n",
       "        [[         nan],\n",
       "         [         nan],\n",
       "         [  0.        ]],\n",
       "\n",
       "        [[         nan],\n",
       "         [         nan],\n",
       "         [         nan]],\n",
       "\n",
       "        [[         nan],\n",
       "         [         nan],\n",
       "         [         nan]],\n",
       "\n",
       "...\n",
       "\n",
       "        [[ 20.59216851],\n",
       "         [         nan],\n",
       "         [         nan]],\n",
       "\n",
       "        [[         nan],\n",
       "         [         nan],\n",
       "         [ 25.17394083]],\n",
       "\n",
       "        [[         nan],\n",
       "         [         nan],\n",
       "         [         nan]],\n",
       "\n",
       "        [[         nan],\n",
       "         [         nan],\n",
       "         [         nan]],\n",
       "\n",
       "        [[         nan],\n",
       "         [         nan],\n",
       "         [         nan]]]])</pre></div></li><li class='xr-var-item'><div class='xr-var-name'><span>flow_export</span></div><div class='xr-var-dims'>(nodes, techs, carriers, timesteps)</div><div class='xr-var-dtype'>float64</div><div class='xr-var-preview xr-preview'>nan nan nan nan ... nan nan nan nan</div><input id='attrs-308c3109-f074-4b4b-ba9b-676ea6348cb6' class='xr-var-attrs-in' type='checkbox' disabled><label for='attrs-308c3109-f074-4b4b-ba9b-676ea6348cb6' title='Show/Hide attributes'><svg class='icon xr-icon-file-text2'><use xlink:href='#icon-file-text2'></use></svg></label><input id='data-579aec10-33cc-4bd7-80bc-eefbc91ecbee' class='xr-var-data-in' type='checkbox'><label for='data-579aec10-33cc-4bd7-80bc-eefbc91ecbee' title='Show/Hide data repr'><svg class='icon xr-icon-database'><use xlink:href='#icon-database'></use></svg></label><div class='xr-var-attrs'><dl class='xr-attrs'></dl></div><div class='xr-var-data'><pre>array([[[[nan],\n",
       "         [nan],\n",
       "         [nan]],\n",
       "\n",
       "        [[nan],\n",
       "         [nan],\n",
       "         [nan]],\n",
       "\n",
       "        [[nan],\n",
       "         [nan],\n",
       "         [nan]],\n",
       "\n",
       "        [[nan],\n",
       "         [nan],\n",
       "         [nan]],\n",
       "\n",
       "        [[nan],\n",
       "         [nan],\n",
       "         [nan]],\n",
       "\n",
       "...\n",
       "\n",
       "        [[nan],\n",
       "         [nan],\n",
       "         [nan]],\n",
       "\n",
       "        [[nan],\n",
       "         [nan],\n",
       "         [nan]],\n",
       "\n",
       "        [[ 0.],\n",
       "         [nan],\n",
       "         [nan]],\n",
       "\n",
       "        [[nan],\n",
       "         [nan],\n",
       "         [nan]],\n",
       "\n",
       "        [[nan],\n",
       "         [nan],\n",
       "         [nan]]]])</pre></div></li><li class='xr-var-item'><div class='xr-var-name'><span>area_use</span></div><div class='xr-var-dims'>(nodes, techs)</div><div class='xr-var-dtype'>float64</div><div class='xr-var-preview xr-preview'>nan nan nan nan ... nan 0.0 nan nan</div><input id='attrs-5ce77e0c-b0d5-4373-944e-f309e2dd1993' class='xr-var-attrs-in' type='checkbox' disabled><label for='attrs-5ce77e0c-b0d5-4373-944e-f309e2dd1993' title='Show/Hide attributes'><svg class='icon xr-icon-file-text2'><use xlink:href='#icon-file-text2'></use></svg></label><input id='data-30467c02-5056-47f3-a808-02408470b8a4' class='xr-var-data-in' type='checkbox'><label for='data-30467c02-5056-47f3-a808-02408470b8a4' title='Show/Hide data repr'><svg class='icon xr-icon-database'><use xlink:href='#icon-database'></use></svg></label><div class='xr-var-attrs'><dl class='xr-attrs'></dl></div><div class='xr-var-data'><pre>array([[nan, nan, nan, nan, nan, nan, nan, nan, nan, nan, nan, nan],\n",
       "       [nan, nan, nan, nan, nan, nan, nan, nan, nan,  0., nan, nan],\n",
       "       [nan, nan, nan, nan, nan, nan, nan, nan, nan,  0., nan, nan],\n",
       "       [nan, nan, nan, nan, nan, nan, nan, nan, nan,  0., nan, nan]])</pre></div></li><li class='xr-var-item'><div class='xr-var-name'><span>source_use</span></div><div class='xr-var-dims'>(nodes, techs, timesteps)</div><div class='xr-var-dtype'>float64</div><div class='xr-var-preview xr-preview'>nan nan nan nan ... 0.0 29.62 nan</div><input id='attrs-3cb3811f-c3cc-413b-ae19-b33995780ef6' class='xr-var-attrs-in' type='checkbox' disabled><label for='attrs-3cb3811f-c3cc-413b-ae19-b33995780ef6' title='Show/Hide attributes'><svg class='icon xr-icon-file-text2'><use xlink:href='#icon-file-text2'></use></svg></label><input id='data-629bdf64-b88d-4802-a19f-3944afd431c2' class='xr-var-data-in' type='checkbox'><label for='data-629bdf64-b88d-4802-a19f-3944afd431c2' title='Show/Hide data repr'><svg class='icon xr-icon-database'><use xlink:href='#icon-database'></use></svg></label><div class='xr-var-attrs'><dl class='xr-attrs'></dl></div><div class='xr-var-data'><pre>array([[[         nan],\n",
       "        [         nan],\n",
       "        [         nan],\n",
       "        [         nan],\n",
       "        [         nan],\n",
       "        [         nan],\n",
       "        [         nan],\n",
       "        [         nan],\n",
       "        [         nan],\n",
       "        [         nan],\n",
       "        [         nan],\n",
       "        [         nan]],\n",
       "\n",
       "       [[         nan],\n",
       "        [         nan],\n",
       "        [         nan],\n",
       "        [         nan],\n",
       "        [         nan],\n",
       "        [         nan],\n",
       "        [         nan],\n",
       "...\n",
       "        [         nan],\n",
       "        [         nan],\n",
       "        [         nan],\n",
       "        [         nan],\n",
       "        [  0.        ],\n",
       "        [ 53.72892797],\n",
       "        [         nan]],\n",
       "\n",
       "       [[         nan],\n",
       "        [         nan],\n",
       "        [         nan],\n",
       "        [         nan],\n",
       "        [         nan],\n",
       "        [         nan],\n",
       "        [         nan],\n",
       "        [         nan],\n",
       "        [         nan],\n",
       "        [  0.        ],\n",
       "        [ 29.61640098],\n",
       "        [         nan]]])</pre></div></li><li class='xr-var-item'><div class='xr-var-name'><span>source_cap</span></div><div class='xr-var-dims'>(nodes, techs)</div><div class='xr-var-dtype'>float64</div><div class='xr-var-preview xr-preview'>nan nan nan nan ... 0.0 29.62 nan</div><input id='attrs-395a596f-0e34-4c96-9eb1-ec4bfec8616b' class='xr-var-attrs-in' type='checkbox' disabled><label for='attrs-395a596f-0e34-4c96-9eb1-ec4bfec8616b' title='Show/Hide attributes'><svg class='icon xr-icon-file-text2'><use xlink:href='#icon-file-text2'></use></svg></label><input id='data-70a55655-a929-4564-bb24-a91fb60835b0' class='xr-var-data-in' type='checkbox'><label for='data-70a55655-a929-4564-bb24-a91fb60835b0' title='Show/Hide data repr'><svg class='icon xr-icon-database'><use xlink:href='#icon-database'></use></svg></label><div class='xr-var-attrs'><dl class='xr-attrs'></dl></div><div class='xr-var-data'><pre>array([[         nan,          nan,          nan,          nan,\n",
       "                 nan,          nan,          nan,          nan,\n",
       "                 nan,          nan,          nan,          nan],\n",
       "       [         nan,          nan,          nan,          nan,\n",
       "                 nan,          nan,          nan,          nan,\n",
       "                 nan,   0.        , 309.96959703,   0.        ],\n",
       "       [         nan,          nan,          nan,          nan,\n",
       "                 nan,          nan,          nan,          nan,\n",
       "                 nan,   0.        ,  53.72892797,          nan],\n",
       "       [         nan,          nan,          nan,          nan,\n",
       "                 nan,          nan,          nan,          nan,\n",
       "                 nan,   0.        ,  29.61640098,          nan]])</pre></div></li><li class='xr-var-item'><div class='xr-var-name'><span>unmet_demand</span></div><div class='xr-var-dims'>(nodes, carriers, timesteps)</div><div class='xr-var-dtype'>float64</div><div class='xr-var-preview xr-preview'>nan nan 0.0 0.0 ... 0.0 0.0 0.0 0.0</div><input id='attrs-3c9f6097-cdba-49ac-9ea6-7a48a55ff553' class='xr-var-attrs-in' type='checkbox' disabled><label for='attrs-3c9f6097-cdba-49ac-9ea6-7a48a55ff553' title='Show/Hide attributes'><svg class='icon xr-icon-file-text2'><use xlink:href='#icon-file-text2'></use></svg></label><input id='data-3d6c8a0e-55a5-4c49-8a07-5a1bda05edd1' class='xr-var-data-in' type='checkbox'><label for='data-3d6c8a0e-55a5-4c49-8a07-5a1bda05edd1' title='Show/Hide data repr'><svg class='icon xr-icon-database'><use xlink:href='#icon-database'></use></svg></label><div class='xr-var-attrs'><dl class='xr-attrs'></dl></div><div class='xr-var-data'><pre>array([[[nan],\n",
       "        [nan],\n",
       "        [ 0.]],\n",
       "\n",
       "       [[ 0.],\n",
       "        [ 0.],\n",
       "        [ 0.]],\n",
       "\n",
       "       [[ 0.],\n",
       "        [ 0.],\n",
       "        [ 0.]],\n",
       "\n",
       "       [[ 0.],\n",
       "        [ 0.],\n",
       "        [ 0.]]])</pre></div></li><li class='xr-var-item'><div class='xr-var-name'><span>unused_supply</span></div><div class='xr-var-dims'>(nodes, carriers, timesteps)</div><div class='xr-var-dtype'>float64</div><div class='xr-var-preview xr-preview'>nan nan 0.0 0.0 ... 0.0 0.0 0.0 0.0</div><input id='attrs-0f0a6cac-cced-43af-b5a1-f6456bbdb5dd' class='xr-var-attrs-in' type='checkbox' disabled><label for='attrs-0f0a6cac-cced-43af-b5a1-f6456bbdb5dd' title='Show/Hide attributes'><svg class='icon xr-icon-file-text2'><use xlink:href='#icon-file-text2'></use></svg></label><input id='data-76559ee5-85d5-47a7-b540-9d1db8f9dfb5' class='xr-var-data-in' type='checkbox'><label for='data-76559ee5-85d5-47a7-b540-9d1db8f9dfb5' title='Show/Hide data repr'><svg class='icon xr-icon-database'><use xlink:href='#icon-database'></use></svg></label><div class='xr-var-attrs'><dl class='xr-attrs'></dl></div><div class='xr-var-data'><pre>array([[[nan],\n",
       "        [nan],\n",
       "        [ 0.]],\n",
       "\n",
       "       [[ 0.],\n",
       "        [ 0.],\n",
       "        [ 0.]],\n",
       "\n",
       "       [[ 0.],\n",
       "        [ 0.],\n",
       "        [ 0.]],\n",
       "\n",
       "       [[ 0.],\n",
       "        [ 0.],\n",
       "        [ 0.]]])</pre></div></li><li class='xr-var-item'><div class='xr-var-name'><span>flow_out_inc_eff</span></div><div class='xr-var-dims'>(nodes, techs, carriers, timesteps)</div><div class='xr-var-dtype'>float64</div><div class='xr-var-preview xr-preview'>nan nan 0.0 nan ... nan nan nan nan</div><input id='attrs-a89feb55-e544-496b-a09f-9fc64ec0633f' class='xr-var-attrs-in' type='checkbox' disabled><label for='attrs-a89feb55-e544-496b-a09f-9fc64ec0633f' title='Show/Hide attributes'><svg class='icon xr-icon-file-text2'><use xlink:href='#icon-file-text2'></use></svg></label><input id='data-560ed7ea-702f-459b-b430-ea6c4ca4b4ae' class='xr-var-data-in' type='checkbox'><label for='data-560ed7ea-702f-459b-b430-ea6c4ca4b4ae' title='Show/Hide data repr'><svg class='icon xr-icon-database'><use xlink:href='#icon-database'></use></svg></label><div class='xr-var-attrs'><dl class='xr-attrs'></dl></div><div class='xr-var-data'><pre>array([[[[         nan],\n",
       "         [         nan],\n",
       "         [  0.        ]],\n",
       "\n",
       "        [[         nan],\n",
       "         [         nan],\n",
       "         [  0.        ]],\n",
       "\n",
       "        [[         nan],\n",
       "         [         nan],\n",
       "         [ 96.08166361]],\n",
       "\n",
       "        [[         nan],\n",
       "         [         nan],\n",
       "         [         nan]],\n",
       "\n",
       "        [[         nan],\n",
       "         [         nan],\n",
       "         [         nan]],\n",
       "\n",
       "...\n",
       "\n",
       "        [[         nan],\n",
       "         [         nan],\n",
       "         [         nan]],\n",
       "\n",
       "        [[         nan],\n",
       "         [         nan],\n",
       "         [         nan]],\n",
       "\n",
       "        [[  0.        ],\n",
       "         [         nan],\n",
       "         [         nan]],\n",
       "\n",
       "        [[         nan],\n",
       "         [ 29.61640098],\n",
       "         [         nan]],\n",
       "\n",
       "        [[         nan],\n",
       "         [         nan],\n",
       "         [         nan]]]])</pre></div></li><li class='xr-var-item'><div class='xr-var-name'><span>flow_in_inc_eff</span></div><div class='xr-var-dims'>(nodes, techs, carriers, timesteps)</div><div class='xr-var-dtype'>float64</div><div class='xr-var-preview xr-preview'>nan nan 89.05 nan ... nan nan nan</div><input id='attrs-fe2bb2f2-48b3-420f-9b91-b21fa20e575f' class='xr-var-attrs-in' type='checkbox' disabled><label for='attrs-fe2bb2f2-48b3-420f-9b91-b21fa20e575f' title='Show/Hide attributes'><svg class='icon xr-icon-file-text2'><use xlink:href='#icon-file-text2'></use></svg></label><input id='data-972809e6-5a6f-4149-aaeb-4da892e4a93e' class='xr-var-data-in' type='checkbox'><label for='data-972809e6-5a6f-4149-aaeb-4da892e4a93e' title='Show/Hide data repr'><svg class='icon xr-icon-database'><use xlink:href='#icon-database'></use></svg></label><div class='xr-var-attrs'><dl class='xr-attrs'></dl></div><div class='xr-var-data'><pre>array([[[[         nan],\n",
       "         [         nan],\n",
       "         [ 89.05419069]],\n",
       "\n",
       "        [[         nan],\n",
       "         [         nan],\n",
       "         [  0.        ]],\n",
       "\n",
       "        [[         nan],\n",
       "         [         nan],\n",
       "         [  0.        ]],\n",
       "\n",
       "        [[         nan],\n",
       "         [         nan],\n",
       "         [         nan]],\n",
       "\n",
       "        [[         nan],\n",
       "         [         nan],\n",
       "         [         nan]],\n",
       "\n",
       "...\n",
       "\n",
       "        [[ 20.59216851],\n",
       "         [         nan],\n",
       "         [         nan]],\n",
       "\n",
       "        [[         nan],\n",
       "         [         nan],\n",
       "         [ 25.17394083]],\n",
       "\n",
       "        [[         nan],\n",
       "         [         nan],\n",
       "         [         nan]],\n",
       "\n",
       "        [[         nan],\n",
       "         [         nan],\n",
       "         [         nan]],\n",
       "\n",
       "        [[         nan],\n",
       "         [         nan],\n",
       "         [         nan]]]])</pre></div></li><li class='xr-var-item'><div class='xr-var-name'><span>cost_operation_variable</span></div><div class='xr-var-dims'>(nodes, techs, costs, timesteps)</div><div class='xr-var-dtype'>float64</div><div class='xr-var-preview xr-preview'>nan nan nan nan ... nan 0.7404 nan</div><input id='attrs-19b7011d-608a-4dea-859f-8882b898a79c' class='xr-var-attrs-in' type='checkbox' disabled><label for='attrs-19b7011d-608a-4dea-859f-8882b898a79c' title='Show/Hide attributes'><svg class='icon xr-icon-file-text2'><use xlink:href='#icon-file-text2'></use></svg></label><input id='data-f814b38c-a9d3-46f1-b68f-2344ff32ea9c' class='xr-var-data-in' type='checkbox'><label for='data-f814b38c-a9d3-46f1-b68f-2344ff32ea9c' title='Show/Hide data repr'><svg class='icon xr-icon-database'><use xlink:href='#icon-database'></use></svg></label><div class='xr-var-attrs'><dl class='xr-attrs'></dl></div><div class='xr-var-data'><pre>array([[[[       nan]],\n",
       "\n",
       "        [[       nan]],\n",
       "\n",
       "        [[       nan]],\n",
       "\n",
       "        [[       nan]],\n",
       "\n",
       "        [[       nan]],\n",
       "\n",
       "        [[       nan]],\n",
       "\n",
       "        [[       nan]],\n",
       "\n",
       "        [[       nan]],\n",
       "\n",
       "        [[       nan]],\n",
       "\n",
       "        [[       nan]],\n",
       "\n",
       "...\n",
       "\n",
       "        [[       nan]],\n",
       "\n",
       "        [[       nan]],\n",
       "\n",
       "        [[       nan]],\n",
       "\n",
       "        [[0.1184656 ]],\n",
       "\n",
       "        [[       nan]],\n",
       "\n",
       "        [[       nan]],\n",
       "\n",
       "        [[       nan]],\n",
       "\n",
       "        [[       nan]],\n",
       "\n",
       "        [[0.74041002]],\n",
       "\n",
       "        [[       nan]]]])</pre></div></li><li class='xr-var-item'><div class='xr-var-name'><span>cost_investment_flow_cap</span></div><div class='xr-var-dims'>(nodes, techs, carriers, costs)</div><div class='xr-var-dtype'>float64</div><div class='xr-var-preview xr-preview'>nan nan 40.07 nan ... nan nan nan</div><input id='attrs-6c2ee6e1-4bc4-4f61-b1b7-9063dc1aa9db' class='xr-var-attrs-in' type='checkbox' disabled><label for='attrs-6c2ee6e1-4bc4-4f61-b1b7-9063dc1aa9db' title='Show/Hide attributes'><svg class='icon xr-icon-file-text2'><use xlink:href='#icon-file-text2'></use></svg></label><input id='data-7f6c3e9f-97bb-476a-b6ca-72d019b6b56a' class='xr-var-data-in' type='checkbox'><label for='data-7f6c3e9f-97bb-476a-b6ca-72d019b6b56a' title='Show/Hide data repr'><svg class='icon xr-icon-database'><use xlink:href='#icon-database'></use></svg></label><div class='xr-var-attrs'><dl class='xr-attrs'></dl></div><div class='xr-var-data'><pre>array([[[[           nan],\n",
       "         [           nan],\n",
       "         [4.00743858e+01]],\n",
       "\n",
       "        [[           nan],\n",
       "         [           nan],\n",
       "         [0.00000000e+00]],\n",
       "\n",
       "        [[           nan],\n",
       "         [           nan],\n",
       "         [4.32367486e+01]],\n",
       "\n",
       "        [[           nan],\n",
       "         [           nan],\n",
       "         [           nan]],\n",
       "\n",
       "        [[           nan],\n",
       "         [           nan],\n",
       "         [           nan]],\n",
       "\n",
       "...\n",
       "\n",
       "        [[           nan],\n",
       "         [           nan],\n",
       "         [           nan]],\n",
       "\n",
       "        [[           nan],\n",
       "         [           nan],\n",
       "         [           nan]],\n",
       "\n",
       "        [[0.00000000e+00],\n",
       "         [           nan],\n",
       "         [           nan]],\n",
       "\n",
       "        [[           nan],\n",
       "         [2.96164010e+01],\n",
       "         [           nan]],\n",
       "\n",
       "        [[           nan],\n",
       "         [           nan],\n",
       "         [           nan]]]])</pre></div></li><li class='xr-var-item'><div class='xr-var-name'><span>cost_investment</span></div><div class='xr-var-dims'>(nodes, techs, costs)</div><div class='xr-var-dtype'>float64</div><div class='xr-var-preview xr-preview'>40.07 0.0 43.24 ... 0.0 29.62 nan</div><input id='attrs-60e83f6d-f5e4-41f0-923d-44c912a48c6f' class='xr-var-attrs-in' type='checkbox' disabled><label for='attrs-60e83f6d-f5e4-41f0-923d-44c912a48c6f' title='Show/Hide attributes'><svg class='icon xr-icon-file-text2'><use xlink:href='#icon-file-text2'></use></svg></label><input id='data-5a86d749-7bd6-49da-8bbc-21dd946be323' class='xr-var-data-in' type='checkbox'><label for='data-5a86d749-7bd6-49da-8bbc-21dd946be323' title='Show/Hide data repr'><svg class='icon xr-icon-database'><use xlink:href='#icon-database'></use></svg></label><div class='xr-var-attrs'><dl class='xr-attrs'></dl></div><div class='xr-var-data'><pre>array([[[4.00743858e+01],\n",
       "        [0.00000000e+00],\n",
       "        [4.32367486e+01],\n",
       "        [           nan],\n",
       "        [           nan],\n",
       "        [           nan],\n",
       "        [           nan],\n",
       "        [           nan],\n",
       "        [           nan],\n",
       "        [           nan],\n",
       "        [           nan],\n",
       "        [           nan]],\n",
       "\n",
       "       [[           nan],\n",
       "        [           nan],\n",
       "        [4.32367486e+01],\n",
       "        [5.19437832e+00],\n",
       "        [5.25310421e-01],\n",
       "        [           nan],\n",
       "        [9.41532651e+04],\n",
       "...\n",
       "        [1.96835928e+03],\n",
       "        [           nan],\n",
       "        [           nan],\n",
       "        [           nan],\n",
       "        [0.00000000e+00],\n",
       "        [5.37289280e+01],\n",
       "        [           nan]],\n",
       "\n",
       "       [[           nan],\n",
       "        [0.00000000e+00],\n",
       "        [           nan],\n",
       "        [           nan],\n",
       "        [5.25310421e-01],\n",
       "        [1.96356738e+03],\n",
       "        [           nan],\n",
       "        [           nan],\n",
       "        [           nan],\n",
       "        [0.00000000e+00],\n",
       "        [2.96164010e+01],\n",
       "        [           nan]]])</pre></div></li><li class='xr-var-item'><div class='xr-var-name'><span>cost_investment_annualised</span></div><div class='xr-var-dims'>(nodes, techs, costs)</div><div class='xr-var-dtype'>float64</div><div class='xr-var-preview xr-preview'>0.000504 0.0 ... 0.0003725 nan</div><input id='attrs-569db20a-e17f-4bec-9357-9d9bc523a27e' class='xr-var-attrs-in' type='checkbox' disabled><label for='attrs-569db20a-e17f-4bec-9357-9d9bc523a27e' title='Show/Hide attributes'><svg class='icon xr-icon-file-text2'><use xlink:href='#icon-file-text2'></use></svg></label><input id='data-25016d57-e656-4fd8-9dd6-f865e4bf5c51' class='xr-var-data-in' type='checkbox'><label for='data-25016d57-e656-4fd8-9dd6-f865e4bf5c51' title='Show/Hide data repr'><svg class='icon xr-icon-database'><use xlink:href='#icon-database'></use></svg></label><div class='xr-var-attrs'><dl class='xr-attrs'></dl></div><div class='xr-var-data'><pre>array([[[5.03986054e-04],\n",
       "        [0.00000000e+00],\n",
       "        [5.43756763e-04],\n",
       "        [           nan],\n",
       "        [           nan],\n",
       "        [           nan],\n",
       "        [           nan],\n",
       "        [           nan],\n",
       "        [           nan],\n",
       "        [           nan],\n",
       "        [           nan],\n",
       "        [           nan]],\n",
       "\n",
       "       [[           nan],\n",
       "        [           nan],\n",
       "        [5.43756763e-04],\n",
       "        [6.53258728e-05],\n",
       "        [6.60644251e-06],\n",
       "        [           nan],\n",
       "        [1.18409631e+00],\n",
       "...\n",
       "        [2.47546058e-02],\n",
       "        [           nan],\n",
       "        [           nan],\n",
       "        [           nan],\n",
       "        [0.00000000e+00],\n",
       "        [6.75709180e-04],\n",
       "        [           nan]],\n",
       "\n",
       "       [[           nan],\n",
       "        [0.00000000e+00],\n",
       "        [           nan],\n",
       "        [           nan],\n",
       "        [6.60644251e-06],\n",
       "        [2.46943417e-02],\n",
       "        [           nan],\n",
       "        [           nan],\n",
       "        [           nan],\n",
       "        [0.00000000e+00],\n",
       "        [3.72463676e-04],\n",
       "        [           nan]]])</pre></div></li><li class='xr-var-item'><div class='xr-var-name'><span>cost_operation_fixed</span></div><div class='xr-var-dims'>(nodes, techs, costs)</div><div class='xr-var-dtype'>float64</div><div class='xr-var-preview xr-preview'>nan nan nan nan ... nan 0.0 nan nan</div><input id='attrs-4c63f82b-a6f0-4667-8e00-c1d0c8790829' class='xr-var-attrs-in' type='checkbox' disabled><label for='attrs-4c63f82b-a6f0-4667-8e00-c1d0c8790829' title='Show/Hide attributes'><svg class='icon xr-icon-file-text2'><use xlink:href='#icon-file-text2'></use></svg></label><input id='data-df131d12-707d-46fb-a767-b511865c2bac' class='xr-var-data-in' type='checkbox'><label for='data-df131d12-707d-46fb-a767-b511865c2bac' title='Show/Hide data repr'><svg class='icon xr-icon-database'><use xlink:href='#icon-database'></use></svg></label><div class='xr-var-attrs'><dl class='xr-attrs'></dl></div><div class='xr-var-data'><pre>array([[[nan],\n",
       "        [nan],\n",
       "        [nan],\n",
       "        [nan],\n",
       "        [nan],\n",
       "        [nan],\n",
       "        [nan],\n",
       "        [nan],\n",
       "        [nan],\n",
       "        [nan],\n",
       "        [nan],\n",
       "        [nan]],\n",
       "\n",
       "       [[nan],\n",
       "        [nan],\n",
       "        [nan],\n",
       "        [nan],\n",
       "        [nan],\n",
       "        [nan],\n",
       "        [nan],\n",
       "...\n",
       "        [nan],\n",
       "        [nan],\n",
       "        [nan],\n",
       "        [nan],\n",
       "        [nan],\n",
       "        [nan],\n",
       "        [nan]],\n",
       "\n",
       "       [[nan],\n",
       "        [nan],\n",
       "        [nan],\n",
       "        [nan],\n",
       "        [nan],\n",
       "        [nan],\n",
       "        [nan],\n",
       "        [nan],\n",
       "        [nan],\n",
       "        [ 0.],\n",
       "        [nan],\n",
       "        [nan]]])</pre></div></li><li class='xr-var-item'><div class='xr-var-name'><span>cost</span></div><div class='xr-var-dims'>(nodes, techs, costs)</div><div class='xr-var-dtype'>float64</div><div class='xr-var-preview xr-preview'>0.000504 0.0 ... 0.7408 nan</div><input id='attrs-9b72bed4-11d8-4d49-909d-3c1cf86a3052' class='xr-var-attrs-in' type='checkbox' disabled><label for='attrs-9b72bed4-11d8-4d49-909d-3c1cf86a3052' title='Show/Hide attributes'><svg class='icon xr-icon-file-text2'><use xlink:href='#icon-file-text2'></use></svg></label><input id='data-1a414072-2e9e-42f6-9be7-b6f27c53322f' class='xr-var-data-in' type='checkbox'><label for='data-1a414072-2e9e-42f6-9be7-b6f27c53322f' title='Show/Hide data repr'><svg class='icon xr-icon-database'><use xlink:href='#icon-database'></use></svg></label><div class='xr-var-attrs'><dl class='xr-attrs'></dl></div><div class='xr-var-data'><pre>array([[[5.03986054e-04],\n",
       "        [0.00000000e+00],\n",
       "        [5.43756763e-04],\n",
       "        [           nan],\n",
       "        [           nan],\n",
       "        [           nan],\n",
       "        [           nan],\n",
       "        [           nan],\n",
       "        [           nan],\n",
       "        [           nan],\n",
       "        [           nan],\n",
       "        [           nan]],\n",
       "\n",
       "       [[           nan],\n",
       "        [           nan],\n",
       "        [5.43756763e-04],\n",
       "        [6.53258728e-05],\n",
       "        [6.60644251e-06],\n",
       "        [           nan],\n",
       "        [1.68624706e+00],\n",
       "...\n",
       "        [2.39670318e-01],\n",
       "        [           nan],\n",
       "        [           nan],\n",
       "        [           nan],\n",
       "        [0.00000000e+00],\n",
       "        [1.34389891e+00],\n",
       "        [           nan]],\n",
       "\n",
       "       [[           nan],\n",
       "        [0.00000000e+00],\n",
       "        [           nan],\n",
       "        [           nan],\n",
       "        [6.60644251e-06],\n",
       "        [1.43159946e-01],\n",
       "        [           nan],\n",
       "        [           nan],\n",
       "        [           nan],\n",
       "        [0.00000000e+00],\n",
       "        [7.40782488e-01],\n",
       "        [           nan]]])</pre></div></li><li class='xr-var-item'><div class='xr-var-name'><span>min_cost_optimisation</span></div><div class='xr-var-dims'>()</div><div class='xr-var-dtype'>float64</div><div class='xr-var-preview xr-preview'>11.91</div><input id='attrs-5a3c7b17-c7e6-4135-8a86-b912a383fe40' class='xr-var-attrs-in' type='checkbox' disabled><label for='attrs-5a3c7b17-c7e6-4135-8a86-b912a383fe40' title='Show/Hide attributes'><svg class='icon xr-icon-file-text2'><use xlink:href='#icon-file-text2'></use></svg></label><input id='data-bf884b3d-6483-4ec8-a7c1-822caab53e99' class='xr-var-data-in' type='checkbox'><label for='data-bf884b3d-6483-4ec8-a7c1-822caab53e99' title='Show/Hide data repr'><svg class='icon xr-icon-database'><use xlink:href='#icon-database'></use></svg></label><div class='xr-var-attrs'><dl class='xr-attrs'></dl></div><div class='xr-var-data'><pre>array(11.90913626)</pre></div></li><li class='xr-var-item'><div class='xr-var-name'><span>capacity_factor</span></div><div class='xr-var-dims'>(nodes, techs, carriers, timesteps)</div><div class='xr-var-dtype'>float64</div><div class='xr-var-preview xr-preview'>nan nan 0.0 nan ... nan nan nan nan</div><input id='attrs-8152e369-6245-4dbf-b01d-cb5bdaab16d2' class='xr-var-attrs-in' type='checkbox' disabled><label for='attrs-8152e369-6245-4dbf-b01d-cb5bdaab16d2' title='Show/Hide attributes'><svg class='icon xr-icon-file-text2'><use xlink:href='#icon-file-text2'></use></svg></label><input id='data-91af02a0-1981-4e3a-a9d3-5f3d8f296e6b' class='xr-var-data-in' type='checkbox'><label for='data-91af02a0-1981-4e3a-a9d3-5f3d8f296e6b' title='Show/Hide data repr'><svg class='icon xr-icon-database'><use xlink:href='#icon-database'></use></svg></label><div class='xr-var-attrs'><dl class='xr-attrs'></dl></div><div class='xr-var-data'><pre>array([[[[       nan],\n",
       "         [       nan],\n",
       "         [0.        ]],\n",
       "\n",
       "        [[       nan],\n",
       "         [       nan],\n",
       "         [       nan]],\n",
       "\n",
       "        [[       nan],\n",
       "         [       nan],\n",
       "         [0.92685937]],\n",
       "\n",
       "        [[       nan],\n",
       "         [       nan],\n",
       "         [       nan]],\n",
       "\n",
       "        [[       nan],\n",
       "         [       nan],\n",
       "         [       nan]],\n",
       "\n",
       "...\n",
       "\n",
       "        [[       nan],\n",
       "         [       nan],\n",
       "         [       nan]],\n",
       "\n",
       "        [[       nan],\n",
       "         [       nan],\n",
       "         [       nan]],\n",
       "\n",
       "        [[       nan],\n",
       "         [       nan],\n",
       "         [       nan]],\n",
       "\n",
       "        [[       nan],\n",
       "         [1.        ],\n",
       "         [       nan]],\n",
       "\n",
       "        [[       nan],\n",
       "         [       nan],\n",
       "         [       nan]]]])</pre></div></li><li class='xr-var-item'><div class='xr-var-name'><span>systemwide_capacity_factor</span></div><div class='xr-var-dims'>(techs, carriers)</div><div class='xr-var-dtype'>float64</div><div class='xr-var-preview xr-preview'>0.0 0.0 0.4634 0.0 ... 0.0 0.0 0.0</div><input id='attrs-1c9e2f12-574c-47dc-ad73-bd771700041e' class='xr-var-attrs-in' type='checkbox' disabled><label for='attrs-1c9e2f12-574c-47dc-ad73-bd771700041e' title='Show/Hide attributes'><svg class='icon xr-icon-file-text2'><use xlink:href='#icon-file-text2'></use></svg></label><input id='data-30fc01d8-63b7-459b-84c7-8322af61ff3a' class='xr-var-data-in' type='checkbox'><label for='data-30fc01d8-63b7-459b-84c7-8322af61ff3a' title='Show/Hide data repr'><svg class='icon xr-icon-database'><use xlink:href='#icon-database'></use></svg></label><div class='xr-var-attrs'><dl class='xr-attrs'></dl></div><div class='xr-var-data'><pre>array([[0.        , 0.        , 0.46342969],\n",
       "       [0.        , 0.        , 0.        ],\n",
       "       [0.        , 0.        , 0.46342969],\n",
       "       [0.49      , 0.        , 0.        ],\n",
       "       [0.49      , 0.        , 0.        ],\n",
       "       [0.        , 0.        , 1.        ],\n",
       "       [1.        , 0.        , 1.        ],\n",
       "       [0.        , 0.        , 0.        ],\n",
       "       [0.        , 0.        , 0.        ],\n",
       "       [0.        , 0.        , 0.        ],\n",
       "       [0.        , 1.        , 0.        ],\n",
       "       [0.        , 0.        , 0.        ]])</pre></div></li><li class='xr-var-item'><div class='xr-var-name'><span>systemwide_levelised_cost</span></div><div class='xr-var-dims'>(techs, costs, carriers)</div><div class='xr-var-dtype'>float64</div><div class='xr-var-preview xr-preview'>nan nan 1.221e-05 ... nan nan nan</div><input id='attrs-7f4952c0-e1b1-423a-951a-2bfffc14fe58' class='xr-var-attrs-in' type='checkbox' disabled><label for='attrs-7f4952c0-e1b1-423a-951a-2bfffc14fe58' title='Show/Hide attributes'><svg class='icon xr-icon-file-text2'><use xlink:href='#icon-file-text2'></use></svg></label><input id='data-418e8b8f-eb52-4661-9238-3d12eec9d11d' class='xr-var-data-in' type='checkbox'><label for='data-418e8b8f-eb52-4661-9238-3d12eec9d11d' title='Show/Hide data repr'><svg class='icon xr-icon-database'><use xlink:href='#icon-database'></use></svg></label><div class='xr-var-attrs'><dl class='xr-attrs'></dl></div><div class='xr-var-data'><pre>array([[[           nan,            nan, 1.22118175e-05]],\n",
       "\n",
       "       [[           nan,            nan,            nan]],\n",
       "\n",
       "       [[           nan,            nan, 1.22118175e-05]],\n",
       "\n",
       "       [[1.28329224e-06,            nan,            nan]],\n",
       "\n",
       "       [[6.41646120e-07,            nan,            nan]],\n",
       "\n",
       "       [[           nan,            nan, 5.40388467e-03]],\n",
       "\n",
       "       [[1.34321980e-02,            nan, 1.67902475e-02]],\n",
       "\n",
       "       [[           nan,            nan,            nan]],\n",
       "\n",
       "       [[           nan,            nan,            nan]],\n",
       "\n",
       "       [[           nan,            nan,            nan]],\n",
       "\n",
       "       [[           nan, 2.50125763e-02,            nan]],\n",
       "\n",
       "       [[           nan,            nan,            nan]]])</pre></div></li><li class='xr-var-item'><div class='xr-var-name'><span>total_levelised_cost</span></div><div class='xr-var-dims'>(costs, carriers)</div><div class='xr-var-dtype'>float64</div><div class='xr-var-preview xr-preview'>0.09487 0.03028 0.06953</div><input id='attrs-8cf4af91-976d-4031-aac2-a65f7ec6ab2c' class='xr-var-attrs-in' type='checkbox' disabled><label for='attrs-8cf4af91-976d-4031-aac2-a65f7ec6ab2c' title='Show/Hide attributes'><svg class='icon xr-icon-file-text2'><use xlink:href='#icon-file-text2'></use></svg></label><input id='data-24e24e8a-24d7-464a-b73f-d7f9f09a0a87' class='xr-var-data-in' type='checkbox'><label for='data-24e24e8a-24d7-464a-b73f-d7f9f09a0a87' title='Show/Hide data repr'><svg class='icon xr-icon-database'><use xlink:href='#icon-database'></use></svg></label><div class='xr-var-attrs'><dl class='xr-attrs'></dl></div><div class='xr-var-data'><pre>array([[0.09486503, 0.03027888, 0.06953279]])</pre></div></li><li class='xr-var-item'><div class='xr-var-name'><span>unmet_sum</span></div><div class='xr-var-dims'>(nodes, carriers, timesteps)</div><div class='xr-var-dtype'>float64</div><div class='xr-var-preview xr-preview'>nan nan 0.0 0.0 ... 0.0 0.0 0.0 0.0</div><input id='attrs-b384ba1b-bddf-446e-ae45-df0ef92f6895' class='xr-var-attrs-in' type='checkbox' disabled><label for='attrs-b384ba1b-bddf-446e-ae45-df0ef92f6895' title='Show/Hide attributes'><svg class='icon xr-icon-file-text2'><use xlink:href='#icon-file-text2'></use></svg></label><input id='data-a9689c8b-6661-423c-b184-b24da4bca6bf' class='xr-var-data-in' type='checkbox'><label for='data-a9689c8b-6661-423c-b184-b24da4bca6bf' title='Show/Hide data repr'><svg class='icon xr-icon-database'><use xlink:href='#icon-database'></use></svg></label><div class='xr-var-attrs'><dl class='xr-attrs'></dl></div><div class='xr-var-data'><pre>array([[[nan],\n",
       "        [nan],\n",
       "        [ 0.]],\n",
       "\n",
       "       [[ 0.],\n",
       "        [ 0.],\n",
       "        [ 0.]],\n",
       "\n",
       "       [[ 0.],\n",
       "        [ 0.],\n",
       "        [ 0.]],\n",
       "\n",
       "       [[ 0.],\n",
       "        [ 0.],\n",
       "        [ 0.]]])</pre></div></li></ul></div></li><li class='xr-section-item'><input id='section-30447cf0-2322-42dd-abca-174807b18fc9' class='xr-section-summary-in' type='checkbox'  ><label for='section-30447cf0-2322-42dd-abca-174807b18fc9' class='xr-section-summary' >Indexes: <span>(5)</span></label><div class='xr-section-inline-details'></div><div class='xr-section-details'><ul class='xr-var-list'><li class='xr-var-item'><div class='xr-index-name'><div>techs</div></div><div class='xr-index-preview'>PandasIndex</div><div></div><input id='index-15d95cce-4a59-4146-abd2-1f9eda2cc87a' class='xr-index-data-in' type='checkbox'/><label for='index-15d95cce-4a59-4146-abd2-1f9eda2cc87a' title='Show/Hide index repr'><svg class='icon xr-icon-database'><use xlink:href='#icon-database'></use></svg></label><div class='xr-index-data'><pre>PandasIndex(Index([&#x27;N1_to_X2&#x27;, &#x27;N1_to_X3&#x27;, &#x27;X1_to_N1&#x27;, &#x27;X1_to_X2&#x27;, &#x27;X1_to_X3&#x27;, &#x27;boiler&#x27;,\n",
       "       &#x27;chp&#x27;, &#x27;demand_electricity&#x27;, &#x27;demand_heat&#x27;, &#x27;pv&#x27;, &#x27;supply_gas&#x27;,\n",
       "       &#x27;supply_grid_power&#x27;],\n",
       "      dtype=&#x27;object&#x27;, name=&#x27;techs&#x27;))</pre></div></li><li class='xr-var-item'><div class='xr-index-name'><div>nodes</div></div><div class='xr-index-preview'>PandasIndex</div><div></div><input id='index-753e7d8d-c14b-44bb-99d8-5a07caa6d5d5' class='xr-index-data-in' type='checkbox'/><label for='index-753e7d8d-c14b-44bb-99d8-5a07caa6d5d5' title='Show/Hide index repr'><svg class='icon xr-icon-database'><use xlink:href='#icon-database'></use></svg></label><div class='xr-index-data'><pre>PandasIndex(Index([&#x27;N1&#x27;, &#x27;X1&#x27;, &#x27;X2&#x27;, &#x27;X3&#x27;], dtype=&#x27;object&#x27;, name=&#x27;nodes&#x27;))</pre></div></li><li class='xr-var-item'><div class='xr-index-name'><div>carriers</div></div><div class='xr-index-preview'>PandasIndex</div><div></div><input id='index-a136b0df-d2a0-4564-ae84-823abd092877' class='xr-index-data-in' type='checkbox'/><label for='index-a136b0df-d2a0-4564-ae84-823abd092877' title='Show/Hide index repr'><svg class='icon xr-icon-database'><use xlink:href='#icon-database'></use></svg></label><div class='xr-index-data'><pre>PandasIndex(Index([&#x27;electricity&#x27;, &#x27;gas&#x27;, &#x27;heat&#x27;], dtype=&#x27;object&#x27;, name=&#x27;carriers&#x27;))</pre></div></li><li class='xr-var-item'><div class='xr-index-name'><div>timesteps</div></div><div class='xr-index-preview'>PandasIndex</div><div></div><input id='index-82409cb5-667a-495a-97bf-4b1071e0f689' class='xr-index-data-in' type='checkbox'/><label for='index-82409cb5-667a-495a-97bf-4b1071e0f689' title='Show/Hide index repr'><svg class='icon xr-icon-database'><use xlink:href='#icon-database'></use></svg></label><div class='xr-index-data'><pre>PandasIndex(DatetimeIndex([&#x27;2050-01-01&#x27;], dtype=&#x27;datetime64[ns]&#x27;, name=&#x27;timesteps&#x27;, freq=None))</pre></div></li><li class='xr-var-item'><div class='xr-index-name'><div>costs</div></div><div class='xr-index-preview'>PandasIndex</div><div></div><input id='index-cf49a3d5-7c98-4cd6-8757-5adca49b47b6' class='xr-index-data-in' type='checkbox'/><label for='index-cf49a3d5-7c98-4cd6-8757-5adca49b47b6' title='Show/Hide index repr'><svg class='icon xr-icon-database'><use xlink:href='#icon-database'></use></svg></label><div class='xr-index-data'><pre>PandasIndex(Index([&#x27;monetary&#x27;], dtype=&#x27;object&#x27;, name=&#x27;costs&#x27;))</pre></div></li></ul></div></li><li class='xr-section-item'><input id='section-aac105c9-fb63-4dee-a898-cc3e85a4477e' class='xr-section-summary-in' type='checkbox' disabled ><label for='section-aac105c9-fb63-4dee-a898-cc3e85a4477e' class='xr-section-summary'  title='Expand/collapse section'>Attributes: <span>(0)</span></label><div class='xr-section-inline-details'></div><div class='xr-section-details'><dl class='xr-attrs'></dl></div></li></ul></div></div>"
      ],
      "text/plain": [
       "<xarray.Dataset> Size: 13kB\n",
       "Dimensions:                     (nodes: 4, techs: 12, carriers: 3,\n",
       "                                 timesteps: 1, costs: 1)\n",
       "Coordinates:\n",
       "  * techs                       (techs) object 96B 'N1_to_X2' ... 'supply_gri...\n",
       "  * nodes                       (nodes) object 32B 'N1' 'X1' 'X2' 'X3'\n",
       "  * carriers                    (carriers) object 24B 'electricity' 'gas' 'heat'\n",
       "  * timesteps                   (timesteps) datetime64[ns] 8B 2050-01-01\n",
       "  * costs                       (costs) object 8B 'monetary'\n",
       "Data variables: (12/24)\n",
       "    flow_cap                    (nodes, techs, carriers) float64 1kB nan ... nan\n",
       "    link_flow_cap               (techs) float64 96B 89.05 0.0 96.08 ... nan nan\n",
       "    flow_out                    (nodes, techs, carriers, timesteps) float64 1kB ...\n",
       "    flow_in                     (nodes, techs, carriers, timesteps) float64 1kB ...\n",
       "    flow_export                 (nodes, techs, carriers, timesteps) float64 1kB ...\n",
       "    area_use                    (nodes, techs) float64 384B nan nan ... nan nan\n",
       "    ...                          ...\n",
       "    min_cost_optimisation       float64 8B 11.91\n",
       "    capacity_factor             (nodes, techs, carriers, timesteps) float64 1kB ...\n",
       "    systemwide_capacity_factor  (techs, carriers) float64 288B 0.0 0.0 ... 0.0\n",
       "    systemwide_levelised_cost   (techs, costs, carriers) float64 288B nan ......\n",
       "    total_levelised_cost        (costs, carriers) float64 24B 0.09487 ... 0.0...\n",
       "    unmet_sum                   (nodes, carriers, timesteps) float64 96B nan ..."
      ]
     },
     "execution_count": 44,
     "metadata": {},
     "output_type": "execute_result"
    }
   ],
   "source": [
    "model.results"
   ]
  },
  {
   "cell_type": "code",
   "execution_count": 45,
   "id": "8dfe29ad",
   "metadata": {},
   "outputs": [
    {
     "data": {
      "text/html": [
       "<div>\n",
       "<style scoped>\n",
       "    .dataframe tbody tr th:only-of-type {\n",
       "        vertical-align: middle;\n",
       "    }\n",
       "\n",
       "    .dataframe tbody tr th {\n",
       "        vertical-align: top;\n",
       "    }\n",
       "\n",
       "    .dataframe thead th {\n",
       "        text-align: right;\n",
       "    }\n",
       "</style>\n",
       "<table border=\"1\" class=\"dataframe\">\n",
       "  <thead>\n",
       "    <tr style=\"text-align: right;\">\n",
       "      <th>techs</th>\n",
       "      <th>N1_to_X2</th>\n",
       "      <th>N1_to_X3</th>\n",
       "      <th>X1_to_N1</th>\n",
       "      <th>boiler</th>\n",
       "      <th>chp</th>\n",
       "    </tr>\n",
       "    <tr>\n",
       "      <th>timesteps</th>\n",
       "      <th></th>\n",
       "      <th></th>\n",
       "      <th></th>\n",
       "      <th></th>\n",
       "      <th></th>\n",
       "    </tr>\n",
       "  </thead>\n",
       "  <tbody>\n",
       "    <tr>\n",
       "      <th>2050-01-01</th>\n",
       "      <td>82.540712</td>\n",
       "      <td>0.0</td>\n",
       "      <td>89.054191</td>\n",
       "      <td>70.84353</td>\n",
       "      <td>100.430149</td>\n",
       "    </tr>\n",
       "  </tbody>\n",
       "</table>\n",
       "</div>"
      ],
      "text/plain": [
       "techs        N1_to_X2  N1_to_X3   X1_to_N1    boiler         chp\n",
       "timesteps                                                       \n",
       "2050-01-01  82.540712       0.0  89.054191  70.84353  100.430149"
      ]
     },
     "execution_count": 45,
     "metadata": {},
     "output_type": "execute_result"
    }
   ],
   "source": [
    "df_heat = (\n",
    "    model.results.flow_out.sel(carriers=\"heat\")\n",
    "    .sum(\"nodes\", min_count=1, skipna=True)\n",
    "    .to_series()\n",
    "    .dropna()\n",
    "    .unstack(\"techs\")\n",
    ")\n",
    "\n",
    "df_heat.head()"
   ]
  },
  {
   "cell_type": "code",
   "execution_count": 46,
   "id": "476767d1",
   "metadata": {},
   "outputs": [
    {
     "data": {
      "text/plain": [
       "nodes  techs     costs   \n",
       "N1     N1_to_X2  monetary    0.000504\n",
       "       N1_to_X3  monetary    0.000000\n",
       "       X1_to_N1  monetary    0.000544\n",
       "X1     X1_to_N1  monetary    0.000544\n",
       "       X1_to_X2  monetary    0.000065\n",
       "Name: cost, dtype: float64"
      ]
     },
     "execution_count": 46,
     "metadata": {},
     "output_type": "execute_result"
    }
   ],
   "source": [
    "costs = model.results.cost.to_series().dropna()\n",
    "costs.head()"
   ]
  },
  {
   "cell_type": "code",
   "execution_count": 47,
   "id": "6bc89a87",
   "metadata": {},
   "outputs": [
    {
     "data": {
      "text/plain": [
       "techs     costs   \n",
       "X1_to_X2  monetary    1.283292e-06\n",
       "X1_to_X3  monetary    6.416461e-07\n",
       "chp       monetary    1.343220e-02\n",
       "Name: systemwide_levelised_cost, dtype: float64"
      ]
     },
     "execution_count": 47,
     "metadata": {},
     "output_type": "execute_result"
    }
   ],
   "source": [
    "lcoes = (\n",
    "    model.results.systemwide_levelised_cost.sel(carriers=\"electricity\")\n",
    "    .to_series()\n",
    "    .dropna()\n",
    ")\n",
    "lcoes.head()"
   ]
  },
  {
   "cell_type": "code",
   "execution_count": 48,
   "id": "799372f7",
   "metadata": {},
   "outputs": [
    {
     "name": "stdout",
     "output_type": "stream",
     "text": [
      "                techs  timesteps  Flow in/out (kWh)\n",
      "0            X1_to_X2 2050-01-01          -2.077751\n",
      "1            X1_to_X3 2050-01-01          -0.420248\n",
      "2                 chp 2050-01-01         125.537687\n",
      "3  demand_electricity 2050-01-01        -123.039687\n"
     ]
    },
    {
     "data": {
      "application/vnd.plotly.v1+json": {
       "config": {
        "plotlyServerURL": "https://plot.ly"
       },
       "data": [
        {
         "hovertemplate": "techs=X1_to_X2<br>timesteps=%{x}<br>Flow in/out (kWh)=%{y}<extra></extra>",
         "legendgroup": "X1_to_X2",
         "marker": {
          "color": "#6783E3",
          "pattern": {
           "shape": ""
          }
         },
         "name": "X1_to_X2",
         "orientation": "v",
         "showlegend": true,
         "textposition": "auto",
         "type": "bar",
         "x": [
          "2050-01-01T00:00:00.000000000"
         ],
         "xaxis": "x",
         "y": {
          "bdata": "oHqrFjyfAMA=",
          "dtype": "f8"
         },
         "yaxis": "y"
        },
        {
         "hovertemplate": "techs=X1_to_X3<br>timesteps=%{x}<br>Flow in/out (kWh)=%{y}<extra></extra>",
         "legendgroup": "X1_to_X3",
         "marker": {
          "color": "#6783E3",
          "pattern": {
           "shape": ""
          }
         },
         "name": "X1_to_X3",
         "orientation": "v",
         "showlegend": true,
         "textposition": "auto",
         "type": "bar",
         "x": [
          "2050-01-01T00:00:00.000000000"
         ],
         "xaxis": "x",
         "y": {
          "bdata": "gG3WR1nl2r8=",
          "dtype": "f8"
         },
         "yaxis": "y"
        },
        {
         "hovertemplate": "techs=chp<br>timesteps=%{x}<br>Flow in/out (kWh)=%{y}<extra></extra>",
         "legendgroup": "chp",
         "marker": {
          "color": "#E4AB97",
          "pattern": {
           "shape": ""
          }
         },
         "name": "chp",
         "orientation": "v",
         "showlegend": true,
         "textposition": "auto",
         "type": "bar",
         "x": [
          "2050-01-01T00:00:00.000000000"
         ],
         "xaxis": "x",
         "y": {
          "bdata": "6MXjdWliX0A=",
          "dtype": "f8"
         },
         "yaxis": "y"
        },
        {
         "marker": {
          "color": "black"
         },
         "name": "demand",
         "type": "scatter",
         "x": [
          "2050-01-01T00:00:00.000000000"
         ],
         "y": {
          "bdata": "ppPmO4rCXkA=",
          "dtype": "f8"
         }
        }
       ],
       "layout": {
        "barmode": "relative",
        "legend": {
         "title": {
          "text": "techs"
         },
         "tracegroupgap": 0
        },
        "margin": {
         "t": 60
        },
        "template": {
         "data": {
          "bar": [
           {
            "error_x": {
             "color": "#2a3f5f"
            },
            "error_y": {
             "color": "#2a3f5f"
            },
            "marker": {
             "line": {
              "color": "#E5ECF6",
              "width": 0.5
             },
             "pattern": {
              "fillmode": "overlay",
              "size": 10,
              "solidity": 0.2
             }
            },
            "type": "bar"
           }
          ],
          "barpolar": [
           {
            "marker": {
             "line": {
              "color": "#E5ECF6",
              "width": 0.5
             },
             "pattern": {
              "fillmode": "overlay",
              "size": 10,
              "solidity": 0.2
             }
            },
            "type": "barpolar"
           }
          ],
          "carpet": [
           {
            "aaxis": {
             "endlinecolor": "#2a3f5f",
             "gridcolor": "white",
             "linecolor": "white",
             "minorgridcolor": "white",
             "startlinecolor": "#2a3f5f"
            },
            "baxis": {
             "endlinecolor": "#2a3f5f",
             "gridcolor": "white",
             "linecolor": "white",
             "minorgridcolor": "white",
             "startlinecolor": "#2a3f5f"
            },
            "type": "carpet"
           }
          ],
          "choropleth": [
           {
            "colorbar": {
             "outlinewidth": 0,
             "ticks": ""
            },
            "type": "choropleth"
           }
          ],
          "contour": [
           {
            "colorbar": {
             "outlinewidth": 0,
             "ticks": ""
            },
            "colorscale": [
             [
              0,
              "#0d0887"
             ],
             [
              0.1111111111111111,
              "#46039f"
             ],
             [
              0.2222222222222222,
              "#7201a8"
             ],
             [
              0.3333333333333333,
              "#9c179e"
             ],
             [
              0.4444444444444444,
              "#bd3786"
             ],
             [
              0.5555555555555556,
              "#d8576b"
             ],
             [
              0.6666666666666666,
              "#ed7953"
             ],
             [
              0.7777777777777778,
              "#fb9f3a"
             ],
             [
              0.8888888888888888,
              "#fdca26"
             ],
             [
              1,
              "#f0f921"
             ]
            ],
            "type": "contour"
           }
          ],
          "contourcarpet": [
           {
            "colorbar": {
             "outlinewidth": 0,
             "ticks": ""
            },
            "type": "contourcarpet"
           }
          ],
          "heatmap": [
           {
            "colorbar": {
             "outlinewidth": 0,
             "ticks": ""
            },
            "colorscale": [
             [
              0,
              "#0d0887"
             ],
             [
              0.1111111111111111,
              "#46039f"
             ],
             [
              0.2222222222222222,
              "#7201a8"
             ],
             [
              0.3333333333333333,
              "#9c179e"
             ],
             [
              0.4444444444444444,
              "#bd3786"
             ],
             [
              0.5555555555555556,
              "#d8576b"
             ],
             [
              0.6666666666666666,
              "#ed7953"
             ],
             [
              0.7777777777777778,
              "#fb9f3a"
             ],
             [
              0.8888888888888888,
              "#fdca26"
             ],
             [
              1,
              "#f0f921"
             ]
            ],
            "type": "heatmap"
           }
          ],
          "histogram": [
           {
            "marker": {
             "pattern": {
              "fillmode": "overlay",
              "size": 10,
              "solidity": 0.2
             }
            },
            "type": "histogram"
           }
          ],
          "histogram2d": [
           {
            "colorbar": {
             "outlinewidth": 0,
             "ticks": ""
            },
            "colorscale": [
             [
              0,
              "#0d0887"
             ],
             [
              0.1111111111111111,
              "#46039f"
             ],
             [
              0.2222222222222222,
              "#7201a8"
             ],
             [
              0.3333333333333333,
              "#9c179e"
             ],
             [
              0.4444444444444444,
              "#bd3786"
             ],
             [
              0.5555555555555556,
              "#d8576b"
             ],
             [
              0.6666666666666666,
              "#ed7953"
             ],
             [
              0.7777777777777778,
              "#fb9f3a"
             ],
             [
              0.8888888888888888,
              "#fdca26"
             ],
             [
              1,
              "#f0f921"
             ]
            ],
            "type": "histogram2d"
           }
          ],
          "histogram2dcontour": [
           {
            "colorbar": {
             "outlinewidth": 0,
             "ticks": ""
            },
            "colorscale": [
             [
              0,
              "#0d0887"
             ],
             [
              0.1111111111111111,
              "#46039f"
             ],
             [
              0.2222222222222222,
              "#7201a8"
             ],
             [
              0.3333333333333333,
              "#9c179e"
             ],
             [
              0.4444444444444444,
              "#bd3786"
             ],
             [
              0.5555555555555556,
              "#d8576b"
             ],
             [
              0.6666666666666666,
              "#ed7953"
             ],
             [
              0.7777777777777778,
              "#fb9f3a"
             ],
             [
              0.8888888888888888,
              "#fdca26"
             ],
             [
              1,
              "#f0f921"
             ]
            ],
            "type": "histogram2dcontour"
           }
          ],
          "mesh3d": [
           {
            "colorbar": {
             "outlinewidth": 0,
             "ticks": ""
            },
            "type": "mesh3d"
           }
          ],
          "parcoords": [
           {
            "line": {
             "colorbar": {
              "outlinewidth": 0,
              "ticks": ""
             }
            },
            "type": "parcoords"
           }
          ],
          "pie": [
           {
            "automargin": true,
            "type": "pie"
           }
          ],
          "scatter": [
           {
            "fillpattern": {
             "fillmode": "overlay",
             "size": 10,
             "solidity": 0.2
            },
            "type": "scatter"
           }
          ],
          "scatter3d": [
           {
            "line": {
             "colorbar": {
              "outlinewidth": 0,
              "ticks": ""
             }
            },
            "marker": {
             "colorbar": {
              "outlinewidth": 0,
              "ticks": ""
             }
            },
            "type": "scatter3d"
           }
          ],
          "scattercarpet": [
           {
            "marker": {
             "colorbar": {
              "outlinewidth": 0,
              "ticks": ""
             }
            },
            "type": "scattercarpet"
           }
          ],
          "scattergeo": [
           {
            "marker": {
             "colorbar": {
              "outlinewidth": 0,
              "ticks": ""
             }
            },
            "type": "scattergeo"
           }
          ],
          "scattergl": [
           {
            "marker": {
             "colorbar": {
              "outlinewidth": 0,
              "ticks": ""
             }
            },
            "type": "scattergl"
           }
          ],
          "scattermap": [
           {
            "marker": {
             "colorbar": {
              "outlinewidth": 0,
              "ticks": ""
             }
            },
            "type": "scattermap"
           }
          ],
          "scattermapbox": [
           {
            "marker": {
             "colorbar": {
              "outlinewidth": 0,
              "ticks": ""
             }
            },
            "type": "scattermapbox"
           }
          ],
          "scatterpolar": [
           {
            "marker": {
             "colorbar": {
              "outlinewidth": 0,
              "ticks": ""
             }
            },
            "type": "scatterpolar"
           }
          ],
          "scatterpolargl": [
           {
            "marker": {
             "colorbar": {
              "outlinewidth": 0,
              "ticks": ""
             }
            },
            "type": "scatterpolargl"
           }
          ],
          "scatterternary": [
           {
            "marker": {
             "colorbar": {
              "outlinewidth": 0,
              "ticks": ""
             }
            },
            "type": "scatterternary"
           }
          ],
          "surface": [
           {
            "colorbar": {
             "outlinewidth": 0,
             "ticks": ""
            },
            "colorscale": [
             [
              0,
              "#0d0887"
             ],
             [
              0.1111111111111111,
              "#46039f"
             ],
             [
              0.2222222222222222,
              "#7201a8"
             ],
             [
              0.3333333333333333,
              "#9c179e"
             ],
             [
              0.4444444444444444,
              "#bd3786"
             ],
             [
              0.5555555555555556,
              "#d8576b"
             ],
             [
              0.6666666666666666,
              "#ed7953"
             ],
             [
              0.7777777777777778,
              "#fb9f3a"
             ],
             [
              0.8888888888888888,
              "#fdca26"
             ],
             [
              1,
              "#f0f921"
             ]
            ],
            "type": "surface"
           }
          ],
          "table": [
           {
            "cells": {
             "fill": {
              "color": "#EBF0F8"
             },
             "line": {
              "color": "white"
             }
            },
            "header": {
             "fill": {
              "color": "#C8D4E3"
             },
             "line": {
              "color": "white"
             }
            },
            "type": "table"
           }
          ]
         },
         "layout": {
          "annotationdefaults": {
           "arrowcolor": "#2a3f5f",
           "arrowhead": 0,
           "arrowwidth": 1
          },
          "autotypenumbers": "strict",
          "coloraxis": {
           "colorbar": {
            "outlinewidth": 0,
            "ticks": ""
           }
          },
          "colorscale": {
           "diverging": [
            [
             0,
             "#8e0152"
            ],
            [
             0.1,
             "#c51b7d"
            ],
            [
             0.2,
             "#de77ae"
            ],
            [
             0.3,
             "#f1b6da"
            ],
            [
             0.4,
             "#fde0ef"
            ],
            [
             0.5,
             "#f7f7f7"
            ],
            [
             0.6,
             "#e6f5d0"
            ],
            [
             0.7,
             "#b8e186"
            ],
            [
             0.8,
             "#7fbc41"
            ],
            [
             0.9,
             "#4d9221"
            ],
            [
             1,
             "#276419"
            ]
           ],
           "sequential": [
            [
             0,
             "#0d0887"
            ],
            [
             0.1111111111111111,
             "#46039f"
            ],
            [
             0.2222222222222222,
             "#7201a8"
            ],
            [
             0.3333333333333333,
             "#9c179e"
            ],
            [
             0.4444444444444444,
             "#bd3786"
            ],
            [
             0.5555555555555556,
             "#d8576b"
            ],
            [
             0.6666666666666666,
             "#ed7953"
            ],
            [
             0.7777777777777778,
             "#fb9f3a"
            ],
            [
             0.8888888888888888,
             "#fdca26"
            ],
            [
             1,
             "#f0f921"
            ]
           ],
           "sequentialminus": [
            [
             0,
             "#0d0887"
            ],
            [
             0.1111111111111111,
             "#46039f"
            ],
            [
             0.2222222222222222,
             "#7201a8"
            ],
            [
             0.3333333333333333,
             "#9c179e"
            ],
            [
             0.4444444444444444,
             "#bd3786"
            ],
            [
             0.5555555555555556,
             "#d8576b"
            ],
            [
             0.6666666666666666,
             "#ed7953"
            ],
            [
             0.7777777777777778,
             "#fb9f3a"
            ],
            [
             0.8888888888888888,
             "#fdca26"
            ],
            [
             1,
             "#f0f921"
            ]
           ]
          },
          "colorway": [
           "#636efa",
           "#EF553B",
           "#00cc96",
           "#ab63fa",
           "#FFA15A",
           "#19d3f3",
           "#FF6692",
           "#B6E880",
           "#FF97FF",
           "#FECB52"
          ],
          "font": {
           "color": "#2a3f5f"
          },
          "geo": {
           "bgcolor": "white",
           "lakecolor": "white",
           "landcolor": "#E5ECF6",
           "showlakes": true,
           "showland": true,
           "subunitcolor": "white"
          },
          "hoverlabel": {
           "align": "left"
          },
          "hovermode": "closest",
          "mapbox": {
           "style": "light"
          },
          "paper_bgcolor": "white",
          "plot_bgcolor": "#E5ECF6",
          "polar": {
           "angularaxis": {
            "gridcolor": "white",
            "linecolor": "white",
            "ticks": ""
           },
           "bgcolor": "#E5ECF6",
           "radialaxis": {
            "gridcolor": "white",
            "linecolor": "white",
            "ticks": ""
           }
          },
          "scene": {
           "xaxis": {
            "backgroundcolor": "#E5ECF6",
            "gridcolor": "white",
            "gridwidth": 2,
            "linecolor": "white",
            "showbackground": true,
            "ticks": "",
            "zerolinecolor": "white"
           },
           "yaxis": {
            "backgroundcolor": "#E5ECF6",
            "gridcolor": "white",
            "gridwidth": 2,
            "linecolor": "white",
            "showbackground": true,
            "ticks": "",
            "zerolinecolor": "white"
           },
           "zaxis": {
            "backgroundcolor": "#E5ECF6",
            "gridcolor": "white",
            "gridwidth": 2,
            "linecolor": "white",
            "showbackground": true,
            "ticks": "",
            "zerolinecolor": "white"
           }
          },
          "shapedefaults": {
           "line": {
            "color": "#2a3f5f"
           }
          },
          "ternary": {
           "aaxis": {
            "gridcolor": "white",
            "linecolor": "white",
            "ticks": ""
           },
           "baxis": {
            "gridcolor": "white",
            "linecolor": "white",
            "ticks": ""
           },
           "bgcolor": "#E5ECF6",
           "caxis": {
            "gridcolor": "white",
            "linecolor": "white",
            "ticks": ""
           }
          },
          "title": {
           "x": 0.05
          },
          "xaxis": {
           "automargin": true,
           "gridcolor": "white",
           "linecolor": "white",
           "ticks": "",
           "title": {
            "standoff": 15
           },
           "zerolinecolor": "white",
           "zerolinewidth": 2
          },
          "yaxis": {
           "automargin": true,
           "gridcolor": "white",
           "linecolor": "white",
           "ticks": "",
           "title": {
            "standoff": 15
           },
           "zerolinecolor": "white",
           "zerolinewidth": 2
          }
         }
        },
        "xaxis": {
         "anchor": "y",
         "domain": [
          0,
          1
         ],
         "title": {
          "text": "timesteps"
         }
        },
        "yaxis": {
         "anchor": "x",
         "domain": [
          0,
          1
         ],
         "title": {
          "text": "Flow in/out (kWh)"
         }
        }
       }
      }
     },
     "metadata": {},
     "output_type": "display_data"
    }
   ],
   "source": [
    "# We set the color mapping to use in all our plots by extracting the colors defined in the technology definitions of our model.\n",
    "colors = model.inputs.color.to_series().to_dict()\n",
    "\n",
    "df_electricity = (\n",
    "    (model.results.flow_out.fillna(0) - model.results.flow_in.fillna(0))\n",
    "    .sel(carriers=\"electricity\")\n",
    "    .sum(\"nodes\")\n",
    "    .to_series()\n",
    "    .where(lambda x: x != 0)\n",
    "    .dropna()\n",
    "    .to_frame(\"Flow in/out (kWh)\")\n",
    "    .reset_index()\n",
    ")\n",
    "df_electricity_demand = df_electricity[df_electricity.techs == \"demand_electricity\"]\n",
    "df_electricity_other = df_electricity[df_electricity.techs != \"demand_electricity\"]\n",
    "\n",
    "print(df_electricity.head())\n",
    "\n",
    "fig1 = px.bar(\n",
    "    df_electricity_other,\n",
    "    x=\"timesteps\",\n",
    "    y=\"Flow in/out (kWh)\",\n",
    "    color=\"techs\",\n",
    "    color_discrete_map=colors,\n",
    ")\n",
    "fig1.add_scatter(\n",
    "    x=df_electricity_demand.timesteps,\n",
    "    y=-1 * df_electricity_demand[\"Flow in/out (kWh)\"],\n",
    "    marker_color=\"black\",\n",
    "    name=\"demand\",\n",
    ")"
   ]
  },
  {
   "cell_type": "code",
   "execution_count": 49,
   "id": "08df8cff",
   "metadata": {},
   "outputs": [
    {
     "name": "stdout",
     "output_type": "stream",
     "text": [
      "  nodes     techs     carriers  timesteps  Flow in/out (kWh)\n",
      "0    N1  N1_to_X2         heat 2050-01-01         -89.054191\n",
      "1    N1  X1_to_N1         heat 2050-01-01          89.054191\n",
      "2    X1  X1_to_N1         heat 2050-01-01         -96.081664\n",
      "3    X1  X1_to_X2  electricity 2050-01-01        -103.887566\n",
      "4    X1  X1_to_X3  electricity 2050-01-01         -21.012417\n"
     ]
    },
    {
     "data": {
      "application/vnd.plotly.v1+json": {
       "config": {
        "plotlyServerURL": "https://plot.ly"
       },
       "data": [
        {
         "hovertemplate": "techs=N1_to_X2<br>nodes=N1<br>carriers=heat<br>timesteps=%{x}<br>Flow in/out (kWh)=%{y}<extra></extra>",
         "legendgroup": "N1_to_X2",
         "marker": {
          "color": "#823739",
          "pattern": {
           "shape": ""
          }
         },
         "name": "N1_to_X2",
         "orientation": "v",
         "showlegend": true,
         "textposition": "auto",
         "type": "bar",
         "x": [
          "2050-01-01T00:00:00.000000000"
         ],
         "xaxis": "x7",
         "y": {
          "bdata": "SxU33HdDVsA=",
          "dtype": "f8"
         },
         "yaxis": "y7"
        },
        {
         "hovertemplate": "techs=X1_to_N1<br>nodes=N1<br>carriers=heat<br>timesteps=%{x}<br>Flow in/out (kWh)=%{y}<extra></extra>",
         "legendgroup": "X1_to_N1",
         "marker": {
          "color": "#823739",
          "pattern": {
           "shape": ""
          }
         },
         "name": "X1_to_N1",
         "orientation": "v",
         "showlegend": true,
         "textposition": "auto",
         "type": "bar",
         "x": [
          "2050-01-01T00:00:00.000000000"
         ],
         "xaxis": "x7",
         "y": {
          "bdata": "ShU33HdDVkA=",
          "dtype": "f8"
         },
         "yaxis": "y7"
        },
        {
         "hovertemplate": "techs=X1_to_N1<br>nodes=X1<br>carriers=heat<br>timesteps=%{x}<br>Flow in/out (kWh)=%{y}<extra></extra>",
         "legendgroup": "X1_to_N1",
         "marker": {
          "color": "#823739",
          "pattern": {
           "shape": ""
          }
         },
         "name": "X1_to_N1",
         "orientation": "v",
         "showlegend": false,
         "textposition": "auto",
         "type": "bar",
         "x": [
          "2050-01-01T00:00:00.000000000"
         ],
         "xaxis": "x5",
         "y": {
          "bdata": "9LcG+jkFWMA=",
          "dtype": "f8"
         },
         "yaxis": "y5"
        },
        {
         "hovertemplate": "techs=chp<br>nodes=X1<br>carriers=heat<br>timesteps=%{x}<br>Flow in/out (kWh)=%{y}<extra></extra>",
         "legendgroup": "chp",
         "marker": {
          "color": "#E4AB97",
          "pattern": {
           "shape": ""
          }
         },
         "name": "chp",
         "orientation": "v",
         "showlegend": true,
         "textposition": "auto",
         "type": "bar",
         "x": [
          "2050-01-01T00:00:00.000000000"
         ],
         "xaxis": "x5",
         "y": {
          "bdata": "ugSDkYcbWUA=",
          "dtype": "f8"
         },
         "yaxis": "y5"
        },
        {
         "hovertemplate": "techs=X1_to_X2<br>nodes=X1<br>carriers=electricity<br>timesteps=%{x}<br>Flow in/out (kWh)=%{y}<extra></extra>",
         "legendgroup": "X1_to_X2",
         "marker": {
          "color": "#6783E3",
          "pattern": {
           "shape": ""
          }
         },
         "name": "X1_to_X2",
         "orientation": "v",
         "showlegend": true,
         "textposition": "auto",
         "type": "bar",
         "x": [
          "2050-01-01T00:00:00.000000000"
         ],
         "xaxis": "x6",
         "y": {
          "bdata": "eu9r4834WcA=",
          "dtype": "f8"
         },
         "yaxis": "y6"
        },
        {
         "hovertemplate": "techs=X1_to_X3<br>nodes=X1<br>carriers=electricity<br>timesteps=%{x}<br>Flow in/out (kWh)=%{y}<extra></extra>",
         "legendgroup": "X1_to_X3",
         "marker": {
          "color": "#6783E3",
          "pattern": {
           "shape": ""
          }
         },
         "name": "X1_to_X3",
         "orientation": "v",
         "showlegend": true,
         "textposition": "auto",
         "type": "bar",
         "x": [
          "2050-01-01T00:00:00.000000000"
         ],
         "xaxis": "x6",
         "y": {
          "bdata": "gIUfwC0DNcA=",
          "dtype": "f8"
         },
         "yaxis": "y6"
        },
        {
         "hovertemplate": "techs=chp<br>nodes=X1<br>carriers=electricity<br>timesteps=%{x}<br>Flow in/out (kWh)=%{y}<extra></extra>",
         "legendgroup": "chp",
         "marker": {
          "color": "#E4AB97",
          "pattern": {
           "shape": ""
          }
         },
         "name": "chp",
         "orientation": "v",
         "showlegend": false,
         "textposition": "auto",
         "type": "bar",
         "x": [
          "2050-01-01T00:00:00.000000000"
         ],
         "xaxis": "x6",
         "y": {
          "bdata": "6MXjdWliX0A=",
          "dtype": "f8"
         },
         "yaxis": "y6"
        },
        {
         "hovertemplate": "techs=N1_to_X2<br>nodes=X2<br>carriers=heat<br>timesteps=%{x}<br>Flow in/out (kWh)=%{y}<extra></extra>",
         "legendgroup": "N1_to_X2",
         "marker": {
          "color": "#823739",
          "pattern": {
           "shape": ""
          }
         },
         "name": "N1_to_X2",
         "orientation": "v",
         "showlegend": false,
         "textposition": "auto",
         "type": "bar",
         "x": [
          "2050-01-01T00:00:00.000000000"
         ],
         "xaxis": "x3",
         "y": {
          "bdata": "NBp/BJuiVEA=",
          "dtype": "f8"
         },
         "yaxis": "y3"
        },
        {
         "hovertemplate": "techs=boiler<br>nodes=X2<br>carriers=heat<br>timesteps=%{x}<br>Flow in/out (kWh)=%{y}<extra></extra>",
         "legendgroup": "boiler",
         "marker": {
          "color": "#8E2999",
          "pattern": {
           "shape": ""
          }
         },
         "name": "boiler",
         "orientation": "v",
         "showlegend": true,
         "textposition": "auto",
         "type": "bar",
         "x": [
          "2050-01-01T00:00:00.000000000"
         ],
         "xaxis": "x3",
         "y": {
          "bdata": "/DbJFbXVRkA=",
          "dtype": "f8"
         },
         "yaxis": "y3"
        },
        {
         "hovertemplate": "techs=X1_to_X2<br>nodes=X2<br>carriers=electricity<br>timesteps=%{x}<br>Flow in/out (kWh)=%{y}<extra></extra>",
         "legendgroup": "X1_to_X2",
         "marker": {
          "color": "#6783E3",
          "pattern": {
           "shape": ""
          }
         },
         "name": "X1_to_X2",
         "orientation": "v",
         "showlegend": false,
         "textposition": "auto",
         "type": "bar",
         "x": [
          "2050-01-01T00:00:00.000000000"
         ],
         "xaxis": "x4",
         "y": {
          "bdata": "pZO2AtRzWUA=",
          "dtype": "f8"
         },
         "yaxis": "y4"
        },
        {
         "hovertemplate": "techs=boiler<br>nodes=X3<br>carriers=heat<br>timesteps=%{x}<br>Flow in/out (kWh)=%{y}<extra></extra>",
         "legendgroup": "boiler",
         "marker": {
          "color": "#8E2999",
          "pattern": {
           "shape": ""
          }
         },
         "name": "boiler",
         "orientation": "v",
         "showlegend": false,
         "textposition": "auto",
         "type": "bar",
         "x": [
          "2050-01-01T00:00:00.000000000"
         ],
         "xaxis": "x",
         "y": {
          "bdata": "AkrgYocsOUA=",
          "dtype": "f8"
         },
         "yaxis": "y"
        },
        {
         "hovertemplate": "techs=X1_to_X3<br>nodes=X3<br>carriers=electricity<br>timesteps=%{x}<br>Flow in/out (kWh)=%{y}<extra></extra>",
         "legendgroup": "X1_to_X3",
         "marker": {
          "color": "#6783E3",
          "pattern": {
           "shape": ""
          }
         },
         "name": "X1_to_X3",
         "orientation": "v",
         "showlegend": false,
         "textposition": "auto",
         "type": "bar",
         "x": [
          "2050-01-01T00:00:00.000000000"
         ],
         "xaxis": "x2",
         "y": {
          "bdata": "yisAW5iXNEA=",
          "dtype": "f8"
         },
         "yaxis": "y2"
        },
        {
         "legendgroup": "demand",
         "marker": {
          "color": "black"
         },
         "name": "Demand",
         "showlegend": true,
         "type": "scatter",
         "x": [
          "2050-01-01T00:00:00.000000000"
         ],
         "xaxis": "x",
         "y": {
          "bdata": "AkrgYocsOUA=",
          "dtype": "f8"
         },
         "yaxis": "y"
        },
        {
         "legendgroup": "demand",
         "marker": {
          "color": "black"
         },
         "name": "Demand",
         "showlegend": false,
         "type": "scatter",
         "x": [
          "2050-01-01T00:00:00.000000000"
         ],
         "xaxis": "x2",
         "y": {
          "bdata": "yisAW5iXNEA=",
          "dtype": "f8"
         },
         "yaxis": "y2"
        },
        {
         "legendgroup": "demand",
         "marker": {
          "color": "black"
         },
         "name": "Demand",
         "showlegend": false,
         "type": "scatter",
         "x": [
          "2050-01-01T00:00:00.000000000"
         ],
         "xaxis": "x3",
         "y": {
          "bdata": "2dqxx7oGYEA=",
          "dtype": "f8"
         },
         "yaxis": "y3"
        },
        {
         "legendgroup": "demand",
         "marker": {
          "color": "black"
         },
         "name": "Demand",
         "showlegend": false,
         "type": "scatter",
         "x": [
          "2050-01-01T00:00:00.000000000"
         ],
         "xaxis": "x4",
         "y": {
          "bdata": "pZO2AtRzWUA=",
          "dtype": "f8"
         },
         "yaxis": "y4"
        },
        {
         "legendgroup": "demand",
         "marker": {
          "color": "black"
         },
         "name": "Demand",
         "showlegend": false,
         "type": "scatter",
         "x": [
          "2050-01-01T00:00:00.000000000"
         ],
         "xaxis": "x5",
         "y": {
          "bdata": "Z8zEd9lkEUA=",
          "dtype": "f8"
         },
         "yaxis": "y5"
        },
        {
         "legendgroup": "demand",
         "marker": {
          "color": "black"
         },
         "name": "Demand",
         "showlegend": false,
         "type": "scatter",
         "x": [
          "2050-01-01T00:00:00.000000000"
         ],
         "xaxis": "x6",
         "y": {
          "bdata": "CYf6NxFo5D8=",
          "dtype": "f8"
         },
         "yaxis": "y6"
        }
       ],
       "layout": {
        "annotations": [
         {
          "font": {},
          "showarrow": false,
          "text": "carriers=heat",
          "x": 0.24,
          "xanchor": "center",
          "xref": "paper",
          "y": 1,
          "yanchor": "bottom",
          "yref": "paper"
         },
         {
          "font": {},
          "showarrow": false,
          "text": "carriers=electricity",
          "x": 0.74,
          "xanchor": "center",
          "xref": "paper",
          "y": 1,
          "yanchor": "bottom",
          "yref": "paper"
         },
         {
          "font": {},
          "showarrow": false,
          "text": "nodes=X3",
          "textangle": 90,
          "x": 0.98,
          "xanchor": "left",
          "xref": "paper",
          "y": 0.11375,
          "yanchor": "middle",
          "yref": "paper"
         },
         {
          "font": {},
          "showarrow": false,
          "text": "nodes=X2",
          "textangle": 90,
          "x": 0.98,
          "xanchor": "left",
          "xref": "paper",
          "y": 0.37124999999999997,
          "yanchor": "middle",
          "yref": "paper"
         },
         {
          "font": {},
          "showarrow": false,
          "text": "nodes=X1",
          "textangle": 90,
          "x": 0.98,
          "xanchor": "left",
          "xref": "paper",
          "y": 0.62875,
          "yanchor": "middle",
          "yref": "paper"
         },
         {
          "font": {},
          "showarrow": false,
          "text": "nodes=N1",
          "textangle": 90,
          "x": 0.98,
          "xanchor": "left",
          "xref": "paper",
          "y": 0.88625,
          "yanchor": "middle",
          "yref": "paper"
         }
        ],
        "barmode": "relative",
        "height": 1000,
        "legend": {
         "title": {
          "text": "techs"
         },
         "tracegroupgap": 0
        },
        "margin": {
         "t": 60
        },
        "template": {
         "data": {
          "bar": [
           {
            "error_x": {
             "color": "#2a3f5f"
            },
            "error_y": {
             "color": "#2a3f5f"
            },
            "marker": {
             "line": {
              "color": "#E5ECF6",
              "width": 0.5
             },
             "pattern": {
              "fillmode": "overlay",
              "size": 10,
              "solidity": 0.2
             }
            },
            "type": "bar"
           }
          ],
          "barpolar": [
           {
            "marker": {
             "line": {
              "color": "#E5ECF6",
              "width": 0.5
             },
             "pattern": {
              "fillmode": "overlay",
              "size": 10,
              "solidity": 0.2
             }
            },
            "type": "barpolar"
           }
          ],
          "carpet": [
           {
            "aaxis": {
             "endlinecolor": "#2a3f5f",
             "gridcolor": "white",
             "linecolor": "white",
             "minorgridcolor": "white",
             "startlinecolor": "#2a3f5f"
            },
            "baxis": {
             "endlinecolor": "#2a3f5f",
             "gridcolor": "white",
             "linecolor": "white",
             "minorgridcolor": "white",
             "startlinecolor": "#2a3f5f"
            },
            "type": "carpet"
           }
          ],
          "choropleth": [
           {
            "colorbar": {
             "outlinewidth": 0,
             "ticks": ""
            },
            "type": "choropleth"
           }
          ],
          "contour": [
           {
            "colorbar": {
             "outlinewidth": 0,
             "ticks": ""
            },
            "colorscale": [
             [
              0,
              "#0d0887"
             ],
             [
              0.1111111111111111,
              "#46039f"
             ],
             [
              0.2222222222222222,
              "#7201a8"
             ],
             [
              0.3333333333333333,
              "#9c179e"
             ],
             [
              0.4444444444444444,
              "#bd3786"
             ],
             [
              0.5555555555555556,
              "#d8576b"
             ],
             [
              0.6666666666666666,
              "#ed7953"
             ],
             [
              0.7777777777777778,
              "#fb9f3a"
             ],
             [
              0.8888888888888888,
              "#fdca26"
             ],
             [
              1,
              "#f0f921"
             ]
            ],
            "type": "contour"
           }
          ],
          "contourcarpet": [
           {
            "colorbar": {
             "outlinewidth": 0,
             "ticks": ""
            },
            "type": "contourcarpet"
           }
          ],
          "heatmap": [
           {
            "colorbar": {
             "outlinewidth": 0,
             "ticks": ""
            },
            "colorscale": [
             [
              0,
              "#0d0887"
             ],
             [
              0.1111111111111111,
              "#46039f"
             ],
             [
              0.2222222222222222,
              "#7201a8"
             ],
             [
              0.3333333333333333,
              "#9c179e"
             ],
             [
              0.4444444444444444,
              "#bd3786"
             ],
             [
              0.5555555555555556,
              "#d8576b"
             ],
             [
              0.6666666666666666,
              "#ed7953"
             ],
             [
              0.7777777777777778,
              "#fb9f3a"
             ],
             [
              0.8888888888888888,
              "#fdca26"
             ],
             [
              1,
              "#f0f921"
             ]
            ],
            "type": "heatmap"
           }
          ],
          "histogram": [
           {
            "marker": {
             "pattern": {
              "fillmode": "overlay",
              "size": 10,
              "solidity": 0.2
             }
            },
            "type": "histogram"
           }
          ],
          "histogram2d": [
           {
            "colorbar": {
             "outlinewidth": 0,
             "ticks": ""
            },
            "colorscale": [
             [
              0,
              "#0d0887"
             ],
             [
              0.1111111111111111,
              "#46039f"
             ],
             [
              0.2222222222222222,
              "#7201a8"
             ],
             [
              0.3333333333333333,
              "#9c179e"
             ],
             [
              0.4444444444444444,
              "#bd3786"
             ],
             [
              0.5555555555555556,
              "#d8576b"
             ],
             [
              0.6666666666666666,
              "#ed7953"
             ],
             [
              0.7777777777777778,
              "#fb9f3a"
             ],
             [
              0.8888888888888888,
              "#fdca26"
             ],
             [
              1,
              "#f0f921"
             ]
            ],
            "type": "histogram2d"
           }
          ],
          "histogram2dcontour": [
           {
            "colorbar": {
             "outlinewidth": 0,
             "ticks": ""
            },
            "colorscale": [
             [
              0,
              "#0d0887"
             ],
             [
              0.1111111111111111,
              "#46039f"
             ],
             [
              0.2222222222222222,
              "#7201a8"
             ],
             [
              0.3333333333333333,
              "#9c179e"
             ],
             [
              0.4444444444444444,
              "#bd3786"
             ],
             [
              0.5555555555555556,
              "#d8576b"
             ],
             [
              0.6666666666666666,
              "#ed7953"
             ],
             [
              0.7777777777777778,
              "#fb9f3a"
             ],
             [
              0.8888888888888888,
              "#fdca26"
             ],
             [
              1,
              "#f0f921"
             ]
            ],
            "type": "histogram2dcontour"
           }
          ],
          "mesh3d": [
           {
            "colorbar": {
             "outlinewidth": 0,
             "ticks": ""
            },
            "type": "mesh3d"
           }
          ],
          "parcoords": [
           {
            "line": {
             "colorbar": {
              "outlinewidth": 0,
              "ticks": ""
             }
            },
            "type": "parcoords"
           }
          ],
          "pie": [
           {
            "automargin": true,
            "type": "pie"
           }
          ],
          "scatter": [
           {
            "fillpattern": {
             "fillmode": "overlay",
             "size": 10,
             "solidity": 0.2
            },
            "type": "scatter"
           }
          ],
          "scatter3d": [
           {
            "line": {
             "colorbar": {
              "outlinewidth": 0,
              "ticks": ""
             }
            },
            "marker": {
             "colorbar": {
              "outlinewidth": 0,
              "ticks": ""
             }
            },
            "type": "scatter3d"
           }
          ],
          "scattercarpet": [
           {
            "marker": {
             "colorbar": {
              "outlinewidth": 0,
              "ticks": ""
             }
            },
            "type": "scattercarpet"
           }
          ],
          "scattergeo": [
           {
            "marker": {
             "colorbar": {
              "outlinewidth": 0,
              "ticks": ""
             }
            },
            "type": "scattergeo"
           }
          ],
          "scattergl": [
           {
            "marker": {
             "colorbar": {
              "outlinewidth": 0,
              "ticks": ""
             }
            },
            "type": "scattergl"
           }
          ],
          "scattermap": [
           {
            "marker": {
             "colorbar": {
              "outlinewidth": 0,
              "ticks": ""
             }
            },
            "type": "scattermap"
           }
          ],
          "scattermapbox": [
           {
            "marker": {
             "colorbar": {
              "outlinewidth": 0,
              "ticks": ""
             }
            },
            "type": "scattermapbox"
           }
          ],
          "scatterpolar": [
           {
            "marker": {
             "colorbar": {
              "outlinewidth": 0,
              "ticks": ""
             }
            },
            "type": "scatterpolar"
           }
          ],
          "scatterpolargl": [
           {
            "marker": {
             "colorbar": {
              "outlinewidth": 0,
              "ticks": ""
             }
            },
            "type": "scatterpolargl"
           }
          ],
          "scatterternary": [
           {
            "marker": {
             "colorbar": {
              "outlinewidth": 0,
              "ticks": ""
             }
            },
            "type": "scatterternary"
           }
          ],
          "surface": [
           {
            "colorbar": {
             "outlinewidth": 0,
             "ticks": ""
            },
            "colorscale": [
             [
              0,
              "#0d0887"
             ],
             [
              0.1111111111111111,
              "#46039f"
             ],
             [
              0.2222222222222222,
              "#7201a8"
             ],
             [
              0.3333333333333333,
              "#9c179e"
             ],
             [
              0.4444444444444444,
              "#bd3786"
             ],
             [
              0.5555555555555556,
              "#d8576b"
             ],
             [
              0.6666666666666666,
              "#ed7953"
             ],
             [
              0.7777777777777778,
              "#fb9f3a"
             ],
             [
              0.8888888888888888,
              "#fdca26"
             ],
             [
              1,
              "#f0f921"
             ]
            ],
            "type": "surface"
           }
          ],
          "table": [
           {
            "cells": {
             "fill": {
              "color": "#EBF0F8"
             },
             "line": {
              "color": "white"
             }
            },
            "header": {
             "fill": {
              "color": "#C8D4E3"
             },
             "line": {
              "color": "white"
             }
            },
            "type": "table"
           }
          ]
         },
         "layout": {
          "annotationdefaults": {
           "arrowcolor": "#2a3f5f",
           "arrowhead": 0,
           "arrowwidth": 1
          },
          "autotypenumbers": "strict",
          "coloraxis": {
           "colorbar": {
            "outlinewidth": 0,
            "ticks": ""
           }
          },
          "colorscale": {
           "diverging": [
            [
             0,
             "#8e0152"
            ],
            [
             0.1,
             "#c51b7d"
            ],
            [
             0.2,
             "#de77ae"
            ],
            [
             0.3,
             "#f1b6da"
            ],
            [
             0.4,
             "#fde0ef"
            ],
            [
             0.5,
             "#f7f7f7"
            ],
            [
             0.6,
             "#e6f5d0"
            ],
            [
             0.7,
             "#b8e186"
            ],
            [
             0.8,
             "#7fbc41"
            ],
            [
             0.9,
             "#4d9221"
            ],
            [
             1,
             "#276419"
            ]
           ],
           "sequential": [
            [
             0,
             "#0d0887"
            ],
            [
             0.1111111111111111,
             "#46039f"
            ],
            [
             0.2222222222222222,
             "#7201a8"
            ],
            [
             0.3333333333333333,
             "#9c179e"
            ],
            [
             0.4444444444444444,
             "#bd3786"
            ],
            [
             0.5555555555555556,
             "#d8576b"
            ],
            [
             0.6666666666666666,
             "#ed7953"
            ],
            [
             0.7777777777777778,
             "#fb9f3a"
            ],
            [
             0.8888888888888888,
             "#fdca26"
            ],
            [
             1,
             "#f0f921"
            ]
           ],
           "sequentialminus": [
            [
             0,
             "#0d0887"
            ],
            [
             0.1111111111111111,
             "#46039f"
            ],
            [
             0.2222222222222222,
             "#7201a8"
            ],
            [
             0.3333333333333333,
             "#9c179e"
            ],
            [
             0.4444444444444444,
             "#bd3786"
            ],
            [
             0.5555555555555556,
             "#d8576b"
            ],
            [
             0.6666666666666666,
             "#ed7953"
            ],
            [
             0.7777777777777778,
             "#fb9f3a"
            ],
            [
             0.8888888888888888,
             "#fdca26"
            ],
            [
             1,
             "#f0f921"
            ]
           ]
          },
          "colorway": [
           "#636efa",
           "#EF553B",
           "#00cc96",
           "#ab63fa",
           "#FFA15A",
           "#19d3f3",
           "#FF6692",
           "#B6E880",
           "#FF97FF",
           "#FECB52"
          ],
          "font": {
           "color": "#2a3f5f"
          },
          "geo": {
           "bgcolor": "white",
           "lakecolor": "white",
           "landcolor": "#E5ECF6",
           "showlakes": true,
           "showland": true,
           "subunitcolor": "white"
          },
          "hoverlabel": {
           "align": "left"
          },
          "hovermode": "closest",
          "mapbox": {
           "style": "light"
          },
          "paper_bgcolor": "white",
          "plot_bgcolor": "#E5ECF6",
          "polar": {
           "angularaxis": {
            "gridcolor": "white",
            "linecolor": "white",
            "ticks": ""
           },
           "bgcolor": "#E5ECF6",
           "radialaxis": {
            "gridcolor": "white",
            "linecolor": "white",
            "ticks": ""
           }
          },
          "scene": {
           "xaxis": {
            "backgroundcolor": "#E5ECF6",
            "gridcolor": "white",
            "gridwidth": 2,
            "linecolor": "white",
            "showbackground": true,
            "ticks": "",
            "zerolinecolor": "white"
           },
           "yaxis": {
            "backgroundcolor": "#E5ECF6",
            "gridcolor": "white",
            "gridwidth": 2,
            "linecolor": "white",
            "showbackground": true,
            "ticks": "",
            "zerolinecolor": "white"
           },
           "zaxis": {
            "backgroundcolor": "#E5ECF6",
            "gridcolor": "white",
            "gridwidth": 2,
            "linecolor": "white",
            "showbackground": true,
            "ticks": "",
            "zerolinecolor": "white"
           }
          },
          "shapedefaults": {
           "line": {
            "color": "#2a3f5f"
           }
          },
          "ternary": {
           "aaxis": {
            "gridcolor": "white",
            "linecolor": "white",
            "ticks": ""
           },
           "baxis": {
            "gridcolor": "white",
            "linecolor": "white",
            "ticks": ""
           },
           "bgcolor": "#E5ECF6",
           "caxis": {
            "gridcolor": "white",
            "linecolor": "white",
            "ticks": ""
           }
          },
          "title": {
           "x": 0.05
          },
          "xaxis": {
           "automargin": true,
           "gridcolor": "white",
           "linecolor": "white",
           "ticks": "",
           "title": {
            "standoff": 15
           },
           "zerolinecolor": "white",
           "zerolinewidth": 2
          },
          "yaxis": {
           "automargin": true,
           "gridcolor": "white",
           "linecolor": "white",
           "ticks": "",
           "title": {
            "standoff": 15
           },
           "zerolinecolor": "white",
           "zerolinewidth": 2
          }
         }
        },
        "xaxis": {
         "anchor": "y",
         "domain": [
          0,
          0.48
         ],
         "title": {
          "text": "timesteps"
         }
        },
        "xaxis2": {
         "anchor": "y2",
         "domain": [
          0.5,
          0.98
         ],
         "matches": "x",
         "title": {
          "text": "timesteps"
         }
        },
        "xaxis3": {
         "anchor": "y3",
         "domain": [
          0,
          0.48
         ],
         "matches": "x",
         "showticklabels": false
        },
        "xaxis4": {
         "anchor": "y4",
         "domain": [
          0.5,
          0.98
         ],
         "matches": "x",
         "showticklabels": false
        },
        "xaxis5": {
         "anchor": "y5",
         "domain": [
          0,
          0.48
         ],
         "matches": "x",
         "showticklabels": false
        },
        "xaxis6": {
         "anchor": "y6",
         "domain": [
          0.5,
          0.98
         ],
         "matches": "x",
         "showticklabels": false
        },
        "xaxis7": {
         "anchor": "y7",
         "domain": [
          0,
          0.48
         ],
         "matches": "x",
         "showticklabels": false
        },
        "xaxis8": {
         "anchor": "y8",
         "domain": [
          0.5,
          0.98
         ],
         "matches": "x",
         "showticklabels": false
        },
        "yaxis": {
         "anchor": "x",
         "domain": [
          0,
          0.2275
         ],
         "title": {
          "text": "Flow in/out (kWh)"
         }
        },
        "yaxis2": {
         "anchor": "x2",
         "domain": [
          0,
          0.2275
         ],
         "showticklabels": false
        },
        "yaxis3": {
         "anchor": "x3",
         "domain": [
          0.2575,
          0.485
         ],
         "title": {
          "text": "Flow in/out (kWh)"
         }
        },
        "yaxis4": {
         "anchor": "x4",
         "domain": [
          0.2575,
          0.485
         ],
         "showticklabels": false
        },
        "yaxis5": {
         "anchor": "x5",
         "domain": [
          0.515,
          0.7425
         ],
         "title": {
          "text": "Flow in/out (kWh)"
         }
        },
        "yaxis6": {
         "anchor": "x6",
         "domain": [
          0.515,
          0.7425
         ],
         "showticklabels": false
        },
        "yaxis7": {
         "anchor": "x7",
         "domain": [
          0.7725,
          1
         ],
         "title": {
          "text": "Flow in/out (kWh)"
         }
        },
        "yaxis8": {
         "anchor": "x8",
         "domain": [
          0.7725,
          1
         ],
         "showticklabels": false
        }
       }
      }
     },
     "metadata": {},
     "output_type": "display_data"
    }
   ],
   "source": [
    "carriers = [\"heat\", \"electricity\"]\n",
    "df_flows = (\n",
    "    (model.results.flow_out.fillna(0) - model.results.flow_in.fillna(0))\n",
    "    .sel(carriers=carriers)\n",
    "    .to_series()\n",
    "    .where(lambda x: x != 0)\n",
    "    .dropna()\n",
    "    .to_frame(\"Flow in/out (kWh)\")\n",
    "    .reset_index()\n",
    ")\n",
    "df_demand = df_flows[df_flows.techs.str.contains(\"demand\")]\n",
    "df_flows_other = df_flows[~df_flows.techs.str.contains(\"demand\")]\n",
    "\n",
    "print(df_flows.head())\n",
    "\n",
    "node_order = df_flows_other.nodes.unique()\n",
    "\n",
    "fig = px.bar(\n",
    "    df_flows_other,\n",
    "    x=\"timesteps\",\n",
    "    y=\"Flow in/out (kWh)\",\n",
    "    facet_row=\"nodes\",\n",
    "    facet_col=\"carriers\",\n",
    "    color=\"techs\",\n",
    "    category_orders={\"nodes\": node_order, \"carriers\": carriers},\n",
    "    height=1000,\n",
    "    color_discrete_map=colors,\n",
    ")\n",
    "\n",
    "showlegend = True\n",
    "# we reverse the node order (`[::-1]`) because the rows are numbered from bottom to top.\n",
    "for row, node in enumerate(node_order[::-1]):\n",
    "    for col, carrier in enumerate(carriers):\n",
    "        demand_ = df_demand.loc[\n",
    "            (df_demand.nodes == node) & (df_demand.techs == f\"demand_{carrier}\"),\n",
    "            \"Flow in/out (kWh)\",\n",
    "        ]\n",
    "        if not demand_.empty:\n",
    "            fig.add_scatter(\n",
    "                x=model.results.timesteps.values,\n",
    "                y=-1 * demand_,\n",
    "                row=row + 1,\n",
    "                col=col + 1,\n",
    "                marker_color=\"black\",\n",
    "                name=\"Demand\",\n",
    "                legendgroup=\"demand\",\n",
    "                showlegend=showlegend,\n",
    "            )\n",
    "            showlegend = False\n",
    "fig.update_yaxes(matches=None)\n",
    "fig.show()"
   ]
  },
  {
   "cell_type": "code",
   "execution_count": 50,
   "id": "e8de5523",
   "metadata": {},
   "outputs": [
    {
     "name": "stdout",
     "output_type": "stream",
     "text": [
      "  nodes       techs     carriers  Flow capacity (kW)\n",
      "0    X1         chp  electricity          125.537687\n",
      "1    X1         chp          gas          309.969597\n",
      "2    X1         chp         heat          100.430149\n",
      "3    X1  supply_gas          gas          309.969597\n",
      "4    X2      boiler          gas           53.728928\n"
     ]
    },
    {
     "data": {
      "application/vnd.plotly.v1+json": {
       "config": {
        "plotlyServerURL": "https://plot.ly"
       },
       "data": [
        {
         "hovertemplate": "techs=chp<br>carriers=electricity<br>nodes=%{x}<br>Flow capacity (kW)=%{y}<extra></extra>",
         "legendgroup": "chp",
         "marker": {
          "color": "#E4AB97",
          "pattern": {
           "shape": ""
          }
         },
         "name": "chp",
         "orientation": "v",
         "showlegend": true,
         "textposition": "auto",
         "type": "bar",
         "x": [
          "X1"
         ],
         "xaxis": "x",
         "y": {
          "bdata": "6MXjdWliX0A=",
          "dtype": "f8"
         },
         "yaxis": "y"
        },
        {
         "hovertemplate": "techs=chp<br>carriers=gas<br>nodes=%{x}<br>Flow capacity (kW)=%{y}<extra></extra>",
         "legendgroup": "chp",
         "marker": {
          "color": "#E4AB97",
          "pattern": {
           "shape": ""
          }
         },
         "name": "chp",
         "orientation": "v",
         "showlegend": false,
         "textposition": "auto",
         "type": "bar",
         "x": [
          "X1"
         ],
         "xaxis": "x2",
         "y": {
          "bdata": "LckteINfc0A=",
          "dtype": "f8"
         },
         "yaxis": "y2"
        },
        {
         "hovertemplate": "techs=chp<br>carriers=heat<br>nodes=%{x}<br>Flow capacity (kW)=%{y}<extra></extra>",
         "legendgroup": "chp",
         "marker": {
          "color": "#E4AB97",
          "pattern": {
           "shape": ""
          }
         },
         "name": "chp",
         "orientation": "v",
         "showlegend": false,
         "textposition": "auto",
         "type": "bar",
         "x": [
          "X1"
         ],
         "xaxis": "x3",
         "y": {
          "bdata": "ugSDkYcbWUA=",
          "dtype": "f8"
         },
         "yaxis": "y3"
        },
        {
         "hovertemplate": "techs=supply_gas<br>carriers=gas<br>nodes=%{x}<br>Flow capacity (kW)=%{y}<extra></extra>",
         "legendgroup": "supply_gas",
         "marker": {
          "color": "#C98AAD",
          "pattern": {
           "shape": ""
          }
         },
         "name": "supply_gas",
         "orientation": "v",
         "showlegend": true,
         "textposition": "auto",
         "type": "bar",
         "x": [
          "X1",
          "X2",
          "X3"
         ],
         "xaxis": "x2",
         "y": {
          "bdata": "LckteINfc0BH1wqDTd1KQOUpU3TMnT1A",
          "dtype": "f8"
         },
         "yaxis": "y2"
        },
        {
         "hovertemplate": "techs=boiler<br>carriers=gas<br>nodes=%{x}<br>Flow capacity (kW)=%{y}<extra></extra>",
         "legendgroup": "boiler",
         "marker": {
          "color": "#8E2999",
          "pattern": {
           "shape": ""
          }
         },
         "name": "boiler",
         "orientation": "v",
         "showlegend": true,
         "textposition": "auto",
         "type": "bar",
         "x": [
          "X2",
          "X3"
         ],
         "xaxis": "x2",
         "y": {
          "bdata": "R9cKg03dSkDlKVN0zJ09QA==",
          "dtype": "f8"
         },
         "yaxis": "y2"
        },
        {
         "hovertemplate": "techs=boiler<br>carriers=heat<br>nodes=%{x}<br>Flow capacity (kW)=%{y}<extra></extra>",
         "legendgroup": "boiler",
         "marker": {
          "color": "#8E2999",
          "pattern": {
           "shape": ""
          }
         },
         "name": "boiler",
         "orientation": "v",
         "showlegend": false,
         "textposition": "auto",
         "type": "bar",
         "x": [
          "X2",
          "X3"
         ],
         "xaxis": "x3",
         "y": {
          "bdata": "/DbJFbXVRkACSuBihyw5QA==",
          "dtype": "f8"
         },
         "yaxis": "y3"
        }
       ],
       "layout": {
        "annotations": [
         {
          "font": {},
          "showarrow": false,
          "text": "carriers=electricity",
          "x": 0.15999999999999998,
          "xanchor": "center",
          "xref": "paper",
          "y": 1,
          "yanchor": "bottom",
          "yref": "paper"
         },
         {
          "font": {},
          "showarrow": false,
          "text": "carriers=gas",
          "x": 0.49999999999999994,
          "xanchor": "center",
          "xref": "paper",
          "y": 1,
          "yanchor": "bottom",
          "yref": "paper"
         },
         {
          "font": {},
          "showarrow": false,
          "text": "carriers=heat",
          "x": 0.8399999999999999,
          "xanchor": "center",
          "xref": "paper",
          "y": 1,
          "yanchor": "bottom",
          "yref": "paper"
         }
        ],
        "barmode": "relative",
        "legend": {
         "title": {
          "text": "techs"
         },
         "tracegroupgap": 0
        },
        "margin": {
         "t": 60
        },
        "template": {
         "data": {
          "bar": [
           {
            "error_x": {
             "color": "#2a3f5f"
            },
            "error_y": {
             "color": "#2a3f5f"
            },
            "marker": {
             "line": {
              "color": "#E5ECF6",
              "width": 0.5
             },
             "pattern": {
              "fillmode": "overlay",
              "size": 10,
              "solidity": 0.2
             }
            },
            "type": "bar"
           }
          ],
          "barpolar": [
           {
            "marker": {
             "line": {
              "color": "#E5ECF6",
              "width": 0.5
             },
             "pattern": {
              "fillmode": "overlay",
              "size": 10,
              "solidity": 0.2
             }
            },
            "type": "barpolar"
           }
          ],
          "carpet": [
           {
            "aaxis": {
             "endlinecolor": "#2a3f5f",
             "gridcolor": "white",
             "linecolor": "white",
             "minorgridcolor": "white",
             "startlinecolor": "#2a3f5f"
            },
            "baxis": {
             "endlinecolor": "#2a3f5f",
             "gridcolor": "white",
             "linecolor": "white",
             "minorgridcolor": "white",
             "startlinecolor": "#2a3f5f"
            },
            "type": "carpet"
           }
          ],
          "choropleth": [
           {
            "colorbar": {
             "outlinewidth": 0,
             "ticks": ""
            },
            "type": "choropleth"
           }
          ],
          "contour": [
           {
            "colorbar": {
             "outlinewidth": 0,
             "ticks": ""
            },
            "colorscale": [
             [
              0,
              "#0d0887"
             ],
             [
              0.1111111111111111,
              "#46039f"
             ],
             [
              0.2222222222222222,
              "#7201a8"
             ],
             [
              0.3333333333333333,
              "#9c179e"
             ],
             [
              0.4444444444444444,
              "#bd3786"
             ],
             [
              0.5555555555555556,
              "#d8576b"
             ],
             [
              0.6666666666666666,
              "#ed7953"
             ],
             [
              0.7777777777777778,
              "#fb9f3a"
             ],
             [
              0.8888888888888888,
              "#fdca26"
             ],
             [
              1,
              "#f0f921"
             ]
            ],
            "type": "contour"
           }
          ],
          "contourcarpet": [
           {
            "colorbar": {
             "outlinewidth": 0,
             "ticks": ""
            },
            "type": "contourcarpet"
           }
          ],
          "heatmap": [
           {
            "colorbar": {
             "outlinewidth": 0,
             "ticks": ""
            },
            "colorscale": [
             [
              0,
              "#0d0887"
             ],
             [
              0.1111111111111111,
              "#46039f"
             ],
             [
              0.2222222222222222,
              "#7201a8"
             ],
             [
              0.3333333333333333,
              "#9c179e"
             ],
             [
              0.4444444444444444,
              "#bd3786"
             ],
             [
              0.5555555555555556,
              "#d8576b"
             ],
             [
              0.6666666666666666,
              "#ed7953"
             ],
             [
              0.7777777777777778,
              "#fb9f3a"
             ],
             [
              0.8888888888888888,
              "#fdca26"
             ],
             [
              1,
              "#f0f921"
             ]
            ],
            "type": "heatmap"
           }
          ],
          "histogram": [
           {
            "marker": {
             "pattern": {
              "fillmode": "overlay",
              "size": 10,
              "solidity": 0.2
             }
            },
            "type": "histogram"
           }
          ],
          "histogram2d": [
           {
            "colorbar": {
             "outlinewidth": 0,
             "ticks": ""
            },
            "colorscale": [
             [
              0,
              "#0d0887"
             ],
             [
              0.1111111111111111,
              "#46039f"
             ],
             [
              0.2222222222222222,
              "#7201a8"
             ],
             [
              0.3333333333333333,
              "#9c179e"
             ],
             [
              0.4444444444444444,
              "#bd3786"
             ],
             [
              0.5555555555555556,
              "#d8576b"
             ],
             [
              0.6666666666666666,
              "#ed7953"
             ],
             [
              0.7777777777777778,
              "#fb9f3a"
             ],
             [
              0.8888888888888888,
              "#fdca26"
             ],
             [
              1,
              "#f0f921"
             ]
            ],
            "type": "histogram2d"
           }
          ],
          "histogram2dcontour": [
           {
            "colorbar": {
             "outlinewidth": 0,
             "ticks": ""
            },
            "colorscale": [
             [
              0,
              "#0d0887"
             ],
             [
              0.1111111111111111,
              "#46039f"
             ],
             [
              0.2222222222222222,
              "#7201a8"
             ],
             [
              0.3333333333333333,
              "#9c179e"
             ],
             [
              0.4444444444444444,
              "#bd3786"
             ],
             [
              0.5555555555555556,
              "#d8576b"
             ],
             [
              0.6666666666666666,
              "#ed7953"
             ],
             [
              0.7777777777777778,
              "#fb9f3a"
             ],
             [
              0.8888888888888888,
              "#fdca26"
             ],
             [
              1,
              "#f0f921"
             ]
            ],
            "type": "histogram2dcontour"
           }
          ],
          "mesh3d": [
           {
            "colorbar": {
             "outlinewidth": 0,
             "ticks": ""
            },
            "type": "mesh3d"
           }
          ],
          "parcoords": [
           {
            "line": {
             "colorbar": {
              "outlinewidth": 0,
              "ticks": ""
             }
            },
            "type": "parcoords"
           }
          ],
          "pie": [
           {
            "automargin": true,
            "type": "pie"
           }
          ],
          "scatter": [
           {
            "fillpattern": {
             "fillmode": "overlay",
             "size": 10,
             "solidity": 0.2
            },
            "type": "scatter"
           }
          ],
          "scatter3d": [
           {
            "line": {
             "colorbar": {
              "outlinewidth": 0,
              "ticks": ""
             }
            },
            "marker": {
             "colorbar": {
              "outlinewidth": 0,
              "ticks": ""
             }
            },
            "type": "scatter3d"
           }
          ],
          "scattercarpet": [
           {
            "marker": {
             "colorbar": {
              "outlinewidth": 0,
              "ticks": ""
             }
            },
            "type": "scattercarpet"
           }
          ],
          "scattergeo": [
           {
            "marker": {
             "colorbar": {
              "outlinewidth": 0,
              "ticks": ""
             }
            },
            "type": "scattergeo"
           }
          ],
          "scattergl": [
           {
            "marker": {
             "colorbar": {
              "outlinewidth": 0,
              "ticks": ""
             }
            },
            "type": "scattergl"
           }
          ],
          "scattermap": [
           {
            "marker": {
             "colorbar": {
              "outlinewidth": 0,
              "ticks": ""
             }
            },
            "type": "scattermap"
           }
          ],
          "scattermapbox": [
           {
            "marker": {
             "colorbar": {
              "outlinewidth": 0,
              "ticks": ""
             }
            },
            "type": "scattermapbox"
           }
          ],
          "scatterpolar": [
           {
            "marker": {
             "colorbar": {
              "outlinewidth": 0,
              "ticks": ""
             }
            },
            "type": "scatterpolar"
           }
          ],
          "scatterpolargl": [
           {
            "marker": {
             "colorbar": {
              "outlinewidth": 0,
              "ticks": ""
             }
            },
            "type": "scatterpolargl"
           }
          ],
          "scatterternary": [
           {
            "marker": {
             "colorbar": {
              "outlinewidth": 0,
              "ticks": ""
             }
            },
            "type": "scatterternary"
           }
          ],
          "surface": [
           {
            "colorbar": {
             "outlinewidth": 0,
             "ticks": ""
            },
            "colorscale": [
             [
              0,
              "#0d0887"
             ],
             [
              0.1111111111111111,
              "#46039f"
             ],
             [
              0.2222222222222222,
              "#7201a8"
             ],
             [
              0.3333333333333333,
              "#9c179e"
             ],
             [
              0.4444444444444444,
              "#bd3786"
             ],
             [
              0.5555555555555556,
              "#d8576b"
             ],
             [
              0.6666666666666666,
              "#ed7953"
             ],
             [
              0.7777777777777778,
              "#fb9f3a"
             ],
             [
              0.8888888888888888,
              "#fdca26"
             ],
             [
              1,
              "#f0f921"
             ]
            ],
            "type": "surface"
           }
          ],
          "table": [
           {
            "cells": {
             "fill": {
              "color": "#EBF0F8"
             },
             "line": {
              "color": "white"
             }
            },
            "header": {
             "fill": {
              "color": "#C8D4E3"
             },
             "line": {
              "color": "white"
             }
            },
            "type": "table"
           }
          ]
         },
         "layout": {
          "annotationdefaults": {
           "arrowcolor": "#2a3f5f",
           "arrowhead": 0,
           "arrowwidth": 1
          },
          "autotypenumbers": "strict",
          "coloraxis": {
           "colorbar": {
            "outlinewidth": 0,
            "ticks": ""
           }
          },
          "colorscale": {
           "diverging": [
            [
             0,
             "#8e0152"
            ],
            [
             0.1,
             "#c51b7d"
            ],
            [
             0.2,
             "#de77ae"
            ],
            [
             0.3,
             "#f1b6da"
            ],
            [
             0.4,
             "#fde0ef"
            ],
            [
             0.5,
             "#f7f7f7"
            ],
            [
             0.6,
             "#e6f5d0"
            ],
            [
             0.7,
             "#b8e186"
            ],
            [
             0.8,
             "#7fbc41"
            ],
            [
             0.9,
             "#4d9221"
            ],
            [
             1,
             "#276419"
            ]
           ],
           "sequential": [
            [
             0,
             "#0d0887"
            ],
            [
             0.1111111111111111,
             "#46039f"
            ],
            [
             0.2222222222222222,
             "#7201a8"
            ],
            [
             0.3333333333333333,
             "#9c179e"
            ],
            [
             0.4444444444444444,
             "#bd3786"
            ],
            [
             0.5555555555555556,
             "#d8576b"
            ],
            [
             0.6666666666666666,
             "#ed7953"
            ],
            [
             0.7777777777777778,
             "#fb9f3a"
            ],
            [
             0.8888888888888888,
             "#fdca26"
            ],
            [
             1,
             "#f0f921"
            ]
           ],
           "sequentialminus": [
            [
             0,
             "#0d0887"
            ],
            [
             0.1111111111111111,
             "#46039f"
            ],
            [
             0.2222222222222222,
             "#7201a8"
            ],
            [
             0.3333333333333333,
             "#9c179e"
            ],
            [
             0.4444444444444444,
             "#bd3786"
            ],
            [
             0.5555555555555556,
             "#d8576b"
            ],
            [
             0.6666666666666666,
             "#ed7953"
            ],
            [
             0.7777777777777778,
             "#fb9f3a"
            ],
            [
             0.8888888888888888,
             "#fdca26"
            ],
            [
             1,
             "#f0f921"
            ]
           ]
          },
          "colorway": [
           "#636efa",
           "#EF553B",
           "#00cc96",
           "#ab63fa",
           "#FFA15A",
           "#19d3f3",
           "#FF6692",
           "#B6E880",
           "#FF97FF",
           "#FECB52"
          ],
          "font": {
           "color": "#2a3f5f"
          },
          "geo": {
           "bgcolor": "white",
           "lakecolor": "white",
           "landcolor": "#E5ECF6",
           "showlakes": true,
           "showland": true,
           "subunitcolor": "white"
          },
          "hoverlabel": {
           "align": "left"
          },
          "hovermode": "closest",
          "mapbox": {
           "style": "light"
          },
          "paper_bgcolor": "white",
          "plot_bgcolor": "#E5ECF6",
          "polar": {
           "angularaxis": {
            "gridcolor": "white",
            "linecolor": "white",
            "ticks": ""
           },
           "bgcolor": "#E5ECF6",
           "radialaxis": {
            "gridcolor": "white",
            "linecolor": "white",
            "ticks": ""
           }
          },
          "scene": {
           "xaxis": {
            "backgroundcolor": "#E5ECF6",
            "gridcolor": "white",
            "gridwidth": 2,
            "linecolor": "white",
            "showbackground": true,
            "ticks": "",
            "zerolinecolor": "white"
           },
           "yaxis": {
            "backgroundcolor": "#E5ECF6",
            "gridcolor": "white",
            "gridwidth": 2,
            "linecolor": "white",
            "showbackground": true,
            "ticks": "",
            "zerolinecolor": "white"
           },
           "zaxis": {
            "backgroundcolor": "#E5ECF6",
            "gridcolor": "white",
            "gridwidth": 2,
            "linecolor": "white",
            "showbackground": true,
            "ticks": "",
            "zerolinecolor": "white"
           }
          },
          "shapedefaults": {
           "line": {
            "color": "#2a3f5f"
           }
          },
          "ternary": {
           "aaxis": {
            "gridcolor": "white",
            "linecolor": "white",
            "ticks": ""
           },
           "baxis": {
            "gridcolor": "white",
            "linecolor": "white",
            "ticks": ""
           },
           "bgcolor": "#E5ECF6",
           "caxis": {
            "gridcolor": "white",
            "linecolor": "white",
            "ticks": ""
           }
          },
          "title": {
           "x": 0.05
          },
          "xaxis": {
           "automargin": true,
           "gridcolor": "white",
           "linecolor": "white",
           "ticks": "",
           "title": {
            "standoff": 15
           },
           "zerolinecolor": "white",
           "zerolinewidth": 2
          },
          "yaxis": {
           "automargin": true,
           "gridcolor": "white",
           "linecolor": "white",
           "ticks": "",
           "title": {
            "standoff": 15
           },
           "zerolinecolor": "white",
           "zerolinewidth": 2
          }
         }
        },
        "xaxis": {
         "anchor": "y",
         "domain": [
          0,
          0.31999999999999995
         ],
         "title": {
          "text": "nodes"
         }
        },
        "xaxis2": {
         "anchor": "y2",
         "domain": [
          0.33999999999999997,
          0.6599999999999999
         ],
         "matches": "x",
         "title": {
          "text": "nodes"
         }
        },
        "xaxis3": {
         "anchor": "y3",
         "domain": [
          0.6799999999999999,
          0.9999999999999999
         ],
         "matches": "x",
         "title": {
          "text": "nodes"
         }
        },
        "yaxis": {
         "anchor": "x",
         "domain": [
          0,
          1
         ],
         "title": {
          "text": "Flow capacity (kW)"
         }
        },
        "yaxis2": {
         "anchor": "x2",
         "domain": [
          0,
          1
         ],
         "matches": "y",
         "showticklabels": false
        },
        "yaxis3": {
         "anchor": "x3",
         "domain": [
          0,
          1
         ],
         "matches": "y",
         "showticklabels": false
        }
       }
      }
     },
     "metadata": {},
     "output_type": "display_data"
    }
   ],
   "source": [
    "df_capacity = (\n",
    "    model.results.flow_cap.where(\n",
    "        ~model.inputs.base_tech.str.contains(\"demand|transmission\")\n",
    "    )\n",
    "    .to_series()\n",
    "    .where(lambda x: x != 0)\n",
    "    .dropna()\n",
    "    .to_frame(\"Flow capacity (kW)\")\n",
    "    .reset_index()\n",
    ")\n",
    "\n",
    "print(df_capacity.head())\n",
    "\n",
    "fig = px.bar(\n",
    "    df_capacity,\n",
    "    x=\"nodes\",\n",
    "    y=\"Flow capacity (kW)\",\n",
    "    color=\"techs\",\n",
    "    facet_col=\"carriers\",\n",
    "    color_discrete_map=colors,\n",
    ")\n",
    "fig.show()"
   ]
  },
  {
   "cell_type": "code",
   "execution_count": 66,
   "id": "e42a3199",
   "metadata": {},
   "outputs": [
    {
     "data": {
      "application/vnd.plotly.v1+json": {
       "config": {
        "plotlyServerURL": "https://plot.ly"
       },
       "data": [
        {
         "customdata": {
          "bdata": "SxU33HdDVkD0twb6OQVYQPS3Bvo5BVhASxU33HdDVkA=",
          "dtype": "f8",
          "shape": "4, 1"
         },
         "hovertemplate": "<b>%{hovertext}</b><br><br>carriers=heat<br>latitude=%{lat}<br>longitude=%{lon}<br>Flow capacity (kW)=%{customdata[0]}<extra></extra>",
         "hovertext": [
          "N1",
          "N1",
          "X1",
          "X2"
         ],
         "lat": {
          "bdata": "HooCfSL/SUAeigJ9Iv9JQJZ4QNmU/0lAwaikTkD/SUA=",
          "dtype": "f8"
         },
         "legendgroup": "heat",
         "line": {
          "color": "#636efa"
         },
         "lon": {
          "bdata": "j6omiLpvEUCPqiaIum8RQHS1FfvLbhFAUn5S7dNxEUA=",
          "dtype": "f8"
         },
         "mode": "lines",
         "name": "heat",
         "showlegend": true,
         "subplot": "map",
         "type": "scattermap"
        },
        {
         "customdata": {
          "bdata": "eu9r4834WUCAhR/ALQM1QHrva+PN+FlAgIUfwC0DNUA=",
          "dtype": "f8",
          "shape": "4, 1"
         },
         "hovertemplate": "<b>%{hovertext}</b><br><br>carriers=electricity<br>latitude=%{lat}<br>longitude=%{lon}<br>Flow capacity (kW)=%{customdata[0]}<extra></extra>",
         "hovertext": [
          "X1",
          "X1",
          "X2",
          "X3"
         ],
         "lat": {
          "bdata": "lnhA2ZT/SUCWeEDZlP9JQMGopE5A/0lArIvbaAD/SUA=",
          "dtype": "f8"
         },
         "legendgroup": "electricity",
         "line": {
          "color": "#EF553B"
         },
         "lon": {
          "bdata": "dLUV+8tuEUB0tRX7y24RQFJ+Uu3TcRFAbef7qfFyEUA=",
          "dtype": "f8"
         },
         "mode": "lines",
         "name": "electricity",
         "showlegend": true,
         "subplot": "map",
         "type": "scattermap"
        }
       ],
       "layout": {
        "height": 1200,
        "hoverdistance": 50,
        "legend": {
         "title": {
          "text": "carriers"
         },
         "tracegroupgap": 0
        },
        "map": {
         "center": {
          "lat": 51.99408,
          "lon": 4.360180000000001
         },
         "domain": {
          "x": [
           0,
           1
          ],
          "y": [
           0,
           1
          ]
         },
         "style": "open-street-map",
         "zoom": 16.2
        },
        "mapbox": {
         "center": {
          "lat": 51.99464625,
          "lon": 4.359673750000001
         },
         "zoom": 3
        },
        "margin": {
         "b": 0,
         "l": 0,
         "r": 0,
         "t": 0
        },
        "template": {
         "data": {
          "bar": [
           {
            "error_x": {
             "color": "#2a3f5f"
            },
            "error_y": {
             "color": "#2a3f5f"
            },
            "marker": {
             "line": {
              "color": "#E5ECF6",
              "width": 0.5
             },
             "pattern": {
              "fillmode": "overlay",
              "size": 10,
              "solidity": 0.2
             }
            },
            "type": "bar"
           }
          ],
          "barpolar": [
           {
            "marker": {
             "line": {
              "color": "#E5ECF6",
              "width": 0.5
             },
             "pattern": {
              "fillmode": "overlay",
              "size": 10,
              "solidity": 0.2
             }
            },
            "type": "barpolar"
           }
          ],
          "carpet": [
           {
            "aaxis": {
             "endlinecolor": "#2a3f5f",
             "gridcolor": "white",
             "linecolor": "white",
             "minorgridcolor": "white",
             "startlinecolor": "#2a3f5f"
            },
            "baxis": {
             "endlinecolor": "#2a3f5f",
             "gridcolor": "white",
             "linecolor": "white",
             "minorgridcolor": "white",
             "startlinecolor": "#2a3f5f"
            },
            "type": "carpet"
           }
          ],
          "choropleth": [
           {
            "colorbar": {
             "outlinewidth": 0,
             "ticks": ""
            },
            "type": "choropleth"
           }
          ],
          "contour": [
           {
            "colorbar": {
             "outlinewidth": 0,
             "ticks": ""
            },
            "colorscale": [
             [
              0,
              "#0d0887"
             ],
             [
              0.1111111111111111,
              "#46039f"
             ],
             [
              0.2222222222222222,
              "#7201a8"
             ],
             [
              0.3333333333333333,
              "#9c179e"
             ],
             [
              0.4444444444444444,
              "#bd3786"
             ],
             [
              0.5555555555555556,
              "#d8576b"
             ],
             [
              0.6666666666666666,
              "#ed7953"
             ],
             [
              0.7777777777777778,
              "#fb9f3a"
             ],
             [
              0.8888888888888888,
              "#fdca26"
             ],
             [
              1,
              "#f0f921"
             ]
            ],
            "type": "contour"
           }
          ],
          "contourcarpet": [
           {
            "colorbar": {
             "outlinewidth": 0,
             "ticks": ""
            },
            "type": "contourcarpet"
           }
          ],
          "heatmap": [
           {
            "colorbar": {
             "outlinewidth": 0,
             "ticks": ""
            },
            "colorscale": [
             [
              0,
              "#0d0887"
             ],
             [
              0.1111111111111111,
              "#46039f"
             ],
             [
              0.2222222222222222,
              "#7201a8"
             ],
             [
              0.3333333333333333,
              "#9c179e"
             ],
             [
              0.4444444444444444,
              "#bd3786"
             ],
             [
              0.5555555555555556,
              "#d8576b"
             ],
             [
              0.6666666666666666,
              "#ed7953"
             ],
             [
              0.7777777777777778,
              "#fb9f3a"
             ],
             [
              0.8888888888888888,
              "#fdca26"
             ],
             [
              1,
              "#f0f921"
             ]
            ],
            "type": "heatmap"
           }
          ],
          "histogram": [
           {
            "marker": {
             "pattern": {
              "fillmode": "overlay",
              "size": 10,
              "solidity": 0.2
             }
            },
            "type": "histogram"
           }
          ],
          "histogram2d": [
           {
            "colorbar": {
             "outlinewidth": 0,
             "ticks": ""
            },
            "colorscale": [
             [
              0,
              "#0d0887"
             ],
             [
              0.1111111111111111,
              "#46039f"
             ],
             [
              0.2222222222222222,
              "#7201a8"
             ],
             [
              0.3333333333333333,
              "#9c179e"
             ],
             [
              0.4444444444444444,
              "#bd3786"
             ],
             [
              0.5555555555555556,
              "#d8576b"
             ],
             [
              0.6666666666666666,
              "#ed7953"
             ],
             [
              0.7777777777777778,
              "#fb9f3a"
             ],
             [
              0.8888888888888888,
              "#fdca26"
             ],
             [
              1,
              "#f0f921"
             ]
            ],
            "type": "histogram2d"
           }
          ],
          "histogram2dcontour": [
           {
            "colorbar": {
             "outlinewidth": 0,
             "ticks": ""
            },
            "colorscale": [
             [
              0,
              "#0d0887"
             ],
             [
              0.1111111111111111,
              "#46039f"
             ],
             [
              0.2222222222222222,
              "#7201a8"
             ],
             [
              0.3333333333333333,
              "#9c179e"
             ],
             [
              0.4444444444444444,
              "#bd3786"
             ],
             [
              0.5555555555555556,
              "#d8576b"
             ],
             [
              0.6666666666666666,
              "#ed7953"
             ],
             [
              0.7777777777777778,
              "#fb9f3a"
             ],
             [
              0.8888888888888888,
              "#fdca26"
             ],
             [
              1,
              "#f0f921"
             ]
            ],
            "type": "histogram2dcontour"
           }
          ],
          "mesh3d": [
           {
            "colorbar": {
             "outlinewidth": 0,
             "ticks": ""
            },
            "type": "mesh3d"
           }
          ],
          "parcoords": [
           {
            "line": {
             "colorbar": {
              "outlinewidth": 0,
              "ticks": ""
             }
            },
            "type": "parcoords"
           }
          ],
          "pie": [
           {
            "automargin": true,
            "type": "pie"
           }
          ],
          "scatter": [
           {
            "fillpattern": {
             "fillmode": "overlay",
             "size": 10,
             "solidity": 0.2
            },
            "type": "scatter"
           }
          ],
          "scatter3d": [
           {
            "line": {
             "colorbar": {
              "outlinewidth": 0,
              "ticks": ""
             }
            },
            "marker": {
             "colorbar": {
              "outlinewidth": 0,
              "ticks": ""
             }
            },
            "type": "scatter3d"
           }
          ],
          "scattercarpet": [
           {
            "marker": {
             "colorbar": {
              "outlinewidth": 0,
              "ticks": ""
             }
            },
            "type": "scattercarpet"
           }
          ],
          "scattergeo": [
           {
            "marker": {
             "colorbar": {
              "outlinewidth": 0,
              "ticks": ""
             }
            },
            "type": "scattergeo"
           }
          ],
          "scattergl": [
           {
            "marker": {
             "colorbar": {
              "outlinewidth": 0,
              "ticks": ""
             }
            },
            "type": "scattergl"
           }
          ],
          "scattermap": [
           {
            "marker": {
             "colorbar": {
              "outlinewidth": 0,
              "ticks": ""
             }
            },
            "type": "scattermap"
           }
          ],
          "scattermapbox": [
           {
            "marker": {
             "colorbar": {
              "outlinewidth": 0,
              "ticks": ""
             }
            },
            "type": "scattermapbox"
           }
          ],
          "scatterpolar": [
           {
            "marker": {
             "colorbar": {
              "outlinewidth": 0,
              "ticks": ""
             }
            },
            "type": "scatterpolar"
           }
          ],
          "scatterpolargl": [
           {
            "marker": {
             "colorbar": {
              "outlinewidth": 0,
              "ticks": ""
             }
            },
            "type": "scatterpolargl"
           }
          ],
          "scatterternary": [
           {
            "marker": {
             "colorbar": {
              "outlinewidth": 0,
              "ticks": ""
             }
            },
            "type": "scatterternary"
           }
          ],
          "surface": [
           {
            "colorbar": {
             "outlinewidth": 0,
             "ticks": ""
            },
            "colorscale": [
             [
              0,
              "#0d0887"
             ],
             [
              0.1111111111111111,
              "#46039f"
             ],
             [
              0.2222222222222222,
              "#7201a8"
             ],
             [
              0.3333333333333333,
              "#9c179e"
             ],
             [
              0.4444444444444444,
              "#bd3786"
             ],
             [
              0.5555555555555556,
              "#d8576b"
             ],
             [
              0.6666666666666666,
              "#ed7953"
             ],
             [
              0.7777777777777778,
              "#fb9f3a"
             ],
             [
              0.8888888888888888,
              "#fdca26"
             ],
             [
              1,
              "#f0f921"
             ]
            ],
            "type": "surface"
           }
          ],
          "table": [
           {
            "cells": {
             "fill": {
              "color": "#EBF0F8"
             },
             "line": {
              "color": "white"
             }
            },
            "header": {
             "fill": {
              "color": "#C8D4E3"
             },
             "line": {
              "color": "white"
             }
            },
            "type": "table"
           }
          ]
         },
         "layout": {
          "annotationdefaults": {
           "arrowcolor": "#2a3f5f",
           "arrowhead": 0,
           "arrowwidth": 1
          },
          "autotypenumbers": "strict",
          "coloraxis": {
           "colorbar": {
            "outlinewidth": 0,
            "ticks": ""
           }
          },
          "colorscale": {
           "diverging": [
            [
             0,
             "#8e0152"
            ],
            [
             0.1,
             "#c51b7d"
            ],
            [
             0.2,
             "#de77ae"
            ],
            [
             0.3,
             "#f1b6da"
            ],
            [
             0.4,
             "#fde0ef"
            ],
            [
             0.5,
             "#f7f7f7"
            ],
            [
             0.6,
             "#e6f5d0"
            ],
            [
             0.7,
             "#b8e186"
            ],
            [
             0.8,
             "#7fbc41"
            ],
            [
             0.9,
             "#4d9221"
            ],
            [
             1,
             "#276419"
            ]
           ],
           "sequential": [
            [
             0,
             "#0d0887"
            ],
            [
             0.1111111111111111,
             "#46039f"
            ],
            [
             0.2222222222222222,
             "#7201a8"
            ],
            [
             0.3333333333333333,
             "#9c179e"
            ],
            [
             0.4444444444444444,
             "#bd3786"
            ],
            [
             0.5555555555555556,
             "#d8576b"
            ],
            [
             0.6666666666666666,
             "#ed7953"
            ],
            [
             0.7777777777777778,
             "#fb9f3a"
            ],
            [
             0.8888888888888888,
             "#fdca26"
            ],
            [
             1,
             "#f0f921"
            ]
           ],
           "sequentialminus": [
            [
             0,
             "#0d0887"
            ],
            [
             0.1111111111111111,
             "#46039f"
            ],
            [
             0.2222222222222222,
             "#7201a8"
            ],
            [
             0.3333333333333333,
             "#9c179e"
            ],
            [
             0.4444444444444444,
             "#bd3786"
            ],
            [
             0.5555555555555556,
             "#d8576b"
            ],
            [
             0.6666666666666666,
             "#ed7953"
            ],
            [
             0.7777777777777778,
             "#fb9f3a"
            ],
            [
             0.8888888888888888,
             "#fdca26"
            ],
            [
             1,
             "#f0f921"
            ]
           ]
          },
          "colorway": [
           "#636efa",
           "#EF553B",
           "#00cc96",
           "#ab63fa",
           "#FFA15A",
           "#19d3f3",
           "#FF6692",
           "#B6E880",
           "#FF97FF",
           "#FECB52"
          ],
          "font": {
           "color": "#2a3f5f"
          },
          "geo": {
           "bgcolor": "white",
           "lakecolor": "white",
           "landcolor": "#E5ECF6",
           "showlakes": true,
           "showland": true,
           "subunitcolor": "white"
          },
          "hoverlabel": {
           "align": "left"
          },
          "hovermode": "closest",
          "mapbox": {
           "style": "light"
          },
          "paper_bgcolor": "white",
          "plot_bgcolor": "#E5ECF6",
          "polar": {
           "angularaxis": {
            "gridcolor": "white",
            "linecolor": "white",
            "ticks": ""
           },
           "bgcolor": "#E5ECF6",
           "radialaxis": {
            "gridcolor": "white",
            "linecolor": "white",
            "ticks": ""
           }
          },
          "scene": {
           "xaxis": {
            "backgroundcolor": "#E5ECF6",
            "gridcolor": "white",
            "gridwidth": 2,
            "linecolor": "white",
            "showbackground": true,
            "ticks": "",
            "zerolinecolor": "white"
           },
           "yaxis": {
            "backgroundcolor": "#E5ECF6",
            "gridcolor": "white",
            "gridwidth": 2,
            "linecolor": "white",
            "showbackground": true,
            "ticks": "",
            "zerolinecolor": "white"
           },
           "zaxis": {
            "backgroundcolor": "#E5ECF6",
            "gridcolor": "white",
            "gridwidth": 2,
            "linecolor": "white",
            "showbackground": true,
            "ticks": "",
            "zerolinecolor": "white"
           }
          },
          "shapedefaults": {
           "line": {
            "color": "#2a3f5f"
           }
          },
          "ternary": {
           "aaxis": {
            "gridcolor": "white",
            "linecolor": "white",
            "ticks": ""
           },
           "baxis": {
            "gridcolor": "white",
            "linecolor": "white",
            "ticks": ""
           },
           "bgcolor": "#E5ECF6",
           "caxis": {
            "gridcolor": "white",
            "linecolor": "white",
            "ticks": ""
           }
          },
          "title": {
           "x": 0.05
          },
          "xaxis": {
           "automargin": true,
           "gridcolor": "white",
           "linecolor": "white",
           "ticks": "",
           "title": {
            "standoff": 15
           },
           "zerolinecolor": "white",
           "zerolinewidth": 2
          },
          "yaxis": {
           "automargin": true,
           "gridcolor": "white",
           "linecolor": "white",
           "ticks": "",
           "title": {
            "standoff": 15
           },
           "zerolinecolor": "white",
           "zerolinewidth": 2
          }
         }
        }
       }
      }
     },
     "metadata": {},
     "output_type": "display_data"
    }
   ],
   "source": [
    "df_coords = model.inputs[[\"latitude\", \"longitude\"]].to_dataframe().reset_index()\n",
    "df_capacity = (\n",
    "    model.results.flow_cap.where(model.inputs.base_tech == \"transmission\")\n",
    "    .to_series()\n",
    "    .where(lambda x: x != 0)\n",
    "    .dropna()\n",
    "    .to_frame(\"Flow capacity (kW)\")\n",
    "    .reset_index()\n",
    ")\n",
    "df_capacity_coords = pd.merge(df_coords, df_capacity, left_on=\"nodes\", right_on=\"nodes\")\n",
    "\n",
    "fig = px.line_map(\n",
    "    df_capacity_coords,\n",
    "    lat=\"latitude\",\n",
    "    lon=\"longitude\",\n",
    "    color=\"carriers\",\n",
    "    hover_name=\"nodes\",\n",
    "    hover_data=\"Flow capacity (kW)\",\n",
    "    zoom=3,\n",
    "    height=1200,\n",
    ")\n",
    "fig.update_layout(\n",
    "    map_style=\"open-street-map\",\n",
    "    map_zoom=16.2,\n",
    "    map_center_lat=df_coords.latitude.mean(),\n",
    "    map_center_lon=df_coords.longitude.mean(),\n",
    "    margin={\"r\": 0, \"t\": 0, \"l\": 0, \"b\": 0},\n",
    "    hoverdistance=50,\n",
    ")"
   ]
  }
 ],
 "metadata": {
  "kernelspec": {
   "display_name": "calliope",
   "language": "python",
   "name": "python3"
  },
  "language_info": {
   "codemirror_mode": {
    "name": "ipython",
    "version": 3
   },
   "file_extension": ".py",
   "mimetype": "text/x-python",
   "name": "python",
   "nbconvert_exporter": "python",
   "pygments_lexer": "ipython3",
   "version": "3.12.11"
  }
 },
 "nbformat": 4,
 "nbformat_minor": 5
}
